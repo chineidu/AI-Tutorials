{
 "cells": [
  {
   "cell_type": "code",
   "execution_count": 1,
   "id": "0e958c70",
   "metadata": {},
   "outputs": [],
   "source": [
    "# Built-in library\n",
    "import asyncio\n",
    "import json\n",
    "import logging\n",
    "import re\n",
    "import warnings\n",
    "from pathlib import Path\n",
    "from pprint import pprint\n",
    "from typing import Annotated, Any, Iterable, Literal, Optional, Union\n",
    "\n",
    "# Standard imports\n",
    "import nest_asyncio\n",
    "import numpy as np\n",
    "import numpy.typing as npt\n",
    "import pandas as pd\n",
    "import polars as pl\n",
    "from rich.console import Console\n",
    "from rich.theme import Theme\n",
    "\n",
    "custom_theme = Theme(\n",
    "    {\n",
    "        \"white\": \"#FFFFFF\",  # Bright white\n",
    "        \"info\": \"#00FF00\",  # Bright green\n",
    "        \"warning\": \"#FFD700\",  # Bright gold\n",
    "        \"error\": \"#FF1493\",  # Deep pink\n",
    "        \"success\": \"#00FFFF\",  # Cyan\n",
    "        \"highlight\": \"#FF4500\",  # Orange-red\n",
    "    }\n",
    ")\n",
    "console = Console(theme=custom_theme)\n",
    "\n",
    "# Visualization\n",
    "# import matplotlib.pyplot as pltife\n",
    "\n",
    "# NumPy settings\n",
    "np.set_printoptions(precision=4)\n",
    "\n",
    "# Pandas settings\n",
    "pd.options.display.max_rows = 1_000\n",
    "pd.options.display.max_columns = 1_000\n",
    "pd.options.display.max_colwidth = 600\n",
    "\n",
    "# Polars settings\n",
    "pl.Config.set_fmt_str_lengths(1_000)\n",
    "pl.Config.set_tbl_cols(n=1_000)\n",
    "\n",
    "warnings.filterwarnings(\"ignore\", category=UserWarning, module=\"numpy\")\n",
    "\n",
    "# Black code formatter (Optional)\n",
    "%load_ext lab_black\n",
    "\n",
    "# auto reload imports\n",
    "%load_ext autoreload\n",
    "%autoreload 2"
   ]
  },
  {
   "cell_type": "code",
   "execution_count": 2,
   "metadata": {},
   "outputs": [],
   "source": [
    "def go_up_from_current_directory(*, go_up: int = 1) -> None:\n",
    "    \"\"\"This is used to up a number of directories.\n",
    "\n",
    "    Params:\n",
    "    -------\n",
    "    go_up: int, default=1\n",
    "        This indicates the number of times to go back up from the current directory.\n",
    "\n",
    "    Returns:\n",
    "    --------\n",
    "    None\n",
    "    \"\"\"\n",
    "    import os\n",
    "    import sys\n",
    "\n",
    "    CONST: str = \"../\"\n",
    "    NUM: str = CONST * go_up\n",
    "\n",
    "    # Goto the previous directory\n",
    "    prev_directory = os.path.join(os.path.dirname(__name__), NUM)\n",
    "    # Get the 'absolute path' of the previous directory\n",
    "    abs_path_prev_directory = os.path.abspath(prev_directory)\n",
    "\n",
    "    # Add the path to the System paths\n",
    "    sys.path.insert(0, abs_path_prev_directory)\n",
    "    print(abs_path_prev_directory)"
   ]
  },
  {
   "cell_type": "code",
   "execution_count": 4,
   "metadata": {},
   "outputs": [
    {
     "name": "stdout",
     "output_type": "stream",
     "text": [
      "/Users/neidu/Desktop/Projects/Personal/My_Projects/AI-Tutorials\n"
     ]
    }
   ],
   "source": [
    "go_up_from_current_directory(go_up=1)\n",
    "\n",
    "\n",
    "from schemas import ModelEnum  # noqa: E402\n",
    "from settings import refresh_settings  # noqa: E402\n",
    "from utilities.client_utils import check_rate_limit  # noqa: E402\n",
    "\n",
    "settings = refresh_settings()"
   ]
  },
  {
   "cell_type": "markdown",
   "id": "d3ab23b0",
   "metadata": {},
   "source": [
    "<br><hr>\n",
    "\n",
    "## [Outlines](https://dottxt-ai.github.io/outlines/latest/)\n",
    "\n",
    "- Outlines is a Python library that allows you to use Large Language Model in a simple and robust way (with structured generation).\n",
    "- It is built by .txt, and is already used in production by many companies.\n",
    "\n",
    "### Features\n",
    "\n",
    "- Make LLMs generate [valid JSON](https://dottxt-ai.github.io/outlines/latest/reference/generation/json/): No more invalid JSON outputs, 100% guaranteed\n",
    "\n",
    "- JSON mode for [vLLM](https://dottxt-ai.github.io/outlines/latest/reference/serve/vllm/): Deploy a LLM service using Outlines' JSON structured generation and vLLM\n",
    "\n",
    "- [Make LLMs follow a Regex](https://dottxt-ai.github.io/outlines/latest/reference/generation/regex/): Generate text that parses correctly 100% of the time\n",
    "\n",
    "- [Powerful Prompt Templating](https://dottxt-ai.github.io/outlines/latest/reference/prompting/): Better manage your prompts' complexity with prompt templating\n",
    "\n",
    "\n",
    "### Supported Models\n",
    "\n",
    "- Openai, but the true power of Outlines is unleashed with Open Source models.\n",
    "\n",
    "- All open source models available via the:\n",
    "  - transformers\n",
    "  - llama.cpp\n",
    "  - exllama2\n",
    "  - mlx-lm\n",
    "  -  vllm models"
   ]
  },
  {
   "cell_type": "code",
   "execution_count": null,
   "id": "859b8198",
   "metadata": {},
   "outputs": [],
   "source": []
  },
  {
   "cell_type": "markdown",
   "id": "bbfd543f",
   "metadata": {},
   "source": [
    "### OpenAI Synchronous API\n",
    "\n",
    "- `%%capture`: This is used to suppress the output of the cell.\n",
    "- It was used here because of NumPy warnings.\n",
    "\n",
    "- For scripts, use:\n",
    "\n",
    "```sh\n",
    "export PYTHONWARNINGS=\"ignore\"\n",
    "```"
   ]
  },
  {
   "cell_type": "code",
   "execution_count": 5,
   "id": "f48ea03b",
   "metadata": {},
   "outputs": [],
   "source": [
    "%%capture\n",
    "\n",
    "from outlines import generate, models\n",
    "from outlines.models.openai import OpenAIConfig\n",
    "from pydantic import BaseModel, ConfigDict, Field, field_validator"
   ]
  },
  {
   "cell_type": "code",
   "execution_count": 6,
   "id": "94d64b31",
   "metadata": {},
   "outputs": [
    {
     "data": {
      "text/plain": [
       "OpenAIConfig(model=<ModelEnum.QWEN_3p0_4B_LOCAL: 'qwen3:4b-q4_K_M'>, frequency_penalty=1, logit_bias={}, max_tokens=None, n=1, presence_penalty=1, response_format=None, seed=1, stop=None, temperature=0.0, top_p=0.95, user='')"
      ]
     },
     "execution_count": 6,
     "metadata": {},
     "output_type": "execute_result"
    }
   ],
   "source": [
    "from outlines import generate, models\n",
    "from outlines.models.openai import OpenAIConfig\n",
    "from pydantic import BaseModel, ConfigDict, Field, StringConstraints, field_validator\n",
    "\n",
    "# %%capture disables intellisense.\n",
    "# The packages are re-imported to enable intellisense.\n",
    "config = OpenAIConfig(\n",
    "    presence_penalty=1,\n",
    "    frequency_penalty=1,\n",
    "    temperature=0.0,\n",
    "    top_p=0.95,\n",
    "    seed=1,\n",
    ")\n",
    "# Using Ollama with any local model that supports the OpenAI API\n",
    "model = models.openai(\n",
    "    ModelEnum.QWEN_3p0_4B_LOCAL,\n",
    "    api_key=settings.OLLAMA_API_KEY.get_secret_value(),\n",
    "    base_url=settings.OLLAMA_URL,\n",
    "    config=config,\n",
    ")\n",
    "model"
   ]
  },
  {
   "cell_type": "code",
   "execution_count": 7,
   "id": "de3d9cd8",
   "metadata": {},
   "outputs": [
    {
     "data": {
      "text/html": [
       "<pre style=\"white-space:pre;overflow-x:auto;line-height:normal;font-family:Menlo,'DejaVu Sans Mono',consolas,'Courier New',monospace\"><span style=\"color: #7fbfbf; text-decoration-color: #7fbfbf\">[13:33:46] </span><span style=\"color: #800080; text-decoration-color: #800080; font-weight: bold\">Persons</span><span style=\"font-weight: bold\">(</span>                                                                                <a href=\"file:///var/folders/ny/dl75sc_x2tb54lsymt5bh5p00000gn/T/ipykernel_77427/2622450642.py\" target=\"_blank\"><span style=\"color: #7f7f7f; text-decoration-color: #7f7f7f\">2622450642.py</span></a><span style=\"color: #7f7f7f; text-decoration-color: #7f7f7f\">:</span><a href=\"file:///var/folders/ny/dl75sc_x2tb54lsymt5bh5p00000gn/T/ipykernel_77427/2622450642.py#29\" target=\"_blank\"><span style=\"color: #7f7f7f; text-decoration-color: #7f7f7f\">29</span></a>\n",
       "<span style=\"color: #7fbfbf; text-decoration-color: #7fbfbf\">           </span>    <span style=\"color: #808000; text-decoration-color: #808000\">persons</span>=<span style=\"font-weight: bold\">[</span>                                                                           <span style=\"color: #7f7f7f; text-decoration-color: #7f7f7f\">                </span>\n",
       "<span style=\"color: #7fbfbf; text-decoration-color: #7fbfbf\">           </span>        <span style=\"color: #800080; text-decoration-color: #800080; font-weight: bold\">Person</span><span style=\"font-weight: bold\">(</span><span style=\"color: #808000; text-decoration-color: #808000\">first_name</span>=<span style=\"color: #008000; text-decoration-color: #008000\">'James'</span>, <span style=\"color: #808000; text-decoration-color: #808000\">last_name</span>=<span style=\"color: #008000; text-decoration-color: #008000\">'Bond'</span>, <span style=\"color: #808000; text-decoration-color: #808000\">age</span>=<span style=\"color: #008080; text-decoration-color: #008080; font-weight: bold\">42</span><span style=\"font-weight: bold\">)</span>,                           <span style=\"color: #7f7f7f; text-decoration-color: #7f7f7f\">                </span>\n",
       "<span style=\"color: #7fbfbf; text-decoration-color: #7fbfbf\">           </span>        <span style=\"color: #800080; text-decoration-color: #800080; font-weight: bold\">Person</span><span style=\"font-weight: bold\">(</span><span style=\"color: #808000; text-decoration-color: #808000\">first_name</span>=<span style=\"color: #008000; text-decoration-color: #008000\">'Michael'</span>, <span style=\"color: #808000; text-decoration-color: #808000\">last_name</span>=<span style=\"color: #008000; text-decoration-color: #008000\">'Scofield'</span>, <span style=\"color: #808000; text-decoration-color: #808000\">age</span>=<span style=\"color: #008080; text-decoration-color: #008080; font-weight: bold\">53</span><span style=\"font-weight: bold\">)</span>,                     <span style=\"color: #7f7f7f; text-decoration-color: #7f7f7f\">                </span>\n",
       "<span style=\"color: #7fbfbf; text-decoration-color: #7fbfbf\">           </span>        <span style=\"color: #800080; text-decoration-color: #800080; font-weight: bold\">Person</span><span style=\"font-weight: bold\">(</span><span style=\"color: #808000; text-decoration-color: #808000\">first_name</span>=<span style=\"color: #008000; text-decoration-color: #008000\">'Lamine'</span>, <span style=\"color: #808000; text-decoration-color: #808000\">last_name</span>=<span style=\"color: #008000; text-decoration-color: #008000\">'Yamal'</span>, <span style=\"color: #808000; text-decoration-color: #808000\">age</span>=<span style=\"color: #008080; text-decoration-color: #008080; font-weight: bold\">17</span><span style=\"font-weight: bold\">)</span>                          <span style=\"color: #7f7f7f; text-decoration-color: #7f7f7f\">                </span>\n",
       "<span style=\"color: #7fbfbf; text-decoration-color: #7fbfbf\">           </span>    <span style=\"font-weight: bold\">]</span>                                                                                   <span style=\"color: #7f7f7f; text-decoration-color: #7f7f7f\">                </span>\n",
       "<span style=\"color: #7fbfbf; text-decoration-color: #7fbfbf\">           </span><span style=\"font-weight: bold\">)</span>                                                                                       <span style=\"color: #7f7f7f; text-decoration-color: #7f7f7f\">                </span>\n",
       "</pre>\n"
      ],
      "text/plain": [
       "\u001b[2;36m[13:33:46]\u001b[0m\u001b[2;36m \u001b[0m\u001b[1;35mPersons\u001b[0m\u001b[1m(\u001b[0m                                                                                \u001b]8;id=433161;file:///var/folders/ny/dl75sc_x2tb54lsymt5bh5p00000gn/T/ipykernel_77427/2622450642.py\u001b\\\u001b[2m2622450642.py\u001b[0m\u001b]8;;\u001b\\\u001b[2m:\u001b[0m\u001b]8;id=292297;file:///var/folders/ny/dl75sc_x2tb54lsymt5bh5p00000gn/T/ipykernel_77427/2622450642.py#29\u001b\\\u001b[2m29\u001b[0m\u001b]8;;\u001b\\\n",
       "\u001b[2;36m           \u001b[0m    \u001b[33mpersons\u001b[0m=\u001b[1m[\u001b[0m                                                                           \u001b[2m                \u001b[0m\n",
       "\u001b[2;36m           \u001b[0m        \u001b[1;35mPerson\u001b[0m\u001b[1m(\u001b[0m\u001b[33mfirst_name\u001b[0m=\u001b[32m'James'\u001b[0m, \u001b[33mlast_name\u001b[0m=\u001b[32m'Bond'\u001b[0m, \u001b[33mage\u001b[0m=\u001b[1;36m42\u001b[0m\u001b[1m)\u001b[0m,                           \u001b[2m                \u001b[0m\n",
       "\u001b[2;36m           \u001b[0m        \u001b[1;35mPerson\u001b[0m\u001b[1m(\u001b[0m\u001b[33mfirst_name\u001b[0m=\u001b[32m'Michael'\u001b[0m, \u001b[33mlast_name\u001b[0m=\u001b[32m'Scofield'\u001b[0m, \u001b[33mage\u001b[0m=\u001b[1;36m53\u001b[0m\u001b[1m)\u001b[0m,                     \u001b[2m                \u001b[0m\n",
       "\u001b[2;36m           \u001b[0m        \u001b[1;35mPerson\u001b[0m\u001b[1m(\u001b[0m\u001b[33mfirst_name\u001b[0m=\u001b[32m'Lamine'\u001b[0m, \u001b[33mlast_name\u001b[0m=\u001b[32m'Yamal'\u001b[0m, \u001b[33mage\u001b[0m=\u001b[1;36m17\u001b[0m\u001b[1m)\u001b[0m                          \u001b[2m                \u001b[0m\n",
       "\u001b[2;36m           \u001b[0m    \u001b[1m]\u001b[0m                                                                                   \u001b[2m                \u001b[0m\n",
       "\u001b[2;36m           \u001b[0m\u001b[1m)\u001b[0m                                                                                       \u001b[2m                \u001b[0m\n"
      ]
     },
     "metadata": {},
     "output_type": "display_data"
    }
   ],
   "source": [
    "String = Annotated[\n",
    "    str, StringConstraints(strip_whitespace=True, min_length=2, max_length=30)\n",
    "]\n",
    "\n",
    "\n",
    "class Person(BaseModel):\n",
    "    first_name: String\n",
    "    last_name: String = Field(default=\"Doe\")\n",
    "    age: int = Field(ge=5, le=100)\n",
    "\n",
    "\n",
    "class Persons(BaseModel):\n",
    "    persons: list[Person]\n",
    "\n",
    "\n",
    "instructions: str = (\n",
    "    \"<inst>Given a text, extract the firstName, lastName and age. </inst>\"\n",
    ")\n",
    "query: str = (\n",
    "    \"<text>James Bond, 42, is a debonair British secret agent. Armed with cool gadgets\"\n",
    "    \"and charm, he undertakes dangerous global missions to stop villains and save the world in \"\n",
    "    \"thrilling spy adventures. Prison break staring Michael Scofield was a massive hit! Michael \"\n",
    "    \"was 34 years old when the show started and is now 53 years old. Lamine Yamal is just too \"\n",
    "    \"good. It's almost impossible to believe that he's 17 years old.</text>\"\n",
    ")\n",
    "generator = generate.json(model, Persons)\n",
    "response = generator(f\"{instructions}{query}\")\n",
    "\n",
    "console.log(response)"
   ]
  },
  {
   "cell_type": "code",
   "execution_count": 8,
   "id": "7abc74a5",
   "metadata": {},
   "outputs": [
    {
     "data": {
      "text/html": [
       "<pre style=\"white-space:pre;overflow-x:auto;line-height:normal;font-family:Menlo,'DejaVu Sans Mono',consolas,'Courier New',monospace\"><span style=\"color: #7fbfbf; text-decoration-color: #7fbfbf\">[13:39:46] </span><span style=\"color: #800080; text-decoration-color: #800080; font-weight: bold\">Persons</span><span style=\"font-weight: bold\">(</span>                                                                                 <a href=\"file:///var/folders/ny/dl75sc_x2tb54lsymt5bh5p00000gn/T/ipykernel_77427/3667612818.py\" target=\"_blank\"><span style=\"color: #7f7f7f; text-decoration-color: #7f7f7f\">3667612818.py</span></a><span style=\"color: #7f7f7f; text-decoration-color: #7f7f7f\">:</span><a href=\"file:///var/folders/ny/dl75sc_x2tb54lsymt5bh5p00000gn/T/ipykernel_77427/3667612818.py#8\" target=\"_blank\"><span style=\"color: #7f7f7f; text-decoration-color: #7f7f7f\">8</span></a>\n",
       "<span style=\"color: #7fbfbf; text-decoration-color: #7fbfbf\">           </span>    <span style=\"color: #808000; text-decoration-color: #808000\">persons</span>=<span style=\"font-weight: bold\">[</span>                                                                            <span style=\"color: #7f7f7f; text-decoration-color: #7f7f7f\">               </span>\n",
       "<span style=\"color: #7fbfbf; text-decoration-color: #7fbfbf\">           </span>        <span style=\"color: #800080; text-decoration-color: #800080; font-weight: bold\">Person</span><span style=\"font-weight: bold\">(</span><span style=\"color: #808000; text-decoration-color: #808000\">first_name</span>=<span style=\"color: #008000; text-decoration-color: #008000\">'Kunle'</span>, <span style=\"color: #808000; text-decoration-color: #808000\">last_name</span>=<span style=\"color: #008000; text-decoration-color: #008000\">'Doe'</span>, <span style=\"color: #808000; text-decoration-color: #808000\">age</span>=<span style=\"color: #008080; text-decoration-color: #008080; font-weight: bold\">28</span><span style=\"font-weight: bold\">)</span>,                             <span style=\"color: #7f7f7f; text-decoration-color: #7f7f7f\">               </span>\n",
       "<span style=\"color: #7fbfbf; text-decoration-color: #7fbfbf\">           </span>        <span style=\"color: #800080; text-decoration-color: #800080; font-weight: bold\">Person</span><span style=\"font-weight: bold\">(</span><span style=\"color: #808000; text-decoration-color: #808000\">first_name</span>=<span style=\"color: #008000; text-decoration-color: #008000\">'Francis'</span>, <span style=\"color: #808000; text-decoration-color: #808000\">last_name</span>=<span style=\"color: #008000; text-decoration-color: #008000\">'Doe'</span>, <span style=\"color: #808000; text-decoration-color: #808000\">age</span>=<span style=\"color: #008080; text-decoration-color: #008080; font-weight: bold\">32</span><span style=\"font-weight: bold\">)</span>                            <span style=\"color: #7f7f7f; text-decoration-color: #7f7f7f\">               </span>\n",
       "<span style=\"color: #7fbfbf; text-decoration-color: #7fbfbf\">           </span>    <span style=\"font-weight: bold\">]</span>                                                                                    <span style=\"color: #7f7f7f; text-decoration-color: #7f7f7f\">               </span>\n",
       "<span style=\"color: #7fbfbf; text-decoration-color: #7fbfbf\">           </span><span style=\"font-weight: bold\">)</span>                                                                                        <span style=\"color: #7f7f7f; text-decoration-color: #7f7f7f\">               </span>\n",
       "</pre>\n"
      ],
      "text/plain": [
       "\u001b[2;36m[13:39:46]\u001b[0m\u001b[2;36m \u001b[0m\u001b[1;35mPersons\u001b[0m\u001b[1m(\u001b[0m                                                                                 \u001b]8;id=965721;file:///var/folders/ny/dl75sc_x2tb54lsymt5bh5p00000gn/T/ipykernel_77427/3667612818.py\u001b\\\u001b[2m3667612818.py\u001b[0m\u001b]8;;\u001b\\\u001b[2m:\u001b[0m\u001b]8;id=99507;file:///var/folders/ny/dl75sc_x2tb54lsymt5bh5p00000gn/T/ipykernel_77427/3667612818.py#8\u001b\\\u001b[2m8\u001b[0m\u001b]8;;\u001b\\\n",
       "\u001b[2;36m           \u001b[0m    \u001b[33mpersons\u001b[0m=\u001b[1m[\u001b[0m                                                                            \u001b[2m               \u001b[0m\n",
       "\u001b[2;36m           \u001b[0m        \u001b[1;35mPerson\u001b[0m\u001b[1m(\u001b[0m\u001b[33mfirst_name\u001b[0m=\u001b[32m'Kunle'\u001b[0m, \u001b[33mlast_name\u001b[0m=\u001b[32m'Doe'\u001b[0m, \u001b[33mage\u001b[0m=\u001b[1;36m28\u001b[0m\u001b[1m)\u001b[0m,                             \u001b[2m               \u001b[0m\n",
       "\u001b[2;36m           \u001b[0m        \u001b[1;35mPerson\u001b[0m\u001b[1m(\u001b[0m\u001b[33mfirst_name\u001b[0m=\u001b[32m'Francis'\u001b[0m, \u001b[33mlast_name\u001b[0m=\u001b[32m'Doe'\u001b[0m, \u001b[33mage\u001b[0m=\u001b[1;36m32\u001b[0m\u001b[1m)\u001b[0m                            \u001b[2m               \u001b[0m\n",
       "\u001b[2;36m           \u001b[0m    \u001b[1m]\u001b[0m                                                                                    \u001b[2m               \u001b[0m\n",
       "\u001b[2;36m           \u001b[0m\u001b[1m)\u001b[0m                                                                                        \u001b[2m               \u001b[0m\n"
      ]
     },
     "metadata": {},
     "output_type": "display_data"
    }
   ],
   "source": [
    "query: str = (\n",
    "    \"There are two engineers working at GetIt AI. Kunle, 28 years old is \"\n",
    "    \"a Python developer while Francis is a Golang guru at a ripe age of 32. Do \"\n",
    "    \"not make any assumptions. Extract their information in a JSON format.\"\n",
    ")\n",
    "response = generator(f\"{instructions}{query}\")\n",
    "\n",
    "console.log(response)"
   ]
  },
  {
   "cell_type": "code",
   "execution_count": 9,
   "id": "3ced8ad5",
   "metadata": {},
   "outputs": [
    {
     "data": {
      "text/plain": [
       "(0, 0)"
      ]
     },
     "execution_count": 9,
     "metadata": {},
     "output_type": "execute_result"
    }
   ],
   "source": [
    "# Track the API use\n",
    "model.prompt_tokens, model.completion_tokens"
   ]
  },
  {
   "cell_type": "markdown",
   "id": "170d046b",
   "metadata": {},
   "source": [
    "### OpenAI Asynchronous API"
   ]
  },
  {
   "cell_type": "code",
   "execution_count": 10,
   "id": "a9aca373",
   "metadata": {},
   "outputs": [
    {
     "data": {
      "text/plain": [
       "OpenAIConfig(model=<ModelEnum.QWEN_3p0_4B_LOCAL: 'qwen3:4b-q4_K_M'>, frequency_penalty=1, logit_bias={}, max_tokens=None, n=1, presence_penalty=1, response_format=None, seed=1, stop=None, temperature=0.0, top_p=0.95, user='')"
      ]
     },
     "execution_count": 10,
     "metadata": {},
     "output_type": "execute_result"
    }
   ],
   "source": [
    "from openai import AsyncOpenAI\n",
    "\n",
    "aclient: AsyncOpenAI = AsyncOpenAI(\n",
    "    base_url=settings.OLLAMA_URL,\n",
    "    api_key=settings.OLLAMA_API_KEY.get_secret_value(),\n",
    ")\n",
    "config = OpenAIConfig(\n",
    "    model=ModelEnum.QWEN_3p0_4B_LOCAL,\n",
    "    presence_penalty=1,\n",
    "    frequency_penalty=1,\n",
    "    temperature=0.0,\n",
    "    top_p=0.95,\n",
    "    seed=1,\n",
    ")\n",
    "async_model = models.openai(aclient, config)\n",
    "async_model"
   ]
  },
  {
   "cell_type": "code",
   "execution_count": 11,
   "id": "f691a5f1",
   "metadata": {},
   "outputs": [],
   "source": [
    "from typing import Type\n",
    "\n",
    "from outlines.models.openai import OpenAI as OpenAIModel\n",
    "\n",
    "\n",
    "async def generate_structured_output(\n",
    "    model: OpenAIModel, prompt: str, response_model: Type[BaseModel]\n",
    ") -> Type[BaseModel] | list[Type[BaseModel] | list]:\n",
    "    \"\"\"Generate structured output from a prompt using an OpenAI model.\n",
    "\n",
    "    Parameters\n",
    "    ----------\n",
    "    model : OpenAIModel\n",
    "        The OpenAI model instance to use for generation.\n",
    "    prompt : str\n",
    "        The input text prompt to generate structured output from.\n",
    "    response_model : Type[BaseModel]\n",
    "        The Pydantic model class defining the expected response structure.\n",
    "\n",
    "    Returns\n",
    "    -------\n",
    "    Type[BaseModel] | list[Type[BaseModel] | list]\n",
    "        The structured output matching the response_model schema.\n",
    "        Can be either a single model instance or a list of model instances.\n",
    "    \"\"\"\n",
    "    assert isinstance(prompt, str), \"Prompt must be a string\"\n",
    "\n",
    "    generator = generate.json(model, response_model)\n",
    "    return generator(prompt)"
   ]
  },
  {
   "cell_type": "code",
   "execution_count": 12,
   "id": "64ad42cf",
   "metadata": {},
   "outputs": [
    {
     "data": {
      "text/html": [
       "<pre style=\"white-space:pre;overflow-x:auto;line-height:normal;font-family:Menlo,'DejaVu Sans Mono',consolas,'Courier New',monospace\"><span style=\"color: #7fbfbf; text-decoration-color: #7fbfbf\">[14:03:27] </span><span style=\"color: #800080; text-decoration-color: #800080; font-weight: bold\">Persons</span><span style=\"font-weight: bold\">(</span>                                                                                 <a href=\"file:///var/folders/ny/dl75sc_x2tb54lsymt5bh5p00000gn/T/ipykernel_77427/678038757.py\" target=\"_blank\"><span style=\"color: #7f7f7f; text-decoration-color: #7f7f7f\">678038757.py</span></a><span style=\"color: #7f7f7f; text-decoration-color: #7f7f7f\">:</span><a href=\"file:///var/folders/ny/dl75sc_x2tb54lsymt5bh5p00000gn/T/ipykernel_77427/678038757.py#14\" target=\"_blank\"><span style=\"color: #7f7f7f; text-decoration-color: #7f7f7f\">14</span></a>\n",
       "<span style=\"color: #7fbfbf; text-decoration-color: #7fbfbf\">           </span>    <span style=\"color: #808000; text-decoration-color: #808000\">persons</span>=<span style=\"font-weight: bold\">[</span>                                                                            <span style=\"color: #7f7f7f; text-decoration-color: #7f7f7f\">               </span>\n",
       "<span style=\"color: #7fbfbf; text-decoration-color: #7fbfbf\">           </span>        <span style=\"color: #800080; text-decoration-color: #800080; font-weight: bold\">Person</span><span style=\"font-weight: bold\">(</span><span style=\"color: #808000; text-decoration-color: #808000\">first_name</span>=<span style=\"color: #008000; text-decoration-color: #008000\">'James'</span>, <span style=\"color: #808000; text-decoration-color: #808000\">last_name</span>=<span style=\"color: #008000; text-decoration-color: #008000\">'Bond'</span>, <span style=\"color: #808000; text-decoration-color: #808000\">age</span>=<span style=\"color: #008080; text-decoration-color: #008080; font-weight: bold\">42</span><span style=\"font-weight: bold\">)</span>,                            <span style=\"color: #7f7f7f; text-decoration-color: #7f7f7f\">               </span>\n",
       "<span style=\"color: #7fbfbf; text-decoration-color: #7fbfbf\">           </span>        <span style=\"color: #800080; text-decoration-color: #800080; font-weight: bold\">Person</span><span style=\"font-weight: bold\">(</span><span style=\"color: #808000; text-decoration-color: #808000\">first_name</span>=<span style=\"color: #008000; text-decoration-color: #008000\">'Michael'</span>, <span style=\"color: #808000; text-decoration-color: #808000\">last_name</span>=<span style=\"color: #008000; text-decoration-color: #008000\">'Scofield'</span>, <span style=\"color: #808000; text-decoration-color: #808000\">age</span>=<span style=\"color: #008080; text-decoration-color: #008080; font-weight: bold\">53</span><span style=\"font-weight: bold\">)</span>,                      <span style=\"color: #7f7f7f; text-decoration-color: #7f7f7f\">               </span>\n",
       "<span style=\"color: #7fbfbf; text-decoration-color: #7fbfbf\">           </span>        <span style=\"color: #800080; text-decoration-color: #800080; font-weight: bold\">Person</span><span style=\"font-weight: bold\">(</span><span style=\"color: #808000; text-decoration-color: #808000\">first_name</span>=<span style=\"color: #008000; text-decoration-color: #008000\">'Lamine'</span>, <span style=\"color: #808000; text-decoration-color: #808000\">last_name</span>=<span style=\"color: #008000; text-decoration-color: #008000\">'Yamal'</span>, <span style=\"color: #808000; text-decoration-color: #808000\">age</span>=<span style=\"color: #008080; text-decoration-color: #008080; font-weight: bold\">17</span><span style=\"font-weight: bold\">)</span>                           <span style=\"color: #7f7f7f; text-decoration-color: #7f7f7f\">               </span>\n",
       "<span style=\"color: #7fbfbf; text-decoration-color: #7fbfbf\">           </span>    <span style=\"font-weight: bold\">]</span>                                                                                    <span style=\"color: #7f7f7f; text-decoration-color: #7f7f7f\">               </span>\n",
       "<span style=\"color: #7fbfbf; text-decoration-color: #7fbfbf\">           </span><span style=\"font-weight: bold\">)</span>                                                                                        <span style=\"color: #7f7f7f; text-decoration-color: #7f7f7f\">               </span>\n",
       "</pre>\n"
      ],
      "text/plain": [
       "\u001b[2;36m[14:03:27]\u001b[0m\u001b[2;36m \u001b[0m\u001b[1;35mPersons\u001b[0m\u001b[1m(\u001b[0m                                                                                 \u001b]8;id=737241;file:///var/folders/ny/dl75sc_x2tb54lsymt5bh5p00000gn/T/ipykernel_77427/678038757.py\u001b\\\u001b[2m678038757.py\u001b[0m\u001b]8;;\u001b\\\u001b[2m:\u001b[0m\u001b]8;id=99084;file:///var/folders/ny/dl75sc_x2tb54lsymt5bh5p00000gn/T/ipykernel_77427/678038757.py#14\u001b\\\u001b[2m14\u001b[0m\u001b]8;;\u001b\\\n",
       "\u001b[2;36m           \u001b[0m    \u001b[33mpersons\u001b[0m=\u001b[1m[\u001b[0m                                                                            \u001b[2m               \u001b[0m\n",
       "\u001b[2;36m           \u001b[0m        \u001b[1;35mPerson\u001b[0m\u001b[1m(\u001b[0m\u001b[33mfirst_name\u001b[0m=\u001b[32m'James'\u001b[0m, \u001b[33mlast_name\u001b[0m=\u001b[32m'Bond'\u001b[0m, \u001b[33mage\u001b[0m=\u001b[1;36m42\u001b[0m\u001b[1m)\u001b[0m,                            \u001b[2m               \u001b[0m\n",
       "\u001b[2;36m           \u001b[0m        \u001b[1;35mPerson\u001b[0m\u001b[1m(\u001b[0m\u001b[33mfirst_name\u001b[0m=\u001b[32m'Michael'\u001b[0m, \u001b[33mlast_name\u001b[0m=\u001b[32m'Scofield'\u001b[0m, \u001b[33mage\u001b[0m=\u001b[1;36m53\u001b[0m\u001b[1m)\u001b[0m,                      \u001b[2m               \u001b[0m\n",
       "\u001b[2;36m           \u001b[0m        \u001b[1;35mPerson\u001b[0m\u001b[1m(\u001b[0m\u001b[33mfirst_name\u001b[0m=\u001b[32m'Lamine'\u001b[0m, \u001b[33mlast_name\u001b[0m=\u001b[32m'Yamal'\u001b[0m, \u001b[33mage\u001b[0m=\u001b[1;36m17\u001b[0m\u001b[1m)\u001b[0m                           \u001b[2m               \u001b[0m\n",
       "\u001b[2;36m           \u001b[0m    \u001b[1m]\u001b[0m                                                                                    \u001b[2m               \u001b[0m\n",
       "\u001b[2;36m           \u001b[0m\u001b[1m)\u001b[0m                                                                                        \u001b[2m               \u001b[0m\n"
      ]
     },
     "metadata": {},
     "output_type": "display_data"
    }
   ],
   "source": [
    "instructions: str = (\n",
    "    \"<inst>Given a text, extract the firstName, lastName and age. </inst>\"\n",
    ")\n",
    "query: str = (\n",
    "    \"<text>James Bond, 42, is a debonair British secret agent. Armed with cool gadgets\"\n",
    "    \"and charm, he undertakes dangerous global missions to stop villains and save the world in \"\n",
    "    \"thrilling spy adventures. Prison break staring Michael Scofield was a massive hit! Michael \"\n",
    "    \"was 34 years old when the show started and is now 53 years old. Lamine Yamal is just too \"\n",
    "    \"good. It's almost impossible to believe that he's 17 years old.</text>\"\n",
    ")\n",
    "prompt: str = f\"{instructions}\\n{query}\"\n",
    "response = await generate_structured_output(async_model, prompt, Persons)\n",
    "\n",
    "console.log(response)"
   ]
  },
  {
   "cell_type": "code",
   "execution_count": null,
   "id": "ae420d75",
   "metadata": {},
   "outputs": [],
   "source": []
  },
  {
   "cell_type": "markdown",
   "id": "9d342bb9",
   "metadata": {},
   "source": [
    "## Prompt Templates"
   ]
  },
  {
   "cell_type": "code",
   "execution_count": 13,
   "id": "189b885f",
   "metadata": {},
   "outputs": [
    {
     "data": {
      "text/plain": [
       "'Hello, user!'"
      ]
     },
     "execution_count": 13,
     "metadata": {},
     "output_type": "execute_result"
    }
   ],
   "source": [
    "from outlines import Template\n",
    "\n",
    "prompt = \"\"\"Hello, {{ surname }}!\"\"\"\n",
    "greetings = Template.from_string(prompt)\n",
    "\n",
    "# Use keyword argument matching the template variable\n",
    "# otherwise it will raise an error\n",
    "prompt = greetings(surname=\"user\")\n",
    "prompt"
   ]
  },
  {
   "cell_type": "markdown",
   "id": "24f1cc39",
   "metadata": {},
   "source": [
    "### Importing Prompts From Files"
   ]
  },
  {
   "cell_type": "code",
   "execution_count": 14,
   "id": "30cb342a",
   "metadata": {},
   "outputs": [
    {
     "data": {
      "text/html": [
       "<pre style=\"white-space:pre;overflow-x:auto;line-height:normal;font-family:Menlo,'DejaVu Sans Mono',consolas,'Courier New',monospace\"><span style=\"color: #7fbfbf; text-decoration-color: #7fbfbf\">[14:03:37] </span>Hello, user!                                                                             <a href=\"file:///var/folders/ny/dl75sc_x2tb54lsymt5bh5p00000gn/T/ipykernel_77427/1447805550.py\" target=\"_blank\"><span style=\"color: #7f7f7f; text-decoration-color: #7f7f7f\">1447805550.py</span></a><span style=\"color: #7f7f7f; text-decoration-color: #7f7f7f\">:</span><a href=\"file:///var/folders/ny/dl75sc_x2tb54lsymt5bh5p00000gn/T/ipykernel_77427/1447805550.py#5\" target=\"_blank\"><span style=\"color: #7f7f7f; text-decoration-color: #7f7f7f\">5</span></a>\n",
       "<span style=\"color: #7fbfbf; text-decoration-color: #7fbfbf\">           </span>How are you?                                                                             <span style=\"color: #7f7f7f; text-decoration-color: #7f7f7f\">               </span>\n",
       "<span style=\"color: #7fbfbf; text-decoration-color: #7fbfbf\">           </span>                                                                                         <span style=\"color: #7f7f7f; text-decoration-color: #7f7f7f\">               </span>\n",
       "</pre>\n"
      ],
      "text/plain": [
       "\u001b[2;36m[14:03:37]\u001b[0m\u001b[2;36m \u001b[0mHello, user!                                                                             \u001b]8;id=478697;file:///var/folders/ny/dl75sc_x2tb54lsymt5bh5p00000gn/T/ipykernel_77427/1447805550.py\u001b\\\u001b[2m1447805550.py\u001b[0m\u001b]8;;\u001b\\\u001b[2m:\u001b[0m\u001b]8;id=484259;file:///var/folders/ny/dl75sc_x2tb54lsymt5bh5p00000gn/T/ipykernel_77427/1447805550.py#5\u001b\\\u001b[2m5\u001b[0m\u001b]8;;\u001b\\\n",
       "\u001b[2;36m           \u001b[0mHow are you?                                                                             \u001b[2m               \u001b[0m\n",
       "\u001b[2;36m           \u001b[0m                                                                                         \u001b[2m               \u001b[0m\n"
      ]
     },
     "metadata": {},
     "output_type": "display_data"
    }
   ],
   "source": [
    "prompt_file: str = \"./prompts/p1.jinja2\"\n",
    "\n",
    "greetings = Template.from_file(prompt_file)\n",
    "prompt = greetings(name=\"user\", question=\"How are you?\")\n",
    "console.log(prompt)"
   ]
  },
  {
   "cell_type": "code",
   "execution_count": 15,
   "id": "615399e5",
   "metadata": {},
   "outputs": [
    {
     "name": "stdout",
     "output_type": "stream",
     "text": [
      "<ins> Please answer the following question following the examples</ins> \n",
      "\n",
      "<ex>\n",
      "\n",
      "Q: 2+2 = ?\n",
      "A: 4\n",
      "\n",
      "Q: 3+3 =? \n",
      "A: 6\n",
      "\n",
      "</ex>\n",
      "\n",
      "<qs>\n",
      "Q: 4+8 = ?\n",
      "A:\n",
      "</qs>\n"
     ]
    }
   ],
   "source": [
    "prompt_file: str = \"./prompts/p2.jinja2\"\n",
    "loaded_prompt = Template.from_file(prompt_file)\n",
    "\n",
    "instructions: str = \"Please answer the following question following the examples\"\n",
    "examples: list[dict[str, Any]] = [\n",
    "    {\"question\": \"2+2 = ?\", \"answer\": \"4\"},\n",
    "    {\"question\": \"3+3 =? \", \"answer\": \"6\"},\n",
    "]\n",
    "question: str = \"4+8 = ?\"\n",
    "\n",
    "prompt = loaded_prompt(instructions=instructions, examples=examples, question=question)\n",
    "# console.log(prompt)\n",
    "print(prompt)"
   ]
  },
  {
   "cell_type": "code",
   "execution_count": 16,
   "id": "02b22604",
   "metadata": {},
   "outputs": [
    {
     "data": {
      "text/html": [
       "<pre style=\"white-space:pre;overflow-x:auto;line-height:normal;font-family:Menlo,'DejaVu Sans Mono',consolas,'Courier New',monospace\"><span style=\"color: #7fbfbf; text-decoration-color: #7fbfbf\">[14:03:39] </span><span style=\"color: #800080; text-decoration-color: #800080; font-weight: bold\">Answer</span><span style=\"font-weight: bold\">(</span><span style=\"color: #808000; text-decoration-color: #808000\">answer</span>=<span style=\"color: #008080; text-decoration-color: #008080; font-weight: bold\">12</span><span style=\"font-weight: bold\">)</span>                                                                        <a href=\"file:///var/folders/ny/dl75sc_x2tb54lsymt5bh5p00000gn/T/ipykernel_77427/3135518489.py\" target=\"_blank\"><span style=\"color: #7f7f7f; text-decoration-color: #7f7f7f\">3135518489.py</span></a><span style=\"color: #7f7f7f; text-decoration-color: #7f7f7f\">:</span><a href=\"file:///var/folders/ny/dl75sc_x2tb54lsymt5bh5p00000gn/T/ipykernel_77427/3135518489.py#7\" target=\"_blank\"><span style=\"color: #7f7f7f; text-decoration-color: #7f7f7f\">7</span></a>\n",
       "</pre>\n"
      ],
      "text/plain": [
       "\u001b[2;36m[14:03:39]\u001b[0m\u001b[2;36m \u001b[0m\u001b[1;35mAnswer\u001b[0m\u001b[1m(\u001b[0m\u001b[33manswer\u001b[0m=\u001b[1;36m12\u001b[0m\u001b[1m)\u001b[0m                                                                        \u001b]8;id=80942;file:///var/folders/ny/dl75sc_x2tb54lsymt5bh5p00000gn/T/ipykernel_77427/3135518489.py\u001b\\\u001b[2m3135518489.py\u001b[0m\u001b]8;;\u001b\\\u001b[2m:\u001b[0m\u001b]8;id=314107;file:///var/folders/ny/dl75sc_x2tb54lsymt5bh5p00000gn/T/ipykernel_77427/3135518489.py#7\u001b\\\u001b[2m7\u001b[0m\u001b]8;;\u001b\\\n"
      ]
     },
     "metadata": {},
     "output_type": "display_data"
    }
   ],
   "source": [
    "class Answer(BaseModel):\n",
    "    answer: float | int = Field(description=\"The answer to the question\")\n",
    "\n",
    "\n",
    "response = await generate_structured_output(async_model, prompt, Answer)\n",
    "\n",
    "console.log(response)"
   ]
  },
  {
   "cell_type": "code",
   "execution_count": null,
   "id": "a0823b8b",
   "metadata": {},
   "outputs": [],
   "source": []
  },
  {
   "cell_type": "markdown",
   "id": "69d08421",
   "metadata": {},
   "source": [
    "<br><br>\n",
    "\n",
    "### JSON Response Format With Templates\n",
    "\n",
    "- You can pass a **JSON schema** or a **Pydantic model** as a response model to the `generate.json` function."
   ]
  },
  {
   "cell_type": "code",
   "execution_count": 17,
   "id": "d8650c54",
   "metadata": {},
   "outputs": [
    {
     "name": "stdout",
     "output_type": "stream",
     "text": [
      "{\n",
      "  \"field1\": \"an int\",\n",
      "  \"field2\": \"<field2>\"\n",
      "}\n"
     ]
    }
   ],
   "source": [
    "class MyResponse(BaseModel):\n",
    "    field1: int = Field(description=\"an int\")\n",
    "    field2: str\n",
    "\n",
    "\n",
    "my_prompt = Template.from_string(\"\"\"{{ response_model | schema }}\"\"\")\n",
    "prompt = my_prompt(response_model=MyResponse)\n",
    "print(prompt)"
   ]
  },
  {
   "cell_type": "code",
   "execution_count": 18,
   "id": "9ebb2504",
   "metadata": {},
   "outputs": [
    {
     "data": {
      "text/plain": [
       "{'properties': {'field1': {'description': 'an int',\n",
       "   'title': 'Field1',\n",
       "   'type': 'integer'},\n",
       "  'field2': {'title': 'Field2', 'type': 'string'}},\n",
       " 'required': ['field1', 'field2'],\n",
       " 'title': 'MyResponse',\n",
       " 'type': 'object'}"
      ]
     },
     "execution_count": 18,
     "metadata": {},
     "output_type": "execute_result"
    }
   ],
   "source": [
    "json_schema = MyResponse.model_json_schema()\n",
    "json_schema"
   ]
  },
  {
   "cell_type": "code",
   "execution_count": 19,
   "id": "328878e3",
   "metadata": {},
   "outputs": [
    {
     "name": "stdout",
     "output_type": "stream",
     "text": [
      "{\n",
      "  \"properties\": {\n",
      "    \"field1\": {\n",
      "      \"description\": \"an int\",\n",
      "      \"title\": \"Field1\",\n",
      "      \"type\": \"integer\"\n",
      "    },\n",
      "    \"field2\": {\n",
      "      \"title\": \"Field2\",\n",
      "      \"type\": \"string\"\n",
      "    }\n",
      "  },\n",
      "  \"required\": [\n",
      "    \"field1\",\n",
      "    \"field2\"\n",
      "  ],\n",
      "  \"title\": \"MyResponse\",\n",
      "  \"type\": \"object\"\n",
      "}\n"
     ]
    }
   ],
   "source": [
    "my_prompt = Template.from_string(\"\"\"{{ response_model | schema }}\"\"\")\n",
    "prompt = my_prompt(response_model=json_schema)\n",
    "print(prompt)"
   ]
  },
  {
   "cell_type": "code",
   "execution_count": null,
   "id": "1264d661",
   "metadata": {},
   "outputs": [],
   "source": []
  },
  {
   "cell_type": "markdown",
   "id": "b3b795e7",
   "metadata": {},
   "source": [
    "### Classification\n",
    "\n",
    "- Using `outlines.generate.choices` with `greedy` sampler is not allowed with OpenAI.\n",
    "- You can use the default sampler (`multinomial`) or use generate.json"
   ]
  },
  {
   "cell_type": "code",
   "execution_count": 20,
   "id": "c5d35cc9",
   "metadata": {},
   "outputs": [
    {
     "name": "stdout",
     "output_type": "stream",
     "text": [
      "<inst>\n",
      "    You are an sentiments analysis manager.\n",
      "\n",
      "    Given a review from a user, determine if it's a POSITIVE or\n",
      "    a NEGATIVE review.\n",
      "\n",
      "    <ex>\n",
      "        Review: \"It was a great movie\"\n",
      "        Label: POSITIVE\n",
      "\n",
      "        Review: \"Such a waste of my time!\"\n",
      "        Label: NEGATIVE\n",
      "    </ex>\n",
      "</inst>\n",
      "\n",
      "<task>\n",
      "    What are the sentiments of the following reviews?\n",
      "    Review: It was a great movie\n",
      "    Label:\n",
      "    Review: Such a waste of my time!\n",
      "    Label:\n",
      "</task>\n"
     ]
    }
   ],
   "source": [
    "customer_support: str = Template.from_string(\n",
    "    \"\"\"\n",
    "    <inst>\n",
    "        You are an sentiments analysis manager.\n",
    "\n",
    "        Given a review from a user, determine if it's a POSITIVE or\n",
    "        a NEGATIVE review.\n",
    "\n",
    "        <ex>\n",
    "            Review: \"It was a great movie\"\n",
    "            Label: POSITIVE\n",
    "\n",
    "            Review: \"Such a waste of my time!\"\n",
    "            Label: NEGATIVE\n",
    "        </ex>\n",
    "    </inst>\n",
    "\n",
    "    <task>\n",
    "        What are the sentiments of the following reviews?\n",
    "        {% for review in reviews %}\n",
    "        Review: {{ review }}\n",
    "        Label:\n",
    "        {% endfor %}\n",
    "    </task>\n",
    "    \"\"\"\n",
    ")\n",
    "prompt = customer_support(reviews=[\"It was a great movie\", \"Such a waste of my time!\"])\n",
    "print(prompt)"
   ]
  },
  {
   "cell_type": "code",
   "execution_count": 21,
   "metadata": {},
   "outputs": [
    {
     "data": {
      "text/html": [
       "<pre style=\"white-space:pre;overflow-x:auto;line-height:normal;font-family:Menlo,'DejaVu Sans Mono',consolas,'Courier New',monospace\"><span style=\"color: #7fbfbf; text-decoration-color: #7fbfbf\">[14:03:47] </span><span style=\"color: #800080; text-decoration-color: #800080; font-weight: bold\">Sentiments</span><span style=\"font-weight: bold\">(</span>                                                                             <a href=\"file:///var/folders/ny/dl75sc_x2tb54lsymt5bh5p00000gn/T/ipykernel_77427/4154712646.py\" target=\"_blank\"><span style=\"color: #7f7f7f; text-decoration-color: #7f7f7f\">4154712646.py</span></a><span style=\"color: #7f7f7f; text-decoration-color: #7f7f7f\">:</span><a href=\"file:///var/folders/ny/dl75sc_x2tb54lsymt5bh5p00000gn/T/ipykernel_77427/4154712646.py#18\" target=\"_blank\"><span style=\"color: #7f7f7f; text-decoration-color: #7f7f7f\">18</span></a>\n",
       "<span style=\"color: #7fbfbf; text-decoration-color: #7fbfbf\">           </span>    <span style=\"color: #808000; text-decoration-color: #808000\">sentiments</span>=<span style=\"font-weight: bold\">[</span>                                                                        <span style=\"color: #7f7f7f; text-decoration-color: #7f7f7f\">                </span>\n",
       "<span style=\"color: #7fbfbf; text-decoration-color: #7fbfbf\">           </span>        <span style=\"color: #800080; text-decoration-color: #800080; font-weight: bold\">Sentiment</span><span style=\"font-weight: bold\">(</span>                                                                      <span style=\"color: #7f7f7f; text-decoration-color: #7f7f7f\">                </span>\n",
       "<span style=\"color: #7fbfbf; text-decoration-color: #7fbfbf\">           </span>            <span style=\"color: #808000; text-decoration-color: #808000\">review</span>=<span style=\"color: #008000; text-decoration-color: #008000\">'It was a great movie'</span>,                                              <span style=\"color: #7f7f7f; text-decoration-color: #7f7f7f\">                </span>\n",
       "<span style=\"color: #7fbfbf; text-decoration-color: #7fbfbf\">           </span>            <span style=\"color: #808000; text-decoration-color: #808000\">sentiment</span>=<span style=\"color: #008000; text-decoration-color: #008000\">'POSITIVE'</span>,                                                       <span style=\"color: #7f7f7f; text-decoration-color: #7f7f7f\">                </span>\n",
       "<span style=\"color: #7fbfbf; text-decoration-color: #7fbfbf\">           </span>            <span style=\"color: #808000; text-decoration-color: #808000\">confidence</span>=<span style=\"color: #008080; text-decoration-color: #008080; font-weight: bold\">0.95</span>                                                             <span style=\"color: #7f7f7f; text-decoration-color: #7f7f7f\">                </span>\n",
       "<span style=\"color: #7fbfbf; text-decoration-color: #7fbfbf\">           </span>        <span style=\"font-weight: bold\">)</span>,                                                                              <span style=\"color: #7f7f7f; text-decoration-color: #7f7f7f\">                </span>\n",
       "<span style=\"color: #7fbfbf; text-decoration-color: #7fbfbf\">           </span>        <span style=\"color: #800080; text-decoration-color: #800080; font-weight: bold\">Sentiment</span><span style=\"font-weight: bold\">(</span>                                                                      <span style=\"color: #7f7f7f; text-decoration-color: #7f7f7f\">                </span>\n",
       "<span style=\"color: #7fbfbf; text-decoration-color: #7fbfbf\">           </span>            <span style=\"color: #808000; text-decoration-color: #808000\">review</span>=<span style=\"color: #008000; text-decoration-color: #008000\">'Such a waste of my time!'</span>,                                          <span style=\"color: #7f7f7f; text-decoration-color: #7f7f7f\">                </span>\n",
       "<span style=\"color: #7fbfbf; text-decoration-color: #7fbfbf\">           </span>            <span style=\"color: #808000; text-decoration-color: #808000\">sentiment</span>=<span style=\"color: #008000; text-decoration-color: #008000\">'NEGATIVE'</span>,                                                       <span style=\"color: #7f7f7f; text-decoration-color: #7f7f7f\">                </span>\n",
       "<span style=\"color: #7fbfbf; text-decoration-color: #7fbfbf\">           </span>            <span style=\"color: #808000; text-decoration-color: #808000\">confidence</span>=<span style=\"color: #008080; text-decoration-color: #008080; font-weight: bold\">0.98</span>                                                             <span style=\"color: #7f7f7f; text-decoration-color: #7f7f7f\">                </span>\n",
       "<span style=\"color: #7fbfbf; text-decoration-color: #7fbfbf\">           </span>        <span style=\"font-weight: bold\">)</span>                                                                               <span style=\"color: #7f7f7f; text-decoration-color: #7f7f7f\">                </span>\n",
       "<span style=\"color: #7fbfbf; text-decoration-color: #7fbfbf\">           </span>    <span style=\"font-weight: bold\">]</span>                                                                                   <span style=\"color: #7f7f7f; text-decoration-color: #7f7f7f\">                </span>\n",
       "<span style=\"color: #7fbfbf; text-decoration-color: #7fbfbf\">           </span><span style=\"font-weight: bold\">)</span>                                                                                       <span style=\"color: #7f7f7f; text-decoration-color: #7f7f7f\">                </span>\n",
       "</pre>\n"
      ],
      "text/plain": [
       "\u001b[2;36m[14:03:47]\u001b[0m\u001b[2;36m \u001b[0m\u001b[1;35mSentiments\u001b[0m\u001b[1m(\u001b[0m                                                                             \u001b]8;id=977953;file:///var/folders/ny/dl75sc_x2tb54lsymt5bh5p00000gn/T/ipykernel_77427/4154712646.py\u001b\\\u001b[2m4154712646.py\u001b[0m\u001b]8;;\u001b\\\u001b[2m:\u001b[0m\u001b]8;id=847024;file:///var/folders/ny/dl75sc_x2tb54lsymt5bh5p00000gn/T/ipykernel_77427/4154712646.py#18\u001b\\\u001b[2m18\u001b[0m\u001b]8;;\u001b\\\n",
       "\u001b[2;36m           \u001b[0m    \u001b[33msentiments\u001b[0m=\u001b[1m[\u001b[0m                                                                        \u001b[2m                \u001b[0m\n",
       "\u001b[2;36m           \u001b[0m        \u001b[1;35mSentiment\u001b[0m\u001b[1m(\u001b[0m                                                                      \u001b[2m                \u001b[0m\n",
       "\u001b[2;36m           \u001b[0m            \u001b[33mreview\u001b[0m=\u001b[32m'It was a great movie'\u001b[0m,                                              \u001b[2m                \u001b[0m\n",
       "\u001b[2;36m           \u001b[0m            \u001b[33msentiment\u001b[0m=\u001b[32m'POSITIVE'\u001b[0m,                                                       \u001b[2m                \u001b[0m\n",
       "\u001b[2;36m           \u001b[0m            \u001b[33mconfidence\u001b[0m=\u001b[1;36m0\u001b[0m\u001b[1;36m.95\u001b[0m                                                             \u001b[2m                \u001b[0m\n",
       "\u001b[2;36m           \u001b[0m        \u001b[1m)\u001b[0m,                                                                              \u001b[2m                \u001b[0m\n",
       "\u001b[2;36m           \u001b[0m        \u001b[1;35mSentiment\u001b[0m\u001b[1m(\u001b[0m                                                                      \u001b[2m                \u001b[0m\n",
       "\u001b[2;36m           \u001b[0m            \u001b[33mreview\u001b[0m=\u001b[32m'Such a waste of my time!'\u001b[0m,                                          \u001b[2m                \u001b[0m\n",
       "\u001b[2;36m           \u001b[0m            \u001b[33msentiment\u001b[0m=\u001b[32m'NEGATIVE'\u001b[0m,                                                       \u001b[2m                \u001b[0m\n",
       "\u001b[2;36m           \u001b[0m            \u001b[33mconfidence\u001b[0m=\u001b[1;36m0\u001b[0m\u001b[1;36m.98\u001b[0m                                                             \u001b[2m                \u001b[0m\n",
       "\u001b[2;36m           \u001b[0m        \u001b[1m)\u001b[0m                                                                               \u001b[2m                \u001b[0m\n",
       "\u001b[2;36m           \u001b[0m    \u001b[1m]\u001b[0m                                                                                   \u001b[2m                \u001b[0m\n",
       "\u001b[2;36m           \u001b[0m\u001b[1m)\u001b[0m                                                                                       \u001b[2m                \u001b[0m\n"
      ]
     },
     "metadata": {},
     "output_type": "display_data"
    }
   ],
   "source": [
    "class Sentiment(BaseModel):\n",
    "\n",
    "    review: str = Field(description=\"The review\")\n",
    "    sentiment: Literal[\"POSITIVE\", \"NEGATIVE\"] = Field(\n",
    "        description=\"The sentiment of the text\"\n",
    "    )\n",
    "    confidence: float = Field(description=\"The confidence score\", ge=0, le=1)\n",
    "\n",
    "\n",
    "class Sentiments(BaseModel):\n",
    "    sentiments: list[Sentiment]\n",
    "\n",
    "\n",
    "response = await generate_structured_output(\n",
    "    async_model, prompt=prompt, response_model=Sentiments\n",
    ")\n",
    "\n",
    "console.log(response)"
   ]
  },
  {
   "cell_type": "code",
   "execution_count": null,
   "metadata": {},
   "outputs": [],
   "source": []
  },
  {
   "cell_type": "code",
   "execution_count": null,
   "id": "1fd3ece9",
   "metadata": {},
   "outputs": [],
   "source": []
  },
  {
   "cell_type": "code",
   "execution_count": null,
   "id": "2d6061b1",
   "metadata": {},
   "outputs": [],
   "source": []
  },
  {
   "cell_type": "code",
   "execution_count": null,
   "id": "44bfe4d5",
   "metadata": {},
   "outputs": [],
   "source": []
  }
 ],
 "metadata": {
  "kernelspec": {
   "display_name": "ai-tutorials",
   "language": "python",
   "name": "python3"
  },
  "language_info": {
   "codemirror_mode": {
    "name": "ipython",
    "version": 3
   },
   "file_extension": ".py",
   "mimetype": "text/x-python",
   "name": "python",
   "nbconvert_exporter": "python",
   "pygments_lexer": "ipython3",
   "version": "3.12.7"
  }
 },
 "nbformat": 4,
 "nbformat_minor": 5
}
