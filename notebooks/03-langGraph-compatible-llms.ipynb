{
 "cells": [
  {
   "cell_type": "markdown",
   "id": "ae1c02aa",
   "metadata": {},
   "source": [
    "# LangGraph Compatible LLMs\n",
    "\n",
    "- Create OpenAI style LLMs using almost any LLM.\n",
    "- These LLMs can be used in LangGraph workflows."
   ]
  },
  {
   "cell_type": "code",
   "execution_count": 1,
   "id": "0e958c70",
   "metadata": {},
   "outputs": [],
   "source": [
    "# Built-in library\n",
    "import asyncio\n",
    "import json\n",
    "import logging\n",
    "import re\n",
    "import warnings\n",
    "from pathlib import Path\n",
    "from pprint import pprint\n",
    "from typing import (\n",
    "    Annotated,\n",
    "    Any,\n",
    "    Generator,\n",
    "    Iterable,\n",
    "    Literal,\n",
    "    Optional,\n",
    "    Type,\n",
    "    TypedDict,\n",
    ")\n",
    "\n",
    "# Standard imports\n",
    "import nest_asyncio\n",
    "import numpy as np\n",
    "import numpy.typing as npt\n",
    "import pandas as pd\n",
    "import polars as pl\n",
    "from rich.console import Console\n",
    "from rich.theme import Theme\n",
    "\n",
    "custom_theme = Theme(\n",
    "    {\n",
    "        \"white\": \"#FFFFFF\",  # Bright white\n",
    "        \"info\": \"#00FF00\",  # Bright green\n",
    "        \"warning\": \"#FFD700\",  # Bright gold\n",
    "        \"error\": \"#FF1493\",  # Deep pink\n",
    "        \"success\": \"#00FFFF\",  # Cyan\n",
    "        \"highlight\": \"#FF4500\",  # Orange-red\n",
    "    }\n",
    ")\n",
    "console = Console(theme=custom_theme)\n",
    "\n",
    "# Visualization\n",
    "# import matplotlib.pyplot as pltife\n",
    "\n",
    "# NumPy settings\n",
    "np.set_printoptions(precision=4)\n",
    "\n",
    "# Pandas settings\n",
    "pd.options.display.max_rows = 1_000\n",
    "pd.options.display.max_columns = 1_000\n",
    "pd.options.display.max_colwidth = 600\n",
    "\n",
    "# Polars settings\n",
    "pl.Config.set_fmt_str_lengths(1_000)\n",
    "pl.Config.set_tbl_cols(n=1_000)\n",
    "\n",
    "warnings.filterwarnings(\"ignore\", category=UserWarning, module=\"numpy\")\n",
    "\n",
    "# Black code formatter (Optional)\n",
    "%load_ext lab_black\n",
    "\n",
    "# auto reload imports\n",
    "%load_ext autoreload\n",
    "%autoreload 2"
   ]
  },
  {
   "cell_type": "code",
   "execution_count": 2,
   "metadata": {},
   "outputs": [],
   "source": [
    "def go_up_from_current_directory(*, go_up: int = 1) -> None:\n",
    "    \"\"\"This is used to up a number of directories.\n",
    "\n",
    "    Params:\n",
    "    -------\n",
    "    go_up: int, default=1\n",
    "        This indicates the number of times to go back up from the current directory.\n",
    "\n",
    "    Returns:\n",
    "    --------\n",
    "    None\n",
    "    \"\"\"\n",
    "    import os\n",
    "    import sys\n",
    "\n",
    "    CONST: str = \"../\"\n",
    "    NUM: str = CONST * go_up\n",
    "\n",
    "    # Goto the previous directory\n",
    "    prev_directory = os.path.join(os.path.dirname(__name__), NUM)\n",
    "    # Get the 'absolute path' of the previous directory\n",
    "    abs_path_prev_directory = os.path.abspath(prev_directory)\n",
    "\n",
    "    # Add the path to the System paths\n",
    "    sys.path.insert(0, abs_path_prev_directory)\n",
    "    print(abs_path_prev_directory)"
   ]
  },
  {
   "cell_type": "code",
   "execution_count": 3,
   "metadata": {},
   "outputs": [
    {
     "name": "stdout",
     "output_type": "stream",
     "text": [
      "/Users/neidu/Desktop/Projects/Personal/My_Projects/AI-Tutorials\n"
     ]
    }
   ],
   "source": [
    "go_up_from_current_directory(go_up=1)\n",
    "\n",
    "\n",
    "from schemas import ModelEnum  # noqa: E402\n",
    "from settings import refresh_settings  # noqa: E402\n",
    "\n",
    "settings = refresh_settings()"
   ]
  },
  {
   "cell_type": "markdown",
   "id": "0eadd6e6",
   "metadata": {},
   "source": [
    "### LangGraph imports"
   ]
  },
  {
   "cell_type": "code",
   "execution_count": null,
   "id": "e6698946",
   "metadata": {},
   "outputs": [],
   "source": [
    "from IPython.display import Image, display\n",
    "from langchain.chat_models import init_chat_model\n",
    "from langchain_core.messages import (\n",
    "    AIMessage,\n",
    "    AnyMessage,\n",
    "    HumanMessage,\n",
    "    SystemMessage,\n",
    "    ToolMessage,\n",
    ")\n",
    "from langchain_core.tools import InjectedToolCallId, tool\n",
    "from langchain_tavily import TavilySearch\n",
    "from langfuse.langchain import CallbackHandler\n",
    "from langgraph.checkpoint.memory import MemorySaver\n",
    "from langgraph.graph import END, START, StateGraph\n",
    "from langgraph.graph.message import add_messages\n",
    "from langgraph.prebuilt import ToolNode, tools_condition\n",
    "from langgraph.types import Command, interrupt"
   ]
  },
  {
   "cell_type": "code",
   "execution_count": null,
   "id": "66c636b0",
   "metadata": {},
   "outputs": [],
   "source": []
  },
  {
   "cell_type": "markdown",
   "id": "e9c7144d",
   "metadata": {},
   "source": [
    "### Define Schemas (Pydantic Models), States"
   ]
  },
  {
   "cell_type": "code",
   "execution_count": 5,
   "id": "c722b502",
   "metadata": {},
   "outputs": [],
   "source": [
    "from openai import AsyncOpenAI\n",
    "from pydantic import BaseModel, BeforeValidator, Field\n",
    "\n",
    "\n",
    "class MessageState(TypedDict):\n",
    "    \"\"\"State for storing messages in the conversation.\"\"\"\n",
    "\n",
    "    messages: Annotated[list[AnyMessage], add_messages]"
   ]
  },
  {
   "cell_type": "markdown",
   "id": "ab81c973",
   "metadata": {},
   "source": [
    "### Prompts"
   ]
  },
  {
   "cell_type": "code",
   "execution_count": 6,
   "id": "6542ccc9",
   "metadata": {},
   "outputs": [],
   "source": [
    "system_msg: str = \"\"\"\n",
    "<system>\n",
    "/no_think\n",
    "\n",
    "<role>\n",
    "You are a helpful assistant that answers user queries in a friendly and concise manner. \n",
    "</role>\n",
    "\n",
    "</system>\n",
    "\"\"\""
   ]
  },
  {
   "cell_type": "markdown",
   "id": "76292a76",
   "metadata": {},
   "source": [
    "### Helper Functions"
   ]
  },
  {
   "cell_type": "code",
   "execution_count": 7,
   "id": "90917a03",
   "metadata": {},
   "outputs": [],
   "source": [
    "def convert_to_openai_messages(messages: list[AnyMessage]) -> list[dict[str, Any]]:\n",
    "    \"\"\"\n",
    "    Convert a list of messages to OpenAI compatible message format.\n",
    "\n",
    "    Parameters\n",
    "    ----------\n",
    "    messages : list[AnyMessage]\n",
    "        List of messages to be converted. Can contain SystemMessage,\n",
    "        AIMessage, ToolMessage, or other message types.\n",
    "\n",
    "    Returns\n",
    "    -------\n",
    "    list[dict[str, Any]]\n",
    "    \"\"\"\n",
    "    formatted: list[dict[str, Any]] = []\n",
    "\n",
    "    for msg in messages:\n",
    "        if isinstance(msg, SystemMessage):\n",
    "            formatted.append({\"role\": \"system\", \"content\": msg.content})\n",
    "        elif isinstance(msg, AIMessage):\n",
    "            formatted.append({\"role\": \"assistant\", \"content\": msg.content})\n",
    "        elif isinstance(msg, ToolMessage):\n",
    "            formatted.append(\n",
    "                {\n",
    "                    \"role\": \"tool\",\n",
    "                    \"content\": msg.content,\n",
    "                    \"tool_call_id\": msg.tool_call_id,\n",
    "                }\n",
    "            )\n",
    "        else:\n",
    "            formatted.append({\"role\": \"user\", \"content\": msg.content})\n",
    "    return formatted"
   ]
  },
  {
   "cell_type": "code",
   "execution_count": 8,
   "id": "6940fa7e",
   "metadata": {},
   "outputs": [
    {
     "data": {
      "text/plain": [
       "[{'role': 'system', 'content': 'You are a helpful assistant.'},\n",
       " {'role': 'user', 'content': 'What is the capital of France?'},\n",
       " {'role': 'assistant', 'content': 'The capital of France is Paris.'}]"
      ]
     },
     "execution_count": 8,
     "metadata": {},
     "output_type": "execute_result"
    }
   ],
   "source": [
    "# Test the function\n",
    "test_messages: list[AnyMessage] = [\n",
    "    SystemMessage(content=\"You are a helpful assistant.\"),\n",
    "    HumanMessage(content=\"What is the capital of France?\"),\n",
    "    AIMessage(content=\"The capital of France is Paris.\"),\n",
    "]\n",
    "formatted_messages = convert_to_openai_messages(test_messages)\n",
    "formatted_messages"
   ]
  },
  {
   "cell_type": "code",
   "execution_count": 9,
   "id": "6d3b32b1",
   "metadata": {},
   "outputs": [],
   "source": [
    "# Create Nodes\n",
    "\n",
    "\n",
    "async def chatbot(state: MessageState) -> dict[str, Any]:\n",
    "    messages = [SystemMessage(content=system_msg)] + state[\"messages\"]\n",
    "    formatted_messages = convert_to_openai_messages(messages)\n",
    "    aclient = AsyncOpenAI(\n",
    "        api_key=settings.OPENROUTER_API_KEY.get_secret_value(),\n",
    "        base_url=settings.OPENROUTER_URL,\n",
    "        max_retries=3,\n",
    "    )\n",
    "    response = await aclient.chat.completions.create(\n",
    "        model=ModelEnum.LLAMA_3p2_1B_INSTRUCT_REMOTE.value,\n",
    "        messages=formatted_messages,\n",
    "        temperature=0.0,\n",
    "        seed=1,\n",
    "    )\n",
    "    content = response.choices[0].message.content\n",
    "\n",
    "    return {\"messages\": [AIMessage(content=content)]}"
   ]
  },
  {
   "cell_type": "code",
   "execution_count": 10,
   "id": "44afff36",
   "metadata": {},
   "outputs": [
    {
     "data": {
      "text/plain": [
       "{'messages': [AIMessage(content='The capital of Nigeria is Abuja.', additional_kwargs={}, response_metadata={})]}"
      ]
     },
     "execution_count": 10,
     "metadata": {},
     "output_type": "execute_result"
    }
   ],
   "source": [
    "messages: list[AnyMessage] = [\n",
    "    HumanMessage(content=\"What is the capital of Nigeria?\"),\n",
    "]\n",
    "await chatbot({\"messages\": messages})"
   ]
  },
  {
   "cell_type": "code",
   "execution_count": 13,
   "id": "6e4be023",
   "metadata": {},
   "outputs": [
    {
     "data": {
      "image/png": "[encoded data removed]",
      "text/plain": [
       "<IPython.core.display.Image object>"
      ]
     },
     "metadata": {},
     "output_type": "display_data"
    }
   ],
   "source": [
    "graph_builder = StateGraph(MessageState)\n",
    "\n",
    "# Add nodes\n",
    "graph_builder.add_node(\"chatbot\", chatbot)\n",
    "\n",
    "# Connect nodes\n",
    "graph_builder.add_edge(START, \"chatbot\")\n",
    "graph_builder.add_edge(\"chatbot\", END)\n",
    "\n",
    "# Add memory\n",
    "within_thread_memory = MemorySaver()\n",
    "\n",
    "# Compile the graph\n",
    "graph = graph_builder.compile(checkpointer=within_thread_memory).with_config(\n",
    "    run_name=\"simple-chatbot\"\n",
    ")\n",
    "\n",
    "# Visualize the graph\n",
    "display(Image(graph.get_graph(xray=1).draw_mermaid_png()))"
   ]
  },
  {
   "cell_type": "code",
   "execution_count": 14,
   "id": "089ba2c4",
   "metadata": {},
   "outputs": [
    {
     "name": "stdout",
     "output_type": "stream",
     "text": [
      "================================\u001b[1m Human Message \u001b[0m=================================\n",
      "\n",
      "What is the capital of Nigeria?\n",
      "================================\u001b[1m Human Message \u001b[0m=================================\n",
      "\n",
      "What is the capital of Nigeria?\n",
      "==================================\u001b[1m Ai Message \u001b[0m==================================\n",
      "\n",
      "The capital of Nigeria is Abuja.\n"
     ]
    }
   ],
   "source": [
    "message: str = \"What is the capital of Nigeria?\"\n",
    "input_state = MessageState(messages=[message])\n",
    "\n",
    "config: dict[str, dict[str, str]] = {\"configurable\": {\"thread_id\": \"1\"}}\n",
    "\n",
    "# Run the graph\n",
    "async for event in graph.astream(input_state, config=config, stream_mode=\"values\"):\n",
    "    for msg in event[\"messages\"]:\n",
    "        msg.pretty_print()"
   ]
  },
  {
   "cell_type": "code",
   "execution_count": 15,
   "id": "cace6b14",
   "metadata": {},
   "outputs": [
    {
     "name": "stdout",
     "output_type": "stream",
     "text": [
      "================================\u001b[1m Human Message \u001b[0m=================================\n",
      "\n",
      "What is the capital of Nigeria?\n",
      "==================================\u001b[1m Ai Message \u001b[0m==================================\n",
      "\n",
      "The capital of Nigeria is Abuja.\n"
     ]
    }
   ],
   "source": [
    "# Chat history\n",
    "state = graph.get_state(config=config).values\n",
    "\n",
    "for m in state[\"messages\"]:\n",
    "    m.pretty_print()"
   ]
  },
  {
   "cell_type": "code",
   "execution_count": null,
   "id": "d93a5891",
   "metadata": {},
   "outputs": [],
   "source": []
  },
  {
   "cell_type": "code",
   "execution_count": null,
   "id": "e1cb5653",
   "metadata": {},
   "outputs": [],
   "source": []
  },
  {
   "cell_type": "code",
   "execution_count": null,
   "id": "2c2532ca",
   "metadata": {},
   "outputs": [],
   "source": []
  },
  {
   "cell_type": "code",
   "execution_count": null,
   "id": "64c2bd97",
   "metadata": {},
   "outputs": [],
   "source": []
  },
  {
   "cell_type": "code",
   "execution_count": null,
   "id": "44bfe4d5",
   "metadata": {},
   "outputs": [],
   "source": []
  }
 ],
 "metadata": {
  "kernelspec": {
   "display_name": "ai-tutorials",
   "language": "python",
   "name": "python3"
  },
  "language_info": {
   "codemirror_mode": {
    "name": "ipython",
    "version": 3
   },
   "file_extension": ".py",
   "mimetype": "text/x-python",
   "name": "python",
   "nbconvert_exporter": "python",
   "pygments_lexer": "ipython3",
   "version": "3.12.7"
  }
 },
 "nbformat": 4,
 "nbformat_minor": 5
}
