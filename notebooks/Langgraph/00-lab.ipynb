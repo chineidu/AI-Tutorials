{
 "cells": [
  {
   "cell_type": "markdown",
   "id": "dc0ce639",
   "metadata": {},
   "source": [
    "# Lab\n"
   ]
  },
  {
   "cell_type": "code",
   "execution_count": 1,
   "id": "5b2aa0f1",
   "metadata": {},
   "outputs": [],
   "source": [
    "# Built-in library\n",
    "import asyncio\n",
    "import json\n",
    "import logging\n",
    "import re\n",
    "import warnings\n",
    "from pathlib import Path\n",
    "from pprint import pprint\n",
    "from typing import (\n",
    "    Annotated,\n",
    "    Any,\n",
    "    Generator,\n",
    "    Iterable,\n",
    "    Literal,\n",
    "    Optional,\n",
    "    TypedDict,\n",
    "    Union,\n",
    ")\n",
    "\n",
    "# Standard imports\n",
    "import nest_asyncio\n",
    "import numpy as np\n",
    "import numpy.typing as npt\n",
    "import pandas as pd\n",
    "import polars as pl\n",
    "from rich.console import Console\n",
    "from rich.theme import Theme\n",
    "\n",
    "custom_theme = Theme(\n",
    "    {\n",
    "        \"white\": \"#FFFFFF\",  # Bright white\n",
    "        \"info\": \"#00FF00\",  # Bright green\n",
    "        \"warning\": \"#FFD700\",  # Bright gold\n",
    "        \"error\": \"#FF1493\",  # Deep pink\n",
    "        \"success\": \"#00FFFF\",  # Cyan\n",
    "        \"highlight\": \"#FF4500\",  # Orange-red\n",
    "    }\n",
    ")\n",
    "console = Console(theme=custom_theme)\n",
    "\n",
    "# Visualization\n",
    "# import matplotlib.pyplot as pltife\n",
    "\n",
    "# NumPy settings\n",
    "np.set_printoptions(precision=4)\n",
    "\n",
    "# Pandas settings\n",
    "pd.options.display.max_rows = 1_000\n",
    "pd.options.display.max_columns = 1_000\n",
    "pd.options.display.max_colwidth = 600\n",
    "\n",
    "# Polars settings\n",
    "pl.Config.set_fmt_str_lengths(1_000)\n",
    "pl.Config.set_tbl_cols(n=1_000)\n",
    "\n",
    "warnings.filterwarnings(\"ignore\")\n",
    "\n",
    "# Black code formatter (Optional)\n",
    "%load_ext lab_black\n",
    "\n",
    "# auto reload imports\n",
    "%load_ext autoreload\n",
    "%autoreload 2"
   ]
  },
  {
   "cell_type": "code",
   "execution_count": 2,
   "metadata": {},
   "outputs": [],
   "source": [
    "def go_up_from_current_directory(*, go_up: int = 1) -> None:\n",
    "    \"\"\"This is used to up a number of directories.\n",
    "\n",
    "    Params:\n",
    "    -------\n",
    "    go_up: int, default=1\n",
    "        This indicates the number of times to go back up from the current directory.\n",
    "\n",
    "    Returns:\n",
    "    --------\n",
    "    None\n",
    "    \"\"\"\n",
    "    import os\n",
    "    import sys\n",
    "\n",
    "    CONST: str = \"../\"\n",
    "    NUM: str = CONST * go_up\n",
    "\n",
    "    # Goto the previous directory\n",
    "    prev_directory = os.path.join(os.path.dirname(__name__), NUM)\n",
    "    # Get the 'absolute path' of the previous directory\n",
    "    abs_path_prev_directory = os.path.abspath(prev_directory)\n",
    "\n",
    "    # Add the path to the System paths\n",
    "    sys.path.insert(0, abs_path_prev_directory)\n",
    "    print(abs_path_prev_directory)"
   ]
  },
  {
   "cell_type": "code",
   "execution_count": 3,
   "id": "8d4f1fe2",
   "metadata": {},
   "outputs": [
    {
     "name": "stdout",
     "output_type": "stream",
     "text": [
      "/Users/neidu/Desktop/Projects/Personal/My_Projects/AI-Tutorials\n"
     ]
    }
   ],
   "source": [
    "go_up_from_current_directory(go_up=2)\n",
    "\n",
    "\n",
    "from schemas import ModelEnum  # noqa: E402\n",
    "from settings import refresh_settings  # noqa: E402\n",
    "from utilities.client_utils import check_rate_limit  # noqa: E402\n",
    "\n",
    "settings = refresh_settings()"
   ]
  },
  {
   "cell_type": "markdown",
   "id": "882761e9",
   "metadata": {},
   "source": [
    "## 1. Chatbot With a Simple Wikipedia Tool"
   ]
  },
  {
   "cell_type": "code",
   "execution_count": 4,
   "id": "215c6137",
   "metadata": {},
   "outputs": [],
   "source": [
    "from langgraph.graph.message import add_messages\n",
    "\n",
    "\n",
    "class State(TypedDict):\n",
    "    messages: Annotated[list, add_messages]"
   ]
  },
  {
   "cell_type": "code",
   "execution_count": 5,
   "id": "82f1daba",
   "metadata": {},
   "outputs": [],
   "source": [
    "from IPython.display import Image, display\n",
    "from langchain.chat_models import init_chat_model\n",
    "from langchain_core.messages import ToolMessage, SystemMessage, HumanMessage\n",
    "from langchain_core.tools import InjectedToolCallId, tool\n",
    "from langchain_tavily import TavilySearch\n",
    "from langfuse.callback import CallbackHandler\n",
    "from langgraph.checkpoint.memory import MemorySaver\n",
    "from langgraph.graph import END, START, StateGraph\n",
    "from langchain_litellm import ChatLiteLLM\n",
    "from langgraph.prebuilt import ToolNode, tools_condition\n",
    "from langgraph.types import Command, interrupt\n",
    "\n",
    "\n",
    "@tool\n",
    "def local_wikipedia(name: str) -> str:\n",
    "    \"\"\"\n",
    "    Returns a string describing Chineidu, a data scientist transitioning into AI Engineering.\n",
    "\n",
    "    Parameters:\n",
    "        name (str): The name of the data scientist.\n",
    "\n",
    "    Returns:\n",
    "        (str): A string describing the data scientist.\n",
    "    \"\"\"\n",
    "    return (\n",
    "        f\"{name}, AKA Tha-dude, is a data scientist who is transitioning into AI Engineering. \"\n",
    "        \"He resides in Lagos State and he's focusing on building and deploying practical AI \"\n",
    "        \"solutions relevant to the Nigerian context. He enjoys learning new things and \"\n",
    "        \"developing new projects. He is currently working on a project that will help \"\n",
    "        \"Nigerians learn how to use AI to solve their problems. \"\n",
    "    )\n",
    "\n",
    "\n",
    "@tool\n",
    "def adder(a: float, b: float) -> float:\n",
    "    \"\"\"\n",
    "    Adds two numbers together.\n",
    "\n",
    "    Parameters:\n",
    "        a (float): The first number.\n",
    "        b (float): The second number.\n",
    "\n",
    "    Returns:\n",
    "        (float): The sum of the two numbers.\n",
    "    \"\"\"\n",
    "    return a + b\n",
    "\n",
    "\n",
    "@tool\n",
    "def multiplier(a: float, b: float) -> float:\n",
    "    \"\"\"\n",
    "    Multiplies two numbers together.\n",
    "\n",
    "    Parameters:\n",
    "        a (float): The first number.\n",
    "        b (float): The second number.\n",
    "\n",
    "    Returns:\n",
    "        (float): The product of the two numbers.\n",
    "    \"\"\"\n",
    "    return a * b\n",
    "\n",
    "\n",
    "@tool\n",
    "def divider(a: float, b: float) -> float:\n",
    "    \"\"\"\n",
    "    Divides the first number by the second number.\n",
    "\n",
    "    Parameters:\n",
    "        a (float): The numerator.\n",
    "        b (float): The denominator.\n",
    "\n",
    "    Returns:\n",
    "        (float): The result of the division.\n",
    "    \"\"\"\n",
    "    if b == 0:\n",
    "        raise ValueError(\"Cannot divide by zero.\")\n",
    "    return a / b"
   ]
  },
  {
   "cell_type": "code",
   "execution_count": 6,
   "id": "f59d603f",
   "metadata": {},
   "outputs": [],
   "source": [
    "async def chatbot(state: State) -> dict[str, Any]:\n",
    "    \"\"\"Process chat messages through LLM with tools and return response.\n",
    "\n",
    "    Parameters\n",
    "    ----------\n",
    "    state : State\n",
    "        Current state containing message history.\n",
    "\n",
    "    Returns\n",
    "    -------\n",
    "    dict[str, Any]\n",
    "        Dictionary containing LLM response message.\n",
    "        Contains key 'messages' with list of one message.\n",
    "\n",
    "    Notes\n",
    "    -----\n",
    "    Disables parallel tool calling to prevent duplicate tool invocations\n",
    "    when restarting the graph flow. Asserts at most one tool call per message.\n",
    "    \"\"\"\n",
    "    system_prompt: str = \"\"\"\n",
    "    <role>You're a helpful AI assistant that provides concise answers using logical, \n",
    "    step-by-step reasoning. You must always use your tools to answer user queries \n",
    "    when applicable, only refraining when a tool cannot be used.</role>\n",
    "    \"\"\"\n",
    "    message = await llm_with_tools.ainvoke([system_prompt] + state[\"messages\"])\n",
    "    # Disable parallel tool calling because we'll be interrupting (human-in-the-loop)\n",
    "    # to prevent repeating any tool invocations when we restart the graph\n",
    "    assert len(message.tool_calls) <= 8\n",
    "    return {\"messages\": [message]}\n",
    "\n",
    "\n",
    "# A simple memory saver for this tutorial. In production,\n",
    "# it's recommennded to use SqliteSaver or PostgresSaver\n",
    "memory = MemorySaver()\n",
    "\n",
    "model_str: str = \"mistralai:ministral-8b-latest\"  # \"mistralai:mistral-large-latest\"\n",
    "llm = init_chat_model(model_str, temperature=0.0)\n",
    "tavily_search = TavilySearch(max_results=2)\n",
    "tools = [local_wikipedia, adder, multiplier, divider]\n",
    "llm_with_tools = llm.bind_tools(tools)\n",
    "\n",
    "# Add nodes\n",
    "graph_builder = StateGraph(State)\n",
    "tool_node = ToolNode(tools=tools)\n",
    "graph_builder.add_node(\"chatbot\", chatbot)\n",
    "graph_builder.add_node(\"tools\", tool_node)\n",
    "\n",
    "# Connect nodes\n",
    "graph_builder.add_edge(START, \"chatbot\")\n",
    "graph_builder.add_conditional_edges(\"chatbot\", tools_condition)\n",
    "graph_builder.add_edge(\"tools\", \"chatbot\")\n",
    "graph_builder.add_edge(\"chatbot\", END)\n",
    "\n",
    "# Add memory, observability and compile the graph\n",
    "memory = MemorySaver()\n",
    "langfuse_handler = CallbackHandler()\n",
    "graph = graph_builder.compile(\n",
    "    checkpointer=memory\n",
    ")  # .with_config({\"callbacks\": [langfuse_handler]})"
   ]
  },
  {
   "cell_type": "code",
   "execution_count": 7,
   "id": "08fbdb4e",
   "metadata": {},
   "outputs": [
    {
     "data": {
      "image/png": "[encoded data removed]",
      "text/plain": [
       "<IPython.core.display.Image object>"
      ]
     },
     "metadata": {},
     "output_type": "display_data"
    }
   ],
   "source": [
    "display(Image(graph.get_graph().draw_mermaid_png()))"
   ]
  },
  {
   "cell_type": "markdown",
   "id": "fc3a5799",
   "metadata": {},
   "source": [
    "### Prompt The Chatbot\n",
    "\n",
    "- Prompt the chatbot to lookup when LangGraph was created (`birthday`) and direct the chatbot to reach out to the human_assistance tool once it has the reqired info.\n",
    "- By setting the `name` and `birthday` in the arguments for the tool, we force the chatbot to generate proposals for these fields."
   ]
  },
  {
   "cell_type": "code",
   "execution_count": 8,
   "id": "4d872a1f",
   "metadata": {},
   "outputs": [
    {
     "name": "stdout",
     "output_type": "stream",
     "text": [
      "================================\u001b[1m Human Message \u001b[0m=================================\n",
      "\n",
      "Who is Chinedu? What does he do? \n",
      "==================================\u001b[1m Ai Message \u001b[0m==================================\n",
      "Tool Calls:\n",
      "  local_wikipedia (pmkcv56UH)\n",
      " Call ID: pmkcv56UH\n",
      "  Args:\n",
      "    name: Chinedu\n",
      "=================================\u001b[1m Tool Message \u001b[0m=================================\n",
      "Name: local_wikipedia\n",
      "\n",
      "Chinedu, AKA Tha-dude, is a data scientist who is transitioning into AI Engineering. He resides in Lagos State and he's focusing on building and deploying practical AI solutions relevant to the Nigerian context. He enjoys learning new things and developing new projects. He is currently working on a project that will help Nigerians learn how to use AI to solve their problems. \n",
      "==================================\u001b[1m Ai Message \u001b[0m==================================\n",
      "\n",
      "Chinedu is a data scientist transitioning into AI Engineering. He is based in Lagos State and is focused on building and deploying practical AI solutions relevant to the Nigerian context. He enjoys learning new things and developing new projects. Currently, he is working on a project that aims to help Nigerians learn how to use AI to solve their problems.\n"
     ]
    }
   ],
   "source": [
    "user_input: str = \"Who is Chinedu? What does he do? \"\n",
    "config = {\"configurable\": {\"thread_id\": \"1\"}}\n",
    "\n",
    "events = graph.astream(\n",
    "    {\"messages\": [{\"role\": \"user\", \"content\": user_input}]},\n",
    "    config=config,\n",
    "    stream_mode=\"values\",\n",
    ")\n",
    "\n",
    "try:\n",
    "    async for event in events:\n",
    "        if \"messages\" in event:\n",
    "            event[\"messages\"][-1].pretty_print()\n",
    "\n",
    "except Exception as e:\n",
    "    console.print(f\"Error: {e}\")"
   ]
  },
  {
   "cell_type": "code",
   "execution_count": 9,
   "metadata": {},
   "outputs": [
    {
     "name": "stdout",
     "output_type": "stream",
     "text": [
      "================================\u001b[1m Human Message \u001b[0m=================================\n",
      "\n",
      "What is 7 plus 3? Divide the result by 4\n",
      "==================================\u001b[1m Ai Message \u001b[0m==================================\n",
      "Tool Calls:\n",
      "  adder (39oEfH6p9)\n",
      " Call ID: 39oEfH6p9\n",
      "  Args:\n",
      "    a: 7\n",
      "    b: 3\n",
      "  divider (xsM5zdtxi)\n",
      " Call ID: xsM5zdtxi\n",
      "  Args:\n",
      "    a: 10\n",
      "    b: 4\n",
      "=================================\u001b[1m Tool Message \u001b[0m=================================\n",
      "Name: divider\n",
      "\n",
      "2.5\n",
      "==================================\u001b[1m Ai Message \u001b[0m==================================\n",
      "\n",
      "The result of 7 plus 3 is 10. Dividing this result by 4 gives 2.5.\n"
     ]
    }
   ],
   "source": [
    "user_input: str = \"What is 7 plus 3? Divide the result by 4\"\n",
    "\n",
    "events = graph.astream(\n",
    "    {\"messages\": [{\"role\": \"user\", \"content\": user_input}]},\n",
    "    config=config,\n",
    "    stream_mode=\"values\",\n",
    ")\n",
    "\n",
    "try:\n",
    "    async for event in events:\n",
    "        if \"messages\" in event:\n",
    "            event[\"messages\"][-1].pretty_print()\n",
    "\n",
    "except Exception as e:\n",
    "    console.print(f\"Error: {e}\")"
   ]
  },
  {
   "cell_type": "code",
   "execution_count": null,
   "id": "077f7c6f",
   "metadata": {},
   "outputs": [],
   "source": []
  },
  {
   "cell_type": "markdown",
   "id": "ad313cbe",
   "metadata": {},
   "source": [
    "## State Reducers\n",
    "\n",
    "- Multiple messages can be concatenated using: \n",
    "  - Using operator.add\n",
    "  - Using langgraph's add_message function"
   ]
  },
  {
   "cell_type": "code",
   "execution_count": 10,
   "id": "ec9eb8e2",
   "metadata": {},
   "outputs": [
    {
     "data": {
      "image/png": "[encoded data removed]",
      "text/plain": [
       "<IPython.core.display.Image object>"
      ]
     },
     "metadata": {},
     "output_type": "display_data"
    }
   ],
   "source": [
    "from operator import add\n",
    "\n",
    "\n",
    "class DefaultState(TypedDict):\n",
    "    messages: list\n",
    "\n",
    "\n",
    "class StateWithOperatorAdd(TypedDict):\n",
    "    messages: Annotated[list, add]\n",
    "\n",
    "\n",
    "class StateWithAddMessages(TypedDict):\n",
    "    messages: Annotated[list, add_messages]\n",
    "\n",
    "\n",
    "def node_1(state: DefaultState) -> dict[str, Any]:\n",
    "    print(\"node 1\")\n",
    "    return {\"messages\": state[\"messages\"]}\n",
    "\n",
    "\n",
    "def node_2(state: DefaultState) -> dict[str, Any]:\n",
    "    print(\"node 2\")\n",
    "    return {\"messages\": [\"processed\"]}\n",
    "\n",
    "\n",
    "def node_3(state: DefaultState) -> dict[str, Any]:\n",
    "    print(\"node 3\")\n",
    "    return {\"messages\": [\"processed\"]}\n",
    "\n",
    "\n",
    "graph_builder = StateGraph(DefaultState)\n",
    "graph_builder.add_node(\"node_1\", node_1)\n",
    "graph_builder.add_node(\"node_2\", node_2)\n",
    "graph_builder.add_node(\"node_3\", node_3)\n",
    "\n",
    "graph_builder.add_edge(START, \"node_1\")\n",
    "graph_builder.add_edge(\"node_1\", \"node_2\")\n",
    "graph_builder.add_edge(\"node_1\", \"node_3\")\n",
    "graph_builder.add_edge(\"node_2\", END)\n",
    "graph_builder.add_edge(\"node_3\", END)\n",
    "\n",
    "\n",
    "graph = graph_builder.compile()\n",
    "\n",
    "display(Image(graph.get_graph().draw_mermaid_png()))"
   ]
  },
  {
   "cell_type": "markdown",
   "id": "b46db1c4",
   "metadata": {},
   "source": [
    "<br>\n",
    "\n",
    "### Comment\n",
    "\n",
    "- When we use the `DefaultState` as the state type, there's no way to concatenate the messages, we get an error because multiple steps/nodes can't write to the same field at the same time.\n",
    "- To solve this, we can use `StateWithOperatorAdd` or `StateWithAddMessages`"
   ]
  },
  {
   "cell_type": "code",
   "execution_count": 11,
   "id": "339d920c",
   "metadata": {},
   "outputs": [
    {
     "name": "stdout",
     "output_type": "stream",
     "text": [
      "node 1\n",
      "node 2\n",
      "node 3\n"
     ]
    },
    {
     "data": {
      "text/html": [
       "<pre style=\"white-space:pre;overflow-x:auto;line-height:normal;font-family:Menlo,'DejaVu Sans Mono',consolas,'Courier New',monospace\"><span style=\"color: #7fbfbf; text-decoration-color: #7fbfbf\">[21:11:46] </span>Error: At key <span style=\"color: #008000; text-decoration-color: #008000\">'messages'</span>: Can receive only one value per step. Use an Annotated key to   <a href=\"file:///var/folders/ny/dl75sc_x2tb54lsymt5bh5p00000gn/T/ipykernel_68572/3042397884.py\" target=\"_blank\"><span style=\"color: #7f7f7f; text-decoration-color: #7f7f7f\">3042397884.py</span></a><span style=\"color: #7f7f7f; text-decoration-color: #7f7f7f\">:</span><a href=\"file:///var/folders/ny/dl75sc_x2tb54lsymt5bh5p00000gn/T/ipykernel_68572/3042397884.py#7\" target=\"_blank\"><span style=\"color: #7f7f7f; text-decoration-color: #7f7f7f\">7</span></a>\n",
       "<span style=\"color: #7fbfbf; text-decoration-color: #7fbfbf\">           </span>handle multiple values.                                                                  <span style=\"color: #7f7f7f; text-decoration-color: #7f7f7f\">               </span>\n",
       "<span style=\"color: #7fbfbf; text-decoration-color: #7fbfbf\">           </span>For troubleshooting, visit:                                                              <span style=\"color: #7f7f7f; text-decoration-color: #7f7f7f\">               </span>\n",
       "<span style=\"color: #7fbfbf; text-decoration-color: #7fbfbf\">           </span><span style=\"color: #0000ff; text-decoration-color: #0000ff; text-decoration: underline\">https://python.langchain.com/docs/troubleshooting/errors/INVALID_CONCURRENT_GRAPH_UPDATE</span> <span style=\"color: #7f7f7f; text-decoration-color: #7f7f7f\">               </span>\n",
       "</pre>\n"
      ],
      "text/plain": [
       "\u001b[2;36m[21:11:46]\u001b[0m\u001b[2;36m \u001b[0mError: At key \u001b[32m'messages'\u001b[0m: Can receive only one value per step. Use an Annotated key to   \u001b]8;id=485685;file:///var/folders/ny/dl75sc_x2tb54lsymt5bh5p00000gn/T/ipykernel_68572/3042397884.py\u001b\\\u001b[2m3042397884.py\u001b[0m\u001b]8;;\u001b\\\u001b[2m:\u001b[0m\u001b]8;id=885527;file:///var/folders/ny/dl75sc_x2tb54lsymt5bh5p00000gn/T/ipykernel_68572/3042397884.py#7\u001b\\\u001b[2m7\u001b[0m\u001b]8;;\u001b\\\n",
       "\u001b[2;36m           \u001b[0mhandle multiple values.                                                                  \u001b[2m               \u001b[0m\n",
       "\u001b[2;36m           \u001b[0mFor troubleshooting, visit:                                                              \u001b[2m               \u001b[0m\n",
       "\u001b[2;36m           \u001b[0m\u001b[4;94mhttps://python.langchain.com/docs/troubleshooting/errors/INVALID_CONCURRENT_GRAPH_UPDATE\u001b[0m \u001b[2m               \u001b[0m\n"
      ]
     },
     "metadata": {},
     "output_type": "display_data"
    }
   ],
   "source": [
    "from langgraph.errors import InvalidUpdateError\n",
    "\n",
    "try:\n",
    "    result = graph.invoke({\"messages\": [\"Hello\"]})\n",
    "    pprint(result)\n",
    "except InvalidUpdateError as e:\n",
    "    console.log(f\"Error: {e}\")"
   ]
  },
  {
   "cell_type": "code",
   "execution_count": 12,
   "id": "6ae06ab7",
   "metadata": {},
   "outputs": [
    {
     "data": {
      "text/html": [
       "<pre style=\"white-space:pre;overflow-x:auto;line-height:normal;font-family:Menlo,'DejaVu Sans Mono',consolas,'Courier New',monospace\"><span style=\"color: #7fbfbf; text-decoration-color: #7fbfbf\">[21:11:47] </span>Result of add_messages: <span style=\"font-weight: bold\">[</span><span style=\"color: #800080; text-decoration-color: #800080; font-weight: bold\">HumanMessage</span><span style=\"font-weight: bold\">(</span><span style=\"color: #808000; text-decoration-color: #808000\">content</span>=<span style=\"color: #008000; text-decoration-color: #008000\">'Hello'</span>, <span style=\"color: #808000; text-decoration-color: #808000\">additional_kwargs</span>=<span style=\"font-weight: bold\">{}</span>,            <a href=\"file:///var/folders/ny/dl75sc_x2tb54lsymt5bh5p00000gn/T/ipykernel_68572/2283970116.py\" target=\"_blank\"><span style=\"color: #7f7f7f; text-decoration-color: #7f7f7f\">2283970116.py</span></a><span style=\"color: #7f7f7f; text-decoration-color: #7f7f7f\">:</span><a href=\"file:///var/folders/ny/dl75sc_x2tb54lsymt5bh5p00000gn/T/ipykernel_68572/2283970116.py#12\" target=\"_blank\"><span style=\"color: #7f7f7f; text-decoration-color: #7f7f7f\">12</span></a>\n",
       "<span style=\"color: #7fbfbf; text-decoration-color: #7fbfbf\">           </span><span style=\"color: #808000; text-decoration-color: #808000\">response_metadata</span>=<span style=\"font-weight: bold\">{}</span>, <span style=\"color: #808000; text-decoration-color: #808000\">id</span>=<span style=\"color: #008000; text-decoration-color: #008000\">'9e3ab599-a1bd-4a83-ba7c-16f6e47704b9'</span><span style=\"font-weight: bold\">)</span>, <span style=\"color: #800080; text-decoration-color: #800080; font-weight: bold\">AIMessage</span><span style=\"font-weight: bold\">(</span><span style=\"color: #808000; text-decoration-color: #808000\">content</span>=<span style=\"color: #008000; text-decoration-color: #008000\">'Hi</span> <span style=\"color: #7f7f7f; text-decoration-color: #7f7f7f\">                </span>\n",
       "<span style=\"color: #7fbfbf; text-decoration-color: #7fbfbf\">           </span><span style=\"color: #008000; text-decoration-color: #008000\">there!'</span>, <span style=\"color: #808000; text-decoration-color: #808000\">additional_kwargs</span>=<span style=\"font-weight: bold\">{}</span>, <span style=\"color: #808000; text-decoration-color: #808000\">response_metadata</span>=<span style=\"font-weight: bold\">{}</span>,                                    <span style=\"color: #7f7f7f; text-decoration-color: #7f7f7f\">                </span>\n",
       "<span style=\"color: #7fbfbf; text-decoration-color: #7fbfbf\">           </span><span style=\"color: #808000; text-decoration-color: #808000\">id</span>=<span style=\"color: #008000; text-decoration-color: #008000\">'a7e271aa-feab-47bb-993c-dd83a07b42e2'</span><span style=\"font-weight: bold\">)</span>, <span style=\"color: #800080; text-decoration-color: #800080; font-weight: bold\">HumanMessage</span><span style=\"font-weight: bold\">(</span><span style=\"color: #808000; text-decoration-color: #808000\">content</span>=<span style=\"color: #008000; text-decoration-color: #008000\">'How are you?'</span>,        <span style=\"color: #7f7f7f; text-decoration-color: #7f7f7f\">                </span>\n",
       "<span style=\"color: #7fbfbf; text-decoration-color: #7fbfbf\">           </span><span style=\"color: #808000; text-decoration-color: #808000\">additional_kwargs</span>=<span style=\"font-weight: bold\">{}</span>, <span style=\"color: #808000; text-decoration-color: #808000\">response_metadata</span>=<span style=\"font-weight: bold\">{}</span>, <span style=\"color: #808000; text-decoration-color: #808000\">id</span>=<span style=\"color: #008000; text-decoration-color: #008000\">'3a42c37f-17d2-4b8f-a50b-3d175cf9518a'</span><span style=\"font-weight: bold\">)]</span> <span style=\"color: #7f7f7f; text-decoration-color: #7f7f7f\">                </span>\n",
       "</pre>\n"
      ],
      "text/plain": [
       "\u001b[2;36m[21:11:47]\u001b[0m\u001b[2;36m \u001b[0mResult of add_messages: \u001b[1m[\u001b[0m\u001b[1;35mHumanMessage\u001b[0m\u001b[1m(\u001b[0m\u001b[33mcontent\u001b[0m=\u001b[32m'Hello'\u001b[0m, \u001b[33madditional_kwargs\u001b[0m=\u001b[1m{\u001b[0m\u001b[1m}\u001b[0m,            \u001b]8;id=665030;file:///var/folders/ny/dl75sc_x2tb54lsymt5bh5p00000gn/T/ipykernel_68572/2283970116.py\u001b\\\u001b[2m2283970116.py\u001b[0m\u001b]8;;\u001b\\\u001b[2m:\u001b[0m\u001b]8;id=40000;file:///var/folders/ny/dl75sc_x2tb54lsymt5bh5p00000gn/T/ipykernel_68572/2283970116.py#12\u001b\\\u001b[2m12\u001b[0m\u001b]8;;\u001b\\\n",
       "\u001b[2;36m           \u001b[0m\u001b[33mresponse_metadata\u001b[0m=\u001b[1m{\u001b[0m\u001b[1m}\u001b[0m, \u001b[33mid\u001b[0m=\u001b[32m'9e3ab599-a1bd-4a83-ba7c-16f6e47704b9'\u001b[0m\u001b[1m)\u001b[0m, \u001b[1;35mAIMessage\u001b[0m\u001b[1m(\u001b[0m\u001b[33mcontent\u001b[0m=\u001b[32m'Hi\u001b[0m \u001b[2m                \u001b[0m\n",
       "\u001b[2;36m           \u001b[0m\u001b[32mthere!'\u001b[0m, \u001b[33madditional_kwargs\u001b[0m=\u001b[1m{\u001b[0m\u001b[1m}\u001b[0m, \u001b[33mresponse_metadata\u001b[0m=\u001b[1m{\u001b[0m\u001b[1m}\u001b[0m,                                    \u001b[2m                \u001b[0m\n",
       "\u001b[2;36m           \u001b[0m\u001b[33mid\u001b[0m=\u001b[32m'a7e271aa-feab-47bb-993c-dd83a07b42e2'\u001b[0m\u001b[1m)\u001b[0m, \u001b[1;35mHumanMessage\u001b[0m\u001b[1m(\u001b[0m\u001b[33mcontent\u001b[0m=\u001b[32m'How are you?'\u001b[0m,        \u001b[2m                \u001b[0m\n",
       "\u001b[2;36m           \u001b[0m\u001b[33madditional_kwargs\u001b[0m=\u001b[1m{\u001b[0m\u001b[1m}\u001b[0m, \u001b[33mresponse_metadata\u001b[0m=\u001b[1m{\u001b[0m\u001b[1m}\u001b[0m, \u001b[33mid\u001b[0m=\u001b[32m'3a42c37f-17d2-4b8f-a50b-3d175cf9518a'\u001b[0m\u001b[1m)\u001b[0m\u001b[1m]\u001b[0m \u001b[2m                \u001b[0m\n"
      ]
     },
     "metadata": {},
     "output_type": "display_data"
    }
   ],
   "source": [
    "# how add_messages works.\n",
    "initial_message: list[Any] = [\n",
    "    {\"role\": \"user\", \"content\": \"Hello\"},\n",
    "    {\"role\": \"assistant\", \"content\": \"Hi there!\"},\n",
    "]\n",
    "\n",
    "# Add new message\n",
    "new_message: dict[str, Any] = {\"role\": \"user\", \"content\": \"How are you?\"}\n",
    "\n",
    "# Use add_messages to create a new list with the new message added\n",
    "add_messages_result: list[Any] = add_messages(initial_message, new_message)\n",
    "console.log(f\"Result of add_messages: {add_messages_result}\")"
   ]
  },
  {
   "cell_type": "code",
   "execution_count": null,
   "id": "54ed333f",
   "metadata": {},
   "outputs": [],
   "source": []
  },
  {
   "cell_type": "code",
   "execution_count": 13,
   "id": "14d5d555",
   "metadata": {},
   "outputs": [
    {
     "data": {
      "image/png": "[encoded data removed]",
      "text/plain": [
       "<IPython.core.display.Image object>"
      ]
     },
     "metadata": {},
     "output_type": "display_data"
    }
   ],
   "source": [
    "def node_1(state: StateWithOperatorAdd) -> dict[str, Any]:\n",
    "    print(\"node 1\")\n",
    "    return {\"messages\": state[\"messages\"]}\n",
    "\n",
    "\n",
    "def node_2(state: StateWithOperatorAdd) -> dict[str, Any]:\n",
    "    print(\"node 2\")\n",
    "    return {\"messages\": [\"processed\"]}\n",
    "\n",
    "\n",
    "def node_3(state: StateWithOperatorAdd) -> dict[str, Any]:\n",
    "    print(\"node 3\")\n",
    "    return {\"messages\": [\"processed\"]}\n",
    "\n",
    "\n",
    "graph_builder = StateGraph(StateWithOperatorAdd)\n",
    "graph_builder.add_node(\"node_1\", node_1)\n",
    "graph_builder.add_node(\"node_2\", node_2)\n",
    "graph_builder.add_node(\"node_3\", node_3)\n",
    "\n",
    "graph_builder.add_edge(START, \"node_1\")\n",
    "graph_builder.add_edge(\"node_1\", \"node_2\")\n",
    "graph_builder.add_edge(\"node_1\", \"node_3\")\n",
    "graph_builder.add_edge(\"node_2\", END)\n",
    "graph_builder.add_edge(\"node_3\", END)\n",
    "\n",
    "\n",
    "graph = graph_builder.compile()\n",
    "\n",
    "display(Image(graph.get_graph().draw_mermaid_png()))"
   ]
  },
  {
   "cell_type": "code",
   "execution_count": 14,
   "id": "6b842d10",
   "metadata": {},
   "outputs": [
    {
     "name": "stdout",
     "output_type": "stream",
     "text": [
      "node 1\n",
      "node 2\n",
      "node 3\n",
      "{'messages': ['Hello', 'Hello', 'processed', 'processed']}\n"
     ]
    }
   ],
   "source": [
    "try:\n",
    "    result = graph.invoke({\"messages\": [\"Hello\"]})\n",
    "    pprint(result)\n",
    "except InvalidUpdateError as e:\n",
    "    console.log(f\"Error: {e}\")"
   ]
  },
  {
   "cell_type": "code",
   "execution_count": 15,
   "id": "7b786645",
   "metadata": {},
   "outputs": [
    {
     "data": {
      "text/html": [
       "<pre style=\"white-space:pre;overflow-x:auto;line-height:normal;font-family:Menlo,'DejaVu Sans Mono',consolas,'Courier New',monospace\"><span style=\"color: #7fbfbf; text-decoration-color: #7fbfbf\">[21:11:52] </span>Error: can only concatenate list <span style=\"font-weight: bold\">(</span>not <span style=\"color: #008000; text-decoration-color: #008000\">\"NoneType\"</span><span style=\"font-weight: bold\">)</span> to list                                 <a href=\"file:///var/folders/ny/dl75sc_x2tb54lsymt5bh5p00000gn/T/ipykernel_68572/819682595.py\" target=\"_blank\"><span style=\"color: #7f7f7f; text-decoration-color: #7f7f7f\">819682595.py</span></a><span style=\"color: #7f7f7f; text-decoration-color: #7f7f7f\">:</span><a href=\"file:///var/folders/ny/dl75sc_x2tb54lsymt5bh5p00000gn/T/ipykernel_68572/819682595.py#5\" target=\"_blank\"><span style=\"color: #7f7f7f; text-decoration-color: #7f7f7f\">5</span></a>\n",
       "</pre>\n"
      ],
      "text/plain": [
       "\u001b[2;36m[21:11:52]\u001b[0m\u001b[2;36m \u001b[0mError: can only concatenate list \u001b[1m(\u001b[0mnot \u001b[32m\"NoneType\"\u001b[0m\u001b[1m)\u001b[0m to list                                 \u001b]8;id=843668;file:///var/folders/ny/dl75sc_x2tb54lsymt5bh5p00000gn/T/ipykernel_68572/819682595.py\u001b\\\u001b[2m819682595.py\u001b[0m\u001b]8;;\u001b\\\u001b[2m:\u001b[0m\u001b]8;id=836733;file:///var/folders/ny/dl75sc_x2tb54lsymt5bh5p00000gn/T/ipykernel_68572/819682595.py#5\u001b\\\u001b[2m5\u001b[0m\u001b]8;;\u001b\\\n"
      ]
     },
     "metadata": {},
     "output_type": "display_data"
    }
   ],
   "source": [
    "try:\n",
    "    result = graph.invoke({\"messages\": None})\n",
    "    pprint(result)\n",
    "except (InvalidUpdateError, TypeError) as e:\n",
    "    console.log(f\"Error: {e}\")"
   ]
  },
  {
   "cell_type": "markdown",
   "id": "95eb886e",
   "metadata": {},
   "source": [
    "### Custom Reducers\n",
    "\n",
    "- We can create custom reducers for handlng edge cases."
   ]
  },
  {
   "cell_type": "code",
   "execution_count": 16,
   "id": "ef8c09a8",
   "metadata": {},
   "outputs": [],
   "source": [
    "def reduce_list(left: list[list[Any]] | None, right: list[Any] | None) -> list[Any]:\n",
    "    \"\"\"Reduce two lists into one.\"\"\"\n",
    "    if left is None:\n",
    "        left = []\n",
    "    if right is None:\n",
    "        right = []\n",
    "    return left + right"
   ]
  },
  {
   "cell_type": "code",
   "execution_count": 17,
   "metadata": {},
   "outputs": [
    {
     "data": {
      "image/png": "[encoded data removed]",
      "text/plain": [
       "<IPython.core.display.Image object>"
      ]
     },
     "metadata": {},
     "output_type": "display_data"
    }
   ],
   "source": [
    "class StateWithCustomReducer(TypedDict):\n",
    "    messages: Annotated[list, reduce_list]\n",
    "\n",
    "\n",
    "def node_1(state: StateWithCustomReducer) -> dict[str, Any]:\n",
    "    print(\"node 1\")\n",
    "    return {\"messages\": state[\"messages\"]}\n",
    "\n",
    "\n",
    "def node_2(state: StateWithCustomReducer) -> dict[str, Any]:\n",
    "    print(\"node 2\")\n",
    "    return {\"messages\": [\"processed\"]}\n",
    "\n",
    "\n",
    "def node_3(state: StateWithCustomReducer) -> dict[str, Any]:\n",
    "    print(\"node 3\")\n",
    "    return {\"messages\": [\"processed\"]}\n",
    "\n",
    "\n",
    "graph_builder = StateGraph(StateWithCustomReducer)\n",
    "graph_builder.add_node(\"node_1\", node_1)\n",
    "graph_builder.add_node(\"node_2\", node_2)\n",
    "graph_builder.add_node(\"node_3\", node_3)\n",
    "\n",
    "graph_builder.add_edge(START, \"node_1\")\n",
    "graph_builder.add_edge(\"node_1\", \"node_2\")\n",
    "graph_builder.add_edge(\"node_1\", \"node_3\")\n",
    "graph_builder.add_edge(\"node_2\", END)\n",
    "graph_builder.add_edge(\"node_3\", END)\n",
    "\n",
    "\n",
    "graph = graph_builder.compile()\n",
    "\n",
    "display(Image(graph.get_graph().draw_mermaid_png()))"
   ]
  },
  {
   "cell_type": "code",
   "execution_count": 18,
   "id": "4c8bf4ec",
   "metadata": {},
   "outputs": [
    {
     "name": "stdout",
     "output_type": "stream",
     "text": [
      "node 1\n",
      "node 2\n",
      "node 3\n",
      "{'messages': ['processed', 'processed']}\n"
     ]
    }
   ],
   "source": [
    "try:\n",
    "    result = graph.invoke({\"messages\": None})\n",
    "    pprint(result)\n",
    "except (InvalidUpdateError, TypeError) as e:\n",
    "    console.log(f\"Error: {e}\")"
   ]
  },
  {
   "cell_type": "markdown",
   "id": "0e425a62",
   "metadata": {},
   "source": [
    "<hr><br>\n",
    "\n",
    "## Multiple Schemas\n",
    "\n",
    "- We can use specific schemas for the input and output of the graph.\n",
    "- This can be based on the relevant keys in the input and output."
   ]
  },
  {
   "cell_type": "code",
   "execution_count": 19,
   "id": "61629db3",
   "metadata": {},
   "outputs": [
    {
     "data": {
      "image/png": "[encoded data removed]",
      "text/plain": [
       "<IPython.core.display.Image object>"
      ]
     },
     "metadata": {},
     "output_type": "display_data"
    }
   ],
   "source": [
    "class InputState(TypedDict):\n",
    "    question: str\n",
    "\n",
    "\n",
    "class OutputState(TypedDict):\n",
    "    answer: str\n",
    "\n",
    "\n",
    "class OverallState(TypedDict):\n",
    "    question: str\n",
    "    answer: str\n",
    "    notes: str\n",
    "\n",
    "\n",
    "def thinking_node(state: InputState) -> dict[str, str]:\n",
    "    return {\"answer\": \"bye\", \"notes\": \"... his name is Neidu\"}\n",
    "\n",
    "\n",
    "def answer_mode(state: OverallState) -> OutputState:\n",
    "    return {\"answer\": \"bye Neidu\"}\n",
    "\n",
    "\n",
    "# Build the state graph\n",
    "graph_builder = StateGraph(OverallState, input=InputState, output=OutputState)\n",
    "graph_builder.add_node(\"thinking_node\", thinking_node)\n",
    "graph_builder.add_node(\"answer_mode\", answer_mode)\n",
    "\n",
    "# Connect nodes\n",
    "graph_builder.add_edge(START, \"thinking_node\")\n",
    "graph_builder.add_edge(\"thinking_node\", \"answer_mode\")\n",
    "graph_builder.add_edge(\"answer_mode\", END)\n",
    "\n",
    "# Compile the graph and visualize it\n",
    "graph = graph_builder.compile()\n",
    "display(Image(graph.get_graph().draw_mermaid_png()))"
   ]
  },
  {
   "cell_type": "code",
   "execution_count": 20,
   "id": "fb6ca5e7",
   "metadata": {},
   "outputs": [
    {
     "name": "stdout",
     "output_type": "stream",
     "text": [
      "{'answer': 'bye Neidu'}\n"
     ]
    }
   ],
   "source": [
    "result = graph.invoke({\"question\": \"What is your name?\"})\n",
    "pprint(result)"
   ]
  },
  {
   "cell_type": "markdown",
   "id": "f276e916",
   "metadata": {},
   "source": [
    "<hr><br>\n",
    "\n",
    "\n",
    "## Filtering And Trimming Messages\n",
    "\n",
    "- To avoid sending too many messages to the LLM especially as the context grows, we can filter and trim the messages.\n",
    "\n",
    "### 1. Using A Reducer To Remove Messages\n",
    "- Using `add_messages`  and `RemoveMessage`\n",
    "- This modifies the graph's state.\n",
    "\n",
    "#### Observability\n",
    "\n",
    "- You can view the traces using `LangFuse` or any other observability tool."
   ]
  },
  {
   "cell_type": "code",
   "execution_count": 33,
   "id": "d72f006b",
   "metadata": {},
   "outputs": [
    {
     "data": {
      "image/png": "[encoded data removed]",
      "text/plain": [
       "<IPython.core.display.Image object>"
      ]
     },
     "metadata": {},
     "output_type": "display_data"
    }
   ],
   "source": [
    "from langchain_core.messages import RemoveMessage\n",
    "\n",
    "\n",
    "class MessageState(TypedDict):\n",
    "    messages: Annotated[list[Any], add_messages]\n",
    "\n",
    "\n",
    "def filter_messages(state: MessageState) -> dict[str, Any]:\n",
    "    # Delete all but the N most recent messages\n",
    "    N: int = 3\n",
    "    deleted_messages: list[Any] = [\n",
    "        RemoveMessage(id=m.id) for m in state[\"messages\"][:-N]\n",
    "    ]\n",
    "    return {\"messages\": deleted_messages}\n",
    "\n",
    "\n",
    "async def chatbot(state: MessageState) -> dict[str, Any]:\n",
    "    response = await llm.ainvoke(state[\"messages\"])\n",
    "    return {\"messages\": [response]}\n",
    "\n",
    "\n",
    "# Build the state graph\n",
    "graph_builder = StateGraph(MessageState)\n",
    "\n",
    "# Add Nodes\n",
    "graph_builder.add_node(\"filter_messages\", filter_messages)\n",
    "graph_builder.add_node(\"chatbot\", chatbot)\n",
    "\n",
    "# Connect nodes\n",
    "graph_builder.add_edge(START, \"filter_messages\")\n",
    "graph_builder.add_edge(\"filter_messages\", \"chatbot\")\n",
    "graph_builder.add_edge(\"chatbot\", END)\n",
    "\n",
    "# Compile the graph and visualize it\n",
    "memory = MemorySaver()\n",
    "graph = graph_builder.compile(checkpointer=memory)\n",
    "display(Image(graph.get_graph().draw_mermaid_png()))"
   ]
  },
  {
   "cell_type": "code",
   "execution_count": 34,
   "id": "a2ebd601",
   "metadata": {},
   "outputs": [
    {
     "name": "stdout",
     "output_type": "stream",
     "text": [
      "================================\u001b[1m Human Message \u001b[0m=================================\n",
      "\n",
      "can you remember my name?\n",
      "================================\u001b[1m Human Message \u001b[0m=================================\n",
      "\n",
      "can you remember my name?\n",
      "==================================\u001b[1m Ai Message \u001b[0m==================================\n",
      "\n",
      "Yes, I can remember your name. You are Chinedu. How can I assist you today?\n"
     ]
    }
   ],
   "source": [
    "config = {\"configurable\": {\"thread_id\": \"1\"}}\n",
    "messages: list[Any] = [\n",
    "    {\"role\": \"user\", \"content\": \"Hi!\"},\n",
    "    {\"role\": \"assistant\", \"content\": \"Hello\"},\n",
    "    {\"role\": \"user\", \"content\": \"I'm Chinedu.\"},\n",
    "    {\"role\": \"assistant\", \"content\": \"Hello, how can I help you today?\"},\n",
    "    {\"role\": \"user\", \"content\": \"can you remember my name?\"},\n",
    "]\n",
    "\n",
    "async for message in graph.astream(\n",
    "    {\"messages\": messages}, config=config, stream_mode=\"values\"\n",
    "):\n",
    "    if \"messages\" in message:\n",
    "        message[\"messages\"][-1].pretty_print()"
   ]
  },
  {
   "cell_type": "code",
   "execution_count": 32,
   "id": "d4ebe1d4",
   "metadata": {},
   "outputs": [
    {
     "data": {
      "text/plain": [
       "{'messages': [AIMessage(content='Hello, how can I help you today?', additional_kwargs={}, response_metadata={}, id='8920da96-a643-4b08-91cb-e1514e536a08'),\n",
       "  HumanMessage(content='can you remember my name?', additional_kwargs={}, response_metadata={}, id='8f58e3e9-20ab-4015-aee9-b552a60653c5'),\n",
       "  AIMessage(content=\"I don't have the ability to remember or store personal information between interactions. How can I assist you today?\", additional_kwargs={}, response_metadata={'token_usage': {'prompt_tokens': 21, 'total_tokens': 44, 'completion_tokens': 23}, 'model_name': 'ministral-8b-latest', 'model': 'ministral-8b-latest', 'finish_reason': 'stop'}, id='run--072aa728-6d2b-4659-a0d4-3b7056b1c988-0', usage_metadata={'input_tokens': 21, 'output_tokens': 23, 'total_tokens': 44})]}"
      ]
     },
     "execution_count": 32,
     "metadata": {},
     "output_type": "execute_result"
    }
   ],
   "source": [
    "message"
   ]
  },
  {
   "cell_type": "markdown",
   "id": "2a6eefdd",
   "metadata": {},
   "source": [
    "<br>\n",
    "\n",
    "### 2. Filtering Messages Without Modifying The Graph's State\n",
    "\n",
    "- This can be done by selecting a slice of the message history.\n",
    "- i.e. `state[\"messages\"][-N:]`"
   ]
  },
  {
   "cell_type": "code",
   "execution_count": 35,
   "id": "d2cc83c7",
   "metadata": {},
   "outputs": [
    {
     "data": {
      "image/png": "[encoded data removed]",
      "text/plain": [
       "<IPython.core.display.Image object>"
      ]
     },
     "metadata": {},
     "output_type": "display_data"
    }
   ],
   "source": [
    "async def chatbot_with_slice(state: MessageState) -> dict[str, Any]:\n",
    "    N: int = 3\n",
    "    response = await llm.ainvoke(state[\"messages\"][-N:])\n",
    "    return {\"messages\": [response]}\n",
    "\n",
    "\n",
    "# Build the state graph\n",
    "graph_builder = StateGraph(MessageState)\n",
    "\n",
    "# Add Nodes\n",
    "graph_builder.add_node(\"chatbot_with_slice\", chatbot_with_slice)\n",
    "\n",
    "# Connect nodes\n",
    "graph_builder.add_edge(START, \"chatbot_with_slice\")\n",
    "graph_builder.add_edge(\"chatbot_with_slice\", END)\n",
    "\n",
    "# Compile the graph and visualize it\n",
    "memory = MemorySaver()\n",
    "graph = graph_builder.compile(checkpointer=memory)\n",
    "display(Image(graph.get_graph().draw_mermaid_png()))"
   ]
  },
  {
   "cell_type": "code",
   "execution_count": 36,
   "id": "bc9bd87c",
   "metadata": {},
   "outputs": [
    {
     "name": "stdout",
     "output_type": "stream",
     "text": [
      "================================\u001b[1m Human Message \u001b[0m=================================\n",
      "\n",
      "can you remember my name?\n",
      "==================================\u001b[1m Ai Message \u001b[0m==================================\n",
      "\n",
      "Yes, I can remember your name. You are Chinedu. How can I assist you today?\n"
     ]
    }
   ],
   "source": [
    "config = {\"configurable\": {\"thread_id\": \"1\"}}\n",
    "messages: list[Any] = [\n",
    "    {\"role\": \"user\", \"content\": \"Hi!\"},\n",
    "    {\"role\": \"assistant\", \"content\": \"Hello\"},\n",
    "    {\"role\": \"user\", \"content\": \"I'm Chinedu.\"},\n",
    "    {\"role\": \"assistant\", \"content\": \"Hello, how can I help you today?\"},\n",
    "    {\"role\": \"user\", \"content\": \"can you remember my name?\"},\n",
    "]\n",
    "\n",
    "async for message in graph.astream(\n",
    "    {\"messages\": messages}, config=config, stream_mode=\"values\"\n",
    "):\n",
    "    if \"messages\" in message:\n",
    "        message[\"messages\"][-1].pretty_print()"
   ]
  },
  {
   "cell_type": "code",
   "execution_count": null,
   "id": "b418853e",
   "metadata": {},
   "outputs": [],
   "source": []
  },
  {
   "cell_type": "code",
   "execution_count": null,
   "metadata": {},
   "outputs": [],
   "source": []
  },
  {
   "cell_type": "code",
   "execution_count": null,
   "id": "29d4c166",
   "metadata": {},
   "outputs": [],
   "source": []
  },
  {
   "cell_type": "code",
   "execution_count": null,
   "id": "7c8a13b6",
   "metadata": {},
   "outputs": [],
   "source": []
  },
  {
   "cell_type": "code",
   "execution_count": null,
   "id": "a07c1d33",
   "metadata": {},
   "outputs": [],
   "source": []
  },
  {
   "cell_type": "code",
   "execution_count": null,
   "id": "7ea5de67",
   "metadata": {},
   "outputs": [],
   "source": []
  }
 ],
 "metadata": {
  "kernelspec": {
   "display_name": "ai-tutorials",
   "language": "python",
   "name": "python3"
  },
  "language_info": {
   "codemirror_mode": {
    "name": "ipython",
    "version": 3
   },
   "file_extension": ".py",
   "mimetype": "text/x-python",
   "name": "python",
   "nbconvert_exporter": "python",
   "pygments_lexer": "ipython3",
   "version": "3.12.7"
  }
 },
 "nbformat": 4,
 "nbformat_minor": 5
}
