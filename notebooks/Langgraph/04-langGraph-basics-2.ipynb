{
 "cells": [
  {
   "cell_type": "markdown",
   "id": "dc0ce639",
   "metadata": {},
   "source": [
    "# Content\n",
    "\n",
    "\n",
    "### 1. [Map Reduce](#1-map-reduce)\n",
    "\n",
    "### 2. [Short Term vs Long Term Memory](#2-short-term-vs-long-term-memory)\n",
    "\n",
    "### 3. ...\n"
   ]
  },
  {
   "cell_type": "code",
   "execution_count": 1,
   "id": "5b2aa0f1",
   "metadata": {},
   "outputs": [],
   "source": [
    "# Built-in library\n",
    "import asyncio\n",
    "import json\n",
    "import logging\n",
    "import re\n",
    "import warnings\n",
    "from pathlib import Path\n",
    "from pprint import pprint\n",
    "from typing import (\n",
    "    Annotated,\n",
    "    Any,\n",
    "    Generator,\n",
    "    Iterable,\n",
    "    Literal,\n",
    "    Optional,\n",
    "    TypedDict,\n",
    "    Union,\n",
    ")\n",
    "\n",
    "# Standard imports\n",
    "import nest_asyncio\n",
    "import numpy as np\n",
    "import numpy.typing as npt\n",
    "import pandas as pd\n",
    "import polars as pl\n",
    "from rich.console import Console\n",
    "from rich.theme import Theme\n",
    "\n",
    "custom_theme = Theme(\n",
    "    {\n",
    "        \"white\": \"#FFFFFF\",  # Bright white\n",
    "        \"info\": \"#00FF00\",  # Bright green\n",
    "        \"warning\": \"#FFD700\",  # Bright gold\n",
    "        \"error\": \"#FF1493\",  # Deep pink\n",
    "        \"success\": \"#00FFFF\",  # Cyan\n",
    "        \"highlight\": \"#FF4500\",  # Orange-red\n",
    "    }\n",
    ")\n",
    "console = Console(theme=custom_theme)\n",
    "\n",
    "# Visualization\n",
    "# import matplotlib.pyplot as pltife\n",
    "\n",
    "# NumPy settings\n",
    "np.set_printoptions(precision=4)\n",
    "\n",
    "# Pandas settings\n",
    "pd.options.display.max_rows = 1_000\n",
    "pd.options.display.max_columns = 1_000\n",
    "pd.options.display.max_colwidth = 600\n",
    "\n",
    "# Polars settings\n",
    "pl.Config.set_fmt_str_lengths(1_000)\n",
    "pl.Config.set_tbl_cols(n=1_000)\n",
    "\n",
    "warnings.filterwarnings(\"ignore\")\n",
    "\n",
    "# Black code formatter (Optional)\n",
    "%load_ext lab_black\n",
    "\n",
    "# auto reload imports\n",
    "%load_ext autoreload\n",
    "%autoreload 2"
   ]
  },
  {
   "cell_type": "code",
   "execution_count": 2,
   "metadata": {},
   "outputs": [],
   "source": [
    "def go_up_from_current_directory(*, go_up: int = 1) -> None:\n",
    "    \"\"\"This is used to up a number of directories.\n",
    "\n",
    "    Params:\n",
    "    -------\n",
    "    go_up: int, default=1\n",
    "        This indicates the number of times to go back up from the current directory.\n",
    "\n",
    "    Returns:\n",
    "    --------\n",
    "    None\n",
    "    \"\"\"\n",
    "    import os\n",
    "    import sys\n",
    "\n",
    "    CONST: str = \"../\"\n",
    "    NUM: str = CONST * go_up\n",
    "\n",
    "    # Goto the previous directory\n",
    "    prev_directory = os.path.join(os.path.dirname(__name__), NUM)\n",
    "    # Get the 'absolute path' of the previous directory\n",
    "    abs_path_prev_directory = os.path.abspath(prev_directory)\n",
    "\n",
    "    # Add the path to the System paths\n",
    "    sys.path.insert(0, abs_path_prev_directory)\n",
    "    print(abs_path_prev_directory)"
   ]
  },
  {
   "cell_type": "code",
   "execution_count": 3,
   "id": "8d4f1fe2",
   "metadata": {},
   "outputs": [
    {
     "name": "stdout",
     "output_type": "stream",
     "text": [
      "/Users/neidu/Desktop/Projects/Personal/My_Projects/AI-Tutorials\n"
     ]
    }
   ],
   "source": [
    "go_up_from_current_directory(go_up=2)\n",
    "\n",
    "\n",
    "from schemas import ModelEnum  # noqa: E402\n",
    "from settings import refresh_settings  # noqa: E402\n",
    "from utilities.client_utils import check_rate_limit  # noqa: E402\n",
    "\n",
    "settings = refresh_settings()"
   ]
  },
  {
   "cell_type": "markdown",
   "id": "0f728896",
   "metadata": {},
   "source": [
    "<a id=\"#1-map-reduce\"></a>\n",
    "# 1. Map Reduce\n",
    "\n",
    "### Map\n",
    "\n",
    "- This involves breaking a task into smaller sub-tasks, processing each sub-task in parallel.\n",
    "\n",
    "### Reduce\n",
    "\n",
    "-  This involves combining/aggregating the results of the completed, parallelized sub-tasks."
   ]
  },
  {
   "cell_type": "code",
   "execution_count": 4,
   "id": "82f1daba",
   "metadata": {},
   "outputs": [],
   "source": [
    "from IPython.display import Image, display\n",
    "from langchain.chat_models import init_chat_model\n",
    "from langchain_core.messages import HumanMessage, SystemMessage, ToolMessage\n",
    "from langchain_core.tools import InjectedToolCallId, tool\n",
    "from langchain_litellm import ChatLiteLLM\n",
    "from langchain_tavily import TavilySearch\n",
    "from langfuse.callback import CallbackHandler\n",
    "from langgraph.checkpoint.memory import MemorySaver\n",
    "from langgraph.graph import END, START, StateGraph\n",
    "from langgraph.graph.message import add_messages\n",
    "from langgraph.prebuilt import ToolNode, tools_condition\n",
    "from langgraph.types import Command, interrupt"
   ]
  },
  {
   "cell_type": "code",
   "execution_count": 5,
   "id": "b9c6b95d",
   "metadata": {},
   "outputs": [],
   "source": [
    "# Prompts\n",
    "from langchain_core.language_models.chat_models import BaseChatModel\n",
    "\n",
    "\n",
    "subject_prompt: str = \"\"\"\n",
    "<instruction>\n",
    "Generate a list of 3 sub-topics that are all \n",
    "related to this overall topic: {topic!r} \n",
    "</instruction>\n",
    "\"\"\"\n",
    "\n",
    "joke_prompt: str = \"<instruction>Generate a joke about {subject!r}.</instruction>\"\n",
    "best_joke_prompt: str = \"\"\"\n",
    "<instruction>\n",
    "Below are a bunch of jokes about {topic!r}. Select the best one! Return the ID \n",
    "of the best one, starting 0 as the ID for the first joke. Jokes: \\n\\n{jokes}\n",
    "</instruction>\n",
    "\"\"\"\n",
    "\n",
    "model_str: str = \"mistralai:open-mixtral-8x22b\"\n",
    "llm: BaseChatModel = init_chat_model(model=model_str, temperature=0.0)"
   ]
  },
  {
   "cell_type": "markdown",
   "id": "5aa09db5",
   "metadata": {},
   "source": [
    "## Parallelizing Joke Generation\n",
    "\n",
    "- Define a graph that will:\n",
    "  - take a user input topic\n",
    "  - produce a list of joke topics fro it\n",
    "  - send each joke topic to the LLM\n",
    "- The state has a `jokes` key that will accumulate jokes from parallelized joke generations."
   ]
  },
  {
   "cell_type": "code",
   "execution_count": 6,
   "id": "9c1250a6",
   "metadata": {},
   "outputs": [],
   "source": [
    "from pydantic import BaseModel, Field\n",
    "\n",
    "\n",
    "class Subjects(BaseModel):\n",
    "    subjects: list[str] = Field(description=\"List of subjects related to the topic.\")\n",
    "\n",
    "\n",
    "class BestJoke(BaseModel):\n",
    "    id: int = Field(description=\"ID of the best joke selected from the list of jokes.\")\n",
    "\n",
    "\n",
    "class OverallState(TypedDict):\n",
    "    topic: str\n",
    "    subjects: list[str]\n",
    "    jokes: Annotated[list[str], add_messages]\n",
    "    best_selected_joke: str"
   ]
  },
  {
   "cell_type": "markdown",
   "id": "273e25bd",
   "metadata": {},
   "source": [
    "#### Test The Code"
   ]
  },
  {
   "cell_type": "code",
   "execution_count": 7,
   "id": "85775822",
   "metadata": {},
   "outputs": [
    {
     "name": "stdout",
     "output_type": "stream",
     "text": [
      "\n",
      "<instruction>\n",
      "Generate a list of 3 sub-topics that are all \n",
      "related to this overall topic: 'animals' \n",
      "</instruction>\n",
      "\n",
      "subjects=['mammals', 'reptiles', 'birds']\n"
     ]
    }
   ],
   "source": [
    "# OverallState(\n",
    "#     topic=\"Chinedu\",\n",
    "#     subjects=[\"love\", \"work\"],\n",
    "#     jokes=[],\n",
    "#     best_selected_joke=\"\",\n",
    "# )\n",
    "prompt: str = subject_prompt.format(topic=\"animals\")\n",
    "print(prompt)\n",
    "\n",
    "response = await llm.with_structured_output(Subjects).ainvoke(prompt)\n",
    "print(response)"
   ]
  },
  {
   "cell_type": "code",
   "execution_count": 8,
   "id": "08fbdb4e",
   "metadata": {},
   "outputs": [],
   "source": [
    "async def generate_topics(state: OverallState) -> dict[str, Any]:\n",
    "    \"\"\"Generate a list of subjects based on a given topic.\n",
    "\n",
    "    Parameters:\n",
    "        state (OverallState): The current state containing the topic to generate subjects for.\n",
    "            Expected to have a 'topic' key with a string value.\n",
    "\n",
    "    Returns:\n",
    "        dict[str, Any]\n",
    "\n",
    "    Notes:\n",
    "        Uses an LLM to generate structured output in the form of Subjects.\n",
    "    \"\"\"\n",
    "    prompt: str = subject_prompt.format(topic=state[\"topic\"])\n",
    "    response: Subjects = await llm.with_structured_output(Subjects).ainvoke(prompt)\n",
    "    return {\"subjects\": response.subjects}"
   ]
  },
  {
   "cell_type": "markdown",
   "id": "fc3a5799",
   "metadata": {},
   "source": [
    "### Send Function\n",
    "\n",
    "- In LangGraph, Nodes and Edges usually share a predefined state. However, for dynamic cases like map-reduce, LangGraph uses `Send` objects in conditional edges.\n",
    "- It can be used to parallelize tasks."
   ]
  },
  {
   "cell_type": "code",
   "execution_count": 9,
   "id": "28261c4d",
   "metadata": {},
   "outputs": [],
   "source": [
    "from langgraph.constants import Send\n",
    "\n",
    "\n",
    "def continue_to_jokes(state: OverallState) -> list[Send]:\n",
    "    \"\"\"\n",
    "    Generate N number of jokes in parallel by sending them to the required nodes.\n",
    "\n",
    "    Parameters\n",
    "    ----------\n",
    "    state : OverallState\n",
    "        The current state containing subjects for joke generation.\n",
    "\n",
    "    Returns\n",
    "    -------\n",
    "    list[Send]\n",
    "    \"\"\"\n",
    "    return [Send(\"generate_joke\", {\"subject\": s}) for s in state[\"subjects\"]]\n",
    "\n",
    "\n",
    "class JokeState(TypedDict):\n",
    "    subject: str\n",
    "\n",
    "\n",
    "class Joke(BaseModel):\n",
    "    joke: str\n",
    "\n",
    "\n",
    "async def generate_joke(state: JokeState) -> dict[str, Any]:\n",
    "    prompt: str = joke_prompt.format(subject=state[\"subject\"])\n",
    "    response = await llm.with_structured_output(Joke).ainvoke(prompt)\n",
    "    return {\"jokes\": [response.joke]}\n",
    "\n",
    "\n",
    "async def select_best_joke(state: OverallState) -> dict[str, Any]:\n",
    "    \"\"\"\n",
    "    Select the best joke from a list of jokes based on a given topic.\n",
    "    This is a reduction step.\n",
    "\n",
    "    Parameters\n",
    "    ----------\n",
    "    state : OverallState\n",
    "        The current state containing jokes and topic for selection.\n",
    "        Expected keys:\n",
    "            - jokes: list[str | HumanMessage]\n",
    "            - topic: str\n",
    "\n",
    "    Returns\n",
    "    -------\n",
    "    dict[str, Any]\n",
    "        Dictionary containing the best selected joke.\n",
    "        Keys:\n",
    "            - best_selected_joke: str\n",
    "    \"\"\"\n",
    "    if isinstance(state[\"jokes\"][0], HumanMessage):\n",
    "        state[\"jokes\"] = [j.content for j in state[\"jokes\"]]\n",
    "    jokes: str = \"\\n\\n\".join(state[\"jokes\"])\n",
    "    prompt: str = best_joke_prompt.format(topic=state[\"topic\"], jokes=jokes)\n",
    "    response = await llm.with_structured_output(BestJoke).ainvoke(prompt)\n",
    "    return {\"best_selected_joke\": state[\"jokes\"][response.id]}"
   ]
  },
  {
   "cell_type": "code",
   "execution_count": 10,
   "id": "6eaac12a",
   "metadata": {},
   "outputs": [
    {
     "data": {
      "text/plain": [
       "{'jokes': ['Why dont some animals play cards in the wild? Because theres too much cheetahs!']}"
      ]
     },
     "execution_count": 10,
     "metadata": {},
     "output_type": "execute_result"
    }
   ],
   "source": [
    "async def generate_joke(state: JokeState) -> dict[str, Any]:\n",
    "    prompt: str = joke_prompt.format(subject=state[\"subject\"])\n",
    "    response = await llm.with_structured_output(Joke).ainvoke(prompt)\n",
    "    return {\"jokes\": [response.joke]}\n",
    "\n",
    "\n",
    "await generate_joke(JokeState(subject=\"animals\"))"
   ]
  },
  {
   "cell_type": "code",
   "execution_count": 11,
   "id": "5e13262e",
   "metadata": {},
   "outputs": [
    {
     "name": "stdout",
     "output_type": "stream",
     "text": [
      "\n",
      "<instruction>\n",
      "Below are a bunch of jokes about 'animals'. Select the best one! Return the ID \n",
      "of the best one, starting 0 as the ID for the first joke. Jokes: \n",
      "\n",
      "Why do seagulls fly over the sea?\n",
      "\n",
      "Why dont mammals ever get locked out of their homes? Because they always carry their keys with them!\n",
      "\n",
      "Why dont reptiles ever forget? Because no one ever lizard them a thing!\n",
      "</instruction>\n",
      "\n",
      "1\n",
      "result = {'best_selected_joke': 'Why dont mammals ever get locked out of their homes? Because they always carry their keys with them!'}\n"
     ]
    }
   ],
   "source": [
    "_jokes: list[str] = [\n",
    "    \"Why do seagulls fly over the sea?\",\n",
    "    \"Why dont mammals ever get locked out of their homes? Because \"\n",
    "    \"they always carry their keys with them!\",\n",
    "    \"Why dont reptiles ever forget? Because no one ever lizard them a thing!\",\n",
    "]\n",
    "\n",
    "jokes: str = \"\\n\\n\".join(_jokes)\n",
    "prompt: str = best_joke_prompt.format(topic=\"animals\", jokes=jokes)\n",
    "print(prompt)\n",
    "resp = await llm.with_structured_output(BestJoke).ainvoke(prompt)\n",
    "print(resp.id)\n",
    "result = {\"best_selected_joke\": _jokes[resp.id]}\n",
    "print(f\"{result = }\")"
   ]
  },
  {
   "cell_type": "code",
   "execution_count": 12,
   "id": "c2b3fb9b",
   "metadata": {},
   "outputs": [
    {
     "data": {
      "image/png": "[encoded data removed]",
      "text/plain": [
       "<IPython.core.display.Image object>"
      ]
     },
     "metadata": {},
     "output_type": "display_data"
    }
   ],
   "source": [
    "graph_builder = StateGraph(OverallState)\n",
    "\n",
    "# Add nodes\n",
    "graph_builder.add_node(\"generate_topics\", generate_topics)\n",
    "graph_builder.add_node(\"generate_joke\", generate_joke)\n",
    "graph_builder.add_node(\"select_best_joke\", select_best_joke)\n",
    "\n",
    "# Add edges\n",
    "graph_builder.add_edge(START, \"generate_topics\")\n",
    "graph_builder.add_conditional_edges(\n",
    "    \"generate_topics\",\n",
    "    # Generate jokes in parallel by `Sending` the jokes the `generate_joke` node\n",
    "    continue_to_jokes,\n",
    "    [\"generate_joke\"],\n",
    ")\n",
    "graph_builder.add_edge(\"generate_joke\", \"select_best_joke\")\n",
    "graph_builder.add_edge(\"select_best_joke\", END)\n",
    "\n",
    "# Compile the graph\n",
    "graph = graph_builder.compile()\n",
    "\n",
    "# Visualize the graph\n",
    "display(Image(graph.get_graph().draw_mermaid_png()))"
   ]
  },
  {
   "cell_type": "markdown",
   "id": "115a4c18",
   "metadata": {},
   "source": [
    "<br>\n",
    "\n",
    "### Test The Graph"
   ]
  },
  {
   "cell_type": "code",
   "execution_count": 13,
   "id": "d437b4ba",
   "metadata": {},
   "outputs": [
    {
     "name": "stdout",
     "output_type": "stream",
     "text": [
      "{'generate_topics': {'subjects': ['mammals', 'reptiles', 'birds']}}\n",
      "{'generate_joke': {'jokes': ['Why dont mammals ever get locked out of their homes? Because they always carry their keys with them!']}}\n",
      "{'generate_joke': {'jokes': ['Why do seagulls fly over the sea?']}}\n",
      "{'generate_joke': {'jokes': ['Why dont reptiles ever forget? Because no one ever lizard them a thing!']}}\n",
      "{'select_best_joke': {'best_selected_joke': 'Why dont mammals ever get locked out of their homes? Because they always carry their keys with them!'}}\n"
     ]
    }
   ],
   "source": [
    "topic: str = \"animals\"\n",
    "\n",
    "async for s in graph.astream({\"topic\": topic}):\n",
    "    print(s)"
   ]
  },
  {
   "cell_type": "code",
   "execution_count": null,
   "id": "117a299a",
   "metadata": {},
   "outputs": [],
   "source": []
  },
  {
   "cell_type": "markdown",
   "id": "79d12cf0",
   "metadata": {},
   "source": [
    "<a id=\"2-short-term-vs-long-term-memory\"></a>\n",
    "# Short Term vs Long Term Memory"
   ]
  },
  {
   "cell_type": "code",
   "execution_count": null,
   "id": "56f529ab",
   "metadata": {},
   "outputs": [],
   "source": []
  },
  {
   "cell_type": "code",
   "execution_count": null,
   "id": "fb37c017",
   "metadata": {},
   "outputs": [],
   "source": []
  },
  {
   "cell_type": "code",
   "execution_count": null,
   "id": "bbc2cfff",
   "metadata": {},
   "outputs": [],
   "source": []
  },
  {
   "cell_type": "code",
   "execution_count": null,
   "id": "da8b176a",
   "metadata": {},
   "outputs": [],
   "source": []
  }
 ],
 "metadata": {
  "kernelspec": {
   "display_name": "ai-tutorials",
   "language": "python",
   "name": "python3"
  },
  "language_info": {
   "codemirror_mode": {
    "name": "ipython",
    "version": 3
   },
   "file_extension": ".py",
   "mimetype": "text/x-python",
   "name": "python",
   "nbconvert_exporter": "python",
   "pygments_lexer": "ipython3",
   "version": "3.12.7"
  }
 },
 "nbformat": 4,
 "nbformat_minor": 5
}
