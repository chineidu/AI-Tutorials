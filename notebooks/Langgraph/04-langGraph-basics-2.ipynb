{
 "cells": [
  {
   "cell_type": "markdown",
   "id": "dc0ce639",
   "metadata": {},
   "source": [
    "# Content\n",
    "\n",
    "\n",
    "### 1. Map Reduce\n",
    "\n",
    "### 2. ...\n",
    "\n",
    "### 3. ...\n"
   ]
  },
  {
   "cell_type": "code",
   "execution_count": 1,
   "id": "5b2aa0f1",
   "metadata": {},
   "outputs": [],
   "source": [
    "# Built-in library\n",
    "import asyncio\n",
    "import json\n",
    "import logging\n",
    "import re\n",
    "import warnings\n",
    "from pathlib import Path\n",
    "from pprint import pprint\n",
    "from typing import (\n",
    "    Annotated,\n",
    "    Any,\n",
    "    Generator,\n",
    "    Iterable,\n",
    "    Literal,\n",
    "    Optional,\n",
    "    TypedDict,\n",
    "    Union,\n",
    ")\n",
    "\n",
    "# Standard imports\n",
    "import nest_asyncio\n",
    "import numpy as np\n",
    "import numpy.typing as npt\n",
    "import pandas as pd\n",
    "import polars as pl\n",
    "from rich.console import Console\n",
    "from rich.theme import Theme\n",
    "\n",
    "custom_theme = Theme(\n",
    "    {\n",
    "        \"white\": \"#FFFFFF\",  # Bright white\n",
    "        \"info\": \"#00FF00\",  # Bright green\n",
    "        \"warning\": \"#FFD700\",  # Bright gold\n",
    "        \"error\": \"#FF1493\",  # Deep pink\n",
    "        \"success\": \"#00FFFF\",  # Cyan\n",
    "        \"highlight\": \"#FF4500\",  # Orange-red\n",
    "    }\n",
    ")\n",
    "console = Console(theme=custom_theme)\n",
    "\n",
    "# Visualization\n",
    "# import matplotlib.pyplot as pltife\n",
    "\n",
    "# NumPy settings\n",
    "np.set_printoptions(precision=4)\n",
    "\n",
    "# Pandas settings\n",
    "pd.options.display.max_rows = 1_000\n",
    "pd.options.display.max_columns = 1_000\n",
    "pd.options.display.max_colwidth = 600\n",
    "\n",
    "# Polars settings\n",
    "pl.Config.set_fmt_str_lengths(1_000)\n",
    "pl.Config.set_tbl_cols(n=1_000)\n",
    "\n",
    "warnings.filterwarnings(\"ignore\")\n",
    "\n",
    "# Black code formatter (Optional)\n",
    "%load_ext lab_black\n",
    "\n",
    "# auto reload imports\n",
    "%load_ext autoreload\n",
    "%autoreload 2"
   ]
  },
  {
   "cell_type": "code",
   "execution_count": 2,
   "metadata": {},
   "outputs": [],
   "source": [
    "def go_up_from_current_directory(*, go_up: int = 1) -> None:\n",
    "    \"\"\"This is used to up a number of directories.\n",
    "\n",
    "    Params:\n",
    "    -------\n",
    "    go_up: int, default=1\n",
    "        This indicates the number of times to go back up from the current directory.\n",
    "\n",
    "    Returns:\n",
    "    --------\n",
    "    None\n",
    "    \"\"\"\n",
    "    import os\n",
    "    import sys\n",
    "\n",
    "    CONST: str = \"../\"\n",
    "    NUM: str = CONST * go_up\n",
    "\n",
    "    # Goto the previous directory\n",
    "    prev_directory = os.path.join(os.path.dirname(__name__), NUM)\n",
    "    # Get the 'absolute path' of the previous directory\n",
    "    abs_path_prev_directory = os.path.abspath(prev_directory)\n",
    "\n",
    "    # Add the path to the System paths\n",
    "    sys.path.insert(0, abs_path_prev_directory)\n",
    "    print(abs_path_prev_directory)"
   ]
  },
  {
   "cell_type": "code",
   "execution_count": 3,
   "id": "8d4f1fe2",
   "metadata": {},
   "outputs": [
    {
     "name": "stdout",
     "output_type": "stream",
     "text": [
      "/Users/neidu/Desktop/Projects/Personal/My_Projects/AI-Tutorials\n"
     ]
    }
   ],
   "source": [
    "go_up_from_current_directory(go_up=2)\n",
    "\n",
    "\n",
    "from schemas import ModelEnum  # noqa: E402\n",
    "from settings import refresh_settings  # noqa: E402\n",
    "from utilities.client_utils import check_rate_limit  # noqa: E402\n",
    "\n",
    "settings = refresh_settings()"
   ]
  },
  {
   "cell_type": "markdown",
   "id": "0f728896",
   "metadata": {},
   "source": [
    "# Map Reduce\n",
    "\n",
    "### Map\n",
    "\n",
    "- This involves breaking a task into smaller sub-tasks, processing each sub-task in parallel.\n",
    "\n",
    "### Reduce\n",
    "\n",
    "-  This involves combining/aggregating the results of the completed, parallelized sub-tasks."
   ]
  },
  {
   "cell_type": "code",
   "execution_count": null,
   "id": "82f1daba",
   "metadata": {},
   "outputs": [],
   "source": [
    "from IPython.display import Image, display\n",
    "from langchain.chat_models import init_chat_model\n",
    "from langchain_core.messages import HumanMessage, SystemMessage, ToolMessage\n",
    "from langchain_core.tools import InjectedToolCallId, tool\n",
    "from langchain_litellm import ChatLiteLLM\n",
    "from langchain_tavily import TavilySearch\n",
    "from langfuse.callback import CallbackHandler\n",
    "from langgraph.checkpoint.memory import MemorySaver\n",
    "from langgraph.graph import END, START, StateGraph\n",
    "from langgraph.graph.message import add_messages\n",
    "from langgraph.prebuilt import ToolNode, tools_condition\n",
    "from langgraph.types import Command, interrupt\n"
   ]
  },
  {
   "cell_type": "code",
   "execution_count": 14,
   "id": "b9c6b95d",
   "metadata": {},
   "outputs": [],
   "source": [
    "# Prompts\n",
    "subject_prompt: str = \"\"\"\n",
    "    <instruction>\n",
    "    Generate a list of 3 sub-topics that are all \n",
    "    related to this overall topic: {topic!r} \n",
    "    </instruction>\n",
    "\"\"\"\n",
    "\n",
    "joke_prompt: str = \"<instruction>Generate a joke about {subject!r}.</instruction>\"\n",
    "best_joke_prompt: str = \"\"\"\n",
    "    <instruction>\n",
    "    Below are a bunch of jokes about {topic!r}. Select the best one! Return the ID \n",
    "    of the best one, starting 0 as the ID for the first joke. Jokes: \\n\\n{jokes}\n",
    "    </instruction>\n",
    "\"\"\"\n",
    "\n",
    "model_str: str = \"mistralai:ministral-8b-latest\"\n",
    "llm = init_chat_model(model=model_str, temperature=0.0)"
   ]
  },
  {
   "cell_type": "markdown",
   "id": "5aa09db5",
   "metadata": {},
   "source": [
    "## Parallelizing Joke Generation\n",
    "\n",
    "- Define a graph that will:\n",
    "  - take a user input topic\n",
    "  - produce a list of joke topics fro it\n",
    "  - send each joke topic to the LLM\n",
    "- The state has a `jokes` key that will accumulate jokes from parallelized joke generations."
   ]
  },
  {
   "cell_type": "code",
   "execution_count": 10,
   "id": "f59d603f",
   "metadata": {},
   "outputs": [],
   "source": [
    "from pydantic import BaseModel, Field\n",
    "\n",
    "\n",
    "class Subjects(BaseModel):\n",
    "    subjects: list[str] = Field(description=\"List of subjects related to the topic.\")\n",
    "\n",
    "\n",
    "class BestJoke(BaseModel):\n",
    "    id: int = Field(description=\"ID of the best joke selected from the list of jokes.\")\n",
    "\n",
    "\n",
    "class OverallState(TypedDict):\n",
    "    topic: str\n",
    "    subjects: list[str]\n",
    "    jokes: Annotated[list[str], add_messages]\n",
    "    best_selected_joke: str"
   ]
  },
  {
   "cell_type": "code",
   "execution_count": 20,
   "id": "85775822",
   "metadata": {},
   "outputs": [
    {
     "name": "stdout",
     "output_type": "stream",
     "text": [
      "\n",
      "    <instruction>\n",
      "    Generate a list of 3 sub-topics that are all \n",
      "    related to this overall topic: 'animals' \n",
      "    </instruction>\n",
      "\n",
      "subjects=['Mammals', 'Birds', 'Reptiles']\n"
     ]
    }
   ],
   "source": [
    "OverallState(\n",
    "    topic=\"Chinedu\",\n",
    "    subjects=[\"love\", \"work\"],\n",
    "    jokes=[],\n",
    "    best_selected_joke=\"\",\n",
    ")\n",
    "prompt: str = subject_prompt.format(topic=\"animals\")\n",
    "print(prompt)\n",
    "\n",
    "response = await llm.with_structured_output(Subjects).ainvoke(prompt)\n",
    "print(response)"
   ]
  },
  {
   "cell_type": "code",
   "execution_count": 21,
   "id": "08fbdb4e",
   "metadata": {},
   "outputs": [],
   "source": [
    "async def generate_topics(state: OverallState) -> dict[str, Any]:\n",
    "    \"\"\"Generate a list of subjects based on a given topic.\n",
    "\n",
    "    Parameters:\n",
    "        state (OverallState): The current state containing the topic to generate subjects for.\n",
    "            Expected to have a 'topic' key with a string value.\n",
    "\n",
    "    Returns:\n",
    "        dict[str, Any]\n",
    "\n",
    "    Notes:\n",
    "        Uses an LLM to generate structured output in the form of Subjects.\n",
    "    \"\"\"\n",
    "    prompt: str = subject_prompt.format(topic=state[\"topic\"])\n",
    "    response: Subjects = await llm.with_structured_output(Subjects).ainvoke(prompt)\n",
    "    return {\"subjects\": response.subjects}"
   ]
  },
  {
   "cell_type": "markdown",
   "id": "fc3a5799",
   "metadata": {},
   "source": [
    "### Send Function\n",
    "\n",
    "- In LangGraph, Nodes and Edges usually share a predefined state. However, for dynamic cases like map-reduce, LangGraph uses `Send` objects in conditional edges.\n",
    "- It can be used to parallelize tasks"
   ]
  },
  {
   "cell_type": "code",
   "execution_count": 8,
   "id": "4d872a1f",
   "metadata": {},
   "outputs": [
    {
     "name": "stdout",
     "output_type": "stream",
     "text": [
      "================================\u001b[1m Human Message \u001b[0m=================================\n",
      "\n",
      "Who is Chinedu? What does he do? \n",
      "==================================\u001b[1m Ai Message \u001b[0m==================================\n",
      "Tool Calls:\n",
      "  local_wikipedia (pmkcv56UH)\n",
      " Call ID: pmkcv56UH\n",
      "  Args:\n",
      "    name: Chinedu\n",
      "=================================\u001b[1m Tool Message \u001b[0m=================================\n",
      "Name: local_wikipedia\n",
      "\n",
      "Chinedu, AKA Tha-dude, is a data scientist who is transitioning into AI Engineering. He resides in Lagos State and he's focusing on building and deploying practical AI solutions relevant to the Nigerian context. He enjoys learning new things and developing new projects. He is currently working on a project that will help Nigerians learn how to use AI to solve their problems. \n",
      "==================================\u001b[1m Ai Message \u001b[0m==================================\n",
      "\n",
      "Chinedu is a data scientist transitioning into AI Engineering. He is based in Lagos State and is focused on building and deploying practical AI solutions relevant to the Nigerian context. He enjoys learning new things and developing new projects. Currently, he is working on a project that aims to help Nigerians learn how to use AI to solve their problems.\n"
     ]
    }
   ],
   "source": [
    "user_input: str = \"Who is Chinedu? What does he do? \"\n",
    "config = {\"configurable\": {\"thread_id\": \"1\"}}\n",
    "\n",
    "events = graph.astream(\n",
    "    {\"messages\": [{\"role\": \"user\", \"content\": user_input}]},\n",
    "    config=config,\n",
    "    stream_mode=\"values\",\n",
    ")\n",
    "\n",
    "try:\n",
    "    async for event in events:\n",
    "        if \"messages\" in event:\n",
    "            event[\"messages\"][-1].pretty_print()\n",
    "\n",
    "except Exception as e:\n",
    "    console.print(f\"Error: {e}\")"
   ]
  },
  {
   "cell_type": "code",
   "execution_count": 9,
   "metadata": {},
   "outputs": [
    {
     "name": "stdout",
     "output_type": "stream",
     "text": [
      "================================\u001b[1m Human Message \u001b[0m=================================\n",
      "\n",
      "What is 7 plus 3? Divide the result by 4\n",
      "==================================\u001b[1m Ai Message \u001b[0m==================================\n",
      "Tool Calls:\n",
      "  adder (39oEfH6p9)\n",
      " Call ID: 39oEfH6p9\n",
      "  Args:\n",
      "    a: 7\n",
      "    b: 3\n",
      "  divider (xsM5zdtxi)\n",
      " Call ID: xsM5zdtxi\n",
      "  Args:\n",
      "    a: 10\n",
      "    b: 4\n",
      "=================================\u001b[1m Tool Message \u001b[0m=================================\n",
      "Name: divider\n",
      "\n",
      "2.5\n",
      "==================================\u001b[1m Ai Message \u001b[0m==================================\n",
      "\n",
      "The result of 7 plus 3 is 10. Dividing this result by 4 gives 2.5.\n"
     ]
    }
   ],
   "source": [
    "user_input: str = \"What is 7 plus 3? Divide the result by 4\"\n",
    "\n",
    "events = graph.astream(\n",
    "    {\"messages\": [{\"role\": \"user\", \"content\": user_input}]},\n",
    "    config=config,\n",
    "    stream_mode=\"values\",\n",
    ")\n",
    "\n",
    "try:\n",
    "    async for event in events:\n",
    "        if \"messages\" in event:\n",
    "            event[\"messages\"][-1].pretty_print()\n",
    "\n",
    "except Exception as e:\n",
    "    console.print(f\"Error: {e}\")"
   ]
  },
  {
   "cell_type": "code",
   "execution_count": null,
   "id": "077f7c6f",
   "metadata": {},
   "outputs": [],
   "source": []
  },
  {
   "cell_type": "markdown",
   "id": "ad313cbe",
   "metadata": {},
   "source": [
    "## State Reducers\n",
    "\n",
    "- Multiple messages can be concatenated using: \n",
    "  - Using operator.add\n",
    "  - Using langgraph's add_message function"
   ]
  },
  {
   "cell_type": "code",
   "execution_count": 10,
   "id": "ec9eb8e2",
   "metadata": {},
   "outputs": [
    {
     "data": {
      "image/png": "[encoded data removed]",
      "text/plain": [
       "<IPython.core.display.Image object>"
      ]
     },
     "metadata": {},
     "output_type": "display_data"
    }
   ],
   "source": [
    "from operator import add\n",
    "\n",
    "\n",
    "class DefaultState(TypedDict):\n",
    "    messages: list\n",
    "\n",
    "\n",
    "class StateWithOperatorAdd(TypedDict):\n",
    "    messages: Annotated[list, add]\n",
    "\n",
    "\n",
    "class StateWithAddMessages(TypedDict):\n",
    "    messages: Annotated[list, add_messages]\n",
    "\n",
    "\n",
    "def node_1(state: DefaultState) -> dict[str, Any]:\n",
    "    print(\"node 1\")\n",
    "    return {\"messages\": state[\"messages\"]}\n",
    "\n",
    "\n",
    "def node_2(state: DefaultState) -> dict[str, Any]:\n",
    "    print(\"node 2\")\n",
    "    return {\"messages\": [\"processed\"]}\n",
    "\n",
    "\n",
    "def node_3(state: DefaultState) -> dict[str, Any]:\n",
    "    print(\"node 3\")\n",
    "    return {\"messages\": [\"processed\"]}\n",
    "\n",
    "\n",
    "graph_builder = StateGraph(DefaultState)\n",
    "graph_builder.add_node(\"node_1\", node_1)\n",
    "graph_builder.add_node(\"node_2\", node_2)\n",
    "graph_builder.add_node(\"node_3\", node_3)\n",
    "\n",
    "graph_builder.add_edge(START, \"node_1\")\n",
    "graph_builder.add_edge(\"node_1\", \"node_2\")\n",
    "graph_builder.add_edge(\"node_1\", \"node_3\")\n",
    "graph_builder.add_edge(\"node_2\", END)\n",
    "graph_builder.add_edge(\"node_3\", END)\n",
    "\n",
    "\n",
    "graph = graph_builder.compile()\n",
    "\n",
    "display(Image(graph.get_graph().draw_mermaid_png()))"
   ]
  },
  {
   "cell_type": "markdown",
   "id": "b46db1c4",
   "metadata": {},
   "source": [
    "<br>\n",
    "\n",
    "### Comment\n",
    "\n",
    "- When we use the `DefaultState` as the state type, there's no way to concatenate the messages, we get an error because multiple steps/nodes can't write to the same field at the same time.\n",
    "- To solve this, we can use `StateWithOperatorAdd` or `StateWithAddMessages`"
   ]
  },
  {
   "cell_type": "code",
   "execution_count": 11,
   "id": "339d920c",
   "metadata": {},
   "outputs": [
    {
     "name": "stdout",
     "output_type": "stream",
     "text": [
      "node 1\n",
      "node 2\n",
      "node 3\n"
     ]
    },
    {
     "data": {
      "text/html": [
       "<pre style=\"white-space:pre;overflow-x:auto;line-height:normal;font-family:Menlo,'DejaVu Sans Mono',consolas,'Courier New',monospace\"><span style=\"color: #7fbfbf; text-decoration-color: #7fbfbf\">[21:11:46] </span>Error: At key <span style=\"color: #008000; text-decoration-color: #008000\">'messages'</span>: Can receive only one value per step. Use an Annotated key to   <a href=\"file:///var/folders/ny/dl75sc_x2tb54lsymt5bh5p00000gn/T/ipykernel_68572/3042397884.py\" target=\"_blank\"><span style=\"color: #7f7f7f; text-decoration-color: #7f7f7f\">3042397884.py</span></a><span style=\"color: #7f7f7f; text-decoration-color: #7f7f7f\">:</span><a href=\"file:///var/folders/ny/dl75sc_x2tb54lsymt5bh5p00000gn/T/ipykernel_68572/3042397884.py#7\" target=\"_blank\"><span style=\"color: #7f7f7f; text-decoration-color: #7f7f7f\">7</span></a>\n",
       "<span style=\"color: #7fbfbf; text-decoration-color: #7fbfbf\">           </span>handle multiple values.                                                                  <span style=\"color: #7f7f7f; text-decoration-color: #7f7f7f\">               </span>\n",
       "<span style=\"color: #7fbfbf; text-decoration-color: #7fbfbf\">           </span>For troubleshooting, visit:                                                              <span style=\"color: #7f7f7f; text-decoration-color: #7f7f7f\">               </span>\n",
       "<span style=\"color: #7fbfbf; text-decoration-color: #7fbfbf\">           </span><span style=\"color: #0000ff; text-decoration-color: #0000ff; text-decoration: underline\">https://python.langchain.com/docs/troubleshooting/errors/INVALID_CONCURRENT_GRAPH_UPDATE</span> <span style=\"color: #7f7f7f; text-decoration-color: #7f7f7f\">               </span>\n",
       "</pre>\n"
      ],
      "text/plain": [
       "\u001b[2;36m[21:11:46]\u001b[0m\u001b[2;36m \u001b[0mError: At key \u001b[32m'messages'\u001b[0m: Can receive only one value per step. Use an Annotated key to   \u001b]8;id=485685;file:///var/folders/ny/dl75sc_x2tb54lsymt5bh5p00000gn/T/ipykernel_68572/3042397884.py\u001b\\\u001b[2m3042397884.py\u001b[0m\u001b]8;;\u001b\\\u001b[2m:\u001b[0m\u001b]8;id=885527;file:///var/folders/ny/dl75sc_x2tb54lsymt5bh5p00000gn/T/ipykernel_68572/3042397884.py#7\u001b\\\u001b[2m7\u001b[0m\u001b]8;;\u001b\\\n",
       "\u001b[2;36m           \u001b[0mhandle multiple values.                                                                  \u001b[2m               \u001b[0m\n",
       "\u001b[2;36m           \u001b[0mFor troubleshooting, visit:                                                              \u001b[2m               \u001b[0m\n",
       "\u001b[2;36m           \u001b[0m\u001b[4;94mhttps://python.langchain.com/docs/troubleshooting/errors/INVALID_CONCURRENT_GRAPH_UPDATE\u001b[0m \u001b[2m               \u001b[0m\n"
      ]
     },
     "metadata": {},
     "output_type": "display_data"
    }
   ],
   "source": [
    "from langgraph.errors import InvalidUpdateError\n",
    "\n",
    "try:\n",
    "    result = graph.invoke({\"messages\": [\"Hello\"]})\n",
    "    pprint(result)\n",
    "except InvalidUpdateError as e:\n",
    "    console.log(f\"Error: {e}\")"
   ]
  },
  {
   "cell_type": "code",
   "execution_count": 12,
   "id": "6ae06ab7",
   "metadata": {},
   "outputs": [
    {
     "data": {
      "text/html": [
       "<pre style=\"white-space:pre;overflow-x:auto;line-height:normal;font-family:Menlo,'DejaVu Sans Mono',consolas,'Courier New',monospace\"><span style=\"color: #7fbfbf; text-decoration-color: #7fbfbf\">[21:11:47] </span>Result of add_messages: <span style=\"font-weight: bold\">[</span><span style=\"color: #800080; text-decoration-color: #800080; font-weight: bold\">HumanMessage</span><span style=\"font-weight: bold\">(</span><span style=\"color: #808000; text-decoration-color: #808000\">content</span>=<span style=\"color: #008000; text-decoration-color: #008000\">'Hello'</span>, <span style=\"color: #808000; text-decoration-color: #808000\">additional_kwargs</span>=<span style=\"font-weight: bold\">{}</span>,            <a href=\"file:///var/folders/ny/dl75sc_x2tb54lsymt5bh5p00000gn/T/ipykernel_68572/2283970116.py\" target=\"_blank\"><span style=\"color: #7f7f7f; text-decoration-color: #7f7f7f\">2283970116.py</span></a><span style=\"color: #7f7f7f; text-decoration-color: #7f7f7f\">:</span><a href=\"file:///var/folders/ny/dl75sc_x2tb54lsymt5bh5p00000gn/T/ipykernel_68572/2283970116.py#12\" target=\"_blank\"><span style=\"color: #7f7f7f; text-decoration-color: #7f7f7f\">12</span></a>\n",
       "<span style=\"color: #7fbfbf; text-decoration-color: #7fbfbf\">           </span><span style=\"color: #808000; text-decoration-color: #808000\">response_metadata</span>=<span style=\"font-weight: bold\">{}</span>, <span style=\"color: #808000; text-decoration-color: #808000\">id</span>=<span style=\"color: #008000; text-decoration-color: #008000\">'9e3ab599-a1bd-4a83-ba7c-16f6e47704b9'</span><span style=\"font-weight: bold\">)</span>, <span style=\"color: #800080; text-decoration-color: #800080; font-weight: bold\">AIMessage</span><span style=\"font-weight: bold\">(</span><span style=\"color: #808000; text-decoration-color: #808000\">content</span>=<span style=\"color: #008000; text-decoration-color: #008000\">'Hi</span> <span style=\"color: #7f7f7f; text-decoration-color: #7f7f7f\">                </span>\n",
       "<span style=\"color: #7fbfbf; text-decoration-color: #7fbfbf\">           </span><span style=\"color: #008000; text-decoration-color: #008000\">there!'</span>, <span style=\"color: #808000; text-decoration-color: #808000\">additional_kwargs</span>=<span style=\"font-weight: bold\">{}</span>, <span style=\"color: #808000; text-decoration-color: #808000\">response_metadata</span>=<span style=\"font-weight: bold\">{}</span>,                                    <span style=\"color: #7f7f7f; text-decoration-color: #7f7f7f\">                </span>\n",
       "<span style=\"color: #7fbfbf; text-decoration-color: #7fbfbf\">           </span><span style=\"color: #808000; text-decoration-color: #808000\">id</span>=<span style=\"color: #008000; text-decoration-color: #008000\">'a7e271aa-feab-47bb-993c-dd83a07b42e2'</span><span style=\"font-weight: bold\">)</span>, <span style=\"color: #800080; text-decoration-color: #800080; font-weight: bold\">HumanMessage</span><span style=\"font-weight: bold\">(</span><span style=\"color: #808000; text-decoration-color: #808000\">content</span>=<span style=\"color: #008000; text-decoration-color: #008000\">'How are you?'</span>,        <span style=\"color: #7f7f7f; text-decoration-color: #7f7f7f\">                </span>\n",
       "<span style=\"color: #7fbfbf; text-decoration-color: #7fbfbf\">           </span><span style=\"color: #808000; text-decoration-color: #808000\">additional_kwargs</span>=<span style=\"font-weight: bold\">{}</span>, <span style=\"color: #808000; text-decoration-color: #808000\">response_metadata</span>=<span style=\"font-weight: bold\">{}</span>, <span style=\"color: #808000; text-decoration-color: #808000\">id</span>=<span style=\"color: #008000; text-decoration-color: #008000\">'3a42c37f-17d2-4b8f-a50b-3d175cf9518a'</span><span style=\"font-weight: bold\">)]</span> <span style=\"color: #7f7f7f; text-decoration-color: #7f7f7f\">                </span>\n",
       "</pre>\n"
      ],
      "text/plain": [
       "\u001b[2;36m[21:11:47]\u001b[0m\u001b[2;36m \u001b[0mResult of add_messages: \u001b[1m[\u001b[0m\u001b[1;35mHumanMessage\u001b[0m\u001b[1m(\u001b[0m\u001b[33mcontent\u001b[0m=\u001b[32m'Hello'\u001b[0m, \u001b[33madditional_kwargs\u001b[0m=\u001b[1m{\u001b[0m\u001b[1m}\u001b[0m,            \u001b]8;id=665030;file:///var/folders/ny/dl75sc_x2tb54lsymt5bh5p00000gn/T/ipykernel_68572/2283970116.py\u001b\\\u001b[2m2283970116.py\u001b[0m\u001b]8;;\u001b\\\u001b[2m:\u001b[0m\u001b]8;id=40000;file:///var/folders/ny/dl75sc_x2tb54lsymt5bh5p00000gn/T/ipykernel_68572/2283970116.py#12\u001b\\\u001b[2m12\u001b[0m\u001b]8;;\u001b\\\n",
       "\u001b[2;36m           \u001b[0m\u001b[33mresponse_metadata\u001b[0m=\u001b[1m{\u001b[0m\u001b[1m}\u001b[0m, \u001b[33mid\u001b[0m=\u001b[32m'9e3ab599-a1bd-4a83-ba7c-16f6e47704b9'\u001b[0m\u001b[1m)\u001b[0m, \u001b[1;35mAIMessage\u001b[0m\u001b[1m(\u001b[0m\u001b[33mcontent\u001b[0m=\u001b[32m'Hi\u001b[0m \u001b[2m                \u001b[0m\n",
       "\u001b[2;36m           \u001b[0m\u001b[32mthere!'\u001b[0m, \u001b[33madditional_kwargs\u001b[0m=\u001b[1m{\u001b[0m\u001b[1m}\u001b[0m, \u001b[33mresponse_metadata\u001b[0m=\u001b[1m{\u001b[0m\u001b[1m}\u001b[0m,                                    \u001b[2m                \u001b[0m\n",
       "\u001b[2;36m           \u001b[0m\u001b[33mid\u001b[0m=\u001b[32m'a7e271aa-feab-47bb-993c-dd83a07b42e2'\u001b[0m\u001b[1m)\u001b[0m, \u001b[1;35mHumanMessage\u001b[0m\u001b[1m(\u001b[0m\u001b[33mcontent\u001b[0m=\u001b[32m'How are you?'\u001b[0m,        \u001b[2m                \u001b[0m\n",
       "\u001b[2;36m           \u001b[0m\u001b[33madditional_kwargs\u001b[0m=\u001b[1m{\u001b[0m\u001b[1m}\u001b[0m, \u001b[33mresponse_metadata\u001b[0m=\u001b[1m{\u001b[0m\u001b[1m}\u001b[0m, \u001b[33mid\u001b[0m=\u001b[32m'3a42c37f-17d2-4b8f-a50b-3d175cf9518a'\u001b[0m\u001b[1m)\u001b[0m\u001b[1m]\u001b[0m \u001b[2m                \u001b[0m\n"
      ]
     },
     "metadata": {},
     "output_type": "display_data"
    }
   ],
   "source": [
    "# how add_messages works.\n",
    "initial_message: list[Any] = [\n",
    "    {\"role\": \"user\", \"content\": \"Hello\"},\n",
    "    {\"role\": \"assistant\", \"content\": \"Hi there!\"},\n",
    "]\n",
    "\n",
    "# Add new message\n",
    "new_message: dict[str, Any] = {\"role\": \"user\", \"content\": \"How are you?\"}\n",
    "\n",
    "# Use add_messages to create a new list with the new message added\n",
    "add_messages_result: list[Any] = add_messages(initial_message, new_message)\n",
    "console.log(f\"Result of add_messages: {add_messages_result}\")"
   ]
  },
  {
   "cell_type": "code",
   "execution_count": null,
   "id": "54ed333f",
   "metadata": {},
   "outputs": [],
   "source": []
  },
  {
   "cell_type": "code",
   "execution_count": 13,
   "id": "14d5d555",
   "metadata": {},
   "outputs": [
    {
     "data": {
      "image/png": "[encoded data removed]",
      "text/plain": [
       "<IPython.core.display.Image object>"
      ]
     },
     "metadata": {},
     "output_type": "display_data"
    }
   ],
   "source": [
    "def node_1(state: StateWithOperatorAdd) -> dict[str, Any]:\n",
    "    print(\"node 1\")\n",
    "    return {\"messages\": state[\"messages\"]}\n",
    "\n",
    "\n",
    "def node_2(state: StateWithOperatorAdd) -> dict[str, Any]:\n",
    "    print(\"node 2\")\n",
    "    return {\"messages\": [\"processed\"]}\n",
    "\n",
    "\n",
    "def node_3(state: StateWithOperatorAdd) -> dict[str, Any]:\n",
    "    print(\"node 3\")\n",
    "    return {\"messages\": [\"processed\"]}\n",
    "\n",
    "\n",
    "graph_builder = StateGraph(StateWithOperatorAdd)\n",
    "graph_builder.add_node(\"node_1\", node_1)\n",
    "graph_builder.add_node(\"node_2\", node_2)\n",
    "graph_builder.add_node(\"node_3\", node_3)\n",
    "\n",
    "graph_builder.add_edge(START, \"node_1\")\n",
    "graph_builder.add_edge(\"node_1\", \"node_2\")\n",
    "graph_builder.add_edge(\"node_1\", \"node_3\")\n",
    "graph_builder.add_edge(\"node_2\", END)\n",
    "graph_builder.add_edge(\"node_3\", END)\n",
    "\n",
    "\n",
    "graph = graph_builder.compile()\n",
    "\n",
    "display(Image(graph.get_graph().draw_mermaid_png()))"
   ]
  },
  {
   "cell_type": "code",
   "execution_count": 14,
   "id": "6b842d10",
   "metadata": {},
   "outputs": [
    {
     "name": "stdout",
     "output_type": "stream",
     "text": [
      "node 1\n",
      "node 2\n",
      "node 3\n",
      "{'messages': ['Hello', 'Hello', 'processed', 'processed']}\n"
     ]
    }
   ],
   "source": [
    "try:\n",
    "    result = graph.invoke({\"messages\": [\"Hello\"]})\n",
    "    pprint(result)\n",
    "except InvalidUpdateError as e:\n",
    "    console.log(f\"Error: {e}\")"
   ]
  },
  {
   "cell_type": "code",
   "execution_count": 15,
   "id": "7b786645",
   "metadata": {},
   "outputs": [
    {
     "data": {
      "text/html": [
       "<pre style=\"white-space:pre;overflow-x:auto;line-height:normal;font-family:Menlo,'DejaVu Sans Mono',consolas,'Courier New',monospace\"><span style=\"color: #7fbfbf; text-decoration-color: #7fbfbf\">[21:11:52] </span>Error: can only concatenate list <span style=\"font-weight: bold\">(</span>not <span style=\"color: #008000; text-decoration-color: #008000\">\"NoneType\"</span><span style=\"font-weight: bold\">)</span> to list                                 <a href=\"file:///var/folders/ny/dl75sc_x2tb54lsymt5bh5p00000gn/T/ipykernel_68572/819682595.py\" target=\"_blank\"><span style=\"color: #7f7f7f; text-decoration-color: #7f7f7f\">819682595.py</span></a><span style=\"color: #7f7f7f; text-decoration-color: #7f7f7f\">:</span><a href=\"file:///var/folders/ny/dl75sc_x2tb54lsymt5bh5p00000gn/T/ipykernel_68572/819682595.py#5\" target=\"_blank\"><span style=\"color: #7f7f7f; text-decoration-color: #7f7f7f\">5</span></a>\n",
       "</pre>\n"
      ],
      "text/plain": [
       "\u001b[2;36m[21:11:52]\u001b[0m\u001b[2;36m \u001b[0mError: can only concatenate list \u001b[1m(\u001b[0mnot \u001b[32m\"NoneType\"\u001b[0m\u001b[1m)\u001b[0m to list                                 \u001b]8;id=843668;file:///var/folders/ny/dl75sc_x2tb54lsymt5bh5p00000gn/T/ipykernel_68572/819682595.py\u001b\\\u001b[2m819682595.py\u001b[0m\u001b]8;;\u001b\\\u001b[2m:\u001b[0m\u001b]8;id=836733;file:///var/folders/ny/dl75sc_x2tb54lsymt5bh5p00000gn/T/ipykernel_68572/819682595.py#5\u001b\\\u001b[2m5\u001b[0m\u001b]8;;\u001b\\\n"
      ]
     },
     "metadata": {},
     "output_type": "display_data"
    }
   ],
   "source": [
    "try:\n",
    "    result = graph.invoke({\"messages\": None})\n",
    "    pprint(result)\n",
    "except (InvalidUpdateError, TypeError) as e:\n",
    "    console.log(f\"Error: {e}\")"
   ]
  },
  {
   "cell_type": "markdown",
   "id": "95eb886e",
   "metadata": {},
   "source": [
    "### Custom Reducers\n",
    "\n",
    "- We can create custom reducers for handlng edge cases."
   ]
  },
  {
   "cell_type": "code",
   "execution_count": 16,
   "id": "ef8c09a8",
   "metadata": {},
   "outputs": [],
   "source": [
    "def reduce_list(left: list[list[Any]] | None, right: list[Any] | None) -> list[Any]:\n",
    "    \"\"\"Reduce two lists into one.\"\"\"\n",
    "    if left is None:\n",
    "        left = []\n",
    "    if right is None:\n",
    "        right = []\n",
    "    return left + right"
   ]
  },
  {
   "cell_type": "code",
   "execution_count": 17,
   "metadata": {},
   "outputs": [
    {
     "data": {
      "image/png": "[encoded data removed]",
      "text/plain": [
       "<IPython.core.display.Image object>"
      ]
     },
     "metadata": {},
     "output_type": "display_data"
    }
   ],
   "source": [
    "class StateWithCustomReducer(TypedDict):\n",
    "    messages: Annotated[list, reduce_list]\n",
    "\n",
    "\n",
    "def node_1(state: StateWithCustomReducer) -> dict[str, Any]:\n",
    "    print(\"node 1\")\n",
    "    return {\"messages\": state[\"messages\"]}\n",
    "\n",
    "\n",
    "def node_2(state: StateWithCustomReducer) -> dict[str, Any]:\n",
    "    print(\"node 2\")\n",
    "    return {\"messages\": [\"processed\"]}\n",
    "\n",
    "\n",
    "def node_3(state: StateWithCustomReducer) -> dict[str, Any]:\n",
    "    print(\"node 3\")\n",
    "    return {\"messages\": [\"processed\"]}\n",
    "\n",
    "\n",
    "graph_builder = StateGraph(StateWithCustomReducer)\n",
    "graph_builder.add_node(\"node_1\", node_1)\n",
    "graph_builder.add_node(\"node_2\", node_2)\n",
    "graph_builder.add_node(\"node_3\", node_3)\n",
    "\n",
    "graph_builder.add_edge(START, \"node_1\")\n",
    "graph_builder.add_edge(\"node_1\", \"node_2\")\n",
    "graph_builder.add_edge(\"node_1\", \"node_3\")\n",
    "graph_builder.add_edge(\"node_2\", END)\n",
    "graph_builder.add_edge(\"node_3\", END)\n",
    "\n",
    "\n",
    "graph = graph_builder.compile()\n",
    "\n",
    "display(Image(graph.get_graph().draw_mermaid_png()))"
   ]
  },
  {
   "cell_type": "code",
   "execution_count": 18,
   "id": "4c8bf4ec",
   "metadata": {},
   "outputs": [
    {
     "name": "stdout",
     "output_type": "stream",
     "text": [
      "node 1\n",
      "node 2\n",
      "node 3\n",
      "{'messages': ['processed', 'processed']}\n"
     ]
    }
   ],
   "source": [
    "try:\n",
    "    result = graph.invoke({\"messages\": None})\n",
    "    pprint(result)\n",
    "except (InvalidUpdateError, TypeError) as e:\n",
    "    console.log(f\"Error: {e}\")"
   ]
  },
  {
   "cell_type": "markdown",
   "id": "0e425a62",
   "metadata": {},
   "source": [
    "<hr><br>\n",
    "\n",
    "## Multiple Schemas\n",
    "\n",
    "- We can use specific schemas for the input and output of the graph.\n",
    "- This can be based on the relevant keys in the input and output."
   ]
  },
  {
   "cell_type": "code",
   "execution_count": 19,
   "id": "61629db3",
   "metadata": {},
   "outputs": [
    {
     "data": {
      "image/png": "[encoded data removed]",
      "text/plain": [
       "<IPython.core.display.Image object>"
      ]
     },
     "metadata": {},
     "output_type": "display_data"
    }
   ],
   "source": [
    "class InputState(TypedDict):\n",
    "    question: str\n",
    "\n",
    "\n",
    "class OutputState(TypedDict):\n",
    "    answer: str\n",
    "\n",
    "\n",
    "class OverallState(TypedDict):\n",
    "    question: str\n",
    "    answer: str\n",
    "    notes: str\n",
    "\n",
    "\n",
    "def thinking_node(state: InputState) -> dict[str, str]:\n",
    "    return {\"answer\": \"bye\", \"notes\": \"... his name is Neidu\"}\n",
    "\n",
    "\n",
    "def answer_mode(state: OverallState) -> OutputState:\n",
    "    return {\"answer\": \"bye Neidu\"}\n",
    "\n",
    "\n",
    "# Build the state graph\n",
    "graph_builder = StateGraph(OverallState, input=InputState, output=OutputState)\n",
    "graph_builder.add_node(\"thinking_node\", thinking_node)\n",
    "graph_builder.add_node(\"answer_mode\", answer_mode)\n",
    "\n",
    "# Connect nodes\n",
    "graph_builder.add_edge(START, \"thinking_node\")\n",
    "graph_builder.add_edge(\"thinking_node\", \"answer_mode\")\n",
    "graph_builder.add_edge(\"answer_mode\", END)\n",
    "\n",
    "# Compile the graph and visualize it\n",
    "graph = graph_builder.compile()\n",
    "display(Image(graph.get_graph().draw_mermaid_png()))"
   ]
  },
  {
   "cell_type": "code",
   "execution_count": 20,
   "id": "fb6ca5e7",
   "metadata": {},
   "outputs": [
    {
     "name": "stdout",
     "output_type": "stream",
     "text": [
      "{'answer': 'bye Neidu'}\n"
     ]
    }
   ],
   "source": [
    "result = graph.invoke({\"question\": \"What is your name?\"})\n",
    "pprint(result)"
   ]
  },
  {
   "cell_type": "markdown",
   "id": "f276e916",
   "metadata": {},
   "source": [
    "<hr><br>\n",
    "\n",
    "\n",
    "## Filtering And Trimming Messages\n",
    "\n",
    "- To avoid sending too many messages to the LLM especially as the context grows, we can filter and trim the messages.\n",
    "\n",
    "### 1. Using A Reducer To Remove Messages\n",
    "- Using `add_messages`  and `RemoveMessage`\n",
    "- This modifies the graph's state.\n",
    "\n",
    "#### Observability\n",
    "\n",
    "- You can view the traces using `LangFuse` or any other observability tool."
   ]
  },
  {
   "cell_type": "code",
   "execution_count": null,
   "id": "d72f006b",
   "metadata": {},
   "outputs": [
    {
     "data": {
      "image/png": "[encoded data removed]",
      "text/plain": [
       "<IPython.core.display.Image object>"
      ]
     },
     "metadata": {},
     "output_type": "display_data"
    }
   ],
   "source": [
    "from langchain_core.messages import RemoveMessage\n",
    "\n",
    "\n",
    "class MessageState(TypedDict):\n",
    "    messages: Annotated[list[Any], add_messages]\n",
    "\n",
    "\n",
    "def filter_messages(state: MessageState) -> dict[str, Any]:\n",
    "    # Delete all but the N most recent messages\n",
    "    N: int = 3\n",
    "    deleted_messages: list[Any] = [RemoveMessage(id=m.id) for m in state[\"messages\"][:-N]]\n",
    "    return {\"messages\": deleted_messages}\n",
    "\n",
    "\n",
    "async def chatbot(state: MessageState) -> dict[str, Any]:\n",
    "    response = await llm.ainvoke(state[\"messages\"])\n",
    "    return {\"messages\": [response]}\n",
    "\n",
    "\n",
    "# Build the state graph\n",
    "graph_builder = StateGraph(MessageState)\n",
    "\n",
    "# Add Nodes\n",
    "graph_builder.add_node(\"filter_messages\", filter_messages)\n",
    "graph_builder.add_node(\"chatbot\", chatbot)\n",
    "\n",
    "# Connect nodes\n",
    "graph_builder.add_edge(START, \"filter_messages\")\n",
    "graph_builder.add_edge(\"filter_messages\", \"chatbot\")\n",
    "graph_builder.add_edge(\"chatbot\", END)\n",
    "\n",
    "# Compile the graph and visualize it\n",
    "memory = MemorySaver()\n",
    "graph = graph_builder.compile(checkpointer=memory)\n",
    "display(Image(graph.get_graph().draw_mermaid_png()))"
   ]
  },
  {
   "cell_type": "code",
   "execution_count": null,
   "id": "a2ebd601",
   "metadata": {},
   "outputs": [
    {
     "name": "stdout",
     "output_type": "stream",
     "text": [
      "================================\u001b[1m Human Message \u001b[0m=================================\n",
      "\n",
      "can you remember my name?\n",
      "================================\u001b[1m Human Message \u001b[0m=================================\n",
      "\n",
      "can you remember my name?\n",
      "==================================\u001b[1m Ai Message \u001b[0m==================================\n",
      "\n",
      "Yes, I can remember your name. You are Chinedu. How can I assist you today?\n"
     ]
    }
   ],
   "source": [
    "config = {\"configurable\": {\"thread_id\": \"1\"}}\n",
    "messages: list[Any] = [\n",
    "    {\"role\": \"user\", \"content\": \"Hi!\"},\n",
    "    {\"role\": \"assistant\", \"content\": \"Hello\"},\n",
    "    {\"role\": \"user\", \"content\": \"I'm Chinedu.\"},\n",
    "    {\"role\": \"assistant\", \"content\": \"Hello, how can I help you today?\"},\n",
    "    {\"role\": \"user\", \"content\": \"can you remember my name?\"},\n",
    "]\n",
    "\n",
    "async for message in graph.astream({\"messages\": messages}, config=config, stream_mode=\"values\"):\n",
    "    if \"messages\" in message:\n",
    "        message[\"messages\"][-1].pretty_print()"
   ]
  },
  {
   "cell_type": "code",
   "execution_count": 32,
   "id": "d4ebe1d4",
   "metadata": {},
   "outputs": [
    {
     "data": {
      "text/plain": [
       "{'messages': [AIMessage(content='Hello, how can I help you today?', additional_kwargs={}, response_metadata={}, id='8920da96-a643-4b08-91cb-e1514e536a08'),\n",
       "  HumanMessage(content='can you remember my name?', additional_kwargs={}, response_metadata={}, id='8f58e3e9-20ab-4015-aee9-b552a60653c5'),\n",
       "  AIMessage(content=\"I don't have the ability to remember or store personal information between interactions. How can I assist you today?\", additional_kwargs={}, response_metadata={'token_usage': {'prompt_tokens': 21, 'total_tokens': 44, 'completion_tokens': 23}, 'model_name': 'ministral-8b-latest', 'model': 'ministral-8b-latest', 'finish_reason': 'stop'}, id='run--072aa728-6d2b-4659-a0d4-3b7056b1c988-0', usage_metadata={'input_tokens': 21, 'output_tokens': 23, 'total_tokens': 44})]}"
      ]
     },
     "execution_count": 32,
     "metadata": {},
     "output_type": "execute_result"
    }
   ],
   "source": [
    "message"
   ]
  },
  {
   "cell_type": "markdown",
   "id": "2a6eefdd",
   "metadata": {},
   "source": [
    "<br>\n",
    "\n",
    "### 2. Filtering Messages Without Modifying The Graph's State\n",
    "\n",
    "- This can be done by selecting a slice of the message history.\n",
    "- i.e. `state[\"messages\"][-N:]`"
   ]
  },
  {
   "cell_type": "code",
   "execution_count": 35,
   "id": "d2cc83c7",
   "metadata": {},
   "outputs": [
    {
     "data": {
      "image/png": "[encoded data removed]",
      "text/plain": [
       "<IPython.core.display.Image object>"
      ]
     },
     "metadata": {},
     "output_type": "display_data"
    }
   ],
   "source": [
    "async def chatbot_with_slice(state: MessageState) -> dict[str, Any]:\n",
    "    N: int = 3\n",
    "    response = await llm.ainvoke(state[\"messages\"][-N:])\n",
    "    return {\"messages\": [response]}\n",
    "\n",
    "\n",
    "# Build the state graph\n",
    "graph_builder = StateGraph(MessageState)\n",
    "\n",
    "# Add Nodes\n",
    "graph_builder.add_node(\"chatbot_with_slice\", chatbot_with_slice)\n",
    "\n",
    "# Connect nodes\n",
    "graph_builder.add_edge(START, \"chatbot_with_slice\")\n",
    "graph_builder.add_edge(\"chatbot_with_slice\", END)\n",
    "\n",
    "# Compile the graph and visualize it\n",
    "memory = MemorySaver()\n",
    "graph = graph_builder.compile(checkpointer=memory)\n",
    "display(Image(graph.get_graph().draw_mermaid_png()))"
   ]
  },
  {
   "cell_type": "code",
   "execution_count": null,
   "id": "bc9bd87c",
   "metadata": {},
   "outputs": [
    {
     "name": "stdout",
     "output_type": "stream",
     "text": [
      "================================\u001b[1m Human Message \u001b[0m=================================\n",
      "\n",
      "can you remember my name?\n",
      "==================================\u001b[1m Ai Message \u001b[0m==================================\n",
      "\n",
      "Yes, I can remember your name. You are Chinedu. How can I assist you today?\n"
     ]
    }
   ],
   "source": [
    "config = {\"configurable\": {\"thread_id\": \"1\"}}\n",
    "messages: list[Any] = [\n",
    "    {\"role\": \"user\", \"content\": \"Hi!\"},\n",
    "    {\"role\": \"assistant\", \"content\": \"Hello\"},\n",
    "    {\"role\": \"user\", \"content\": \"I'm Chinedu.\"},\n",
    "    {\"role\": \"assistant\", \"content\": \"Hello, how can I help you today?\"},\n",
    "    {\"role\": \"user\", \"content\": \"can you remember my name?\"},\n",
    "]\n",
    "\n",
    "async for message in graph.astream({\"messages\": messages}, config=config, stream_mode=\"values\"):\n",
    "    if \"messages\" in message:\n",
    "        message[\"messages\"][-1].pretty_print()"
   ]
  },
  {
   "cell_type": "markdown",
   "id": "b418853e",
   "metadata": {},
   "source": [
    "### Comment\n",
    "\n",
    "- Only the last N messages are used to generate the response."
   ]
  },
  {
   "cell_type": "code",
   "execution_count": null,
   "metadata": {},
   "outputs": [],
   "source": []
  },
  {
   "cell_type": "markdown",
   "id": "29d4c166",
   "metadata": {},
   "source": [
    "### Trim Messages\n",
    "\n",
    "- This approach trims the messages based upon the set number of tokens.\n",
    "- It uses the langchain's `trim_messages` function."
   ]
  },
  {
   "cell_type": "code",
   "execution_count": 45,
   "id": "7c8a13b6",
   "metadata": {},
   "outputs": [
    {
     "data": {
      "image/png": "[encoded data removed]",
      "text/plain": [
       "<IPython.core.display.Image object>"
      ]
     },
     "metadata": {},
     "output_type": "display_data"
    }
   ],
   "source": [
    "from langchain_core.messages import trim_messages\n",
    "\n",
    "\n",
    "async def chatbot_with_trim(state: MessageState) -> dict[str, Any]:\n",
    "    messages = trim_messages(\n",
    "        messages=state[\"messages\"],\n",
    "        max_tokens=100,\n",
    "        token_counter=llm,\n",
    "        strategy=\"last\",  # keep the last N messages\n",
    "        allow_partial=False,  # allow partial messages\n",
    "    )\n",
    "    response = await llm.ainvoke(messages)\n",
    "    return {\"messages\": [response]}\n",
    "\n",
    "\n",
    "# Build the state graph\n",
    "graph_builder = StateGraph(MessageState)\n",
    "\n",
    "# Add Nodes\n",
    "graph_builder.add_node(\"chatbot_with_trim\", chatbot_with_trim)\n",
    "\n",
    "# Connect nodes\n",
    "graph_builder.add_edge(START, \"chatbot_with_trim\")\n",
    "graph_builder.add_edge(\"chatbot_with_trim\", END)\n",
    "\n",
    "# Compile the graph and visualize it\n",
    "memory = MemorySaver()\n",
    "graph = graph_builder.compile(checkpointer=memory)\n",
    "display(Image(graph.get_graph().draw_mermaid_png()))"
   ]
  },
  {
   "cell_type": "code",
   "execution_count": null,
   "id": "e9d01e76",
   "metadata": {},
   "outputs": [
    {
     "name": "stdout",
     "output_type": "stream",
     "text": [
      "================================\u001b[1m Human Message \u001b[0m=================================\n",
      "\n",
      "can you remember my name?\n",
      "==================================\u001b[1m Ai Message \u001b[0m==================================\n",
      "\n",
      "Yes, I can remember your name. You told me your name is Chinedu. How can I assist you today, Chinedu?\n"
     ]
    }
   ],
   "source": [
    "config = {\"configurable\": {\"thread_id\": \"1\"}}\n",
    "messages: list[Any] = [\n",
    "    {\"role\": \"user\", \"content\": \"Hi!\"},\n",
    "    {\"role\": \"assistant\", \"content\": \"Hello\"},\n",
    "    {\"role\": \"user\", \"content\": \"I'm Chinedu.\"},\n",
    "    {\"role\": \"assistant\", \"content\": \"Hello, how can I help you today?\"},\n",
    "    {\"role\": \"user\", \"content\": \"can you remember my name?\"},\n",
    "]\n",
    "\n",
    "async for message in graph.astream({\"messages\": messages}, config=config, stream_mode=\"values\"):\n",
    "    if \"messages\" in message:\n",
    "        message[\"messages\"][-1].pretty_print()"
   ]
  },
  {
   "cell_type": "markdown",
   "id": "e0f2e166",
   "metadata": {},
   "source": [
    "<br><br>\n",
    "\n",
    "## Chat Summarization\n",
    "\n",
    "- Instead of trimming or filtering messages, we can summarize the chat history (using an LLM) to keep the context while reducing the number of messages."
   ]
  },
  {
   "cell_type": "code",
   "execution_count": null,
   "id": "b5ce35ca",
   "metadata": {},
   "outputs": [],
   "source": [
    "class MessageState(TypedDict):\n",
    "    messages: Annotated[list[Any], add_messages]\n",
    "    summary: str\n",
    "\n",
    "\n",
    "# Nodes\n",
    "async def summarize_history(state: MessageState) -> dict[str, Any]:\n",
    "    \"\"\"\n",
    "    Summarize conversation history and manage message retention.\n",
    "\n",
    "    Parameters:\n",
    "        state (MessageState): Current state containing messages and summary.\n",
    "\n",
    "    Returns:\n",
    "        dict[str, Any]\n",
    "            Dictionary containing new summary and messages to be deleted.\n",
    "    \"\"\"\n",
    "    summary: str = state.get(\"summary\", \"\")\n",
    "\n",
    "    if summary:\n",
    "        summary_msg: str = f\"This is the summary of the conversation so far: {summary}\\n\\n\"\n",
    "        \"Extend this summary by taking into account the new messages above:\"\n",
    "    else:\n",
    "        summary_msg: str = \"Create a summary of the conversation so far:\\n\\n\"\n",
    "\n",
    "    messages: list[Any] = state[\"messages\"] + [HumanMessage(content=summary_msg)]\n",
    "    response: Any = await llm.ainvoke(messages)\n",
    "\n",
    "    # Delete all but the last N messages\n",
    "    N: int = 2\n",
    "    deleted_messages: list[Any] = [RemoveMessage(id=m.id) for m in state[\"messages\"][:-N]]\n",
    "\n",
    "    return {\"summary\": response.content, \"messages\": deleted_messages}\n",
    "\n",
    "\n",
    "async def chatbot_with_summary(state: MessageState) -> dict[str, Any]:\n",
    "    summary: str = state.get(\"summary\", \"\")\n",
    "    if summary:\n",
    "        summary_msg: str = f\"This is the summary of the conversation so far: {summary}\\n\\n\"\n",
    "        messages: list[Any] = [SystemMessage(content=summary_msg)] + state[\"messages\"]\n",
    "    else:\n",
    "        messages = state[\"messages\"]\n",
    "\n",
    "    response = await llm.ainvoke(messages)\n",
    "\n",
    "    return {\"messages\": [response]}\n",
    "\n",
    "\n",
    "def should_summarize(state: MessageState) -> Literal[END, \"summarize\"]:\n",
    "    \"\"\"\n",
    "    Determine if conversation history should be summarized.\n",
    "\n",
    "    Parameters:\n",
    "        state (MessageState): Current state containing messages and summary.\n",
    "\n",
    "    Returns:\n",
    "        Literal[\"summarize\", END]\n",
    "            \"summarize\" if messages exceed threshold, END otherwise.\n",
    "    \"\"\"\n",
    "    messages: list[Any] = state[\"messages\"]\n",
    "    # If there are more than 5 messages, we summarize\n",
    "    if len(messages) > 5:\n",
    "        return \"summarize\"\n",
    "\n",
    "    # Otherwise, we end the conversation\n",
    "    return END"
   ]
  },
  {
   "cell_type": "code",
   "execution_count": null,
   "id": "a07c1d33",
   "metadata": {},
   "outputs": [
    {
     "data": {
      "image/png": "[encoded data removed]",
      "text/plain": [
       "<IPython.core.display.Image object>"
      ]
     },
     "metadata": {},
     "output_type": "display_data"
    }
   ],
   "source": [
    "from langfuse.callback import CallbackHandler\n",
    "\n",
    "\n",
    "graph_builder = StateGraph(MessageState)\n",
    "\n",
    "# Add Nodes\n",
    "graph_builder.add_node(\"summarize_history\", summarize_history)\n",
    "graph_builder.add_node(\"chatbot_with_summary\", chatbot_with_summary)\n",
    "\n",
    "# Connect nodes\n",
    "graph_builder.add_edge(START, \"chatbot_with_summary\")\n",
    "graph_builder.add_conditional_edges(\n",
    "    \"chatbot_with_summary\",\n",
    "    should_summarize,\n",
    "    # From Output --> Node\n",
    "    {\n",
    "        \"summarize\": \"summarize_history\",\n",
    "        END: END,\n",
    "    },\n",
    ")\n",
    "graph_builder.add_edge(\"summarize_history\", END)\n",
    "\n",
    "# Compile the graph and visualize it\n",
    "memory = MemorySaver()\n",
    "langfuse_handler = CallbackHandler()\n",
    "graph = graph_builder.compile(checkpointer=memory).with_config({\"callbacks\": [langfuse_handler]})\n",
    "\n",
    "display(Image(graph.get_graph().draw_mermaid_png()))"
   ]
  },
  {
   "cell_type": "code",
   "execution_count": null,
   "id": "695e97ee",
   "metadata": {},
   "outputs": [
    {
     "name": "stdout",
     "output_type": "stream",
     "text": [
      "================================\u001b[1m Human Message \u001b[0m=================================\n",
      "\n",
      "can you remember my name?\n",
      "==================================\u001b[1m Ai Message \u001b[0m==================================\n",
      "\n",
      "Yes, I can remember your name. You are Chinedu. How can I assist you today?\n",
      "==================================\u001b[1m Ai Message \u001b[0m==================================\n",
      "\n",
      "Yes, I can remember your name. You are Chinedu. How can I assist you today?\n"
     ]
    }
   ],
   "source": [
    "config = {\"configurable\": {\"thread_id\": \"1\"}}\n",
    "messages: list[Any] = [\n",
    "    {\"role\": \"user\", \"content\": \"Hi!\"},\n",
    "    {\"role\": \"assistant\", \"content\": \"Hello\"},\n",
    "    {\"role\": \"user\", \"content\": \"How are you doing?\"},\n",
    "    {\"role\": \"assistant\", \"content\": \"I'm doing well, thank you!\"},\n",
    "    {\"role\": \"user\", \"content\": \"I'm Chinedu.\"},\n",
    "    {\"role\": \"assistant\", \"content\": \"Hello, how can I help you today?\"},\n",
    "    {\"role\": \"user\", \"content\": \"can you remember my name?\"},\n",
    "]\n",
    "\n",
    "async for message in graph.astream({\"messages\": messages}, config=config, stream_mode=\"values\"):\n",
    "    if \"messages\" in message:\n",
    "        message[\"messages\"][-1].pretty_print()"
   ]
  },
  {
   "cell_type": "code",
   "execution_count": 86,
   "id": "0e951964",
   "metadata": {},
   "outputs": [],
   "source": [
    "messages_copy: list[Any] = messages.copy()[-2:]"
   ]
  },
  {
   "cell_type": "code",
   "execution_count": 87,
   "id": "a4802b58",
   "metadata": {},
   "outputs": [
    {
     "data": {
      "text/html": [
       "<pre style=\"white-space:pre;overflow-x:auto;line-height:normal;font-family:Menlo,'DejaVu Sans Mono',consolas,'Courier New',monospace\"><span style=\"color: #7fbfbf; text-decoration-color: #7fbfbf\">[16:11:31] </span><span style=\"font-weight: bold\">[</span>                                                                                       <a href=\"file:///var/folders/ny/dl75sc_x2tb54lsymt5bh5p00000gn/T/ipykernel_68572/3450595926.py\" target=\"_blank\"><span style=\"color: #7f7f7f; text-decoration-color: #7f7f7f\">3450595926.py</span></a><span style=\"color: #7f7f7f; text-decoration-color: #7f7f7f\">:</span><a href=\"file:///var/folders/ny/dl75sc_x2tb54lsymt5bh5p00000gn/T/ipykernel_68572/3450595926.py#14\" target=\"_blank\"><span style=\"color: #7f7f7f; text-decoration-color: #7f7f7f\">14</span></a>\n",
       "<span style=\"color: #7fbfbf; text-decoration-color: #7fbfbf\">           </span>    <span style=\"font-weight: bold\">{</span><span style=\"color: #008000; text-decoration-color: #008000\">'role'</span>: <span style=\"color: #008000; text-decoration-color: #008000\">'assistant'</span>, <span style=\"color: #008000; text-decoration-color: #008000\">'content'</span>: <span style=\"color: #008000; text-decoration-color: #008000\">'Hello, how can I help you today?'</span><span style=\"font-weight: bold\">}</span>,               <span style=\"color: #7f7f7f; text-decoration-color: #7f7f7f\">                </span>\n",
       "<span style=\"color: #7fbfbf; text-decoration-color: #7fbfbf\">           </span>    <span style=\"font-weight: bold\">{</span><span style=\"color: #008000; text-decoration-color: #008000\">'role'</span>: <span style=\"color: #008000; text-decoration-color: #008000\">'user'</span>, <span style=\"color: #008000; text-decoration-color: #008000\">'content'</span>: <span style=\"color: #008000; text-decoration-color: #008000\">'can you remember my name?'</span><span style=\"font-weight: bold\">}</span>,                           <span style=\"color: #7f7f7f; text-decoration-color: #7f7f7f\">                </span>\n",
       "<span style=\"color: #7fbfbf; text-decoration-color: #7fbfbf\">           </span>    <span style=\"font-weight: bold\">{</span>                                                                                   <span style=\"color: #7f7f7f; text-decoration-color: #7f7f7f\">                </span>\n",
       "<span style=\"color: #7fbfbf; text-decoration-color: #7fbfbf\">           </span>        <span style=\"color: #008000; text-decoration-color: #008000\">'role'</span>: <span style=\"color: #008000; text-decoration-color: #008000\">'assistant'</span>,                                                            <span style=\"color: #7f7f7f; text-decoration-color: #7f7f7f\">                </span>\n",
       "<span style=\"color: #7fbfbf; text-decoration-color: #7fbfbf\">           </span>        <span style=\"color: #008000; text-decoration-color: #008000\">'content'</span>: <span style=\"color: #008000; text-decoration-color: #008000\">'Yes, I can remember your name. You are Chinedu. How can I assist </span>   <span style=\"color: #7f7f7f; text-decoration-color: #7f7f7f\">                </span>\n",
       "<span style=\"color: #7fbfbf; text-decoration-color: #7fbfbf\">           </span><span style=\"color: #008000; text-decoration-color: #008000\">you today?'</span>                                                                             <span style=\"color: #7f7f7f; text-decoration-color: #7f7f7f\">                </span>\n",
       "<span style=\"color: #7fbfbf; text-decoration-color: #7fbfbf\">           </span>    <span style=\"font-weight: bold\">}</span>,                                                                                  <span style=\"color: #7f7f7f; text-decoration-color: #7f7f7f\">                </span>\n",
       "<span style=\"color: #7fbfbf; text-decoration-color: #7fbfbf\">           </span>    <span style=\"font-weight: bold\">{</span>                                                                                   <span style=\"color: #7f7f7f; text-decoration-color: #7f7f7f\">                </span>\n",
       "<span style=\"color: #7fbfbf; text-decoration-color: #7fbfbf\">           </span>        <span style=\"color: #008000; text-decoration-color: #008000\">'role'</span>: <span style=\"color: #008000; text-decoration-color: #008000\">'user'</span>,                                                                 <span style=\"color: #7f7f7f; text-decoration-color: #7f7f7f\">                </span>\n",
       "<span style=\"color: #7fbfbf; text-decoration-color: #7fbfbf\">           </span>        <span style=\"color: #008000; text-decoration-color: #008000\">'content'</span>: <span style=\"color: #008000; text-decoration-color: #008000\">'Okay, what is the meaning of flash attention in AI?'</span>                <span style=\"color: #7f7f7f; text-decoration-color: #7f7f7f\">                </span>\n",
       "<span style=\"color: #7fbfbf; text-decoration-color: #7fbfbf\">           </span>    <span style=\"font-weight: bold\">}</span>                                                                                   <span style=\"color: #7f7f7f; text-decoration-color: #7f7f7f\">                </span>\n",
       "<span style=\"color: #7fbfbf; text-decoration-color: #7fbfbf\">           </span><span style=\"font-weight: bold\">]</span>                                                                                       <span style=\"color: #7f7f7f; text-decoration-color: #7f7f7f\">                </span>\n",
       "</pre>\n"
      ],
      "text/plain": [
       "\u001b[2;36m[16:11:31]\u001b[0m\u001b[2;36m \u001b[0m\u001b[1m[\u001b[0m                                                                                       \u001b]8;id=167782;file:///var/folders/ny/dl75sc_x2tb54lsymt5bh5p00000gn/T/ipykernel_68572/3450595926.py\u001b\\\u001b[2m3450595926.py\u001b[0m\u001b]8;;\u001b\\\u001b[2m:\u001b[0m\u001b]8;id=960166;file:///var/folders/ny/dl75sc_x2tb54lsymt5bh5p00000gn/T/ipykernel_68572/3450595926.py#14\u001b\\\u001b[2m14\u001b[0m\u001b]8;;\u001b\\\n",
       "\u001b[2;36m           \u001b[0m    \u001b[1m{\u001b[0m\u001b[32m'role'\u001b[0m: \u001b[32m'assistant'\u001b[0m, \u001b[32m'content'\u001b[0m: \u001b[32m'Hello, how can I help you today?'\u001b[0m\u001b[1m}\u001b[0m,               \u001b[2m                \u001b[0m\n",
       "\u001b[2;36m           \u001b[0m    \u001b[1m{\u001b[0m\u001b[32m'role'\u001b[0m: \u001b[32m'user'\u001b[0m, \u001b[32m'content'\u001b[0m: \u001b[32m'can you remember my name?'\u001b[0m\u001b[1m}\u001b[0m,                           \u001b[2m                \u001b[0m\n",
       "\u001b[2;36m           \u001b[0m    \u001b[1m{\u001b[0m                                                                                   \u001b[2m                \u001b[0m\n",
       "\u001b[2;36m           \u001b[0m        \u001b[32m'role'\u001b[0m: \u001b[32m'assistant'\u001b[0m,                                                            \u001b[2m                \u001b[0m\n",
       "\u001b[2;36m           \u001b[0m        \u001b[32m'content'\u001b[0m: \u001b[32m'Yes, I can remember your name. You are Chinedu. How can I assist \u001b[0m   \u001b[2m                \u001b[0m\n",
       "\u001b[2;36m           \u001b[0m\u001b[32myou today?'\u001b[0m                                                                             \u001b[2m                \u001b[0m\n",
       "\u001b[2;36m           \u001b[0m    \u001b[1m}\u001b[0m,                                                                                  \u001b[2m                \u001b[0m\n",
       "\u001b[2;36m           \u001b[0m    \u001b[1m{\u001b[0m                                                                                   \u001b[2m                \u001b[0m\n",
       "\u001b[2;36m           \u001b[0m        \u001b[32m'role'\u001b[0m: \u001b[32m'user'\u001b[0m,                                                                 \u001b[2m                \u001b[0m\n",
       "\u001b[2;36m           \u001b[0m        \u001b[32m'content'\u001b[0m: \u001b[32m'Okay, what is the meaning of flash attention in AI?'\u001b[0m                \u001b[2m                \u001b[0m\n",
       "\u001b[2;36m           \u001b[0m    \u001b[1m}\u001b[0m                                                                                   \u001b[2m                \u001b[0m\n",
       "\u001b[2;36m           \u001b[0m\u001b[1m]\u001b[0m                                                                                       \u001b[2m                \u001b[0m\n"
      ]
     },
     "metadata": {},
     "output_type": "display_data"
    }
   ],
   "source": [
    "response: dict[str, Any] = {\n",
    "    \"role\": \"assistant\",\n",
    "    \"content\": message[\"messages\"][-1].content,\n",
    "}\n",
    "messages_copy.append(response)\n",
    "\n",
    "message: dict[str, Any] = {\n",
    "    \"role\": \"user\",\n",
    "    \"content\": \"Okay, what is the meaning of flash attention in AI?\",\n",
    "}\n",
    "\n",
    "messages_copy.append(message)\n",
    "\n",
    "console.log(messages_copy)"
   ]
  },
  {
   "cell_type": "code",
   "execution_count": 88,
   "id": "17eb6395",
   "metadata": {},
   "outputs": [
    {
     "name": "stdout",
     "output_type": "stream",
     "text": [
      "================================\u001b[1m Human Message \u001b[0m=================================\n",
      "\n",
      "Okay, what is the meaning of flash attention in AI?\n",
      "==================================\u001b[1m Ai Message \u001b[0m==================================\n",
      "\n",
      "Flash attention is a technique used in natural language processing (NLP) to improve the efficiency of attention mechanisms in transformer models. Traditional attention mechanisms, such as the one used in the original Transformer model, compute attention scores for all pairs of tokens in a sequence, which can be computationally expensive and slow, especially for long sequences.\n",
      "\n",
      "Flash attention addresses this issue by using a more efficient algorithm to compute attention scores. It leverages the fact that many attention scores are zero or close to zero, and it uses this sparsity to reduce the computational cost. Flash attention also uses a technique called \"flash\" to compute the attention scores in a more parallelizable and efficient manner.\n",
      "\n",
      "The main benefits of flash attention include:\n",
      "\n",
      "1. **Faster computation**: Flash attention can significantly speed up the computation of attention scores, making it more suitable for real-time applications.\n",
      "2. **Reduced memory usage**: By exploiting the sparsity of attention scores, flash attention can reduce the memory footprint of the model.\n",
      "3. **Improved scalability**: Flash attention allows for better scalability, enabling the processing of longer sequences and larger models.\n",
      "\n",
      "Overall, flash attention is a valuable technique for improving the efficiency and performance of transformer models in NLP tasks.\n",
      "==================================\u001b[1m Ai Message \u001b[0m==================================\n",
      "\n",
      "Flash attention is a technique used in natural language processing (NLP) to improve the efficiency of attention mechanisms in transformer models. Traditional attention mechanisms, such as the one used in the original Transformer model, compute attention scores for all pairs of tokens in a sequence, which can be computationally expensive and slow, especially for long sequences.\n",
      "\n",
      "Flash attention addresses this issue by using a more efficient algorithm to compute attention scores. It leverages the fact that many attention scores are zero or close to zero, and it uses this sparsity to reduce the computational cost. Flash attention also uses a technique called \"flash\" to compute the attention scores in a more parallelizable and efficient manner.\n",
      "\n",
      "The main benefits of flash attention include:\n",
      "\n",
      "1. **Faster computation**: Flash attention can significantly speed up the computation of attention scores, making it more suitable for real-time applications.\n",
      "2. **Reduced memory usage**: By exploiting the sparsity of attention scores, flash attention can reduce the memory footprint of the model.\n",
      "3. **Improved scalability**: Flash attention allows for better scalability, enabling the processing of longer sequences and larger models.\n",
      "\n",
      "Overall, flash attention is a valuable technique for improving the efficiency and performance of transformer models in NLP tasks.\n"
     ]
    }
   ],
   "source": [
    "async for message in graph.astream(\n",
    "    {\"messages\": messages_copy}, config=config, stream_mode=\"values\"\n",
    "):\n",
    "    if \"messages\" in message:\n",
    "        message[\"messages\"][-1].pretty_print()"
   ]
  },
  {
   "cell_type": "code",
   "execution_count": 89,
   "id": "8d97a002",
   "metadata": {},
   "outputs": [
    {
     "data": {
      "text/html": [
       "<pre style=\"white-space:pre;overflow-x:auto;line-height:normal;font-family:Menlo,'DejaVu Sans Mono',consolas,'Courier New',monospace\"><span style=\"color: #7fbfbf; text-decoration-color: #7fbfbf\">[16:12:43] </span><span style=\"font-weight: bold\">[</span>                                                                                       <a href=\"file:///var/folders/ny/dl75sc_x2tb54lsymt5bh5p00000gn/T/ipykernel_68572/3085105929.py\" target=\"_blank\"><span style=\"color: #7f7f7f; text-decoration-color: #7f7f7f\">3085105929.py</span></a><span style=\"color: #7f7f7f; text-decoration-color: #7f7f7f\">:</span><a href=\"file:///var/folders/ny/dl75sc_x2tb54lsymt5bh5p00000gn/T/ipykernel_68572/3085105929.py#15\" target=\"_blank\"><span style=\"color: #7f7f7f; text-decoration-color: #7f7f7f\">15</span></a>\n",
       "<span style=\"color: #7fbfbf; text-decoration-color: #7fbfbf\">           </span>    <span style=\"font-weight: bold\">{</span>                                                                                   <span style=\"color: #7f7f7f; text-decoration-color: #7f7f7f\">                </span>\n",
       "<span style=\"color: #7fbfbf; text-decoration-color: #7fbfbf\">           </span>        <span style=\"color: #008000; text-decoration-color: #008000\">'role'</span>: <span style=\"color: #008000; text-decoration-color: #008000\">'assistant'</span>,                                                            <span style=\"color: #7f7f7f; text-decoration-color: #7f7f7f\">                </span>\n",
       "<span style=\"color: #7fbfbf; text-decoration-color: #7fbfbf\">           </span>        <span style=\"color: #008000; text-decoration-color: #008000\">'content'</span>: <span style=\"color: #008000; text-decoration-color: #008000\">'Yes, I can remember your name. You are Chinedu. How can I assist </span>   <span style=\"color: #7f7f7f; text-decoration-color: #7f7f7f\">                </span>\n",
       "<span style=\"color: #7fbfbf; text-decoration-color: #7fbfbf\">           </span><span style=\"color: #008000; text-decoration-color: #008000\">you today?'</span>                                                                             <span style=\"color: #7f7f7f; text-decoration-color: #7f7f7f\">                </span>\n",
       "<span style=\"color: #7fbfbf; text-decoration-color: #7fbfbf\">           </span>    <span style=\"font-weight: bold\">}</span>,                                                                                  <span style=\"color: #7f7f7f; text-decoration-color: #7f7f7f\">                </span>\n",
       "<span style=\"color: #7fbfbf; text-decoration-color: #7fbfbf\">           </span>    <span style=\"font-weight: bold\">{</span>                                                                                   <span style=\"color: #7f7f7f; text-decoration-color: #7f7f7f\">                </span>\n",
       "<span style=\"color: #7fbfbf; text-decoration-color: #7fbfbf\">           </span>        <span style=\"color: #008000; text-decoration-color: #008000\">'role'</span>: <span style=\"color: #008000; text-decoration-color: #008000\">'user'</span>,                                                                 <span style=\"color: #7f7f7f; text-decoration-color: #7f7f7f\">                </span>\n",
       "<span style=\"color: #7fbfbf; text-decoration-color: #7fbfbf\">           </span>        <span style=\"color: #008000; text-decoration-color: #008000\">'content'</span>: <span style=\"color: #008000; text-decoration-color: #008000\">'Okay, what is the meaning of flash attention in AI?'</span>                <span style=\"color: #7f7f7f; text-decoration-color: #7f7f7f\">                </span>\n",
       "<span style=\"color: #7fbfbf; text-decoration-color: #7fbfbf\">           </span>    <span style=\"font-weight: bold\">}</span>,                                                                                  <span style=\"color: #7f7f7f; text-decoration-color: #7f7f7f\">                </span>\n",
       "<span style=\"color: #7fbfbf; text-decoration-color: #7fbfbf\">           </span>    <span style=\"font-weight: bold\">{</span>                                                                                   <span style=\"color: #7f7f7f; text-decoration-color: #7f7f7f\">                </span>\n",
       "<span style=\"color: #7fbfbf; text-decoration-color: #7fbfbf\">           </span>        <span style=\"color: #008000; text-decoration-color: #008000\">'role'</span>: <span style=\"color: #008000; text-decoration-color: #008000\">'assistant'</span>,                                                            <span style=\"color: #7f7f7f; text-decoration-color: #7f7f7f\">                </span>\n",
       "<span style=\"color: #7fbfbf; text-decoration-color: #7fbfbf\">           </span>        <span style=\"color: #008000; text-decoration-color: #008000\">'content'</span>: <span style=\"color: #008000; text-decoration-color: #008000\">'Flash attention is a technique used in natural language processing </span> <span style=\"color: #7f7f7f; text-decoration-color: #7f7f7f\">                </span>\n",
       "<span style=\"color: #7fbfbf; text-decoration-color: #7fbfbf\">           </span><span style=\"color: #008000; text-decoration-color: #008000\">(NLP) to improve the efficiency of attention mechanisms in transformer models. </span>         <span style=\"color: #7f7f7f; text-decoration-color: #7f7f7f\">                </span>\n",
       "<span style=\"color: #7fbfbf; text-decoration-color: #7fbfbf\">           </span><span style=\"color: #008000; text-decoration-color: #008000\">Traditional attention mechanisms, such as the one used in the original Transformer </span>     <span style=\"color: #7f7f7f; text-decoration-color: #7f7f7f\">                </span>\n",
       "<span style=\"color: #7fbfbf; text-decoration-color: #7fbfbf\">           </span><span style=\"color: #008000; text-decoration-color: #008000\">model, compute attention scores for all pairs of tokens in a sequence, which can be </span>    <span style=\"color: #7f7f7f; text-decoration-color: #7f7f7f\">                </span>\n",
       "<span style=\"color: #7fbfbf; text-decoration-color: #7fbfbf\">           </span><span style=\"color: #008000; text-decoration-color: #008000\">computationally expensive and slow, especially for long sequences.\\n\\nFlash attention </span>  <span style=\"color: #7f7f7f; text-decoration-color: #7f7f7f\">                </span>\n",
       "<span style=\"color: #7fbfbf; text-decoration-color: #7fbfbf\">           </span><span style=\"color: #008000; text-decoration-color: #008000\">addresses this issue by using a more efficient algorithm to compute attention scores. </span>  <span style=\"color: #7f7f7f; text-decoration-color: #7f7f7f\">                </span>\n",
       "<span style=\"color: #7fbfbf; text-decoration-color: #7fbfbf\">           </span><span style=\"color: #008000; text-decoration-color: #008000\">It leverages the fact that many attention scores are zero or close to zero, and it uses</span> <span style=\"color: #7f7f7f; text-decoration-color: #7f7f7f\">                </span>\n",
       "<span style=\"color: #7fbfbf; text-decoration-color: #7fbfbf\">           </span><span style=\"color: #008000; text-decoration-color: #008000\">this sparsity to reduce the computational cost. Flash attention also uses a technique </span>  <span style=\"color: #7f7f7f; text-decoration-color: #7f7f7f\">                </span>\n",
       "<span style=\"color: #7fbfbf; text-decoration-color: #7fbfbf\">           </span><span style=\"color: #008000; text-decoration-color: #008000\">called \"flash\" to compute the attention scores in a more parallelizable and efficient </span>  <span style=\"color: #7f7f7f; text-decoration-color: #7f7f7f\">                </span>\n",
       "<span style=\"color: #7fbfbf; text-decoration-color: #7fbfbf\">           </span><span style=\"color: #008000; text-decoration-color: #008000\">manner.\\n\\nThe main benefits of flash attention include:\\n\\n1. **Faster computation**: </span> <span style=\"color: #7f7f7f; text-decoration-color: #7f7f7f\">                </span>\n",
       "<span style=\"color: #7fbfbf; text-decoration-color: #7fbfbf\">           </span><span style=\"color: #008000; text-decoration-color: #008000\">Flash attention can significantly speed up the computation of attention scores, making </span> <span style=\"color: #7f7f7f; text-decoration-color: #7f7f7f\">                </span>\n",
       "<span style=\"color: #7fbfbf; text-decoration-color: #7fbfbf\">           </span><span style=\"color: #008000; text-decoration-color: #008000\">it more suitable for real-time applications.\\n2. **Reduced memory usage**: By </span>          <span style=\"color: #7f7f7f; text-decoration-color: #7f7f7f\">                </span>\n",
       "<span style=\"color: #7fbfbf; text-decoration-color: #7fbfbf\">           </span><span style=\"color: #008000; text-decoration-color: #008000\">exploiting the sparsity of attention scores, flash attention can reduce the memory </span>     <span style=\"color: #7f7f7f; text-decoration-color: #7f7f7f\">                </span>\n",
       "<span style=\"color: #7fbfbf; text-decoration-color: #7fbfbf\">           </span><span style=\"color: #008000; text-decoration-color: #008000\">footprint of the model.\\n3. **Improved scalability**: Flash attention allows for better</span> <span style=\"color: #7f7f7f; text-decoration-color: #7f7f7f\">                </span>\n",
       "<span style=\"color: #7fbfbf; text-decoration-color: #7fbfbf\">           </span><span style=\"color: #008000; text-decoration-color: #008000\">scalability, enabling the processing of longer sequences and larger models.\\n\\nOverall,</span> <span style=\"color: #7f7f7f; text-decoration-color: #7f7f7f\">                </span>\n",
       "<span style=\"color: #7fbfbf; text-decoration-color: #7fbfbf\">           </span><span style=\"color: #008000; text-decoration-color: #008000\">flash attention is a valuable technique for improving the efficiency and performance of</span> <span style=\"color: #7f7f7f; text-decoration-color: #7f7f7f\">                </span>\n",
       "<span style=\"color: #7fbfbf; text-decoration-color: #7fbfbf\">           </span><span style=\"color: #008000; text-decoration-color: #008000\">transformer models in NLP tasks.'</span>                                                       <span style=\"color: #7f7f7f; text-decoration-color: #7f7f7f\">                </span>\n",
       "<span style=\"color: #7fbfbf; text-decoration-color: #7fbfbf\">           </span>    <span style=\"font-weight: bold\">}</span>,                                                                                  <span style=\"color: #7f7f7f; text-decoration-color: #7f7f7f\">                </span>\n",
       "<span style=\"color: #7fbfbf; text-decoration-color: #7fbfbf\">           </span>    <span style=\"font-weight: bold\">{</span>                                                                                   <span style=\"color: #7f7f7f; text-decoration-color: #7f7f7f\">                </span>\n",
       "<span style=\"color: #7fbfbf; text-decoration-color: #7fbfbf\">           </span>        <span style=\"color: #008000; text-decoration-color: #008000\">'role'</span>: <span style=\"color: #008000; text-decoration-color: #008000\">'user'</span>,                                                                 <span style=\"color: #7f7f7f; text-decoration-color: #7f7f7f\">                </span>\n",
       "<span style=\"color: #7fbfbf; text-decoration-color: #7fbfbf\">           </span>        <span style=\"color: #008000; text-decoration-color: #008000\">'content'</span>: <span style=\"color: #008000; text-decoration-color: #008000\">'Do you know about vLLM? Does it use flash attention?'</span>               <span style=\"color: #7f7f7f; text-decoration-color: #7f7f7f\">                </span>\n",
       "<span style=\"color: #7fbfbf; text-decoration-color: #7fbfbf\">           </span>    <span style=\"font-weight: bold\">}</span>                                                                                   <span style=\"color: #7f7f7f; text-decoration-color: #7f7f7f\">                </span>\n",
       "<span style=\"color: #7fbfbf; text-decoration-color: #7fbfbf\">           </span><span style=\"font-weight: bold\">]</span>                                                                                       <span style=\"color: #7f7f7f; text-decoration-color: #7f7f7f\">                </span>\n",
       "</pre>\n"
      ],
      "text/plain": [
       "\u001b[2;36m[16:12:43]\u001b[0m\u001b[2;36m \u001b[0m\u001b[1m[\u001b[0m                                                                                       \u001b]8;id=182463;file:///var/folders/ny/dl75sc_x2tb54lsymt5bh5p00000gn/T/ipykernel_68572/3085105929.py\u001b\\\u001b[2m3085105929.py\u001b[0m\u001b]8;;\u001b\\\u001b[2m:\u001b[0m\u001b]8;id=397044;file:///var/folders/ny/dl75sc_x2tb54lsymt5bh5p00000gn/T/ipykernel_68572/3085105929.py#15\u001b\\\u001b[2m15\u001b[0m\u001b]8;;\u001b\\\n",
       "\u001b[2;36m           \u001b[0m    \u001b[1m{\u001b[0m                                                                                   \u001b[2m                \u001b[0m\n",
       "\u001b[2;36m           \u001b[0m        \u001b[32m'role'\u001b[0m: \u001b[32m'assistant'\u001b[0m,                                                            \u001b[2m                \u001b[0m\n",
       "\u001b[2;36m           \u001b[0m        \u001b[32m'content'\u001b[0m: \u001b[32m'Yes, I can remember your name. You are Chinedu. How can I assist \u001b[0m   \u001b[2m                \u001b[0m\n",
       "\u001b[2;36m           \u001b[0m\u001b[32myou today?'\u001b[0m                                                                             \u001b[2m                \u001b[0m\n",
       "\u001b[2;36m           \u001b[0m    \u001b[1m}\u001b[0m,                                                                                  \u001b[2m                \u001b[0m\n",
       "\u001b[2;36m           \u001b[0m    \u001b[1m{\u001b[0m                                                                                   \u001b[2m                \u001b[0m\n",
       "\u001b[2;36m           \u001b[0m        \u001b[32m'role'\u001b[0m: \u001b[32m'user'\u001b[0m,                                                                 \u001b[2m                \u001b[0m\n",
       "\u001b[2;36m           \u001b[0m        \u001b[32m'content'\u001b[0m: \u001b[32m'Okay, what is the meaning of flash attention in AI?'\u001b[0m                \u001b[2m                \u001b[0m\n",
       "\u001b[2;36m           \u001b[0m    \u001b[1m}\u001b[0m,                                                                                  \u001b[2m                \u001b[0m\n",
       "\u001b[2;36m           \u001b[0m    \u001b[1m{\u001b[0m                                                                                   \u001b[2m                \u001b[0m\n",
       "\u001b[2;36m           \u001b[0m        \u001b[32m'role'\u001b[0m: \u001b[32m'assistant'\u001b[0m,                                                            \u001b[2m                \u001b[0m\n",
       "\u001b[2;36m           \u001b[0m        \u001b[32m'content'\u001b[0m: \u001b[32m'Flash attention is a technique used in natural language processing \u001b[0m \u001b[2m                \u001b[0m\n",
       "\u001b[2;36m           \u001b[0m\u001b[32m(\u001b[0m\u001b[32mNLP\u001b[0m\u001b[32m)\u001b[0m\u001b[32m to improve the efficiency of attention mechanisms in transformer models. \u001b[0m         \u001b[2m                \u001b[0m\n",
       "\u001b[2;36m           \u001b[0m\u001b[32mTraditional attention mechanisms, such as the one used in the original Transformer \u001b[0m     \u001b[2m                \u001b[0m\n",
       "\u001b[2;36m           \u001b[0m\u001b[32mmodel, compute attention scores for all pairs of tokens in a sequence, which can be \u001b[0m    \u001b[2m                \u001b[0m\n",
       "\u001b[2;36m           \u001b[0m\u001b[32mcomputationally expensive and slow, especially for long sequences.\\n\\nFlash attention \u001b[0m  \u001b[2m                \u001b[0m\n",
       "\u001b[2;36m           \u001b[0m\u001b[32maddresses this issue by using a more efficient algorithm to compute attention scores. \u001b[0m  \u001b[2m                \u001b[0m\n",
       "\u001b[2;36m           \u001b[0m\u001b[32mIt leverages the fact that many attention scores are zero or close to zero, and it uses\u001b[0m \u001b[2m                \u001b[0m\n",
       "\u001b[2;36m           \u001b[0m\u001b[32mthis sparsity to reduce the computational cost. Flash attention also uses a technique \u001b[0m  \u001b[2m                \u001b[0m\n",
       "\u001b[2;36m           \u001b[0m\u001b[32mcalled \"flash\" to compute the attention scores in a more parallelizable and efficient \u001b[0m  \u001b[2m                \u001b[0m\n",
       "\u001b[2;36m           \u001b[0m\u001b[32mmanner.\\n\\nThe main benefits of flash attention include:\\n\\n1. **Faster computation**: \u001b[0m \u001b[2m                \u001b[0m\n",
       "\u001b[2;36m           \u001b[0m\u001b[32mFlash attention can significantly speed up the computation of attention scores, making \u001b[0m \u001b[2m                \u001b[0m\n",
       "\u001b[2;36m           \u001b[0m\u001b[32mit more suitable for real-time applications.\\n2. **Reduced memory usage**: By \u001b[0m          \u001b[2m                \u001b[0m\n",
       "\u001b[2;36m           \u001b[0m\u001b[32mexploiting the sparsity of attention scores, flash attention can reduce the memory \u001b[0m     \u001b[2m                \u001b[0m\n",
       "\u001b[2;36m           \u001b[0m\u001b[32mfootprint of the model.\\n3. **Improved scalability**: Flash attention allows for better\u001b[0m \u001b[2m                \u001b[0m\n",
       "\u001b[2;36m           \u001b[0m\u001b[32mscalability, enabling the processing of longer sequences and larger models.\\n\\nOverall,\u001b[0m \u001b[2m                \u001b[0m\n",
       "\u001b[2;36m           \u001b[0m\u001b[32mflash attention is a valuable technique for improving the efficiency and performance of\u001b[0m \u001b[2m                \u001b[0m\n",
       "\u001b[2;36m           \u001b[0m\u001b[32mtransformer models in NLP tasks.'\u001b[0m                                                       \u001b[2m                \u001b[0m\n",
       "\u001b[2;36m           \u001b[0m    \u001b[1m}\u001b[0m,                                                                                  \u001b[2m                \u001b[0m\n",
       "\u001b[2;36m           \u001b[0m    \u001b[1m{\u001b[0m                                                                                   \u001b[2m                \u001b[0m\n",
       "\u001b[2;36m           \u001b[0m        \u001b[32m'role'\u001b[0m: \u001b[32m'user'\u001b[0m,                                                                 \u001b[2m                \u001b[0m\n",
       "\u001b[2;36m           \u001b[0m        \u001b[32m'content'\u001b[0m: \u001b[32m'Do you know about vLLM? Does it use flash attention?'\u001b[0m               \u001b[2m                \u001b[0m\n",
       "\u001b[2;36m           \u001b[0m    \u001b[1m}\u001b[0m                                                                                   \u001b[2m                \u001b[0m\n",
       "\u001b[2;36m           \u001b[0m\u001b[1m]\u001b[0m                                                                                       \u001b[2m                \u001b[0m\n"
      ]
     },
     "metadata": {},
     "output_type": "display_data"
    }
   ],
   "source": [
    "messages_copy: list[Any] = messages_copy.copy()[-2:]\n",
    "response: dict[str, Any] = {\n",
    "    \"role\": \"assistant\",\n",
    "    \"content\": message[\"messages\"][-1].content,\n",
    "}\n",
    "messages_copy.append(response)\n",
    "\n",
    "message: dict[str, Any] = {\n",
    "    \"role\": \"user\",\n",
    "    \"content\": \"Do you know about vLLM? Does it use flash attention?\",\n",
    "}\n",
    "\n",
    "messages_copy.append(message)\n",
    "\n",
    "console.log(messages_copy)"
   ]
  },
  {
   "cell_type": "code",
   "execution_count": 90,
   "id": "698afea0",
   "metadata": {},
   "outputs": [
    {
     "name": "stdout",
     "output_type": "stream",
     "text": [
      "================================\u001b[1m Human Message \u001b[0m=================================\n",
      "\n",
      "Do you know about vLLM? Does it use flash attention?\n",
      "==================================\u001b[1m Ai Message \u001b[0m==================================\n",
      "\n",
      "Yes, vLLM (Vectorized Large Language Models) is a framework designed to improve the efficiency and performance of large language models. While vLLM itself is not specifically known for using flash attention, it often incorporates various optimization techniques to enhance the efficiency of attention mechanisms.\n",
      "\n",
      "Flash attention, as discussed earlier, is a technique that can be used to optimize the computation of attention scores in transformer models. It is particularly useful for reducing computational cost and memory usage, making it a valuable addition to frameworks like vLLM.\n",
      "\n",
      "If vLLM incorporates flash attention, it would benefit from the faster computation and reduced memory usage that this technique provides, making it more efficient for handling large language models and long sequences.\n",
      "==================================\u001b[1m Ai Message \u001b[0m==================================\n",
      "\n",
      "Yes, vLLM (Vectorized Large Language Models) is a framework designed to improve the efficiency and performance of large language models. While vLLM itself is not specifically known for using flash attention, it often incorporates various optimization techniques to enhance the efficiency of attention mechanisms.\n",
      "\n",
      "Flash attention, as discussed earlier, is a technique that can be used to optimize the computation of attention scores in transformer models. It is particularly useful for reducing computational cost and memory usage, making it a valuable addition to frameworks like vLLM.\n",
      "\n",
      "If vLLM incorporates flash attention, it would benefit from the faster computation and reduced memory usage that this technique provides, making it more efficient for handling large language models and long sequences.\n"
     ]
    }
   ],
   "source": [
    "async for message in graph.astream(\n",
    "    {\"messages\": messages_copy}, config=config, stream_mode=\"values\"\n",
    "):\n",
    "    if \"messages\" in message:\n",
    "        message[\"messages\"][-1].pretty_print()"
   ]
  },
  {
   "cell_type": "code",
   "execution_count": 91,
   "id": "807bcefa",
   "metadata": {},
   "outputs": [
    {
     "data": {
      "text/html": [
       "<pre style=\"white-space:pre;overflow-x:auto;line-height:normal;font-family:Menlo,'DejaVu Sans Mono',consolas,'Courier New',monospace\"><span style=\"color: #7fbfbf; text-decoration-color: #7fbfbf\">[16:13:18] </span><span style=\"font-weight: bold\">[</span>                                                                                        <a href=\"file:///var/folders/ny/dl75sc_x2tb54lsymt5bh5p00000gn/T/ipykernel_68572/297472973.py\" target=\"_blank\"><span style=\"color: #7f7f7f; text-decoration-color: #7f7f7f\">297472973.py</span></a><span style=\"color: #7f7f7f; text-decoration-color: #7f7f7f\">:</span><a href=\"file:///var/folders/ny/dl75sc_x2tb54lsymt5bh5p00000gn/T/ipykernel_68572/297472973.py#16\" target=\"_blank\"><span style=\"color: #7f7f7f; text-decoration-color: #7f7f7f\">16</span></a>\n",
       "<span style=\"color: #7fbfbf; text-decoration-color: #7fbfbf\">           </span>    <span style=\"font-weight: bold\">{</span>                                                                                    <span style=\"color: #7f7f7f; text-decoration-color: #7f7f7f\">               </span>\n",
       "<span style=\"color: #7fbfbf; text-decoration-color: #7fbfbf\">           </span>        <span style=\"color: #008000; text-decoration-color: #008000\">'role'</span>: <span style=\"color: #008000; text-decoration-color: #008000\">'assistant'</span>,                                                             <span style=\"color: #7f7f7f; text-decoration-color: #7f7f7f\">               </span>\n",
       "<span style=\"color: #7fbfbf; text-decoration-color: #7fbfbf\">           </span>        <span style=\"color: #008000; text-decoration-color: #008000\">'content'</span>: <span style=\"color: #008000; text-decoration-color: #008000\">'Flash attention is a technique used in natural language processing </span>  <span style=\"color: #7f7f7f; text-decoration-color: #7f7f7f\">               </span>\n",
       "<span style=\"color: #7fbfbf; text-decoration-color: #7fbfbf\">           </span><span style=\"color: #008000; text-decoration-color: #008000\">(NLP) to improve the efficiency of attention mechanisms in transformer models. </span>          <span style=\"color: #7f7f7f; text-decoration-color: #7f7f7f\">               </span>\n",
       "<span style=\"color: #7fbfbf; text-decoration-color: #7fbfbf\">           </span><span style=\"color: #008000; text-decoration-color: #008000\">Traditional attention mechanisms, such as the one used in the original Transformer </span>      <span style=\"color: #7f7f7f; text-decoration-color: #7f7f7f\">               </span>\n",
       "<span style=\"color: #7fbfbf; text-decoration-color: #7fbfbf\">           </span><span style=\"color: #008000; text-decoration-color: #008000\">model, compute attention scores for all pairs of tokens in a sequence, which can be </span>     <span style=\"color: #7f7f7f; text-decoration-color: #7f7f7f\">               </span>\n",
       "<span style=\"color: #7fbfbf; text-decoration-color: #7fbfbf\">           </span><span style=\"color: #008000; text-decoration-color: #008000\">computationally expensive and slow, especially for long sequences.\\n\\nFlash attention </span>   <span style=\"color: #7f7f7f; text-decoration-color: #7f7f7f\">               </span>\n",
       "<span style=\"color: #7fbfbf; text-decoration-color: #7fbfbf\">           </span><span style=\"color: #008000; text-decoration-color: #008000\">addresses this issue by using a more efficient algorithm to compute attention scores. It</span> <span style=\"color: #7f7f7f; text-decoration-color: #7f7f7f\">               </span>\n",
       "<span style=\"color: #7fbfbf; text-decoration-color: #7fbfbf\">           </span><span style=\"color: #008000; text-decoration-color: #008000\">leverages the fact that many attention scores are zero or close to zero, and it uses </span>    <span style=\"color: #7f7f7f; text-decoration-color: #7f7f7f\">               </span>\n",
       "<span style=\"color: #7fbfbf; text-decoration-color: #7fbfbf\">           </span><span style=\"color: #008000; text-decoration-color: #008000\">this sparsity to reduce the computational cost. Flash attention also uses a technique </span>   <span style=\"color: #7f7f7f; text-decoration-color: #7f7f7f\">               </span>\n",
       "<span style=\"color: #7fbfbf; text-decoration-color: #7fbfbf\">           </span><span style=\"color: #008000; text-decoration-color: #008000\">called \"flash\" to compute the attention scores in a more parallelizable and efficient </span>   <span style=\"color: #7f7f7f; text-decoration-color: #7f7f7f\">               </span>\n",
       "<span style=\"color: #7fbfbf; text-decoration-color: #7fbfbf\">           </span><span style=\"color: #008000; text-decoration-color: #008000\">manner.\\n\\nThe main benefits of flash attention include:\\n\\n1. **Faster computation**: </span>  <span style=\"color: #7f7f7f; text-decoration-color: #7f7f7f\">               </span>\n",
       "<span style=\"color: #7fbfbf; text-decoration-color: #7fbfbf\">           </span><span style=\"color: #008000; text-decoration-color: #008000\">Flash attention can significantly speed up the computation of attention scores, making </span>  <span style=\"color: #7f7f7f; text-decoration-color: #7f7f7f\">               </span>\n",
       "<span style=\"color: #7fbfbf; text-decoration-color: #7fbfbf\">           </span><span style=\"color: #008000; text-decoration-color: #008000\">it more suitable for real-time applications.\\n2. **Reduced memory usage**: By exploiting</span> <span style=\"color: #7f7f7f; text-decoration-color: #7f7f7f\">               </span>\n",
       "<span style=\"color: #7fbfbf; text-decoration-color: #7fbfbf\">           </span><span style=\"color: #008000; text-decoration-color: #008000\">the sparsity of attention scores, flash attention can reduce the memory footprint of the</span> <span style=\"color: #7f7f7f; text-decoration-color: #7f7f7f\">               </span>\n",
       "<span style=\"color: #7fbfbf; text-decoration-color: #7fbfbf\">           </span><span style=\"color: #008000; text-decoration-color: #008000\">model.\\n3. **Improved scalability**: Flash attention allows for better scalability, </span>     <span style=\"color: #7f7f7f; text-decoration-color: #7f7f7f\">               </span>\n",
       "<span style=\"color: #7fbfbf; text-decoration-color: #7fbfbf\">           </span><span style=\"color: #008000; text-decoration-color: #008000\">enabling the processing of longer sequences and larger models.\\n\\nOverall, flash </span>        <span style=\"color: #7f7f7f; text-decoration-color: #7f7f7f\">               </span>\n",
       "<span style=\"color: #7fbfbf; text-decoration-color: #7fbfbf\">           </span><span style=\"color: #008000; text-decoration-color: #008000\">attention is a valuable technique for improving the efficiency and performance of </span>       <span style=\"color: #7f7f7f; text-decoration-color: #7f7f7f\">               </span>\n",
       "<span style=\"color: #7fbfbf; text-decoration-color: #7fbfbf\">           </span><span style=\"color: #008000; text-decoration-color: #008000\">transformer models in NLP tasks.'</span>                                                        <span style=\"color: #7f7f7f; text-decoration-color: #7f7f7f\">               </span>\n",
       "<span style=\"color: #7fbfbf; text-decoration-color: #7fbfbf\">           </span>    <span style=\"font-weight: bold\">}</span>,                                                                                   <span style=\"color: #7f7f7f; text-decoration-color: #7f7f7f\">               </span>\n",
       "<span style=\"color: #7fbfbf; text-decoration-color: #7fbfbf\">           </span>    <span style=\"font-weight: bold\">{</span>                                                                                    <span style=\"color: #7f7f7f; text-decoration-color: #7f7f7f\">               </span>\n",
       "<span style=\"color: #7fbfbf; text-decoration-color: #7fbfbf\">           </span>        <span style=\"color: #008000; text-decoration-color: #008000\">'role'</span>: <span style=\"color: #008000; text-decoration-color: #008000\">'user'</span>,                                                                  <span style=\"color: #7f7f7f; text-decoration-color: #7f7f7f\">               </span>\n",
       "<span style=\"color: #7fbfbf; text-decoration-color: #7fbfbf\">           </span>        <span style=\"color: #008000; text-decoration-color: #008000\">'content'</span>: <span style=\"color: #008000; text-decoration-color: #008000\">'Do you know about vLLM? Does it use flash attention?'</span>                <span style=\"color: #7f7f7f; text-decoration-color: #7f7f7f\">               </span>\n",
       "<span style=\"color: #7fbfbf; text-decoration-color: #7fbfbf\">           </span>    <span style=\"font-weight: bold\">}</span>,                                                                                   <span style=\"color: #7f7f7f; text-decoration-color: #7f7f7f\">               </span>\n",
       "<span style=\"color: #7fbfbf; text-decoration-color: #7fbfbf\">           </span>    <span style=\"font-weight: bold\">{</span>                                                                                    <span style=\"color: #7f7f7f; text-decoration-color: #7f7f7f\">               </span>\n",
       "<span style=\"color: #7fbfbf; text-decoration-color: #7fbfbf\">           </span>        <span style=\"color: #008000; text-decoration-color: #008000\">'role'</span>: <span style=\"color: #008000; text-decoration-color: #008000\">'assistant'</span>,                                                             <span style=\"color: #7f7f7f; text-decoration-color: #7f7f7f\">               </span>\n",
       "<span style=\"color: #7fbfbf; text-decoration-color: #7fbfbf\">           </span>        <span style=\"color: #008000; text-decoration-color: #008000\">'content'</span>: <span style=\"color: #008000; text-decoration-color: #008000\">'Yes, vLLM (Vectorized Large Language Models) is a framework designed</span> <span style=\"color: #7f7f7f; text-decoration-color: #7f7f7f\">               </span>\n",
       "<span style=\"color: #7fbfbf; text-decoration-color: #7fbfbf\">           </span><span style=\"color: #008000; text-decoration-color: #008000\">to improve the efficiency and performance of large language models. While vLLM itself is</span> <span style=\"color: #7f7f7f; text-decoration-color: #7f7f7f\">               </span>\n",
       "<span style=\"color: #7fbfbf; text-decoration-color: #7fbfbf\">           </span><span style=\"color: #008000; text-decoration-color: #008000\">not specifically known for using flash attention, it often incorporates various </span>         <span style=\"color: #7f7f7f; text-decoration-color: #7f7f7f\">               </span>\n",
       "<span style=\"color: #7fbfbf; text-decoration-color: #7fbfbf\">           </span><span style=\"color: #008000; text-decoration-color: #008000\">optimization techniques to enhance the efficiency of attention mechanisms.\\n\\nFlash </span>     <span style=\"color: #7f7f7f; text-decoration-color: #7f7f7f\">               </span>\n",
       "<span style=\"color: #7fbfbf; text-decoration-color: #7fbfbf\">           </span><span style=\"color: #008000; text-decoration-color: #008000\">attention, as discussed earlier, is a technique that can be used to optimize the </span>        <span style=\"color: #7f7f7f; text-decoration-color: #7f7f7f\">               </span>\n",
       "<span style=\"color: #7fbfbf; text-decoration-color: #7fbfbf\">           </span><span style=\"color: #008000; text-decoration-color: #008000\">computation of attention scores in transformer models. It is particularly useful for </span>    <span style=\"color: #7f7f7f; text-decoration-color: #7f7f7f\">               </span>\n",
       "<span style=\"color: #7fbfbf; text-decoration-color: #7fbfbf\">           </span><span style=\"color: #008000; text-decoration-color: #008000\">reducing computational cost and memory usage, making it a valuable addition to </span>          <span style=\"color: #7f7f7f; text-decoration-color: #7f7f7f\">               </span>\n",
       "<span style=\"color: #7fbfbf; text-decoration-color: #7fbfbf\">           </span><span style=\"color: #008000; text-decoration-color: #008000\">frameworks like vLLM.\\n\\nIf vLLM incorporates flash attention, it would benefit from the</span> <span style=\"color: #7f7f7f; text-decoration-color: #7f7f7f\">               </span>\n",
       "<span style=\"color: #7fbfbf; text-decoration-color: #7fbfbf\">           </span><span style=\"color: #008000; text-decoration-color: #008000\">faster computation and reduced memory usage that this technique provides, making it more</span> <span style=\"color: #7f7f7f; text-decoration-color: #7f7f7f\">               </span>\n",
       "<span style=\"color: #7fbfbf; text-decoration-color: #7fbfbf\">           </span><span style=\"color: #008000; text-decoration-color: #008000\">efficient for handling large language models and long sequences.'</span>                        <span style=\"color: #7f7f7f; text-decoration-color: #7f7f7f\">               </span>\n",
       "<span style=\"color: #7fbfbf; text-decoration-color: #7fbfbf\">           </span>    <span style=\"font-weight: bold\">}</span>,                                                                                   <span style=\"color: #7f7f7f; text-decoration-color: #7f7f7f\">               </span>\n",
       "<span style=\"color: #7fbfbf; text-decoration-color: #7fbfbf\">           </span>    <span style=\"font-weight: bold\">{</span><span style=\"color: #008000; text-decoration-color: #008000\">'role'</span>: <span style=\"color: #008000; text-decoration-color: #008000\">'user'</span>, <span style=\"color: #008000; text-decoration-color: #008000\">'content'</span>: <span style=\"color: #008000; text-decoration-color: #008000\">'Can you remember my name? I think you forgot it.'</span><span style=\"font-weight: bold\">}</span>      <span style=\"color: #7f7f7f; text-decoration-color: #7f7f7f\">               </span>\n",
       "<span style=\"color: #7fbfbf; text-decoration-color: #7fbfbf\">           </span><span style=\"font-weight: bold\">]</span>                                                                                        <span style=\"color: #7f7f7f; text-decoration-color: #7f7f7f\">               </span>\n",
       "</pre>\n"
      ],
      "text/plain": [
       "\u001b[2;36m[16:13:18]\u001b[0m\u001b[2;36m \u001b[0m\u001b[1m[\u001b[0m                                                                                        \u001b]8;id=181712;file:///var/folders/ny/dl75sc_x2tb54lsymt5bh5p00000gn/T/ipykernel_68572/297472973.py\u001b\\\u001b[2m297472973.py\u001b[0m\u001b]8;;\u001b\\\u001b[2m:\u001b[0m\u001b]8;id=298519;file:///var/folders/ny/dl75sc_x2tb54lsymt5bh5p00000gn/T/ipykernel_68572/297472973.py#16\u001b\\\u001b[2m16\u001b[0m\u001b]8;;\u001b\\\n",
       "\u001b[2;36m           \u001b[0m    \u001b[1m{\u001b[0m                                                                                    \u001b[2m               \u001b[0m\n",
       "\u001b[2;36m           \u001b[0m        \u001b[32m'role'\u001b[0m: \u001b[32m'assistant'\u001b[0m,                                                             \u001b[2m               \u001b[0m\n",
       "\u001b[2;36m           \u001b[0m        \u001b[32m'content'\u001b[0m: \u001b[32m'Flash attention is a technique used in natural language processing \u001b[0m  \u001b[2m               \u001b[0m\n",
       "\u001b[2;36m           \u001b[0m\u001b[32m(\u001b[0m\u001b[32mNLP\u001b[0m\u001b[32m)\u001b[0m\u001b[32m to improve the efficiency of attention mechanisms in transformer models. \u001b[0m          \u001b[2m               \u001b[0m\n",
       "\u001b[2;36m           \u001b[0m\u001b[32mTraditional attention mechanisms, such as the one used in the original Transformer \u001b[0m      \u001b[2m               \u001b[0m\n",
       "\u001b[2;36m           \u001b[0m\u001b[32mmodel, compute attention scores for all pairs of tokens in a sequence, which can be \u001b[0m     \u001b[2m               \u001b[0m\n",
       "\u001b[2;36m           \u001b[0m\u001b[32mcomputationally expensive and slow, especially for long sequences.\\n\\nFlash attention \u001b[0m   \u001b[2m               \u001b[0m\n",
       "\u001b[2;36m           \u001b[0m\u001b[32maddresses this issue by using a more efficient algorithm to compute attention scores. It\u001b[0m \u001b[2m               \u001b[0m\n",
       "\u001b[2;36m           \u001b[0m\u001b[32mleverages the fact that many attention scores are zero or close to zero, and it uses \u001b[0m    \u001b[2m               \u001b[0m\n",
       "\u001b[2;36m           \u001b[0m\u001b[32mthis sparsity to reduce the computational cost. Flash attention also uses a technique \u001b[0m   \u001b[2m               \u001b[0m\n",
       "\u001b[2;36m           \u001b[0m\u001b[32mcalled \"flash\" to compute the attention scores in a more parallelizable and efficient \u001b[0m   \u001b[2m               \u001b[0m\n",
       "\u001b[2;36m           \u001b[0m\u001b[32mmanner.\\n\\nThe main benefits of flash attention include:\\n\\n1. **Faster computation**: \u001b[0m  \u001b[2m               \u001b[0m\n",
       "\u001b[2;36m           \u001b[0m\u001b[32mFlash attention can significantly speed up the computation of attention scores, making \u001b[0m  \u001b[2m               \u001b[0m\n",
       "\u001b[2;36m           \u001b[0m\u001b[32mit more suitable for real-time applications.\\n2. **Reduced memory usage**: By exploiting\u001b[0m \u001b[2m               \u001b[0m\n",
       "\u001b[2;36m           \u001b[0m\u001b[32mthe sparsity of attention scores, flash attention can reduce the memory footprint of the\u001b[0m \u001b[2m               \u001b[0m\n",
       "\u001b[2;36m           \u001b[0m\u001b[32mmodel.\\n3. **Improved scalability**: Flash attention allows for better scalability, \u001b[0m     \u001b[2m               \u001b[0m\n",
       "\u001b[2;36m           \u001b[0m\u001b[32menabling the processing of longer sequences and larger models.\\n\\nOverall, flash \u001b[0m        \u001b[2m               \u001b[0m\n",
       "\u001b[2;36m           \u001b[0m\u001b[32mattention is a valuable technique for improving the efficiency and performance of \u001b[0m       \u001b[2m               \u001b[0m\n",
       "\u001b[2;36m           \u001b[0m\u001b[32mtransformer models in NLP tasks.'\u001b[0m                                                        \u001b[2m               \u001b[0m\n",
       "\u001b[2;36m           \u001b[0m    \u001b[1m}\u001b[0m,                                                                                   \u001b[2m               \u001b[0m\n",
       "\u001b[2;36m           \u001b[0m    \u001b[1m{\u001b[0m                                                                                    \u001b[2m               \u001b[0m\n",
       "\u001b[2;36m           \u001b[0m        \u001b[32m'role'\u001b[0m: \u001b[32m'user'\u001b[0m,                                                                  \u001b[2m               \u001b[0m\n",
       "\u001b[2;36m           \u001b[0m        \u001b[32m'content'\u001b[0m: \u001b[32m'Do you know about vLLM? Does it use flash attention?'\u001b[0m                \u001b[2m               \u001b[0m\n",
       "\u001b[2;36m           \u001b[0m    \u001b[1m}\u001b[0m,                                                                                   \u001b[2m               \u001b[0m\n",
       "\u001b[2;36m           \u001b[0m    \u001b[1m{\u001b[0m                                                                                    \u001b[2m               \u001b[0m\n",
       "\u001b[2;36m           \u001b[0m        \u001b[32m'role'\u001b[0m: \u001b[32m'assistant'\u001b[0m,                                                             \u001b[2m               \u001b[0m\n",
       "\u001b[2;36m           \u001b[0m        \u001b[32m'content'\u001b[0m: \u001b[32m'Yes, vLLM \u001b[0m\u001b[32m(\u001b[0m\u001b[32mVectorized Large Language Models\u001b[0m\u001b[32m)\u001b[0m\u001b[32m is a framework designed\u001b[0m \u001b[2m               \u001b[0m\n",
       "\u001b[2;36m           \u001b[0m\u001b[32mto improve the efficiency and performance of large language models. While vLLM itself is\u001b[0m \u001b[2m               \u001b[0m\n",
       "\u001b[2;36m           \u001b[0m\u001b[32mnot specifically known for using flash attention, it often incorporates various \u001b[0m         \u001b[2m               \u001b[0m\n",
       "\u001b[2;36m           \u001b[0m\u001b[32moptimization techniques to enhance the efficiency of attention mechanisms.\\n\\nFlash \u001b[0m     \u001b[2m               \u001b[0m\n",
       "\u001b[2;36m           \u001b[0m\u001b[32mattention, as discussed earlier, is a technique that can be used to optimize the \u001b[0m        \u001b[2m               \u001b[0m\n",
       "\u001b[2;36m           \u001b[0m\u001b[32mcomputation of attention scores in transformer models. It is particularly useful for \u001b[0m    \u001b[2m               \u001b[0m\n",
       "\u001b[2;36m           \u001b[0m\u001b[32mreducing computational cost and memory usage, making it a valuable addition to \u001b[0m          \u001b[2m               \u001b[0m\n",
       "\u001b[2;36m           \u001b[0m\u001b[32mframeworks like vLLM.\\n\\nIf vLLM incorporates flash attention, it would benefit from the\u001b[0m \u001b[2m               \u001b[0m\n",
       "\u001b[2;36m           \u001b[0m\u001b[32mfaster computation and reduced memory usage that this technique provides, making it more\u001b[0m \u001b[2m               \u001b[0m\n",
       "\u001b[2;36m           \u001b[0m\u001b[32mefficient for handling large language models and long sequences.'\u001b[0m                        \u001b[2m               \u001b[0m\n",
       "\u001b[2;36m           \u001b[0m    \u001b[1m}\u001b[0m,                                                                                   \u001b[2m               \u001b[0m\n",
       "\u001b[2;36m           \u001b[0m    \u001b[1m{\u001b[0m\u001b[32m'role'\u001b[0m: \u001b[32m'user'\u001b[0m, \u001b[32m'content'\u001b[0m: \u001b[32m'Can you remember my name? I think you forgot it.'\u001b[0m\u001b[1m}\u001b[0m      \u001b[2m               \u001b[0m\n",
       "\u001b[2;36m           \u001b[0m\u001b[1m]\u001b[0m                                                                                        \u001b[2m               \u001b[0m\n"
      ]
     },
     "metadata": {},
     "output_type": "display_data"
    }
   ],
   "source": [
    "messages_copy: list[Any] = messages_copy.copy()[-2:]\n",
    "\n",
    "response: dict[str, Any] = {\n",
    "    \"role\": \"assistant\",\n",
    "    \"content\": message[\"messages\"][-1].content,\n",
    "}\n",
    "messages_copy.append(response)\n",
    "\n",
    "message: dict[str, Any] = {\n",
    "    \"role\": \"user\",\n",
    "    \"content\": \"Can you remember my name? I think you forgot it.\",\n",
    "}\n",
    "\n",
    "messages_copy.append(message)\n",
    "\n",
    "console.log(messages_copy)"
   ]
  },
  {
   "cell_type": "code",
   "execution_count": 92,
   "id": "c5b9ea46",
   "metadata": {},
   "outputs": [
    {
     "name": "stdout",
     "output_type": "stream",
     "text": [
      "================================\u001b[1m Human Message \u001b[0m=================================\n",
      "\n",
      "Can you remember my name? I think you forgot it.\n",
      "==================================\u001b[1m Ai Message \u001b[0m==================================\n",
      "\n",
      "I apologize for the oversight. Your name is Chinedu. How can I assist you today?\n",
      "==================================\u001b[1m Ai Message \u001b[0m==================================\n",
      "\n",
      "I apologize for the oversight. Your name is Chinedu. How can I assist you today?\n"
     ]
    }
   ],
   "source": [
    "async for message in graph.astream(\n",
    "    {\"messages\": messages_copy}, config=config, stream_mode=\"values\"\n",
    "):\n",
    "    if \"messages\" in message:\n",
    "        message[\"messages\"][-1].pretty_print()"
   ]
  },
  {
   "cell_type": "code",
   "execution_count": null,
   "id": "7ea5de67",
   "metadata": {},
   "outputs": [],
   "source": []
  }
 ],
 "metadata": {
  "kernelspec": {
   "display_name": "ai-tutorials",
   "language": "python",
   "name": "python3"
  },
  "language_info": {
   "codemirror_mode": {
    "name": "ipython",
    "version": 3
   },
   "file_extension": ".py",
   "mimetype": "text/x-python",
   "name": "python",
   "nbconvert_exporter": "python",
   "pygments_lexer": "ipython3",
   "version": "3.12.7"
  }
 },
 "nbformat": 4,
 "nbformat_minor": 5
}
