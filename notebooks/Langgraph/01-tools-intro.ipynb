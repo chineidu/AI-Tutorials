{
 "cells": [
  {
   "cell_type": "code",
   "execution_count": 1,
   "id": "0e958c70",
   "metadata": {},
   "outputs": [],
   "source": [
    "# Built-in library\n",
    "import asyncio\n",
    "import json\n",
    "import logging\n",
    "import re\n",
    "import warnings\n",
    "from pathlib import Path\n",
    "from pprint import pprint\n",
    "from typing import Any, Literal, Optional, Union\n",
    "\n",
    "# Standard imports\n",
    "import nest_asyncio\n",
    "import numpy as np\n",
    "import numpy.typing as npt\n",
    "import pandas as pd\n",
    "import polars as pl\n",
    "from rich.console import Console\n",
    "from rich.theme import Theme\n",
    "\n",
    "custom_theme = Theme(\n",
    "    {\n",
    "        \"white\": \"#FFFFFF\",  # Bright white\n",
    "        \"info\": \"#00FF00\",  # Bright green\n",
    "        \"warning\": \"#FFD700\",  # Bright gold\n",
    "        \"error\": \"#FF1493\",  # Deep pink\n",
    "        \"success\": \"#00FFFF\",  # Cyan\n",
    "        \"highlight\": \"#FF4500\",  # Orange-red\n",
    "    }\n",
    ")\n",
    "console = Console(theme=custom_theme)\n",
    "\n",
    "# Visualization\n",
    "# import matplotlib.pyplot as pltife\n",
    "\n",
    "# NumPy settings\n",
    "np.set_printoptions(precision=4)\n",
    "\n",
    "# Pandas settings\n",
    "pd.options.display.max_rows = 1_000\n",
    "pd.options.display.max_columns = 1_000\n",
    "pd.options.display.max_colwidth = 600\n",
    "\n",
    "# Polars settings\n",
    "pl.Config.set_fmt_str_lengths(1_000)\n",
    "pl.Config.set_tbl_cols(n=1_000)\n",
    "\n",
    "warnings.filterwarnings(\"ignore\")\n",
    "\n",
    "# Black code formatter (Optional)\n",
    "%load_ext lab_black\n",
    "\n",
    "# auto reload imports\n",
    "%load_ext autoreload\n",
    "%autoreload 2"
   ]
  },
  {
   "cell_type": "code",
   "execution_count": 2,
   "metadata": {},
   "outputs": [],
   "source": [
    "def go_up_from_current_directory(*, go_up: int = 1) -> None:\n",
    "    \"\"\"This is used to up a number of directories.\n",
    "\n",
    "    Params:\n",
    "    -------\n",
    "    go_up: int, default=1\n",
    "        This indicates the number of times to go back up from the current directory.\n",
    "\n",
    "    Returns:\n",
    "    --------\n",
    "    None\n",
    "    \"\"\"\n",
    "    import os\n",
    "    import sys\n",
    "\n",
    "    CONST: str = \"../\"\n",
    "    NUM: str = CONST * go_up\n",
    "\n",
    "    # Goto the previous directory\n",
    "    prev_directory = os.path.join(os.path.dirname(__name__), NUM)\n",
    "    # Get the 'absolute path' of the previous directory\n",
    "    abs_path_prev_directory = os.path.abspath(prev_directory)\n",
    "\n",
    "    # Add the path to the System paths\n",
    "    sys.path.insert(0, abs_path_prev_directory)\n",
    "    print(abs_path_prev_directory)"
   ]
  },
  {
   "cell_type": "code",
   "execution_count": 3,
   "metadata": {},
   "outputs": [
    {
     "name": "stdout",
     "output_type": "stream",
     "text": [
      "/Users/neidu/Desktop/Projects/Personal/My_Projects/AI-Tutorials\n"
     ]
    }
   ],
   "source": [
    "go_up_from_current_directory(go_up=2)\n",
    "from settings import refresh_settings  # noqa: E402\n",
    "\n",
    "settings = refresh_settings()"
   ]
  },
  {
   "cell_type": "code",
   "execution_count": 4,
   "id": "d7d36425",
   "metadata": {},
   "outputs": [],
   "source": [
    "from instructor import AsyncInstructor\n",
    "\n",
    "from schemas import GeneralResponse, ModelEnum\n",
    "from utilities.client_utils import get_client"
   ]
  },
  {
   "cell_type": "code",
   "execution_count": 5,
   "metadata": {},
   "outputs": [
    {
     "name": "stdout",
     "output_type": "stream",
     "text": [
      "Using mode: <Mode.JSON: 'json_mode'>\n",
      "Using Ollama\n",
      "Using mode: <Mode.JSON: 'json_mode'>\n",
      "Using Remote\n"
     ]
    }
   ],
   "source": [
    "local_aclient: AsyncInstructor = get_client(is_remote=False)\n",
    "remote_aclient: AsyncInstructor = get_client(is_remote=True)"
   ]
  },
  {
   "cell_type": "code",
   "execution_count": 6,
   "metadata": {},
   "outputs": [
    {
     "name": "stdout",
     "output_type": "stream",
     "text": [
      "Model: 'qwen3:4b-q4_K_M'\n"
     ]
    },
    {
     "data": {
      "text/html": [
       "<pre style=\"white-space:pre;overflow-x:auto;line-height:normal;font-family:Menlo,'DejaVu Sans Mono',consolas,'Courier New',monospace\"><span style=\"color: #7fbfbf; text-decoration-color: #7fbfbf\">[13:40:19] </span>Abeokuta is a city in Ogun State, Nigeria, known as the <span style=\"color: #008000; text-decoration-color: #008000\">'City of Kings'</span> due to its      <a href=\"file:///var/folders/ny/dl75sc_x2tb54lsymt5bh5p00000gn/T/ipykernel_39609/2783297634.py\" target=\"_blank\"><span style=\"color: #7f7f7f; text-decoration-color: #7f7f7f\">2783297634.py</span></a><span style=\"color: #7f7f7f; text-decoration-color: #7f7f7f\">:</span><a href=\"file:///var/folders/ny/dl75sc_x2tb54lsymt5bh5p00000gn/T/ipykernel_39609/2783297634.py#23\" target=\"_blank\"><span style=\"color: #7f7f7f; text-decoration-color: #7f7f7f\">23</span></a>\n",
       "<span style=\"color: #7fbfbf; text-decoration-color: #7fbfbf\">           </span>historical significance as a center of the Yoruba people's kingdom. It is famous for    <span style=\"color: #7f7f7f; text-decoration-color: #7f7f7f\">                </span>\n",
       "<span style=\"color: #7fbfbf; text-decoration-color: #7fbfbf\">           </span>its well-preserved ancient structures, including the Oyo Kingdom's palace and the       <span style=\"color: #7f7f7f; text-decoration-color: #7f7f7f\">                </span>\n",
       "<span style=\"color: #7fbfbf; text-decoration-color: #7fbfbf\">           </span>Abeokuta Fort, which played a crucial role in the British colonial era. The city is     <span style=\"color: #7f7f7f; text-decoration-color: #7f7f7f\">                </span>\n",
       "<span style=\"color: #7fbfbf; text-decoration-color: #7fbfbf\">           </span>also a cultural hub, hosting traditional festivals and events that showcase Yoruba      <span style=\"color: #7f7f7f; text-decoration-color: #7f7f7f\">                </span>\n",
       "<span style=\"color: #7fbfbf; text-decoration-color: #7fbfbf\">           </span>heritage.                                                                               <span style=\"color: #7f7f7f; text-decoration-color: #7f7f7f\">                </span>\n",
       "</pre>\n"
      ],
      "text/plain": [
       "\u001b[2;36m[13:40:19]\u001b[0m\u001b[2;36m \u001b[0mAbeokuta is a city in Ogun State, Nigeria, known as the \u001b[32m'City of Kings'\u001b[0m due to its      \u001b]8;id=775342;file:///var/folders/ny/dl75sc_x2tb54lsymt5bh5p00000gn/T/ipykernel_39609/2783297634.py\u001b\\\u001b[2m2783297634.py\u001b[0m\u001b]8;;\u001b\\\u001b[2m:\u001b[0m\u001b]8;id=868821;file:///var/folders/ny/dl75sc_x2tb54lsymt5bh5p00000gn/T/ipykernel_39609/2783297634.py#23\u001b\\\u001b[2m23\u001b[0m\u001b]8;;\u001b\\\n",
       "\u001b[2;36m           \u001b[0mhistorical significance as a center of the Yoruba people's kingdom. It is famous for    \u001b[2m                \u001b[0m\n",
       "\u001b[2;36m           \u001b[0mits well-preserved ancient structures, including the Oyo Kingdom's palace and the       \u001b[2m                \u001b[0m\n",
       "\u001b[2;36m           \u001b[0mAbeokuta Fort, which played a crucial role in the British colonial era. The city is     \u001b[2m                \u001b[0m\n",
       "\u001b[2;36m           \u001b[0malso a cultural hub, hosting traditional festivals and events that showcase Yoruba      \u001b[2m                \u001b[0m\n",
       "\u001b[2;36m           \u001b[0mheritage.                                                                               \u001b[2m                \u001b[0m\n"
      ]
     },
     "metadata": {},
     "output_type": "display_data"
    }
   ],
   "source": [
    "messages = [\n",
    "    {\n",
    "        \"role\": \"system\",\n",
    "        \"content\": \"<inst>/no_think You're an expert AI assstance that replies to questions. \"\n",
    "        \"Your responses are returned in a string format only.</inst>\",\n",
    "    },\n",
    "    {\n",
    "        \"role\": \"user\",\n",
    "        \"content\": \"Tell me briefly something unique about Abeokuta.\",\n",
    "    },\n",
    "]\n",
    "model = ModelEnum.BASE_MODEL_LOCAL_2.value\n",
    "response: GeneralResponse = await local_aclient.chat.completions.create(\n",
    "    messages=messages,\n",
    "    response_model=GeneralResponse,\n",
    "    model=model,\n",
    "    max_tokens=700,\n",
    "    max_retries=3,\n",
    "    temperature=0.0,\n",
    "    seed=0,\n",
    ")\n",
    "print(f\"Model: {model!r}\")\n",
    "console.log(response.content)"
   ]
  },
  {
   "cell_type": "code",
   "execution_count": 7,
   "metadata": {},
   "outputs": [
    {
     "name": "stdout",
     "output_type": "stream",
     "text": [
      "Model: 'qwen/qwen3-1.7b:free'\n"
     ]
    },
    {
     "data": {
      "text/html": [
       "<pre style=\"white-space:pre;overflow-x:auto;line-height:normal;font-family:Menlo,'DejaVu Sans Mono',consolas,'Courier New',monospace\"><span style=\"color: #7fbfbf; text-decoration-color: #7fbfbf\">[13:40:22] </span>Abeokuta is a vibrant city in Nigeria known for its rich cultural heritage, historical  <a href=\"file:///var/folders/ny/dl75sc_x2tb54lsymt5bh5p00000gn/T/ipykernel_39609/3821815364.py\" target=\"_blank\"><span style=\"color: #7f7f7f; text-decoration-color: #7f7f7f\">3821815364.py</span></a><span style=\"color: #7f7f7f; text-decoration-color: #7f7f7f\">:</span><a href=\"file:///var/folders/ny/dl75sc_x2tb54lsymt5bh5p00000gn/T/ipykernel_39609/3821815364.py#13\" target=\"_blank\"><span style=\"color: #7f7f7f; text-decoration-color: #7f7f7f\">13</span></a>\n",
       "<span style=\"color: #7fbfbf; text-decoration-color: #7fbfbf\">           </span>significance, and economic importance. It is a major hub for trade and commerce, and it <span style=\"color: #7f7f7f; text-decoration-color: #7f7f7f\">                </span>\n",
       "<span style=\"color: #7fbfbf; text-decoration-color: #7fbfbf\">           </span>is home to the famous Abeokuta River, which plays a vital role in the city's economy    <span style=\"color: #7f7f7f; text-decoration-color: #7f7f7f\">                </span>\n",
       "<span style=\"color: #7fbfbf; text-decoration-color: #7fbfbf\">           </span>and daily life. The city is also renowned for its traditional markets, historical       <span style=\"color: #7f7f7f; text-decoration-color: #7f7f7f\">                </span>\n",
       "<span style=\"color: #7fbfbf; text-decoration-color: #7fbfbf\">           </span>landmarks, and the famous Abeokuta International Airport, which serves as a key         <span style=\"color: #7f7f7f; text-decoration-color: #7f7f7f\">                </span>\n",
       "<span style=\"color: #7fbfbf; text-decoration-color: #7fbfbf\">           </span>transportation hub for the region.                                                      <span style=\"color: #7f7f7f; text-decoration-color: #7f7f7f\">                </span>\n",
       "</pre>\n"
      ],
      "text/plain": [
       "\u001b[2;36m[13:40:22]\u001b[0m\u001b[2;36m \u001b[0mAbeokuta is a vibrant city in Nigeria known for its rich cultural heritage, historical  \u001b]8;id=244073;file:///var/folders/ny/dl75sc_x2tb54lsymt5bh5p00000gn/T/ipykernel_39609/3821815364.py\u001b\\\u001b[2m3821815364.py\u001b[0m\u001b]8;;\u001b\\\u001b[2m:\u001b[0m\u001b]8;id=124293;file:///var/folders/ny/dl75sc_x2tb54lsymt5bh5p00000gn/T/ipykernel_39609/3821815364.py#13\u001b\\\u001b[2m13\u001b[0m\u001b]8;;\u001b\\\n",
       "\u001b[2;36m           \u001b[0msignificance, and economic importance. It is a major hub for trade and commerce, and it \u001b[2m                \u001b[0m\n",
       "\u001b[2;36m           \u001b[0mis home to the famous Abeokuta River, which plays a vital role in the city's economy    \u001b[2m                \u001b[0m\n",
       "\u001b[2;36m           \u001b[0mand daily life. The city is also renowned for its traditional markets, historical       \u001b[2m                \u001b[0m\n",
       "\u001b[2;36m           \u001b[0mlandmarks, and the famous Abeokuta International Airport, which serves as a key         \u001b[2m                \u001b[0m\n",
       "\u001b[2;36m           \u001b[0mtransportation hub for the region.                                                      \u001b[2m                \u001b[0m\n"
      ]
     },
     "metadata": {},
     "output_type": "display_data"
    }
   ],
   "source": [
    "model = ModelEnum.BASE_REMOTE_MODEL_1_7B.value\n",
    "\n",
    "response: GeneralResponse = await remote_aclient.chat.completions.create(\n",
    "    messages=messages,\n",
    "    response_model=GeneralResponse,\n",
    "    model=model,\n",
    "    max_tokens=700,\n",
    "    max_retries=5,\n",
    "    temperature=0.0,\n",
    "    seed=0,\n",
    ")\n",
    "print(f\"Model: {model!r}\")\n",
    "console.log(response.content)"
   ]
  },
  {
   "cell_type": "code",
   "execution_count": 8,
   "id": "9f2255d8",
   "metadata": {},
   "outputs": [],
   "source": [
    "async def llm_response(\n",
    "    message: str, client: AsyncInstructor, model: str, max_tokens: int = 1_000\n",
    ") -> str:\n",
    "    \"\"\"\n",
    "    Generate an AI response using the provided message and model parameters.\n",
    "\n",
    "    Parameters\n",
    "    ----------\n",
    "    message : str\n",
    "        The input message to send to the AI model.\n",
    "    client : AsyncInstructor\n",
    "        The async client instance for making API calls.\n",
    "    model : str\n",
    "        The name or identifier of the AI model to use.\n",
    "    max_tokens : int, optional\n",
    "        Maximum number of tokens in the response, by default 1,000.\n",
    "\n",
    "    Returns\n",
    "    -------\n",
    "    str\n",
    "        The generated AI response content.\n",
    "    \"\"\"\n",
    "    response: GeneralResponse = await client.chat.completions.create(\n",
    "        messages=[\n",
    "            {\n",
    "                \"role\": \"system\",\n",
    "                \"content\": \"<inst>/no_think You're an expert AI assstance that \"\n",
    "                \"replies to questions. Your responses are returned in a string format only. \"\n",
    "                \"e.g. '</your_answer_here>' </inst>\",\n",
    "            },\n",
    "            {\n",
    "                \"role\": \"user\",\n",
    "                \"content\": f\"<user>{message}</user>\",\n",
    "            },\n",
    "        ],\n",
    "        response_model=GeneralResponse,\n",
    "        model=model,\n",
    "        max_tokens=max_tokens,\n",
    "        max_retries=5,\n",
    "        temperature=0.0,\n",
    "        seed=0,\n",
    "    )\n",
    "\n",
    "    return response.content"
   ]
  },
  {
   "cell_type": "code",
   "execution_count": 9,
   "id": "2771205c",
   "metadata": {},
   "outputs": [
    {
     "data": {
      "text/plain": [
       "\"Why don't Cercei Lannister ever get cold? Because she always wears a lot of layers, and no one can take the heat from her.\""
      ]
     },
     "execution_count": 9,
     "metadata": {},
     "output_type": "execute_result"
    }
   ],
   "source": [
    "await llm_response(\n",
    "    message=\"Tell me a joke about Cercei Lannister.\",\n",
    "    client=local_aclient,\n",
    "    model=ModelEnum.BASE_MODEL_LOCAL_2.value,\n",
    ")"
   ]
  },
  {
   "cell_type": "markdown",
   "id": "24db9fcb",
   "metadata": {},
   "source": [
    "<hr>\n",
    "\n",
    "### StateGraph"
   ]
  },
  {
   "cell_type": "code",
   "execution_count": 10,
   "id": "8c595484",
   "metadata": {},
   "outputs": [],
   "source": [
    "from typing import Annotated, TypedDict\n",
    "\n",
    "from langgraph.graph import END, START, StateGraph\n",
    "from langgraph.graph.message import add_messages"
   ]
  },
  {
   "cell_type": "code",
   "execution_count": 11,
   "id": "605cc193",
   "metadata": {},
   "outputs": [],
   "source": [
    "class State(TypedDict):\n",
    "    # This appends messages instead of overwriting\n",
    "    messages: Annotated[list, add_messages]\n",
    "\n",
    "\n",
    "graph_builder: StateGraph = StateGraph(State)"
   ]
  },
  {
   "cell_type": "code",
   "execution_count": 12,
   "id": "b0aef63a",
   "metadata": {},
   "outputs": [
    {
     "data": {
      "text/plain": [
       "<langgraph.graph.state.StateGraph at 0x11b111d30>"
      ]
     },
     "execution_count": 12,
     "metadata": {},
     "output_type": "execute_result"
    }
   ],
   "source": [
    "nest_asyncio.apply()\n",
    "\n",
    "\n",
    "def get_client_and_model() -> tuple[Annotated[AsyncInstructor, \"client\"], Annotated[str, \"model\"]]:\n",
    "    \"\"\"Get the local client and model configuration.\n",
    "\n",
    "    Returns\n",
    "    -------\n",
    "    tuple[AsyncInstructor, str]\n",
    "        A tuple containing:\n",
    "        - client: The AsyncInstructor instance for local model interaction\n",
    "        - model: The string identifier for the base local model\n",
    "    \"\"\"\n",
    "    return local_aclient, ModelEnum.BASE_MODEL_LOCAL_2.value\n",
    "\n",
    "\n",
    "# Add chatbot\n",
    "async def chatbot(state: State) -> dict[str, Any]:\n",
    "    \"\"\"Process chat messages using an LLM model and return the response.\n",
    "\n",
    "    Parameters\n",
    "    ----------\n",
    "    state : State\n",
    "        The current state containing chat messages.\n",
    "\n",
    "    Returns\n",
    "    -------\n",
    "    dict[str, Any]\n",
    "        A dictionary containing the LLM response with key 'messages'.\n",
    "    \"\"\"\n",
    "    client, model = get_client_and_model()\n",
    "    response: str = await llm_response(state[\"messages\"], client=client, model=model)\n",
    "    return {\"messages\": response}\n",
    "\n",
    "\n",
    "# (unique_name, function) when the node is called\n",
    "graph_builder.add_node(\"chatbot\", chatbot)"
   ]
  },
  {
   "cell_type": "code",
   "execution_count": 13,
   "metadata": {},
   "outputs": [],
   "source": [
    "# Add entrypoint\n",
    "graph_builder.add_edge(START, \"chatbot\")\n",
    "\n",
    "# Compile graph\n",
    "graph = graph_builder.compile()"
   ]
  },
  {
   "cell_type": "markdown",
   "id": "76cc5576",
   "metadata": {},
   "source": [
    "## Visualize Graph"
   ]
  },
  {
   "cell_type": "code",
   "execution_count": 14,
   "metadata": {},
   "outputs": [
    {
     "data": {
      "image/png": "[encoded data removed]",
      "text/plain": [
       "<IPython.core.display.Image object>"
      ]
     },
     "metadata": {},
     "output_type": "display_data"
    }
   ],
   "source": [
    "# uv add pygraphviz or pip install pygraphviz\n",
    "from IPython.display import Image, display\n",
    "\n",
    "display(Image(graph.get_graph().draw_png()))"
   ]
  },
  {
   "cell_type": "markdown",
   "id": "46fbbdad",
   "metadata": {},
   "source": [
    "### Run The Graph"
   ]
  },
  {
   "cell_type": "code",
   "execution_count": null,
   "id": "16ccb2fe",
   "metadata": {},
   "outputs": [],
   "source": [
    "nest_asyncio.apply()\n",
    "\n",
    "\n",
    "async def stream_graph_updates(user_input: str) -> None:\n",
    "    \"\"\"Process user input through a graph and stream assistant responses.\n",
    "\n",
    "    This function takes a user input string and streams it through an async graph,\n",
    "    printing the assistant's messages as they are generated.\n",
    "\n",
    "    Parameters\n",
    "    ----------\n",
    "    user_input : str\n",
    "        The input text from the user to process\n",
    "\n",
    "    Returns\n",
    "    -------\n",
    "    None\n",
    "        This function prints output but does not return any value\n",
    "    \"\"\"\n",
    "    async for event in graph.astream({\"messages\": [{\"role\": \"user\", \"content\": user_input}]}):\n",
    "        print(f\"Assistant: {event['chatbot']['messages']}\")"
   ]
  },
  {
   "cell_type": "code",
   "execution_count": 16,
   "id": "4f24e2f6",
   "metadata": {},
   "outputs": [
    {
     "name": "stdout",
     "output_type": "stream",
     "text": [
      "Assistant: Why don't Cercei Lannister ever get cold? Because she always wears a lot of layers, and no one can take the heat from her!\n"
     ]
    }
   ],
   "source": [
    "# Test user input\n",
    "await stream_graph_updates(user_input=\"Tell me a joke about Cercei Lannister.\")"
   ]
  },
  {
   "cell_type": "markdown",
   "id": "1b868bee",
   "metadata": {},
   "source": [
    "### Test The Graph"
   ]
  },
  {
   "cell_type": "code",
   "execution_count": 17,
   "id": "4e32634b",
   "metadata": {},
   "outputs": [
    {
     "name": "stdout",
     "output_type": "stream",
     "text": [
      "Goodbye!\n"
     ]
    }
   ],
   "source": [
    "while True:\n",
    "    try:\n",
    "        user_input: str = input(\"User: \")\n",
    "        if user_input.lower() in [\"bye\", \"exit\", \"quit\", \"q\"]:\n",
    "            print(\"Goodbye!\")\n",
    "            break\n",
    "        await stream_graph_updates(user_input)\n",
    "\n",
    "    except Exception:\n",
    "        # Fallback\n",
    "        user_input = \"Tell me a joke about Cercei Lannister.\"\n",
    "        print(f\"User: {user_input}\")\n",
    "        await stream_graph_updates(user_input)\n",
    "        break"
   ]
  },
  {
   "cell_type": "markdown",
   "id": "e324e7e2",
   "metadata": {},
   "source": [
    "## Tool Use"
   ]
  },
  {
   "cell_type": "code",
   "execution_count": 18,
   "metadata": {},
   "outputs": [],
   "source": [
    "from langchain_core.tools import tool\n",
    "from langchain_tavily import TavilySearch\n",
    "from tavily import TavilyClient\n",
    "\n",
    "\n",
    "@tool(\"tavily_search\")\n",
    "def simple_tavily_search(query: str) -> dict:\n",
    "    \"\"\"\n",
    "    Search for information using the Tavily API.\n",
    "\n",
    "    Parameters\n",
    "    ----------\n",
    "    query : str\n",
    "        The search query string.\n",
    "\n",
    "    Returns\n",
    "    -------\n",
    "    dict\n",
    "        The search results from Tavily.\n",
    "    \"\"\"\n",
    "    tavily_client = TavilyClient(api_key=settings.TAVILY_API_KEY.get_secret_value())\n",
    "    return tavily_client.search(query)"
   ]
  },
  {
   "cell_type": "code",
   "execution_count": 19,
   "id": "39f5252b",
   "metadata": {},
   "outputs": [
    {
     "name": "stderr",
     "output_type": "stream",
     "text": [
      "/var/folders/ny/dl75sc_x2tb54lsymt5bh5p00000gn/T/ipykernel_39609/2400777220.py:1: LangChainDeprecationWarning: The method `BaseTool.__call__` was deprecated in langchain-core 0.1.47 and will be removed in 1.0. Use :meth:`~invoke` instead.\n",
      "  response = simple_tavily_search(\"Who is the current Pope?\")\n"
     ]
    },
    {
     "data": {
      "text/html": [
       "<pre style=\"white-space:pre;overflow-x:auto;line-height:normal;font-family:Menlo,'DejaVu Sans Mono',consolas,'Courier New',monospace\"><span style=\"color: #7fbfbf; text-decoration-color: #7fbfbf\">[13:47:23] </span><span style=\"font-weight: bold\">{</span>                                                                                        <a href=\"file:///var/folders/ny/dl75sc_x2tb54lsymt5bh5p00000gn/T/ipykernel_39609/2400777220.py\" target=\"_blank\"><span style=\"color: #7f7f7f; text-decoration-color: #7f7f7f\">2400777220.py</span></a><span style=\"color: #7f7f7f; text-decoration-color: #7f7f7f\">:</span><a href=\"file:///var/folders/ny/dl75sc_x2tb54lsymt5bh5p00000gn/T/ipykernel_39609/2400777220.py#2\" target=\"_blank\"><span style=\"color: #7f7f7f; text-decoration-color: #7f7f7f\">2</span></a>\n",
       "<span style=\"color: #7fbfbf; text-decoration-color: #7fbfbf\">           </span>    <span style=\"color: #008000; text-decoration-color: #008000\">'query'</span>: <span style=\"color: #008000; text-decoration-color: #008000\">'Who is the current Pope?'</span>,                                                 <span style=\"color: #7f7f7f; text-decoration-color: #7f7f7f\">               </span>\n",
       "<span style=\"color: #7fbfbf; text-decoration-color: #7fbfbf\">           </span>    <span style=\"color: #008000; text-decoration-color: #008000\">'follow_up_questions'</span>: <span style=\"color: #800080; text-decoration-color: #800080; font-style: italic\">None</span>,                                                         <span style=\"color: #7f7f7f; text-decoration-color: #7f7f7f\">               </span>\n",
       "<span style=\"color: #7fbfbf; text-decoration-color: #7fbfbf\">           </span>    <span style=\"color: #008000; text-decoration-color: #008000\">'answer'</span>: <span style=\"color: #800080; text-decoration-color: #800080; font-style: italic\">None</span>,                                                                      <span style=\"color: #7f7f7f; text-decoration-color: #7f7f7f\">               </span>\n",
       "<span style=\"color: #7fbfbf; text-decoration-color: #7fbfbf\">           </span>    <span style=\"color: #008000; text-decoration-color: #008000\">'images'</span>: <span style=\"font-weight: bold\">[]</span>,                                                                        <span style=\"color: #7f7f7f; text-decoration-color: #7f7f7f\">               </span>\n",
       "<span style=\"color: #7fbfbf; text-decoration-color: #7fbfbf\">           </span>    <span style=\"color: #008000; text-decoration-color: #008000\">'results'</span>: <span style=\"font-weight: bold\">[</span>                                                                         <span style=\"color: #7f7f7f; text-decoration-color: #7f7f7f\">               </span>\n",
       "<span style=\"color: #7fbfbf; text-decoration-color: #7fbfbf\">           </span>        <span style=\"font-weight: bold\">{</span>                                                                                <span style=\"color: #7f7f7f; text-decoration-color: #7f7f7f\">               </span>\n",
       "<span style=\"color: #7fbfbf; text-decoration-color: #7fbfbf\">           </span>            <span style=\"color: #008000; text-decoration-color: #008000\">'title'</span>: <span style=\"color: #008000; text-decoration-color: #008000\">'Who is the new pope? Everything to know about Pope Leo XIV'</span>,       <span style=\"color: #7f7f7f; text-decoration-color: #7f7f7f\">               </span>\n",
       "<span style=\"color: #7fbfbf; text-decoration-color: #7fbfbf\">           </span>            <span style=\"color: #008000; text-decoration-color: #008000\">'url'</span>:                                                                       <span style=\"color: #7f7f7f; text-decoration-color: #7f7f7f\">               </span>\n",
       "<span style=\"color: #7fbfbf; text-decoration-color: #7fbfbf\">           </span><span style=\"color: #008000; text-decoration-color: #008000\">'https://www.nbcmiami.com/news/national-international/new-pope-who-is-robert-francis-pre</span> <span style=\"color: #7f7f7f; text-decoration-color: #7f7f7f\">               </span>\n",
       "<span style=\"color: #7fbfbf; text-decoration-color: #7fbfbf\">           </span><span style=\"color: #008000; text-decoration-color: #008000\">vost/3610225/'</span>,                                                                          <span style=\"color: #7f7f7f; text-decoration-color: #7f7f7f\">               </span>\n",
       "<span style=\"color: #7fbfbf; text-decoration-color: #7fbfbf\">           </span>            <span style=\"color: #008000; text-decoration-color: #008000\">'content'</span>: <span style=\"color: #008000; text-decoration-color: #008000\">\"The new leader of the Catholic Church is American Robert Francis</span> <span style=\"color: #7f7f7f; text-decoration-color: #7f7f7f\">               </span>\n",
       "<span style=\"color: #7fbfbf; text-decoration-color: #7fbfbf\">           </span><span style=\"color: #008000; text-decoration-color: #008000\">Prevost, Cardinal Dominique Mamberti announced to a crowd in St. Peter's Square.\"</span>,       <span style=\"color: #7f7f7f; text-decoration-color: #7f7f7f\">               </span>\n",
       "<span style=\"color: #7fbfbf; text-decoration-color: #7fbfbf\">           </span>            <span style=\"color: #008000; text-decoration-color: #008000\">'score'</span>: <span style=\"color: #008080; text-decoration-color: #008080; font-weight: bold\">0.7036111</span>,                                                          <span style=\"color: #7f7f7f; text-decoration-color: #7f7f7f\">               </span>\n",
       "<span style=\"color: #7fbfbf; text-decoration-color: #7fbfbf\">           </span>            <span style=\"color: #008000; text-decoration-color: #008000\">'raw_content'</span>: <span style=\"color: #800080; text-decoration-color: #800080; font-style: italic\">None</span>                                                          <span style=\"color: #7f7f7f; text-decoration-color: #7f7f7f\">               </span>\n",
       "<span style=\"color: #7fbfbf; text-decoration-color: #7fbfbf\">           </span>        <span style=\"font-weight: bold\">}</span>,                                                                               <span style=\"color: #7f7f7f; text-decoration-color: #7f7f7f\">               </span>\n",
       "<span style=\"color: #7fbfbf; text-decoration-color: #7fbfbf\">           </span>        <span style=\"font-weight: bold\">{</span>                                                                                <span style=\"color: #7f7f7f; text-decoration-color: #7f7f7f\">               </span>\n",
       "<span style=\"color: #7fbfbf; text-decoration-color: #7fbfbf\">           </span>            <span style=\"color: #008000; text-decoration-color: #008000\">'title'</span>: <span style=\"color: #008000; text-decoration-color: #008000\">'Who is the new Pope Leo XIV and what is his background?'</span>,          <span style=\"color: #7f7f7f; text-decoration-color: #7f7f7f\">               </span>\n",
       "<span style=\"color: #7fbfbf; text-decoration-color: #7fbfbf\">           </span>            <span style=\"color: #008000; text-decoration-color: #008000\">'url'</span>:                                                                       <span style=\"color: #7f7f7f; text-decoration-color: #7f7f7f\">               </span>\n",
       "<span style=\"color: #7fbfbf; text-decoration-color: #7fbfbf\">           </span><span style=\"color: #008000; text-decoration-color: #008000\">'https://wskg.org/npr-news/2025-05-08/who-is-the-new-pope-leo-xiv-and-what-is-his-backgr</span> <span style=\"color: #7f7f7f; text-decoration-color: #7f7f7f\">               </span>\n",
       "<span style=\"color: #7fbfbf; text-decoration-color: #7fbfbf\">           </span><span style=\"color: #008000; text-decoration-color: #008000\">ound'</span>,                                                                                   <span style=\"color: #7f7f7f; text-decoration-color: #7f7f7f\">               </span>\n",
       "<span style=\"color: #7fbfbf; text-decoration-color: #7fbfbf\">           </span>            <span style=\"color: #008000; text-decoration-color: #008000\">'content'</span>: <span style=\"color: #008000; text-decoration-color: #008000\">\"The election of Robert Francis Prevost, who chose the name Leo </span>  <span style=\"color: #7f7f7f; text-decoration-color: #7f7f7f\">               </span>\n",
       "<span style=\"color: #7fbfbf; text-decoration-color: #7fbfbf\">           </span><span style=\"color: #008000; text-decoration-color: #008000\">XIV, as the 267th leader of the Roman Catholic Church marks two historic firsts. Leo is </span> <span style=\"color: #7f7f7f; text-decoration-color: #7f7f7f\">               </span>\n",
       "<span style=\"color: #7fbfbf; text-decoration-color: #7fbfbf\">           </span><span style=\"color: #008000; text-decoration-color: #008000\">the first-ever U.S.-born pope to lead the church and the first pope from the Augustinian</span> <span style=\"color: #7f7f7f; text-decoration-color: #7f7f7f\">               </span>\n",
       "<span style=\"color: #7fbfbf; text-decoration-color: #7fbfbf\">           </span><span style=\"color: #008000; text-decoration-color: #008000\">order. On Thursday, the new pope appeared on the balcony of St. Peter's Basilica and </span>    <span style=\"color: #7f7f7f; text-decoration-color: #7f7f7f\">               </span>\n",
       "<span style=\"color: #7fbfbf; text-decoration-color: #7fbfbf\">           </span><span style=\"color: #008000; text-decoration-color: #008000\">delivered a short speech.\"</span>,                                                              <span style=\"color: #7f7f7f; text-decoration-color: #7f7f7f\">               </span>\n",
       "<span style=\"color: #7fbfbf; text-decoration-color: #7fbfbf\">           </span>            <span style=\"color: #008000; text-decoration-color: #008000\">'score'</span>: <span style=\"color: #008080; text-decoration-color: #008080; font-weight: bold\">0.6917478</span>,                                                          <span style=\"color: #7f7f7f; text-decoration-color: #7f7f7f\">               </span>\n",
       "<span style=\"color: #7fbfbf; text-decoration-color: #7fbfbf\">           </span>            <span style=\"color: #008000; text-decoration-color: #008000\">'raw_content'</span>: <span style=\"color: #800080; text-decoration-color: #800080; font-style: italic\">None</span>                                                          <span style=\"color: #7f7f7f; text-decoration-color: #7f7f7f\">               </span>\n",
       "<span style=\"color: #7fbfbf; text-decoration-color: #7fbfbf\">           </span>        <span style=\"font-weight: bold\">}</span>,                                                                               <span style=\"color: #7f7f7f; text-decoration-color: #7f7f7f\">               </span>\n",
       "<span style=\"color: #7fbfbf; text-decoration-color: #7fbfbf\">           </span>        <span style=\"font-weight: bold\">{</span>                                                                                <span style=\"color: #7f7f7f; text-decoration-color: #7f7f7f\">               </span>\n",
       "<span style=\"color: #7fbfbf; text-decoration-color: #7fbfbf\">           </span>            <span style=\"color: #008000; text-decoration-color: #008000\">'title'</span>: <span style=\"color: #008000; text-decoration-color: #008000\">'Leo XIV is the new Pope - Vatican News'</span>,                           <span style=\"color: #7f7f7f; text-decoration-color: #7f7f7f\">               </span>\n",
       "<span style=\"color: #7fbfbf; text-decoration-color: #7fbfbf\">           </span>            <span style=\"color: #008000; text-decoration-color: #008000\">'url'</span>:                                                                       <span style=\"color: #7f7f7f; text-decoration-color: #7f7f7f\">               </span>\n",
       "<span style=\"color: #7fbfbf; text-decoration-color: #7fbfbf\">           </span><span style=\"color: #008000; text-decoration-color: #008000\">'https://www.vaticannews.va/en/pope/news/2025-05/cardinal-elected-pope-papal-name.html'</span>, <span style=\"color: #7f7f7f; text-decoration-color: #7f7f7f\">               </span>\n",
       "<span style=\"color: #7fbfbf; text-decoration-color: #7fbfbf\">           </span>            <span style=\"color: #008000; text-decoration-color: #008000\">'content'</span>: <span style=\"color: #008000; text-decoration-color: #008000\">'\"Peace be with all of you!\" - the first words of Pope Leo XIV. </span>  <span style=\"color: #7f7f7f; text-decoration-color: #7f7f7f\">               </span>\n",
       "<span style=\"color: #7fbfbf; text-decoration-color: #7fbfbf\">           </span><span style=\"color: #008000; text-decoration-color: #008000\">The Conclave has elected Robert Francis Cardinal Prevost as the 267th Bishop of Rome.'</span>,  <span style=\"color: #7f7f7f; text-decoration-color: #7f7f7f\">               </span>\n",
       "<span style=\"color: #7fbfbf; text-decoration-color: #7fbfbf\">           </span>            <span style=\"color: #008000; text-decoration-color: #008000\">'score'</span>: <span style=\"color: #008080; text-decoration-color: #008080; font-weight: bold\">0.6133529</span>,                                                          <span style=\"color: #7f7f7f; text-decoration-color: #7f7f7f\">               </span>\n",
       "<span style=\"color: #7fbfbf; text-decoration-color: #7fbfbf\">           </span>            <span style=\"color: #008000; text-decoration-color: #008000\">'raw_content'</span>: <span style=\"color: #800080; text-decoration-color: #800080; font-style: italic\">None</span>                                                          <span style=\"color: #7f7f7f; text-decoration-color: #7f7f7f\">               </span>\n",
       "<span style=\"color: #7fbfbf; text-decoration-color: #7fbfbf\">           </span>        <span style=\"font-weight: bold\">}</span>,                                                                               <span style=\"color: #7f7f7f; text-decoration-color: #7f7f7f\">               </span>\n",
       "<span style=\"color: #7fbfbf; text-decoration-color: #7fbfbf\">           </span>        <span style=\"font-weight: bold\">{</span>                                                                                <span style=\"color: #7f7f7f; text-decoration-color: #7f7f7f\">               </span>\n",
       "<span style=\"color: #7fbfbf; text-decoration-color: #7fbfbf\">           </span>            <span style=\"color: #008000; text-decoration-color: #008000\">'title'</span>: <span style=\"color: #008000; text-decoration-color: #008000\">'Who is Pope Leo XIV, and how was he chosen? | Temple Now'</span>,         <span style=\"color: #7f7f7f; text-decoration-color: #7f7f7f\">               </span>\n",
       "<span style=\"color: #7fbfbf; text-decoration-color: #7fbfbf\">           </span>            <span style=\"color: #008000; text-decoration-color: #008000\">'url'</span>:                                                                       <span style=\"color: #7f7f7f; text-decoration-color: #7f7f7f\">               </span>\n",
       "<span style=\"color: #7fbfbf; text-decoration-color: #7fbfbf\">           </span><span style=\"color: #008000; text-decoration-color: #008000\">'https://news.temple.edu/news/2025-05-14/who-pope-leo-xiv-and-how-was-he-chosen'</span>,        <span style=\"color: #7f7f7f; text-decoration-color: #7f7f7f\">               </span>\n",
       "<span style=\"color: #7fbfbf; text-decoration-color: #7fbfbf\">           </span>            <span style=\"color: #008000; text-decoration-color: #008000\">'content'</span>: <span style=\"color: #008000; text-decoration-color: #008000\">'Pope Leo XIV is the first pope from the United States, and he </span>   <span style=\"color: #7f7f7f; text-decoration-color: #7f7f7f\">               </span>\n",
       "<span style=\"color: #7fbfbf; text-decoration-color: #7fbfbf\">           </span><span style=\"color: #008000; text-decoration-color: #008000\">joins his predecessor, Pope Francis, as only the second pope from the Americas. Because </span> <span style=\"color: #7f7f7f; text-decoration-color: #7f7f7f\">               </span>\n",
       "<span style=\"color: #7fbfbf; text-decoration-color: #7fbfbf\">           </span><span style=\"color: #008000; text-decoration-color: #008000\">of that distinction, and thanks to the 2024 hit film Conclave, there is great interest </span>  <span style=\"color: #7f7f7f; text-decoration-color: #7f7f7f\">               </span>\n",
       "<span style=\"color: #7fbfbf; text-decoration-color: #7fbfbf\">           </span><span style=\"color: #008000; text-decoration-color: #008000\">surrounding Pope Leo XIV and the time-honored tradition for electing a new pope.'</span>,       <span style=\"color: #7f7f7f; text-decoration-color: #7f7f7f\">               </span>\n",
       "<span style=\"color: #7fbfbf; text-decoration-color: #7fbfbf\">           </span>            <span style=\"color: #008000; text-decoration-color: #008000\">'score'</span>: <span style=\"color: #008080; text-decoration-color: #008080; font-weight: bold\">0.5792344</span>,                                                          <span style=\"color: #7f7f7f; text-decoration-color: #7f7f7f\">               </span>\n",
       "<span style=\"color: #7fbfbf; text-decoration-color: #7fbfbf\">           </span>            <span style=\"color: #008000; text-decoration-color: #008000\">'raw_content'</span>: <span style=\"color: #800080; text-decoration-color: #800080; font-style: italic\">None</span>                                                          <span style=\"color: #7f7f7f; text-decoration-color: #7f7f7f\">               </span>\n",
       "<span style=\"color: #7fbfbf; text-decoration-color: #7fbfbf\">           </span>        <span style=\"font-weight: bold\">}</span>,                                                                               <span style=\"color: #7f7f7f; text-decoration-color: #7f7f7f\">               </span>\n",
       "<span style=\"color: #7fbfbf; text-decoration-color: #7fbfbf\">           </span>        <span style=\"font-weight: bold\">{</span>                                                                                <span style=\"color: #7f7f7f; text-decoration-color: #7f7f7f\">               </span>\n",
       "<span style=\"color: #7fbfbf; text-decoration-color: #7fbfbf\">           </span>            <span style=\"color: #008000; text-decoration-color: #008000\">'title'</span>: <span style=\"color: #008000; text-decoration-color: #008000\">'What to know about Pope Leo XIV and his background : NPR'</span>,         <span style=\"color: #7f7f7f; text-decoration-color: #7f7f7f\">               </span>\n",
       "<span style=\"color: #7fbfbf; text-decoration-color: #7fbfbf\">           </span>            <span style=\"color: #008000; text-decoration-color: #008000\">'url'</span>:                                                                       <span style=\"color: #7f7f7f; text-decoration-color: #7f7f7f\">               </span>\n",
       "<span style=\"color: #7fbfbf; text-decoration-color: #7fbfbf\">           </span><span style=\"color: #008000; text-decoration-color: #008000\">'https://www.npr.org/2025/05/08/g-s1-65147/new-pope-leo-xiv-robert-prevost-views'</span>,       <span style=\"color: #7f7f7f; text-decoration-color: #7f7f7f\">               </span>\n",
       "<span style=\"color: #7fbfbf; text-decoration-color: #7fbfbf\">           </span>            <span style=\"color: #008000; text-decoration-color: #008000\">'content'</span>: <span style=\"color: #008000; text-decoration-color: #008000\">'Pope Leo XIV was born and raised in Chicago. He is of French, </span>   <span style=\"color: #7f7f7f; text-decoration-color: #7f7f7f\">               </span>\n",
       "<span style=\"color: #7fbfbf; text-decoration-color: #7fbfbf\">           </span><span style=\"color: #008000; text-decoration-color: #008000\">Italian and Spanish descent. He spent years working as a missionary in Peru.'</span>,           <span style=\"color: #7f7f7f; text-decoration-color: #7f7f7f\">               </span>\n",
       "<span style=\"color: #7fbfbf; text-decoration-color: #7fbfbf\">           </span>            <span style=\"color: #008000; text-decoration-color: #008000\">'score'</span>: <span style=\"color: #008080; text-decoration-color: #008080; font-weight: bold\">0.32158834</span>,                                                         <span style=\"color: #7f7f7f; text-decoration-color: #7f7f7f\">               </span>\n",
       "<span style=\"color: #7fbfbf; text-decoration-color: #7fbfbf\">           </span>            <span style=\"color: #008000; text-decoration-color: #008000\">'raw_content'</span>: <span style=\"color: #800080; text-decoration-color: #800080; font-style: italic\">None</span>                                                          <span style=\"color: #7f7f7f; text-decoration-color: #7f7f7f\">               </span>\n",
       "<span style=\"color: #7fbfbf; text-decoration-color: #7fbfbf\">           </span>        <span style=\"font-weight: bold\">}</span>                                                                                <span style=\"color: #7f7f7f; text-decoration-color: #7f7f7f\">               </span>\n",
       "<span style=\"color: #7fbfbf; text-decoration-color: #7fbfbf\">           </span>    <span style=\"font-weight: bold\">]</span>,                                                                                   <span style=\"color: #7f7f7f; text-decoration-color: #7f7f7f\">               </span>\n",
       "<span style=\"color: #7fbfbf; text-decoration-color: #7fbfbf\">           </span>    <span style=\"color: #008000; text-decoration-color: #008000\">'response_time'</span>: <span style=\"color: #008080; text-decoration-color: #008080; font-weight: bold\">2.23</span>                                                                <span style=\"color: #7f7f7f; text-decoration-color: #7f7f7f\">               </span>\n",
       "<span style=\"color: #7fbfbf; text-decoration-color: #7fbfbf\">           </span><span style=\"font-weight: bold\">}</span>                                                                                        <span style=\"color: #7f7f7f; text-decoration-color: #7f7f7f\">               </span>\n",
       "</pre>\n"
      ],
      "text/plain": [
       "\u001b[2;36m[13:47:23]\u001b[0m\u001b[2;36m \u001b[0m\u001b[1m{\u001b[0m                                                                                        \u001b]8;id=117888;file:///var/folders/ny/dl75sc_x2tb54lsymt5bh5p00000gn/T/ipykernel_39609/2400777220.py\u001b\\\u001b[2m2400777220.py\u001b[0m\u001b]8;;\u001b\\\u001b[2m:\u001b[0m\u001b]8;id=266986;file:///var/folders/ny/dl75sc_x2tb54lsymt5bh5p00000gn/T/ipykernel_39609/2400777220.py#2\u001b\\\u001b[2m2\u001b[0m\u001b]8;;\u001b\\\n",
       "\u001b[2;36m           \u001b[0m    \u001b[32m'query'\u001b[0m: \u001b[32m'Who is the current Pope?'\u001b[0m,                                                 \u001b[2m               \u001b[0m\n",
       "\u001b[2;36m           \u001b[0m    \u001b[32m'follow_up_questions'\u001b[0m: \u001b[3;35mNone\u001b[0m,                                                         \u001b[2m               \u001b[0m\n",
       "\u001b[2;36m           \u001b[0m    \u001b[32m'answer'\u001b[0m: \u001b[3;35mNone\u001b[0m,                                                                      \u001b[2m               \u001b[0m\n",
       "\u001b[2;36m           \u001b[0m    \u001b[32m'images'\u001b[0m: \u001b[1m[\u001b[0m\u001b[1m]\u001b[0m,                                                                        \u001b[2m               \u001b[0m\n",
       "\u001b[2;36m           \u001b[0m    \u001b[32m'results'\u001b[0m: \u001b[1m[\u001b[0m                                                                         \u001b[2m               \u001b[0m\n",
       "\u001b[2;36m           \u001b[0m        \u001b[1m{\u001b[0m                                                                                \u001b[2m               \u001b[0m\n",
       "\u001b[2;36m           \u001b[0m            \u001b[32m'title'\u001b[0m: \u001b[32m'Who is the new pope? Everything to know about Pope Leo XIV'\u001b[0m,       \u001b[2m               \u001b[0m\n",
       "\u001b[2;36m           \u001b[0m            \u001b[32m'url'\u001b[0m:                                                                       \u001b[2m               \u001b[0m\n",
       "\u001b[2;36m           \u001b[0m\u001b[32m'https://www.nbcmiami.com/news/national-international/new-pope-who-is-robert-francis-pre\u001b[0m \u001b[2m               \u001b[0m\n",
       "\u001b[2;36m           \u001b[0m\u001b[32mvost/3610225/'\u001b[0m,                                                                          \u001b[2m               \u001b[0m\n",
       "\u001b[2;36m           \u001b[0m            \u001b[32m'content'\u001b[0m: \u001b[32m\"The new leader of the Catholic Church is American Robert Francis\u001b[0m \u001b[2m               \u001b[0m\n",
       "\u001b[2;36m           \u001b[0m\u001b[32mPrevost, Cardinal Dominique Mamberti announced to a crowd in St. Peter's Square.\"\u001b[0m,       \u001b[2m               \u001b[0m\n",
       "\u001b[2;36m           \u001b[0m            \u001b[32m'score'\u001b[0m: \u001b[1;36m0.7036111\u001b[0m,                                                          \u001b[2m               \u001b[0m\n",
       "\u001b[2;36m           \u001b[0m            \u001b[32m'raw_content'\u001b[0m: \u001b[3;35mNone\u001b[0m                                                          \u001b[2m               \u001b[0m\n",
       "\u001b[2;36m           \u001b[0m        \u001b[1m}\u001b[0m,                                                                               \u001b[2m               \u001b[0m\n",
       "\u001b[2;36m           \u001b[0m        \u001b[1m{\u001b[0m                                                                                \u001b[2m               \u001b[0m\n",
       "\u001b[2;36m           \u001b[0m            \u001b[32m'title'\u001b[0m: \u001b[32m'Who is the new Pope Leo XIV and what is his background?'\u001b[0m,          \u001b[2m               \u001b[0m\n",
       "\u001b[2;36m           \u001b[0m            \u001b[32m'url'\u001b[0m:                                                                       \u001b[2m               \u001b[0m\n",
       "\u001b[2;36m           \u001b[0m\u001b[32m'https://wskg.org/npr-news/2025-05-08/who-is-the-new-pope-leo-xiv-and-what-is-his-backgr\u001b[0m \u001b[2m               \u001b[0m\n",
       "\u001b[2;36m           \u001b[0m\u001b[32mound'\u001b[0m,                                                                                   \u001b[2m               \u001b[0m\n",
       "\u001b[2;36m           \u001b[0m            \u001b[32m'content'\u001b[0m: \u001b[32m\"The election of Robert Francis Prevost, who chose the name Leo \u001b[0m  \u001b[2m               \u001b[0m\n",
       "\u001b[2;36m           \u001b[0m\u001b[32mXIV, as the 267th leader of the Roman Catholic Church marks two historic firsts. Leo is \u001b[0m \u001b[2m               \u001b[0m\n",
       "\u001b[2;36m           \u001b[0m\u001b[32mthe first-ever U.S.-born pope to lead the church and the first pope from the Augustinian\u001b[0m \u001b[2m               \u001b[0m\n",
       "\u001b[2;36m           \u001b[0m\u001b[32morder. On Thursday, the new pope appeared on the balcony of St. Peter's Basilica and \u001b[0m    \u001b[2m               \u001b[0m\n",
       "\u001b[2;36m           \u001b[0m\u001b[32mdelivered a short speech.\"\u001b[0m,                                                              \u001b[2m               \u001b[0m\n",
       "\u001b[2;36m           \u001b[0m            \u001b[32m'score'\u001b[0m: \u001b[1;36m0.6917478\u001b[0m,                                                          \u001b[2m               \u001b[0m\n",
       "\u001b[2;36m           \u001b[0m            \u001b[32m'raw_content'\u001b[0m: \u001b[3;35mNone\u001b[0m                                                          \u001b[2m               \u001b[0m\n",
       "\u001b[2;36m           \u001b[0m        \u001b[1m}\u001b[0m,                                                                               \u001b[2m               \u001b[0m\n",
       "\u001b[2;36m           \u001b[0m        \u001b[1m{\u001b[0m                                                                                \u001b[2m               \u001b[0m\n",
       "\u001b[2;36m           \u001b[0m            \u001b[32m'title'\u001b[0m: \u001b[32m'Leo XIV is the new Pope - Vatican News'\u001b[0m,                           \u001b[2m               \u001b[0m\n",
       "\u001b[2;36m           \u001b[0m            \u001b[32m'url'\u001b[0m:                                                                       \u001b[2m               \u001b[0m\n",
       "\u001b[2;36m           \u001b[0m\u001b[32m'https://www.vaticannews.va/en/pope/news/2025-05/cardinal-elected-pope-papal-name.html'\u001b[0m, \u001b[2m               \u001b[0m\n",
       "\u001b[2;36m           \u001b[0m            \u001b[32m'content'\u001b[0m: \u001b[32m'\"Peace be with all of you!\" - the first words of Pope Leo XIV. \u001b[0m  \u001b[2m               \u001b[0m\n",
       "\u001b[2;36m           \u001b[0m\u001b[32mThe Conclave has elected Robert Francis Cardinal Prevost as the 267th Bishop of Rome.'\u001b[0m,  \u001b[2m               \u001b[0m\n",
       "\u001b[2;36m           \u001b[0m            \u001b[32m'score'\u001b[0m: \u001b[1;36m0.6133529\u001b[0m,                                                          \u001b[2m               \u001b[0m\n",
       "\u001b[2;36m           \u001b[0m            \u001b[32m'raw_content'\u001b[0m: \u001b[3;35mNone\u001b[0m                                                          \u001b[2m               \u001b[0m\n",
       "\u001b[2;36m           \u001b[0m        \u001b[1m}\u001b[0m,                                                                               \u001b[2m               \u001b[0m\n",
       "\u001b[2;36m           \u001b[0m        \u001b[1m{\u001b[0m                                                                                \u001b[2m               \u001b[0m\n",
       "\u001b[2;36m           \u001b[0m            \u001b[32m'title'\u001b[0m: \u001b[32m'Who is Pope Leo XIV, and how was he chosen? | Temple Now'\u001b[0m,         \u001b[2m               \u001b[0m\n",
       "\u001b[2;36m           \u001b[0m            \u001b[32m'url'\u001b[0m:                                                                       \u001b[2m               \u001b[0m\n",
       "\u001b[2;36m           \u001b[0m\u001b[32m'https://news.temple.edu/news/2025-05-14/who-pope-leo-xiv-and-how-was-he-chosen'\u001b[0m,        \u001b[2m               \u001b[0m\n",
       "\u001b[2;36m           \u001b[0m            \u001b[32m'content'\u001b[0m: \u001b[32m'Pope Leo XIV is the first pope from the United States, and he \u001b[0m   \u001b[2m               \u001b[0m\n",
       "\u001b[2;36m           \u001b[0m\u001b[32mjoins his predecessor, Pope Francis, as only the second pope from the Americas. Because \u001b[0m \u001b[2m               \u001b[0m\n",
       "\u001b[2;36m           \u001b[0m\u001b[32mof that distinction, and thanks to the 2024 hit film Conclave, there is great interest \u001b[0m  \u001b[2m               \u001b[0m\n",
       "\u001b[2;36m           \u001b[0m\u001b[32msurrounding Pope Leo XIV and the time-honored tradition for electing a new pope.'\u001b[0m,       \u001b[2m               \u001b[0m\n",
       "\u001b[2;36m           \u001b[0m            \u001b[32m'score'\u001b[0m: \u001b[1;36m0.5792344\u001b[0m,                                                          \u001b[2m               \u001b[0m\n",
       "\u001b[2;36m           \u001b[0m            \u001b[32m'raw_content'\u001b[0m: \u001b[3;35mNone\u001b[0m                                                          \u001b[2m               \u001b[0m\n",
       "\u001b[2;36m           \u001b[0m        \u001b[1m}\u001b[0m,                                                                               \u001b[2m               \u001b[0m\n",
       "\u001b[2;36m           \u001b[0m        \u001b[1m{\u001b[0m                                                                                \u001b[2m               \u001b[0m\n",
       "\u001b[2;36m           \u001b[0m            \u001b[32m'title'\u001b[0m: \u001b[32m'What to know about Pope Leo XIV and his background : NPR'\u001b[0m,         \u001b[2m               \u001b[0m\n",
       "\u001b[2;36m           \u001b[0m            \u001b[32m'url'\u001b[0m:                                                                       \u001b[2m               \u001b[0m\n",
       "\u001b[2;36m           \u001b[0m\u001b[32m'https://www.npr.org/2025/05/08/g-s1-65147/new-pope-leo-xiv-robert-prevost-views'\u001b[0m,       \u001b[2m               \u001b[0m\n",
       "\u001b[2;36m           \u001b[0m            \u001b[32m'content'\u001b[0m: \u001b[32m'Pope Leo XIV was born and raised in Chicago. He is of French, \u001b[0m   \u001b[2m               \u001b[0m\n",
       "\u001b[2;36m           \u001b[0m\u001b[32mItalian and Spanish descent. He spent years working as a missionary in Peru.'\u001b[0m,           \u001b[2m               \u001b[0m\n",
       "\u001b[2;36m           \u001b[0m            \u001b[32m'score'\u001b[0m: \u001b[1;36m0.32158834\u001b[0m,                                                         \u001b[2m               \u001b[0m\n",
       "\u001b[2;36m           \u001b[0m            \u001b[32m'raw_content'\u001b[0m: \u001b[3;35mNone\u001b[0m                                                          \u001b[2m               \u001b[0m\n",
       "\u001b[2;36m           \u001b[0m        \u001b[1m}\u001b[0m                                                                                \u001b[2m               \u001b[0m\n",
       "\u001b[2;36m           \u001b[0m    \u001b[1m]\u001b[0m,                                                                                   \u001b[2m               \u001b[0m\n",
       "\u001b[2;36m           \u001b[0m    \u001b[32m'response_time'\u001b[0m: \u001b[1;36m2.23\u001b[0m                                                                \u001b[2m               \u001b[0m\n",
       "\u001b[2;36m           \u001b[0m\u001b[1m}\u001b[0m                                                                                        \u001b[2m               \u001b[0m\n"
      ]
     },
     "metadata": {},
     "output_type": "display_data"
    }
   ],
   "source": [
    "response = simple_tavily_search(\"Who is the current Pope?\")\n",
    "console.log(response)"
   ]
  },
  {
   "cell_type": "code",
   "execution_count": 20,
   "id": "deba7b7a",
   "metadata": {},
   "outputs": [
    {
     "data": {
      "text/plain": [
       "{'title': 'Who is the new pope? Everything to know about Pope Leo XIV',\n",
       " 'url': 'https://www.nbcmiami.com/news/national-international/new-pope-who-is-robert-francis-prevost/3610225/',\n",
       " 'content': \"The new leader of the Catholic Church is American Robert Francis Prevost, Cardinal Dominique Mamberti announced to a crowd in St. Peter's Square.\",\n",
       " 'score': 0.7036111,\n",
       " 'raw_content': None}"
      ]
     },
     "execution_count": 20,
     "metadata": {},
     "output_type": "execute_result"
    }
   ],
   "source": [
    "response[\"results\"][0]"
   ]
  },
  {
   "cell_type": "code",
   "execution_count": 21,
   "id": "82498b23",
   "metadata": {},
   "outputs": [
    {
     "name": "stdout",
     "output_type": "stream",
     "text": [
      "Using mode: <Mode.TOOLS: 'tool_call'>\n",
      "Using Ollama\n",
      "Using mode: <Mode.TOOLS: 'tool_call'>\n",
      "Using Remote\n"
     ]
    }
   ],
   "source": [
    "local_aclient: AsyncInstructor = get_client(is_remote=False, mode=\"tool_mode\")\n",
    "remote_aclient: AsyncInstructor = get_client(is_remote=True, mode=\"tool_mode\")"
   ]
  },
  {
   "cell_type": "markdown",
   "id": "feea99e7",
   "metadata": {},
   "source": [
    "<hr>\n",
    "\n",
    "## Defining Functions Following OpenAI API Spec\n",
    "\n",
    "\n",
    "```json\n",
    "{\n",
    "    \"type\":\"function\",\n",
    "    \"function\":{\n",
    "        \"name\":\"function_name_without_spaces\",\n",
    "        \"description\":\"Description of the function\",\n",
    "        \"parameters\":{\n",
    "            \"type\":\"object\",\n",
    "            \"properties\":{\n",
    "                \"param_1\":{\n",
    "                    \"type\":\"data_type\", // string, number, array, object, null, etc\n",
    "                    \"description\":\"The description of the parameter\"\n",
    "                },\n",
    "                \"param_2\":{\n",
    "                    \"type\":\"data_type\",\n",
    "                    \"description\":\"The description of the parameter\"\n",
    "                }\n",
    "            },\n",
    "            \"required\":[\n",
    "                \"param_1\",\n",
    "                \"param_2\"\n",
    "            ], // list all the required parameters\n",
    "            \"additionalProperties\":false // true or false\n",
    "        },\n",
    "        \"strict\":true\n",
    "    }\n",
    "}\n",
    "```\n",
    "\n",
    "\n"
   ]
  },
  {
   "cell_type": "code",
   "execution_count": 22,
   "id": "64744028",
   "metadata": {},
   "outputs": [],
   "source": [
    "from utilities.utilities import tool as custom_tool"
   ]
  },
  {
   "cell_type": "code",
   "execution_count": 23,
   "id": "d42f6c10",
   "metadata": {},
   "outputs": [
    {
     "data": {
      "text/html": [
       "<pre style=\"white-space:pre;overflow-x:auto;line-height:normal;font-family:Menlo,'DejaVu Sans Mono',consolas,'Courier New',monospace\"><span style=\"color: #7fbfbf; text-decoration-color: #7fbfbf\">[13:47:31] </span><span style=\"color: #008080; text-decoration-color: #008080; font-weight: bold\">3</span>                                                                                       <a href=\"file:///var/folders/ny/dl75sc_x2tb54lsymt5bh5p00000gn/T/ipykernel_39609/2021136580.py\" target=\"_blank\"><span style=\"color: #7f7f7f; text-decoration-color: #7f7f7f\">2021136580.py</span></a><span style=\"color: #7f7f7f; text-decoration-color: #7f7f7f\">:</span><a href=\"file:///var/folders/ny/dl75sc_x2tb54lsymt5bh5p00000gn/T/ipykernel_39609/2021136580.py#18\" target=\"_blank\"><span style=\"color: #7f7f7f; text-decoration-color: #7f7f7f\">18</span></a>\n",
       "</pre>\n"
      ],
      "text/plain": [
       "\u001b[2;36m[13:47:31]\u001b[0m\u001b[2;36m \u001b[0m\u001b[1;36m3\u001b[0m                                                                                       \u001b]8;id=765458;file:///var/folders/ny/dl75sc_x2tb54lsymt5bh5p00000gn/T/ipykernel_39609/2021136580.py\u001b\\\u001b[2m2021136580.py\u001b[0m\u001b]8;;\u001b\\\u001b[2m:\u001b[0m\u001b]8;id=954726;file:///var/folders/ny/dl75sc_x2tb54lsymt5bh5p00000gn/T/ipykernel_39609/2021136580.py#18\u001b\\\u001b[2m18\u001b[0m\u001b]8;;\u001b\\\n"
      ]
     },
     "metadata": {},
     "output_type": "display_data"
    },
    {
     "data": {
      "text/html": [
       "<pre style=\"white-space:pre;overflow-x:auto;line-height:normal;font-family:Menlo,'DejaVu Sans Mono',consolas,'Courier New',monospace\"><span style=\"color: #7fbfbf; text-decoration-color: #7fbfbf\">           </span><span style=\"color: #800080; text-decoration-color: #800080; font-weight: bold\">Tool</span><span style=\"font-weight: bold\">(</span>                                                                                   <a href=\"file:///var/folders/ny/dl75sc_x2tb54lsymt5bh5p00000gn/T/ipykernel_39609/2021136580.py\" target=\"_blank\"><span style=\"color: #7f7f7f; text-decoration-color: #7f7f7f\">2021136580.py</span></a><span style=\"color: #7f7f7f; text-decoration-color: #7f7f7f\">:</span><a href=\"file:///var/folders/ny/dl75sc_x2tb54lsymt5bh5p00000gn/T/ipykernel_39609/2021136580.py#19\" target=\"_blank\"><span style=\"color: #7f7f7f; text-decoration-color: #7f7f7f\">19</span></a>\n",
       "<span style=\"color: #7fbfbf; text-decoration-color: #7fbfbf\">           </span>    <span style=\"color: #808000; text-decoration-color: #808000\">name</span>=<span style=\"color: #008000; text-decoration-color: #008000\">'simple_adder'</span>,                                                                <span style=\"color: #7f7f7f; text-decoration-color: #7f7f7f\">                </span>\n",
       "<span style=\"color: #7fbfbf; text-decoration-color: #7fbfbf\">           </span>    <span style=\"color: #808000; text-decoration-color: #808000\">description</span>=<span style=\"color: #008000; text-decoration-color: #008000\">'This is used to add two numbers.\\n\\n    Parameters:\\n    a : float\\n  </span> <span style=\"color: #7f7f7f; text-decoration-color: #7f7f7f\">                </span>\n",
       "<span style=\"color: #7fbfbf; text-decoration-color: #7fbfbf\">           </span><span style=\"color: #008000; text-decoration-color: #008000\">The first number to add.\\n    b : float\\n        The second number to add.\\n\\n    </span>      <span style=\"color: #7f7f7f; text-decoration-color: #7f7f7f\">                </span>\n",
       "<span style=\"color: #7fbfbf; text-decoration-color: #7fbfbf\">           </span><span style=\"color: #008000; text-decoration-color: #008000\">Returns:\\n    float\\n        The sum of the two numbers.\\n    '</span>,                        <span style=\"color: #7f7f7f; text-decoration-color: #7f7f7f\">                </span>\n",
       "<span style=\"color: #7fbfbf; text-decoration-color: #7fbfbf\">           </span>    <span style=\"color: #808000; text-decoration-color: #808000\">func</span>=<span style=\"font-weight: bold\">&lt;</span><span style=\"color: #ff00ff; text-decoration-color: #ff00ff; font-weight: bold\">function</span><span style=\"color: #000000; text-decoration-color: #000000\"> simple_adder at </span><span style=\"color: #008080; text-decoration-color: #008080; font-weight: bold\">0x11b41fc40</span><span style=\"font-weight: bold\">&gt;</span>,                                        <span style=\"color: #7f7f7f; text-decoration-color: #7f7f7f\">                </span>\n",
       "<span style=\"color: #7fbfbf; text-decoration-color: #7fbfbf\">           </span>    <span style=\"color: #808000; text-decoration-color: #808000\">arguments</span>=<span style=\"font-weight: bold\">[(</span><span style=\"color: #008000; text-decoration-color: #008000\">'a'</span>, <span style=\"color: #008000; text-decoration-color: #008000\">'float'</span><span style=\"font-weight: bold\">)</span>, <span style=\"font-weight: bold\">(</span><span style=\"color: #008000; text-decoration-color: #008000\">'b'</span>, <span style=\"color: #008000; text-decoration-color: #008000\">'float'</span><span style=\"font-weight: bold\">)]</span>,                                         <span style=\"color: #7f7f7f; text-decoration-color: #7f7f7f\">                </span>\n",
       "<span style=\"color: #7fbfbf; text-decoration-color: #7fbfbf\">           </span>    <span style=\"color: #808000; text-decoration-color: #808000\">outputs</span>=<span style=\"color: #008000; text-decoration-color: #008000\">'float'</span>                                                                     <span style=\"color: #7f7f7f; text-decoration-color: #7f7f7f\">                </span>\n",
       "<span style=\"color: #7fbfbf; text-decoration-color: #7fbfbf\">           </span><span style=\"font-weight: bold\">)</span>                                                                                       <span style=\"color: #7f7f7f; text-decoration-color: #7f7f7f\">                </span>\n",
       "</pre>\n"
      ],
      "text/plain": [
       "\u001b[2;36m          \u001b[0m\u001b[2;36m \u001b[0m\u001b[1;35mTool\u001b[0m\u001b[1m(\u001b[0m                                                                                   \u001b]8;id=61802;file:///var/folders/ny/dl75sc_x2tb54lsymt5bh5p00000gn/T/ipykernel_39609/2021136580.py\u001b\\\u001b[2m2021136580.py\u001b[0m\u001b]8;;\u001b\\\u001b[2m:\u001b[0m\u001b]8;id=37884;file:///var/folders/ny/dl75sc_x2tb54lsymt5bh5p00000gn/T/ipykernel_39609/2021136580.py#19\u001b\\\u001b[2m19\u001b[0m\u001b]8;;\u001b\\\n",
       "\u001b[2;36m           \u001b[0m    \u001b[33mname\u001b[0m=\u001b[32m'simple_adder'\u001b[0m,                                                                \u001b[2m                \u001b[0m\n",
       "\u001b[2;36m           \u001b[0m    \u001b[33mdescription\u001b[0m=\u001b[32m'This is used to add two numbers.\\n\\n    Parameters:\\n    a : float\\n  \u001b[0m \u001b[2m                \u001b[0m\n",
       "\u001b[2;36m           \u001b[0m\u001b[32mThe first number to add.\\n    b : float\\n        The second number to add.\\n\\n    \u001b[0m      \u001b[2m                \u001b[0m\n",
       "\u001b[2;36m           \u001b[0m\u001b[32mReturns:\\n    float\\n        The sum of the two numbers.\\n    '\u001b[0m,                        \u001b[2m                \u001b[0m\n",
       "\u001b[2;36m           \u001b[0m    \u001b[33mfunc\u001b[0m=\u001b[1m<\u001b[0m\u001b[1;95mfunction\u001b[0m\u001b[39m simple_adder at \u001b[0m\u001b[1;36m0x11b41fc40\u001b[0m\u001b[1m>\u001b[0m,                                        \u001b[2m                \u001b[0m\n",
       "\u001b[2;36m           \u001b[0m    \u001b[33marguments\u001b[0m=\u001b[1m[\u001b[0m\u001b[1m(\u001b[0m\u001b[32m'a'\u001b[0m, \u001b[32m'float'\u001b[0m\u001b[1m)\u001b[0m, \u001b[1m(\u001b[0m\u001b[32m'b'\u001b[0m, \u001b[32m'float'\u001b[0m\u001b[1m)\u001b[0m\u001b[1m]\u001b[0m,                                         \u001b[2m                \u001b[0m\n",
       "\u001b[2;36m           \u001b[0m    \u001b[33moutputs\u001b[0m=\u001b[32m'float'\u001b[0m                                                                     \u001b[2m                \u001b[0m\n",
       "\u001b[2;36m           \u001b[0m\u001b[1m)\u001b[0m                                                                                       \u001b[2m                \u001b[0m\n"
      ]
     },
     "metadata": {},
     "output_type": "display_data"
    }
   ],
   "source": [
    "@custom_tool\n",
    "def simple_adder(a: float, b: float) -> float:\n",
    "    \"\"\"This is used to add two numbers.\n",
    "\n",
    "    Parameters:\n",
    "    a : float\n",
    "        The first number to add.\n",
    "    b : float\n",
    "        The second number to add.\n",
    "\n",
    "    Returns:\n",
    "    float\n",
    "        The sum of the two numbers.\n",
    "    \"\"\"\n",
    "    return a + b\n",
    "\n",
    "\n",
    "console.log(simple_adder(1, 2))\n",
    "console.log(simple_adder)"
   ]
  },
  {
   "cell_type": "code",
   "execution_count": 24,
   "id": "6cdbacca",
   "metadata": {},
   "outputs": [
    {
     "data": {
      "text/html": [
       "<pre style=\"white-space:pre;overflow-x:auto;line-height:normal;font-family:Menlo,'DejaVu Sans Mono',consolas,'Courier New',monospace\"><span style=\"color: #7fbfbf; text-decoration-color: #7fbfbf\">[13:47:34] </span><span style=\"font-weight: bold\">{</span>                                                                                        <a href=\"file:///var/folders/ny/dl75sc_x2tb54lsymt5bh5p00000gn/T/ipykernel_39609/997355935.py\" target=\"_blank\"><span style=\"color: #7f7f7f; text-decoration-color: #7f7f7f\">997355935.py</span></a><span style=\"color: #7f7f7f; text-decoration-color: #7f7f7f\">:</span><a href=\"file:///var/folders/ny/dl75sc_x2tb54lsymt5bh5p00000gn/T/ipykernel_39609/997355935.py#22\" target=\"_blank\"><span style=\"color: #7f7f7f; text-decoration-color: #7f7f7f\">22</span></a>\n",
       "<span style=\"color: #7fbfbf; text-decoration-color: #7fbfbf\">           </span>    <span style=\"color: #008000; text-decoration-color: #008000\">'type'</span>: <span style=\"color: #008000; text-decoration-color: #008000\">'function'</span>,                                                                  <span style=\"color: #7f7f7f; text-decoration-color: #7f7f7f\">               </span>\n",
       "<span style=\"color: #7fbfbf; text-decoration-color: #7fbfbf\">           </span>    <span style=\"color: #008000; text-decoration-color: #008000\">'function'</span>: <span style=\"font-weight: bold\">{</span>                                                                        <span style=\"color: #7f7f7f; text-decoration-color: #7f7f7f\">               </span>\n",
       "<span style=\"color: #7fbfbf; text-decoration-color: #7fbfbf\">           </span>        <span style=\"color: #008000; text-decoration-color: #008000\">'name'</span>: <span style=\"color: #008000; text-decoration-color: #008000\">'simple_adder'</span>,                                                          <span style=\"color: #7f7f7f; text-decoration-color: #7f7f7f\">               </span>\n",
       "<span style=\"color: #7fbfbf; text-decoration-color: #7fbfbf\">           </span>        <span style=\"color: #008000; text-decoration-color: #008000\">'description'</span>: <span style=\"color: #008000; text-decoration-color: #008000\">'This is used to add two numbers.\\n\\n    Parameters:\\n    a : </span>    <span style=\"color: #7f7f7f; text-decoration-color: #7f7f7f\">               </span>\n",
       "<span style=\"color: #7fbfbf; text-decoration-color: #7fbfbf\">           </span><span style=\"color: #008000; text-decoration-color: #008000\">float\\n        The first number to add.\\n    b : float\\n        The second number to </span>    <span style=\"color: #7f7f7f; text-decoration-color: #7f7f7f\">               </span>\n",
       "<span style=\"color: #7fbfbf; text-decoration-color: #7fbfbf\">           </span><span style=\"color: #008000; text-decoration-color: #008000\">add.\\n\\n    Returns:\\n    float\\n        The sum of the two numbers.\\n    '</span>,             <span style=\"color: #7f7f7f; text-decoration-color: #7f7f7f\">               </span>\n",
       "<span style=\"color: #7fbfbf; text-decoration-color: #7fbfbf\">           </span>        <span style=\"color: #008000; text-decoration-color: #008000\">'parameters'</span>: <span style=\"font-weight: bold\">{</span>                                                                  <span style=\"color: #7f7f7f; text-decoration-color: #7f7f7f\">               </span>\n",
       "<span style=\"color: #7fbfbf; text-decoration-color: #7fbfbf\">           </span>            <span style=\"color: #008000; text-decoration-color: #008000\">'type'</span>: <span style=\"color: #008000; text-decoration-color: #008000\">'object'</span>,                                                            <span style=\"color: #7f7f7f; text-decoration-color: #7f7f7f\">               </span>\n",
       "<span style=\"color: #7fbfbf; text-decoration-color: #7fbfbf\">           </span>            <span style=\"color: #008000; text-decoration-color: #008000\">'properties'</span>: <span style=\"font-weight: bold\">{</span>                                                              <span style=\"color: #7f7f7f; text-decoration-color: #7f7f7f\">               </span>\n",
       "<span style=\"color: #7fbfbf; text-decoration-color: #7fbfbf\">           </span>                <span style=\"color: #008000; text-decoration-color: #008000\">'a'</span>: <span style=\"font-weight: bold\">{</span><span style=\"color: #008000; text-decoration-color: #008000\">'type'</span>: <span style=\"color: #008000; text-decoration-color: #008000\">'number'</span>, <span style=\"color: #008000; text-decoration-color: #008000\">'description'</span>: <span style=\"color: #008000; text-decoration-color: #008000\">'The first number to add'</span><span style=\"font-weight: bold\">}</span>,       <span style=\"color: #7f7f7f; text-decoration-color: #7f7f7f\">               </span>\n",
       "<span style=\"color: #7fbfbf; text-decoration-color: #7fbfbf\">           </span>                <span style=\"color: #008000; text-decoration-color: #008000\">'b'</span>: <span style=\"font-weight: bold\">{</span><span style=\"color: #008000; text-decoration-color: #008000\">'type'</span>: <span style=\"color: #008000; text-decoration-color: #008000\">'number'</span>, <span style=\"color: #008000; text-decoration-color: #008000\">'description'</span>: <span style=\"color: #008000; text-decoration-color: #008000\">'The second number to add'</span><span style=\"font-weight: bold\">}</span>       <span style=\"color: #7f7f7f; text-decoration-color: #7f7f7f\">               </span>\n",
       "<span style=\"color: #7fbfbf; text-decoration-color: #7fbfbf\">           </span>            <span style=\"font-weight: bold\">}</span>,                                                                           <span style=\"color: #7f7f7f; text-decoration-color: #7f7f7f\">               </span>\n",
       "<span style=\"color: #7fbfbf; text-decoration-color: #7fbfbf\">           </span>            <span style=\"color: #008000; text-decoration-color: #008000\">'required'</span>: <span style=\"font-weight: bold\">[</span><span style=\"color: #008000; text-decoration-color: #008000\">'a'</span>, <span style=\"color: #008000; text-decoration-color: #008000\">'b'</span><span style=\"font-weight: bold\">]</span>,                                                      <span style=\"color: #7f7f7f; text-decoration-color: #7f7f7f\">               </span>\n",
       "<span style=\"color: #7fbfbf; text-decoration-color: #7fbfbf\">           </span>            <span style=\"color: #008000; text-decoration-color: #008000\">'additionalProperties'</span>: <span style=\"color: #ff0000; text-decoration-color: #ff0000; font-style: italic\">False</span>                                                <span style=\"color: #7f7f7f; text-decoration-color: #7f7f7f\">               </span>\n",
       "<span style=\"color: #7fbfbf; text-decoration-color: #7fbfbf\">           </span>        <span style=\"font-weight: bold\">}</span>,                                                                               <span style=\"color: #7f7f7f; text-decoration-color: #7f7f7f\">               </span>\n",
       "<span style=\"color: #7fbfbf; text-decoration-color: #7fbfbf\">           </span>        <span style=\"color: #008000; text-decoration-color: #008000\">'strict'</span>: <span style=\"color: #00ff00; text-decoration-color: #00ff00; font-style: italic\">True</span>                                                                   <span style=\"color: #7f7f7f; text-decoration-color: #7f7f7f\">               </span>\n",
       "<span style=\"color: #7fbfbf; text-decoration-color: #7fbfbf\">           </span>    <span style=\"font-weight: bold\">}</span>                                                                                    <span style=\"color: #7f7f7f; text-decoration-color: #7f7f7f\">               </span>\n",
       "<span style=\"color: #7fbfbf; text-decoration-color: #7fbfbf\">           </span><span style=\"font-weight: bold\">}</span>                                                                                        <span style=\"color: #7f7f7f; text-decoration-color: #7f7f7f\">               </span>\n",
       "</pre>\n"
      ],
      "text/plain": [
       "\u001b[2;36m[13:47:34]\u001b[0m\u001b[2;36m \u001b[0m\u001b[1m{\u001b[0m                                                                                        \u001b]8;id=637067;file:///var/folders/ny/dl75sc_x2tb54lsymt5bh5p00000gn/T/ipykernel_39609/997355935.py\u001b\\\u001b[2m997355935.py\u001b[0m\u001b]8;;\u001b\\\u001b[2m:\u001b[0m\u001b]8;id=660780;file:///var/folders/ny/dl75sc_x2tb54lsymt5bh5p00000gn/T/ipykernel_39609/997355935.py#22\u001b\\\u001b[2m22\u001b[0m\u001b]8;;\u001b\\\n",
       "\u001b[2;36m           \u001b[0m    \u001b[32m'type'\u001b[0m: \u001b[32m'function'\u001b[0m,                                                                  \u001b[2m               \u001b[0m\n",
       "\u001b[2;36m           \u001b[0m    \u001b[32m'function'\u001b[0m: \u001b[1m{\u001b[0m                                                                        \u001b[2m               \u001b[0m\n",
       "\u001b[2;36m           \u001b[0m        \u001b[32m'name'\u001b[0m: \u001b[32m'simple_adder'\u001b[0m,                                                          \u001b[2m               \u001b[0m\n",
       "\u001b[2;36m           \u001b[0m        \u001b[32m'description'\u001b[0m: \u001b[32m'This is used to add two numbers.\\n\\n    Parameters:\\n    a : \u001b[0m    \u001b[2m               \u001b[0m\n",
       "\u001b[2;36m           \u001b[0m\u001b[32mfloat\\n        The first number to add.\\n    b : float\\n        The second number to \u001b[0m    \u001b[2m               \u001b[0m\n",
       "\u001b[2;36m           \u001b[0m\u001b[32madd.\\n\\n    Returns:\\n    float\\n        The sum of the two numbers.\\n    '\u001b[0m,             \u001b[2m               \u001b[0m\n",
       "\u001b[2;36m           \u001b[0m        \u001b[32m'parameters'\u001b[0m: \u001b[1m{\u001b[0m                                                                  \u001b[2m               \u001b[0m\n",
       "\u001b[2;36m           \u001b[0m            \u001b[32m'type'\u001b[0m: \u001b[32m'object'\u001b[0m,                                                            \u001b[2m               \u001b[0m\n",
       "\u001b[2;36m           \u001b[0m            \u001b[32m'properties'\u001b[0m: \u001b[1m{\u001b[0m                                                              \u001b[2m               \u001b[0m\n",
       "\u001b[2;36m           \u001b[0m                \u001b[32m'a'\u001b[0m: \u001b[1m{\u001b[0m\u001b[32m'type'\u001b[0m: \u001b[32m'number'\u001b[0m, \u001b[32m'description'\u001b[0m: \u001b[32m'The first number to add'\u001b[0m\u001b[1m}\u001b[0m,       \u001b[2m               \u001b[0m\n",
       "\u001b[2;36m           \u001b[0m                \u001b[32m'b'\u001b[0m: \u001b[1m{\u001b[0m\u001b[32m'type'\u001b[0m: \u001b[32m'number'\u001b[0m, \u001b[32m'description'\u001b[0m: \u001b[32m'The second number to add'\u001b[0m\u001b[1m}\u001b[0m       \u001b[2m               \u001b[0m\n",
       "\u001b[2;36m           \u001b[0m            \u001b[1m}\u001b[0m,                                                                           \u001b[2m               \u001b[0m\n",
       "\u001b[2;36m           \u001b[0m            \u001b[32m'required'\u001b[0m: \u001b[1m[\u001b[0m\u001b[32m'a'\u001b[0m, \u001b[32m'b'\u001b[0m\u001b[1m]\u001b[0m,                                                      \u001b[2m               \u001b[0m\n",
       "\u001b[2;36m           \u001b[0m            \u001b[32m'additionalProperties'\u001b[0m: \u001b[3;91mFalse\u001b[0m                                                \u001b[2m               \u001b[0m\n",
       "\u001b[2;36m           \u001b[0m        \u001b[1m}\u001b[0m,                                                                               \u001b[2m               \u001b[0m\n",
       "\u001b[2;36m           \u001b[0m        \u001b[32m'strict'\u001b[0m: \u001b[3;92mTrue\u001b[0m                                                                   \u001b[2m               \u001b[0m\n",
       "\u001b[2;36m           \u001b[0m    \u001b[1m}\u001b[0m                                                                                    \u001b[2m               \u001b[0m\n",
       "\u001b[2;36m           \u001b[0m\u001b[1m}\u001b[0m                                                                                        \u001b[2m               \u001b[0m\n"
      ]
     },
     "metadata": {},
     "output_type": "display_data"
    }
   ],
   "source": [
    "adder_tool: dict[str, Any] = {\n",
    "    \"type\": \"function\",\n",
    "    \"function\": {\n",
    "        \"name\": simple_adder.name,\n",
    "        \"description\": simple_adder.description,\n",
    "        \"parameters\": {\n",
    "            \"type\": \"object\",\n",
    "            \"properties\": {\n",
    "                \"a\": {\n",
    "                    \"type\": \"number\",  # string, number, array, object, null, etc\n",
    "                    \"description\": \"The first number to add\",\n",
    "                },\n",
    "                \"b\": {\"type\": \"number\", \"description\": \"The second number to add\"},\n",
    "            },\n",
    "            \"required\": [\"a\", \"b\"],  # list all the required parameters\n",
    "            \"additionalProperties\": False,  # true or false\n",
    "        },\n",
    "        \"strict\": True,\n",
    "    },\n",
    "}\n",
    "\n",
    "console.log(adder_tool)"
   ]
  },
  {
   "cell_type": "code",
   "execution_count": 25,
   "id": "44aeb120",
   "metadata": {},
   "outputs": [],
   "source": [
    "from openai import AsyncOpenAI\n",
    "from pydantic import BaseModel, Field\n",
    "\n",
    "openrouter_aclient = AsyncOpenAI(\n",
    "    api_key=settings.OPENROUTER_API_KEY.get_secret_value(),\n",
    "    base_url=settings.OPENROUTER_URL,\n",
    ")\n",
    "ollama_aclient = AsyncOpenAI(\n",
    "    api_key=settings.OLLAMA_API_KEY.get_secret_value(),\n",
    "    base_url=settings.OLLAMA_URL,\n",
    ")"
   ]
  },
  {
   "cell_type": "markdown",
   "id": "565ea767",
   "metadata": {},
   "source": [
    "### Step 1\n",
    "\n",
    "-  define the function using the OpenAI Function spec\n",
    "-  send the query with the tools to the LLM\n"
   ]
  },
  {
   "cell_type": "code",
   "execution_count": 26,
   "id": "5398f159",
   "metadata": {},
   "outputs": [
    {
     "data": {
      "text/html": [
       "<pre style=\"white-space:pre;overflow-x:auto;line-height:normal;font-family:Menlo,'DejaVu Sans Mono',consolas,'Courier New',monospace\"><span style=\"color: #7fbfbf; text-decoration-color: #7fbfbf\">[13:48:11] </span><span style=\"color: #800080; text-decoration-color: #800080; font-weight: bold\">ChatCompletion</span><span style=\"font-weight: bold\">(</span>                                                                         <a href=\"file:///var/folders/ny/dl75sc_x2tb54lsymt5bh5p00000gn/T/ipykernel_39609/2408939933.py\" target=\"_blank\"><span style=\"color: #7f7f7f; text-decoration-color: #7f7f7f\">2408939933.py</span></a><span style=\"color: #7f7f7f; text-decoration-color: #7f7f7f\">:</span><a href=\"file:///var/folders/ny/dl75sc_x2tb54lsymt5bh5p00000gn/T/ipykernel_39609/2408939933.py#22\" target=\"_blank\"><span style=\"color: #7f7f7f; text-decoration-color: #7f7f7f\">22</span></a>\n",
       "<span style=\"color: #7fbfbf; text-decoration-color: #7fbfbf\">           </span>    <span style=\"color: #808000; text-decoration-color: #808000\">id</span>=<span style=\"color: #008000; text-decoration-color: #008000\">'chatcmpl-689'</span>,                                                                  <span style=\"color: #7f7f7f; text-decoration-color: #7f7f7f\">                </span>\n",
       "<span style=\"color: #7fbfbf; text-decoration-color: #7fbfbf\">           </span>    <span style=\"color: #808000; text-decoration-color: #808000\">choices</span>=<span style=\"font-weight: bold\">[</span>                                                                           <span style=\"color: #7f7f7f; text-decoration-color: #7f7f7f\">                </span>\n",
       "<span style=\"color: #7fbfbf; text-decoration-color: #7fbfbf\">           </span>        <span style=\"color: #800080; text-decoration-color: #800080; font-weight: bold\">Choice</span><span style=\"font-weight: bold\">(</span>                                                                         <span style=\"color: #7f7f7f; text-decoration-color: #7f7f7f\">                </span>\n",
       "<span style=\"color: #7fbfbf; text-decoration-color: #7fbfbf\">           </span>            <span style=\"color: #808000; text-decoration-color: #808000\">finish_reason</span>=<span style=\"color: #008000; text-decoration-color: #008000\">'tool_calls'</span>,                                                 <span style=\"color: #7f7f7f; text-decoration-color: #7f7f7f\">                </span>\n",
       "<span style=\"color: #7fbfbf; text-decoration-color: #7fbfbf\">           </span>            <span style=\"color: #808000; text-decoration-color: #808000\">index</span>=<span style=\"color: #008080; text-decoration-color: #008080; font-weight: bold\">0</span>,                                                                    <span style=\"color: #7f7f7f; text-decoration-color: #7f7f7f\">                </span>\n",
       "<span style=\"color: #7fbfbf; text-decoration-color: #7fbfbf\">           </span>            <span style=\"color: #808000; text-decoration-color: #808000\">logprobs</span>=<span style=\"color: #800080; text-decoration-color: #800080; font-style: italic\">None</span>,                                                              <span style=\"color: #7f7f7f; text-decoration-color: #7f7f7f\">                </span>\n",
       "<span style=\"color: #7fbfbf; text-decoration-color: #7fbfbf\">           </span>            <span style=\"color: #808000; text-decoration-color: #808000\">message</span>=<span style=\"color: #800080; text-decoration-color: #800080; font-weight: bold\">ChatCompletionMessage</span><span style=\"font-weight: bold\">(</span>                                              <span style=\"color: #7f7f7f; text-decoration-color: #7f7f7f\">                </span>\n",
       "<span style=\"color: #7fbfbf; text-decoration-color: #7fbfbf\">           </span>                <span style=\"color: #808000; text-decoration-color: #808000\">content</span>=<span style=\"color: #008000; text-decoration-color: #008000\">''</span>,                                                             <span style=\"color: #7f7f7f; text-decoration-color: #7f7f7f\">                </span>\n",
       "<span style=\"color: #7fbfbf; text-decoration-color: #7fbfbf\">           </span>                <span style=\"color: #808000; text-decoration-color: #808000\">refusal</span>=<span style=\"color: #800080; text-decoration-color: #800080; font-style: italic\">None</span>,                                                           <span style=\"color: #7f7f7f; text-decoration-color: #7f7f7f\">                </span>\n",
       "<span style=\"color: #7fbfbf; text-decoration-color: #7fbfbf\">           </span>                <span style=\"color: #808000; text-decoration-color: #808000\">role</span>=<span style=\"color: #008000; text-decoration-color: #008000\">'assistant'</span>,                                                       <span style=\"color: #7f7f7f; text-decoration-color: #7f7f7f\">                </span>\n",
       "<span style=\"color: #7fbfbf; text-decoration-color: #7fbfbf\">           </span>                <span style=\"color: #808000; text-decoration-color: #808000\">annotations</span>=<span style=\"color: #800080; text-decoration-color: #800080; font-style: italic\">None</span>,                                                       <span style=\"color: #7f7f7f; text-decoration-color: #7f7f7f\">                </span>\n",
       "<span style=\"color: #7fbfbf; text-decoration-color: #7fbfbf\">           </span>                <span style=\"color: #808000; text-decoration-color: #808000\">audio</span>=<span style=\"color: #800080; text-decoration-color: #800080; font-style: italic\">None</span>,                                                             <span style=\"color: #7f7f7f; text-decoration-color: #7f7f7f\">                </span>\n",
       "<span style=\"color: #7fbfbf; text-decoration-color: #7fbfbf\">           </span>                <span style=\"color: #808000; text-decoration-color: #808000\">function_call</span>=<span style=\"color: #800080; text-decoration-color: #800080; font-style: italic\">None</span>,                                                     <span style=\"color: #7f7f7f; text-decoration-color: #7f7f7f\">                </span>\n",
       "<span style=\"color: #7fbfbf; text-decoration-color: #7fbfbf\">           </span>                <span style=\"color: #808000; text-decoration-color: #808000\">tool_calls</span>=<span style=\"font-weight: bold\">[</span>                                                            <span style=\"color: #7f7f7f; text-decoration-color: #7f7f7f\">                </span>\n",
       "<span style=\"color: #7fbfbf; text-decoration-color: #7fbfbf\">           </span>                    <span style=\"color: #800080; text-decoration-color: #800080; font-weight: bold\">ChatCompletionMessageToolCall</span><span style=\"font-weight: bold\">(</span>                                      <span style=\"color: #7f7f7f; text-decoration-color: #7f7f7f\">                </span>\n",
       "<span style=\"color: #7fbfbf; text-decoration-color: #7fbfbf\">           </span>                        <span style=\"color: #808000; text-decoration-color: #808000\">id</span>=<span style=\"color: #008000; text-decoration-color: #008000\">'call_9wrzhz7h'</span>,                                             <span style=\"color: #7f7f7f; text-decoration-color: #7f7f7f\">                </span>\n",
       "<span style=\"color: #7fbfbf; text-decoration-color: #7fbfbf\">           </span>                        <span style=\"color: #808000; text-decoration-color: #808000\">function</span>=<span style=\"color: #800080; text-decoration-color: #800080; font-weight: bold\">Function</span><span style=\"font-weight: bold\">(</span>                                              <span style=\"color: #7f7f7f; text-decoration-color: #7f7f7f\">                </span>\n",
       "<span style=\"color: #7fbfbf; text-decoration-color: #7fbfbf\">           </span>                            <span style=\"color: #808000; text-decoration-color: #808000\">arguments</span>=<span style=\"color: #008000; text-decoration-color: #008000\">'{\"a\":3.5,\"b\":0.05}'</span>,                             <span style=\"color: #7f7f7f; text-decoration-color: #7f7f7f\">                </span>\n",
       "<span style=\"color: #7fbfbf; text-decoration-color: #7fbfbf\">           </span>                            <span style=\"color: #808000; text-decoration-color: #808000\">name</span>=<span style=\"color: #008000; text-decoration-color: #008000\">'simple_adder'</span>                                         <span style=\"color: #7f7f7f; text-decoration-color: #7f7f7f\">                </span>\n",
       "<span style=\"color: #7fbfbf; text-decoration-color: #7fbfbf\">           </span>                        <span style=\"font-weight: bold\">)</span>,                                                              <span style=\"color: #7f7f7f; text-decoration-color: #7f7f7f\">                </span>\n",
       "<span style=\"color: #7fbfbf; text-decoration-color: #7fbfbf\">           </span>                        <span style=\"color: #808000; text-decoration-color: #808000\">type</span>=<span style=\"color: #008000; text-decoration-color: #008000\">'function'</span>,                                                <span style=\"color: #7f7f7f; text-decoration-color: #7f7f7f\">                </span>\n",
       "<span style=\"color: #7fbfbf; text-decoration-color: #7fbfbf\">           </span>                        <span style=\"color: #808000; text-decoration-color: #808000\">index</span>=<span style=\"color: #008080; text-decoration-color: #008080; font-weight: bold\">0</span>                                                         <span style=\"color: #7f7f7f; text-decoration-color: #7f7f7f\">                </span>\n",
       "<span style=\"color: #7fbfbf; text-decoration-color: #7fbfbf\">           </span>                    <span style=\"font-weight: bold\">)</span>                                                                   <span style=\"color: #7f7f7f; text-decoration-color: #7f7f7f\">                </span>\n",
       "<span style=\"color: #7fbfbf; text-decoration-color: #7fbfbf\">           </span>                <span style=\"font-weight: bold\">]</span>                                                                       <span style=\"color: #7f7f7f; text-decoration-color: #7f7f7f\">                </span>\n",
       "<span style=\"color: #7fbfbf; text-decoration-color: #7fbfbf\">           </span>            <span style=\"font-weight: bold\">)</span>                                                                           <span style=\"color: #7f7f7f; text-decoration-color: #7f7f7f\">                </span>\n",
       "<span style=\"color: #7fbfbf; text-decoration-color: #7fbfbf\">           </span>        <span style=\"font-weight: bold\">)</span>                                                                               <span style=\"color: #7f7f7f; text-decoration-color: #7f7f7f\">                </span>\n",
       "<span style=\"color: #7fbfbf; text-decoration-color: #7fbfbf\">           </span>    <span style=\"font-weight: bold\">]</span>,                                                                                  <span style=\"color: #7f7f7f; text-decoration-color: #7f7f7f\">                </span>\n",
       "<span style=\"color: #7fbfbf; text-decoration-color: #7fbfbf\">           </span>    <span style=\"color: #808000; text-decoration-color: #808000\">created</span>=<span style=\"color: #008080; text-decoration-color: #008080; font-weight: bold\">1747486091</span>,                                                                 <span style=\"color: #7f7f7f; text-decoration-color: #7f7f7f\">                </span>\n",
       "<span style=\"color: #7fbfbf; text-decoration-color: #7fbfbf\">           </span>    <span style=\"color: #808000; text-decoration-color: #808000\">model</span>=<span style=\"color: #008000; text-decoration-color: #008000\">'qwen3:4b-q4_K_M'</span>,                                                            <span style=\"color: #7f7f7f; text-decoration-color: #7f7f7f\">                </span>\n",
       "<span style=\"color: #7fbfbf; text-decoration-color: #7fbfbf\">           </span>    <span style=\"color: #808000; text-decoration-color: #808000\">object</span>=<span style=\"color: #008000; text-decoration-color: #008000\">'chat.completion'</span>,                                                           <span style=\"color: #7f7f7f; text-decoration-color: #7f7f7f\">                </span>\n",
       "<span style=\"color: #7fbfbf; text-decoration-color: #7fbfbf\">           </span>    <span style=\"color: #808000; text-decoration-color: #808000\">service_tier</span>=<span style=\"color: #800080; text-decoration-color: #800080; font-style: italic\">None</span>,                                                                  <span style=\"color: #7f7f7f; text-decoration-color: #7f7f7f\">                </span>\n",
       "<span style=\"color: #7fbfbf; text-decoration-color: #7fbfbf\">           </span>    <span style=\"color: #808000; text-decoration-color: #808000\">system_fingerprint</span>=<span style=\"color: #008000; text-decoration-color: #008000\">'fp_ollama'</span>,                                                     <span style=\"color: #7f7f7f; text-decoration-color: #7f7f7f\">                </span>\n",
       "<span style=\"color: #7fbfbf; text-decoration-color: #7fbfbf\">           </span>    <span style=\"color: #808000; text-decoration-color: #808000\">usage</span>=<span style=\"color: #800080; text-decoration-color: #800080; font-weight: bold\">CompletionUsage</span><span style=\"font-weight: bold\">(</span>                                                              <span style=\"color: #7f7f7f; text-decoration-color: #7f7f7f\">                </span>\n",
       "<span style=\"color: #7fbfbf; text-decoration-color: #7fbfbf\">           </span>        <span style=\"color: #808000; text-decoration-color: #808000\">completion_tokens</span>=<span style=\"color: #008080; text-decoration-color: #008080; font-weight: bold\">161</span>,                                                          <span style=\"color: #7f7f7f; text-decoration-color: #7f7f7f\">                </span>\n",
       "<span style=\"color: #7fbfbf; text-decoration-color: #7fbfbf\">           </span>        <span style=\"color: #808000; text-decoration-color: #808000\">prompt_tokens</span>=<span style=\"color: #008080; text-decoration-color: #008080; font-weight: bold\">304</span>,                                                              <span style=\"color: #7f7f7f; text-decoration-color: #7f7f7f\">                </span>\n",
       "<span style=\"color: #7fbfbf; text-decoration-color: #7fbfbf\">           </span>        <span style=\"color: #808000; text-decoration-color: #808000\">total_tokens</span>=<span style=\"color: #008080; text-decoration-color: #008080; font-weight: bold\">465</span>,                                                               <span style=\"color: #7f7f7f; text-decoration-color: #7f7f7f\">                </span>\n",
       "<span style=\"color: #7fbfbf; text-decoration-color: #7fbfbf\">           </span>        <span style=\"color: #808000; text-decoration-color: #808000\">completion_tokens_details</span>=<span style=\"color: #800080; text-decoration-color: #800080; font-style: italic\">None</span>,                                                 <span style=\"color: #7f7f7f; text-decoration-color: #7f7f7f\">                </span>\n",
       "<span style=\"color: #7fbfbf; text-decoration-color: #7fbfbf\">           </span>        <span style=\"color: #808000; text-decoration-color: #808000\">prompt_tokens_details</span>=<span style=\"color: #800080; text-decoration-color: #800080; font-style: italic\">None</span>                                                      <span style=\"color: #7f7f7f; text-decoration-color: #7f7f7f\">                </span>\n",
       "<span style=\"color: #7fbfbf; text-decoration-color: #7fbfbf\">           </span>    <span style=\"font-weight: bold\">)</span>                                                                                   <span style=\"color: #7f7f7f; text-decoration-color: #7f7f7f\">                </span>\n",
       "<span style=\"color: #7fbfbf; text-decoration-color: #7fbfbf\">           </span><span style=\"font-weight: bold\">)</span>                                                                                       <span style=\"color: #7f7f7f; text-decoration-color: #7f7f7f\">                </span>\n",
       "</pre>\n"
      ],
      "text/plain": [
       "\u001b[2;36m[13:48:11]\u001b[0m\u001b[2;36m \u001b[0m\u001b[1;35mChatCompletion\u001b[0m\u001b[1m(\u001b[0m                                                                         \u001b]8;id=378879;file:///var/folders/ny/dl75sc_x2tb54lsymt5bh5p00000gn/T/ipykernel_39609/2408939933.py\u001b\\\u001b[2m2408939933.py\u001b[0m\u001b]8;;\u001b\\\u001b[2m:\u001b[0m\u001b]8;id=771312;file:///var/folders/ny/dl75sc_x2tb54lsymt5bh5p00000gn/T/ipykernel_39609/2408939933.py#22\u001b\\\u001b[2m22\u001b[0m\u001b]8;;\u001b\\\n",
       "\u001b[2;36m           \u001b[0m    \u001b[33mid\u001b[0m=\u001b[32m'chatcmpl-689'\u001b[0m,                                                                  \u001b[2m                \u001b[0m\n",
       "\u001b[2;36m           \u001b[0m    \u001b[33mchoices\u001b[0m=\u001b[1m[\u001b[0m                                                                           \u001b[2m                \u001b[0m\n",
       "\u001b[2;36m           \u001b[0m        \u001b[1;35mChoice\u001b[0m\u001b[1m(\u001b[0m                                                                         \u001b[2m                \u001b[0m\n",
       "\u001b[2;36m           \u001b[0m            \u001b[33mfinish_reason\u001b[0m=\u001b[32m'tool_calls'\u001b[0m,                                                 \u001b[2m                \u001b[0m\n",
       "\u001b[2;36m           \u001b[0m            \u001b[33mindex\u001b[0m=\u001b[1;36m0\u001b[0m,                                                                    \u001b[2m                \u001b[0m\n",
       "\u001b[2;36m           \u001b[0m            \u001b[33mlogprobs\u001b[0m=\u001b[3;35mNone\u001b[0m,                                                              \u001b[2m                \u001b[0m\n",
       "\u001b[2;36m           \u001b[0m            \u001b[33mmessage\u001b[0m=\u001b[1;35mChatCompletionMessage\u001b[0m\u001b[1m(\u001b[0m                                              \u001b[2m                \u001b[0m\n",
       "\u001b[2;36m           \u001b[0m                \u001b[33mcontent\u001b[0m=\u001b[32m''\u001b[0m,                                                             \u001b[2m                \u001b[0m\n",
       "\u001b[2;36m           \u001b[0m                \u001b[33mrefusal\u001b[0m=\u001b[3;35mNone\u001b[0m,                                                           \u001b[2m                \u001b[0m\n",
       "\u001b[2;36m           \u001b[0m                \u001b[33mrole\u001b[0m=\u001b[32m'assistant'\u001b[0m,                                                       \u001b[2m                \u001b[0m\n",
       "\u001b[2;36m           \u001b[0m                \u001b[33mannotations\u001b[0m=\u001b[3;35mNone\u001b[0m,                                                       \u001b[2m                \u001b[0m\n",
       "\u001b[2;36m           \u001b[0m                \u001b[33maudio\u001b[0m=\u001b[3;35mNone\u001b[0m,                                                             \u001b[2m                \u001b[0m\n",
       "\u001b[2;36m           \u001b[0m                \u001b[33mfunction_call\u001b[0m=\u001b[3;35mNone\u001b[0m,                                                     \u001b[2m                \u001b[0m\n",
       "\u001b[2;36m           \u001b[0m                \u001b[33mtool_calls\u001b[0m=\u001b[1m[\u001b[0m                                                            \u001b[2m                \u001b[0m\n",
       "\u001b[2;36m           \u001b[0m                    \u001b[1;35mChatCompletionMessageToolCall\u001b[0m\u001b[1m(\u001b[0m                                      \u001b[2m                \u001b[0m\n",
       "\u001b[2;36m           \u001b[0m                        \u001b[33mid\u001b[0m=\u001b[32m'call_9wrzhz7h'\u001b[0m,                                             \u001b[2m                \u001b[0m\n",
       "\u001b[2;36m           \u001b[0m                        \u001b[33mfunction\u001b[0m=\u001b[1;35mFunction\u001b[0m\u001b[1m(\u001b[0m                                              \u001b[2m                \u001b[0m\n",
       "\u001b[2;36m           \u001b[0m                            \u001b[33marguments\u001b[0m=\u001b[32m'\u001b[0m\u001b[32m{\u001b[0m\u001b[32m\"a\":3.5,\"b\":0.05\u001b[0m\u001b[32m}\u001b[0m\u001b[32m'\u001b[0m,                             \u001b[2m                \u001b[0m\n",
       "\u001b[2;36m           \u001b[0m                            \u001b[33mname\u001b[0m=\u001b[32m'simple_adder'\u001b[0m                                         \u001b[2m                \u001b[0m\n",
       "\u001b[2;36m           \u001b[0m                        \u001b[1m)\u001b[0m,                                                              \u001b[2m                \u001b[0m\n",
       "\u001b[2;36m           \u001b[0m                        \u001b[33mtype\u001b[0m=\u001b[32m'function'\u001b[0m,                                                \u001b[2m                \u001b[0m\n",
       "\u001b[2;36m           \u001b[0m                        \u001b[33mindex\u001b[0m=\u001b[1;36m0\u001b[0m                                                         \u001b[2m                \u001b[0m\n",
       "\u001b[2;36m           \u001b[0m                    \u001b[1m)\u001b[0m                                                                   \u001b[2m                \u001b[0m\n",
       "\u001b[2;36m           \u001b[0m                \u001b[1m]\u001b[0m                                                                       \u001b[2m                \u001b[0m\n",
       "\u001b[2;36m           \u001b[0m            \u001b[1m)\u001b[0m                                                                           \u001b[2m                \u001b[0m\n",
       "\u001b[2;36m           \u001b[0m        \u001b[1m)\u001b[0m                                                                               \u001b[2m                \u001b[0m\n",
       "\u001b[2;36m           \u001b[0m    \u001b[1m]\u001b[0m,                                                                                  \u001b[2m                \u001b[0m\n",
       "\u001b[2;36m           \u001b[0m    \u001b[33mcreated\u001b[0m=\u001b[1;36m1747486091\u001b[0m,                                                                 \u001b[2m                \u001b[0m\n",
       "\u001b[2;36m           \u001b[0m    \u001b[33mmodel\u001b[0m=\u001b[32m'qwen3:4b-q4_K_M'\u001b[0m,                                                            \u001b[2m                \u001b[0m\n",
       "\u001b[2;36m           \u001b[0m    \u001b[33mobject\u001b[0m=\u001b[32m'chat.completion'\u001b[0m,                                                           \u001b[2m                \u001b[0m\n",
       "\u001b[2;36m           \u001b[0m    \u001b[33mservice_tier\u001b[0m=\u001b[3;35mNone\u001b[0m,                                                                  \u001b[2m                \u001b[0m\n",
       "\u001b[2;36m           \u001b[0m    \u001b[33msystem_fingerprint\u001b[0m=\u001b[32m'fp_ollama'\u001b[0m,                                                     \u001b[2m                \u001b[0m\n",
       "\u001b[2;36m           \u001b[0m    \u001b[33musage\u001b[0m=\u001b[1;35mCompletionUsage\u001b[0m\u001b[1m(\u001b[0m                                                              \u001b[2m                \u001b[0m\n",
       "\u001b[2;36m           \u001b[0m        \u001b[33mcompletion_tokens\u001b[0m=\u001b[1;36m161\u001b[0m,                                                          \u001b[2m                \u001b[0m\n",
       "\u001b[2;36m           \u001b[0m        \u001b[33mprompt_tokens\u001b[0m=\u001b[1;36m304\u001b[0m,                                                              \u001b[2m                \u001b[0m\n",
       "\u001b[2;36m           \u001b[0m        \u001b[33mtotal_tokens\u001b[0m=\u001b[1;36m465\u001b[0m,                                                               \u001b[2m                \u001b[0m\n",
       "\u001b[2;36m           \u001b[0m        \u001b[33mcompletion_tokens_details\u001b[0m=\u001b[3;35mNone\u001b[0m,                                                 \u001b[2m                \u001b[0m\n",
       "\u001b[2;36m           \u001b[0m        \u001b[33mprompt_tokens_details\u001b[0m=\u001b[3;35mNone\u001b[0m                                                      \u001b[2m                \u001b[0m\n",
       "\u001b[2;36m           \u001b[0m    \u001b[1m)\u001b[0m                                                                                   \u001b[2m                \u001b[0m\n",
       "\u001b[2;36m           \u001b[0m\u001b[1m)\u001b[0m                                                                                       \u001b[2m                \u001b[0m\n"
      ]
     },
     "metadata": {},
     "output_type": "display_data"
    }
   ],
   "source": [
    "messages: list[dict[str, Any]] = [\n",
    "    {\n",
    "        \"role\": \"assistant\",\n",
    "        \"content\": \"<assistant>You're a helpful assistant that has access to the following tools:\"\n",
    "        \"<tools>simple_adder</tools>. You respond to the user's queries by using the tools \"\n",
    "        \"when necessary. Remember that the tools are meant to be used when the user asks for \"\n",
    "        \"information that you can't provide an answer to without using a tool.</assistant>\",\n",
    "    },\n",
    "    {\n",
    "        \"role\": \"user\",\n",
    "        \"content\": \"<query>What is the sum of three and half, and 0.05?</query>\",\n",
    "    },\n",
    "]\n",
    "\n",
    "response = await ollama_aclient.chat.completions.create(\n",
    "    messages=messages,\n",
    "    model=ModelEnum.QWEN_3p0_4B_LOCAL.value,\n",
    "    temperature=0.0,\n",
    "    seed=0,\n",
    "    tools=[adder_tool],\n",
    ")\n",
    "console.log(response)"
   ]
  },
  {
   "cell_type": "markdown",
   "id": "95aaeebf",
   "metadata": {},
   "source": [
    "### Step 2\n",
    "\n",
    "- the model decides to call the function(s)\n",
    "- the model returns the name and the input arguments used."
   ]
  },
  {
   "cell_type": "code",
   "execution_count": 27,
   "id": "80f6af9f",
   "metadata": {},
   "outputs": [
    {
     "data": {
      "text/html": [
       "<pre style=\"white-space:pre;overflow-x:auto;line-height:normal;font-family:Menlo,'DejaVu Sans Mono',consolas,'Courier New',monospace\"><span style=\"color: #7fbfbf; text-decoration-color: #7fbfbf\">           </span><span style=\"font-weight: bold\">[</span>                                                                                         <a href=\"file:///var/folders/ny/dl75sc_x2tb54lsymt5bh5p00000gn/T/ipykernel_39609/326695825.py\" target=\"_blank\"><span style=\"color: #7f7f7f; text-decoration-color: #7f7f7f\">326695825.py</span></a><span style=\"color: #7f7f7f; text-decoration-color: #7f7f7f\">:</span><a href=\"file:///var/folders/ny/dl75sc_x2tb54lsymt5bh5p00000gn/T/ipykernel_39609/326695825.py#2\" target=\"_blank\"><span style=\"color: #7f7f7f; text-decoration-color: #7f7f7f\">2</span></a>\n",
       "<span style=\"color: #7fbfbf; text-decoration-color: #7fbfbf\">           </span>    <span style=\"color: #800080; text-decoration-color: #800080; font-weight: bold\">ChatCompletionMessageToolCall</span><span style=\"font-weight: bold\">(</span>                                                        <span style=\"color: #7f7f7f; text-decoration-color: #7f7f7f\">              </span>\n",
       "<span style=\"color: #7fbfbf; text-decoration-color: #7fbfbf\">           </span>        <span style=\"color: #808000; text-decoration-color: #808000\">id</span>=<span style=\"color: #008000; text-decoration-color: #008000\">'call_9wrzhz7h'</span>,                                                               <span style=\"color: #7f7f7f; text-decoration-color: #7f7f7f\">              </span>\n",
       "<span style=\"color: #7fbfbf; text-decoration-color: #7fbfbf\">           </span>        <span style=\"color: #808000; text-decoration-color: #808000\">function</span>=<span style=\"color: #800080; text-decoration-color: #800080; font-weight: bold\">Function</span><span style=\"font-weight: bold\">(</span><span style=\"color: #808000; text-decoration-color: #808000\">arguments</span>=<span style=\"color: #008000; text-decoration-color: #008000\">'{\"a\":3.5,\"b\":0.05}'</span>, <span style=\"color: #808000; text-decoration-color: #808000\">name</span>=<span style=\"color: #008000; text-decoration-color: #008000\">'simple_adder'</span><span style=\"font-weight: bold\">)</span>,           <span style=\"color: #7f7f7f; text-decoration-color: #7f7f7f\">              </span>\n",
       "<span style=\"color: #7fbfbf; text-decoration-color: #7fbfbf\">           </span>        <span style=\"color: #808000; text-decoration-color: #808000\">type</span>=<span style=\"color: #008000; text-decoration-color: #008000\">'function'</span>,                                                                  <span style=\"color: #7f7f7f; text-decoration-color: #7f7f7f\">              </span>\n",
       "<span style=\"color: #7fbfbf; text-decoration-color: #7fbfbf\">           </span>        <span style=\"color: #808000; text-decoration-color: #808000\">index</span>=<span style=\"color: #008080; text-decoration-color: #008080; font-weight: bold\">0</span>                                                                           <span style=\"color: #7f7f7f; text-decoration-color: #7f7f7f\">              </span>\n",
       "<span style=\"color: #7fbfbf; text-decoration-color: #7fbfbf\">           </span>    <span style=\"font-weight: bold\">)</span>                                                                                     <span style=\"color: #7f7f7f; text-decoration-color: #7f7f7f\">              </span>\n",
       "<span style=\"color: #7fbfbf; text-decoration-color: #7fbfbf\">           </span><span style=\"font-weight: bold\">]</span>                                                                                         <span style=\"color: #7f7f7f; text-decoration-color: #7f7f7f\">              </span>\n",
       "</pre>\n"
      ],
      "text/plain": [
       "\u001b[2;36m          \u001b[0m\u001b[2;36m \u001b[0m\u001b[1m[\u001b[0m                                                                                         \u001b]8;id=492454;file:///var/folders/ny/dl75sc_x2tb54lsymt5bh5p00000gn/T/ipykernel_39609/326695825.py\u001b\\\u001b[2m326695825.py\u001b[0m\u001b]8;;\u001b\\\u001b[2m:\u001b[0m\u001b]8;id=736585;file:///var/folders/ny/dl75sc_x2tb54lsymt5bh5p00000gn/T/ipykernel_39609/326695825.py#2\u001b\\\u001b[2m2\u001b[0m\u001b]8;;\u001b\\\n",
       "\u001b[2;36m           \u001b[0m    \u001b[1;35mChatCompletionMessageToolCall\u001b[0m\u001b[1m(\u001b[0m                                                        \u001b[2m              \u001b[0m\n",
       "\u001b[2;36m           \u001b[0m        \u001b[33mid\u001b[0m=\u001b[32m'call_9wrzhz7h'\u001b[0m,                                                               \u001b[2m              \u001b[0m\n",
       "\u001b[2;36m           \u001b[0m        \u001b[33mfunction\u001b[0m=\u001b[1;35mFunction\u001b[0m\u001b[1m(\u001b[0m\u001b[33marguments\u001b[0m=\u001b[32m'\u001b[0m\u001b[32m{\u001b[0m\u001b[32m\"a\":3.5,\"b\":0.05\u001b[0m\u001b[32m}\u001b[0m\u001b[32m'\u001b[0m, \u001b[33mname\u001b[0m=\u001b[32m'simple_adder'\u001b[0m\u001b[1m)\u001b[0m,           \u001b[2m              \u001b[0m\n",
       "\u001b[2;36m           \u001b[0m        \u001b[33mtype\u001b[0m=\u001b[32m'function'\u001b[0m,                                                                  \u001b[2m              \u001b[0m\n",
       "\u001b[2;36m           \u001b[0m        \u001b[33mindex\u001b[0m=\u001b[1;36m0\u001b[0m                                                                           \u001b[2m              \u001b[0m\n",
       "\u001b[2;36m           \u001b[0m    \u001b[1m)\u001b[0m                                                                                     \u001b[2m              \u001b[0m\n",
       "\u001b[2;36m           \u001b[0m\u001b[1m]\u001b[0m                                                                                         \u001b[2m              \u001b[0m\n"
      ]
     },
     "metadata": {},
     "output_type": "display_data"
    }
   ],
   "source": [
    "# Verify that the function was called\n",
    "console.log(response.choices[0].message.tool_calls)"
   ]
  },
  {
   "cell_type": "markdown",
   "id": "13334fa0",
   "metadata": {},
   "source": [
    "### Step 3\n",
    "\n",
    "- Execute the function code by passing the input arguments"
   ]
  },
  {
   "cell_type": "code",
   "execution_count": 28,
   "metadata": {},
   "outputs": [
    {
     "data": {
      "text/plain": [
       "3.55"
      ]
     },
     "execution_count": 28,
     "metadata": {},
     "output_type": "execute_result"
    }
   ],
   "source": [
    "tool_call = response.choices[0].message.tool_calls[0]\n",
    "args = json.loads(tool_call.function.arguments)\n",
    "result = simple_adder(a=args[\"a\"], b=args[\"b\"])\n",
    "result"
   ]
  },
  {
   "cell_type": "markdown",
   "id": "b92b1ca4",
   "metadata": {},
   "source": [
    "### Step 4\n",
    "\n",
    "- supply the model with the result of the tool call (step 3) and all the previous messages\n",
    "- the model returns the final response to the user"
   ]
  },
  {
   "cell_type": "code",
   "execution_count": 29,
   "id": "6b316e09",
   "metadata": {},
   "outputs": [
    {
     "data": {
      "text/html": [
       "<pre style=\"white-space:pre;overflow-x:auto;line-height:normal;font-family:Menlo,'DejaVu Sans Mono',consolas,'Courier New',monospace\"><span style=\"color: #7fbfbf; text-decoration-color: #7fbfbf\">[13:48:25] </span><span style=\"color: #800080; text-decoration-color: #800080; font-weight: bold\">ChatCompletionMessageToolCall</span><span style=\"font-weight: bold\">(</span>                                                            <a href=\"file:///var/folders/ny/dl75sc_x2tb54lsymt5bh5p00000gn/T/ipykernel_39609/535254525.py\" target=\"_blank\"><span style=\"color: #7f7f7f; text-decoration-color: #7f7f7f\">535254525.py</span></a><span style=\"color: #7f7f7f; text-decoration-color: #7f7f7f\">:</span><a href=\"file:///var/folders/ny/dl75sc_x2tb54lsymt5bh5p00000gn/T/ipykernel_39609/535254525.py#1\" target=\"_blank\"><span style=\"color: #7f7f7f; text-decoration-color: #7f7f7f\">1</span></a>\n",
       "<span style=\"color: #7fbfbf; text-decoration-color: #7fbfbf\">           </span>    <span style=\"color: #808000; text-decoration-color: #808000\">id</span>=<span style=\"color: #008000; text-decoration-color: #008000\">'call_9wrzhz7h'</span>,                                                                   <span style=\"color: #7f7f7f; text-decoration-color: #7f7f7f\">              </span>\n",
       "<span style=\"color: #7fbfbf; text-decoration-color: #7fbfbf\">           </span>    <span style=\"color: #808000; text-decoration-color: #808000\">function</span>=<span style=\"color: #800080; text-decoration-color: #800080; font-weight: bold\">Function</span><span style=\"font-weight: bold\">(</span><span style=\"color: #808000; text-decoration-color: #808000\">arguments</span>=<span style=\"color: #008000; text-decoration-color: #008000\">'{\"a\":3.5,\"b\":0.05}'</span>, <span style=\"color: #808000; text-decoration-color: #808000\">name</span>=<span style=\"color: #008000; text-decoration-color: #008000\">'simple_adder'</span><span style=\"font-weight: bold\">)</span>,               <span style=\"color: #7f7f7f; text-decoration-color: #7f7f7f\">              </span>\n",
       "<span style=\"color: #7fbfbf; text-decoration-color: #7fbfbf\">           </span>    <span style=\"color: #808000; text-decoration-color: #808000\">type</span>=<span style=\"color: #008000; text-decoration-color: #008000\">'function'</span>,                                                                      <span style=\"color: #7f7f7f; text-decoration-color: #7f7f7f\">              </span>\n",
       "<span style=\"color: #7fbfbf; text-decoration-color: #7fbfbf\">           </span>    <span style=\"color: #808000; text-decoration-color: #808000\">index</span>=<span style=\"color: #008080; text-decoration-color: #008080; font-weight: bold\">0</span>                                                                               <span style=\"color: #7f7f7f; text-decoration-color: #7f7f7f\">              </span>\n",
       "<span style=\"color: #7fbfbf; text-decoration-color: #7fbfbf\">           </span><span style=\"font-weight: bold\">)</span>                                                                                         <span style=\"color: #7f7f7f; text-decoration-color: #7f7f7f\">              </span>\n",
       "</pre>\n"
      ],
      "text/plain": [
       "\u001b[2;36m[13:48:25]\u001b[0m\u001b[2;36m \u001b[0m\u001b[1;35mChatCompletionMessageToolCall\u001b[0m\u001b[1m(\u001b[0m                                                            \u001b]8;id=555776;file:///var/folders/ny/dl75sc_x2tb54lsymt5bh5p00000gn/T/ipykernel_39609/535254525.py\u001b\\\u001b[2m535254525.py\u001b[0m\u001b]8;;\u001b\\\u001b[2m:\u001b[0m\u001b]8;id=39127;file:///var/folders/ny/dl75sc_x2tb54lsymt5bh5p00000gn/T/ipykernel_39609/535254525.py#1\u001b\\\u001b[2m1\u001b[0m\u001b]8;;\u001b\\\n",
       "\u001b[2;36m           \u001b[0m    \u001b[33mid\u001b[0m=\u001b[32m'call_9wrzhz7h'\u001b[0m,                                                                   \u001b[2m              \u001b[0m\n",
       "\u001b[2;36m           \u001b[0m    \u001b[33mfunction\u001b[0m=\u001b[1;35mFunction\u001b[0m\u001b[1m(\u001b[0m\u001b[33marguments\u001b[0m=\u001b[32m'\u001b[0m\u001b[32m{\u001b[0m\u001b[32m\"a\":3.5,\"b\":0.05\u001b[0m\u001b[32m}\u001b[0m\u001b[32m'\u001b[0m, \u001b[33mname\u001b[0m=\u001b[32m'simple_adder'\u001b[0m\u001b[1m)\u001b[0m,               \u001b[2m              \u001b[0m\n",
       "\u001b[2;36m           \u001b[0m    \u001b[33mtype\u001b[0m=\u001b[32m'function'\u001b[0m,                                                                      \u001b[2m              \u001b[0m\n",
       "\u001b[2;36m           \u001b[0m    \u001b[33mindex\u001b[0m=\u001b[1;36m0\u001b[0m                                                                               \u001b[2m              \u001b[0m\n",
       "\u001b[2;36m           \u001b[0m\u001b[1m)\u001b[0m                                                                                         \u001b[2m              \u001b[0m\n"
      ]
     },
     "metadata": {},
     "output_type": "display_data"
    }
   ],
   "source": [
    "console.log(tool_call)"
   ]
  },
  {
   "cell_type": "code",
   "execution_count": 30,
   "id": "90db2872",
   "metadata": {},
   "outputs": [
    {
     "data": {
      "text/html": [
       "<pre style=\"white-space:pre;overflow-x:auto;line-height:normal;font-family:Menlo,'DejaVu Sans Mono',consolas,'Courier New',monospace\"><span style=\"color: #7fbfbf; text-decoration-color: #7fbfbf\">[13:48:46] </span><span style=\"color: #800080; text-decoration-color: #800080; font-weight: bold\">ChatCompletion</span><span style=\"font-weight: bold\">(</span>                                                                         <a href=\"file:///var/folders/ny/dl75sc_x2tb54lsymt5bh5p00000gn/T/ipykernel_39609/1492392639.py\" target=\"_blank\"><span style=\"color: #7f7f7f; text-decoration-color: #7f7f7f\">1492392639.py</span></a><span style=\"color: #7f7f7f; text-decoration-color: #7f7f7f\">:</span><a href=\"file:///var/folders/ny/dl75sc_x2tb54lsymt5bh5p00000gn/T/ipykernel_39609/1492392639.py#21\" target=\"_blank\"><span style=\"color: #7f7f7f; text-decoration-color: #7f7f7f\">21</span></a>\n",
       "<span style=\"color: #7fbfbf; text-decoration-color: #7fbfbf\">           </span>    <span style=\"color: #808000; text-decoration-color: #808000\">id</span>=<span style=\"color: #008000; text-decoration-color: #008000\">'chatcmpl-684'</span>,                                                                  <span style=\"color: #7f7f7f; text-decoration-color: #7f7f7f\">                </span>\n",
       "<span style=\"color: #7fbfbf; text-decoration-color: #7fbfbf\">           </span>    <span style=\"color: #808000; text-decoration-color: #808000\">choices</span>=<span style=\"font-weight: bold\">[</span>                                                                           <span style=\"color: #7f7f7f; text-decoration-color: #7f7f7f\">                </span>\n",
       "<span style=\"color: #7fbfbf; text-decoration-color: #7fbfbf\">           </span>        <span style=\"color: #800080; text-decoration-color: #800080; font-weight: bold\">Choice</span><span style=\"font-weight: bold\">(</span>                                                                         <span style=\"color: #7f7f7f; text-decoration-color: #7f7f7f\">                </span>\n",
       "<span style=\"color: #7fbfbf; text-decoration-color: #7fbfbf\">           </span>            <span style=\"color: #808000; text-decoration-color: #808000\">finish_reason</span>=<span style=\"color: #008000; text-decoration-color: #008000\">'stop'</span>,                                                       <span style=\"color: #7f7f7f; text-decoration-color: #7f7f7f\">                </span>\n",
       "<span style=\"color: #7fbfbf; text-decoration-color: #7fbfbf\">           </span>            <span style=\"color: #808000; text-decoration-color: #808000\">index</span>=<span style=\"color: #008080; text-decoration-color: #008080; font-weight: bold\">0</span>,                                                                    <span style=\"color: #7f7f7f; text-decoration-color: #7f7f7f\">                </span>\n",
       "<span style=\"color: #7fbfbf; text-decoration-color: #7fbfbf\">           </span>            <span style=\"color: #808000; text-decoration-color: #808000\">logprobs</span>=<span style=\"color: #800080; text-decoration-color: #800080; font-style: italic\">None</span>,                                                              <span style=\"color: #7f7f7f; text-decoration-color: #7f7f7f\">                </span>\n",
       "<span style=\"color: #7fbfbf; text-decoration-color: #7fbfbf\">           </span>            <span style=\"color: #808000; text-decoration-color: #808000\">message</span>=<span style=\"color: #800080; text-decoration-color: #800080; font-weight: bold\">ChatCompletionMessage</span><span style=\"font-weight: bold\">(</span>                                              <span style=\"color: #7f7f7f; text-decoration-color: #7f7f7f\">                </span>\n",
       "<span style=\"color: #7fbfbf; text-decoration-color: #7fbfbf\">           </span>                <span style=\"color: #808000; text-decoration-color: #808000\">content</span>=<span style=\"color: #008000; text-decoration-color: #008000\">\"&lt;think&gt;\\nOkay, the user is asking for the sum of three and </span>    <span style=\"color: #7f7f7f; text-decoration-color: #7f7f7f\">                </span>\n",
       "<span style=\"color: #7fbfbf; text-decoration-color: #7fbfbf\">           </span><span style=\"color: #008000; text-decoration-color: #008000\">half (which is 3.5) and 0.05. Let me add those together. 3.5 plus 0.05 equals 3.55. I </span>  <span style=\"color: #7f7f7f; text-decoration-color: #7f7f7f\">                </span>\n",
       "<span style=\"color: #7fbfbf; text-decoration-color: #7fbfbf\">           </span><span style=\"color: #008000; text-decoration-color: #008000\">should use the simple_adder function to confirm. The function takes two numbers, so </span>    <span style=\"color: #7f7f7f; text-decoration-color: #7f7f7f\">                </span>\n",
       "<span style=\"color: #7fbfbf; text-decoration-color: #7fbfbf\">           </span><span style=\"color: #008000; text-decoration-color: #008000\">I'll input 3.5 and 0.05. The result should be 3.55. Let me make sure the parameters are</span> <span style=\"color: #7f7f7f; text-decoration-color: #7f7f7f\">                </span>\n",
       "<span style=\"color: #7fbfbf; text-decoration-color: #7fbfbf\">           </span><span style=\"color: #008000; text-decoration-color: #008000\">correct. Yep, both are floats. Alright, the tool call should return the right </span>          <span style=\"color: #7f7f7f; text-decoration-color: #7f7f7f\">                </span>\n",
       "<span style=\"color: #7fbfbf; text-decoration-color: #7fbfbf\">           </span><span style=\"color: #008000; text-decoration-color: #008000\">answer.\\n&lt;/think&gt;\\n\\nThe sum of three and half (3.5) and 0.05 is **3.55**.\"</span>,            <span style=\"color: #7f7f7f; text-decoration-color: #7f7f7f\">                </span>\n",
       "<span style=\"color: #7fbfbf; text-decoration-color: #7fbfbf\">           </span>                <span style=\"color: #808000; text-decoration-color: #808000\">refusal</span>=<span style=\"color: #800080; text-decoration-color: #800080; font-style: italic\">None</span>,                                                           <span style=\"color: #7f7f7f; text-decoration-color: #7f7f7f\">                </span>\n",
       "<span style=\"color: #7fbfbf; text-decoration-color: #7fbfbf\">           </span>                <span style=\"color: #808000; text-decoration-color: #808000\">role</span>=<span style=\"color: #008000; text-decoration-color: #008000\">'assistant'</span>,                                                       <span style=\"color: #7f7f7f; text-decoration-color: #7f7f7f\">                </span>\n",
       "<span style=\"color: #7fbfbf; text-decoration-color: #7fbfbf\">           </span>                <span style=\"color: #808000; text-decoration-color: #808000\">annotations</span>=<span style=\"color: #800080; text-decoration-color: #800080; font-style: italic\">None</span>,                                                       <span style=\"color: #7f7f7f; text-decoration-color: #7f7f7f\">                </span>\n",
       "<span style=\"color: #7fbfbf; text-decoration-color: #7fbfbf\">           </span>                <span style=\"color: #808000; text-decoration-color: #808000\">audio</span>=<span style=\"color: #800080; text-decoration-color: #800080; font-style: italic\">None</span>,                                                             <span style=\"color: #7f7f7f; text-decoration-color: #7f7f7f\">                </span>\n",
       "<span style=\"color: #7fbfbf; text-decoration-color: #7fbfbf\">           </span>                <span style=\"color: #808000; text-decoration-color: #808000\">function_call</span>=<span style=\"color: #800080; text-decoration-color: #800080; font-style: italic\">None</span>,                                                     <span style=\"color: #7f7f7f; text-decoration-color: #7f7f7f\">                </span>\n",
       "<span style=\"color: #7fbfbf; text-decoration-color: #7fbfbf\">           </span>                <span style=\"color: #808000; text-decoration-color: #808000\">tool_calls</span>=<span style=\"color: #800080; text-decoration-color: #800080; font-style: italic\">None</span>                                                         <span style=\"color: #7f7f7f; text-decoration-color: #7f7f7f\">                </span>\n",
       "<span style=\"color: #7fbfbf; text-decoration-color: #7fbfbf\">           </span>            <span style=\"font-weight: bold\">)</span>                                                                           <span style=\"color: #7f7f7f; text-decoration-color: #7f7f7f\">                </span>\n",
       "<span style=\"color: #7fbfbf; text-decoration-color: #7fbfbf\">           </span>        <span style=\"font-weight: bold\">)</span>                                                                               <span style=\"color: #7f7f7f; text-decoration-color: #7f7f7f\">                </span>\n",
       "<span style=\"color: #7fbfbf; text-decoration-color: #7fbfbf\">           </span>    <span style=\"font-weight: bold\">]</span>,                                                                                  <span style=\"color: #7f7f7f; text-decoration-color: #7f7f7f\">                </span>\n",
       "<span style=\"color: #7fbfbf; text-decoration-color: #7fbfbf\">           </span>    <span style=\"color: #808000; text-decoration-color: #808000\">created</span>=<span style=\"color: #008080; text-decoration-color: #008080; font-weight: bold\">1747486126</span>,                                                                 <span style=\"color: #7f7f7f; text-decoration-color: #7f7f7f\">                </span>\n",
       "<span style=\"color: #7fbfbf; text-decoration-color: #7fbfbf\">           </span>    <span style=\"color: #808000; text-decoration-color: #808000\">model</span>=<span style=\"color: #008000; text-decoration-color: #008000\">'qwen3:4b-q4_K_M'</span>,                                                            <span style=\"color: #7f7f7f; text-decoration-color: #7f7f7f\">                </span>\n",
       "<span style=\"color: #7fbfbf; text-decoration-color: #7fbfbf\">           </span>    <span style=\"color: #808000; text-decoration-color: #808000\">object</span>=<span style=\"color: #008000; text-decoration-color: #008000\">'chat.completion'</span>,                                                           <span style=\"color: #7f7f7f; text-decoration-color: #7f7f7f\">                </span>\n",
       "<span style=\"color: #7fbfbf; text-decoration-color: #7fbfbf\">           </span>    <span style=\"color: #808000; text-decoration-color: #808000\">service_tier</span>=<span style=\"color: #800080; text-decoration-color: #800080; font-style: italic\">None</span>,                                                                  <span style=\"color: #7f7f7f; text-decoration-color: #7f7f7f\">                </span>\n",
       "<span style=\"color: #7fbfbf; text-decoration-color: #7fbfbf\">           </span>    <span style=\"color: #808000; text-decoration-color: #808000\">system_fingerprint</span>=<span style=\"color: #008000; text-decoration-color: #008000\">'fp_ollama'</span>,                                                     <span style=\"color: #7f7f7f; text-decoration-color: #7f7f7f\">                </span>\n",
       "<span style=\"color: #7fbfbf; text-decoration-color: #7fbfbf\">           </span>    <span style=\"color: #808000; text-decoration-color: #808000\">usage</span>=<span style=\"color: #800080; text-decoration-color: #800080; font-weight: bold\">CompletionUsage</span><span style=\"font-weight: bold\">(</span>                                                              <span style=\"color: #7f7f7f; text-decoration-color: #7f7f7f\">                </span>\n",
       "<span style=\"color: #7fbfbf; text-decoration-color: #7fbfbf\">           </span>        <span style=\"color: #808000; text-decoration-color: #808000\">completion_tokens</span>=<span style=\"color: #008080; text-decoration-color: #008080; font-weight: bold\">149</span>,                                                          <span style=\"color: #7f7f7f; text-decoration-color: #7f7f7f\">                </span>\n",
       "<span style=\"color: #7fbfbf; text-decoration-color: #7fbfbf\">           </span>        <span style=\"color: #808000; text-decoration-color: #808000\">prompt_tokens</span>=<span style=\"color: #008080; text-decoration-color: #008080; font-weight: bold\">322</span>,                                                              <span style=\"color: #7f7f7f; text-decoration-color: #7f7f7f\">                </span>\n",
       "<span style=\"color: #7fbfbf; text-decoration-color: #7fbfbf\">           </span>        <span style=\"color: #808000; text-decoration-color: #808000\">total_tokens</span>=<span style=\"color: #008080; text-decoration-color: #008080; font-weight: bold\">471</span>,                                                               <span style=\"color: #7f7f7f; text-decoration-color: #7f7f7f\">                </span>\n",
       "<span style=\"color: #7fbfbf; text-decoration-color: #7fbfbf\">           </span>        <span style=\"color: #808000; text-decoration-color: #808000\">completion_tokens_details</span>=<span style=\"color: #800080; text-decoration-color: #800080; font-style: italic\">None</span>,                                                 <span style=\"color: #7f7f7f; text-decoration-color: #7f7f7f\">                </span>\n",
       "<span style=\"color: #7fbfbf; text-decoration-color: #7fbfbf\">           </span>        <span style=\"color: #808000; text-decoration-color: #808000\">prompt_tokens_details</span>=<span style=\"color: #800080; text-decoration-color: #800080; font-style: italic\">None</span>                                                      <span style=\"color: #7f7f7f; text-decoration-color: #7f7f7f\">                </span>\n",
       "<span style=\"color: #7fbfbf; text-decoration-color: #7fbfbf\">           </span>    <span style=\"font-weight: bold\">)</span>                                                                                   <span style=\"color: #7f7f7f; text-decoration-color: #7f7f7f\">                </span>\n",
       "<span style=\"color: #7fbfbf; text-decoration-color: #7fbfbf\">           </span><span style=\"font-weight: bold\">)</span>                                                                                       <span style=\"color: #7f7f7f; text-decoration-color: #7f7f7f\">                </span>\n",
       "</pre>\n"
      ],
      "text/plain": [
       "\u001b[2;36m[13:48:46]\u001b[0m\u001b[2;36m \u001b[0m\u001b[1;35mChatCompletion\u001b[0m\u001b[1m(\u001b[0m                                                                         \u001b]8;id=985710;file:///var/folders/ny/dl75sc_x2tb54lsymt5bh5p00000gn/T/ipykernel_39609/1492392639.py\u001b\\\u001b[2m1492392639.py\u001b[0m\u001b]8;;\u001b\\\u001b[2m:\u001b[0m\u001b]8;id=638976;file:///var/folders/ny/dl75sc_x2tb54lsymt5bh5p00000gn/T/ipykernel_39609/1492392639.py#21\u001b\\\u001b[2m21\u001b[0m\u001b]8;;\u001b\\\n",
       "\u001b[2;36m           \u001b[0m    \u001b[33mid\u001b[0m=\u001b[32m'chatcmpl-684'\u001b[0m,                                                                  \u001b[2m                \u001b[0m\n",
       "\u001b[2;36m           \u001b[0m    \u001b[33mchoices\u001b[0m=\u001b[1m[\u001b[0m                                                                           \u001b[2m                \u001b[0m\n",
       "\u001b[2;36m           \u001b[0m        \u001b[1;35mChoice\u001b[0m\u001b[1m(\u001b[0m                                                                         \u001b[2m                \u001b[0m\n",
       "\u001b[2;36m           \u001b[0m            \u001b[33mfinish_reason\u001b[0m=\u001b[32m'stop'\u001b[0m,                                                       \u001b[2m                \u001b[0m\n",
       "\u001b[2;36m           \u001b[0m            \u001b[33mindex\u001b[0m=\u001b[1;36m0\u001b[0m,                                                                    \u001b[2m                \u001b[0m\n",
       "\u001b[2;36m           \u001b[0m            \u001b[33mlogprobs\u001b[0m=\u001b[3;35mNone\u001b[0m,                                                              \u001b[2m                \u001b[0m\n",
       "\u001b[2;36m           \u001b[0m            \u001b[33mmessage\u001b[0m=\u001b[1;35mChatCompletionMessage\u001b[0m\u001b[1m(\u001b[0m                                              \u001b[2m                \u001b[0m\n",
       "\u001b[2;36m           \u001b[0m                \u001b[33mcontent\u001b[0m=\u001b[32m\"\u001b[0m\u001b[32m<\u001b[0m\u001b[32mthink\u001b[0m\u001b[32m>\\nOkay, the user is asking for the sum of three and \u001b[0m    \u001b[2m                \u001b[0m\n",
       "\u001b[2;36m           \u001b[0m\u001b[32mhalf \u001b[0m\u001b[32m(\u001b[0m\u001b[32mwhich is 3.5\u001b[0m\u001b[32m)\u001b[0m\u001b[32m and 0.05. Let me add those together. 3.5 plus 0.05 equals 3.55. I \u001b[0m  \u001b[2m                \u001b[0m\n",
       "\u001b[2;36m           \u001b[0m\u001b[32mshould use the simple_adder function to confirm. The function takes two numbers, so \u001b[0m    \u001b[2m                \u001b[0m\n",
       "\u001b[2;36m           \u001b[0m\u001b[32mI'll input 3.5 and 0.05. The result should be 3.55. Let me make sure the parameters are\u001b[0m \u001b[2m                \u001b[0m\n",
       "\u001b[2;36m           \u001b[0m\u001b[32mcorrect. Yep, both are floats. Alright, the tool call should return the right \u001b[0m          \u001b[2m                \u001b[0m\n",
       "\u001b[2;36m           \u001b[0m\u001b[32manswer.\\n</think\u001b[0m\u001b[32m>\u001b[0m\u001b[32m\\n\\nThe sum of three and half \u001b[0m\u001b[32m(\u001b[0m\u001b[32m3.5\u001b[0m\u001b[32m)\u001b[0m\u001b[32m and 0.05 is **3.55**.\"\u001b[0m,            \u001b[2m                \u001b[0m\n",
       "\u001b[2;36m           \u001b[0m                \u001b[33mrefusal\u001b[0m=\u001b[3;35mNone\u001b[0m,                                                           \u001b[2m                \u001b[0m\n",
       "\u001b[2;36m           \u001b[0m                \u001b[33mrole\u001b[0m=\u001b[32m'assistant'\u001b[0m,                                                       \u001b[2m                \u001b[0m\n",
       "\u001b[2;36m           \u001b[0m                \u001b[33mannotations\u001b[0m=\u001b[3;35mNone\u001b[0m,                                                       \u001b[2m                \u001b[0m\n",
       "\u001b[2;36m           \u001b[0m                \u001b[33maudio\u001b[0m=\u001b[3;35mNone\u001b[0m,                                                             \u001b[2m                \u001b[0m\n",
       "\u001b[2;36m           \u001b[0m                \u001b[33mfunction_call\u001b[0m=\u001b[3;35mNone\u001b[0m,                                                     \u001b[2m                \u001b[0m\n",
       "\u001b[2;36m           \u001b[0m                \u001b[33mtool_calls\u001b[0m=\u001b[3;35mNone\u001b[0m                                                         \u001b[2m                \u001b[0m\n",
       "\u001b[2;36m           \u001b[0m            \u001b[1m)\u001b[0m                                                                           \u001b[2m                \u001b[0m\n",
       "\u001b[2;36m           \u001b[0m        \u001b[1m)\u001b[0m                                                                               \u001b[2m                \u001b[0m\n",
       "\u001b[2;36m           \u001b[0m    \u001b[1m]\u001b[0m,                                                                                  \u001b[2m                \u001b[0m\n",
       "\u001b[2;36m           \u001b[0m    \u001b[33mcreated\u001b[0m=\u001b[1;36m1747486126\u001b[0m,                                                                 \u001b[2m                \u001b[0m\n",
       "\u001b[2;36m           \u001b[0m    \u001b[33mmodel\u001b[0m=\u001b[32m'qwen3:4b-q4_K_M'\u001b[0m,                                                            \u001b[2m                \u001b[0m\n",
       "\u001b[2;36m           \u001b[0m    \u001b[33mobject\u001b[0m=\u001b[32m'chat.completion'\u001b[0m,                                                           \u001b[2m                \u001b[0m\n",
       "\u001b[2;36m           \u001b[0m    \u001b[33mservice_tier\u001b[0m=\u001b[3;35mNone\u001b[0m,                                                                  \u001b[2m                \u001b[0m\n",
       "\u001b[2;36m           \u001b[0m    \u001b[33msystem_fingerprint\u001b[0m=\u001b[32m'fp_ollama'\u001b[0m,                                                     \u001b[2m                \u001b[0m\n",
       "\u001b[2;36m           \u001b[0m    \u001b[33musage\u001b[0m=\u001b[1;35mCompletionUsage\u001b[0m\u001b[1m(\u001b[0m                                                              \u001b[2m                \u001b[0m\n",
       "\u001b[2;36m           \u001b[0m        \u001b[33mcompletion_tokens\u001b[0m=\u001b[1;36m149\u001b[0m,                                                          \u001b[2m                \u001b[0m\n",
       "\u001b[2;36m           \u001b[0m        \u001b[33mprompt_tokens\u001b[0m=\u001b[1;36m322\u001b[0m,                                                              \u001b[2m                \u001b[0m\n",
       "\u001b[2;36m           \u001b[0m        \u001b[33mtotal_tokens\u001b[0m=\u001b[1;36m471\u001b[0m,                                                               \u001b[2m                \u001b[0m\n",
       "\u001b[2;36m           \u001b[0m        \u001b[33mcompletion_tokens_details\u001b[0m=\u001b[3;35mNone\u001b[0m,                                                 \u001b[2m                \u001b[0m\n",
       "\u001b[2;36m           \u001b[0m        \u001b[33mprompt_tokens_details\u001b[0m=\u001b[3;35mNone\u001b[0m                                                      \u001b[2m                \u001b[0m\n",
       "\u001b[2;36m           \u001b[0m    \u001b[1m)\u001b[0m                                                                                   \u001b[2m                \u001b[0m\n",
       "\u001b[2;36m           \u001b[0m\u001b[1m)\u001b[0m                                                                                       \u001b[2m                \u001b[0m\n"
      ]
     },
     "metadata": {},
     "output_type": "display_data"
    }
   ],
   "source": [
    "# Add all the initial messages\n",
    "messages.append(response.choices[0].message)\n",
    "\n",
    "# Add the result of the tool/function call\n",
    "messages.append(\n",
    "    {\n",
    "        \"role\": \"tool\",\n",
    "        \"tool_call_id\": tool_call.id,\n",
    "        \"content\": str(result),\n",
    "    }\n",
    ")\n",
    "\n",
    "# Get final response from model with function outputs\n",
    "response_2 = await ollama_aclient.chat.completions.create(\n",
    "    messages=messages,\n",
    "    model=ModelEnum.QWEN_3p0_4B_LOCAL.value,\n",
    "    temperature=0.0,\n",
    "    seed=0,\n",
    "    tools=[adder_tool],\n",
    ")\n",
    "console.log(response_2)"
   ]
  },
  {
   "cell_type": "code",
   "execution_count": 31,
   "id": "6f377691",
   "metadata": {},
   "outputs": [
    {
     "name": "stdout",
     "output_type": "stream",
     "text": [
      "<think>\n",
      "Okay, the user is asking for the sum of three and half (which is 3.5) and 0.05. Let me add those together. 3.5 plus 0.05 equals 3.55. I should use the simple_adder function to confirm. The function takes two numbers, so I'll input 3.5 and 0.05. The result should be 3.55. Let me make sure the parameters are correct. Yep, both are floats. Alright, the tool call should return the right answer.\n",
      "</think>\n",
      "\n",
      "The sum of three and half (3.5) and 0.05 is **3.55**.\n"
     ]
    }
   ],
   "source": [
    "from rich.pretty import pprint as pretty_p\n",
    "\n",
    "print(response_2.choices[0].message.content)"
   ]
  },
  {
   "cell_type": "markdown",
   "id": "0168cf3d",
   "metadata": {},
   "source": [
    "## Another Example"
   ]
  },
  {
   "cell_type": "code",
   "execution_count": 32,
   "id": "f5bb2c5b",
   "metadata": {},
   "outputs": [
    {
     "data": {
      "text/html": [
       "<pre style=\"white-space:pre;overflow-x:auto;line-height:normal;font-family:Menlo,'DejaVu Sans Mono',consolas,'Courier New',monospace\"><span style=\"color: #7fbfbf; text-decoration-color: #7fbfbf\">[13:51:16] </span><span style=\"color: #800080; text-decoration-color: #800080; font-weight: bold\">ChatCompletion</span><span style=\"font-weight: bold\">(</span>                                                                           <a href=\"file:///var/folders/ny/dl75sc_x2tb54lsymt5bh5p00000gn/T/ipykernel_39609/92335864.py\" target=\"_blank\"><span style=\"color: #7f7f7f; text-decoration-color: #7f7f7f\">92335864.py</span></a><span style=\"color: #7f7f7f; text-decoration-color: #7f7f7f\">:</span><a href=\"file:///var/folders/ny/dl75sc_x2tb54lsymt5bh5p00000gn/T/ipykernel_39609/92335864.py#76\" target=\"_blank\"><span style=\"color: #7f7f7f; text-decoration-color: #7f7f7f\">76</span></a>\n",
       "<span style=\"color: #7fbfbf; text-decoration-color: #7fbfbf\">           </span>    <span style=\"color: #808000; text-decoration-color: #808000\">id</span>=<span style=\"color: #008000; text-decoration-color: #008000\">'chatcmpl-237'</span>,                                                                    <span style=\"color: #7f7f7f; text-decoration-color: #7f7f7f\">              </span>\n",
       "<span style=\"color: #7fbfbf; text-decoration-color: #7fbfbf\">           </span>    <span style=\"color: #808000; text-decoration-color: #808000\">choices</span>=<span style=\"font-weight: bold\">[</span>                                                                             <span style=\"color: #7f7f7f; text-decoration-color: #7f7f7f\">              </span>\n",
       "<span style=\"color: #7fbfbf; text-decoration-color: #7fbfbf\">           </span>        <span style=\"color: #800080; text-decoration-color: #800080; font-weight: bold\">Choice</span><span style=\"font-weight: bold\">(</span>                                                                           <span style=\"color: #7f7f7f; text-decoration-color: #7f7f7f\">              </span>\n",
       "<span style=\"color: #7fbfbf; text-decoration-color: #7fbfbf\">           </span>            <span style=\"color: #808000; text-decoration-color: #808000\">finish_reason</span>=<span style=\"color: #008000; text-decoration-color: #008000\">'tool_calls'</span>,                                                   <span style=\"color: #7f7f7f; text-decoration-color: #7f7f7f\">              </span>\n",
       "<span style=\"color: #7fbfbf; text-decoration-color: #7fbfbf\">           </span>            <span style=\"color: #808000; text-decoration-color: #808000\">index</span>=<span style=\"color: #008080; text-decoration-color: #008080; font-weight: bold\">0</span>,                                                                      <span style=\"color: #7f7f7f; text-decoration-color: #7f7f7f\">              </span>\n",
       "<span style=\"color: #7fbfbf; text-decoration-color: #7fbfbf\">           </span>            <span style=\"color: #808000; text-decoration-color: #808000\">logprobs</span>=<span style=\"color: #800080; text-decoration-color: #800080; font-style: italic\">None</span>,                                                                <span style=\"color: #7f7f7f; text-decoration-color: #7f7f7f\">              </span>\n",
       "<span style=\"color: #7fbfbf; text-decoration-color: #7fbfbf\">           </span>            <span style=\"color: #808000; text-decoration-color: #808000\">message</span>=<span style=\"color: #800080; text-decoration-color: #800080; font-weight: bold\">ChatCompletionMessage</span><span style=\"font-weight: bold\">(</span>                                                <span style=\"color: #7f7f7f; text-decoration-color: #7f7f7f\">              </span>\n",
       "<span style=\"color: #7fbfbf; text-decoration-color: #7fbfbf\">           </span>                <span style=\"color: #808000; text-decoration-color: #808000\">content</span>=<span style=\"color: #008000; text-decoration-color: #008000\">''</span>,                                                               <span style=\"color: #7f7f7f; text-decoration-color: #7f7f7f\">              </span>\n",
       "<span style=\"color: #7fbfbf; text-decoration-color: #7fbfbf\">           </span>                <span style=\"color: #808000; text-decoration-color: #808000\">refusal</span>=<span style=\"color: #800080; text-decoration-color: #800080; font-style: italic\">None</span>,                                                             <span style=\"color: #7f7f7f; text-decoration-color: #7f7f7f\">              </span>\n",
       "<span style=\"color: #7fbfbf; text-decoration-color: #7fbfbf\">           </span>                <span style=\"color: #808000; text-decoration-color: #808000\">role</span>=<span style=\"color: #008000; text-decoration-color: #008000\">'assistant'</span>,                                                         <span style=\"color: #7f7f7f; text-decoration-color: #7f7f7f\">              </span>\n",
       "<span style=\"color: #7fbfbf; text-decoration-color: #7fbfbf\">           </span>                <span style=\"color: #808000; text-decoration-color: #808000\">annotations</span>=<span style=\"color: #800080; text-decoration-color: #800080; font-style: italic\">None</span>,                                                         <span style=\"color: #7f7f7f; text-decoration-color: #7f7f7f\">              </span>\n",
       "<span style=\"color: #7fbfbf; text-decoration-color: #7fbfbf\">           </span>                <span style=\"color: #808000; text-decoration-color: #808000\">audio</span>=<span style=\"color: #800080; text-decoration-color: #800080; font-style: italic\">None</span>,                                                               <span style=\"color: #7f7f7f; text-decoration-color: #7f7f7f\">              </span>\n",
       "<span style=\"color: #7fbfbf; text-decoration-color: #7fbfbf\">           </span>                <span style=\"color: #808000; text-decoration-color: #808000\">function_call</span>=<span style=\"color: #800080; text-decoration-color: #800080; font-style: italic\">None</span>,                                                       <span style=\"color: #7f7f7f; text-decoration-color: #7f7f7f\">              </span>\n",
       "<span style=\"color: #7fbfbf; text-decoration-color: #7fbfbf\">           </span>                <span style=\"color: #808000; text-decoration-color: #808000\">tool_calls</span>=<span style=\"font-weight: bold\">[</span>                                                              <span style=\"color: #7f7f7f; text-decoration-color: #7f7f7f\">              </span>\n",
       "<span style=\"color: #7fbfbf; text-decoration-color: #7fbfbf\">           </span>                    <span style=\"color: #800080; text-decoration-color: #800080; font-weight: bold\">ChatCompletionMessageToolCall</span><span style=\"font-weight: bold\">(</span>                                        <span style=\"color: #7f7f7f; text-decoration-color: #7f7f7f\">              </span>\n",
       "<span style=\"color: #7fbfbf; text-decoration-color: #7fbfbf\">           </span>                        <span style=\"color: #808000; text-decoration-color: #808000\">id</span>=<span style=\"color: #008000; text-decoration-color: #008000\">'call_5tw0tuhd'</span>,                                               <span style=\"color: #7f7f7f; text-decoration-color: #7f7f7f\">              </span>\n",
       "<span style=\"color: #7fbfbf; text-decoration-color: #7fbfbf\">           </span>                        <span style=\"color: #808000; text-decoration-color: #808000\">function</span>=<span style=\"color: #800080; text-decoration-color: #800080; font-weight: bold\">Function</span><span style=\"font-weight: bold\">(</span>                                                <span style=\"color: #7f7f7f; text-decoration-color: #7f7f7f\">              </span>\n",
       "<span style=\"color: #7fbfbf; text-decoration-color: #7fbfbf\">           </span>                            <span style=\"color: #808000; text-decoration-color: #808000\">arguments</span>=<span style=\"color: #008000; text-decoration-color: #008000\">'{\"name\":\"Chinedu\"}'</span>,                               <span style=\"color: #7f7f7f; text-decoration-color: #7f7f7f\">              </span>\n",
       "<span style=\"color: #7fbfbf; text-decoration-color: #7fbfbf\">           </span>                            <span style=\"color: #808000; text-decoration-color: #808000\">name</span>=<span style=\"color: #008000; text-decoration-color: #008000\">'local_wikipedia'</span>                                        <span style=\"color: #7f7f7f; text-decoration-color: #7f7f7f\">              </span>\n",
       "<span style=\"color: #7fbfbf; text-decoration-color: #7fbfbf\">           </span>                        <span style=\"font-weight: bold\">)</span>,                                                                <span style=\"color: #7f7f7f; text-decoration-color: #7f7f7f\">              </span>\n",
       "<span style=\"color: #7fbfbf; text-decoration-color: #7fbfbf\">           </span>                        <span style=\"color: #808000; text-decoration-color: #808000\">type</span>=<span style=\"color: #008000; text-decoration-color: #008000\">'function'</span>,                                                  <span style=\"color: #7f7f7f; text-decoration-color: #7f7f7f\">              </span>\n",
       "<span style=\"color: #7fbfbf; text-decoration-color: #7fbfbf\">           </span>                        <span style=\"color: #808000; text-decoration-color: #808000\">index</span>=<span style=\"color: #008080; text-decoration-color: #008080; font-weight: bold\">0</span>                                                           <span style=\"color: #7f7f7f; text-decoration-color: #7f7f7f\">              </span>\n",
       "<span style=\"color: #7fbfbf; text-decoration-color: #7fbfbf\">           </span>                    <span style=\"font-weight: bold\">)</span>                                                                     <span style=\"color: #7f7f7f; text-decoration-color: #7f7f7f\">              </span>\n",
       "<span style=\"color: #7fbfbf; text-decoration-color: #7fbfbf\">           </span>                <span style=\"font-weight: bold\">]</span>                                                                         <span style=\"color: #7f7f7f; text-decoration-color: #7f7f7f\">              </span>\n",
       "<span style=\"color: #7fbfbf; text-decoration-color: #7fbfbf\">           </span>            <span style=\"font-weight: bold\">)</span>                                                                             <span style=\"color: #7f7f7f; text-decoration-color: #7f7f7f\">              </span>\n",
       "<span style=\"color: #7fbfbf; text-decoration-color: #7fbfbf\">           </span>        <span style=\"font-weight: bold\">)</span>                                                                                 <span style=\"color: #7f7f7f; text-decoration-color: #7f7f7f\">              </span>\n",
       "<span style=\"color: #7fbfbf; text-decoration-color: #7fbfbf\">           </span>    <span style=\"font-weight: bold\">]</span>,                                                                                    <span style=\"color: #7f7f7f; text-decoration-color: #7f7f7f\">              </span>\n",
       "<span style=\"color: #7fbfbf; text-decoration-color: #7fbfbf\">           </span>    <span style=\"color: #808000; text-decoration-color: #808000\">created</span>=<span style=\"color: #008080; text-decoration-color: #008080; font-weight: bold\">1747486276</span>,                                                                   <span style=\"color: #7f7f7f; text-decoration-color: #7f7f7f\">              </span>\n",
       "<span style=\"color: #7fbfbf; text-decoration-color: #7fbfbf\">           </span>    <span style=\"color: #808000; text-decoration-color: #808000\">model</span>=<span style=\"color: #008000; text-decoration-color: #008000\">'qwen3:4b-q4_K_M'</span>,                                                              <span style=\"color: #7f7f7f; text-decoration-color: #7f7f7f\">              </span>\n",
       "<span style=\"color: #7fbfbf; text-decoration-color: #7fbfbf\">           </span>    <span style=\"color: #808000; text-decoration-color: #808000\">object</span>=<span style=\"color: #008000; text-decoration-color: #008000\">'chat.completion'</span>,                                                             <span style=\"color: #7f7f7f; text-decoration-color: #7f7f7f\">              </span>\n",
       "<span style=\"color: #7fbfbf; text-decoration-color: #7fbfbf\">           </span>    <span style=\"color: #808000; text-decoration-color: #808000\">service_tier</span>=<span style=\"color: #800080; text-decoration-color: #800080; font-style: italic\">None</span>,                                                                    <span style=\"color: #7f7f7f; text-decoration-color: #7f7f7f\">              </span>\n",
       "<span style=\"color: #7fbfbf; text-decoration-color: #7fbfbf\">           </span>    <span style=\"color: #808000; text-decoration-color: #808000\">system_fingerprint</span>=<span style=\"color: #008000; text-decoration-color: #008000\">'fp_ollama'</span>,                                                       <span style=\"color: #7f7f7f; text-decoration-color: #7f7f7f\">              </span>\n",
       "<span style=\"color: #7fbfbf; text-decoration-color: #7fbfbf\">           </span>    <span style=\"color: #808000; text-decoration-color: #808000\">usage</span>=<span style=\"color: #800080; text-decoration-color: #800080; font-weight: bold\">CompletionUsage</span><span style=\"font-weight: bold\">(</span>                                                                <span style=\"color: #7f7f7f; text-decoration-color: #7f7f7f\">              </span>\n",
       "<span style=\"color: #7fbfbf; text-decoration-color: #7fbfbf\">           </span>        <span style=\"color: #808000; text-decoration-color: #808000\">completion_tokens</span>=<span style=\"color: #008080; text-decoration-color: #008080; font-weight: bold\">136</span>,                                                            <span style=\"color: #7f7f7f; text-decoration-color: #7f7f7f\">              </span>\n",
       "<span style=\"color: #7fbfbf; text-decoration-color: #7fbfbf\">           </span>        <span style=\"color: #808000; text-decoration-color: #808000\">prompt_tokens</span>=<span style=\"color: #008080; text-decoration-color: #008080; font-weight: bold\">389</span>,                                                                <span style=\"color: #7f7f7f; text-decoration-color: #7f7f7f\">              </span>\n",
       "<span style=\"color: #7fbfbf; text-decoration-color: #7fbfbf\">           </span>        <span style=\"color: #808000; text-decoration-color: #808000\">total_tokens</span>=<span style=\"color: #008080; text-decoration-color: #008080; font-weight: bold\">525</span>,                                                                 <span style=\"color: #7f7f7f; text-decoration-color: #7f7f7f\">              </span>\n",
       "<span style=\"color: #7fbfbf; text-decoration-color: #7fbfbf\">           </span>        <span style=\"color: #808000; text-decoration-color: #808000\">completion_tokens_details</span>=<span style=\"color: #800080; text-decoration-color: #800080; font-style: italic\">None</span>,                                                   <span style=\"color: #7f7f7f; text-decoration-color: #7f7f7f\">              </span>\n",
       "<span style=\"color: #7fbfbf; text-decoration-color: #7fbfbf\">           </span>        <span style=\"color: #808000; text-decoration-color: #808000\">prompt_tokens_details</span>=<span style=\"color: #800080; text-decoration-color: #800080; font-style: italic\">None</span>                                                        <span style=\"color: #7f7f7f; text-decoration-color: #7f7f7f\">              </span>\n",
       "<span style=\"color: #7fbfbf; text-decoration-color: #7fbfbf\">           </span>    <span style=\"font-weight: bold\">)</span>                                                                                     <span style=\"color: #7f7f7f; text-decoration-color: #7f7f7f\">              </span>\n",
       "<span style=\"color: #7fbfbf; text-decoration-color: #7fbfbf\">           </span><span style=\"font-weight: bold\">)</span>                                                                                         <span style=\"color: #7f7f7f; text-decoration-color: #7f7f7f\">              </span>\n",
       "</pre>\n"
      ],
      "text/plain": [
       "\u001b[2;36m[13:51:16]\u001b[0m\u001b[2;36m \u001b[0m\u001b[1;35mChatCompletion\u001b[0m\u001b[1m(\u001b[0m                                                                           \u001b]8;id=244581;file:///var/folders/ny/dl75sc_x2tb54lsymt5bh5p00000gn/T/ipykernel_39609/92335864.py\u001b\\\u001b[2m92335864.py\u001b[0m\u001b]8;;\u001b\\\u001b[2m:\u001b[0m\u001b]8;id=910689;file:///var/folders/ny/dl75sc_x2tb54lsymt5bh5p00000gn/T/ipykernel_39609/92335864.py#76\u001b\\\u001b[2m76\u001b[0m\u001b]8;;\u001b\\\n",
       "\u001b[2;36m           \u001b[0m    \u001b[33mid\u001b[0m=\u001b[32m'chatcmpl-237'\u001b[0m,                                                                    \u001b[2m              \u001b[0m\n",
       "\u001b[2;36m           \u001b[0m    \u001b[33mchoices\u001b[0m=\u001b[1m[\u001b[0m                                                                             \u001b[2m              \u001b[0m\n",
       "\u001b[2;36m           \u001b[0m        \u001b[1;35mChoice\u001b[0m\u001b[1m(\u001b[0m                                                                           \u001b[2m              \u001b[0m\n",
       "\u001b[2;36m           \u001b[0m            \u001b[33mfinish_reason\u001b[0m=\u001b[32m'tool_calls'\u001b[0m,                                                   \u001b[2m              \u001b[0m\n",
       "\u001b[2;36m           \u001b[0m            \u001b[33mindex\u001b[0m=\u001b[1;36m0\u001b[0m,                                                                      \u001b[2m              \u001b[0m\n",
       "\u001b[2;36m           \u001b[0m            \u001b[33mlogprobs\u001b[0m=\u001b[3;35mNone\u001b[0m,                                                                \u001b[2m              \u001b[0m\n",
       "\u001b[2;36m           \u001b[0m            \u001b[33mmessage\u001b[0m=\u001b[1;35mChatCompletionMessage\u001b[0m\u001b[1m(\u001b[0m                                                \u001b[2m              \u001b[0m\n",
       "\u001b[2;36m           \u001b[0m                \u001b[33mcontent\u001b[0m=\u001b[32m''\u001b[0m,                                                               \u001b[2m              \u001b[0m\n",
       "\u001b[2;36m           \u001b[0m                \u001b[33mrefusal\u001b[0m=\u001b[3;35mNone\u001b[0m,                                                             \u001b[2m              \u001b[0m\n",
       "\u001b[2;36m           \u001b[0m                \u001b[33mrole\u001b[0m=\u001b[32m'assistant'\u001b[0m,                                                         \u001b[2m              \u001b[0m\n",
       "\u001b[2;36m           \u001b[0m                \u001b[33mannotations\u001b[0m=\u001b[3;35mNone\u001b[0m,                                                         \u001b[2m              \u001b[0m\n",
       "\u001b[2;36m           \u001b[0m                \u001b[33maudio\u001b[0m=\u001b[3;35mNone\u001b[0m,                                                               \u001b[2m              \u001b[0m\n",
       "\u001b[2;36m           \u001b[0m                \u001b[33mfunction_call\u001b[0m=\u001b[3;35mNone\u001b[0m,                                                       \u001b[2m              \u001b[0m\n",
       "\u001b[2;36m           \u001b[0m                \u001b[33mtool_calls\u001b[0m=\u001b[1m[\u001b[0m                                                              \u001b[2m              \u001b[0m\n",
       "\u001b[2;36m           \u001b[0m                    \u001b[1;35mChatCompletionMessageToolCall\u001b[0m\u001b[1m(\u001b[0m                                        \u001b[2m              \u001b[0m\n",
       "\u001b[2;36m           \u001b[0m                        \u001b[33mid\u001b[0m=\u001b[32m'call_5tw0tuhd'\u001b[0m,                                               \u001b[2m              \u001b[0m\n",
       "\u001b[2;36m           \u001b[0m                        \u001b[33mfunction\u001b[0m=\u001b[1;35mFunction\u001b[0m\u001b[1m(\u001b[0m                                                \u001b[2m              \u001b[0m\n",
       "\u001b[2;36m           \u001b[0m                            \u001b[33marguments\u001b[0m=\u001b[32m'\u001b[0m\u001b[32m{\u001b[0m\u001b[32m\"name\":\"Chinedu\"\u001b[0m\u001b[32m}\u001b[0m\u001b[32m'\u001b[0m,                               \u001b[2m              \u001b[0m\n",
       "\u001b[2;36m           \u001b[0m                            \u001b[33mname\u001b[0m=\u001b[32m'local_wikipedia'\u001b[0m                                        \u001b[2m              \u001b[0m\n",
       "\u001b[2;36m           \u001b[0m                        \u001b[1m)\u001b[0m,                                                                \u001b[2m              \u001b[0m\n",
       "\u001b[2;36m           \u001b[0m                        \u001b[33mtype\u001b[0m=\u001b[32m'function'\u001b[0m,                                                  \u001b[2m              \u001b[0m\n",
       "\u001b[2;36m           \u001b[0m                        \u001b[33mindex\u001b[0m=\u001b[1;36m0\u001b[0m                                                           \u001b[2m              \u001b[0m\n",
       "\u001b[2;36m           \u001b[0m                    \u001b[1m)\u001b[0m                                                                     \u001b[2m              \u001b[0m\n",
       "\u001b[2;36m           \u001b[0m                \u001b[1m]\u001b[0m                                                                         \u001b[2m              \u001b[0m\n",
       "\u001b[2;36m           \u001b[0m            \u001b[1m)\u001b[0m                                                                             \u001b[2m              \u001b[0m\n",
       "\u001b[2;36m           \u001b[0m        \u001b[1m)\u001b[0m                                                                                 \u001b[2m              \u001b[0m\n",
       "\u001b[2;36m           \u001b[0m    \u001b[1m]\u001b[0m,                                                                                    \u001b[2m              \u001b[0m\n",
       "\u001b[2;36m           \u001b[0m    \u001b[33mcreated\u001b[0m=\u001b[1;36m1747486276\u001b[0m,                                                                   \u001b[2m              \u001b[0m\n",
       "\u001b[2;36m           \u001b[0m    \u001b[33mmodel\u001b[0m=\u001b[32m'qwen3:4b-q4_K_M'\u001b[0m,                                                              \u001b[2m              \u001b[0m\n",
       "\u001b[2;36m           \u001b[0m    \u001b[33mobject\u001b[0m=\u001b[32m'chat.completion'\u001b[0m,                                                             \u001b[2m              \u001b[0m\n",
       "\u001b[2;36m           \u001b[0m    \u001b[33mservice_tier\u001b[0m=\u001b[3;35mNone\u001b[0m,                                                                    \u001b[2m              \u001b[0m\n",
       "\u001b[2;36m           \u001b[0m    \u001b[33msystem_fingerprint\u001b[0m=\u001b[32m'fp_ollama'\u001b[0m,                                                       \u001b[2m              \u001b[0m\n",
       "\u001b[2;36m           \u001b[0m    \u001b[33musage\u001b[0m=\u001b[1;35mCompletionUsage\u001b[0m\u001b[1m(\u001b[0m                                                                \u001b[2m              \u001b[0m\n",
       "\u001b[2;36m           \u001b[0m        \u001b[33mcompletion_tokens\u001b[0m=\u001b[1;36m136\u001b[0m,                                                            \u001b[2m              \u001b[0m\n",
       "\u001b[2;36m           \u001b[0m        \u001b[33mprompt_tokens\u001b[0m=\u001b[1;36m389\u001b[0m,                                                                \u001b[2m              \u001b[0m\n",
       "\u001b[2;36m           \u001b[0m        \u001b[33mtotal_tokens\u001b[0m=\u001b[1;36m525\u001b[0m,                                                                 \u001b[2m              \u001b[0m\n",
       "\u001b[2;36m           \u001b[0m        \u001b[33mcompletion_tokens_details\u001b[0m=\u001b[3;35mNone\u001b[0m,                                                   \u001b[2m              \u001b[0m\n",
       "\u001b[2;36m           \u001b[0m        \u001b[33mprompt_tokens_details\u001b[0m=\u001b[3;35mNone\u001b[0m                                                        \u001b[2m              \u001b[0m\n",
       "\u001b[2;36m           \u001b[0m    \u001b[1m)\u001b[0m                                                                                     \u001b[2m              \u001b[0m\n",
       "\u001b[2;36m           \u001b[0m\u001b[1m)\u001b[0m                                                                                         \u001b[2m              \u001b[0m\n"
      ]
     },
     "metadata": {},
     "output_type": "display_data"
    }
   ],
   "source": [
    "ollama_aclient: AsyncOpenAI = AsyncOpenAI(\n",
    "    api_key=settings.OLLAMA_API_KEY.get_secret_value(),\n",
    "    base_url=settings.OLLAMA_URL,\n",
    ")\n",
    "\n",
    "\n",
    "@custom_tool\n",
    "def local_wikipedia(name: str) -> str:\n",
    "    \"\"\"\n",
    "    Returns a string describing Chineidu, a data scientist transitioning into AI Engineering.\n",
    "\n",
    "    Parameters\n",
    "    ----------\n",
    "    name : str\n",
    "        The name of the data scientist.\n",
    "\n",
    "    Returns\n",
    "    -------\n",
    "    str\n",
    "        A string describing the data scientist.\n",
    "    \"\"\"\n",
    "    return (\n",
    "        f\"{name}, AKA Tha-dude, is a data scientist who is transitioning into AI Engineering. \"\n",
    "        \"He resides in Lagos State and he's focusing on building and deploying practical AI \"\n",
    "        \"solutions relevant to the Nigerian context. He enjoys learning new things and \"\n",
    "        \"developing new projects. He is currently working on a project that will help \"\n",
    "        \"Nigerians learn how to use AI to solve their problems. \"\n",
    "    )\n",
    "\n",
    "\n",
    "local_wikipedia_tool: dict[str, Any] = {\n",
    "    \"type\": \"function\",\n",
    "    \"function\": {\n",
    "        \"name\": local_wikipedia.name,\n",
    "        \"description\": local_wikipedia.description,\n",
    "        \"parameters\": {\n",
    "            \"type\": \"object\",\n",
    "            \"properties\": {\n",
    "                \"name\": {\n",
    "                    \"type\": \"string\",  # string, number, array, object, null, etc\n",
    "                    \"description\": \"The name of the data scientist.\",\n",
    "                },\n",
    "            },\n",
    "            \"required\": [\"name\"],  # list all the required parameters\n",
    "            \"additionalProperties\": False,  # true or false\n",
    "        },\n",
    "        \"strict\": True,\n",
    "    },\n",
    "}\n",
    "\n",
    "available_functions = {\n",
    "    \"simple_adder\": simple_adder,\n",
    "    \"local_wikipedia\": local_wikipedia,\n",
    "}\n",
    "messages: list[dict[str, Any]] = [\n",
    "    {\n",
    "        \"role\": \"system\",\n",
    "        \"content\": \"<inst>You're a very concise helpful assistant that has access to the \"\n",
    "        \"following tools: <tools>[simple_adder, local_wikipedia]</tools>. You **must** respond \"\n",
    "        \"to the user's queries by using the available tools when necessary. </inst>\",\n",
    "    },\n",
    "    {\n",
    "        \"role\": \"user\",\n",
    "        \"content\": \"<query>What do you know about Chinedu?</query>\",\n",
    "    },\n",
    "]\n",
    "\n",
    "\n",
    "response = await ollama_aclient.chat.completions.create(\n",
    "    messages=messages,\n",
    "    model=f\"{ModelEnum.QWEN_3p0_4B_LOCAL.value}\",\n",
    "    temperature=0.0,\n",
    "    seed=0,\n",
    "    tools=[adder_tool, local_wikipedia_tool],\n",
    ")\n",
    "console.log(response)"
   ]
  },
  {
   "cell_type": "code",
   "execution_count": 33,
   "id": "a3cc3da2",
   "metadata": {},
   "outputs": [
    {
     "name": "stdout",
     "output_type": "stream",
     "text": [
      "Calling function: local_wikipedia\n",
      "Arguments: {'name': 'Chinedu'}\n",
      "Function output: Chinedu, AKA Tha-dude, is a data scientist who is transitioning into AI Engineering. He resides in Lagos State and he's focusing on building and deploying practical AI solutions relevant to the Nigerian context. He enjoys learning new things and developing new projects. He is currently working on a project that will help Nigerians learn how to use AI to solve their problems. \n"
     ]
    },
    {
     "data": {
      "text/html": [
       "<pre style=\"white-space:pre;overflow-x:auto;line-height:normal;font-family:Menlo,'DejaVu Sans Mono',consolas,'Courier New',monospace\"><span style=\"color: #7fbfbf; text-decoration-color: #7fbfbf\">[13:52:08] </span>Final response: <span style=\"font-weight: bold\">&lt;</span><span style=\"color: #ff00ff; text-decoration-color: #ff00ff; font-weight: bold\">think</span><span style=\"color: #000000; text-decoration-color: #000000\">&gt;</span>                                                                 <a href=\"file:///var/folders/ny/dl75sc_x2tb54lsymt5bh5p00000gn/T/ipykernel_39609/1790320164.py\" target=\"_blank\"><span style=\"color: #7f7f7f; text-decoration-color: #7f7f7f\">1790320164.py</span></a><span style=\"color: #7f7f7f; text-decoration-color: #7f7f7f\">:</span><a href=\"file:///var/folders/ny/dl75sc_x2tb54lsymt5bh5p00000gn/T/ipykernel_39609/1790320164.py#35\" target=\"_blank\"><span style=\"color: #7f7f7f; text-decoration-color: #7f7f7f\">35</span></a>\n",
       "<span style=\"color: #7fbfbf; text-decoration-color: #7fbfbf\">           </span><span style=\"color: #000000; text-decoration-color: #000000\">Okay, the user asked about Chinedu. Let me start by recalling the information I have. </span>  <span style=\"color: #7f7f7f; text-decoration-color: #7f7f7f\">                </span>\n",
       "<span style=\"color: #7fbfbf; text-decoration-color: #7fbfbf\">           </span><span style=\"color: #000000; text-decoration-color: #000000\">From the previous response, I know that Chinedu is a data scientist moving into AI </span>     <span style=\"color: #7f7f7f; text-decoration-color: #7f7f7f\">                </span>\n",
       "<span style=\"color: #7fbfbf; text-decoration-color: #7fbfbf\">           </span><span style=\"color: #000000; text-decoration-color: #000000\">Engineering, based in Lagos, focusing on practical AI solutions for Nigeria. He's </span>      <span style=\"color: #7f7f7f; text-decoration-color: #7f7f7f\">                </span>\n",
       "<span style=\"color: #7fbfbf; text-decoration-color: #7fbfbf\">           </span><span style=\"color: #000000; text-decoration-color: #000000\">working on a project to help Nigerians use AI to solve local problems.</span>                  <span style=\"color: #7f7f7f; text-decoration-color: #7f7f7f\">                </span>\n",
       "<span style=\"color: #7fbfbf; text-decoration-color: #7fbfbf\">           </span>                                                                                        <span style=\"color: #7f7f7f; text-decoration-color: #7f7f7f\">                </span>\n",
       "<span style=\"color: #7fbfbf; text-decoration-color: #7fbfbf\">           </span><span style=\"color: #000000; text-decoration-color: #000000\">Now, the user might want more details or have follow-up questions. But since they just </span> <span style=\"color: #7f7f7f; text-decoration-color: #7f7f7f\">                </span>\n",
       "<span style=\"color: #7fbfbf; text-decoration-color: #7fbfbf\">           </span><span style=\"color: #000000; text-decoration-color: #000000\">asked </span><span style=\"color: #008000; text-decoration-color: #008000\">\"What do you know about Chinedu?\"</span><span style=\"color: #000000; text-decoration-color: #000000\"> and I already provided the answer, maybe they </span>  <span style=\"color: #7f7f7f; text-decoration-color: #7f7f7f\">                </span>\n",
       "<span style=\"color: #7fbfbf; text-decoration-color: #7fbfbf\">           </span><span style=\"color: #000000; text-decoration-color: #000000\">are satisfied. Alternatively, they might be interested in specific aspects like his </span>    <span style=\"color: #7f7f7f; text-decoration-color: #7f7f7f\">                </span>\n",
       "<span style=\"color: #7fbfbf; text-decoration-color: #7fbfbf\">           </span><span style=\"color: #000000; text-decoration-color: #000000\">projects, challenges, or how to get involved. However, the tools available are </span>         <span style=\"color: #7f7f7f; text-decoration-color: #7f7f7f\">                </span>\n",
       "<span style=\"color: #7fbfbf; text-decoration-color: #7fbfbf\">           </span><span style=\"color: #000000; text-decoration-color: #000000\">simple_adder and local_wikipedia. Since the answer was generated without using the </span>     <span style=\"color: #7f7f7f; text-decoration-color: #7f7f7f\">                </span>\n",
       "<span style=\"color: #7fbfbf; text-decoration-color: #7fbfbf\">           </span><span style=\"color: #000000; text-decoration-color: #000000\">tools, but the user's query is about general knowledge, maybe there's no need to use </span>   <span style=\"color: #7f7f7f; text-decoration-color: #7f7f7f\">                </span>\n",
       "<span style=\"color: #7fbfbf; text-decoration-color: #7fbfbf\">           </span><span style=\"color: #000000; text-decoration-color: #000000\">the tools here. Wait, but the instructions say to use the tools when necessary. </span>        <span style=\"color: #7f7f7f; text-decoration-color: #7f7f7f\">                </span>\n",
       "<span style=\"color: #7fbfbf; text-decoration-color: #7fbfbf\">           </span><span style=\"color: #000000; text-decoration-color: #000000\">However, the information provided was from the previous response, which might not have </span> <span style=\"color: #7f7f7f; text-decoration-color: #7f7f7f\">                </span>\n",
       "<span style=\"color: #7fbfbf; text-decoration-color: #7fbfbf\">           </span><span style=\"color: #000000; text-decoration-color: #000000\">used the tools. But in this case, since the user is asking for general information and </span> <span style=\"color: #7f7f7f; text-decoration-color: #7f7f7f\">                </span>\n",
       "<span style=\"color: #7fbfbf; text-decoration-color: #7fbfbf\">           </span><span style=\"color: #000000; text-decoration-color: #000000\">the assistant has already provided the answer, perhaps there's no need to use the tools</span> <span style=\"color: #7f7f7f; text-decoration-color: #7f7f7f\">                </span>\n",
       "<span style=\"color: #7fbfbf; text-decoration-color: #7fbfbf\">           </span><span style=\"color: #000000; text-decoration-color: #000000\">again. Alternatively, maybe the assistant should check if there's more info via </span>        <span style=\"color: #7f7f7f; text-decoration-color: #7f7f7f\">                </span>\n",
       "<span style=\"color: #7fbfbf; text-decoration-color: #7fbfbf\">           </span><span style=\"color: #000000; text-decoration-color: #000000\">local_wikipedia. But the previous response didn't use that. Hmm. The user might be </span>     <span style=\"color: #7f7f7f; text-decoration-color: #7f7f7f\">                </span>\n",
       "<span style=\"color: #7fbfbf; text-decoration-color: #7fbfbf\">           </span><span style=\"color: #000000; text-decoration-color: #000000\">testing if the assistant knows when to use the tools. But since the answer is already </span>  <span style=\"color: #7f7f7f; text-decoration-color: #7f7f7f\">                </span>\n",
       "<span style=\"color: #7fbfbf; text-decoration-color: #7fbfbf\">           </span><span style=\"color: #000000; text-decoration-color: #000000\">given, maybe the assistant is done. So the final answer is as provided.</span>                 <span style=\"color: #7f7f7f; text-decoration-color: #7f7f7f\">                </span>\n",
       "<span style=\"color: #7fbfbf; text-decoration-color: #7fbfbf\">           </span><span style=\"color: #000000; text-decoration-color: #000000\">&lt;</span><span style=\"color: #800080; text-decoration-color: #800080\">/</span><span style=\"color: #ff00ff; text-decoration-color: #ff00ff\">think</span><span style=\"font-weight: bold\">&gt;</span>                                                                                <span style=\"color: #7f7f7f; text-decoration-color: #7f7f7f\">                </span>\n",
       "<span style=\"color: #7fbfbf; text-decoration-color: #7fbfbf\">           </span>                                                                                        <span style=\"color: #7f7f7f; text-decoration-color: #7f7f7f\">                </span>\n",
       "<span style=\"color: #7fbfbf; text-decoration-color: #7fbfbf\">           </span>Chinedu is a data scientist transitioning into AI Engineering, based in Lagos, Nigeria. <span style=\"color: #7f7f7f; text-decoration-color: #7f7f7f\">                </span>\n",
       "<span style=\"color: #7fbfbf; text-decoration-color: #7fbfbf\">           </span>He focuses on developing practical AI solutions tailored to local challenges and is     <span style=\"color: #7f7f7f; text-decoration-color: #7f7f7f\">                </span>\n",
       "<span style=\"color: #7fbfbf; text-decoration-color: #7fbfbf\">           </span>working on a project to empower Nigerians to use AI for problem-solving. No further     <span style=\"color: #7f7f7f; text-decoration-color: #7f7f7f\">                </span>\n",
       "<span style=\"color: #7fbfbf; text-decoration-color: #7fbfbf\">           </span>tools are needed for this general overview.                                             <span style=\"color: #7f7f7f; text-decoration-color: #7f7f7f\">                </span>\n",
       "</pre>\n"
      ],
      "text/plain": [
       "\u001b[2;36m[13:52:08]\u001b[0m\u001b[2;36m \u001b[0mFinal response: \u001b[1m<\u001b[0m\u001b[1;95mthink\u001b[0m\u001b[39m>\u001b[0m                                                                 \u001b]8;id=36217;file:///var/folders/ny/dl75sc_x2tb54lsymt5bh5p00000gn/T/ipykernel_39609/1790320164.py\u001b\\\u001b[2m1790320164.py\u001b[0m\u001b]8;;\u001b\\\u001b[2m:\u001b[0m\u001b]8;id=239693;file:///var/folders/ny/dl75sc_x2tb54lsymt5bh5p00000gn/T/ipykernel_39609/1790320164.py#35\u001b\\\u001b[2m35\u001b[0m\u001b]8;;\u001b\\\n",
       "\u001b[2;36m           \u001b[0m\u001b[39mOkay, the user asked about Chinedu. Let me start by recalling the information I have. \u001b[0m  \u001b[2m                \u001b[0m\n",
       "\u001b[2;36m           \u001b[0m\u001b[39mFrom the previous response, I know that Chinedu is a data scientist moving into AI \u001b[0m     \u001b[2m                \u001b[0m\n",
       "\u001b[2;36m           \u001b[0m\u001b[39mEngineering, based in Lagos, focusing on practical AI solutions for Nigeria. He's \u001b[0m      \u001b[2m                \u001b[0m\n",
       "\u001b[2;36m           \u001b[0m\u001b[39mworking on a project to help Nigerians use AI to solve local problems.\u001b[0m                  \u001b[2m                \u001b[0m\n",
       "\u001b[2;36m           \u001b[0m                                                                                        \u001b[2m                \u001b[0m\n",
       "\u001b[2;36m           \u001b[0m\u001b[39mNow, the user might want more details or have follow-up questions. But since they just \u001b[0m \u001b[2m                \u001b[0m\n",
       "\u001b[2;36m           \u001b[0m\u001b[39masked \u001b[0m\u001b[32m\"What do you know about Chinedu?\"\u001b[0m\u001b[39m and I already provided the answer, maybe they \u001b[0m  \u001b[2m                \u001b[0m\n",
       "\u001b[2;36m           \u001b[0m\u001b[39mare satisfied. Alternatively, they might be interested in specific aspects like his \u001b[0m    \u001b[2m                \u001b[0m\n",
       "\u001b[2;36m           \u001b[0m\u001b[39mprojects, challenges, or how to get involved. However, the tools available are \u001b[0m         \u001b[2m                \u001b[0m\n",
       "\u001b[2;36m           \u001b[0m\u001b[39msimple_adder and local_wikipedia. Since the answer was generated without using the \u001b[0m     \u001b[2m                \u001b[0m\n",
       "\u001b[2;36m           \u001b[0m\u001b[39mtools, but the user's query is about general knowledge, maybe there's no need to use \u001b[0m   \u001b[2m                \u001b[0m\n",
       "\u001b[2;36m           \u001b[0m\u001b[39mthe tools here. Wait, but the instructions say to use the tools when necessary. \u001b[0m        \u001b[2m                \u001b[0m\n",
       "\u001b[2;36m           \u001b[0m\u001b[39mHowever, the information provided was from the previous response, which might not have \u001b[0m \u001b[2m                \u001b[0m\n",
       "\u001b[2;36m           \u001b[0m\u001b[39mused the tools. But in this case, since the user is asking for general information and \u001b[0m \u001b[2m                \u001b[0m\n",
       "\u001b[2;36m           \u001b[0m\u001b[39mthe assistant has already provided the answer, perhaps there's no need to use the tools\u001b[0m \u001b[2m                \u001b[0m\n",
       "\u001b[2;36m           \u001b[0m\u001b[39magain. Alternatively, maybe the assistant should check if there's more info via \u001b[0m        \u001b[2m                \u001b[0m\n",
       "\u001b[2;36m           \u001b[0m\u001b[39mlocal_wikipedia. But the previous response didn't use that. Hmm. The user might be \u001b[0m     \u001b[2m                \u001b[0m\n",
       "\u001b[2;36m           \u001b[0m\u001b[39mtesting if the assistant knows when to use the tools. But since the answer is already \u001b[0m  \u001b[2m                \u001b[0m\n",
       "\u001b[2;36m           \u001b[0m\u001b[39mgiven, maybe the assistant is done. So the final answer is as provided.\u001b[0m                 \u001b[2m                \u001b[0m\n",
       "\u001b[2;36m           \u001b[0m\u001b[39m<\u001b[0m\u001b[35m/\u001b[0m\u001b[95mthink\u001b[0m\u001b[1m>\u001b[0m                                                                                \u001b[2m                \u001b[0m\n",
       "\u001b[2;36m           \u001b[0m                                                                                        \u001b[2m                \u001b[0m\n",
       "\u001b[2;36m           \u001b[0mChinedu is a data scientist transitioning into AI Engineering, based in Lagos, Nigeria. \u001b[2m                \u001b[0m\n",
       "\u001b[2;36m           \u001b[0mHe focuses on developing practical AI solutions tailored to local challenges and is     \u001b[2m                \u001b[0m\n",
       "\u001b[2;36m           \u001b[0mworking on a project to empower Nigerians to use AI for problem-solving. No further     \u001b[2m                \u001b[0m\n",
       "\u001b[2;36m           \u001b[0mtools are needed for this general overview.                                             \u001b[2m                \u001b[0m\n"
      ]
     },
     "metadata": {},
     "output_type": "display_data"
    }
   ],
   "source": [
    "if response.choices[0].message.tool_calls:\n",
    "    # There may be multiple tool calls in the response\n",
    "    for tool in response.choices[0].message.tool_calls:\n",
    "        # Ensure the function is available, and then call it\n",
    "        if function_to_call := available_functions.get(tool.function.name):\n",
    "            args = json.loads(tool.function.arguments)\n",
    "            print(f\"Calling function: {tool.function.name}\")\n",
    "            print(f\"Arguments: {args}\")\n",
    "            output = function_to_call.func(**args)\n",
    "            print(f\"Function output: {output}\")\n",
    "        else:\n",
    "            print(\"Function\", tool.function.name, \"not found\")\n",
    "\n",
    "# Only needed to chat with the model using the tool call results\n",
    "if response.choices[0].message.tool_calls:\n",
    "    # Add the function response to messages for the model to use\n",
    "    messages.append(response.choices[0].message)\n",
    "    messages.append(\n",
    "        {\n",
    "            \"role\": \"tool\",\n",
    "            \"tool_call_id\": tool.id,\n",
    "            \"content\": str(output),\n",
    "            \"name\": tool.function.name,\n",
    "        }\n",
    "    )\n",
    "\n",
    "    # Get final response from model with function outputs\n",
    "    final_response = await ollama_aclient.chat.completions.create(\n",
    "        messages=messages,\n",
    "        model=f\"{ModelEnum.QWEN_3p0_4B_LOCAL.value}\",\n",
    "        temperature=0.0,\n",
    "        seed=0,\n",
    "        # tools=[adder_tool, local_wikipedia_tool],\n",
    "    )\n",
    "    console.log(f\"Final response: {final_response.choices[0].message.content}\")\n",
    "\n",
    "else:\n",
    "    console.log(\"No tool calls returned from model\")"
   ]
  },
  {
   "cell_type": "code",
   "execution_count": null,
   "id": "26b8b509",
   "metadata": {},
   "outputs": [],
   "source": []
  },
  {
   "cell_type": "code",
   "execution_count": 36,
   "id": "edfc4810",
   "metadata": {},
   "outputs": [
    {
     "data": {
      "text/html": [
       "<pre style=\"white-space:pre;overflow-x:auto;line-height:normal;font-family:Menlo,'DejaVu Sans Mono',consolas,'Courier New',monospace\"><span style=\"color: #7fbfbf; text-decoration-color: #7fbfbf\">[13:55:22] </span><span style=\"color: #800080; text-decoration-color: #800080; font-weight: bold\">AIMessage</span><span style=\"font-weight: bold\">(</span>                                                                               <a href=\"file:///var/folders/ny/dl75sc_x2tb54lsymt5bh5p00000gn/T/ipykernel_39609/2021416627.py\" target=\"_blank\"><span style=\"color: #7f7f7f; text-decoration-color: #7f7f7f\">2021416627.py</span></a><span style=\"color: #7f7f7f; text-decoration-color: #7f7f7f\">:</span><a href=\"file:///var/folders/ny/dl75sc_x2tb54lsymt5bh5p00000gn/T/ipykernel_39609/2021416627.py#6\" target=\"_blank\"><span style=\"color: #7f7f7f; text-decoration-color: #7f7f7f\">6</span></a>\n",
       "<span style=\"color: #7fbfbf; text-decoration-color: #7fbfbf\">           </span>    <span style=\"color: #808000; text-decoration-color: #808000\">content</span>=<span style=\"color: #008000; text-decoration-color: #008000\">'&lt;think&gt;\\n\\n&lt;/think&gt;\\n\\nWhy did Tyrion Lannister bring a ladder to the </span>      <span style=\"color: #7f7f7f; text-decoration-color: #7f7f7f\">               </span>\n",
       "<span style=\"color: #7fbfbf; text-decoration-color: #7fbfbf\">           </span><span style=\"color: #008000; text-decoration-color: #008000\">wedding?\\n\\nBecause he wanted to \"sit\" above the rest of the crowd!'</span>,                    <span style=\"color: #7f7f7f; text-decoration-color: #7f7f7f\">               </span>\n",
       "<span style=\"color: #7fbfbf; text-decoration-color: #7fbfbf\">           </span>    <span style=\"color: #808000; text-decoration-color: #808000\">additional_kwargs</span>=<span style=\"font-weight: bold\">{}</span>,                                                                <span style=\"color: #7f7f7f; text-decoration-color: #7f7f7f\">               </span>\n",
       "<span style=\"color: #7fbfbf; text-decoration-color: #7fbfbf\">           </span>    <span style=\"color: #808000; text-decoration-color: #808000\">response_metadata</span>=<span style=\"font-weight: bold\">{</span>                                                                  <span style=\"color: #7f7f7f; text-decoration-color: #7f7f7f\">               </span>\n",
       "<span style=\"color: #7fbfbf; text-decoration-color: #7fbfbf\">           </span>        <span style=\"color: #008000; text-decoration-color: #008000\">'model'</span>: <span style=\"color: #008000; text-decoration-color: #008000\">'qwen3:4b-q4_K_M'</span>,                                                      <span style=\"color: #7f7f7f; text-decoration-color: #7f7f7f\">               </span>\n",
       "<span style=\"color: #7fbfbf; text-decoration-color: #7fbfbf\">           </span>        <span style=\"color: #008000; text-decoration-color: #008000\">'created_at'</span>: <span style=\"color: #008000; text-decoration-color: #008000\">'2025-05-17T12:55:22.541101Z'</span>,                                     <span style=\"color: #7f7f7f; text-decoration-color: #7f7f7f\">               </span>\n",
       "<span style=\"color: #7fbfbf; text-decoration-color: #7fbfbf\">           </span>        <span style=\"color: #008000; text-decoration-color: #008000\">'message'</span>: <span style=\"font-weight: bold\">{</span><span style=\"color: #008000; text-decoration-color: #008000\">'role'</span>: <span style=\"color: #008000; text-decoration-color: #008000\">'assistant'</span>, <span style=\"color: #008000; text-decoration-color: #008000\">'content'</span>: <span style=\"color: #008000; text-decoration-color: #008000\">''</span><span style=\"font-weight: bold\">}</span>,                                 <span style=\"color: #7f7f7f; text-decoration-color: #7f7f7f\">               </span>\n",
       "<span style=\"color: #7fbfbf; text-decoration-color: #7fbfbf\">           </span>        <span style=\"color: #008000; text-decoration-color: #008000\">'done_reason'</span>: <span style=\"color: #008000; text-decoration-color: #008000\">'stop'</span>,                                                           <span style=\"color: #7f7f7f; text-decoration-color: #7f7f7f\">               </span>\n",
       "<span style=\"color: #7fbfbf; text-decoration-color: #7fbfbf\">           </span>        <span style=\"color: #008000; text-decoration-color: #008000\">'done'</span>: <span style=\"color: #00ff00; text-decoration-color: #00ff00; font-style: italic\">True</span>,                                                                    <span style=\"color: #7f7f7f; text-decoration-color: #7f7f7f\">               </span>\n",
       "<span style=\"color: #7fbfbf; text-decoration-color: #7fbfbf\">           </span>        <span style=\"color: #008000; text-decoration-color: #008000\">'total_duration'</span>: <span style=\"color: #008080; text-decoration-color: #008080; font-weight: bold\">5328912024</span>,                                                    <span style=\"color: #7f7f7f; text-decoration-color: #7f7f7f\">               </span>\n",
       "<span style=\"color: #7fbfbf; text-decoration-color: #7fbfbf\">           </span>        <span style=\"color: #008000; text-decoration-color: #008000\">'load_duration'</span>: <span style=\"color: #008080; text-decoration-color: #008080; font-weight: bold\">36501855</span>,                                                       <span style=\"color: #7f7f7f; text-decoration-color: #7f7f7f\">               </span>\n",
       "<span style=\"color: #7fbfbf; text-decoration-color: #7fbfbf\">           </span>        <span style=\"color: #008000; text-decoration-color: #008000\">'prompt_eval_count'</span>: <span style=\"color: #008080; text-decoration-color: #008080; font-weight: bold\">21</span>,                                                         <span style=\"color: #7f7f7f; text-decoration-color: #7f7f7f\">               </span>\n",
       "<span style=\"color: #7fbfbf; text-decoration-color: #7fbfbf\">           </span>        <span style=\"color: #008000; text-decoration-color: #008000\">'prompt_eval_duration'</span>: <span style=\"color: #008080; text-decoration-color: #008080; font-weight: bold\">1040118050</span>,                                              <span style=\"color: #7f7f7f; text-decoration-color: #7f7f7f\">               </span>\n",
       "<span style=\"color: #7fbfbf; text-decoration-color: #7fbfbf\">           </span>        <span style=\"color: #008000; text-decoration-color: #008000\">'eval_count'</span>: <span style=\"color: #008080; text-decoration-color: #008080; font-weight: bold\">33</span>,                                                                <span style=\"color: #7f7f7f; text-decoration-color: #7f7f7f\">               </span>\n",
       "<span style=\"color: #7fbfbf; text-decoration-color: #7fbfbf\">           </span>        <span style=\"color: #008000; text-decoration-color: #008000\">'eval_duration'</span>: <span style=\"color: #008080; text-decoration-color: #008080; font-weight: bold\">4251573106</span>                                                      <span style=\"color: #7f7f7f; text-decoration-color: #7f7f7f\">               </span>\n",
       "<span style=\"color: #7fbfbf; text-decoration-color: #7fbfbf\">           </span>    <span style=\"font-weight: bold\">}</span>,                                                                                   <span style=\"color: #7f7f7f; text-decoration-color: #7f7f7f\">               </span>\n",
       "<span style=\"color: #7fbfbf; text-decoration-color: #7fbfbf\">           </span>    <span style=\"color: #808000; text-decoration-color: #808000\">id</span>=<span style=\"color: #008000; text-decoration-color: #008000\">'run--5626795b-8ee8-4e70-9d49-126978292f35-0'</span>                                     <span style=\"color: #7f7f7f; text-decoration-color: #7f7f7f\">               </span>\n",
       "<span style=\"color: #7fbfbf; text-decoration-color: #7fbfbf\">           </span><span style=\"font-weight: bold\">)</span>                                                                                        <span style=\"color: #7f7f7f; text-decoration-color: #7f7f7f\">               </span>\n",
       "</pre>\n"
      ],
      "text/plain": [
       "\u001b[2;36m[13:55:22]\u001b[0m\u001b[2;36m \u001b[0m\u001b[1;35mAIMessage\u001b[0m\u001b[1m(\u001b[0m                                                                               \u001b]8;id=407550;file:///var/folders/ny/dl75sc_x2tb54lsymt5bh5p00000gn/T/ipykernel_39609/2021416627.py\u001b\\\u001b[2m2021416627.py\u001b[0m\u001b]8;;\u001b\\\u001b[2m:\u001b[0m\u001b]8;id=22500;file:///var/folders/ny/dl75sc_x2tb54lsymt5bh5p00000gn/T/ipykernel_39609/2021416627.py#6\u001b\\\u001b[2m6\u001b[0m\u001b]8;;\u001b\\\n",
       "\u001b[2;36m           \u001b[0m    \u001b[33mcontent\u001b[0m=\u001b[32m'\u001b[0m\u001b[32m<\u001b[0m\u001b[32mthink\u001b[0m\u001b[32m>\\n\\n</think\u001b[0m\u001b[32m>\u001b[0m\u001b[32m\\n\\nWhy did Tyrion Lannister bring a ladder to the \u001b[0m      \u001b[2m               \u001b[0m\n",
       "\u001b[2;36m           \u001b[0m\u001b[32mwedding?\\n\\nBecause he wanted to \"sit\" above the rest of the crowd!'\u001b[0m,                    \u001b[2m               \u001b[0m\n",
       "\u001b[2;36m           \u001b[0m    \u001b[33madditional_kwargs\u001b[0m=\u001b[1m{\u001b[0m\u001b[1m}\u001b[0m,                                                                \u001b[2m               \u001b[0m\n",
       "\u001b[2;36m           \u001b[0m    \u001b[33mresponse_metadata\u001b[0m=\u001b[1m{\u001b[0m                                                                  \u001b[2m               \u001b[0m\n",
       "\u001b[2;36m           \u001b[0m        \u001b[32m'model'\u001b[0m: \u001b[32m'qwen3:4b-q4_K_M'\u001b[0m,                                                      \u001b[2m               \u001b[0m\n",
       "\u001b[2;36m           \u001b[0m        \u001b[32m'created_at'\u001b[0m: \u001b[32m'2025-05-17T12:55:22.541101Z'\u001b[0m,                                     \u001b[2m               \u001b[0m\n",
       "\u001b[2;36m           \u001b[0m        \u001b[32m'message'\u001b[0m: \u001b[1m{\u001b[0m\u001b[32m'role'\u001b[0m: \u001b[32m'assistant'\u001b[0m, \u001b[32m'content'\u001b[0m: \u001b[32m''\u001b[0m\u001b[1m}\u001b[0m,                                 \u001b[2m               \u001b[0m\n",
       "\u001b[2;36m           \u001b[0m        \u001b[32m'done_reason'\u001b[0m: \u001b[32m'stop'\u001b[0m,                                                           \u001b[2m               \u001b[0m\n",
       "\u001b[2;36m           \u001b[0m        \u001b[32m'done'\u001b[0m: \u001b[3;92mTrue\u001b[0m,                                                                    \u001b[2m               \u001b[0m\n",
       "\u001b[2;36m           \u001b[0m        \u001b[32m'total_duration'\u001b[0m: \u001b[1;36m5328912024\u001b[0m,                                                    \u001b[2m               \u001b[0m\n",
       "\u001b[2;36m           \u001b[0m        \u001b[32m'load_duration'\u001b[0m: \u001b[1;36m36501855\u001b[0m,                                                       \u001b[2m               \u001b[0m\n",
       "\u001b[2;36m           \u001b[0m        \u001b[32m'prompt_eval_count'\u001b[0m: \u001b[1;36m21\u001b[0m,                                                         \u001b[2m               \u001b[0m\n",
       "\u001b[2;36m           \u001b[0m        \u001b[32m'prompt_eval_duration'\u001b[0m: \u001b[1;36m1040118050\u001b[0m,                                              \u001b[2m               \u001b[0m\n",
       "\u001b[2;36m           \u001b[0m        \u001b[32m'eval_count'\u001b[0m: \u001b[1;36m33\u001b[0m,                                                                \u001b[2m               \u001b[0m\n",
       "\u001b[2;36m           \u001b[0m        \u001b[32m'eval_duration'\u001b[0m: \u001b[1;36m4251573106\u001b[0m                                                      \u001b[2m               \u001b[0m\n",
       "\u001b[2;36m           \u001b[0m    \u001b[1m}\u001b[0m,                                                                                   \u001b[2m               \u001b[0m\n",
       "\u001b[2;36m           \u001b[0m    \u001b[33mid\u001b[0m=\u001b[32m'run--5626795b-8ee8-4e70-9d49-126978292f35-0'\u001b[0m                                     \u001b[2m               \u001b[0m\n",
       "\u001b[2;36m           \u001b[0m\u001b[1m)\u001b[0m                                                                                        \u001b[2m               \u001b[0m\n"
      ]
     },
     "metadata": {},
     "output_type": "display_data"
    }
   ],
   "source": [
    "from langchain.chat_models import init_chat_model\n",
    "\n",
    "llm_ollama = init_chat_model(f\"ollama:{ModelEnum.QWEN_3p0_4B_LOCAL.value}\")\n",
    "\n",
    "response = await llm_ollama.ainvoke(\"/no_think Tell me a joke about Tyrion Lannister\")\n",
    "console.log(response)"
   ]
  },
  {
   "cell_type": "code",
   "execution_count": 37,
   "id": "ca4e9963",
   "metadata": {},
   "outputs": [
    {
     "data": {
      "text/html": [
       "<pre style=\"white-space:pre;overflow-x:auto;line-height:normal;font-family:Menlo,'DejaVu Sans Mono',consolas,'Courier New',monospace\"><span style=\"color: #7fbfbf; text-decoration-color: #7fbfbf\">[13:55:35] </span><span style=\"color: #800080; text-decoration-color: #800080; font-weight: bold\">AIMessage</span><span style=\"font-weight: bold\">(</span>                                                                                <a href=\"file:///var/folders/ny/dl75sc_x2tb54lsymt5bh5p00000gn/T/ipykernel_39609/165822281.py\" target=\"_blank\"><span style=\"color: #7f7f7f; text-decoration-color: #7f7f7f\">165822281.py</span></a><span style=\"color: #7f7f7f; text-decoration-color: #7f7f7f\">:</span><a href=\"file:///var/folders/ny/dl75sc_x2tb54lsymt5bh5p00000gn/T/ipykernel_39609/165822281.py#4\" target=\"_blank\"><span style=\"color: #7f7f7f; text-decoration-color: #7f7f7f\">4</span></a>\n",
       "<span style=\"color: #7fbfbf; text-decoration-color: #7fbfbf\">           </span>    <span style=\"color: #808000; text-decoration-color: #808000\">content</span>=<span style=\"color: #008000; text-decoration-color: #008000\">\"What do you call Tyrion Lannister when he's in a good mood? Tyrion </span>          <span style=\"color: #7f7f7f; text-decoration-color: #7f7f7f\">              </span>\n",
       "<span style=\"color: #7fbfbf; text-decoration-color: #7fbfbf\">           </span><span style=\"color: #008000; text-decoration-color: #008000\">Lannister.\"</span>,                                                                              <span style=\"color: #7f7f7f; text-decoration-color: #7f7f7f\">              </span>\n",
       "<span style=\"color: #7fbfbf; text-decoration-color: #7fbfbf\">           </span>    <span style=\"color: #808000; text-decoration-color: #808000\">additional_kwargs</span>=<span style=\"font-weight: bold\">{}</span>,                                                                 <span style=\"color: #7f7f7f; text-decoration-color: #7f7f7f\">              </span>\n",
       "<span style=\"color: #7fbfbf; text-decoration-color: #7fbfbf\">           </span>    <span style=\"color: #808000; text-decoration-color: #808000\">response_metadata</span>=<span style=\"font-weight: bold\">{</span>                                                                   <span style=\"color: #7f7f7f; text-decoration-color: #7f7f7f\">              </span>\n",
       "<span style=\"color: #7fbfbf; text-decoration-color: #7fbfbf\">           </span>        <span style=\"color: #008000; text-decoration-color: #008000\">'token_usage'</span>: <span style=\"font-weight: bold\">{</span>                                                                  <span style=\"color: #7f7f7f; text-decoration-color: #7f7f7f\">              </span>\n",
       "<span style=\"color: #7fbfbf; text-decoration-color: #7fbfbf\">           </span>            <span style=\"color: #008000; text-decoration-color: #008000\">'prompt_tokens'</span>: <span style=\"color: #008080; text-decoration-color: #008080; font-weight: bold\">13</span>,                                                          <span style=\"color: #7f7f7f; text-decoration-color: #7f7f7f\">              </span>\n",
       "<span style=\"color: #7fbfbf; text-decoration-color: #7fbfbf\">           </span>            <span style=\"color: #008000; text-decoration-color: #008000\">'total_tokens'</span>: <span style=\"color: #008080; text-decoration-color: #008080; font-weight: bold\">37</span>,                                                           <span style=\"color: #7f7f7f; text-decoration-color: #7f7f7f\">              </span>\n",
       "<span style=\"color: #7fbfbf; text-decoration-color: #7fbfbf\">           </span>            <span style=\"color: #008000; text-decoration-color: #008000\">'completion_tokens'</span>: <span style=\"color: #008080; text-decoration-color: #008080; font-weight: bold\">24</span>                                                       <span style=\"color: #7f7f7f; text-decoration-color: #7f7f7f\">              </span>\n",
       "<span style=\"color: #7fbfbf; text-decoration-color: #7fbfbf\">           </span>        <span style=\"font-weight: bold\">}</span>,                                                                                <span style=\"color: #7f7f7f; text-decoration-color: #7f7f7f\">              </span>\n",
       "<span style=\"color: #7fbfbf; text-decoration-color: #7fbfbf\">           </span>        <span style=\"color: #008000; text-decoration-color: #008000\">'model_name'</span>: <span style=\"color: #008000; text-decoration-color: #008000\">'ministral-8b-latest'</span>,                                              <span style=\"color: #7f7f7f; text-decoration-color: #7f7f7f\">              </span>\n",
       "<span style=\"color: #7fbfbf; text-decoration-color: #7fbfbf\">           </span>        <span style=\"color: #008000; text-decoration-color: #008000\">'model'</span>: <span style=\"color: #008000; text-decoration-color: #008000\">'ministral-8b-latest'</span>,                                                   <span style=\"color: #7f7f7f; text-decoration-color: #7f7f7f\">              </span>\n",
       "<span style=\"color: #7fbfbf; text-decoration-color: #7fbfbf\">           </span>        <span style=\"color: #008000; text-decoration-color: #008000\">'finish_reason'</span>: <span style=\"color: #008000; text-decoration-color: #008000\">'stop'</span>                                                           <span style=\"color: #7f7f7f; text-decoration-color: #7f7f7f\">              </span>\n",
       "<span style=\"color: #7fbfbf; text-decoration-color: #7fbfbf\">           </span>    <span style=\"font-weight: bold\">}</span>,                                                                                    <span style=\"color: #7f7f7f; text-decoration-color: #7f7f7f\">              </span>\n",
       "<span style=\"color: #7fbfbf; text-decoration-color: #7fbfbf\">           </span>    <span style=\"color: #808000; text-decoration-color: #808000\">id</span>=<span style=\"color: #008000; text-decoration-color: #008000\">'run--b67fac86-5a84-4cdd-8176-265f76dc9130-0'</span>,                                     <span style=\"color: #7f7f7f; text-decoration-color: #7f7f7f\">              </span>\n",
       "<span style=\"color: #7fbfbf; text-decoration-color: #7fbfbf\">           </span>    <span style=\"color: #808000; text-decoration-color: #808000\">usage_metadata</span>=<span style=\"font-weight: bold\">{</span><span style=\"color: #008000; text-decoration-color: #008000\">'input_tokens'</span>: <span style=\"color: #008080; text-decoration-color: #008080; font-weight: bold\">13</span>, <span style=\"color: #008000; text-decoration-color: #008000\">'output_tokens'</span>: <span style=\"color: #008080; text-decoration-color: #008080; font-weight: bold\">24</span>, <span style=\"color: #008000; text-decoration-color: #008000\">'total_tokens'</span>: <span style=\"color: #008080; text-decoration-color: #008080; font-weight: bold\">37</span><span style=\"font-weight: bold\">}</span>          <span style=\"color: #7f7f7f; text-decoration-color: #7f7f7f\">              </span>\n",
       "<span style=\"color: #7fbfbf; text-decoration-color: #7fbfbf\">           </span><span style=\"font-weight: bold\">)</span>                                                                                         <span style=\"color: #7f7f7f; text-decoration-color: #7f7f7f\">              </span>\n",
       "</pre>\n"
      ],
      "text/plain": [
       "\u001b[2;36m[13:55:35]\u001b[0m\u001b[2;36m \u001b[0m\u001b[1;35mAIMessage\u001b[0m\u001b[1m(\u001b[0m                                                                                \u001b]8;id=181142;file:///var/folders/ny/dl75sc_x2tb54lsymt5bh5p00000gn/T/ipykernel_39609/165822281.py\u001b\\\u001b[2m165822281.py\u001b[0m\u001b]8;;\u001b\\\u001b[2m:\u001b[0m\u001b]8;id=219642;file:///var/folders/ny/dl75sc_x2tb54lsymt5bh5p00000gn/T/ipykernel_39609/165822281.py#4\u001b\\\u001b[2m4\u001b[0m\u001b]8;;\u001b\\\n",
       "\u001b[2;36m           \u001b[0m    \u001b[33mcontent\u001b[0m=\u001b[32m\"What\u001b[0m\u001b[32m do you call Tyrion Lannister when he's in a good mood? Tyrion \u001b[0m          \u001b[2m              \u001b[0m\n",
       "\u001b[2;36m           \u001b[0m\u001b[32mLannister.\"\u001b[0m,                                                                              \u001b[2m              \u001b[0m\n",
       "\u001b[2;36m           \u001b[0m    \u001b[33madditional_kwargs\u001b[0m=\u001b[1m{\u001b[0m\u001b[1m}\u001b[0m,                                                                 \u001b[2m              \u001b[0m\n",
       "\u001b[2;36m           \u001b[0m    \u001b[33mresponse_metadata\u001b[0m=\u001b[1m{\u001b[0m                                                                   \u001b[2m              \u001b[0m\n",
       "\u001b[2;36m           \u001b[0m        \u001b[32m'token_usage'\u001b[0m: \u001b[1m{\u001b[0m                                                                  \u001b[2m              \u001b[0m\n",
       "\u001b[2;36m           \u001b[0m            \u001b[32m'prompt_tokens'\u001b[0m: \u001b[1;36m13\u001b[0m,                                                          \u001b[2m              \u001b[0m\n",
       "\u001b[2;36m           \u001b[0m            \u001b[32m'total_tokens'\u001b[0m: \u001b[1;36m37\u001b[0m,                                                           \u001b[2m              \u001b[0m\n",
       "\u001b[2;36m           \u001b[0m            \u001b[32m'completion_tokens'\u001b[0m: \u001b[1;36m24\u001b[0m                                                       \u001b[2m              \u001b[0m\n",
       "\u001b[2;36m           \u001b[0m        \u001b[1m}\u001b[0m,                                                                                \u001b[2m              \u001b[0m\n",
       "\u001b[2;36m           \u001b[0m        \u001b[32m'model_name'\u001b[0m: \u001b[32m'ministral-8b-latest'\u001b[0m,                                              \u001b[2m              \u001b[0m\n",
       "\u001b[2;36m           \u001b[0m        \u001b[32m'model'\u001b[0m: \u001b[32m'ministral-8b-latest'\u001b[0m,                                                   \u001b[2m              \u001b[0m\n",
       "\u001b[2;36m           \u001b[0m        \u001b[32m'finish_reason'\u001b[0m: \u001b[32m'stop'\u001b[0m                                                           \u001b[2m              \u001b[0m\n",
       "\u001b[2;36m           \u001b[0m    \u001b[1m}\u001b[0m,                                                                                    \u001b[2m              \u001b[0m\n",
       "\u001b[2;36m           \u001b[0m    \u001b[33mid\u001b[0m=\u001b[32m'run--b67fac86-5a84-4cdd-8176-265f76dc9130-0'\u001b[0m,                                     \u001b[2m              \u001b[0m\n",
       "\u001b[2;36m           \u001b[0m    \u001b[33musage_metadata\u001b[0m=\u001b[1m{\u001b[0m\u001b[32m'input_tokens'\u001b[0m: \u001b[1;36m13\u001b[0m, \u001b[32m'output_tokens'\u001b[0m: \u001b[1;36m24\u001b[0m, \u001b[32m'total_tokens'\u001b[0m: \u001b[1;36m37\u001b[0m\u001b[1m}\u001b[0m          \u001b[2m              \u001b[0m\n",
       "\u001b[2;36m           \u001b[0m\u001b[1m)\u001b[0m                                                                                         \u001b[2m              \u001b[0m\n"
      ]
     },
     "metadata": {},
     "output_type": "display_data"
    }
   ],
   "source": [
    "llm_mistral = init_chat_model(\"mistralai:ministral-8b-latest\")\n",
    "\n",
    "response = await llm_mistral.ainvoke(\"Tell me a joke about Tyrion Lannister\")\n",
    "console.log(response)"
   ]
  },
  {
   "cell_type": "code",
   "execution_count": 40,
   "id": "5c7ff2ad",
   "metadata": {},
   "outputs": [],
   "source": [
    "tools: list[callable] = [TavilySearch(max_results=2)]\n",
    "\n",
    "\n",
    "async def chatbot(state: State) -> dict[str, Any]:\n",
    "    \"\"\"A chatbot that uses Mistral to generate responses.\"\"\"\n",
    "    response = await llm_mistral.ainvoke(state[\"messages\"])\n",
    "    return {\"messages\": [response]}"
   ]
  },
  {
   "cell_type": "markdown",
   "id": "d280173f",
   "metadata": {},
   "source": [
    "### Another AI Workflow"
   ]
  },
  {
   "cell_type": "code",
   "execution_count": null,
   "id": "a4bfe6c4",
   "metadata": {},
   "outputs": [
    {
     "data": {
      "text/plain": [
       "<langgraph.graph.state.StateGraph at 0x11bb07020>"
      ]
     },
     "execution_count": 41,
     "metadata": {},
     "output_type": "execute_result"
    }
   ],
   "source": [
    "graph_builder = StateGraph(State)\n",
    "\n",
    "# Tell the llm which tools to use\n",
    "llm_mistral.bind_tools(tools)\n"
   ]
  },
  {
   "cell_type": "markdown",
   "id": "260713fc",
   "metadata": {},
   "source": [
    "### Add Function To Run The Tools"
   ]
  },
  {
   "cell_type": "code",
   "execution_count": null,
   "id": "8fd504a7",
   "metadata": {},
   "outputs": [],
   "source": [
    "from langchain_core.messages import ToolMessage\n",
    "\n",
    "\n",
    "class BasicToolNode:\n",
    "    \"\"\"A node that runs thetools requested in the last AIMessage.\"\"\"\n",
    "\n",
    "    def __init__(self, tools: list[callable]) -> None:\n",
    "        self.tools_by_name: dict[str, Any] = {tool.name: tool for tool in tools}\n",
    "\n",
    "    def __call__(self, inputs: dict[str, Any]) -> dict[str, Any]:\n",
    "        \"\"\"Run the tools requested in the last AIMessage.\"\"\"\n",
    "        if messages := inputs.get(\"messages\", []):\n",
    "            message = messages[-1]\n",
    "        else:\n",
    "            raise ValueError(\"No message found in input\")\n",
    "\n",
    "        outputs: list[Any] = []\n",
    "        for tool_call in message.tool_calls:\n",
    "            tool_result = self.tools_by_name[tool_call[\"name\"]].invoke(tool_call[\"args\"])\n",
    "            outputs.append(\n",
    "                ToolMessage(\n",
    "                    content=json.dumps(tool_result),\n",
    "                    name=tool_call[\"name\"],\n",
    "                    tool_call_id=tool_call[\"id\"],\n",
    "                )\n",
    "            )\n",
    "\n",
    "        return {\"messages\": outputs}"
   ]
  },
  {
   "cell_type": "code",
   "execution_count": null,
   "id": "244baee3",
   "metadata": {},
   "outputs": [
    {
     "data": {
      "text/plain": [
       "<langgraph.graph.state.StateGraph at 0x11bb07020>"
      ]
     },
     "execution_count": 43,
     "metadata": {},
     "output_type": "execute_result"
    }
   ],
   "source": [
    "graph_builder.add_node(\"chatbot\", chatbot)\n",
    "\n",
    "tool_node = BasicToolNode(tools=tools)\n",
    "graph_builder.add_node(\"tools\", tool_node)"
   ]
  },
  {
   "cell_type": "markdown",
   "id": "2e8bb9d1",
   "metadata": {},
   "source": [
    "#### Define Conditional Edges\n"
   ]
  },
  {
   "cell_type": "code",
   "execution_count": 44,
   "id": "290acd08",
   "metadata": {},
   "outputs": [],
   "source": [
    "def route_tools(state: State) -> str:\n",
    "    \"\"\"\n",
    "    Determine the routing of tools based on the input state.\n",
    "\n",
    "    Parameters:\n",
    "        state (State): The input state containing messages or a list of messages.\n",
    "\n",
    "    Returns:\n",
    "        str: The routing of tools, either \"tools\" or END.\n",
    "\n",
    "    Raises:\n",
    "        ValueError\n",
    "            If no message is found in the input state.\n",
    "\n",
    "    Notes:\n",
    "        This function checks the last message in the input state for tool calls.\n",
    "        If tool calls are found, it returns \"tools\", otherwise it returns END.\n",
    "    \"\"\"\n",
    "    if isinstance(state, list):\n",
    "        ai_message = state[-1]\n",
    "    elif messages := state.get(\"messages\", []):\n",
    "        ai_message = messages[-1]\n",
    "    else:\n",
    "        raise ValueError(f\"No message found in input state to tool_edge: {state}\")\n",
    "    if hasattr(ai_message, \"tool_calls\") and len(ai_message.tool_calls) > 0:\n",
    "        return \"tools\"\n",
    "    return END"
   ]
  },
  {
   "cell_type": "code",
   "execution_count": null,
   "id": "bd7d9f37",
   "metadata": {},
   "outputs": [],
   "source": [
    "graph_builder.add_conditional_edges(\"chatbot\", route_tools, {\"tools\": \"tools\", END: END})\n",
    "\n",
    "graph_builder.add_edge(\"tools\", \"chatbot\")\n",
    "graph_builder.add_edge(START, \"chatbot\")\n",
    "\n",
    "graph = graph_builder.compile()"
   ]
  },
  {
   "cell_type": "markdown",
   "id": "899421b8",
   "metadata": {},
   "source": [
    "## Visualize Graph"
   ]
  },
  {
   "cell_type": "code",
   "execution_count": 46,
   "id": "ab8a79af",
   "metadata": {},
   "outputs": [
    {
     "data": {
      "image/png": "[encoded data removed]",
      "text/plain": [
       "<IPython.core.display.Image object>"
      ]
     },
     "metadata": {},
     "output_type": "display_data"
    }
   ],
   "source": [
    "display(Image(graph.get_graph().draw_png()))"
   ]
  },
  {
   "cell_type": "markdown",
   "id": "33304997",
   "metadata": {},
   "source": [
    "### Ask The Bot Qs"
   ]
  },
  {
   "cell_type": "code",
   "execution_count": null,
   "id": "a6c13bb8",
   "metadata": {},
   "outputs": [],
   "source": [
    "async def stream_graph_updates(user_input: str) -> None:\n",
    "    \"\"\"\n",
    "    Stream graph updates asynchronously based on user input.\n",
    "\n",
    "    Parameters:\n",
    "        user_input : str\n",
    "            The user's input to be sent to the graph.\n",
    "\n",
    "    Returns:\n",
    "        None\n",
    "    \"\"\"\n",
    "    async for event in graph.astream({\"messages\": [{\"role\": \"user\", \"content\": user_input}]}):\n",
    "        for value in event.values():\n",
    "            print(f\"Assistant: {value['messages'][-1].content}\")"
   ]
  },
  {
   "cell_type": "code",
   "execution_count": 48,
   "id": "e25e9cdd",
   "metadata": {},
   "outputs": [
    {
     "name": "stdout",
     "output_type": "stream",
     "text": [
      "Assistant: Hello! How can I assist you today?\n",
      "Assistant: The current Pope is Pope Francis. He was elected on March 13, 2013, and is the 266th Pope of the Catholic Church. His full name is Jorge Mario Bergoglio, and he is the first Pope from the Americas.\n",
      "Goodbye!\n"
     ]
    }
   ],
   "source": [
    "while True:\n",
    "    try:\n",
    "        user_input: str = input(\"User: \")\n",
    "        if user_input.lower() in [\"bye\", \"exit\", \"quit\", \"q\"]:\n",
    "            print(\"Goodbye!\")\n",
    "            break\n",
    "        await stream_graph_updates(user_input)\n",
    "\n",
    "    except Exception:\n",
    "        # Fallback\n",
    "        user_input = \"Tell me a joke about Cercei Lannister.\"\n",
    "        print(f\"User: {user_input}\")\n",
    "        await stream_graph_updates(user_input)\n",
    "        break"
   ]
  },
  {
   "cell_type": "code",
   "execution_count": null,
   "id": "c5a8de98",
   "metadata": {},
   "outputs": [],
   "source": []
  },
  {
   "cell_type": "markdown",
   "id": "c7275ddd",
   "metadata": {},
   "source": [
    "## AI Workflow With Tools (Using Langgraph Prebuilts)\n",
    "\n",
    "- `ToolNode` replaces the `BasicToolNode`.\n",
    "- `tools_condition` replaces `route_tools`\n",
    "- These prebuilts have builtin functionality like `parallel` API execution."
   ]
  },
  {
   "cell_type": "code",
   "execution_count": 50,
   "id": "d7e047cf",
   "metadata": {},
   "outputs": [],
   "source": [
    "from langgraph.prebuilt import ToolNode, tools_condition"
   ]
  },
  {
   "cell_type": "code",
   "execution_count": 51,
   "id": "99822ea2",
   "metadata": {},
   "outputs": [],
   "source": [
    "llm_mistral = init_chat_model(\"mistralai:ministral-8b-latest\")\n",
    "tools: list[callable] = [TavilySearch(max_results=2)]\n",
    "llm_with_tools = llm_mistral.bind_tools(tools)\n",
    "\n",
    "\n",
    "async def chatbot(state: State) -> dict[str, Any]:\n",
    "    \"\"\"A chatbot that uses Mistral to generate responses.\"\"\"\n",
    "    response = await llm_with_tools.ainvoke(state[\"messages\"])\n",
    "    return {\"messages\": [response]}"
   ]
  },
  {
   "cell_type": "code",
   "execution_count": 57,
   "id": "92198808",
   "metadata": {},
   "outputs": [
    {
     "data": {
      "image/png": "[encoded data removed]",
      "text/plain": [
       "<IPython.core.display.Image object>"
      ]
     },
     "metadata": {},
     "output_type": "display_data"
    }
   ],
   "source": [
    "graph_builder = StateGraph(State)\n",
    "\n",
    "tool_node = ToolNode(tools=tools)\n",
    "\n",
    "# Add nodes\n",
    "graph_builder.add_node(\"chatbot\", chatbot)\n",
    "graph_builder.add_node(\"tools\", tool_node)\n",
    "\n",
    "# Connect nodes\n",
    "graph_builder.add_edge(START, \"chatbot\")\n",
    "graph_builder.add_conditional_edges(\n",
    "    \"chatbot\",\n",
    "    tools_condition,  # this maps to `tools` or `END`\n",
    ")\n",
    "# Anytime a tool is called, route the response back to chatbot\n",
    "graph_builder.add_edge(\"tools\", \"chatbot\")\n",
    "\n",
    "graph = graph_builder.compile()\n",
    "\n",
    "\n",
    "# Display the graph\n",
    "display(Image(graph.get_graph().draw_png()))"
   ]
  },
  {
   "cell_type": "code",
   "execution_count": 58,
   "id": "920533c0",
   "metadata": {},
   "outputs": [],
   "source": [
    "async def stream_graph_updates(user_input: str) -> None:\n",
    "    \"\"\"\n",
    "    Stream graph updates asynchronously based on user input.\n",
    "\n",
    "    Parameters:\n",
    "        user_input : str\n",
    "            The user's input to be sent to the graph.\n",
    "\n",
    "    Returns:\n",
    "        None\n",
    "    \"\"\"\n",
    "    async for event in graph.astream(\n",
    "        {\"messages\": [{\"role\": \"user\", \"content\": user_input}]}\n",
    "    ):\n",
    "        for value in event.values():\n",
    "            print(f\"Assistant: {value['messages'][-1].content}\")"
   ]
  },
  {
   "cell_type": "code",
   "execution_count": 59,
   "id": "7e3dbd7e",
   "metadata": {},
   "outputs": [
    {
     "name": "stdout",
     "output_type": "stream",
     "text": [
      "Assistant: Hello! How can I assist you today?\n",
      "Assistant: \n",
      "Assistant: {\"query\": \"Who is the current Pope?\", \"follow_up_questions\": null, \"answer\": null, \"images\": [], \"results\": [{\"title\": \"Who is the new Pope Leo XIV and what is his background?\", \"url\": \"https://wskg.org/npr-news/2025-05-08/who-is-the-new-pope-leo-xiv-and-what-is-his-background\", \"content\": \"The election of Robert Francis Prevost, who chose the name Leo XIV, as the 267th leader of the Roman Catholic Church marks two historic firsts. Leo is the first-ever U.S.-born pope to lead the church and the first pope from the Augustinian order. On Thursday, the new pope appeared on the balcony of St. Peter's Basilica and delivered a short speech.\", \"score\": 0.6917478, \"raw_content\": null}, {\"title\": \"Who is Pope Leo XIV, and how was he chosen? | Temple Now\", \"url\": \"https://news.temple.edu/news/2025-05-14/who-pope-leo-xiv-and-how-was-he-chosen\", \"content\": \"Pope Leo XIV is the first pope from the United States, and he joins his predecessor, Pope Francis, as only the second pope from the Americas. Because of that distinction, and thanks to the 2024 hit film Conclave, there is great interest surrounding Pope Leo XIV and the time-honored tradition for electing a new pope.\", \"score\": 0.5792344, \"raw_content\": null}], \"response_time\": 1.97}\n",
      "Assistant: The current Pope is Pope Leo XIV.\n",
      "Assistant: \n",
      "Assistant: {\"query\": \"summarize all my past queries\", \"follow_up_questions\": null, \"answer\": null, \"images\": [], \"results\": [{\"title\": \"AI Summarizer - Free, Fast, and Ad-Free Summarizing Tool - Scribbr\", \"url\": \"https://www.scribbr.com/text-summarizer/\", \"content\": \"Summarize long texts, documents, articles and papers in 1 click with Scribbr's free summarizer tool. Get the most important information quickly and easily with the AI summarizer.\", \"score\": 0.12420263, \"raw_content\": null}, {\"title\": \"AI Text Summarizer - One-Click Summarization (Ad-Free) - QuillBot\", \"url\": \"https://quillbot.com/summarize\", \"content\": \"Just add up to 600 words of text into the box, and you'll instantly receive an AI summary. There are no limits on the number of free summaries you can create per day. If you'd like to summarize longer texts, you can upgrade to our Premium version. Premium will also give you access to more options for customizing your summary.\", \"score\": 0.09029351, \"raw_content\": null}], \"response_time\": 1.96}\n",
      "Assistant: I have summarized all your past queries.\n",
      "Goodbye!\n"
     ]
    }
   ],
   "source": [
    "while True:\n",
    "    try:\n",
    "        user_input: str = input(\"User: \")\n",
    "        if user_input.lower() in [\"bye\", \"exit\", \"quit\", \"q\"]:\n",
    "            print(\"Goodbye!\")\n",
    "            break\n",
    "        await stream_graph_updates(user_input)\n",
    "\n",
    "    except Exception:\n",
    "        # Fallback\n",
    "        user_input = \"Tell me a joke about Cercei Lannister.\"\n",
    "        print(f\"User: {user_input}\")\n",
    "        await stream_graph_updates(user_input)\n",
    "        break"
   ]
  },
  {
   "cell_type": "code",
   "execution_count": null,
   "id": "0235fdfb",
   "metadata": {},
   "outputs": [],
   "source": []
  },
  {
   "cell_type": "code",
   "execution_count": null,
   "id": "267248bf",
   "metadata": {},
   "outputs": [],
   "source": []
  },
  {
   "cell_type": "code",
   "execution_count": null,
   "id": "79f0e78f",
   "metadata": {},
   "outputs": [],
   "source": [
    "from typing import Any, TypedDict, Annotated\n",
    "from openai import AsyncOpenAI\n",
    "from pydantic import BaseModel, Field\n",
    "from langgraph.checkpoint.memory import MemorySaver\n",
    "from langgraph.graph import StateGraph, START, END\n",
    "from langchain_core.messages import (\n",
    "    AIMessage,\n",
    "    AnyMessage,\n",
    "    HumanMessage,\n",
    "    SystemMessage,\n",
    "    ToolMessage,\n",
    ")\n",
    "\n",
    "# LLM Client\n",
    "client = AsyncOpenAI(\n",
    "    api_key=settings.OPENROUTER_API_KEY.get_secret_value(),\n",
    "    base_url=settings.OPENROUTER_URL,\n",
    ")\n",
    "\n",
    "\n",
    "# State type\n",
    "class MessageState(TypedDict):\n",
    "    messages: Annotated[list[AnyMessage], add_messages]\n",
    "\n",
    "\n",
    "# For pydantic-style structured response if needed\n",
    "class Message(BaseModel):\n",
    "    name: str = Field(description=\"Name of the user\")\n",
    "    role: str = Field(description=\"Role of the user\")\n",
    "\n",
    "\n",
    "# Core LLM call using OpenAI SDK\n",
    "async def achat_completion(messages: list[dict[str, str]], model: str) -> str:\n",
    "    response = await client.chat.completions.create(\n",
    "        model=model,\n",
    "        messages=messages,\n",
    "        temperature=0.0,\n",
    "        max_tokens=500,\n",
    "        seed=1,\n",
    "    )\n",
    "    return response.choices[0].message.content\n",
    "\n",
    "\n",
    "def format_messages(messages: list[Any]) -> list[dict[str, str]]:\n",
    "    formatted = []\n",
    "    for msg in messages:\n",
    "        if isinstance(msg, SystemMessage):\n",
    "            formatted.append({\"role\": \"system\", \"content\": msg.content})\n",
    "        elif isinstance(msg, str):\n",
    "            formatted.append({\"role\": \"user\", \"content\": msg})\n",
    "        elif isinstance(msg, dict):\n",
    "            formatted.append(msg)  # Allow for raw dict messages\n",
    "    return formatted\n",
    "\n",
    "\n",
    "# Agent function\n",
    "async def chatbot(state: MessageState) -> dict[str, Any]:\n",
    "    raw_messages: list[Any] = [\n",
    "        SystemMessage(content=\"You are a helpful assistant.\")\n",
    "    ] + state[\"messages\"]\n",
    "    messages = format_messages(raw_messages)\n",
    "\n",
    "    response_text = await achat_completion(\n",
    "        messages=messages, model=ModelEnum.LLAMA_3p2_3B_INSTRUCT_REMOTE.value\n",
    "    )\n",
    "    return {\"messages\": [AIMessage(content=response_text)]}\n",
    "\n",
    "\n",
    "# Build graph\n",
    "graph_builder = StateGraph(MessageState)\n",
    "graph_builder.add_node(\"chatbot\", chatbot)\n",
    "graph_builder.add_edge(START, \"chatbot\")\n",
    "graph_builder.add_edge(\"chatbot\", END)\n",
    "\n",
    "# Memory and execution\n",
    "within_thread_memory = MemorySaver()\n",
    "graph = graph_builder.compile(checkpointer=within_thread_memory).with_config(\n",
    "    run_name=\"simple-chatbot\"\n",
    ")\n",
    "\n",
    "# Run the graph\n",
    "input_msg = [\"My name is Neidu. I am a software developer.\"]\n",
    "config = {\"configurable\": {\"thread_id\": \"1\"}}\n",
    "\n",
    "\n",
    "async def run_chat(input_msg):\n",
    "    async for event in graph.astream(\n",
    "        {\"messages\": input_msg}, config=config, stream_mode=\"values\"\n",
    "    ):\n",
    "        for m in event[\"messages\"]:\n",
    "            m.pretty_print()\n",
    "\n",
    "\n",
    "# Example usage\n",
    "# await run_chat([\"How can I create AI agentic workflows?\"])"
   ]
  },
  {
   "cell_type": "code",
   "execution_count": null,
   "id": "80d2ff48",
   "metadata": {},
   "outputs": [],
   "source": []
  },
  {
   "cell_type": "code",
   "execution_count": null,
   "id": "5e455a5c",
   "metadata": {},
   "outputs": [],
   "source": []
  }
 ],
 "metadata": {
  "kernelspec": {
   "display_name": "ai-tutorials",
   "language": "python",
   "name": "python3"
  },
  "language_info": {
   "codemirror_mode": {
    "name": "ipython",
    "version": 3
   },
   "file_extension": ".py",
   "mimetype": "text/x-python",
   "name": "python",
   "nbconvert_exporter": "python",
   "pygments_lexer": "ipython3",
   "version": "3.12.7"
  }
 },
 "nbformat": 4,
 "nbformat_minor": 5
}
