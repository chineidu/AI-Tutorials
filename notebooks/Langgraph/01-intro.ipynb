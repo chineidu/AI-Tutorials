{
 "cells": [
  {
   "cell_type": "code",
   "execution_count": 1,
   "id": "0e958c70",
   "metadata": {},
   "outputs": [],
   "source": [
    "# Built-in library\n",
    "import asyncio\n",
    "import json\n",
    "import logging\n",
    "import re\n",
    "import warnings\n",
    "from pathlib import Path\n",
    "from pprint import pprint\n",
    "from typing import Any, Literal, Optional, Union\n",
    "\n",
    "# Standard imports\n",
    "import nest_asyncio\n",
    "import numpy as np\n",
    "import numpy.typing as npt\n",
    "import pandas as pd\n",
    "import polars as pl\n",
    "from rich.console import Console\n",
    "from rich.theme import Theme\n",
    "\n",
    "custom_theme = Theme(\n",
    "    {\n",
    "        \"white\": \"#FFFFFF\",  # Bright white\n",
    "        \"info\": \"#00FF00\",  # Bright green\n",
    "        \"warning\": \"#FFD700\",  # Bright gold\n",
    "        \"error\": \"#FF1493\",  # Deep pink\n",
    "        \"success\": \"#00FFFF\",  # Cyan\n",
    "        \"highlight\": \"#FF4500\",  # Orange-red\n",
    "    }\n",
    ")\n",
    "console = Console(theme=custom_theme)\n",
    "\n",
    "# Visualization\n",
    "# import matplotlib.pyplot as pltife\n",
    "\n",
    "# NumPy settings\n",
    "np.set_printoptions(precision=4)\n",
    "\n",
    "# Pandas settings\n",
    "pd.options.display.max_rows = 1_000\n",
    "pd.options.display.max_columns = 1_000\n",
    "pd.options.display.max_colwidth = 600\n",
    "\n",
    "# Polars settings\n",
    "pl.Config.set_fmt_str_lengths(1_000)\n",
    "pl.Config.set_tbl_cols(n=1_000)\n",
    "\n",
    "warnings.filterwarnings(\"ignore\")\n",
    "\n",
    "# Black code formatter (Optional)\n",
    "%load_ext lab_black\n",
    "\n",
    "# auto reload imports\n",
    "%load_ext autoreload\n",
    "%autoreload 2"
   ]
  },
  {
   "cell_type": "code",
   "execution_count": 2,
   "metadata": {},
   "outputs": [],
   "source": [
    "def go_up_from_current_directory(*, go_up: int = 1) -> None:\n",
    "    \"\"\"This is used to up a number of directories.\n",
    "\n",
    "    Params:\n",
    "    -------\n",
    "    go_up: int, default=1\n",
    "        This indicates the number of times to go back up from the current directory.\n",
    "\n",
    "    Returns:\n",
    "    --------\n",
    "    None\n",
    "    \"\"\"\n",
    "    import os\n",
    "    import sys\n",
    "\n",
    "    CONST: str = \"../\"\n",
    "    NUM: str = CONST * go_up\n",
    "\n",
    "    # Goto the previous directory\n",
    "    prev_directory = os.path.join(os.path.dirname(__name__), NUM)\n",
    "    # Get the 'absolute path' of the previous directory\n",
    "    abs_path_prev_directory = os.path.abspath(prev_directory)\n",
    "\n",
    "    # Add the path to the System paths\n",
    "    sys.path.insert(0, abs_path_prev_directory)\n",
    "    print(abs_path_prev_directory)"
   ]
  },
  {
   "cell_type": "code",
   "execution_count": 3,
   "metadata": {},
   "outputs": [
    {
     "name": "stdout",
     "output_type": "stream",
     "text": [
      "/Users/neidu/Desktop/Projects/Personal/My_Projects/AI-Tutorials\n"
     ]
    }
   ],
   "source": [
    "go_up_from_current_directory(go_up=2)\n",
    "from settings import refresh_settings  # noqa: E402\n",
    "\n",
    "settings = refresh_settings()"
   ]
  },
  {
   "cell_type": "code",
   "execution_count": 4,
   "id": "d7d36425",
   "metadata": {},
   "outputs": [],
   "source": [
    "from instructor import AsyncInstructor\n",
    "\n",
    "from schemas import GeneralResponse, ModelEnum\n",
    "from utilities.client_utils import get_client"
   ]
  },
  {
   "cell_type": "code",
   "execution_count": 5,
   "metadata": {},
   "outputs": [
    {
     "name": "stdout",
     "output_type": "stream",
     "text": [
      "Using Ollama\n",
      "Using Remote\n"
     ]
    }
   ],
   "source": [
    "local_client: AsyncInstructor = get_client(is_remote=False)\n",
    "remote_client: AsyncInstructor = get_client(is_remote=True)"
   ]
  },
  {
   "cell_type": "code",
   "execution_count": 6,
   "metadata": {},
   "outputs": [
    {
     "data": {
      "text/html": [
       "<pre style=\"white-space:pre;overflow-x:auto;line-height:normal;font-family:Menlo,'DejaVu Sans Mono',consolas,'Courier New',monospace\"><span style=\"color: #7fbfbf; text-decoration-color: #7fbfbf\">[19:29:28] </span>San Francisco is known for its iconic Golden Gate Bridge, vibrant cultural scene, and   <a href=\"file:///var/folders/ny/dl75sc_x2tb54lsymt5bh5p00000gn/T/ipykernel_80474/2829152137.py\" target=\"_blank\"><span style=\"color: #7f7f7f; text-decoration-color: #7f7f7f\">2829152137.py</span></a><span style=\"color: #7f7f7f; text-decoration-color: #7f7f7f\">:</span><a href=\"file:///var/folders/ny/dl75sc_x2tb54lsymt5bh5p00000gn/T/ipykernel_80474/2829152137.py#22\" target=\"_blank\"><span style=\"color: #7f7f7f; text-decoration-color: #7f7f7f\">22</span></a>\n",
       "<span style=\"color: #7fbfbf; text-decoration-color: #7fbfbf\">           </span>the famous Alcatraz Island, which was a federal prison and now a tourist attraction.    <span style=\"color: #7f7f7f; text-decoration-color: #7f7f7f\">                </span>\n",
       "</pre>\n"
      ],
      "text/plain": [
       "\u001b[2;36m[19:29:28]\u001b[0m\u001b[2;36m \u001b[0mSan Francisco is known for its iconic Golden Gate Bridge, vibrant cultural scene, and   \u001b]8;id=289828;file:///var/folders/ny/dl75sc_x2tb54lsymt5bh5p00000gn/T/ipykernel_80474/2829152137.py\u001b\\\u001b[2m2829152137.py\u001b[0m\u001b]8;;\u001b\\\u001b[2m:\u001b[0m\u001b]8;id=959157;file:///var/folders/ny/dl75sc_x2tb54lsymt5bh5p00000gn/T/ipykernel_80474/2829152137.py#22\u001b\\\u001b[2m22\u001b[0m\u001b]8;;\u001b\\\n",
       "\u001b[2;36m           \u001b[0mthe famous Alcatraz Island, which was a federal prison and now a tourist attraction.    \u001b[2m                \u001b[0m\n"
      ]
     },
     "metadata": {},
     "output_type": "display_data"
    }
   ],
   "source": [
    "messages = [\n",
    "    {\n",
    "        \"role\": \"assistant\",\n",
    "        \"content\": \"/no_think You're an expert AI assstance that replies to questions. \"\n",
    "        \"Your responses are returned in a string format only. \",\n",
    "    },\n",
    "    {\n",
    "        \"role\": \"user\",\n",
    "        \"content\": \"Tell me briefly something unique about SF. \",\n",
    "    },\n",
    "]\n",
    "\n",
    "response: GeneralResponse = await local_client.chat.completions.create(\n",
    "    messages=messages,\n",
    "    response_model=GeneralResponse,\n",
    "    model=ModelEnum.BASE_MODEL_LOCAL_2.value,\n",
    "    max_tokens=700,\n",
    "    max_retries=3,\n",
    "    temperature=0.0,\n",
    "    seed=0,\n",
    ")\n",
    "console.log(response.content)"
   ]
  },
  {
   "cell_type": "code",
   "execution_count": 7,
   "metadata": {},
   "outputs": [
    {
     "data": {
      "text/html": [
       "<pre style=\"white-space:pre;overflow-x:auto;line-height:normal;font-family:Menlo,'DejaVu Sans Mono',consolas,'Courier New',monospace\"><span style=\"color: #7fbfbf; text-decoration-color: #7fbfbf\">[19:29:31] </span>San Francisco, known for its steep hills, fog, and diverse culture, is home to iconic    <a href=\"file:///var/folders/ny/dl75sc_x2tb54lsymt5bh5p00000gn/T/ipykernel_80474/318393952.py\" target=\"_blank\"><span style=\"color: #7f7f7f; text-decoration-color: #7f7f7f\">318393952.py</span></a><span style=\"color: #7f7f7f; text-decoration-color: #7f7f7f\">:</span><a href=\"file:///var/folders/ny/dl75sc_x2tb54lsymt5bh5p00000gn/T/ipykernel_80474/318393952.py#10\" target=\"_blank\"><span style=\"color: #7f7f7f; text-decoration-color: #7f7f7f\">10</span></a>\n",
       "<span style=\"color: #7fbfbf; text-decoration-color: #7fbfbf\">           </span>landmarks like the Golden Gate Bridge and Alcatraz Island. A unique aspect of SF is its  <span style=\"color: #7f7f7f; text-decoration-color: #7f7f7f\">               </span>\n",
       "<span style=\"color: #7fbfbf; text-decoration-color: #7fbfbf\">           </span>vibrant tech industry, particularly in the Silicon Valley area, which has made it a      <span style=\"color: #7f7f7f; text-decoration-color: #7f7f7f\">               </span>\n",
       "<span style=\"color: #7fbfbf; text-decoration-color: #7fbfbf\">           </span>global hub for innovation and entrepreneurship.                                          <span style=\"color: #7f7f7f; text-decoration-color: #7f7f7f\">               </span>\n",
       "</pre>\n"
      ],
      "text/plain": [
       "\u001b[2;36m[19:29:31]\u001b[0m\u001b[2;36m \u001b[0mSan Francisco, known for its steep hills, fog, and diverse culture, is home to iconic    \u001b]8;id=969864;file:///var/folders/ny/dl75sc_x2tb54lsymt5bh5p00000gn/T/ipykernel_80474/318393952.py\u001b\\\u001b[2m318393952.py\u001b[0m\u001b]8;;\u001b\\\u001b[2m:\u001b[0m\u001b]8;id=363313;file:///var/folders/ny/dl75sc_x2tb54lsymt5bh5p00000gn/T/ipykernel_80474/318393952.py#10\u001b\\\u001b[2m10\u001b[0m\u001b]8;;\u001b\\\n",
       "\u001b[2;36m           \u001b[0mlandmarks like the Golden Gate Bridge and Alcatraz Island. A unique aspect of SF is its  \u001b[2m               \u001b[0m\n",
       "\u001b[2;36m           \u001b[0mvibrant tech industry, particularly in the Silicon Valley area, which has made it a      \u001b[2m               \u001b[0m\n",
       "\u001b[2;36m           \u001b[0mglobal hub for innovation and entrepreneurship.                                          \u001b[2m               \u001b[0m\n"
      ]
     },
     "metadata": {},
     "output_type": "display_data"
    }
   ],
   "source": [
    "response: GeneralResponse = await remote_client.chat.completions.create(\n",
    "    messages=messages,\n",
    "    response_model=GeneralResponse,\n",
    "    model=ModelEnum.BASE_REMOTE_MODEL_1_7B.value,\n",
    "    max_tokens=700,\n",
    "    max_retries=3,\n",
    "    temperature=0.0,\n",
    "    seed=0,\n",
    ")\n",
    "console.log(response.content)"
   ]
  },
  {
   "cell_type": "code",
   "execution_count": 8,
   "id": "9f2255d8",
   "metadata": {},
   "outputs": [],
   "source": [
    "async def llm_response(\n",
    "    message: str, client: AsyncInstructor, model: str, max_tokens: int = 1_000\n",
    ") -> str:\n",
    "    \"\"\"\n",
    "    Generate an AI response using the provided message and model parameters.\n",
    "\n",
    "    Parameters\n",
    "    ----------\n",
    "    message : str\n",
    "        The input message to send to the AI model.\n",
    "    client : AsyncInstructor\n",
    "        The async client instance for making API calls.\n",
    "    model : str\n",
    "        The name or identifier of the AI model to use.\n",
    "    max_tokens : int, optional\n",
    "        Maximum number of tokens in the response, by default 1,000.\n",
    "\n",
    "    Returns\n",
    "    -------\n",
    "    str\n",
    "        The generated AI response content.\n",
    "    \"\"\"\n",
    "    response: GeneralResponse = await client.chat.completions.create(\n",
    "        messages=[\n",
    "            {\n",
    "                \"role\": \"assistant\",\n",
    "                \"content\": \"<prompt>/no_think You're an expert AI assstance that \"\n",
    "                \"replies to questions. Your responses are returned in a string format only. \"\n",
    "                \"e.g. '</your_answer_here>' </prompt>\",\n",
    "            },\n",
    "            {\n",
    "                \"role\": \"user\",\n",
    "                \"content\": f\"<user>{message}</user>\",\n",
    "            },\n",
    "        ],\n",
    "        response_model=GeneralResponse,\n",
    "        model=model,\n",
    "        max_tokens=max_tokens,\n",
    "        max_retries=3,\n",
    "        temperature=0.0,\n",
    "        seed=0,\n",
    "    )\n",
    "\n",
    "    return response.content"
   ]
  },
  {
   "cell_type": "code",
   "execution_count": 9,
   "id": "2771205c",
   "metadata": {},
   "outputs": [
    {
     "data": {
      "text/plain": [
       "\"Why don't Lannisters ever get cold? Because they always wear multiple layers of 'I'm not a threat'!\""
      ]
     },
     "execution_count": 9,
     "metadata": {},
     "output_type": "execute_result"
    }
   ],
   "source": [
    "await llm_response(\n",
    "    message=\"Tell me a joke about Cercei Lannister.\",\n",
    "    client=local_client,\n",
    "    model=ModelEnum.BASE_MODEL_LOCAL_2.value,\n",
    ")"
   ]
  },
  {
   "cell_type": "markdown",
   "id": "24db9fcb",
   "metadata": {},
   "source": [
    "<hr>\n",
    "\n",
    "### StateGraph"
   ]
  },
  {
   "cell_type": "code",
   "execution_count": 10,
   "id": "8c595484",
   "metadata": {},
   "outputs": [],
   "source": [
    "from typing import Annotated, TypedDict\n",
    "\n",
    "from langgraph.graph import START, StateGraph\n",
    "from langgraph.graph.message import add_messages"
   ]
  },
  {
   "cell_type": "code",
   "execution_count": null,
   "id": "49792cb0",
   "metadata": {},
   "outputs": [],
   "source": []
  },
  {
   "cell_type": "code",
   "execution_count": 11,
   "id": "605cc193",
   "metadata": {},
   "outputs": [],
   "source": [
    "class State(TypedDict):\n",
    "\n",
    "    # This appends messages instead of overwriting\n",
    "    messages: Annotated[list, add_messages]\n",
    "\n",
    "\n",
    "graph_builder: StateGraph = StateGraph(State)"
   ]
  },
  {
   "cell_type": "code",
   "execution_count": 12,
   "id": "b0aef63a",
   "metadata": {},
   "outputs": [
    {
     "data": {
      "text/plain": [
       "<langgraph.graph.state.StateGraph at 0x113ce60f0>"
      ]
     },
     "execution_count": 12,
     "metadata": {},
     "output_type": "execute_result"
    }
   ],
   "source": [
    "nest_asyncio.apply()\n",
    "\n",
    "\n",
    "def get_client_and_model() -> (\n",
    "    tuple[Annotated[AsyncInstructor, \"client\"], Annotated[str, \"model\"]]\n",
    "):\n",
    "    \"\"\"Get the local client and model configuration.\n",
    "\n",
    "    Returns\n",
    "    -------\n",
    "    tuple[AsyncInstructor, str]\n",
    "        A tuple containing:\n",
    "        - client: The AsyncInstructor instance for local model interaction\n",
    "        - model: The string identifier for the base local model\n",
    "    \"\"\"\n",
    "    return local_client, ModelEnum.BASE_MODEL_LOCAL_2.value\n",
    "\n",
    "\n",
    "# Add chatbot\n",
    "async def chatbot(state: State) -> dict[str, Any]:\n",
    "    \"\"\"Process chat messages using an LLM model and return the response.\n",
    "\n",
    "    Parameters\n",
    "    ----------\n",
    "    state : State\n",
    "        The current state containing chat messages.\n",
    "\n",
    "    Returns\n",
    "    -------\n",
    "    dict[str, Any]\n",
    "        A dictionary containing the LLM response with key 'messages'.\n",
    "    \"\"\"\n",
    "    client, model = get_client_and_model()\n",
    "    response: str = await llm_response(state[\"messages\"], client=client, model=model)\n",
    "    return {\"messages\": response}\n",
    "\n",
    "\n",
    "# (unique_name, function) when the node is called\n",
    "graph_builder.add_node(\"chatbot\", chatbot)"
   ]
  },
  {
   "cell_type": "code",
   "execution_count": 13,
   "metadata": {},
   "outputs": [],
   "source": [
    "# Add entrypoint\n",
    "graph_builder.add_edge(START, \"chatbot\")\n",
    "\n",
    "# Compile graph\n",
    "graph = graph_builder.compile()"
   ]
  },
  {
   "cell_type": "markdown",
   "id": "76cc5576",
   "metadata": {},
   "source": [
    "## Visualize Graph"
   ]
  },
  {
   "cell_type": "code",
   "execution_count": 14,
   "metadata": {},
   "outputs": [
    {
     "data": {
      "image/png": "[encoded data removed]",
      "text/plain": [
       "<IPython.core.display.Image object>"
      ]
     },
     "metadata": {},
     "output_type": "display_data"
    }
   ],
   "source": [
    "# uv add pygraphviz or pip install pygraphviz\n",
    "from IPython.display import Image, display\n",
    "\n",
    "display(Image(graph.get_graph().draw_png()))"
   ]
  },
  {
   "cell_type": "markdown",
   "id": "46fbbdad",
   "metadata": {},
   "source": [
    "### Run The Graph"
   ]
  },
  {
   "cell_type": "code",
   "execution_count": 15,
   "id": "16ccb2fe",
   "metadata": {},
   "outputs": [],
   "source": [
    "nest_asyncio.apply()\n",
    "\n",
    "\n",
    "async def stream_graph_updates(user_input: str) -> None:\n",
    "    \"\"\"Process user input through a graph and stream assistant responses.\n",
    "\n",
    "    This function takes a user input string and streams it through an async graph,\n",
    "    printing the assistant's messages as they are generated.\n",
    "\n",
    "    Parameters\n",
    "    ----------\n",
    "    user_input : str\n",
    "        The input text from the user to process\n",
    "\n",
    "    Returns\n",
    "    -------\n",
    "    None\n",
    "        This function prints output but does not return any value\n",
    "    \"\"\"\n",
    "    async for event in graph.astream(\n",
    "        {\"messages\": [{\"role\": \"user\", \"content\": user_input}]}\n",
    "    ):\n",
    "        print(f\"Assistant: {event['chatbot']['messages']}\")"
   ]
  },
  {
   "cell_type": "code",
   "execution_count": 16,
   "id": "4f24e2f6",
   "metadata": {},
   "outputs": [
    {
     "name": "stdout",
     "output_type": "stream",
     "text": [
      "Assistant: Why did Cersei Lannister bring a ladder to the wedding? Because she wanted to reach the top of the heap (heap being a play on 'heaps' of money and the word 'heap' in the phrase 'reach the top of the heap').\n"
     ]
    }
   ],
   "source": [
    "# Test user input\n",
    "await stream_graph_updates(user_input=\"Tell me a joke about Cercei Lannister.\")"
   ]
  },
  {
   "cell_type": "code",
   "execution_count": 17,
   "id": "4e32634b",
   "metadata": {},
   "outputs": [
    {
     "name": "stdout",
     "output_type": "stream",
     "text": [
      "Assistant: Journey Home is a television show that airs on EWTN (Eternal Word Television Network), a Catholic television network. The show is a continuation of the Journey Man series, which was a popular show on EWTN in the early 2000s. Journey Home is a series of short, inspirational videos that feature real people sharing their personal stories of faith, redemption, and spiritual growth. The show is produced by EWTN and is available on their website and through their streaming service. The show has been praised for its authentic and heartfelt storytelling, and it has been a source of inspiration for many viewers. However, I should note that the show is not as widely known as some other shows on EWTN, and it may not be as popular as it was in the early 2ity. The show is available for streaming on EWTN's website and through their mobile app.\n",
      "Assistant: bye\n",
      "Goodbye!\n"
     ]
    }
   ],
   "source": [
    "while True:\n",
    "    try:\n",
    "        user_input: str = input(\"User: \")\n",
    "        if user_input.lower() in [\"exit\", \"quit\", \"q\"]:\n",
    "            print(\"Goodbye!\")\n",
    "            break\n",
    "        await stream_graph_updates(user_input)\n",
    "\n",
    "    except Exception:\n",
    "        # Fallback\n",
    "        user_input = \"Tell me a joke about Cercei Lannister.\"\n",
    "        print(f\"User: {user_input}\")\n",
    "        await stream_graph_updates(user_input)\n",
    "        break"
   ]
  },
  {
   "cell_type": "markdown",
   "id": "e324e7e2",
   "metadata": {},
   "source": [
    "## Tool Use"
   ]
  },
  {
   "cell_type": "code",
   "execution_count": 21,
   "metadata": {},
   "outputs": [],
   "source": [
    "from langchain_core.tools import tool\n",
    "from tavily import TavilyClient\n",
    "\n",
    "\n",
    "@tool(\"tavily_search\")\n",
    "def tavily_search(query: str) -> dict:\n",
    "    \"\"\"\n",
    "    Search for information using the Tavily API.\n",
    "\n",
    "    Parameters\n",
    "    ----------\n",
    "    query : str\n",
    "        The search query string.\n",
    "\n",
    "    Returns\n",
    "    -------\n",
    "    dict\n",
    "        The search results from Tavily.\n",
    "    \"\"\"\n",
    "    tavily_client = TavilyClient(api_key=settings.TAVILY_API_KEY.get_secret_value())\n",
    "    return tavily_client.search(query)"
   ]
  },
  {
   "cell_type": "code",
   "execution_count": null,
   "id": "39f5252b",
   "metadata": {},
   "outputs": [
    {
     "data": {
      "text/html": [
       "<pre style=\"white-space:pre;overflow-x:auto;line-height:normal;font-family:Menlo,'DejaVu Sans Mono',consolas,'Courier New',monospace\"><span style=\"color: #7fbfbf; text-decoration-color: #7fbfbf\">[19:36:29] </span><span style=\"font-weight: bold\">{</span>                                                                                        <a href=\"file:///var/folders/ny/dl75sc_x2tb54lsymt5bh5p00000gn/T/ipykernel_80474/1587889692.py\" target=\"_blank\"><span style=\"color: #7f7f7f; text-decoration-color: #7f7f7f\">1587889692.py</span></a><span style=\"color: #7f7f7f; text-decoration-color: #7f7f7f\">:</span><a href=\"file:///var/folders/ny/dl75sc_x2tb54lsymt5bh5p00000gn/T/ipykernel_80474/1587889692.py#2\" target=\"_blank\"><span style=\"color: #7f7f7f; text-decoration-color: #7f7f7f\">2</span></a>\n",
       "<span style=\"color: #7fbfbf; text-decoration-color: #7fbfbf\">           </span>    <span style=\"color: #008000; text-decoration-color: #008000\">'query'</span>: <span style=\"color: #008000; text-decoration-color: #008000\">'Who is Leo Messi?'</span>,                                                        <span style=\"color: #7f7f7f; text-decoration-color: #7f7f7f\">               </span>\n",
       "<span style=\"color: #7fbfbf; text-decoration-color: #7fbfbf\">           </span>    <span style=\"color: #008000; text-decoration-color: #008000\">'follow_up_questions'</span>: <span style=\"color: #800080; text-decoration-color: #800080; font-style: italic\">None</span>,                                                         <span style=\"color: #7f7f7f; text-decoration-color: #7f7f7f\">               </span>\n",
       "<span style=\"color: #7fbfbf; text-decoration-color: #7fbfbf\">           </span>    <span style=\"color: #008000; text-decoration-color: #008000\">'answer'</span>: <span style=\"color: #800080; text-decoration-color: #800080; font-style: italic\">None</span>,                                                                      <span style=\"color: #7f7f7f; text-decoration-color: #7f7f7f\">               </span>\n",
       "<span style=\"color: #7fbfbf; text-decoration-color: #7fbfbf\">           </span>    <span style=\"color: #008000; text-decoration-color: #008000\">'images'</span>: <span style=\"font-weight: bold\">[]</span>,                                                                        <span style=\"color: #7f7f7f; text-decoration-color: #7f7f7f\">               </span>\n",
       "<span style=\"color: #7fbfbf; text-decoration-color: #7fbfbf\">           </span>    <span style=\"color: #008000; text-decoration-color: #008000\">'results'</span>: <span style=\"font-weight: bold\">[</span>                                                                         <span style=\"color: #7f7f7f; text-decoration-color: #7f7f7f\">               </span>\n",
       "<span style=\"color: #7fbfbf; text-decoration-color: #7fbfbf\">           </span>        <span style=\"font-weight: bold\">{</span>                                                                                <span style=\"color: #7f7f7f; text-decoration-color: #7f7f7f\">               </span>\n",
       "<span style=\"color: #7fbfbf; text-decoration-color: #7fbfbf\">           </span>            <span style=\"color: #008000; text-decoration-color: #008000\">'title'</span>: <span style=\"color: #008000; text-decoration-color: #008000\">'Lionel Messi - Wikipedia'</span>,                                         <span style=\"color: #7f7f7f; text-decoration-color: #7f7f7f\">               </span>\n",
       "<span style=\"color: #7fbfbf; text-decoration-color: #7fbfbf\">           </span>            <span style=\"color: #008000; text-decoration-color: #008000\">'url'</span>: <span style=\"color: #008000; text-decoration-color: #008000\">'https://en.wikipedia.org/wiki/Lionel_Messi'</span>,                         <span style=\"color: #7f7f7f; text-decoration-color: #7f7f7f\">               </span>\n",
       "<span style=\"color: #7fbfbf; text-decoration-color: #7fbfbf\">           </span>            <span style=\"color: #008000; text-decoration-color: #008000\">'content'</span>: <span style=\"color: #008000; text-decoration-color: #008000\">\"Widely regarded as one of the greatest players of all time, </span>     <span style=\"color: #7f7f7f; text-decoration-color: #7f7f7f\">               </span>\n",
       "<span style=\"color: #7fbfbf; text-decoration-color: #7fbfbf\">           </span><span style=\"color: #008000; text-decoration-color: #008000\">Messi set numerous records for individual accolades won throughout his professional </span>     <span style=\"color: #7f7f7f; text-decoration-color: #7f7f7f\">               </span>\n",
       "<span style=\"color: #7fbfbf; text-decoration-color: #7fbfbf\">           </span><span style=\"color: #008000; text-decoration-color: #008000\">footballing career such as eight Ballon d'Or awards and eight times being named the </span>     <span style=\"color: #7f7f7f; text-decoration-color: #7f7f7f\">               </span>\n",
       "<span style=\"color: #7fbfbf; text-decoration-color: #7fbfbf\">           </span><span style=\"color: #008000; text-decoration-color: #008000\">world's best player by FIFA.[note 2] He is the most decorated player in the history of </span>  <span style=\"color: #7f7f7f; text-decoration-color: #7f7f7f\">               </span>\n",
       "<span style=\"color: #7fbfbf; text-decoration-color: #7fbfbf\">           </span><span style=\"color: #008000; text-decoration-color: #008000\">professional football having won 45 team trophies,[note 3] including twelve Big Five </span>    <span style=\"color: #7f7f7f; text-decoration-color: #7f7f7f\">               </span>\n",
       "<span style=\"color: #7fbfbf; text-decoration-color: #7fbfbf\">           </span><span style=\"color: #008000; text-decoration-color: #008000\">league titles, four UEFA Champions Leagues, two Copa Américas, and one FIFA World Cup. </span>  <span style=\"color: #7f7f7f; text-decoration-color: #7f7f7f\">               </span>\n",
       "<span style=\"color: #7fbfbf; text-decoration-color: #7fbfbf\">           </span><span style=\"color: #008000; text-decoration-color: #008000\">Messi holds the records for most European Golden Shoes (6), most goals in a calendar </span>    <span style=\"color: #7f7f7f; text-decoration-color: #7f7f7f\">               </span>\n",
       "<span style=\"color: #7fbfbf; text-decoration-color: #7fbfbf\">           </span><span style=\"color: #008000; text-decoration-color: #008000\">year (91), most goals for a single club (672, with Barcelona), most goals (474), </span>        <span style=\"color: #7f7f7f; text-decoration-color: #7f7f7f\">               </span>\n",
       "<span style=\"color: #7fbfbf; text-decoration-color: #7fbfbf\">           </span><span style=\"color: #008000; text-decoration-color: #008000\">hat-tricks (36) and assists (192) in La Liga, most assists (18) and goal contributions </span>  <span style=\"color: #7f7f7f; text-decoration-color: #7f7f7f\">               </span>\n",
       "<span style=\"color: #7fbfbf; text-decoration-color: #7fbfbf\">           </span><span style=\"color: #008000; text-decoration-color: #008000\">(32) in the Copa América, most goal contributions (21) in the World Cup, most </span>           <span style=\"color: #7f7f7f; text-decoration-color: #7f7f7f\">               </span>\n",
       "<span style=\"color: #7fbfbf; text-decoration-color: #7fbfbf\">           </span><span style=\"color: #008000; text-decoration-color: #008000\">international appearances (191) and international goals (112) by a South American male, </span> <span style=\"color: #7f7f7f; text-decoration-color: #7f7f7f\">               </span>\n",
       "<span style=\"color: #7fbfbf; text-decoration-color: #7fbfbf\">           </span><span style=\"color: #008000; text-decoration-color: #008000\">and the second-most in the latter category outright.\"</span>,                                   <span style=\"color: #7f7f7f; text-decoration-color: #7f7f7f\">               </span>\n",
       "<span style=\"color: #7fbfbf; text-decoration-color: #7fbfbf\">           </span>            <span style=\"color: #008000; text-decoration-color: #008000\">'score'</span>: <span style=\"color: #008080; text-decoration-color: #008080; font-weight: bold\">0.80698997</span>,                                                         <span style=\"color: #7f7f7f; text-decoration-color: #7f7f7f\">               </span>\n",
       "<span style=\"color: #7fbfbf; text-decoration-color: #7fbfbf\">           </span>            <span style=\"color: #008000; text-decoration-color: #008000\">'raw_content'</span>: <span style=\"color: #800080; text-decoration-color: #800080; font-style: italic\">None</span>                                                          <span style=\"color: #7f7f7f; text-decoration-color: #7f7f7f\">               </span>\n",
       "<span style=\"color: #7fbfbf; text-decoration-color: #7fbfbf\">           </span>        <span style=\"font-weight: bold\">}</span>,                                                                               <span style=\"color: #7f7f7f; text-decoration-color: #7f7f7f\">               </span>\n",
       "<span style=\"color: #7fbfbf; text-decoration-color: #7fbfbf\">           </span>        <span style=\"font-weight: bold\">{</span>                                                                                <span style=\"color: #7f7f7f; text-decoration-color: #7f7f7f\">               </span>\n",
       "<span style=\"color: #7fbfbf; text-decoration-color: #7fbfbf\">           </span>            <span style=\"color: #008000; text-decoration-color: #008000\">'title'</span>: <span style=\"color: #008000; text-decoration-color: #008000\">'Lionel Messi: Biography, Soccer Player, Inter Miami CF, Athlete'</span>,  <span style=\"color: #7f7f7f; text-decoration-color: #7f7f7f\">               </span>\n",
       "<span style=\"color: #7fbfbf; text-decoration-color: #7fbfbf\">           </span>            <span style=\"color: #008000; text-decoration-color: #008000\">'url'</span>: <span style=\"color: #008000; text-decoration-color: #008000\">'https://www.biography.com/athletes/lionel-messi'</span>,                    <span style=\"color: #7f7f7f; text-decoration-color: #7f7f7f\">               </span>\n",
       "<span style=\"color: #7fbfbf; text-decoration-color: #7fbfbf\">           </span>            <span style=\"color: #008000; text-decoration-color: #008000\">'content'</span>: <span style=\"color: #008000; text-decoration-color: #008000\">'Lionel Messi, a forward for Inter Miami CF, is one of the </span>       <span style=\"color: #7f7f7f; text-decoration-color: #7f7f7f\">               </span>\n",
       "<span style=\"color: #7fbfbf; text-decoration-color: #7fbfbf\">           </span><span style=\"color: #008000; text-decoration-color: #008000\">world’s greatest soccer players and helped the Argentina national team win its third </span>    <span style=\"color: #7f7f7f; text-decoration-color: #7f7f7f\">               </span>\n",
       "<span style=\"color: #7fbfbf; text-decoration-color: #7fbfbf\">           </span><span style=\"color: #008000; text-decoration-color: #008000\">FIFA World Cup in 2022. Messi, now playing for Inter Miami CF of the MLS, helped his </span>    <span style=\"color: #7f7f7f; text-decoration-color: #7f7f7f\">               </span>\n",
       "<span style=\"color: #7fbfbf; text-decoration-color: #7fbfbf\">           </span><span style=\"color: #008000; text-decoration-color: #008000\">home country win soccer’s biggest event for the first time since 1986, scoring two goals</span> <span style=\"color: #7f7f7f; text-decoration-color: #7f7f7f\">               </span>\n",
       "<span style=\"color: #7fbfbf; text-decoration-color: #7fbfbf\">           </span><span style=\"color: #008000; text-decoration-color: #008000\">in the final and leading Argentina to a 4-2 win over Kylian Mbappé and France on </span>        <span style=\"color: #7f7f7f; text-decoration-color: #7f7f7f\">               </span>\n",
       "<span style=\"color: #7fbfbf; text-decoration-color: #7fbfbf\">           </span><span style=\"color: #008000; text-decoration-color: #008000\">penalties. Lionel Messi is an Argentinian soccer player who has played for FC Barcelona,</span> <span style=\"color: #7f7f7f; text-decoration-color: #7f7f7f\">               </span>\n",
       "<span style=\"color: #7fbfbf; text-decoration-color: #7fbfbf\">           </span><span style=\"color: #008000; text-decoration-color: #008000\">Paris Saint-Germain, and currently, the MLS club Inter Miami CF as well as the Argentina</span> <span style=\"color: #7f7f7f; text-decoration-color: #7f7f7f\">               </span>\n",
       "<span style=\"color: #7fbfbf; text-decoration-color: #7fbfbf\">           </span><span style=\"color: #008000; text-decoration-color: #008000\">national team.'</span>,                                                                         <span style=\"color: #7f7f7f; text-decoration-color: #7f7f7f\">               </span>\n",
       "<span style=\"color: #7fbfbf; text-decoration-color: #7fbfbf\">           </span>            <span style=\"color: #008000; text-decoration-color: #008000\">'score'</span>: <span style=\"color: #008080; text-decoration-color: #008080; font-weight: bold\">0.79901963</span>,                                                         <span style=\"color: #7f7f7f; text-decoration-color: #7f7f7f\">               </span>\n",
       "<span style=\"color: #7fbfbf; text-decoration-color: #7fbfbf\">           </span>            <span style=\"color: #008000; text-decoration-color: #008000\">'raw_content'</span>: <span style=\"color: #800080; text-decoration-color: #800080; font-style: italic\">None</span>                                                          <span style=\"color: #7f7f7f; text-decoration-color: #7f7f7f\">               </span>\n",
       "<span style=\"color: #7fbfbf; text-decoration-color: #7fbfbf\">           </span>        <span style=\"font-weight: bold\">}</span>,                                                                               <span style=\"color: #7f7f7f; text-decoration-color: #7f7f7f\">               </span>\n",
       "<span style=\"color: #7fbfbf; text-decoration-color: #7fbfbf\">           </span>        <span style=\"font-weight: bold\">{</span>                                                                                <span style=\"color: #7f7f7f; text-decoration-color: #7f7f7f\">               </span>\n",
       "<span style=\"color: #7fbfbf; text-decoration-color: #7fbfbf\">           </span>            <span style=\"color: #008000; text-decoration-color: #008000\">'title'</span>: <span style=\"color: #008000; text-decoration-color: #008000\">'Official site'</span>,                                                    <span style=\"color: #7f7f7f; text-decoration-color: #7f7f7f\">               </span>\n",
       "<span style=\"color: #7fbfbf; text-decoration-color: #7fbfbf\">           </span>            <span style=\"color: #008000; text-decoration-color: #008000\">'url'</span>: <span style=\"color: #008000; text-decoration-color: #008000\">'https://messi.com'</span>,                                                  <span style=\"color: #7f7f7f; text-decoration-color: #7f7f7f\">               </span>\n",
       "<span style=\"color: #7fbfbf; text-decoration-color: #7fbfbf\">           </span>            <span style=\"color: #008000; text-decoration-color: #008000\">'content'</span>: <span style=\"color: #008000; text-decoration-color: #008000\">'Web oficial Leo Messi jugador del Inter de Miami – messi.com – </span>  <span style=\"color: #7f7f7f; text-decoration-color: #7f7f7f\">               </span>\n",
       "<span style=\"color: #7fbfbf; text-decoration-color: #7fbfbf\">           </span><span style=\"color: #008000; text-decoration-color: #008000\">Web oficial de Lionel Messi, jugador del Futbol Profesional y campeón mundial con la </span>    <span style=\"color: #7f7f7f; text-decoration-color: #7f7f7f\">               </span>\n",
       "<span style=\"color: #7fbfbf; text-decoration-color: #7fbfbf\">           </span><span style=\"color: #008000; text-decoration-color: #008000\">selección Argentina Web oficial Leo Messi jugador del Inter de Miami - messi.com Inter </span>  <span style=\"color: #7f7f7f; text-decoration-color: #7f7f7f\">               </span>\n",
       "<span style=\"color: #7fbfbf; text-decoration-color: #7fbfbf\">           </span><span style=\"color: #008000; text-decoration-color: #008000\">Miami CF disputa este domingo la novena jornada de la MLS ante Dallas en el Chase </span>       <span style=\"color: #7f7f7f; text-decoration-color: #7f7f7f\">               </span>\n",
       "<span style=\"color: #7fbfbf; text-decoration-color: #7fbfbf\">           </span><span style=\"color: #008000; text-decoration-color: #008000\">Stadium. Leo se enfrenta este sábado a Columbus Crew en la octava jornada de la MLS para</span> <span style=\"color: #7f7f7f; text-decoration-color: #7f7f7f\">               </span>\n",
       "<span style=\"color: #7fbfbf; text-decoration-color: #7fbfbf\">           </span><span style=\"color: #008000; text-decoration-color: #008000\">Inter Miami en el […] Inter Miami y Chicago Fire empataron 0-0 en el partido </span>            <span style=\"color: #7f7f7f; text-decoration-color: #7f7f7f\">               </span>\n",
       "<span style=\"color: #7fbfbf; text-decoration-color: #7fbfbf\">           </span><span style=\"color: #008000; text-decoration-color: #008000\">correspondiente a la jornada 7 de la MLS del encuentro […] Leo Messi Management S.L.U. </span>  <span style=\"color: #7f7f7f; text-decoration-color: #7f7f7f\">               </span>\n",
       "<span style=\"color: #7fbfbf; text-decoration-color: #7fbfbf\">           </span><span style=\"color: #008000; text-decoration-color: #008000\">utiliza cookies propias y de terceros para ofrecerle contenidos adaptados a sus </span>         <span style=\"color: #7f7f7f; text-decoration-color: #7f7f7f\">               </span>\n",
       "<span style=\"color: #7fbfbf; text-decoration-color: #7fbfbf\">           </span><span style=\"color: #008000; text-decoration-color: #008000\">intereses.'</span>,                                                                             <span style=\"color: #7f7f7f; text-decoration-color: #7f7f7f\">               </span>\n",
       "<span style=\"color: #7fbfbf; text-decoration-color: #7fbfbf\">           </span>            <span style=\"color: #008000; text-decoration-color: #008000\">'score'</span>: <span style=\"color: #008080; text-decoration-color: #008080; font-weight: bold\">0.69622743</span>,                                                         <span style=\"color: #7f7f7f; text-decoration-color: #7f7f7f\">               </span>\n",
       "<span style=\"color: #7fbfbf; text-decoration-color: #7fbfbf\">           </span>            <span style=\"color: #008000; text-decoration-color: #008000\">'raw_content'</span>: <span style=\"color: #800080; text-decoration-color: #800080; font-style: italic\">None</span>                                                          <span style=\"color: #7f7f7f; text-decoration-color: #7f7f7f\">               </span>\n",
       "<span style=\"color: #7fbfbf; text-decoration-color: #7fbfbf\">           </span>        <span style=\"font-weight: bold\">}</span>,                                                                               <span style=\"color: #7f7f7f; text-decoration-color: #7f7f7f\">               </span>\n",
       "<span style=\"color: #7fbfbf; text-decoration-color: #7fbfbf\">           </span>        <span style=\"font-weight: bold\">{</span>                                                                                <span style=\"color: #7f7f7f; text-decoration-color: #7f7f7f\">               </span>\n",
       "<span style=\"color: #7fbfbf; text-decoration-color: #7fbfbf\">           </span>            <span style=\"color: #008000; text-decoration-color: #008000\">'title'</span>: <span style=\"color: #008000; text-decoration-color: #008000\">'Lionel Messi Biography - Facts, Childhood, Family Life &amp; </span>          <span style=\"color: #7f7f7f; text-decoration-color: #7f7f7f\">               </span>\n",
       "<span style=\"color: #7fbfbf; text-decoration-color: #7fbfbf\">           </span><span style=\"color: #008000; text-decoration-color: #008000\">Achievements'</span>,                                                                           <span style=\"color: #7f7f7f; text-decoration-color: #7f7f7f\">               </span>\n",
       "<span style=\"color: #7fbfbf; text-decoration-color: #7fbfbf\">           </span>            <span style=\"color: #008000; text-decoration-color: #008000\">'url'</span>: <span style=\"color: #008000; text-decoration-color: #008000\">'https://www.thefamouspeople.com/profiles/lionel-messi-5242.php'</span>,     <span style=\"color: #7f7f7f; text-decoration-color: #7f7f7f\">               </span>\n",
       "<span style=\"color: #7fbfbf; text-decoration-color: #7fbfbf\">           </span>            <span style=\"color: #008000; text-decoration-color: #008000\">'content'</span>: <span style=\"color: #008000; text-decoration-color: #008000\">\"Lionel Messi has won multiple FIFA Ballon d'Or awards, numerous </span> <span style=\"color: #7f7f7f; text-decoration-color: #7f7f7f\">               </span>\n",
       "<span style=\"color: #7fbfbf; text-decoration-color: #7fbfbf\">           </span><span style=\"color: #008000; text-decoration-color: #008000\">La Liga titles with FC Barcelona, and holds the record for most goals scored in a </span>       <span style=\"color: #7f7f7f; text-decoration-color: #7f7f7f\">               </span>\n",
       "<span style=\"color: #7fbfbf; text-decoration-color: #7fbfbf\">           </span><span style=\"color: #008000; text-decoration-color: #008000\">calendar year. In the finals too Messi scored the winning goal to give Barcelona their </span>  <span style=\"color: #7f7f7f; text-decoration-color: #7f7f7f\">               </span>\n",
       "<span style=\"color: #7fbfbf; text-decoration-color: #7fbfbf\">           </span><span style=\"color: #008000; text-decoration-color: #008000\">third title in six years and fourth overall. In the 2018 Football World Cup Messi scored</span> <span style=\"color: #7f7f7f; text-decoration-color: #7f7f7f\">               </span>\n",
       "<span style=\"color: #7fbfbf; text-decoration-color: #7fbfbf\">           </span><span style=\"color: #008000; text-decoration-color: #008000\">a goal in the Argentina's final group match against Nigeria and helped his team to a 2-1</span> <span style=\"color: #7f7f7f; text-decoration-color: #7f7f7f\">               </span>\n",
       "<span style=\"color: #7fbfbf; text-decoration-color: #7fbfbf\">           </span><span style=\"color: #008000; text-decoration-color: #008000\">victory. Messi has in his kitty 20 Player of the Year awards including FIFA World Player</span> <span style=\"color: #7f7f7f; text-decoration-color: #7f7f7f\">               </span>\n",
       "<span style=\"color: #7fbfbf; text-decoration-color: #7fbfbf\">           </span><span style=\"color: #008000; text-decoration-color: #008000\">of the Year (1), World Soccer Player of the Year (3), Goal.com Player of the Year (2), </span>  <span style=\"color: #7f7f7f; text-decoration-color: #7f7f7f\">               </span>\n",
       "<span style=\"color: #7fbfbf; text-decoration-color: #7fbfbf\">           </span><span style=\"color: #008000; text-decoration-color: #008000\">UEFA Best Player in Europe Award (1), UEFA Club Footballer of the Year (1), FIFA U-20 </span>   <span style=\"color: #7f7f7f; text-decoration-color: #7f7f7f\">               </span>\n",
       "<span style=\"color: #7fbfbf; text-decoration-color: #7fbfbf\">           </span><span style=\"color: #008000; text-decoration-color: #008000\">World Cup Player of the Tournament (1), La Liga Player of the Year (3), La Liga Foreign </span> <span style=\"color: #7f7f7f; text-decoration-color: #7f7f7f\">               </span>\n",
       "<span style=\"color: #7fbfbf; text-decoration-color: #7fbfbf\">           </span><span style=\"color: #008000; text-decoration-color: #008000\">Player of the Year (3) and La Liga Ibero-American Player of the Year (5).\"</span>,              <span style=\"color: #7f7f7f; text-decoration-color: #7f7f7f\">               </span>\n",
       "<span style=\"color: #7fbfbf; text-decoration-color: #7fbfbf\">           </span>            <span style=\"color: #008000; text-decoration-color: #008000\">'score'</span>: <span style=\"color: #008080; text-decoration-color: #008080; font-weight: bold\">0.5792344</span>,                                                          <span style=\"color: #7f7f7f; text-decoration-color: #7f7f7f\">               </span>\n",
       "<span style=\"color: #7fbfbf; text-decoration-color: #7fbfbf\">           </span>            <span style=\"color: #008000; text-decoration-color: #008000\">'raw_content'</span>: <span style=\"color: #800080; text-decoration-color: #800080; font-style: italic\">None</span>                                                          <span style=\"color: #7f7f7f; text-decoration-color: #7f7f7f\">               </span>\n",
       "<span style=\"color: #7fbfbf; text-decoration-color: #7fbfbf\">           </span>        <span style=\"font-weight: bold\">}</span>,                                                                               <span style=\"color: #7f7f7f; text-decoration-color: #7f7f7f\">               </span>\n",
       "<span style=\"color: #7fbfbf; text-decoration-color: #7fbfbf\">           </span>        <span style=\"font-weight: bold\">{</span>                                                                                <span style=\"color: #7f7f7f; text-decoration-color: #7f7f7f\">               </span>\n",
       "<span style=\"color: #7fbfbf; text-decoration-color: #7fbfbf\">           </span>            <span style=\"color: #008000; text-decoration-color: #008000\">'title'</span>: <span style=\"color: #008000; text-decoration-color: #008000\">\"Lionel Messi | Biography, Trophies, Records, Ballon d'Or, Inter </span>   <span style=\"color: #7f7f7f; text-decoration-color: #7f7f7f\">               </span>\n",
       "<span style=\"color: #7fbfbf; text-decoration-color: #7fbfbf\">           </span><span style=\"color: #008000; text-decoration-color: #008000\">Miami ...\"</span>,                                                                              <span style=\"color: #7f7f7f; text-decoration-color: #7f7f7f\">               </span>\n",
       "<span style=\"color: #7fbfbf; text-decoration-color: #7fbfbf\">           </span>            <span style=\"color: #008000; text-decoration-color: #008000\">'url'</span>: <span style=\"color: #008000; text-decoration-color: #008000\">'https://www.britannica.com/biography/Lionel-Messi'</span>,                  <span style=\"color: #7f7f7f; text-decoration-color: #7f7f7f\">               </span>\n",
       "<span style=\"color: #7fbfbf; text-decoration-color: #7fbfbf\">           </span>            <span style=\"color: #008000; text-decoration-color: #008000\">'content'</span>: <span style=\"color: #008000; text-decoration-color: #008000\">'Lionel Messi scored 73 goals during the 2011–12 season while </span>    <span style=\"color: #7f7f7f; text-decoration-color: #7f7f7f\">               </span>\n",
       "<span style=\"color: #7fbfbf; text-decoration-color: #7fbfbf\">           </span><span style=\"color: #008000; text-decoration-color: #008000\">playing for FC Barcelona, breaking\\xa0a 39-year-old record for single-season goals in a </span> <span style=\"color: #7f7f7f; text-decoration-color: #7f7f7f\">               </span>\n",
       "<span style=\"color: #7fbfbf; text-decoration-color: #7fbfbf\">           </span><span style=\"color: #008000; text-decoration-color: #008000\">major European football league. Britannica Quiz Great Moments in Sports QuizMessi’s play</span> <span style=\"color: #7f7f7f; text-decoration-color: #7f7f7f\">               </span>\n",
       "<span style=\"color: #7fbfbf; text-decoration-color: #7fbfbf\">           </span><span style=\"color: #008000; text-decoration-color: #008000\">continued to rapidly improve over the years, and by 2008 he was one of the most dominant</span> <span style=\"color: #7f7f7f; text-decoration-color: #7f7f7f\">               </span>\n",
       "<span style=\"color: #7fbfbf; text-decoration-color: #7fbfbf\">           </span><span style=\"color: #008000; text-decoration-color: #008000\">players in the world, finishing second to Manchester United’s Cristiano Ronaldo in the </span>  <span style=\"color: #7f7f7f; text-decoration-color: #7f7f7f\">               </span>\n",
       "<span style=\"color: #7fbfbf; text-decoration-color: #7fbfbf\">           </span><span style=\"color: #008000; text-decoration-color: #008000\">voting for the 2008 Ballon d’Or. In early 2009 Messi capped off a spectacular 2008–09 </span>   <span style=\"color: #7f7f7f; text-decoration-color: #7f7f7f\">               </span>\n",
       "<span style=\"color: #7fbfbf; text-decoration-color: #7fbfbf\">           </span><span style=\"color: #008000; text-decoration-color: #008000\">season by helping FC Barcelona capture the club’s first “treble” (winning three major </span>   <span style=\"color: #7f7f7f; text-decoration-color: #7f7f7f\">               </span>\n",
       "<span style=\"color: #7fbfbf; text-decoration-color: #7fbfbf\">           </span><span style=\"color: #008000; text-decoration-color: #008000\">European club titles in one season): the team won the La Liga championship, the Copa del</span> <span style=\"color: #7f7f7f; text-decoration-color: #7f7f7f\">               </span>\n",
       "<span style=\"color: #7fbfbf; text-decoration-color: #7fbfbf\">           </span><span style=\"color: #008000; text-decoration-color: #008000\">Rey (Spain’s major domestic cup), and the Champions League title.'</span>,                      <span style=\"color: #7f7f7f; text-decoration-color: #7f7f7f\">               </span>\n",
       "<span style=\"color: #7fbfbf; text-decoration-color: #7fbfbf\">           </span>            <span style=\"color: #008000; text-decoration-color: #008000\">'score'</span>: <span style=\"color: #008080; text-decoration-color: #008080; font-weight: bold\">0.54782754</span>,                                                         <span style=\"color: #7f7f7f; text-decoration-color: #7f7f7f\">               </span>\n",
       "<span style=\"color: #7fbfbf; text-decoration-color: #7fbfbf\">           </span>            <span style=\"color: #008000; text-decoration-color: #008000\">'raw_content'</span>: <span style=\"color: #800080; text-decoration-color: #800080; font-style: italic\">None</span>                                                          <span style=\"color: #7f7f7f; text-decoration-color: #7f7f7f\">               </span>\n",
       "<span style=\"color: #7fbfbf; text-decoration-color: #7fbfbf\">           </span>        <span style=\"font-weight: bold\">}</span>                                                                                <span style=\"color: #7f7f7f; text-decoration-color: #7f7f7f\">               </span>\n",
       "<span style=\"color: #7fbfbf; text-decoration-color: #7fbfbf\">           </span>    <span style=\"font-weight: bold\">]</span>,                                                                                   <span style=\"color: #7f7f7f; text-decoration-color: #7f7f7f\">               </span>\n",
       "<span style=\"color: #7fbfbf; text-decoration-color: #7fbfbf\">           </span>    <span style=\"color: #008000; text-decoration-color: #008000\">'response_time'</span>: <span style=\"color: #008080; text-decoration-color: #008080; font-weight: bold\">1.79</span>                                                                <span style=\"color: #7f7f7f; text-decoration-color: #7f7f7f\">               </span>\n",
       "<span style=\"color: #7fbfbf; text-decoration-color: #7fbfbf\">           </span><span style=\"font-weight: bold\">}</span>                                                                                        <span style=\"color: #7f7f7f; text-decoration-color: #7f7f7f\">               </span>\n",
       "</pre>\n"
      ],
      "text/plain": [
       "\u001b[2;36m[19:36:29]\u001b[0m\u001b[2;36m \u001b[0m\u001b[1m{\u001b[0m                                                                                        \u001b]8;id=35981;file:///var/folders/ny/dl75sc_x2tb54lsymt5bh5p00000gn/T/ipykernel_80474/1587889692.py\u001b\\\u001b[2m1587889692.py\u001b[0m\u001b]8;;\u001b\\\u001b[2m:\u001b[0m\u001b]8;id=697938;file:///var/folders/ny/dl75sc_x2tb54lsymt5bh5p00000gn/T/ipykernel_80474/1587889692.py#2\u001b\\\u001b[2m2\u001b[0m\u001b]8;;\u001b\\\n",
       "\u001b[2;36m           \u001b[0m    \u001b[32m'query'\u001b[0m: \u001b[32m'Who is Leo Messi?'\u001b[0m,                                                        \u001b[2m               \u001b[0m\n",
       "\u001b[2;36m           \u001b[0m    \u001b[32m'follow_up_questions'\u001b[0m: \u001b[3;35mNone\u001b[0m,                                                         \u001b[2m               \u001b[0m\n",
       "\u001b[2;36m           \u001b[0m    \u001b[32m'answer'\u001b[0m: \u001b[3;35mNone\u001b[0m,                                                                      \u001b[2m               \u001b[0m\n",
       "\u001b[2;36m           \u001b[0m    \u001b[32m'images'\u001b[0m: \u001b[1m[\u001b[0m\u001b[1m]\u001b[0m,                                                                        \u001b[2m               \u001b[0m\n",
       "\u001b[2;36m           \u001b[0m    \u001b[32m'results'\u001b[0m: \u001b[1m[\u001b[0m                                                                         \u001b[2m               \u001b[0m\n",
       "\u001b[2;36m           \u001b[0m        \u001b[1m{\u001b[0m                                                                                \u001b[2m               \u001b[0m\n",
       "\u001b[2;36m           \u001b[0m            \u001b[32m'title'\u001b[0m: \u001b[32m'Lionel Messi - Wikipedia'\u001b[0m,                                         \u001b[2m               \u001b[0m\n",
       "\u001b[2;36m           \u001b[0m            \u001b[32m'url'\u001b[0m: \u001b[32m'https://en.wikipedia.org/wiki/Lionel_Messi'\u001b[0m,                         \u001b[2m               \u001b[0m\n",
       "\u001b[2;36m           \u001b[0m            \u001b[32m'content'\u001b[0m: \u001b[32m\"Widely regarded as one of the greatest players of all time, \u001b[0m     \u001b[2m               \u001b[0m\n",
       "\u001b[2;36m           \u001b[0m\u001b[32mMessi set numerous records for individual accolades won throughout his professional \u001b[0m     \u001b[2m               \u001b[0m\n",
       "\u001b[2;36m           \u001b[0m\u001b[32mfootballing career such as eight Ballon d'Or awards and eight times being named the \u001b[0m     \u001b[2m               \u001b[0m\n",
       "\u001b[2;36m           \u001b[0m\u001b[32mworld's best player by FIFA.\u001b[0m\u001b[32m[\u001b[0m\u001b[32mnote 2\u001b[0m\u001b[32m]\u001b[0m\u001b[32m He is the most decorated player in the history of \u001b[0m  \u001b[2m               \u001b[0m\n",
       "\u001b[2;36m           \u001b[0m\u001b[32mprofessional football having won 45 team trophies,\u001b[0m\u001b[32m[\u001b[0m\u001b[32mnote 3\u001b[0m\u001b[32m]\u001b[0m\u001b[32m including twelve Big Five \u001b[0m    \u001b[2m               \u001b[0m\n",
       "\u001b[2;36m           \u001b[0m\u001b[32mleague titles, four UEFA Champions Leagues, two Copa Américas, and one FIFA World Cup. \u001b[0m  \u001b[2m               \u001b[0m\n",
       "\u001b[2;36m           \u001b[0m\u001b[32mMessi holds the records for most European Golden Shoes \u001b[0m\u001b[32m(\u001b[0m\u001b[32m6\u001b[0m\u001b[32m)\u001b[0m\u001b[32m, most goals in a calendar \u001b[0m    \u001b[2m               \u001b[0m\n",
       "\u001b[2;36m           \u001b[0m\u001b[32myear \u001b[0m\u001b[32m(\u001b[0m\u001b[32m91\u001b[0m\u001b[32m)\u001b[0m\u001b[32m, most goals for a single club \u001b[0m\u001b[32m(\u001b[0m\u001b[32m672, with Barcelona\u001b[0m\u001b[32m)\u001b[0m\u001b[32m, most goals \u001b[0m\u001b[32m(\u001b[0m\u001b[32m474\u001b[0m\u001b[32m)\u001b[0m\u001b[32m, \u001b[0m        \u001b[2m               \u001b[0m\n",
       "\u001b[2;36m           \u001b[0m\u001b[32mhat-tricks \u001b[0m\u001b[32m(\u001b[0m\u001b[32m36\u001b[0m\u001b[32m)\u001b[0m\u001b[32m and assists \u001b[0m\u001b[32m(\u001b[0m\u001b[32m192\u001b[0m\u001b[32m)\u001b[0m\u001b[32m in La Liga, most assists \u001b[0m\u001b[32m(\u001b[0m\u001b[32m18\u001b[0m\u001b[32m)\u001b[0m\u001b[32m and goal contributions \u001b[0m  \u001b[2m               \u001b[0m\n",
       "\u001b[2;36m           \u001b[0m\u001b[32m(\u001b[0m\u001b[32m32\u001b[0m\u001b[32m)\u001b[0m\u001b[32m in the Copa América, most goal contributions \u001b[0m\u001b[32m(\u001b[0m\u001b[32m21\u001b[0m\u001b[32m)\u001b[0m\u001b[32m in the World Cup, most \u001b[0m           \u001b[2m               \u001b[0m\n",
       "\u001b[2;36m           \u001b[0m\u001b[32minternational appearances \u001b[0m\u001b[32m(\u001b[0m\u001b[32m191\u001b[0m\u001b[32m)\u001b[0m\u001b[32m and international goals \u001b[0m\u001b[32m(\u001b[0m\u001b[32m112\u001b[0m\u001b[32m)\u001b[0m\u001b[32m by a South American male, \u001b[0m \u001b[2m               \u001b[0m\n",
       "\u001b[2;36m           \u001b[0m\u001b[32mand the second-most in the latter category outright.\"\u001b[0m,                                   \u001b[2m               \u001b[0m\n",
       "\u001b[2;36m           \u001b[0m            \u001b[32m'score'\u001b[0m: \u001b[1;36m0.80698997\u001b[0m,                                                         \u001b[2m               \u001b[0m\n",
       "\u001b[2;36m           \u001b[0m            \u001b[32m'raw_content'\u001b[0m: \u001b[3;35mNone\u001b[0m                                                          \u001b[2m               \u001b[0m\n",
       "\u001b[2;36m           \u001b[0m        \u001b[1m}\u001b[0m,                                                                               \u001b[2m               \u001b[0m\n",
       "\u001b[2;36m           \u001b[0m        \u001b[1m{\u001b[0m                                                                                \u001b[2m               \u001b[0m\n",
       "\u001b[2;36m           \u001b[0m            \u001b[32m'title'\u001b[0m: \u001b[32m'Lionel Messi: Biography, Soccer Player, Inter Miami CF, Athlete'\u001b[0m,  \u001b[2m               \u001b[0m\n",
       "\u001b[2;36m           \u001b[0m            \u001b[32m'url'\u001b[0m: \u001b[32m'https://www.biography.com/athletes/lionel-messi'\u001b[0m,                    \u001b[2m               \u001b[0m\n",
       "\u001b[2;36m           \u001b[0m            \u001b[32m'content'\u001b[0m: \u001b[32m'Lionel Messi, a forward for Inter Miami CF, is one of the \u001b[0m       \u001b[2m               \u001b[0m\n",
       "\u001b[2;36m           \u001b[0m\u001b[32mworld’s greatest soccer players and helped the Argentina national team win its third \u001b[0m    \u001b[2m               \u001b[0m\n",
       "\u001b[2;36m           \u001b[0m\u001b[32mFIFA World Cup in 2022. Messi, now playing for Inter Miami CF of the MLS, helped his \u001b[0m    \u001b[2m               \u001b[0m\n",
       "\u001b[2;36m           \u001b[0m\u001b[32mhome country win soccer’s biggest event for the first time since 1986, scoring two goals\u001b[0m \u001b[2m               \u001b[0m\n",
       "\u001b[2;36m           \u001b[0m\u001b[32min the final and leading Argentina to a 4-2 win over Kylian Mbappé and France on \u001b[0m        \u001b[2m               \u001b[0m\n",
       "\u001b[2;36m           \u001b[0m\u001b[32mpenalties. Lionel Messi is an Argentinian soccer player who has played for FC Barcelona,\u001b[0m \u001b[2m               \u001b[0m\n",
       "\u001b[2;36m           \u001b[0m\u001b[32mParis Saint-Germain, and currently, the MLS club Inter Miami CF as well as the Argentina\u001b[0m \u001b[2m               \u001b[0m\n",
       "\u001b[2;36m           \u001b[0m\u001b[32mnational team.'\u001b[0m,                                                                         \u001b[2m               \u001b[0m\n",
       "\u001b[2;36m           \u001b[0m            \u001b[32m'score'\u001b[0m: \u001b[1;36m0.79901963\u001b[0m,                                                         \u001b[2m               \u001b[0m\n",
       "\u001b[2;36m           \u001b[0m            \u001b[32m'raw_content'\u001b[0m: \u001b[3;35mNone\u001b[0m                                                          \u001b[2m               \u001b[0m\n",
       "\u001b[2;36m           \u001b[0m        \u001b[1m}\u001b[0m,                                                                               \u001b[2m               \u001b[0m\n",
       "\u001b[2;36m           \u001b[0m        \u001b[1m{\u001b[0m                                                                                \u001b[2m               \u001b[0m\n",
       "\u001b[2;36m           \u001b[0m            \u001b[32m'title'\u001b[0m: \u001b[32m'Official site'\u001b[0m,                                                    \u001b[2m               \u001b[0m\n",
       "\u001b[2;36m           \u001b[0m            \u001b[32m'url'\u001b[0m: \u001b[32m'https://messi.com'\u001b[0m,                                                  \u001b[2m               \u001b[0m\n",
       "\u001b[2;36m           \u001b[0m            \u001b[32m'content'\u001b[0m: \u001b[32m'Web oficial Leo Messi jugador del Inter de Miami – messi.com – \u001b[0m  \u001b[2m               \u001b[0m\n",
       "\u001b[2;36m           \u001b[0m\u001b[32mWeb oficial de Lionel Messi, jugador del Futbol Profesional y campeón mundial con la \u001b[0m    \u001b[2m               \u001b[0m\n",
       "\u001b[2;36m           \u001b[0m\u001b[32mselección Argentina Web oficial Leo Messi jugador del Inter de Miami - messi.com Inter \u001b[0m  \u001b[2m               \u001b[0m\n",
       "\u001b[2;36m           \u001b[0m\u001b[32mMiami CF disputa este domingo la novena jornada de la MLS ante Dallas en el Chase \u001b[0m       \u001b[2m               \u001b[0m\n",
       "\u001b[2;36m           \u001b[0m\u001b[32mStadium. Leo se enfrenta este sábado a Columbus Crew en la octava jornada de la MLS para\u001b[0m \u001b[2m               \u001b[0m\n",
       "\u001b[2;36m           \u001b[0m\u001b[32mInter Miami en el \u001b[0m\u001b[32m[\u001b[0m\u001b[32m…\u001b[0m\u001b[32m]\u001b[0m\u001b[32m Inter Miami y Chicago Fire empataron 0-0 en el partido \u001b[0m            \u001b[2m               \u001b[0m\n",
       "\u001b[2;36m           \u001b[0m\u001b[32mcorrespondiente a la jornada 7 de la MLS del encuentro \u001b[0m\u001b[32m[\u001b[0m\u001b[32m…\u001b[0m\u001b[32m]\u001b[0m\u001b[32m Leo Messi Management S.L.U. \u001b[0m  \u001b[2m               \u001b[0m\n",
       "\u001b[2;36m           \u001b[0m\u001b[32mutiliza cookies propias y de terceros para ofrecerle contenidos adaptados a sus \u001b[0m         \u001b[2m               \u001b[0m\n",
       "\u001b[2;36m           \u001b[0m\u001b[32mintereses.'\u001b[0m,                                                                             \u001b[2m               \u001b[0m\n",
       "\u001b[2;36m           \u001b[0m            \u001b[32m'score'\u001b[0m: \u001b[1;36m0.69622743\u001b[0m,                                                         \u001b[2m               \u001b[0m\n",
       "\u001b[2;36m           \u001b[0m            \u001b[32m'raw_content'\u001b[0m: \u001b[3;35mNone\u001b[0m                                                          \u001b[2m               \u001b[0m\n",
       "\u001b[2;36m           \u001b[0m        \u001b[1m}\u001b[0m,                                                                               \u001b[2m               \u001b[0m\n",
       "\u001b[2;36m           \u001b[0m        \u001b[1m{\u001b[0m                                                                                \u001b[2m               \u001b[0m\n",
       "\u001b[2;36m           \u001b[0m            \u001b[32m'title'\u001b[0m: \u001b[32m'Lionel Messi Biography - Facts, Childhood, Family Life & \u001b[0m          \u001b[2m               \u001b[0m\n",
       "\u001b[2;36m           \u001b[0m\u001b[32mAchievements'\u001b[0m,                                                                           \u001b[2m               \u001b[0m\n",
       "\u001b[2;36m           \u001b[0m            \u001b[32m'url'\u001b[0m: \u001b[32m'https://www.thefamouspeople.com/profiles/lionel-messi-5242.php'\u001b[0m,     \u001b[2m               \u001b[0m\n",
       "\u001b[2;36m           \u001b[0m            \u001b[32m'content'\u001b[0m: \u001b[32m\"Lionel Messi has won multiple FIFA Ballon d'Or awards, numerous \u001b[0m \u001b[2m               \u001b[0m\n",
       "\u001b[2;36m           \u001b[0m\u001b[32mLa Liga titles with FC Barcelona, and holds the record for most goals scored in a \u001b[0m       \u001b[2m               \u001b[0m\n",
       "\u001b[2;36m           \u001b[0m\u001b[32mcalendar year. In the finals too Messi scored the winning goal to give Barcelona their \u001b[0m  \u001b[2m               \u001b[0m\n",
       "\u001b[2;36m           \u001b[0m\u001b[32mthird title in six years and fourth overall. In the 2018 Football World Cup Messi scored\u001b[0m \u001b[2m               \u001b[0m\n",
       "\u001b[2;36m           \u001b[0m\u001b[32ma goal in the Argentina's final group match against Nigeria and helped his team to a 2-1\u001b[0m \u001b[2m               \u001b[0m\n",
       "\u001b[2;36m           \u001b[0m\u001b[32mvictory. Messi has in his kitty 20 Player of the Year awards including FIFA World Player\u001b[0m \u001b[2m               \u001b[0m\n",
       "\u001b[2;36m           \u001b[0m\u001b[32mof the Year \u001b[0m\u001b[32m(\u001b[0m\u001b[32m1\u001b[0m\u001b[32m)\u001b[0m\u001b[32m, World Soccer Player of the Year \u001b[0m\u001b[32m(\u001b[0m\u001b[32m3\u001b[0m\u001b[32m)\u001b[0m\u001b[32m, Goal.com Player of the Year \u001b[0m\u001b[32m(\u001b[0m\u001b[32m2\u001b[0m\u001b[32m)\u001b[0m\u001b[32m, \u001b[0m  \u001b[2m               \u001b[0m\n",
       "\u001b[2;36m           \u001b[0m\u001b[32mUEFA Best Player in Europe Award \u001b[0m\u001b[32m(\u001b[0m\u001b[32m1\u001b[0m\u001b[32m)\u001b[0m\u001b[32m, UEFA Club Footballer of the Year \u001b[0m\u001b[32m(\u001b[0m\u001b[32m1\u001b[0m\u001b[32m)\u001b[0m\u001b[32m, FIFA U-20 \u001b[0m   \u001b[2m               \u001b[0m\n",
       "\u001b[2;36m           \u001b[0m\u001b[32mWorld Cup Player of the Tournament \u001b[0m\u001b[32m(\u001b[0m\u001b[32m1\u001b[0m\u001b[32m)\u001b[0m\u001b[32m, La Liga Player of the Year \u001b[0m\u001b[32m(\u001b[0m\u001b[32m3\u001b[0m\u001b[32m)\u001b[0m\u001b[32m, La Liga Foreign \u001b[0m \u001b[2m               \u001b[0m\n",
       "\u001b[2;36m           \u001b[0m\u001b[32mPlayer of the Year \u001b[0m\u001b[32m(\u001b[0m\u001b[32m3\u001b[0m\u001b[32m)\u001b[0m\u001b[32m and La Liga Ibero-American Player of the Year \u001b[0m\u001b[32m(\u001b[0m\u001b[32m5\u001b[0m\u001b[32m)\u001b[0m\u001b[32m.\"\u001b[0m,              \u001b[2m               \u001b[0m\n",
       "\u001b[2;36m           \u001b[0m            \u001b[32m'score'\u001b[0m: \u001b[1;36m0.5792344\u001b[0m,                                                          \u001b[2m               \u001b[0m\n",
       "\u001b[2;36m           \u001b[0m            \u001b[32m'raw_content'\u001b[0m: \u001b[3;35mNone\u001b[0m                                                          \u001b[2m               \u001b[0m\n",
       "\u001b[2;36m           \u001b[0m        \u001b[1m}\u001b[0m,                                                                               \u001b[2m               \u001b[0m\n",
       "\u001b[2;36m           \u001b[0m        \u001b[1m{\u001b[0m                                                                                \u001b[2m               \u001b[0m\n",
       "\u001b[2;36m           \u001b[0m            \u001b[32m'title'\u001b[0m: \u001b[32m\"Lionel Messi | Biography, Trophies, Records, Ballon d'Or, Inter \u001b[0m   \u001b[2m               \u001b[0m\n",
       "\u001b[2;36m           \u001b[0m\u001b[32mMiami ...\"\u001b[0m,                                                                              \u001b[2m               \u001b[0m\n",
       "\u001b[2;36m           \u001b[0m            \u001b[32m'url'\u001b[0m: \u001b[32m'https://www.britannica.com/biography/Lionel-Messi'\u001b[0m,                  \u001b[2m               \u001b[0m\n",
       "\u001b[2;36m           \u001b[0m            \u001b[32m'content'\u001b[0m: \u001b[32m'Lionel Messi scored 73 goals during the 2011–12 season while \u001b[0m    \u001b[2m               \u001b[0m\n",
       "\u001b[2;36m           \u001b[0m\u001b[32mplaying for FC Barcelona, breaking\\xa0a 39-year-old record for single-season goals in a \u001b[0m \u001b[2m               \u001b[0m\n",
       "\u001b[2;36m           \u001b[0m\u001b[32mmajor European football league. Britannica Quiz Great Moments in Sports QuizMessi’s play\u001b[0m \u001b[2m               \u001b[0m\n",
       "\u001b[2;36m           \u001b[0m\u001b[32mcontinued to rapidly improve over the years, and by 2008 he was one of the most dominant\u001b[0m \u001b[2m               \u001b[0m\n",
       "\u001b[2;36m           \u001b[0m\u001b[32mplayers in the world, finishing second to Manchester United’s Cristiano Ronaldo in the \u001b[0m  \u001b[2m               \u001b[0m\n",
       "\u001b[2;36m           \u001b[0m\u001b[32mvoting for the 2008 Ballon d’Or. In early 2009 Messi capped off a spectacular 2008–09 \u001b[0m   \u001b[2m               \u001b[0m\n",
       "\u001b[2;36m           \u001b[0m\u001b[32mseason by helping FC Barcelona capture the club’s first “treble” \u001b[0m\u001b[32m(\u001b[0m\u001b[32mwinning three major \u001b[0m   \u001b[2m               \u001b[0m\n",
       "\u001b[2;36m           \u001b[0m\u001b[32mEuropean club titles in one season\u001b[0m\u001b[32m)\u001b[0m\u001b[32m: the team won the La Liga championship, the Copa del\u001b[0m \u001b[2m               \u001b[0m\n",
       "\u001b[2;36m           \u001b[0m\u001b[32mRey \u001b[0m\u001b[32m(\u001b[0m\u001b[32mSpain’s major domestic cup\u001b[0m\u001b[32m)\u001b[0m\u001b[32m, and the Champions League title.'\u001b[0m,                      \u001b[2m               \u001b[0m\n",
       "\u001b[2;36m           \u001b[0m            \u001b[32m'score'\u001b[0m: \u001b[1;36m0.54782754\u001b[0m,                                                         \u001b[2m               \u001b[0m\n",
       "\u001b[2;36m           \u001b[0m            \u001b[32m'raw_content'\u001b[0m: \u001b[3;35mNone\u001b[0m                                                          \u001b[2m               \u001b[0m\n",
       "\u001b[2;36m           \u001b[0m        \u001b[1m}\u001b[0m                                                                                \u001b[2m               \u001b[0m\n",
       "\u001b[2;36m           \u001b[0m    \u001b[1m]\u001b[0m,                                                                                   \u001b[2m               \u001b[0m\n",
       "\u001b[2;36m           \u001b[0m    \u001b[32m'response_time'\u001b[0m: \u001b[1;36m1.79\u001b[0m                                                                \u001b[2m               \u001b[0m\n",
       "\u001b[2;36m           \u001b[0m\u001b[1m}\u001b[0m                                                                                        \u001b[2m               \u001b[0m\n"
      ]
     },
     "metadata": {},
     "output_type": "display_data"
    }
   ],
   "source": [
    "response = tavily_search(\"Who is Leo Messi?\")\n",
    "console.log(response)"
   ]
  },
  {
   "cell_type": "code",
   "execution_count": null,
   "id": "780ae25b",
   "metadata": {},
   "outputs": [],
   "source": []
  },
  {
   "cell_type": "code",
   "execution_count": null,
   "id": "82498b23",
   "metadata": {},
   "outputs": [],
   "source": []
  },
  {
   "cell_type": "code",
   "execution_count": null,
   "id": "316cb462",
   "metadata": {},
   "outputs": [],
   "source": []
  },
  {
   "cell_type": "code",
   "execution_count": null,
   "id": "5e455a5c",
   "metadata": {},
   "outputs": [],
   "source": []
  }
 ],
 "metadata": {
  "kernelspec": {
   "display_name": "ai-tutorials",
   "language": "python",
   "name": "python3"
  },
  "language_info": {
   "codemirror_mode": {
    "name": "ipython",
    "version": 3
   },
   "file_extension": ".py",
   "mimetype": "text/x-python",
   "name": "python",
   "nbconvert_exporter": "python",
   "pygments_lexer": "ipython3",
   "version": "3.12.7"
  }
 },
 "nbformat": 4,
 "nbformat_minor": 5
}
