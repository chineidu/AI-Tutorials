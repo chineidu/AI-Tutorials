{
 "cells": [
  {
   "cell_type": "markdown",
   "id": "dc0ce639",
   "metadata": {},
   "source": [
    "# Research Assistant Agent\n"
   ]
  },
  {
   "cell_type": "code",
   "execution_count": 1,
   "id": "5b2aa0f1",
   "metadata": {},
   "outputs": [],
   "source": [
    "# Built-in library\n",
    "import asyncio\n",
    "import json\n",
    "import logging\n",
    "import re\n",
    "import warnings\n",
    "from pathlib import Path\n",
    "from pprint import pprint\n",
    "from typing import (\n",
    "    Annotated,\n",
    "    Any,\n",
    "    Generator,\n",
    "    Iterable,\n",
    "    Literal,\n",
    "    Optional,\n",
    "    TypedDict,\n",
    "    Union,\n",
    ")\n",
    "\n",
    "# Standard imports\n",
    "import nest_asyncio\n",
    "import numpy as np\n",
    "import numpy.typing as npt\n",
    "import pandas as pd\n",
    "import polars as pl\n",
    "from rich.console import Console\n",
    "from rich.theme import Theme\n",
    "\n",
    "custom_theme = Theme(\n",
    "    {\n",
    "        \"white\": \"#FFFFFF\",  # Bright white\n",
    "        \"info\": \"#00FF00\",  # Bright green\n",
    "        \"warning\": \"#FFD700\",  # Bright gold\n",
    "        \"error\": \"#FF1493\",  # Deep pink\n",
    "        \"success\": \"#00FFFF\",  # Cyan\n",
    "        \"highlight\": \"#FF4500\",  # Orange-red\n",
    "    }\n",
    ")\n",
    "console = Console(theme=custom_theme)\n",
    "\n",
    "# Visualization\n",
    "# import matplotlib.pyplot as pltife\n",
    "\n",
    "# NumPy settings\n",
    "np.set_printoptions(precision=4)\n",
    "\n",
    "# Pandas settings\n",
    "pd.options.display.max_rows = 1_000\n",
    "pd.options.display.max_columns = 1_000\n",
    "pd.options.display.max_colwidth = 600\n",
    "\n",
    "# Polars settings\n",
    "pl.Config.set_fmt_str_lengths(1_000)\n",
    "pl.Config.set_tbl_cols(n=1_000)\n",
    "\n",
    "warnings.filterwarnings(\"ignore\")\n",
    "\n",
    "# Black code formatter (Optional)\n",
    "%load_ext lab_black\n",
    "\n",
    "# auto reload imports\n",
    "%load_ext autoreload\n",
    "%autoreload 2"
   ]
  },
  {
   "cell_type": "code",
   "execution_count": 2,
   "metadata": {},
   "outputs": [],
   "source": [
    "def go_up_from_current_directory(*, go_up: int = 1) -> None:\n",
    "    \"\"\"This is used to up a number of directories.\n",
    "\n",
    "    Params:\n",
    "    -------\n",
    "    go_up: int, default=1\n",
    "        This indicates the number of times to go back up from the current directory.\n",
    "\n",
    "    Returns:\n",
    "    --------\n",
    "    None\n",
    "    \"\"\"\n",
    "    import os\n",
    "    import sys\n",
    "\n",
    "    CONST: str = \"../\"\n",
    "    NUM: str = CONST * go_up\n",
    "\n",
    "    # Goto the previous directory\n",
    "    prev_directory = os.path.join(os.path.dirname(__name__), NUM)\n",
    "    # Get the 'absolute path' of the previous directory\n",
    "    abs_path_prev_directory = os.path.abspath(prev_directory)\n",
    "\n",
    "    # Add the path to the System paths\n",
    "    sys.path.insert(0, abs_path_prev_directory)\n",
    "    print(abs_path_prev_directory)"
   ]
  },
  {
   "cell_type": "code",
   "execution_count": 53,
   "id": "8d4f1fe2",
   "metadata": {},
   "outputs": [
    {
     "name": "stdout",
     "output_type": "stream",
     "text": [
      "/Users/neidu/Desktop/Projects/Personal/My_Projects/AI-Tutorials\n"
     ]
    }
   ],
   "source": [
    "go_up_from_current_directory(go_up=2)\n",
    "\n",
    "\n",
    "from schemas import ModelEnum  # noqa: E402\n",
    "from settings import refresh_settings  # noqa: E402\n",
    "from utilities.client_utils import check_rate_limit, get_aclient  # noqa: E402\n",
    "\n",
    "settings = refresh_settings()"
   ]
  },
  {
   "cell_type": "code",
   "execution_count": 4,
   "id": "82f1daba",
   "metadata": {},
   "outputs": [],
   "source": [
    "from IPython.display import Image, Markdown, display\n",
    "from langchain.chat_models import init_chat_model\n",
    "from langchain_core.messages import AIMessage, HumanMessage, SystemMessage, ToolMessage\n",
    "from langchain_core.tools import InjectedToolCallId, tool\n",
    "from langchain_litellm import ChatLiteLLM\n",
    "from langchain_tavily import TavilySearch\n",
    "from langfuse.callback import CallbackHandler\n",
    "from langgraph.checkpoint.memory import MemorySaver\n",
    "from langgraph.graph import END, START, MessagesState, StateGraph\n",
    "from langgraph.graph.message import add_messages\n",
    "from langgraph.prebuilt import ToolNode, tools_condition\n",
    "from langgraph.types import Command, interrupt"
   ]
  },
  {
   "cell_type": "markdown",
   "id": "637ea699",
   "metadata": {},
   "source": [
    "### Goal\n",
    "\n",
    "- Build a lightweight, multi-agent system using chat models to customize the research process.\n",
    "\n",
    "### Key Themes\n",
    "\n",
    "- Integrates LangGraph themes like memory, human-in-the-loop, and controllability.\n",
    "\n",
    "### Source Selection\n",
    "\n",
    "- Allows users to choose input sources for their research.\n",
    "\n",
    "### Planning\n",
    "\n",
    "- Users provide a topic.\n",
    "- The system generates a team of AI analysts, each focusing on a sub-topic.\n",
    "- Human-in-the-loop will be used to refine sub-topics before research starts.\n",
    "\n",
    "### LLM Utilization (Research Process)\n",
    "\n",
    "- Each analyst conducts in-depth, multi-turn interviews with an expert AI based on selected sources, similar to the STORM paper.\n",
    "- Interviews are captured in sub-graphs with internal state.\n",
    "- Experts gather information in parallel and interviews are conducted simultaneously via map-reduce.\n",
    "\n",
    "### Output Format\n",
    "\n",
    "- Gathered insights from each interview are synthesized into a final report.\n",
    "- Customizable prompts allow for flexible report output."
   ]
  },
  {
   "cell_type": "markdown",
   "id": "423a4451",
   "metadata": {},
   "source": [
    "<br><hr>\n",
    "\n",
    "### Create The LLM\n"
   ]
  },
  {
   "cell_type": "code",
   "execution_count": 61,
   "id": "ec3c6245",
   "metadata": {},
   "outputs": [],
   "source": [
    "from typing import Any, Type\n",
    "\n",
    "\n",
    "from instructor.client import AsyncInstructor\n",
    "from pydantic import BaseModel\n",
    "\n",
    "\n",
    "class GeneralResponse(BaseModel):\n",
    "    content: str\n",
    "\n",
    "\n",
    "aclient: Any | AsyncInstructor = get_aclient(return_type=\"instructor\")\n",
    "\n",
    "\n",
    "async def allm_with_structured_output(\n",
    "    client: AsyncInstructor,\n",
    "    model: str,\n",
    "    messages: dict[str, Any],\n",
    "    response_model: Type[BaseModel],\n",
    ") -> str:\n",
    "    \"\"\"Make an async call to LLM with structured output using instructor.\n",
    "\n",
    "    Parameters\n",
    "    ----------\n",
    "    client : AsyncInstructor\n",
    "        The async instructor client instance for making LLM calls\n",
    "    model : str\n",
    "        The model to use\n",
    "    messages : dict[str, Any]\n",
    "        The messages to send to the LLM\n",
    "    response_model : Type[BaseModel]\n",
    "        The Pydantic model class to structure the output\n",
    "\n",
    "    Returns\n",
    "    -------\n",
    "    str\n",
    "        The structured response from the LLM\n",
    "    \"\"\"\n",
    "    return await client.chat.completions.create(\n",
    "        response_model=response_model,\n",
    "        model=model,\n",
    "        messages=messages,\n",
    "        max_retries=5,\n",
    "        temperature=0.0,\n",
    "        seed=2,\n",
    "    )"
   ]
  },
  {
   "cell_type": "code",
   "execution_count": null,
   "id": "b9c6b95d",
   "metadata": {},
   "outputs": [],
   "source": [
    "from langchain_core.language_models.chat_models import BaseChatModel\n",
    "\n",
    "model_str: str = \"mistralai:open-mixtral-8x22b\"\n",
    "llm: BaseChatModel = init_chat_model(\n",
    "    model=model_str,\n",
    "    temperature=0.0,\n",
    "    seed=123,\n",
    ")\n",
    "\n",
    "\n",
    "# llm = init_chat_model(\n",
    "llm = init_chat_model(\n",
    "    model_provider=\"openai\",\n",
    "    openai_api_key=settings.OPENROUTER_API_KEY.get_secret_value(),\n",
    "    base_url=settings.OPENROUTER_URL,\n",
    "    # model=ModelEnum.LLAMA_3p3_70B_INSTRUCT_REMOTE.value,\n",
    "    model=\"qwen/qwen3-235b-a22b\",\n",
    "    temperature=0.0,\n",
    "    seed=123,\n",
    ")\n",
    "\n",
    "\n",
    "aclient = get_aclient(return_type=\"instructor\")\n"
   ]
  },
  {
   "cell_type": "code",
   "execution_count": 64,
   "id": "98432bd4",
   "metadata": {},
   "outputs": [
    {
     "data": {
      "text/plain": [
       "instructor.client.AsyncInstructor"
      ]
     },
     "execution_count": 64,
     "metadata": {},
     "output_type": "execute_result"
    }
   ],
   "source": [
    "type(aclient)"
   ]
  },
  {
   "cell_type": "code",
   "execution_count": 67,
   "id": "54f886ff",
   "metadata": {},
   "outputs": [
    {
     "data": {
      "text/html": [
       "<pre style=\"white-space:pre;overflow-x:auto;line-height:normal;font-family:Menlo,'DejaVu Sans Mono',consolas,'Courier New',monospace\"><span style=\"color: #7fbfbf; text-decoration-color: #7fbfbf\">[20:37:32] </span><span style=\"color: #800080; text-decoration-color: #800080; font-weight: bold\">GeneralResponse</span><span style=\"font-weight: bold\">(</span>                                                                        <a href=\"file:///var/folders/ny/dl75sc_x2tb54lsymt5bh5p00000gn/T/ipykernel_42530/2105613715.py\" target=\"_blank\"><span style=\"color: #7f7f7f; text-decoration-color: #7f7f7f\">2105613715.py</span></a><span style=\"color: #7f7f7f; text-decoration-color: #7f7f7f\">:</span><a href=\"file:///var/folders/ny/dl75sc_x2tb54lsymt5bh5p00000gn/T/ipykernel_42530/2105613715.py#12\" target=\"_blank\"><span style=\"color: #7f7f7f; text-decoration-color: #7f7f7f\">12</span></a>\n",
       "<span style=\"color: #7fbfbf; text-decoration-color: #7fbfbf\">           </span>    <span style=\"color: #808000; text-decoration-color: #808000\">content</span>=<span style=\"color: #008000; text-decoration-color: #008000\">'Bola Tinubu is the 16th President of Nigeria, elected in 2023. He is a </span>    <span style=\"color: #7f7f7f; text-decoration-color: #7f7f7f\">                </span>\n",
       "<span style=\"color: #7fbfbf; text-decoration-color: #7fbfbf\">           </span><span style=\"color: #008000; text-decoration-color: #008000\">Nigerian politician and former business executive who previously served as the Governor</span> <span style=\"color: #7f7f7f; text-decoration-color: #7f7f7f\">                </span>\n",
       "<span style=\"color: #7fbfbf; text-decoration-color: #7fbfbf\">           </span><span style=\"color: #008000; text-decoration-color: #008000\">of Lagos State from 2019 to 2023. Tinubu is known for his leadership in Lagos and his </span>  <span style=\"color: #7f7f7f; text-decoration-color: #7f7f7f\">                </span>\n",
       "<span style=\"color: #7fbfbf; text-decoration-color: #7fbfbf\">           </span><span style=\"color: #008000; text-decoration-color: #008000\">role in the 2023 presidential election, where he defeated former President Muhammadu </span>   <span style=\"color: #7f7f7f; text-decoration-color: #7f7f7f\">                </span>\n",
       "<span style=\"color: #7fbfbf; text-decoration-color: #7fbfbf\">           </span><span style=\"color: #008000; text-decoration-color: #008000\">Buhari.'</span>                                                                                <span style=\"color: #7f7f7f; text-decoration-color: #7f7f7f\">                </span>\n",
       "<span style=\"color: #7fbfbf; text-decoration-color: #7fbfbf\">           </span><span style=\"font-weight: bold\">)</span>                                                                                       <span style=\"color: #7f7f7f; text-decoration-color: #7f7f7f\">                </span>\n",
       "</pre>\n"
      ],
      "text/plain": [
       "\u001b[2;36m[20:37:32]\u001b[0m\u001b[2;36m \u001b[0m\u001b[1;35mGeneralResponse\u001b[0m\u001b[1m(\u001b[0m                                                                        \u001b]8;id=721158;file:///var/folders/ny/dl75sc_x2tb54lsymt5bh5p00000gn/T/ipykernel_42530/2105613715.py\u001b\\\u001b[2m2105613715.py\u001b[0m\u001b]8;;\u001b\\\u001b[2m:\u001b[0m\u001b]8;id=61035;file:///var/folders/ny/dl75sc_x2tb54lsymt5bh5p00000gn/T/ipykernel_42530/2105613715.py#12\u001b\\\u001b[2m12\u001b[0m\u001b]8;;\u001b\\\n",
       "\u001b[2;36m           \u001b[0m    \u001b[33mcontent\u001b[0m=\u001b[32m'Bola Tinubu is the 16th President of Nigeria, elected in 2023. He is a \u001b[0m    \u001b[2m                \u001b[0m\n",
       "\u001b[2;36m           \u001b[0m\u001b[32mNigerian politician and former business executive who previously served as the Governor\u001b[0m \u001b[2m                \u001b[0m\n",
       "\u001b[2;36m           \u001b[0m\u001b[32mof Lagos State from 2019 to 2023. Tinubu is known for his leadership in Lagos and his \u001b[0m  \u001b[2m                \u001b[0m\n",
       "\u001b[2;36m           \u001b[0m\u001b[32mrole in the 2023 presidential election, where he defeated former President Muhammadu \u001b[0m   \u001b[2m                \u001b[0m\n",
       "\u001b[2;36m           \u001b[0m\u001b[32mBuhari.'\u001b[0m                                                                                \u001b[2m                \u001b[0m\n",
       "\u001b[2;36m           \u001b[0m\u001b[1m)\u001b[0m                                                                                       \u001b[2m                \u001b[0m\n"
      ]
     },
     "metadata": {},
     "output_type": "display_data"
    }
   ],
   "source": [
    "model: str = f\"openrouter/{ModelEnum.QWEN_3p0_8B_REMOTE.value}\"\n",
    "\n",
    "response: GeneralResponse = await allm_with_structured_output(\n",
    "    client=aclient,\n",
    "    model=model,\n",
    "    messages=[\n",
    "        {\"role\": \"user\", \"content\": \"Who be Tinubu?\"},\n",
    "    ],\n",
    "    response_model=GeneralResponse,\n",
    ")\n",
    "\n",
    "console.log(response)"
   ]
  },
  {
   "cell_type": "code",
   "execution_count": 35,
   "id": "ffe4a5f9",
   "metadata": {},
   "outputs": [
    {
     "name": "stdout",
     "output_type": "stream",
     "text": [
      "**Bola Ahmed Tinubu** (born March 29, 1952) is a Nigerian politician who has served as the **President of Nigeria** since May 29, 2023. He is a member of the **All Progressives Congress (APC)** party and is widely regarded as a key architect of the party's formation in 2013, which united several opposition groups to challenge the long-ruling People's Democratic Party (PDP).\n",
      "\n",
      "### Key Background and Career:\n",
      "1. **Early Life and Education**:  \n",
      "   - Born in Lagos, Tinubu hails from a prominent Yoruba family. He studied in the U.S., earning a degree in Political Science from Chicago State University (1977) and a master's in Public Administration from Pepperdine University (1980).\n",
      "\n",
      "2. **Political Career**:  \n",
      "   - **Governor of Lagos State (1999–2007)**: His tenure is credited with modernizing Lagos' infrastructure, improving tax collection, and enhancing urban planning. However, critics argue his policies disproportionately affected lower-income communities.  \n",
      "   - **APC Leadership**: He played a pivotal role in merging opposition parties to form the APC, which won the 2015 presidential election, ending the PDP's 16-year rule.  \n",
      "   - **2023 Presidential Election**: Tinubu won a contentious election amid allegations of irregularities, voter suppression, and low turnout. His victory marked Nigeria's first peaceful transfer of power between two opposition parties.\n",
      "\n",
      "3. **Presidency (2023–Present)**:  \n",
      "   - **Economic Reforms**: His administration has focused on austerity measures, currency devaluation, subsidy removal, and privatization to address Nigeria's economic crisis. These policies have sparked public backlash due to soaring inflation and fuel prices.  \n",
      "   - **Security Challenges**: He faces ongoing threats from Boko Haram, Islamic State West Africa Province (ISWAP), banditry, and separatist movements in the southeast.  \n",
      "   - **Controversies**: Tinubu has faced criticism for appointing loyalists to key positions, alleged corruption, and his government's handling of protests (e.g., the 2022 #EndBad Governance protests).\n",
      "\n",
      "4. **Legacy and Criticism**:  \n",
      "   - Supporters praise his political acumen and administrative experience, while detractors accuse him of elitism, authoritarian tendencies, and perpetuating elite capture of Nigeria's resources. His nickname, **\"The Jagaban\"** (meaning \"warlord\" in Yoruba), reflects his reputation as a dominant political force.\n",
      "\n",
      "Tinubu's presidency remains a polarizing topic in Nigeria, with many watching closely whether his reforms will yield long-term stability or deepen the country's socio-economic divides.\n"
     ]
    }
   ],
   "source": [
    "question = \"Who be Tinubu?\"\n",
    "\n",
    "print(llm.invoke(question).content)"
   ]
  },
  {
   "cell_type": "markdown",
   "id": "5aa09db5",
   "metadata": {},
   "source": [
    "## Create Analysts: Human-in-the-loop\n",
    "\n",
    "- Create analysts and review them using human-in-the-loop."
   ]
  },
  {
   "cell_type": "code",
   "execution_count": 36,
   "id": "9c1250a6",
   "metadata": {},
   "outputs": [],
   "source": [
    "from pydantic import BaseModel, Field\n",
    "\n",
    "\n",
    "class Analyst(BaseModel):\n",
    "    affiliation: str = Field(description=\"The primary affiliation of the analyst.\")\n",
    "    role: str = Field(description=\"The role of the analyst.\")\n",
    "    name: str = Field(description=\"The name of the analyst.\")\n",
    "    description: str = Field(\n",
    "        description=\"The description of the analyst's focus, concerns and motives.\"\n",
    "    )\n",
    "\n",
    "    @property\n",
    "    def persona(self) -> str:\n",
    "        return (\n",
    "            f\"Name: {self.name}\\nRole: {self.role}\\nAffiliation: {self.affiliation}\"\n",
    "            f\"\\nDescription: {self.description}\"\n",
    "        )\n",
    "\n",
    "\n",
    "class Perpectives(BaseModel):\n",
    "    analysts: list[Analyst] = Field(\n",
    "        description=\"A list of analysts with their detailed information.\"\n",
    "    )\n",
    "\n",
    "\n",
    "class GenerateAnalystState(TypedDict):\n",
    "    topic: str  # Research topic\n",
    "    max_analyst: int  # Maximum number of analysts\n",
    "    human_analyst_feedback: str  # Human feedback\n",
    "    analysts: list[Analyst]  # Analyst asking questions"
   ]
  },
  {
   "cell_type": "code",
   "execution_count": 37,
   "id": "27d191ab",
   "metadata": {},
   "outputs": [],
   "source": [
    "analyst_instructions: str = \"\"\"\n",
    "<instruction>\n",
    "You're tasked with creating a set of AI analyst personas. Follow these instructions carefully:\n",
    "1. First, review the reseacrch topic: \\n{topic}\n",
    "2. Examine any editorial feedback that has been optionally provided to guide the creation of the analysts:\n",
    "{human_analyst_feedback}\n",
    "3. Determine the most interesting themes based upon documents and/or feedback above.\n",
    "4. Pick the top {max_analyst} themes.\n",
    "5. Assign one analyst to each theme.\n",
    "</instruction>\n",
    "\"\"\"\n",
    "\n",
    "\n",
    "async def create_analysts(state: GenerateAnalystState) -> dict[str, Any]:\n",
    "    topic: str = state[\"topic\"]\n",
    "    max_analyst: int = state[\"max_analyst\"]\n",
    "    human_analyst_feedback: str = state.get(\"human_analyst_feedback\", \"\")\n",
    "\n",
    "    structured_llm = llm.with_structured_output(Perpectives)\n",
    "    system_message = analyst_instructions.format(\n",
    "        topic=topic,\n",
    "        human_analyst_feedback=human_analyst_feedback,\n",
    "        max_analyst=max_analyst,\n",
    "    )\n",
    "    analysts = await structured_llm.ainvoke(\n",
    "        [SystemMessage(content=system_message)]\n",
    "        + [HumanMessage(content=\"Generate the set of analysts.\")]\n",
    "    )\n",
    "\n",
    "    return {\"analysts\": analysts.analysts}\n",
    "\n",
    "\n",
    "def human_feedback(state: GenerateAnalystState) -> None:\n",
    "    pass\n",
    "\n",
    "\n",
    "def should_continue(state: GenerateAnalystState) -> Literal[\"create_analysts\", END]:\n",
    "    human_analyst_feedback = state.get(\"human_analyst_feedback\", None)\n",
    "    if human_analyst_feedback:\n",
    "        return \"create_analysts\"\n",
    "\n",
    "    return END"
   ]
  },
  {
   "cell_type": "code",
   "execution_count": null,
   "id": "f7ae95d6",
   "metadata": {},
   "outputs": [
    {
     "data": {
      "image/png": "[encoded data removed]",
      "text/plain": [
       "<IPython.core.display.Image object>"
      ]
     },
     "metadata": {},
     "output_type": "display_data"
    }
   ],
   "source": [
    "from langgraph.graph.state import CompiledStateGraph\n",
    "\n",
    "\n",
    "graph_builder = StateGraph(GenerateAnalystState)\n",
    "\n",
    "# Add nodes\n",
    "graph_builder.add_node(\"create_analysts\", create_analysts)\n",
    "graph_builder.add_node(\"human_feedback\", human_feedback)\n",
    "\n",
    "# Add edges\n",
    "graph_builder.add_edge(START, \"create_analysts\")\n",
    "graph_builder.add_edge(\"create_analysts\", \"human_feedback\")\n",
    "# Add conditions\n",
    "graph_builder.add_conditional_edges(\"human_feedback\", should_continue, [\"create_analysts\", END])\n",
    "\n",
    "# Compile the graph\n",
    "memory = MemorySaver()\n",
    "langfuse_handler = CallbackHandler()\n",
    "graph: CompiledStateGraph = graph_builder.compile(\n",
    "    interrupt_before=[\"human_feedback\"], checkpointer=memory\n",
    ")  # .with_config({\"callbacks\": [langfuse_handler]})\n",
    "\n",
    "# Visualize the graph\n",
    "display(Image(graph.get_graph().draw_mermaid_png()))"
   ]
  },
  {
   "cell_type": "markdown",
   "id": "273e25bd",
   "metadata": {},
   "source": [
    "#### Test The Code"
   ]
  },
  {
   "cell_type": "code",
   "execution_count": 39,
   "id": "85775822",
   "metadata": {},
   "outputs": [
    {
     "name": "stdout",
     "output_type": "stream",
     "text": [
      "Name: Dr. Eleanor Hart\n",
      "Role: Senior Analyst\n",
      "Affiliation: Institute for Faith and Wellbeing\n",
      "Description: Specializes in the psychological and personal development benefits of Christian faith practices, focusing on mental health outcomes, community belonging, and ethical frameworks for decision-making. Combines theological scholarship with behavioral science methodologies.\n",
      "--------------------------------------------------\n",
      "Name: Professor Marcus Greene\n",
      "Role: Lead Researcher\n",
      "Affiliation: Global Social Impact Foundation\n",
      "Description: Investigates Christianity's role in social justice movements, poverty alleviation through faith-based organizations, and the economic impact of Christian charitable networks. Uses quantitative data analysis and case studies from 20+ countries.\n",
      "--------------------------------------------------\n",
      "Name: Dr. Amina Khalid\n",
      "Role: Historical Analyst\n",
      "Affiliation: Center for Cultural Heritage Studies\n",
      "Description: Examines Christianity's influence on art, education systems, and moral philosophy across civilizations. Specializes in comparative studies between Christian and secular institutions, with a focus on long-term societal resilience and innovation.\n",
      "--------------------------------------------------\n"
     ]
    }
   ],
   "source": [
    "# Inputs\n",
    "max_analyst: int = 3\n",
    "topic: str = \"The benefits of Christianity\"\n",
    "thread: dict[str, Any] = {\"configurable\": {\"thread_id\": \"1\"}}\n",
    "\n",
    "# Run the graph\n",
    "async for event in graph.astream(\n",
    "    {\"topic\": topic, \"max_analyst\": max_analyst}, thread, stream_mode=\"values\"\n",
    "):\n",
    "    analysts = event.get(\"analysts\", \"\")\n",
    "\n",
    "    if analysts:\n",
    "        for analyst in analysts:\n",
    "            print(f\"Name: {analyst.name}\")\n",
    "            print(f\"Role: {analyst.role}\")\n",
    "            print(f\"Affiliation: {analyst.affiliation}\")\n",
    "            print(f\"Description: {analyst.description}\")\n",
    "            print(\"-\" * 50)"
   ]
  },
  {
   "cell_type": "code",
   "execution_count": 40,
   "id": "08fbdb4e",
   "metadata": {},
   "outputs": [
    {
     "data": {
      "text/plain": [
       "('human_feedback',)"
      ]
     },
     "execution_count": 40,
     "metadata": {},
     "output_type": "execute_result"
    }
   ],
   "source": [
    "# Get the state and look at the next node\n",
    "state = graph.get_state(thread)\n",
    "state.next"
   ]
  },
  {
   "cell_type": "code",
   "execution_count": 41,
   "id": "0c11e080",
   "metadata": {},
   "outputs": [
    {
     "data": {
      "text/plain": [
       "{'configurable': {'thread_id': '1',\n",
       "  'checkpoint_ns': '',\n",
       "  'checkpoint_id': '1f043d15-b745-6e70-8002-7f01f38aa807'}}"
      ]
     },
     "execution_count": 41,
     "metadata": {},
     "output_type": "execute_result"
    }
   ],
   "source": [
    "# The next step is t update the state as if we're the human_feedback node\n",
    "graph.update_state(\n",
    "    thread,\n",
    "    {\"human_analyst_feedback\": \"Add a priest to add some apostolic and traditional perspective\"},\n",
    "    as_node=\"human_feedback\",\n",
    ")"
   ]
  },
  {
   "cell_type": "code",
   "execution_count": 42,
   "id": "4442c69b",
   "metadata": {},
   "outputs": [
    {
     "name": "stdout",
     "output_type": "stream",
     "text": [
      "Name: Dr. Eleanor Hart\n",
      "Role: Senior Analyst\n",
      "Affiliation: Institute for Faith and Wellbeing\n",
      "Description: Specializes in the psychological and personal development benefits of Christian faith practices, focusing on mental health outcomes, community belonging, and ethical frameworks for decision-making. Combines theological scholarship with behavioral science methodologies.\n",
      "--------------------------------------------------\n",
      "Name: Professor Marcus Greene\n",
      "Role: Lead Researcher\n",
      "Affiliation: Global Social Impact Foundation\n",
      "Description: Investigates Christianity's role in social justice movements, poverty alleviation through faith-based organizations, and the economic impact of Christian charitable networks. Uses quantitative data analysis and case studies from 20+ countries.\n",
      "--------------------------------------------------\n",
      "Name: Dr. Amina Khalid\n",
      "Role: Historical Analyst\n",
      "Affiliation: Center for Cultural Heritage Studies\n",
      "Description: Examines Christianity's influence on art, education systems, and moral philosophy across civilizations. Specializes in comparative studies between Christian and secular institutions, with a focus on long-term societal resilience and innovation.\n",
      "--------------------------------------------------\n",
      "Name: Father Thomas Aquinas IV\n",
      "Role: Senior Analyst\n",
      "Affiliation: Theological Institute of Apostolic Studies\n",
      "Description: A priest-scholar with expertise in patristic theology and sacramental philosophy, offering insights into how apostolic traditions and liturgical practices foster spiritual continuity and communal identity. Combines Thomistic logic with modern existential questions about faith's role in human flourishing.\n",
      "--------------------------------------------------\n",
      "Name: Dr. Eleanor Hart\n",
      "Role: Lead Analyst\n",
      "Affiliation: Center for Historical Ethics Research\n",
      "Description: A historian specializing in Christianity's cultural impact, analyzing how Christian values shaped education systems, artistic movements, and social reforms from the Middle Ages to modern humanitarian efforts. Focuses on empirical connections between theological principles and societal progress.\n",
      "--------------------------------------------------\n",
      "Name: Dr. Marcus Lee\n",
      "Role: Principal Analyst\n",
      "Affiliation: Institute for Psychology of Faith\n",
      "Description: A clinical psychologist studying Christianity's effects on mental health, exploring concepts like forgiveness, hope, and community support through longitudinal studies and neurotheological research. Investigates intersections between Christian teachings and cognitive-behavioral frameworks.\n",
      "--------------------------------------------------\n"
     ]
    }
   ],
   "source": [
    "# Continue the graph execution\n",
    "input_: dict[str, Any] | None = None  # Continue the graph execution\n",
    "\n",
    "# Run the graph\n",
    "async for event in graph.astream(input_, thread, stream_mode=\"values\"):\n",
    "    analysts = event.get(\"analysts\", \"\")\n",
    "\n",
    "    if analysts:\n",
    "        for analyst in analysts:\n",
    "            print(f\"Name: {analyst.name}\")\n",
    "            print(f\"Role: {analyst.role}\")\n",
    "            print(f\"Affiliation: {analyst.affiliation}\")\n",
    "            print(f\"Description: {analyst.description}\")\n",
    "            print(\"-\" * 50)"
   ]
  },
  {
   "cell_type": "code",
   "execution_count": 43,
   "id": "0c11ec7f",
   "metadata": {},
   "outputs": [
    {
     "data": {
      "text/plain": [
       "{'configurable': {'thread_id': '1',\n",
       "  'checkpoint_ns': '',\n",
       "  'checkpoint_id': '1f043d16-1b50-6244-8004-6a7125811b19'}}"
      ]
     },
     "execution_count": 43,
     "metadata": {},
     "output_type": "execute_result"
    }
   ],
   "source": [
    "# If we're satisfied, then we simply supply no feedback\n",
    "further_feedback: str | None = None\n",
    "graph.update_state(thread, {\"human_analyst_feedback\": further_feedback}, as_node=\"human_feedback\")"
   ]
  },
  {
   "cell_type": "code",
   "execution_count": 44,
   "id": "c9fb2264",
   "metadata": {},
   "outputs": [],
   "source": [
    "# Continue the graph execution to the end\n",
    "input_: dict[str, Any] | None = None  # Continue the graph execution\n",
    "thread: dict[str, Any] = {\"configurable\": {\"thread_id\": \"1\"}}\n",
    "\n",
    "# Run the graph\n",
    "async for event in graph.astream(\n",
    "    input_,\n",
    "    thread,\n",
    "    stream_mode=\"updates\",  # NEW - Use \"updates\" instead of \"values\"\n",
    "):\n",
    "    print(\"--Node--\")\n",
    "    print(f\"Role: {analyst.role}\")\n",
    "    node_name: str = next(iter(event.keys()))\n",
    "    print(node_name)"
   ]
  },
  {
   "cell_type": "code",
   "execution_count": 45,
   "id": "eff28275",
   "metadata": {},
   "outputs": [],
   "source": [
    "final_state = graph.get_state(thread)\n",
    "analysts = final_state.values.get(\"analysts\")"
   ]
  },
  {
   "cell_type": "code",
   "execution_count": 46,
   "metadata": {},
   "outputs": [
    {
     "data": {
      "text/plain": [
       "()"
      ]
     },
     "execution_count": 46,
     "metadata": {},
     "output_type": "execute_result"
    }
   ],
   "source": [
    "final_state.next"
   ]
  },
  {
   "cell_type": "code",
   "execution_count": 47,
   "id": "ca645eda",
   "metadata": {},
   "outputs": [
    {
     "name": "stdout",
     "output_type": "stream",
     "text": [
      "Name: Father Thomas Aquinas IV\n",
      "Role: Senior Analyst\n",
      "Affiliation: Theological Institute of Apostolic Studies\n",
      "Description: A priest-scholar with expertise in patristic theology and sacramental philosophy, offering insights into how apostolic traditions and liturgical practices foster spiritual continuity and communal identity. Combines Thomistic logic with modern existential questions about faith's role in human flourishing.\n",
      "--------------------------------------------------\n",
      "Name: Dr. Eleanor Hart\n",
      "Role: Lead Analyst\n",
      "Affiliation: Center for Historical Ethics Research\n",
      "Description: A historian specializing in Christianity's cultural impact, analyzing how Christian values shaped education systems, artistic movements, and social reforms from the Middle Ages to modern humanitarian efforts. Focuses on empirical connections between theological principles and societal progress.\n",
      "--------------------------------------------------\n",
      "Name: Dr. Marcus Lee\n",
      "Role: Principal Analyst\n",
      "Affiliation: Institute for Psychology of Faith\n",
      "Description: A clinical psychologist studying Christianity's effects on mental health, exploring concepts like forgiveness, hope, and community support through longitudinal studies and neurotheological research. Investigates intersections between Christian teachings and cognitive-behavioral frameworks.\n",
      "--------------------------------------------------\n"
     ]
    }
   ],
   "source": [
    "# Run the graph\n",
    "for analyst in analysts:\n",
    "    print(f\"Name: {analyst.name}\")\n",
    "    print(f\"Role: {analyst.role}\")\n",
    "    print(f\"Affiliation: {analyst.affiliation}\")\n",
    "    print(f\"Description: {analyst.description}\")\n",
    "    print(\"-\" * 50)"
   ]
  },
  {
   "cell_type": "markdown",
   "id": "233f47d6",
   "metadata": {},
   "source": [
    "<br><hr>\n",
    "\n",
    "## Conduct Interview\n",
    "\n",
    "- The analyst will ask questions to the experts"
   ]
  },
  {
   "cell_type": "code",
   "execution_count": null,
   "id": "3d74eeb3",
   "metadata": {},
   "outputs": [
    {
     "name": "stdout",
     "output_type": "stream",
     "text": [
      "\n",
      "<instruction>\n",
      "You're an analyst tasked with interviewing an expert to learn about a specific topic. Your\n",
      "goal is boil down to interesting and specific insights related to your topic.\n",
      "\n",
      "1. Interesting: Insights that people will find surprising and non-obvious.\n",
      "2. Specific: Insights that avoid generalities and include specific examples from the expert.\n",
      "\n",
      "<goals>\n",
      "Here is your topic of focus and set of goals: {goals}\n",
      "</goals>\n",
      "\n",
      "Begin by introducing yourself using a name that fits your persona, and then ask your question.\n",
      "Continue to ask questions to drill down and refine your understanding of the topic. When you\n",
      "are satisfied with your understanding, complete the interview by responding: \n",
      "<response>\"Thank you so much for your help!\"</response>\n",
      "\n",
      "Remember to stay in character throughout your response, reflecting the persona and goals provided to you\n",
      "</instruction>\n",
      "\n"
     ]
    }
   ],
   "source": [
    "class InterviewState(MessagesState):\n",
    "    max_num_turns: int  # The maximum number of turns of conversation\n",
    "    context: Annotated[list[Any], add_messages]  # The context of the conversation\n",
    "    analyst: Analyst  # Analyst asking the question\n",
    "    interview: str  # Interview transcript\n",
    "    sections: list[Any]  # Final key used with the Send() method\n",
    "\n",
    "\n",
    "class SearchQuery(BaseModel):\n",
    "    search_query: str | None = Field(default=None, description=\"Search query for retieval\")\n",
    "\n",
    "\n",
    "question_instructions: str = \"\"\"\n",
    "<instruction>\n",
    "You're an analyst tasked with interviewing an expert to learn about a specific topic. Your\n",
    "goal is boil down to interesting and specific insights related to your topic.\n",
    "\n",
    "1. Interesting: Insights that people will find surprising and non-obvious.\n",
    "2. Specific: Insights that avoid generalities and include specific examples from the expert.\n",
    "\n",
    "<goals>\n",
    "Here is your topic of focus and set of goals: {goals}\n",
    "</goals>\n",
    "\n",
    "Begin by introducing yourself using a name that fits your persona, and then ask your question.\n",
    "Continue to ask questions to drill down and refine your understanding of the topic. When you\n",
    "are satisfied with your understanding, complete the interview by responding: \n",
    "<response>\"Thank you so much for your help!\"</response>\n",
    "\n",
    "Remember to stay in character throughout your response, reflecting the persona and goals provided to you\n",
    "</instruction>\n",
    "\"\"\"\n",
    "\n",
    "print(question_instructions)"
   ]
  },
  {
   "cell_type": "markdown",
   "id": "5fe08478",
   "metadata": {},
   "source": [
    "<br>\n",
    "\n",
    "### Generate Questions And Answers In Parallel\n",
    "\n",
    "- The expert will gather info from multiple sources in parallel to answer questions.\n",
    "- For example, we can use:\n",
    "  - Specific websites\n",
    "  - Indexed documents via RAG\n",
    "  - Web search\n",
    "  - Wikipedia search"
   ]
  },
  {
   "cell_type": "code",
   "execution_count": 49,
   "id": "30630ea7",
   "metadata": {},
   "outputs": [],
   "source": [
    "from langchain_community.document_loaders import WikipediaLoader\n",
    "\n",
    "# Web search tool\n",
    "tavily_search = TavilySearch(max_results=3)\n",
    "\n",
    "\n",
    "search_instructions: str = \"\"\"\n",
    "<instruction>\n",
    "You will be given a conversation between an analyst and an expert.\n",
    "\n",
    "<goal>\n",
    "Your goal is to generate a well-structured query for use in retrieval and / or web-search \n",
    "related to the conversation.\n",
    "</goal>\n",
    "\n",
    "First, analyze the full conversation. Pay particular attention to the final question posed \n",
    "by the analyst.\n",
    "Convert this final question into a well-structured web search query.\n",
    "</instruction>\n",
    "\"\"\"\n",
    "\n",
    "\n",
    "answer_instructions: str = \"\"\"\n",
    "<instruction>\n",
    "You are an expert being interviewed by an analyst.\n",
    "\n",
    "Here is analyst area of focus: {goals}.         \n",
    "You goal is to answer a question posed by the interviewer.\n",
    "\n",
    "To answer question, use this context:        \n",
    "{context}\n",
    "\n",
    "<guidelines>\n",
    "When answering questions, follow these guidelines:\n",
    "1. Use only the information provided in the context. \n",
    "2. Do not introduce external information or make assumptions beyond what is explicitly stated in the context.\n",
    "3. The context contain sources at the topic of each individual document.\n",
    "4. Include these sources your answer next to any relevant statements. For example, for source # 1 use [1]. \n",
    "5. List your sources in order at the bottom of your answer. [1] Source 1, [2] Source 2, etc\n",
    "6. If the source is: <Document source=\"assistant/docs/llama3_1.pdf\" page=\"7\"/>' then just list: \n",
    "[1] assistant/docs/llama3_1.pdf, page 7 \n",
    "And skip the addition of the brackets as well as the Document source preamble in your citation.\n",
    "</guidelines>\n",
    "\n",
    "</instruction>\n",
    "\"\"\"\n",
    "\n",
    "\n",
    "section_writer_instructions: str = \"\"\"\n",
    "<instruction>\n",
    "You are an expert technical writer. \n",
    "Your task is to create a short, easily digestible section of a report based on a set of source documents.\n",
    "\n",
    "1. Analyze the content of the source documents: \n",
    "- The name of each source document is at the start of the document, with the <Document tag.\n",
    "\n",
    "2. Create a report structure using markdown formatting:\n",
    "- Use ## for the section title\n",
    "- Use ### for sub-section headers\n",
    "\n",
    "3. Write the report following this structure:\n",
    "a. Title (## header)\n",
    "b. Summary (### header)\n",
    "c. Sources (### header)\n",
    "\n",
    "4. Make your title engaging based upon the focus area of the analyst: \n",
    "{focus}\n",
    "\n",
    "5. For the summary section:\n",
    "- Set up summary with general background / context related to the focus area of the analyst\n",
    "- Emphasize what is novel, interesting, or surprising about insights gathered from the interview\n",
    "- Create a numbered list of source documents, as you use them\n",
    "- Do not mention the names of interviewers or experts\n",
    "- Aim for approximately 400 words maximum\n",
    "- Use numbered sources in your report (e.g., [1], [2]) based on information from source documents\n",
    "\n",
    "6. In the Sources section:\n",
    "- Include all sources used in your report\n",
    "- Provide full links to relevant websites or specific document paths\n",
    "- Separate each source by a newline. Use two spaces at the end of each line to create a newline in Markdown.\n",
    "- It will look like:\n",
    "\n",
    "### Sources\n",
    "[1] Link or Document name\n",
    "[2] Link or Document name\n",
    "\n",
    "7. Be sure to combine sources. For example this is not correct:\n",
    "\n",
    "[3] https://ai.meta.com/blog/meta-llama-3-1/\n",
    "[4] https://ai.meta.com/blog/meta-llama-3-1/\n",
    "\n",
    "There should be no redundant sources. It should simply be:\n",
    "\n",
    "[3] https://ai.meta.com/blog/meta-llama-3-1/\n",
    "\n",
    "8. Final review:\n",
    "- Ensure the report follows the required structure\n",
    "- Include no preamble before the title of the report\n",
    "- Check that all guidelines have been followed\n",
    "</instruction>\n",
    "\"\"\""
   ]
  },
  {
   "cell_type": "code",
   "execution_count": 50,
   "id": "2288fe55",
   "metadata": {},
   "outputs": [
    {
     "data": {
      "text/plain": [
       "{'query': 'Who is the current Pope in 2023?',\n",
       " 'follow_up_questions': None,\n",
       " 'answer': None,\n",
       " 'images': [],\n",
       " 'results': [{'title': 'Who is the current pope - Visiting The Vatican',\n",
       "   'url': 'https://visitingthevatican.com/who-is-the-current-pope/',\n",
       "   'content': \"Who is the current pope. As of 2023, the leader of the Catholic Church, adorning the revered title of Pope, is none other than Pope Francis. Born Jorge Mario Bergoglio, his reign began on March 13, 2013, succeeding Pope Benedict XVI who resigned, an event that hadn't occurred in the Papacy in over 600 years.\",\n",
       "   'score': 0.94135845,\n",
       "   'raw_content': None},\n",
       "  {'title': 'Pope Francis - Wikipedia',\n",
       "   'url': 'https://en.wikipedia.org/wiki/Pope_Francis',\n",
       "   'content': \"From 2023 he condemned Israel's military operations in Gaza, calling for investigations of war crimes. Francis made his last public appearance on Easter Sunday before dying on 21 April 2025, Easter Monday. [13] [14] The 2025 papal conclave elected Leo XIV as Francis's successor on 8 May. Leo XIV became the second pope from the Americas, after\",\n",
       "   'score': 0.7707586,\n",
       "   'raw_content': None},\n",
       "  {'title': 'After 10 years as pope, Francis continues to reshape the Catholic ... - NPR',\n",
       "   'url': 'https://www.npr.org/2023/03/13/1162954465/after-10-years-as-pope-francis-continues-to-reshape-the-catholic-church',\n",
       "   'content': 'After 10 years as pope, ... March 13, 2023 5:47 AM ET. Sylvia Poggioli After 10 years as pope, Francis continues to reshape the Catholic Church. Listen · 8:03 8:03. Toggle more options',\n",
       "   'score': 0.6847074,\n",
       "   'raw_content': None}],\n",
       " 'response_time': 1.99}"
      ]
     },
     "execution_count": 50,
     "metadata": {},
     "output_type": "execute_result"
    }
   ],
   "source": [
    "message: str = \"Tell me a who the current Pope is.\"\n",
    "search_query: SearchQuery = await llm.with_structured_output(SearchQuery).ainvoke(\n",
    "    [SystemMessage(content=search_instructions)] + [message]\n",
    ")\n",
    "search_docs = await tavily_search.ainvoke(search_query.search_query)\n",
    "\n",
    "search_docs"
   ]
  },
  {
   "cell_type": "code",
   "execution_count": 51,
   "id": "377b689a",
   "metadata": {},
   "outputs": [
    {
     "data": {
      "text/plain": [
       "[Document(metadata={'title': 'Pope Leo XIV', 'summary': \"Pope Leo XIV (born Robert Francis Prevost, September 14, 1955) has been head of the Catholic Church and sovereign of the Vatican City State since 2025. He is the first pope to have been born in the United States and North America, the first to hold Peruvian citizenship, the first from the Order of Saint Augustine, and the second from the Americas (after his predecessor Francis).\\nPrevost was born in Chicago, Illinois, and raised in the nearby suburb of Dolton. He became a friar of the Order of Saint Augustine in 1977 and was ordained as a priest in 1982. His service includes extensive missionary work in Peru in the 1980s and 1990s, where he worked as a parish pastor, diocesan official, seminary teacher, and administrator. Elected prior general of the Order of Saint Augustine, he was based in Rome from 2001 to 2013, and extensively traveled to the order's provinces around the world. He then returned to Peru as Bishop of Chiclayo from 2015 to 2023. In 2023, Pope Francis appointed him prefect of the Dicastery for Bishops in Rome, and president of the Pontifical Commission for Latin America.\\nMade a cardinal by Pope Francis, Prevost emphasized synodality, missionary dialogue, and engagement with social and technological challenges. He also engaged with issues such as climate change, global migration, church governance, and human rights, and expressed alignment with the reforms of the Second Vatican Council. \\nPrevost's election in the 2025 papal conclave was unexpected by observers; he was a dark horse candidate, with Vatican insiders believing that a pope would never emerge from the United States. He took his papal name in honor of Pope Leo XIII, who developed modern Catholic social teaching amid the Second Industrial Revolution.\", 'source': 'https://en.wikipedia.org/wiki/Pope_Leo_XIV'}, page_content='Pope Leo XIV (born Robert Francis Prevost, September 14, 1955) has been head of the Catholic Church and sovereign of the Vatican City State since 2025. He is the first pope to have been born in the United States and North America, the first to hold Peruvian citizenship, the first from the Order of Saint Augustine, and the second from the Americas (after his predecessor Francis).\\nPrevost was born in Chicago, Illinois, and raised in the nearby suburb of Dolton. He became a friar of the Order of Saint Augustine in 1977 and was ordained as a priest in 1982. His service includes extensive missionary work in Peru in the 1980s and 1990s, where he worked as a parish pastor, diocesan official, seminary teacher, and administrator. Elected prior general of the Order of Saint Augustine, he was based in Rome from 2001 to 2013, and extensively traveled to the order\\'s provinces around the world. He then returned to Peru as Bishop of Chiclayo from 2015 to 2023. In 2023, Pope Francis appointed him prefect of the Dicastery for Bishops in Rome, and president of the Pontifical Commission for Latin America.\\nMade a cardinal by Pope Francis, Prevost emphasized synodality, missionary dialogue, and engagement with social and technological challenges. He also engaged with issues such as climate change, global migration, church governance, and human rights, and expressed alignment with the reforms of the Second Vatican Council. \\nPrevost\\'s election in the 2025 papal conclave was unexpected by observers; he was a dark horse candidate, with Vatican insiders believing that a pope would never emerge from the United States. He took his papal name in honor of Pope Leo XIII, who developed modern Catholic social teaching amid the Second Industrial Revolution.\\n\\n\\n== Early life, family, and education ==\\n\\n\\n=== Background and ancestry ===\\n\\nRobert Francis Prevost was born on September 14, 1955, at Mercy Hospital in the Bronzeville neighborhood of Chicago, Illinois, on the city\\'s South Side. Prevost has two older brothers, Louis Martín and John Joseph, and is of African, French, Sicilian, and Spanish descent. His mother, Mildred Agnes Prevost (née Martínez), was born in Chicago into a mixed-race family of Louisiana Creole descent. She worked as an educator and librarian, including at Mendel Catholic High School. His father, Louis Marius Prevost, was also a Chicago native, having grown up in  Hyde Park. He was of Italian (his paternal grandfather\\'s original family name was Riggitano) and French descent. Louis Prevost was a United States Navy veteran of World War II who commanded an infantry landing craft in the Normandy landings and later participated in Operation Dragoon in southern France. Also an educator, he later became superintendent of Brookwood School District 167 in Glenwood, Illinois.\\n\\n\\n=== Early life and schooling ===\\n\\nKnown as \"Rob\" to his family and \"Bob\" to friends as an adult, Prevost was raised in Dolton, Illinois, a suburb bordering the far South Side. He grew up in the parish of St. Mary of the Assumption in nearby Riverdale, where he went to school, sang in the choir, and served as an altar boy. Prevost aspired to the priesthood from a young age, and would play-act the Mass at home with his brothers.\\nFrom 1969 to 1973, Prevost attended St. Augustine Seminary High School, a minor seminary near Saugatuck, Michigan; his brother John recalled how, from the end of eighth grade on, and especially after joining the Order of Saint Augustine, until their later adulthood when leave allowed them to reconnect, Prevost was hardly at home or with their family. At the Augustinian seminary, he earned a letter of commendation for academic excellence, consistently appeared on the honor roll, served as yearbook editor-in-chief, and was secretary of the student council and a member of the National Honor Society. He captained the bowling team and headed the speech and debate team, competing as well in Congressional Debate. Most of his classmates left for other options bes'),\n",
       " Document(metadata={'title': 'List of current popes and patriarchs', 'summary': 'This is a list of current Christian popes and patriarchs..', 'source': 'https://en.wikipedia.org/wiki/List_of_current_popes_and_patriarchs'}, page_content='This is a list of current Christian popes and patriarchs..\\n\\n\\n== Pope and patriarchs in the Catholic Church ==\\n\\nIn 2006, Benedict XVI renounced the title of \"Patriarch of the West\" (Patriarcha Occidentis).\\nIn 2024, Pope Francis reinstated the title to bring closer ties to the other Patriarchs in the Eastern Orthodox faith.\\n\\n\\n=== Patriarchs in the Latin Church ===\\nThe patriarchates in the lower table are in the Latin Church; whose bearers have the title of patriarch for various historical reasons, but who lack a particular church sui iuris.\\n\\n\\n== Patriarch of the Assyrian Church of the East ==\\n\\n\\n== Patriarch of the Ancient Church of the East ==\\n\\n\\n== Patriarchs in the Eastern Orthodox Church ==\\n\\n\\n== Patriarchs of independent Eastern Orthodox Churches ==\\n\\n\\n=== Patriarch of the Ukrainian Orthodox Church – Kyiv Patriarchate ===\\n\\n\\n=== Patriarch of the Russian Old-Orthodox Church ===\\n\\n\\n=== Patriarch of the Turkish Orthodox Church ===\\n\\n\\n== Pope and patriarchs in the Oriental Orthodox Churches ==\\n\\n\\n== Patriarchs of independent Oriental Orthodox Churches ==\\n\\n\\n=== Patriarch of the British Orthodox Church ===\\n\\n\\n== Popes and patriarchs of Independent Catholic Churches ==\\n\\n\\n=== Patriarch of the Apostolic Catholic Church ===\\n\\n\\n=== Pope of the Palmarian Catholic Church ===\\n\\n\\n=== Patriarch of the Ukrainian Orthodox Greek Catholic Church ===\\n\\n\\n== Patriarch of the Czechoslovak Hussite Church ==\\n\\n\\n== See also ==\\nList of current Christian leaders\\nPatriarchs\\nList of Primates in the Anglican Communion\\n\\n\\n== References ==')]"
      ]
     },
     "execution_count": 51,
     "metadata": {},
     "output_type": "execute_result"
    }
   ],
   "source": [
    "search_query: SearchQuery = await llm.with_structured_output(SearchQuery).ainvoke(\n",
    "    [SystemMessage(content=search_instructions)] + [message]\n",
    ")\n",
    "search_docs = WikipediaLoader(search_query.search_query, load_max_docs=2).load()\n",
    "search_docs"
   ]
  },
  {
   "cell_type": "code",
   "execution_count": null,
   "id": "c730cae1",
   "metadata": {},
   "outputs": [],
   "source": [
    "from langchain_core.messages import get_buffer_string\n",
    "\n",
    "\n",
    "async def generate_question(state: InterviewState) -> dict[str, Any]:\n",
    "    # Get state\n",
    "    analyst: Analyst = state[\"analyst\"]\n",
    "    messages: list[Any] = state[\"messages\"]\n",
    "\n",
    "    # Generate questions\n",
    "    system_message = question_instructions.format(goals=analyst.persona)\n",
    "    question = await llm.ainvoke([SystemMessage(content=system_message)] + messages)\n",
    "\n",
    "    # Write the message to the state\n",
    "    return {\"messages\": [question]}\n",
    "\n",
    "\n",
    "async def search_web(state: InterviewState) -> dict[str, Any]:\n",
    "    structured_llm = llm.with_structured_output(SearchQuery)\n",
    "    search_query: SearchQuery = await structured_llm.ainvoke(\n",
    "        [SystemMessage(content=search_instructions)] + state[\"messages\"]\n",
    "    )\n",
    "\n",
    "    # Search web\n",
    "    search_docs = await tavily_search.ainvoke(search_query.search_query)\n",
    "\n",
    "    formatted_search_docs = \"\\n\\n ---\\n\\n\".join(\n",
    "        [\n",
    "            f'<Document href=\"{doc[\"url\"]}\"/>\\n{doc[\"content\"]}\\n</Document>'\n",
    "            for doc in search_docs.get(\"results\")\n",
    "        ]\n",
    "    )\n",
    "\n",
    "    return {\"context\": [formatted_search_docs]}\n",
    "\n",
    "\n",
    "async def search_wikipedia(state: InterviewState) -> dict[str, Any]:\n",
    "    structured_llm = llm.with_structured_output(SearchQuery)\n",
    "    search_query: SearchQuery = await structured_llm.ainvoke(\n",
    "        [SystemMessage(content=search_instructions)] + state[\"messages\"]\n",
    "    )\n",
    "\n",
    "    # Search wikipedia\n",
    "    search_docs = WikipediaLoader(search_query.search_query, load_max_docs=2).load()\n",
    "\n",
    "    formatted_search_docs = \"\\n\\n ---\\n\\n\".join(\n",
    "        [\n",
    "            f'<Document source=\"{doc.metadata[\"source\"]}\" '\n",
    "            f'page=\"{doc.metadata.get(\"page\", \"\")}\"/>\\n{doc.page_content}\\n</Document>'\n",
    "            for doc in search_docs\n",
    "        ]\n",
    "    )\n",
    "\n",
    "    return {\"context\": [formatted_search_docs]}\n",
    "\n",
    "\n",
    "async def generate_answer(state: InterviewState) -> dict[str, Any]:\n",
    "    # Get state\n",
    "    analyst: Analyst = state[\"analyst\"]\n",
    "    messages: list[Any] = state[\"messages\"]\n",
    "    context: list[Any] = state[\"context\"]\n",
    "\n",
    "    # Answer questions\n",
    "    system_message: str = answer_instructions.format(goals=analyst.persona, context=context)\n",
    "    answer = await llm.ainvoke([SystemMessage(content=system_message)] + messages)\n",
    "    answer.name = \"expert\"  # Add a name to the answer\n",
    "\n",
    "    # Write the message to the state\n",
    "    return {\"answer\": [answer]}\n",
    "\n",
    "\n",
    "def save_interview(state: InterviewState) -> dict[str, Any]:\n",
    "    messages = state[\"messages\"]\n",
    "    # Convert interview to string\n",
    "    interview = get_buffer_string(messages)\n",
    "\n",
    "    return {\"interview\": interview}\n",
    "\n",
    "\n",
    "def route_messages(state: InterviewState, name: str = \"expert\"):\n",
    "    \"\"\"Route between question and answer\"\"\"\n",
    "\n",
    "    # Get messages\n",
    "    messages = state[\"messages\"]\n",
    "    max_num_turns = state.get(\"max_num_turns\", 2)\n",
    "\n",
    "    # Check the number of expert answers\n",
    "    num_responses = len([m for m in messages if isinstance(m, AIMessage) and m.name == name])\n",
    "\n",
    "    # End if expert has answered more than the max turns\n",
    "    if num_responses >= max_num_turns:\n",
    "        return \"save_interview\"\n",
    "\n",
    "    # This router is run after each question - answer pair\n",
    "    # Get the last question asked to check if it signals the end of discussion\n",
    "    last_question = messages[-2]\n",
    "\n",
    "    if \"Thank you so much for your help\" in last_question.content:\n",
    "        return \"save_interview\"\n",
    "    return \"ask_question\"\n",
    "\n",
    "\n",
    "async def write_section(state: InterviewState) -> dict[str, Any]:\n",
    "    # Get state\n",
    "    context: list[Any] = state[\"context\"]\n",
    "    analyst: Analyst = state[\"analyst\"]\n",
    "\n",
    "    # Create the source doc using either the context or the interview\n",
    "    system_message = section_writer_instructions.format(focus=analyst.description)\n",
    "    section = await llm.ainvoke(\n",
    "        [SystemMessage(content=system_message)]\n",
    "        + [HumanMessage(content=f\"Use this source to write your section: {context}\")]\n",
    "    )\n",
    "\n",
    "    # Write the message to the state\n",
    "    return {\"sections\": [section.content]}"
   ]
  },
  {
   "cell_type": "code",
   "execution_count": null,
   "id": "f15240dd",
   "metadata": {},
   "outputs": [],
   "source": []
  },
  {
   "cell_type": "code",
   "execution_count": null,
   "metadata": {},
   "outputs": [
    {
     "data": {
      "image/png": "[encoded data removed]",
      "text/plain": [
       "<IPython.core.display.Image object>"
      ]
     },
     "metadata": {},
     "output_type": "display_data"
    }
   ],
   "source": [
    "from langchain_core.runnables import RunnableConfig\n",
    "\n",
    "\n",
    "# Create graph\n",
    "graph_builder = StateGraph(InterviewState)\n",
    "\n",
    "# Add nodes\n",
    "graph_builder.add_node(\"search_web\", search_web)\n",
    "graph_builder.add_node(\"search_wikipedia\", search_wikipedia)\n",
    "graph_builder.add_node(\"ask_question\", generate_question)\n",
    "graph_builder.add_node(\"answer_question\", generate_answer)\n",
    "graph_builder.add_node(\"save_interview\", save_interview)\n",
    "graph_builder.add_node(\"write_section\", write_section)\n",
    "\n",
    "# Connect nodes\n",
    "graph_builder.add_edge(START, \"ask_question\")\n",
    "graph_builder.add_edge(\"ask_question\", \"search_wikipedia\")\n",
    "graph_builder.add_edge(\"ask_question\", \"search_web\")\n",
    "graph_builder.add_edge(\"search_web\", \"answer_question\")\n",
    "graph_builder.add_edge(\"search_wikipedia\", \"answer_question\")\n",
    "graph_builder.add_conditional_edges(\n",
    "    \"answer_question\",\n",
    "    route_messages,\n",
    "    {\"ask_question\": \"ask_question\", \"save_interview\": \"save_interview\"},\n",
    ")\n",
    "graph_builder.add_edge(\"save_interview\", \"write_section\")\n",
    "graph_builder.add_edge(\"write_section\", END)\n",
    "\n",
    "# Compile the graph\n",
    "memory = MemorySaver()\n",
    "langfuse_handler = CallbackHandler()\n",
    "config = RunnableConfig(callbacks=[langfuse_handler], run_name=\"Conduct Interviews\")\n",
    "graph: CompiledStateGraph = graph_builder.compile(checkpointer=memory).with_config(config)\n",
    "\n",
    "# Visualize the graph\n",
    "display(Image(graph.get_graph().draw_mermaid_png()))"
   ]
  },
  {
   "cell_type": "code",
   "execution_count": 26,
   "id": "cdaeb560",
   "metadata": {},
   "outputs": [
    {
     "data": {
      "text/html": [
       "<pre style=\"white-space:pre;overflow-x:auto;line-height:normal;font-family:Menlo,'DejaVu Sans Mono',consolas,'Courier New',monospace\"><span style=\"color: #7fbfbf; text-decoration-color: #7fbfbf\">[18:54:20] </span><span style=\"color: #800080; text-decoration-color: #800080; font-weight: bold\">Analyst</span><span style=\"font-weight: bold\">(</span>                                                                                 <a href=\"file:///var/folders/ny/dl75sc_x2tb54lsymt5bh5p00000gn/T/ipykernel_42530/3880302351.py\" target=\"_blank\"><span style=\"color: #7f7f7f; text-decoration-color: #7f7f7f\">3880302351.py</span></a><span style=\"color: #7f7f7f; text-decoration-color: #7f7f7f\">:</span><a href=\"file:///var/folders/ny/dl75sc_x2tb54lsymt5bh5p00000gn/T/ipykernel_42530/3880302351.py#2\" target=\"_blank\"><span style=\"color: #7f7f7f; text-decoration-color: #7f7f7f\">2</span></a>\n",
       "<span style=\"color: #7fbfbf; text-decoration-color: #7fbfbf\">           </span>    <span style=\"color: #808000; text-decoration-color: #808000\">affiliation</span>=<span style=\"color: #008000; text-decoration-color: #008000\">'University of Notre Dame'</span>,                                              <span style=\"color: #7f7f7f; text-decoration-color: #7f7f7f\">               </span>\n",
       "<span style=\"color: #7fbfbf; text-decoration-color: #7fbfbf\">           </span>    <span style=\"color: #808000; text-decoration-color: #808000\">role</span>=<span style=\"color: #008000; text-decoration-color: #008000\">'Theologian'</span>,                                                                   <span style=\"color: #7f7f7f; text-decoration-color: #7f7f7f\">               </span>\n",
       "<span style=\"color: #7fbfbf; text-decoration-color: #7fbfbf\">           </span>    <span style=\"color: #808000; text-decoration-color: #808000\">name</span>=<span style=\"color: #008000; text-decoration-color: #008000\">'Dr. Maria Rodriguez'</span>,                                                          <span style=\"color: #7f7f7f; text-decoration-color: #7f7f7f\">               </span>\n",
       "<span style=\"color: #7fbfbf; text-decoration-color: #7fbfbf\">           </span>    <span style=\"color: #808000; text-decoration-color: #808000\">description</span>=<span style=\"color: #008000; text-decoration-color: #008000\">'Dr. Rodriguez is a theologian with a focus on the historical </span>           <span style=\"color: #7f7f7f; text-decoration-color: #7f7f7f\">               </span>\n",
       "<span style=\"color: #7fbfbf; text-decoration-color: #7fbfbf\">           </span><span style=\"color: #008000; text-decoration-color: #008000\">development of Christian doctrine. She is well-versed in the writings of early Church </span>   <span style=\"color: #7f7f7f; text-decoration-color: #7f7f7f\">               </span>\n",
       "<span style=\"color: #7fbfbf; text-decoration-color: #7fbfbf\">           </span><span style=\"color: #008000; text-decoration-color: #008000\">Fathers and has a deep understanding of the apostolic tradition. Her analysis will </span>      <span style=\"color: #7f7f7f; text-decoration-color: #7f7f7f\">               </span>\n",
       "<span style=\"color: #7fbfbf; text-decoration-color: #7fbfbf\">           </span><span style=\"color: #008000; text-decoration-color: #008000\">provide insight into the traditional perspective on the benefits of Christianity, </span>       <span style=\"color: #7f7f7f; text-decoration-color: #7f7f7f\">               </span>\n",
       "<span style=\"color: #7fbfbf; text-decoration-color: #7fbfbf\">           </span><span style=\"color: #008000; text-decoration-color: #008000\">highlighting its role in shaping Western civilization and its continued influence on </span>    <span style=\"color: #7f7f7f; text-decoration-color: #7f7f7f\">               </span>\n",
       "<span style=\"color: #7fbfbf; text-decoration-color: #7fbfbf\">           </span><span style=\"color: #008000; text-decoration-color: #008000\">modern society.'</span>                                                                         <span style=\"color: #7f7f7f; text-decoration-color: #7f7f7f\">               </span>\n",
       "<span style=\"color: #7fbfbf; text-decoration-color: #7fbfbf\">           </span><span style=\"font-weight: bold\">)</span>                                                                                        <span style=\"color: #7f7f7f; text-decoration-color: #7f7f7f\">               </span>\n",
       "</pre>\n"
      ],
      "text/plain": [
       "\u001b[2;36m[18:54:20]\u001b[0m\u001b[2;36m \u001b[0m\u001b[1;35mAnalyst\u001b[0m\u001b[1m(\u001b[0m                                                                                 \u001b]8;id=800082;file:///var/folders/ny/dl75sc_x2tb54lsymt5bh5p00000gn/T/ipykernel_42530/3880302351.py\u001b\\\u001b[2m3880302351.py\u001b[0m\u001b]8;;\u001b\\\u001b[2m:\u001b[0m\u001b]8;id=465873;file:///var/folders/ny/dl75sc_x2tb54lsymt5bh5p00000gn/T/ipykernel_42530/3880302351.py#2\u001b\\\u001b[2m2\u001b[0m\u001b]8;;\u001b\\\n",
       "\u001b[2;36m           \u001b[0m    \u001b[33maffiliation\u001b[0m=\u001b[32m'University of Notre Dame'\u001b[0m,                                              \u001b[2m               \u001b[0m\n",
       "\u001b[2;36m           \u001b[0m    \u001b[33mrole\u001b[0m=\u001b[32m'Theologian'\u001b[0m,                                                                   \u001b[2m               \u001b[0m\n",
       "\u001b[2;36m           \u001b[0m    \u001b[33mname\u001b[0m=\u001b[32m'Dr. Maria Rodriguez'\u001b[0m,                                                          \u001b[2m               \u001b[0m\n",
       "\u001b[2;36m           \u001b[0m    \u001b[33mdescription\u001b[0m=\u001b[32m'Dr. Rodriguez is a theologian with a focus on the historical \u001b[0m           \u001b[2m               \u001b[0m\n",
       "\u001b[2;36m           \u001b[0m\u001b[32mdevelopment of Christian doctrine. She is well-versed in the writings of early Church \u001b[0m   \u001b[2m               \u001b[0m\n",
       "\u001b[2;36m           \u001b[0m\u001b[32mFathers and has a deep understanding of the apostolic tradition. Her analysis will \u001b[0m      \u001b[2m               \u001b[0m\n",
       "\u001b[2;36m           \u001b[0m\u001b[32mprovide insight into the traditional perspective on the benefits of Christianity, \u001b[0m       \u001b[2m               \u001b[0m\n",
       "\u001b[2;36m           \u001b[0m\u001b[32mhighlighting its role in shaping Western civilization and its continued influence on \u001b[0m    \u001b[2m               \u001b[0m\n",
       "\u001b[2;36m           \u001b[0m\u001b[32mmodern society.'\u001b[0m                                                                         \u001b[2m               \u001b[0m\n",
       "\u001b[2;36m           \u001b[0m\u001b[1m)\u001b[0m                                                                                        \u001b[2m               \u001b[0m\n"
      ]
     },
     "metadata": {},
     "output_type": "display_data"
    }
   ],
   "source": [
    "# Pick one analyst\n",
    "console.log(analysts[0])"
   ]
  },
  {
   "cell_type": "code",
   "execution_count": 32,
   "id": "7211716f",
   "metadata": {},
   "outputs": [
    {
     "ename": "ValueError",
     "evalue": "Structured Output response does not have a 'parsed' field nor a 'refusal' field. Received message:\n\ncontent='' additional_kwargs={'parsed': None, 'refusal': None} response_metadata={'token_usage': {'completion_tokens': 1, 'prompt_tokens': 1406, 'total_tokens': 1407, 'completion_tokens_details': None, 'prompt_tokens_details': None}, 'model_name': 'qwen/qwen3-30b-a3b', 'system_fingerprint': None, 'id': 'gen-1749322366-CpE53yKFun3iV5cAMaPy', 'service_tier': None, 'finish_reason': 'stop', 'logprobs': None} id='run--be02c9f3-33b1-44b8-900c-1a77d1eca949-0' usage_metadata={'input_tokens': 1406, 'output_tokens': 1, 'total_tokens': 1407, 'input_token_details': {}, 'output_token_details': {}}",
     "output_type": "error",
     "traceback": [
      "\u001b[31m---------------------------------------------------------------------------\u001b[39m",
      "\u001b[31mValueError\u001b[39m                                Traceback (most recent call last)",
      "\u001b[36mCell\u001b[39m\u001b[36m \u001b[39m\u001b[32mIn[32]\u001b[39m\u001b[32m, line 11\u001b[39m\n\u001b[32m      4\u001b[39m thread: \u001b[38;5;28mdict\u001b[39m[\u001b[38;5;28mstr\u001b[39m, Any] = {\u001b[33m\"\u001b[39m\u001b[33mconfigurable\u001b[39m\u001b[33m\"\u001b[39m: {\u001b[33m\"\u001b[39m\u001b[33mthread_id\u001b[39m\u001b[33m\"\u001b[39m: \u001b[33m\"\u001b[39m\u001b[33m1\u001b[39m\u001b[33m\"\u001b[39m}}\n\u001b[32m      5\u001b[39m input_values: \u001b[38;5;28mdict\u001b[39m[\u001b[38;5;28mstr\u001b[39m, Any] = {\n\u001b[32m      6\u001b[39m     \u001b[33m\"\u001b[39m\u001b[33manalyst\u001b[39m\u001b[33m\"\u001b[39m: analysts[\u001b[32m0\u001b[39m],\n\u001b[32m      7\u001b[39m     \u001b[33m\"\u001b[39m\u001b[33mmessages\u001b[39m\u001b[33m\"\u001b[39m: messages,\n\u001b[32m      8\u001b[39m     \u001b[33m\"\u001b[39m\u001b[33mmax_num_turns\u001b[39m\u001b[33m\"\u001b[39m: \u001b[32m2\u001b[39m,\n\u001b[32m      9\u001b[39m }\n\u001b[32m---> \u001b[39m\u001b[32m11\u001b[39m interview = \u001b[38;5;28;01mawait\u001b[39;00m graph.ainvoke(input_values, thread)\n\u001b[32m     13\u001b[39m Markdown(interview[\u001b[33m\"\u001b[39m\u001b[33msections\u001b[39m\u001b[33m\"\u001b[39m][\u001b[32m0\u001b[39m])\n",
      "\u001b[36mFile \u001b[39m\u001b[32m~/Desktop/Projects/Personal/My_Projects/AI-Tutorials/.venv/lib/python3.12/site-packages/langgraph/pregel/__init__.py:2892\u001b[39m, in \u001b[36mPregel.ainvoke\u001b[39m\u001b[34m(self, input, config, stream_mode, output_keys, interrupt_before, interrupt_after, checkpoint_during, debug, **kwargs)\u001b[39m\n\u001b[32m   2889\u001b[39m chunks: \u001b[38;5;28mlist\u001b[39m[Union[\u001b[38;5;28mdict\u001b[39m[\u001b[38;5;28mstr\u001b[39m, Any], Any]] = []\n\u001b[32m   2890\u001b[39m interrupts: \u001b[38;5;28mlist\u001b[39m[Interrupt] = []\n\u001b[32m-> \u001b[39m\u001b[32m2892\u001b[39m \u001b[38;5;28;01masync\u001b[39;00m \u001b[38;5;28;01mfor\u001b[39;00m chunk \u001b[38;5;129;01min\u001b[39;00m \u001b[38;5;28mself\u001b[39m.astream(\n\u001b[32m   2893\u001b[39m     \u001b[38;5;28minput\u001b[39m,\n\u001b[32m   2894\u001b[39m     config,\n\u001b[32m   2895\u001b[39m     stream_mode=stream_mode,\n\u001b[32m   2896\u001b[39m     output_keys=output_keys,\n\u001b[32m   2897\u001b[39m     interrupt_before=interrupt_before,\n\u001b[32m   2898\u001b[39m     interrupt_after=interrupt_after,\n\u001b[32m   2899\u001b[39m     checkpoint_during=checkpoint_during,\n\u001b[32m   2900\u001b[39m     debug=debug,\n\u001b[32m   2901\u001b[39m     **kwargs,\n\u001b[32m   2902\u001b[39m ):\n\u001b[32m   2903\u001b[39m     \u001b[38;5;28;01mif\u001b[39;00m stream_mode == \u001b[33m\"\u001b[39m\u001b[33mvalues\u001b[39m\u001b[33m\"\u001b[39m:\n\u001b[32m   2904\u001b[39m         \u001b[38;5;28;01mif\u001b[39;00m (\n\u001b[32m   2905\u001b[39m             \u001b[38;5;28misinstance\u001b[39m(chunk, \u001b[38;5;28mdict\u001b[39m)\n\u001b[32m   2906\u001b[39m             \u001b[38;5;129;01mand\u001b[39;00m (ints := chunk.get(INTERRUPT)) \u001b[38;5;129;01mis\u001b[39;00m \u001b[38;5;129;01mnot\u001b[39;00m \u001b[38;5;28;01mNone\u001b[39;00m\n\u001b[32m   2907\u001b[39m         ):\n",
      "\u001b[36mFile \u001b[39m\u001b[32m~/Desktop/Projects/Personal/My_Projects/AI-Tutorials/.venv/lib/python3.12/site-packages/langgraph/pregel/__init__.py:2759\u001b[39m, in \u001b[36mPregel.astream\u001b[39m\u001b[34m(self, input, config, stream_mode, output_keys, interrupt_before, interrupt_after, checkpoint_during, debug, subgraphs)\u001b[39m\n\u001b[32m   2753\u001b[39m \u001b[38;5;66;03m# Similarly to Bulk Synchronous Parallel / Pregel model\u001b[39;00m\n\u001b[32m   2754\u001b[39m \u001b[38;5;66;03m# computation proceeds in steps, while there are channel updates\u001b[39;00m\n\u001b[32m   2755\u001b[39m \u001b[38;5;66;03m# channel updates from step N are only visible in step N+1\u001b[39;00m\n\u001b[32m   2756\u001b[39m \u001b[38;5;66;03m# channels are guaranteed to be immutable for the duration of the step,\u001b[39;00m\n\u001b[32m   2757\u001b[39m \u001b[38;5;66;03m# with channel updates applied only at the transition between steps\u001b[39;00m\n\u001b[32m   2758\u001b[39m \u001b[38;5;28;01mwhile\u001b[39;00m loop.tick(input_keys=\u001b[38;5;28mself\u001b[39m.input_channels):\n\u001b[32m-> \u001b[39m\u001b[32m2759\u001b[39m     \u001b[38;5;28;01masync\u001b[39;00m \u001b[38;5;28;01mfor\u001b[39;00m _ \u001b[38;5;129;01min\u001b[39;00m runner.atick(\n\u001b[32m   2760\u001b[39m         loop.tasks.values(),\n\u001b[32m   2761\u001b[39m         timeout=\u001b[38;5;28mself\u001b[39m.step_timeout,\n\u001b[32m   2762\u001b[39m         retry_policy=\u001b[38;5;28mself\u001b[39m.retry_policy,\n\u001b[32m   2763\u001b[39m         get_waiter=get_waiter,\n\u001b[32m   2764\u001b[39m     ):\n\u001b[32m   2765\u001b[39m         \u001b[38;5;66;03m# emit output\u001b[39;00m\n\u001b[32m   2766\u001b[39m         \u001b[38;5;28;01mfor\u001b[39;00m o \u001b[38;5;129;01min\u001b[39;00m output():\n\u001b[32m   2767\u001b[39m             \u001b[38;5;28;01myield\u001b[39;00m o\n",
      "\u001b[36mCell\u001b[39m\u001b[36m \u001b[39m\u001b[32mIn[24]\u001b[39m\u001b[32m, line 19\u001b[39m, in \u001b[36msearch_web\u001b[39m\u001b[34m(state)\u001b[39m\n\u001b[32m     17\u001b[39m \u001b[38;5;28;01masync\u001b[39;00m \u001b[38;5;28;01mdef\u001b[39;00m\u001b[38;5;250m \u001b[39m\u001b[34msearch_web\u001b[39m(state: InterviewState) -> \u001b[38;5;28mdict\u001b[39m[\u001b[38;5;28mstr\u001b[39m, Any]:\n\u001b[32m     18\u001b[39m     structured_llm = llm.with_structured_output(SearchQuery)\n\u001b[32m---> \u001b[39m\u001b[32m19\u001b[39m     search_query: SearchQuery = \u001b[38;5;28;01mawait\u001b[39;00m structured_llm.ainvoke(\n\u001b[32m     20\u001b[39m         [SystemMessage(content=search_instructions)] + state[\u001b[33m\"\u001b[39m\u001b[33mmessages\u001b[39m\u001b[33m\"\u001b[39m]\n\u001b[32m     21\u001b[39m     )\n\u001b[32m     23\u001b[39m     \u001b[38;5;66;03m# Search web\u001b[39;00m\n\u001b[32m     24\u001b[39m     search_docs = \u001b[38;5;28;01mawait\u001b[39;00m tavily_search.ainvoke(search_query.search_query)\n",
      "\u001b[36mFile \u001b[39m\u001b[32m~/Desktop/Projects/Personal/My_Projects/AI-Tutorials/.venv/lib/python3.12/site-packages/langchain_core/runnables/base.py:3075\u001b[39m, in \u001b[36mRunnableSequence.ainvoke\u001b[39m\u001b[34m(self, input, config, **kwargs)\u001b[39m\n\u001b[32m   3073\u001b[39m             \u001b[38;5;28;01melse\u001b[39;00m:\n\u001b[32m   3074\u001b[39m                 part = functools.partial(step.ainvoke, \u001b[38;5;28minput\u001b[39m, config)\n\u001b[32m-> \u001b[39m\u001b[32m3075\u001b[39m             \u001b[38;5;28minput\u001b[39m = \u001b[38;5;28;01mawait\u001b[39;00m coro_with_context(part(), context, create_task=\u001b[38;5;28;01mTrue\u001b[39;00m)\n\u001b[32m   3076\u001b[39m     \u001b[38;5;66;03m# finish the root run\u001b[39;00m\n\u001b[32m   3077\u001b[39m \u001b[38;5;28;01mexcept\u001b[39;00m \u001b[38;5;167;01mBaseException\u001b[39;00m \u001b[38;5;28;01mas\u001b[39;00m e:\n",
      "\u001b[36mFile \u001b[39m\u001b[32m~/Desktop/Projects/Personal/My_Projects/AI-Tutorials/.venv/lib/python3.12/site-packages/langchain_core/runnables/base.py:5429\u001b[39m, in \u001b[36mRunnableBindingBase.ainvoke\u001b[39m\u001b[34m(self, input, config, **kwargs)\u001b[39m\n\u001b[32m   5422\u001b[39m \u001b[38;5;129m@override\u001b[39m\n\u001b[32m   5423\u001b[39m \u001b[38;5;28;01masync\u001b[39;00m \u001b[38;5;28;01mdef\u001b[39;00m\u001b[38;5;250m \u001b[39m\u001b[34mainvoke\u001b[39m(\n\u001b[32m   5424\u001b[39m     \u001b[38;5;28mself\u001b[39m,\n\u001b[32m   (...)\u001b[39m\u001b[32m   5427\u001b[39m     **kwargs: Optional[Any],\n\u001b[32m   5428\u001b[39m ) -> Output:\n\u001b[32m-> \u001b[39m\u001b[32m5429\u001b[39m     \u001b[38;5;28;01mreturn\u001b[39;00m \u001b[38;5;28;01mawait\u001b[39;00m \u001b[38;5;28mself\u001b[39m.bound.ainvoke(\n\u001b[32m   5430\u001b[39m         \u001b[38;5;28minput\u001b[39m,\n\u001b[32m   5431\u001b[39m         \u001b[38;5;28mself\u001b[39m._merge_configs(config),\n\u001b[32m   5432\u001b[39m         **{**\u001b[38;5;28mself\u001b[39m.kwargs, **kwargs},\n\u001b[32m   5433\u001b[39m     )\n",
      "\u001b[36mFile \u001b[39m\u001b[32m~/Desktop/Projects/Personal/My_Projects/AI-Tutorials/.venv/lib/python3.12/site-packages/langchain_core/runnables/base.py:4783\u001b[39m, in \u001b[36mRunnableLambda.ainvoke\u001b[39m\u001b[34m(self, input, config, **kwargs)\u001b[39m\n\u001b[32m   4766\u001b[39m \u001b[38;5;129m@override\u001b[39m\n\u001b[32m   4767\u001b[39m \u001b[38;5;28;01masync\u001b[39;00m \u001b[38;5;28;01mdef\u001b[39;00m\u001b[38;5;250m \u001b[39m\u001b[34mainvoke\u001b[39m(\n\u001b[32m   4768\u001b[39m     \u001b[38;5;28mself\u001b[39m,\n\u001b[32m   (...)\u001b[39m\u001b[32m   4771\u001b[39m     **kwargs: Optional[Any],\n\u001b[32m   4772\u001b[39m ) -> Output:\n\u001b[32m   4773\u001b[39m \u001b[38;5;250m    \u001b[39m\u001b[33;03m\"\"\"Invoke this Runnable asynchronously.\u001b[39;00m\n\u001b[32m   4774\u001b[39m \n\u001b[32m   4775\u001b[39m \u001b[33;03m    Args:\u001b[39;00m\n\u001b[32m   (...)\u001b[39m\u001b[32m   4781\u001b[39m \u001b[33;03m        The output of this Runnable.\u001b[39;00m\n\u001b[32m   4782\u001b[39m \u001b[33;03m    \"\"\"\u001b[39;00m\n\u001b[32m-> \u001b[39m\u001b[32m4783\u001b[39m     \u001b[38;5;28;01mreturn\u001b[39;00m \u001b[38;5;28;01mawait\u001b[39;00m \u001b[38;5;28mself\u001b[39m._acall_with_config(\n\u001b[32m   4784\u001b[39m         \u001b[38;5;28mself\u001b[39m._ainvoke,\n\u001b[32m   4785\u001b[39m         \u001b[38;5;28minput\u001b[39m,\n\u001b[32m   4786\u001b[39m         ensure_config(config),\n\u001b[32m   4787\u001b[39m         **kwargs,\n\u001b[32m   4788\u001b[39m     )\n",
      "\u001b[36mFile \u001b[39m\u001b[32m~/Desktop/Projects/Personal/My_Projects/AI-Tutorials/.venv/lib/python3.12/site-packages/langchain_core/runnables/base.py:1981\u001b[39m, in \u001b[36mRunnable._acall_with_config\u001b[39m\u001b[34m(self, func, input, config, run_type, serialized, **kwargs)\u001b[39m\n\u001b[32m   1977\u001b[39m     \u001b[38;5;28;01mwith\u001b[39;00m set_config_context(child_config) \u001b[38;5;28;01mas\u001b[39;00m context:\n\u001b[32m   1978\u001b[39m         coro = acall_func_with_variable_args(\n\u001b[32m   1979\u001b[39m             func, \u001b[38;5;28minput\u001b[39m, config, run_manager, **kwargs\n\u001b[32m   1980\u001b[39m         )\n\u001b[32m-> \u001b[39m\u001b[32m1981\u001b[39m         output: Output = \u001b[38;5;28;01mawait\u001b[39;00m coro_with_context(coro, context)\n\u001b[32m   1982\u001b[39m \u001b[38;5;28;01mexcept\u001b[39;00m \u001b[38;5;167;01mBaseException\u001b[39;00m \u001b[38;5;28;01mas\u001b[39;00m e:\n\u001b[32m   1983\u001b[39m     \u001b[38;5;28;01mawait\u001b[39;00m run_manager.on_chain_error(e)\n",
      "\u001b[36mFile \u001b[39m\u001b[32m~/Desktop/Projects/Personal/My_Projects/AI-Tutorials/.venv/lib/python3.12/site-packages/langchain_core/runnables/base.py:4715\u001b[39m, in \u001b[36mRunnableLambda._ainvoke\u001b[39m\u001b[34m(self, input, run_manager, config, **kwargs)\u001b[39m\n\u001b[32m   4713\u001b[39m                     output = chunk\n\u001b[32m   4714\u001b[39m \u001b[38;5;28;01melse\u001b[39;00m:\n\u001b[32m-> \u001b[39m\u001b[32m4715\u001b[39m     output = \u001b[38;5;28;01mawait\u001b[39;00m acall_func_with_variable_args(\n\u001b[32m   4716\u001b[39m         cast(\u001b[33m\"\u001b[39m\u001b[33mCallable\u001b[39m\u001b[33m\"\u001b[39m, afunc), \u001b[38;5;28minput\u001b[39m, config, run_manager, **kwargs\n\u001b[32m   4717\u001b[39m     )\n\u001b[32m   4718\u001b[39m \u001b[38;5;66;03m# If the output is a Runnable, invoke it\u001b[39;00m\n\u001b[32m   4719\u001b[39m \u001b[38;5;28;01mif\u001b[39;00m \u001b[38;5;28misinstance\u001b[39m(output, Runnable):\n",
      "\u001b[36mFile \u001b[39m\u001b[32m~/Desktop/Projects/Personal/My_Projects/AI-Tutorials/.venv/lib/python3.12/site-packages/langchain_core/runnables/base.py:4685\u001b[39m, in \u001b[36mRunnableLambda._ainvoke.<locals>.f\u001b[39m\u001b[34m(*args, **kwargs)\u001b[39m\n\u001b[32m   4683\u001b[39m \u001b[38;5;129m@wraps\u001b[39m(func)\n\u001b[32m   4684\u001b[39m \u001b[38;5;28;01masync\u001b[39;00m \u001b[38;5;28;01mdef\u001b[39;00m\u001b[38;5;250m \u001b[39m\u001b[34mf\u001b[39m(*args: Any, **kwargs: Any) -> Any:\n\u001b[32m-> \u001b[39m\u001b[32m4685\u001b[39m     \u001b[38;5;28;01mreturn\u001b[39;00m \u001b[38;5;28;01mawait\u001b[39;00m run_in_executor(config, func, *args, **kwargs)\n",
      "\u001b[36mFile \u001b[39m\u001b[32m~/Desktop/Projects/Personal/My_Projects/AI-Tutorials/.venv/lib/python3.12/site-packages/langchain_core/runnables/config.py:616\u001b[39m, in \u001b[36mrun_in_executor\u001b[39m\u001b[34m(executor_or_config, func, *args, **kwargs)\u001b[39m\n\u001b[32m    612\u001b[39m         \u001b[38;5;28;01mraise\u001b[39;00m \u001b[38;5;167;01mRuntimeError\u001b[39;00m \u001b[38;5;28;01mfrom\u001b[39;00m\u001b[38;5;250m \u001b[39m\u001b[34;01mexc\u001b[39;00m\n\u001b[32m    614\u001b[39m \u001b[38;5;28;01mif\u001b[39;00m executor_or_config \u001b[38;5;129;01mis\u001b[39;00m \u001b[38;5;28;01mNone\u001b[39;00m \u001b[38;5;129;01mor\u001b[39;00m \u001b[38;5;28misinstance\u001b[39m(executor_or_config, \u001b[38;5;28mdict\u001b[39m):\n\u001b[32m    615\u001b[39m     \u001b[38;5;66;03m# Use default executor with context copied from current context\u001b[39;00m\n\u001b[32m--> \u001b[39m\u001b[32m616\u001b[39m     \u001b[38;5;28;01mreturn\u001b[39;00m \u001b[38;5;28;01mawait\u001b[39;00m asyncio.get_running_loop().run_in_executor(\n\u001b[32m    617\u001b[39m         \u001b[38;5;28;01mNone\u001b[39;00m,\n\u001b[32m    618\u001b[39m         cast(\u001b[33m\"\u001b[39m\u001b[33mCallable[..., T]\u001b[39m\u001b[33m\"\u001b[39m, partial(copy_context().run, wrapper)),\n\u001b[32m    619\u001b[39m     )\n\u001b[32m    621\u001b[39m \u001b[38;5;28;01mreturn\u001b[39;00m \u001b[38;5;28;01mawait\u001b[39;00m asyncio.get_running_loop().run_in_executor(executor_or_config, wrapper)\n",
      "\u001b[36mFile \u001b[39m\u001b[32m~/.local/share/uv/python/cpython-3.12.7-macos-x86_64-none/lib/python3.12/concurrent/futures/thread.py:58\u001b[39m, in \u001b[36m_WorkItem.run\u001b[39m\u001b[34m(self)\u001b[39m\n\u001b[32m     55\u001b[39m     \u001b[38;5;28;01mreturn\u001b[39;00m\n\u001b[32m     57\u001b[39m \u001b[38;5;28;01mtry\u001b[39;00m:\n\u001b[32m---> \u001b[39m\u001b[32m58\u001b[39m     result = \u001b[38;5;28;43mself\u001b[39;49m\u001b[43m.\u001b[49m\u001b[43mfn\u001b[49m\u001b[43m(\u001b[49m\u001b[43m*\u001b[49m\u001b[38;5;28;43mself\u001b[39;49m\u001b[43m.\u001b[49m\u001b[43margs\u001b[49m\u001b[43m,\u001b[49m\u001b[43m \u001b[49m\u001b[43m*\u001b[49m\u001b[43m*\u001b[49m\u001b[38;5;28;43mself\u001b[39;49m\u001b[43m.\u001b[49m\u001b[43mkwargs\u001b[49m\u001b[43m)\u001b[49m\n\u001b[32m     59\u001b[39m \u001b[38;5;28;01mexcept\u001b[39;00m \u001b[38;5;167;01mBaseException\u001b[39;00m \u001b[38;5;28;01mas\u001b[39;00m exc:\n\u001b[32m     60\u001b[39m     \u001b[38;5;28mself\u001b[39m.future.set_exception(exc)\n",
      "\u001b[36mFile \u001b[39m\u001b[32m~/Desktop/Projects/Personal/My_Projects/AI-Tutorials/.venv/lib/python3.12/site-packages/langchain_core/runnables/config.py:607\u001b[39m, in \u001b[36mrun_in_executor.<locals>.wrapper\u001b[39m\u001b[34m()\u001b[39m\n\u001b[32m    605\u001b[39m \u001b[38;5;28;01mdef\u001b[39;00m\u001b[38;5;250m \u001b[39m\u001b[34mwrapper\u001b[39m() -> T:\n\u001b[32m    606\u001b[39m     \u001b[38;5;28;01mtry\u001b[39;00m:\n\u001b[32m--> \u001b[39m\u001b[32m607\u001b[39m         \u001b[38;5;28;01mreturn\u001b[39;00m \u001b[43mfunc\u001b[49m\u001b[43m(\u001b[49m\u001b[43m*\u001b[49m\u001b[43margs\u001b[49m\u001b[43m,\u001b[49m\u001b[43m \u001b[49m\u001b[43m*\u001b[49m\u001b[43m*\u001b[49m\u001b[43mkwargs\u001b[49m\u001b[43m)\u001b[49m\n\u001b[32m    608\u001b[39m     \u001b[38;5;28;01mexcept\u001b[39;00m \u001b[38;5;167;01mStopIteration\u001b[39;00m \u001b[38;5;28;01mas\u001b[39;00m exc:\n\u001b[32m    609\u001b[39m         \u001b[38;5;66;03m# StopIteration can't be set on an asyncio.Future\u001b[39;00m\n\u001b[32m    610\u001b[39m         \u001b[38;5;66;03m# it raises a TypeError and leaves the Future pending forever\u001b[39;00m\n\u001b[32m    611\u001b[39m         \u001b[38;5;66;03m# so we need to convert it to a RuntimeError\u001b[39;00m\n\u001b[32m    612\u001b[39m         \u001b[38;5;28;01mraise\u001b[39;00m \u001b[38;5;167;01mRuntimeError\u001b[39;00m \u001b[38;5;28;01mfrom\u001b[39;00m\u001b[38;5;250m \u001b[39m\u001b[34;01mexc\u001b[39;00m\n",
      "\u001b[36mFile \u001b[39m\u001b[32m~/Desktop/Projects/Personal/My_Projects/AI-Tutorials/.venv/lib/python3.12/site-packages/langchain_core/runnables/base.py:4679\u001b[39m, in \u001b[36mRunnableLambda._ainvoke.<locals>.func\u001b[39m\u001b[34m(input, run_manager, config, **kwargs)\u001b[39m\n\u001b[32m   4673\u001b[39m \u001b[38;5;28;01mdef\u001b[39;00m\u001b[38;5;250m \u001b[39m\u001b[34mfunc\u001b[39m(\n\u001b[32m   4674\u001b[39m     \u001b[38;5;28minput\u001b[39m: Input,\n\u001b[32m   4675\u001b[39m     run_manager: AsyncCallbackManagerForChainRun,\n\u001b[32m   4676\u001b[39m     config: RunnableConfig,\n\u001b[32m   4677\u001b[39m     **kwargs: Any,\n\u001b[32m   4678\u001b[39m ) -> Output:\n\u001b[32m-> \u001b[39m\u001b[32m4679\u001b[39m     \u001b[38;5;28;01mreturn\u001b[39;00m \u001b[43mcall_func_with_variable_args\u001b[49m\u001b[43m(\u001b[49m\n\u001b[32m   4680\u001b[39m \u001b[43m        \u001b[49m\u001b[38;5;28;43mself\u001b[39;49m\u001b[43m.\u001b[49m\u001b[43mfunc\u001b[49m\u001b[43m,\u001b[49m\u001b[43m \u001b[49m\u001b[38;5;28;43minput\u001b[39;49m\u001b[43m,\u001b[49m\u001b[43m \u001b[49m\u001b[43mconfig\u001b[49m\u001b[43m,\u001b[49m\u001b[43m \u001b[49m\u001b[43mrun_manager\u001b[49m\u001b[43m.\u001b[49m\u001b[43mget_sync\u001b[49m\u001b[43m(\u001b[49m\u001b[43m)\u001b[49m\u001b[43m,\u001b[49m\u001b[43m \u001b[49m\u001b[43m*\u001b[49m\u001b[43m*\u001b[49m\u001b[43mkwargs\u001b[49m\n\u001b[32m   4681\u001b[39m \u001b[43m    \u001b[49m\u001b[43m)\u001b[49m\n",
      "\u001b[36mFile \u001b[39m\u001b[32m~/Desktop/Projects/Personal/My_Projects/AI-Tutorials/.venv/lib/python3.12/site-packages/langchain_core/runnables/config.py:428\u001b[39m, in \u001b[36mcall_func_with_variable_args\u001b[39m\u001b[34m(func, input, config, run_manager, **kwargs)\u001b[39m\n\u001b[32m    426\u001b[39m \u001b[38;5;28;01mif\u001b[39;00m run_manager \u001b[38;5;129;01mis\u001b[39;00m \u001b[38;5;129;01mnot\u001b[39;00m \u001b[38;5;28;01mNone\u001b[39;00m \u001b[38;5;129;01mand\u001b[39;00m accepts_run_manager(func):\n\u001b[32m    427\u001b[39m     kwargs[\u001b[33m\"\u001b[39m\u001b[33mrun_manager\u001b[39m\u001b[33m\"\u001b[39m] = run_manager\n\u001b[32m--> \u001b[39m\u001b[32m428\u001b[39m \u001b[38;5;28;01mreturn\u001b[39;00m \u001b[43mfunc\u001b[49m\u001b[43m(\u001b[49m\u001b[38;5;28;43minput\u001b[39;49m\u001b[43m,\u001b[49m\u001b[43m \u001b[49m\u001b[43m*\u001b[49m\u001b[43m*\u001b[49m\u001b[43mkwargs\u001b[49m\u001b[43m)\u001b[49m\n",
      "\u001b[36mFile \u001b[39m\u001b[32m~/Desktop/Projects/Personal/My_Projects/AI-Tutorials/.venv/lib/python3.12/site-packages/langchain_openai/chat_models/base.py:2907\u001b[39m, in \u001b[36m_oai_structured_outputs_parser\u001b[39m\u001b[34m(ai_msg, schema)\u001b[39m\n\u001b[32m   2905\u001b[39m     \u001b[38;5;28;01mreturn\u001b[39;00m \u001b[38;5;28;01mNone\u001b[39;00m\n\u001b[32m   2906\u001b[39m \u001b[38;5;28;01melse\u001b[39;00m:\n\u001b[32m-> \u001b[39m\u001b[32m2907\u001b[39m     \u001b[38;5;28;01mraise\u001b[39;00m \u001b[38;5;167;01mValueError\u001b[39;00m(\n\u001b[32m   2908\u001b[39m         \u001b[33m\"\u001b[39m\u001b[33mStructured Output response does not have a \u001b[39m\u001b[33m'\u001b[39m\u001b[33mparsed\u001b[39m\u001b[33m'\u001b[39m\u001b[33m field nor a \u001b[39m\u001b[33m'\u001b[39m\u001b[33mrefusal\u001b[39m\u001b[33m'\u001b[39m\u001b[33m \u001b[39m\u001b[33m\"\u001b[39m\n\u001b[32m   2909\u001b[39m         \u001b[33mf\u001b[39m\u001b[33m\"\u001b[39m\u001b[33mfield. Received message:\u001b[39m\u001b[38;5;130;01m\\n\u001b[39;00m\u001b[38;5;130;01m\\n\u001b[39;00m\u001b[38;5;132;01m{\u001b[39;00mai_msg\u001b[38;5;132;01m}\u001b[39;00m\u001b[33m\"\u001b[39m\n\u001b[32m   2910\u001b[39m     )\n",
      "\u001b[31mValueError\u001b[39m: Structured Output response does not have a 'parsed' field nor a 'refusal' field. Received message:\n\ncontent='' additional_kwargs={'parsed': None, 'refusal': None} response_metadata={'token_usage': {'completion_tokens': 1, 'prompt_tokens': 1406, 'total_tokens': 1407, 'completion_tokens_details': None, 'prompt_tokens_details': None}, 'model_name': 'qwen/qwen3-30b-a3b', 'system_fingerprint': None, 'id': 'gen-1749322366-CpE53yKFun3iV5cAMaPy', 'service_tier': None, 'finish_reason': 'stop', 'logprobs': None} id='run--be02c9f3-33b1-44b8-900c-1a77d1eca949-0' usage_metadata={'input_tokens': 1406, 'output_tokens': 1, 'total_tokens': 1407, 'input_token_details': {}, 'output_token_details': {}}",
      "During task with name 'search_web' and id '28f3689e-7120-ab02-fc9e-a75c41774f5f'"
     ]
    }
   ],
   "source": [
    "messages = [HumanMessage(content=f\"So you said you were writing an article on {topic}?\")]\n",
    "thread: dict[str, Any] = {\"configurable\": {\"thread_id\": \"1\"}}\n",
    "input_values: dict[str, Any] = {\n",
    "    \"analyst\": analysts[0],\n",
    "    \"messages\": messages,\n",
    "    \"max_num_turns\": 2,\n",
    "}\n",
    "\n",
    "interview = await graph.ainvoke(input_values, thread)\n",
    "\n",
    "Markdown(interview[\"sections\"][0])"
   ]
  },
  {
   "cell_type": "code",
   "execution_count": null,
   "id": "4bbeab4d",
   "metadata": {},
   "outputs": [],
   "source": []
  },
  {
   "cell_type": "code",
   "execution_count": null,
   "id": "496e9475",
   "metadata": {},
   "outputs": [],
   "source": []
  },
  {
   "cell_type": "code",
   "execution_count": null,
   "metadata": {},
   "outputs": [],
   "source": []
  },
  {
   "cell_type": "code",
   "execution_count": null,
   "id": "ae955b78",
   "metadata": {},
   "outputs": [],
   "source": []
  },
  {
   "cell_type": "code",
   "execution_count": null,
   "id": "60e1ea86",
   "metadata": {},
   "outputs": [],
   "source": []
  },
  {
   "cell_type": "code",
   "execution_count": 28,
   "id": "8d2084ea",
   "metadata": {},
   "outputs": [
    {
     "ename": "NameError",
     "evalue": "name 'null' is not defined",
     "output_type": "error",
     "traceback": [
      "\u001b[31m---------------------------------------------------------------------------\u001b[39m",
      "\u001b[31mNameError\u001b[39m                                 Traceback (most recent call last)",
      "\u001b[36mCell\u001b[39m\u001b[36m \u001b[39m\u001b[32mIn[28]\u001b[39m\u001b[32m, line 5\u001b[39m\n\u001b[32m      1\u001b[39m {\n\u001b[32m      2\u001b[39m     \u001b[33m\"\u001b[39m\u001b[33mmessages\u001b[39m\u001b[33m\"\u001b[39m: [\n\u001b[32m      3\u001b[39m         {\n\u001b[32m      4\u001b[39m             \u001b[33m\"\u001b[39m\u001b[33mcontent\u001b[39m\u001b[33m\"\u001b[39m: \u001b[33m\"\u001b[39m\u001b[33mOkay, let\u001b[39m\u001b[33m'\u001b[39m\u001b[33ms get started.\u001b[39m\u001b[38;5;130;01m\\n\u001b[39;00m\u001b[38;5;130;01m\\n\u001b[39;00m\u001b[33mHi Dr. Reed,\u001b[39m\u001b[38;5;130;01m\\n\u001b[39;00m\u001b[38;5;130;01m\\n\u001b[39;00m\u001b[33mMy name is Maya Chen, and I\u001b[39m\u001b[33m'\u001b[39m\u001b[33mm conducting this analysis for [Insert Your Fictional Publication Name Here, e.g., The Analysis Herald]. Focusing on your expertise, one of our recurring areas is how religions, particularly Christianity given your focus, shape and are shaped by societal structures.\u001b[39m\u001b[38;5;130;01m\\n\u001b[39;00m\u001b[38;5;130;01m\\n\u001b[39;00m\u001b[33mFor this interview, my goal is to extract insights that are interesting – often highlighting surprising or non-obvious dynamics – and specific, grounded in concrete details from your academic knowledge and experience. Rather than general statements, I\u001b[39m\u001b[33m'\u001b[39m\u001b[33mm looking for observations you\u001b[39m\u001b[33m'\u001b[39m\u001b[33mve noted in your research or teaching.\u001b[39m\u001b[38;5;130;01m\\n\u001b[39;00m\u001b[38;5;130;01m\\n\u001b[39;00m\u001b[33mTo begin, pulling from your area of specialization, what are a couple of the non-obvious benefits you\u001b[39m\u001b[33m'\u001b[39m\u001b[33mve identified that Christianity offered to individuals and emerging societies?\u001b[39m\u001b[38;5;130;01m\\n\u001b[39;00m\u001b[38;5;130;01m\\n\u001b[39;00m\u001b[33mQuestion 1:\u001b[39m\u001b[38;5;130;01m\\n\u001b[39;00m\u001b[38;5;130;01m\\n\u001b[39;00m\u001b[33mUpon hearing that, I\u001b[39m\u001b[33m'\u001b[39m\u001b[33mm curious. Thinking specifically about the early Church\u001b[39m\u001b[33m'\u001b[39m\u001b[33ms rise, you mentioned the appeal of bishops providing order. Could you elaborate further on the specific mechanisms or examples where these early *practical benefits* (like stability, structure) were layered onto existing societal or cultural frameworks?\u001b[39m\u001b[38;5;130;01m\\n\u001b[39;00m\u001b[38;5;130;01m\\n\u001b[39;00m\u001b[33mQuestion 2:\u001b[39m\u001b[38;5;130;01m\\n\u001b[39;00m\u001b[38;5;130;01m\\n\u001b[39;00m\u001b[33mAnd perhaps touching on conversion – isn\u001b[39m\u001b[33m'\u001b[39m\u001b[33mt it frequently framed around the *content* of the message? But aren\u001b[39m\u001b[33m'\u001b[39m\u001b[33mt there also powerfully non-content-based factors, like the visible stories or tangible actions reinforcing group cohesion? Can you shed light on a specific historical or cultural instance where such *social validation* through the narrative of conversion played a significant specific role in spreading Christianity?\u001b[39m\u001b[38;5;130;01m\\n\u001b[39;00m\u001b[38;5;130;01m\\n\u001b[39;00m\u001b[33mQuestion 3:\u001b[39m\u001b[38;5;130;01m\\n\u001b[39;00m\u001b[38;5;130;01m\\n\u001b[39;00m\u001b[33mFinally, looking at Christianity\u001b[39m\u001b[33m'\u001b[39m\u001b[33ms broader societal impact, beyond immediate communities, you discussed it acting as a safety valve in a way. Are there concrete examples, perhaps from specific historical periods or manifestations you\u001b[39m\u001b[33m'\u001b[39m\u001b[33mve studied, where this promise (of conflict resolution, divine mediation) *did* yield tangible social outcomes or reframed societal tensions in a predictable, beneficial manner from the perspective of *those involved*, even if it seems paradoxical by modern standards?\u001b[39m\u001b[38;5;130;01m\\n\u001b[39;00m\u001b[38;5;130;01m\\n\u001b[39;00m\u001b[33mLooking forward to refining my understanding further.\u001b[39m\u001b[38;5;130;01m\\n\u001b[39;00m\u001b[38;5;130;01m\\n\u001b[39;00m\u001b[33mThank you so much for your help!\u001b[39m\u001b[33m\"\u001b[39m,\n\u001b[32m----> \u001b[39m\u001b[32m5\u001b[39m             \u001b[33m\"\u001b[39m\u001b[33madditional_kwargs\u001b[39m\u001b[33m\"\u001b[39m: {\u001b[33m\"\u001b[39m\u001b[33mrefusal\u001b[39m\u001b[33m\"\u001b[39m: \u001b[43mnull\u001b[49m},\n\u001b[32m      6\u001b[39m             \u001b[33m\"\u001b[39m\u001b[33mresponse_metadata\u001b[39m\u001b[33m\"\u001b[39m: {\n\u001b[32m      7\u001b[39m                 \u001b[33m\"\u001b[39m\u001b[33mtoken_usage\u001b[39m\u001b[33m\"\u001b[39m: {\n\u001b[32m      8\u001b[39m                     \u001b[33m\"\u001b[39m\u001b[33mcompletion_tokens\u001b[39m\u001b[33m\"\u001b[39m: \u001b[32m724\u001b[39m,\n\u001b[32m      9\u001b[39m                     \u001b[33m\"\u001b[39m\u001b[33mprompt_tokens\u001b[39m\u001b[33m\"\u001b[39m: \u001b[32m276\u001b[39m,\n\u001b[32m     10\u001b[39m                     \u001b[33m\"\u001b[39m\u001b[33mtotal_tokens\u001b[39m\u001b[33m\"\u001b[39m: \u001b[32m1000\u001b[39m,\n\u001b[32m     11\u001b[39m                     \u001b[33m\"\u001b[39m\u001b[33mcompletion_tokens_details\u001b[39m\u001b[33m\"\u001b[39m: null,\n\u001b[32m     12\u001b[39m                     \u001b[33m\"\u001b[39m\u001b[33mprompt_tokens_details\u001b[39m\u001b[33m\"\u001b[39m: null,\n\u001b[32m     13\u001b[39m                 },\n\u001b[32m     14\u001b[39m                 \u001b[33m\"\u001b[39m\u001b[33mmodel_name\u001b[39m\u001b[33m\"\u001b[39m: \u001b[33m\"\u001b[39m\u001b[33mdeepseek/deepseek-r1-0528-qwen3-8b\u001b[39m\u001b[33m\"\u001b[39m,\n\u001b[32m     15\u001b[39m                 \u001b[33m\"\u001b[39m\u001b[33msystem_fingerprint\u001b[39m\u001b[33m\"\u001b[39m: null,\n\u001b[32m     16\u001b[39m                 \u001b[33m\"\u001b[39m\u001b[33mid\u001b[39m\u001b[33m\"\u001b[39m: \u001b[33m\"\u001b[39m\u001b[33mgen-1749313339-FyyIcjUueWdDR6rYvXbA\u001b[39m\u001b[33m\"\u001b[39m,\n\u001b[32m     17\u001b[39m                 \u001b[33m\"\u001b[39m\u001b[33mservice_tier\u001b[39m\u001b[33m\"\u001b[39m: null,\n\u001b[32m     18\u001b[39m                 \u001b[33m\"\u001b[39m\u001b[33mfinish_reason\u001b[39m\u001b[33m\"\u001b[39m: \u001b[33m\"\u001b[39m\u001b[33mstop\u001b[39m\u001b[33m\"\u001b[39m,\n\u001b[32m     19\u001b[39m                 \u001b[33m\"\u001b[39m\u001b[33mlogprobs\u001b[39m\u001b[33m\"\u001b[39m: {\u001b[33m\"\u001b[39m\u001b[33mcontent\u001b[39m\u001b[33m\"\u001b[39m: [], \u001b[33m\"\u001b[39m\u001b[33mrefusal\u001b[39m\u001b[33m\"\u001b[39m: []},\n\u001b[32m     20\u001b[39m             },\n\u001b[32m     21\u001b[39m             \u001b[33m\"\u001b[39m\u001b[33mtype\u001b[39m\u001b[33m\"\u001b[39m: \u001b[33m\"\u001b[39m\u001b[33mai\u001b[39m\u001b[33m\"\u001b[39m,\n\u001b[32m     22\u001b[39m             \u001b[33m\"\u001b[39m\u001b[33mname\u001b[39m\u001b[33m\"\u001b[39m: null,\n\u001b[32m     23\u001b[39m             \u001b[33m\"\u001b[39m\u001b[33mid\u001b[39m\u001b[33m\"\u001b[39m: \u001b[33m\"\u001b[39m\u001b[33mrun--6839dd6c-aa4d-4e72-b32b-1b841b9b4b13-0\u001b[39m\u001b[33m\"\u001b[39m,\n\u001b[32m     24\u001b[39m             \u001b[33m\"\u001b[39m\u001b[33mexample\u001b[39m\u001b[33m\"\u001b[39m: false,\n\u001b[32m     25\u001b[39m             \u001b[33m\"\u001b[39m\u001b[33mtool_calls\u001b[39m\u001b[33m\"\u001b[39m: [],\n\u001b[32m     26\u001b[39m             \u001b[33m\"\u001b[39m\u001b[33minvalid_tool_calls\u001b[39m\u001b[33m\"\u001b[39m: [],\n\u001b[32m     27\u001b[39m             \u001b[33m\"\u001b[39m\u001b[33musage_metadata\u001b[39m\u001b[33m\"\u001b[39m: {\n\u001b[32m     28\u001b[39m                 \u001b[33m\"\u001b[39m\u001b[33minput_tokens\u001b[39m\u001b[33m\"\u001b[39m: \u001b[32m276\u001b[39m,\n\u001b[32m     29\u001b[39m                 \u001b[33m\"\u001b[39m\u001b[33moutput_tokens\u001b[39m\u001b[33m\"\u001b[39m: \u001b[32m724\u001b[39m,\n\u001b[32m     30\u001b[39m                 \u001b[33m\"\u001b[39m\u001b[33mtotal_tokens\u001b[39m\u001b[33m\"\u001b[39m: \u001b[32m1000\u001b[39m,\n\u001b[32m     31\u001b[39m                 \u001b[33m\"\u001b[39m\u001b[33minput_token_details\u001b[39m\u001b[33m\"\u001b[39m: {},\n\u001b[32m     32\u001b[39m                 \u001b[33m\"\u001b[39m\u001b[33moutput_token_details\u001b[39m\u001b[33m\"\u001b[39m: {},\n\u001b[32m     33\u001b[39m             },\n\u001b[32m     34\u001b[39m         }\n\u001b[32m     35\u001b[39m     ]\n\u001b[32m     36\u001b[39m }\n",
      "\u001b[31mNameError\u001b[39m: name 'null' is not defined"
     ]
    }
   ],
   "source": [
    "{\n",
    "    \"messages\": [\n",
    "        {\n",
    "            \"content\": \"Okay, let's get started.\\n\\nHi Dr. Reed,\\n\\nMy name is Maya Chen, and I'm conducting this analysis for [Insert Your Fictional Publication Name Here, e.g., The Analysis Herald]. Focusing on your expertise, one of our recurring areas is how religions, particularly Christianity given your focus, shape and are shaped by societal structures.\\n\\nFor this interview, my goal is to extract insights that are interesting – often highlighting surprising or non-obvious dynamics – and specific, grounded in concrete details from your academic knowledge and experience. Rather than general statements, I'm looking for observations you've noted in your research or teaching.\\n\\nTo begin, pulling from your area of specialization, what are a couple of the non-obvious benefits you've identified that Christianity offered to individuals and emerging societies?\\n\\nQuestion 1:\\n\\nUpon hearing that, I'm curious. Thinking specifically about the early Church's rise, you mentioned the appeal of bishops providing order. Could you elaborate further on the specific mechanisms or examples where these early *practical benefits* (like stability, structure) were layered onto existing societal or cultural frameworks?\\n\\nQuestion 2:\\n\\nAnd perhaps touching on conversion – isn't it frequently framed around the *content* of the message? But aren't there also powerfully non-content-based factors, like the visible stories or tangible actions reinforcing group cohesion? Can you shed light on a specific historical or cultural instance where such *social validation* through the narrative of conversion played a significant specific role in spreading Christianity?\\n\\nQuestion 3:\\n\\nFinally, looking at Christianity's broader societal impact, beyond immediate communities, you discussed it acting as a safety valve in a way. Are there concrete examples, perhaps from specific historical periods or manifestations you've studied, where this promise (of conflict resolution, divine mediation) *did* yield tangible social outcomes or reframed societal tensions in a predictable, beneficial manner from the perspective of *those involved*, even if it seems paradoxical by modern standards?\\n\\nLooking forward to refining my understanding further.\\n\\nThank you so much for your help!\",\n",
    "            \"additional_kwargs\": {\"refusal\": null},\n",
    "            \"response_metadata\": {\n",
    "                \"token_usage\": {\n",
    "                    \"completion_tokens\": 724,\n",
    "                    \"prompt_tokens\": 276,\n",
    "                    \"total_tokens\": 1000,\n",
    "                    \"completion_tokens_details\": null,\n",
    "                    \"prompt_tokens_details\": null,\n",
    "                },\n",
    "                \"model_name\": \"deepseek/deepseek-r1-0528-qwen3-8b\",\n",
    "                \"system_fingerprint\": null,\n",
    "                \"id\": \"gen-1749313339-FyyIcjUueWdDR6rYvXbA\",\n",
    "                \"service_tier\": null,\n",
    "                \"finish_reason\": \"stop\",\n",
    "                \"logprobs\": {\"content\": [], \"refusal\": []},\n",
    "            },\n",
    "            \"type\": \"ai\",\n",
    "            \"name\": null,\n",
    "            \"id\": \"run--6839dd6c-aa4d-4e72-b32b-1b841b9b4b13-0\",\n",
    "            \"example\": false,\n",
    "            \"tool_calls\": [],\n",
    "            \"invalid_tool_calls\": [],\n",
    "            \"usage_metadata\": {\n",
    "                \"input_tokens\": 276,\n",
    "                \"output_tokens\": 724,\n",
    "                \"total_tokens\": 1000,\n",
    "                \"input_token_details\": {},\n",
    "                \"output_token_details\": {},\n",
    "            },\n",
    "        }\n",
    "    ]\n",
    "}"
   ]
  },
  {
   "cell_type": "code",
   "execution_count": null,
   "metadata": {},
   "outputs": [],
   "source": [
    "{\n",
    "    \"messages\": [\n",
    "        {\n",
    "            \"content\": \"Okay, let's get started.\\n\\nHi Dr. Reed,\\n\\nMy name is Maya Chen, and I'm conducting this analysis for [Insert Your Fictional Publication Name Here, e.g., The Analysis Herald]. Focusing on your expertise, one of our recurring areas is how religions, particularly Christianity given your focus, shape and are shaped by societal structures.\\n\\nFor this interview, my goal is to extract insights that are interesting – often highlighting surprising or non-obvious dynamics – and specific, grounded in concrete details from your academic knowledge and experience. Rather than general statements, I'm looking for observations you've noted in your research or teaching.\\n\\nTo begin, pulling from your area of specialization, what are a couple of the non-obvious benefits you've identified that Christianity offered to individuals and emerging societies?\\n\\nQuestion 1:\\n\\nUpon hearing that, I'm curious. Thinking specifically about the early Church's rise, you mentioned the appeal of bishops providing order. Could you elaborate further on the specific mechanisms or examples where these early *practical benefits* (like stability, structure) were layered onto existing societal or cultural frameworks?\\n\\nQuestion 2:\\n\\nAnd perhaps touching on conversion – isn't it frequently framed around the *content* of the message? But aren't there also powerfully non-content-based factors, like the visible stories or tangible actions reinforcing group cohesion? Can you shed light on a specific historical or cultural instance where such *social validation* through the narrative of conversion played a significant specific role in spreading Christianity?\\n\\nQuestion 3:\\n\\nFinally, looking at Christianity's broader societal impact, beyond immediate communities, you discussed it acting as a safety valve in a way. Are there concrete examples, perhaps from specific historical periods or manifestations you've studied, where this promise (of conflict resolution, divine mediation) *did* yield tangible social outcomes or reframed societal tensions in a predictable, beneficial manner from the perspective of *those involved*, even if it seems paradoxical by modern standards?\\n\\nLooking forward to refining my understanding further.\\n\\nThank you so much for your help!\",\n",
    "            \"additional_kwargs\": {\"refusal\": null},\n",
    "            \"response_metadata\": {\n",
    "                \"token_usage\": {\n",
    "                    \"completion_tokens\": 724,\n",
    "                    \"prompt_tokens\": 276,\n",
    "                    \"total_tokens\": 1000,\n",
    "                    \"completion_tokens_details\": null,\n",
    "                    \"prompt_tokens_details\": null,\n",
    "                },\n",
    "                \"model_name\": \"deepseek/deepseek-r1-0528-qwen3-8b\",\n",
    "                \"system_fingerprint\": null,\n",
    "                \"id\": \"gen-1749313339-FyyIcjUueWdDR6rYvXbA\",\n",
    "                \"service_tier\": null,\n",
    "                \"finish_reason\": \"stop\",\n",
    "                \"logprobs\": {\"content\": [], \"refusal\": []},\n",
    "            },\n",
    "            \"type\": \"ai\",\n",
    "            \"name\": null,\n",
    "            \"id\": \"run--6839dd6c-aa4d-4e72-b32b-1b841b9b4b13-0\",\n",
    "            \"example\": false,\n",
    "            \"tool_calls\": [],\n",
    "            \"invalid_tool_calls\": [],\n",
    "            \"usage_metadata\": {\n",
    "                \"input_tokens\": 276,\n",
    "                \"output_tokens\": 724,\n",
    "                \"total_tokens\": 1000,\n",
    "                \"input_token_details\": {},\n",
    "                \"output_token_details\": {},\n",
    "            },\n",
    "        }\n",
    "    ]\n",
    "}"
   ]
  },
  {
   "cell_type": "code",
   "execution_count": null,
   "id": "88521bff",
   "metadata": {},
   "outputs": [],
   "source": []
  },
  {
   "cell_type": "code",
   "execution_count": null,
   "id": "3b673729",
   "metadata": {},
   "outputs": [],
   "source": []
  },
  {
   "cell_type": "code",
   "execution_count": null,
   "id": "117a299a",
   "metadata": {},
   "outputs": [],
   "source": []
  },
  {
   "cell_type": "code",
   "execution_count": null,
   "id": "bbc2cfff",
   "metadata": {},
   "outputs": [],
   "source": []
  },
  {
   "cell_type": "code",
   "execution_count": null,
   "id": "da8b176a",
   "metadata": {},
   "outputs": [],
   "source": []
  }
 ],
 "metadata": {
  "kernelspec": {
   "display_name": "ai-tutorials",
   "language": "python",
   "name": "python3"
  },
  "language_info": {
   "codemirror_mode": {
    "name": "ipython",
    "version": 3
   },
   "file_extension": ".py",
   "mimetype": "text/x-python",
   "name": "python",
   "nbconvert_exporter": "python",
   "pygments_lexer": "ipython3",
   "version": "3.12.7"
  }
 },
 "nbformat": 4,
 "nbformat_minor": 5
}
