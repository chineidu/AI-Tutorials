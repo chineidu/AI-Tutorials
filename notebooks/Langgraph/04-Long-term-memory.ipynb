{
 "cells": [
  {
   "cell_type": "markdown",
   "id": "dc0ce639",
   "metadata": {},
   "source": [
    "<a id=\"top\"></a>\n",
    "# Content\n",
    "\n",
    "\n",
    "### 1. [Map Reduce](#map-reduce)\n",
    "\n",
    "### 2. [Short Term vs Long Term Memory](#short-term-vs-long-term-memory)\n",
    "\n",
    "### 3. [Chatbot with Profile Schema](#chatbot-with-profile-schema)\n",
    "\n",
    "### 4. [Chatbot with Profile Collection](#chatbot-with-profile-collection)\n"
   ]
  },
  {
   "cell_type": "code",
   "execution_count": 1,
   "id": "5b2aa0f1",
   "metadata": {},
   "outputs": [],
   "source": [
    "# Built-in library\n",
    "import asyncio\n",
    "import json\n",
    "import logging\n",
    "import re\n",
    "import warnings\n",
    "from pathlib import Path\n",
    "from pprint import pprint\n",
    "from typing import (\n",
    "    Annotated,\n",
    "    Any,\n",
    "    Generator,\n",
    "    Iterable,\n",
    "    Literal,\n",
    "    Optional,\n",
    "    TypedDict,\n",
    "    Union,\n",
    ")\n",
    "\n",
    "# Standard imports\n",
    "import nest_asyncio\n",
    "import numpy as np\n",
    "import numpy.typing as npt\n",
    "import pandas as pd\n",
    "import polars as pl\n",
    "from rich.console import Console\n",
    "from rich.theme import Theme\n",
    "\n",
    "custom_theme = Theme(\n",
    "    {\n",
    "        \"white\": \"#FFFFFF\",  # Bright white\n",
    "        \"info\": \"#00FF00\",  # Bright green\n",
    "        \"warning\": \"#FFD700\",  # Bright gold\n",
    "        \"error\": \"#FF1493\",  # Deep pink\n",
    "        \"success\": \"#00FFFF\",  # Cyan\n",
    "        \"highlight\": \"#FF4500\",  # Orange-red\n",
    "    }\n",
    ")\n",
    "console = Console(theme=custom_theme)\n",
    "\n",
    "# Visualization\n",
    "# import matplotlib.pyplot as pltife\n",
    "\n",
    "# NumPy settings\n",
    "np.set_printoptions(precision=4)\n",
    "\n",
    "# Pandas settings\n",
    "pd.options.display.max_rows = 1_000\n",
    "pd.options.display.max_columns = 1_000\n",
    "pd.options.display.max_colwidth = 600\n",
    "\n",
    "# Polars settings\n",
    "pl.Config.set_fmt_str_lengths(1_000)\n",
    "pl.Config.set_tbl_cols(n=1_000)\n",
    "\n",
    "warnings.filterwarnings(\"ignore\")\n",
    "\n",
    "# Black code formatter (Optional)\n",
    "%load_ext lab_black\n",
    "\n",
    "# auto reload imports\n",
    "%load_ext autoreload\n",
    "%autoreload 2"
   ]
  },
  {
   "cell_type": "code",
   "execution_count": 2,
   "metadata": {},
   "outputs": [],
   "source": [
    "def go_up_from_current_directory(*, go_up: int = 1) -> None:\n",
    "    \"\"\"This is used to up a number of directories.\n",
    "\n",
    "    Params:\n",
    "    -------\n",
    "    go_up: int, default=1\n",
    "        This indicates the number of times to go back up from the current directory.\n",
    "\n",
    "    Returns:\n",
    "    --------\n",
    "    None\n",
    "    \"\"\"\n",
    "    import os\n",
    "    import sys\n",
    "\n",
    "    CONST: str = \"../\"\n",
    "    NUM: str = CONST * go_up\n",
    "\n",
    "    # Goto the previous directory\n",
    "    prev_directory = os.path.join(os.path.dirname(__name__), NUM)\n",
    "    # Get the 'absolute path' of the previous directory\n",
    "    abs_path_prev_directory = os.path.abspath(prev_directory)\n",
    "\n",
    "    # Add the path to the System paths\n",
    "    sys.path.insert(0, abs_path_prev_directory)\n",
    "    print(abs_path_prev_directory)"
   ]
  },
  {
   "cell_type": "code",
   "execution_count": 3,
   "id": "8d4f1fe2",
   "metadata": {},
   "outputs": [
    {
     "name": "stdout",
     "output_type": "stream",
     "text": [
      "/Users/neidu/Desktop/Projects/Personal/My_Projects/AI-Tutorials\n"
     ]
    }
   ],
   "source": [
    "go_up_from_current_directory(go_up=2)"
   ]
  },
  {
   "cell_type": "code",
   "execution_count": 4,
   "id": "a52381e9",
   "metadata": {},
   "outputs": [],
   "source": [
    "from schemas import ModelEnum  # noqa: E402\n",
    "from settings import refresh_settings  # noqa: E402\n",
    "from src.utilities.llm_utils import (\n",
    "    LLMResponse,\n",
    "    convert_openai_messages_to_string,\n",
    "    convert_to_openai_messages,\n",
    ")  # noqa: E402\n",
    "from utilities.client_utils import check_rate_limit  # noqa: E402\n",
    "\n",
    "settings = refresh_settings()"
   ]
  },
  {
   "cell_type": "code",
   "execution_count": 5,
   "id": "d6270200",
   "metadata": {},
   "outputs": [
    {
     "name": "stdout",
     "output_type": "stream",
     "text": [
      "{\n",
      "  \"data\": {\n",
      "    \"label\": \"sk-or-v1-902...c45\",\n",
      "    \"limit\": 5,\n",
      "    \"usage\": 3.7436591165,\n",
      "    \"is_provisioning_key\": false,\n",
      "    \"limit_remaining\": 1.2563408835,\n",
      "    \"is_free_tier\": false,\n",
      "    \"rate_limit\": {\n",
      "      \"requests\": 20,\n",
      "      \"interval\": \"10s\"\n",
      "    }\n",
      "  }\n",
      "}\n"
     ]
    }
   ],
   "source": [
    "check_rate_limit()"
   ]
  },
  {
   "cell_type": "markdown",
   "id": "c19e52c4",
   "metadata": {},
   "source": [
    "<br>\n",
    "\n",
    "### LangGraph Imports"
   ]
  },
  {
   "cell_type": "code",
   "execution_count": 6,
   "id": "82f1daba",
   "metadata": {},
   "outputs": [],
   "source": [
    "from IPython.display import Image, display\n",
    "from langchain.chat_models import init_chat_model\n",
    "from langchain_core.messages import (\n",
    "    AIMessage,\n",
    "    AnyMessage,\n",
    "    HumanMessage,\n",
    "    SystemMessage,\n",
    "    ToolMessage,\n",
    ")\n",
    "from langchain_core.tools import InjectedToolCallId, tool\n",
    "from langchain_litellm import ChatLiteLLM\n",
    "from langchain_tavily import TavilySearch\n",
    "from langfuse.langchain import CallbackHandler\n",
    "from langgraph.checkpoint.memory import MemorySaver\n",
    "from langgraph.graph import END, START, StateGraph\n",
    "from langgraph.graph.message import add_messages\n",
    "from langgraph.prebuilt import ToolNode, tools_condition\n",
    "from langgraph.types import Command, interrupt"
   ]
  },
  {
   "cell_type": "code",
   "execution_count": 7,
   "id": "b9c6b95d",
   "metadata": {},
   "outputs": [],
   "source": [
    "from langchain_core.language_models.chat_models import BaseChatModel\n",
    "\n",
    "subject_prompt: str = \"\"\"\n",
    "<system>\n",
    "\n",
    "Generate a list of 3 sub-topics that are all \n",
    "related to this overall topic:\n",
    "\n",
    "<topic>\n",
    "{topic!r} \n",
    "</topic>\n",
    "\n",
    "</system>\n",
    "\"\"\"\n",
    "\n",
    "joke_prompt: str = \"\"\"\n",
    "<system>\n",
    "Generate a joke about:\n",
    "\n",
    "<subject>\n",
    "{subject!r}\n",
    "</subject>\n",
    "\n",
    "</system>\n",
    "\"\"\"\n",
    "\n",
    "best_joke_prompt: str = \"\"\"\n",
    "<system>\n",
    "Below are a bunch of jokes about:\n",
    "\n",
    "<topic>\n",
    "{topic!r}.\n",
    "</topic>\n",
    "\n",
    "Select the best one! Return the ID of the best one, starting 0 \n",
    "as the ID for the first joke. \n",
    "<jokes>\n",
    "{jokes}\n",
    "</jokes>\n",
    "\n",
    "<output>\n",
    "Return the ID of the best joke as an integer.\n",
    "</output>\n",
    "\n",
    "</system>\n",
    "\"\"\""
   ]
  },
  {
   "cell_type": "markdown",
   "id": "47d08894",
   "metadata": {},
   "source": [
    "### Initialize the LLM"
   ]
  },
  {
   "cell_type": "code",
   "execution_count": 8,
   "id": "94400eee",
   "metadata": {},
   "outputs": [
    {
     "data": {
      "text/html": [
       "<pre style=\"white-space:pre;overflow-x:auto;line-height:normal;font-family:Menlo,'DejaVu Sans Mono',consolas,'Courier New',monospace\"><span style=\"color: #800080; text-decoration-color: #800080; font-weight: bold\">LLMResponse</span><span style=\"font-weight: bold\">(</span>\n",
       "    <span style=\"color: #808000; text-decoration-color: #808000\">api_key</span>=<span style=\"color: #800080; text-decoration-color: #800080; font-weight: bold\">SecretStr</span><span style=\"font-weight: bold\">(</span><span style=\"color: #008000; text-decoration-color: #008000\">'**********'</span><span style=\"font-weight: bold\">)</span>,\n",
       "    <span style=\"color: #808000; text-decoration-color: #808000\">base_url</span>=<span style=\"color: #008000; text-decoration-color: #008000\">'https://openrouter.ai/api/v1'</span>,\n",
       "    <span style=\"color: #808000; text-decoration-color: #808000\">model</span>=<span style=\"color: #008000; text-decoration-color: #008000\">'meta-llama/llama-3.1-8b-instruct'</span>\n",
       "<span style=\"font-weight: bold\">)</span>\n",
       "</pre>\n"
      ],
      "text/plain": [
       "\u001b[1;35mLLMResponse\u001b[0m\u001b[1m(\u001b[0m\n",
       "    \u001b[33mapi_key\u001b[0m=\u001b[1;35mSecretStr\u001b[0m\u001b[1m(\u001b[0m\u001b[32m'**********'\u001b[0m\u001b[1m)\u001b[0m,\n",
       "    \u001b[33mbase_url\u001b[0m=\u001b[32m'https://openrouter.ai/api/v1'\u001b[0m,\n",
       "    \u001b[33mmodel\u001b[0m=\u001b[32m'meta-llama/llama-3.1-8b-instruct'\u001b[0m\n",
       "\u001b[1m)\u001b[0m\n"
      ]
     },
     "metadata": {},
     "output_type": "display_data"
    }
   ],
   "source": [
    "llm = LLMResponse(\n",
    "    api_key=settings.OPENROUTER_API_KEY,\n",
    "    base_url=settings.OPENROUTER_URL,\n",
    "    model=ModelEnum.LLAMA_3p1_8B_INSTRUCT_REMOTE.value,  # noqa: E501\n",
    ")\n",
    "console.print(llm)"
   ]
  },
  {
   "cell_type": "code",
   "execution_count": 9,
   "id": "7dc3266b",
   "metadata": {},
   "outputs": [
    {
     "data": {
      "text/html": [
       "<pre style=\"white-space:pre;overflow-x:auto;line-height:normal;font-family:Menlo,'DejaVu Sans Mono',consolas,'Courier New',monospace\">Raw response: <span style=\"color: #800080; text-decoration-color: #800080; font-weight: bold\">ChatCompletion</span><span style=\"font-weight: bold\">(</span><span style=\"color: #808000; text-decoration-color: #808000\">id</span>=<span style=\"color: #008000; text-decoration-color: #008000\">'gen-1750629472-n7j8VIqehJwBDHISojGX'</span>, <span style=\"color: #808000; text-decoration-color: #808000\">choices</span>=<span style=\"font-weight: bold\">[</span><span style=\"color: #800080; text-decoration-color: #800080; font-weight: bold\">Choice</span><span style=\"font-weight: bold\">(</span><span style=\"color: #808000; text-decoration-color: #808000\">finish_reason</span>=<span style=\"color: #008000; text-decoration-color: #008000\">'stop'</span>, \n",
       "<span style=\"color: #808000; text-decoration-color: #808000\">index</span>=<span style=\"color: #008080; text-decoration-color: #008080; font-weight: bold\">0</span>, <span style=\"color: #808000; text-decoration-color: #808000\">logprobs</span>=<span style=\"color: #800080; text-decoration-color: #800080; font-style: italic\">None</span>, <span style=\"color: #808000; text-decoration-color: #808000\">message</span>=<span style=\"color: #800080; text-decoration-color: #800080; font-weight: bold\">ChatCompletionMessage</span><span style=\"font-weight: bold\">(</span><span style=\"color: #808000; text-decoration-color: #808000\">content</span>=<span style=\"color: #008000; text-decoration-color: #008000\">\"&lt;system&gt;\\n\\nHere are 3 sub-topics related to 'Types </span>\n",
       "<span style=\"color: #008000; text-decoration-color: #008000\">of animals':\\n\\n1. **Mammals**: This sub-topic includes animals that are warm-blooded, have hair or fur, and </span>\n",
       "<span style=\"color: #008000; text-decoration-color: #008000\">produce milk to feed their young. Examples of mammals include lions, elephants, and humans.\\n\\n2. **Birds**: This </span>\n",
       "<span style=\"color: #008000; text-decoration-color: #008000\">sub-topic includes animals that have feathers, wings, and lay eggs. Examples of birds include eagles, parrots, and </span>\n",
       "<span style=\"color: #008000; text-decoration-color: #008000\">robins.\\n\\n3. **Reptiles**: This sub-topic includes animals that have scales, lay eggs, and are cold-blooded. </span>\n",
       "<span style=\"color: #008000; text-decoration-color: #008000\">Examples of reptiles include snakes, lizards, and turtles.\\n\\n&lt;/system&gt;\"</span>, <span style=\"color: #808000; text-decoration-color: #808000\">refusal</span>=<span style=\"color: #800080; text-decoration-color: #800080; font-style: italic\">None</span>, <span style=\"color: #808000; text-decoration-color: #808000\">role</span>=<span style=\"color: #008000; text-decoration-color: #008000\">'assistant'</span>, \n",
       "<span style=\"color: #808000; text-decoration-color: #808000\">annotations</span>=<span style=\"color: #800080; text-decoration-color: #800080; font-style: italic\">None</span>, <span style=\"color: #808000; text-decoration-color: #808000\">audio</span>=<span style=\"color: #800080; text-decoration-color: #800080; font-style: italic\">None</span>, <span style=\"color: #808000; text-decoration-color: #808000\">function_call</span>=<span style=\"color: #800080; text-decoration-color: #800080; font-style: italic\">None</span>, <span style=\"color: #808000; text-decoration-color: #808000\">tool_calls</span>=<span style=\"color: #800080; text-decoration-color: #800080; font-style: italic\">None</span>, <span style=\"color: #808000; text-decoration-color: #808000\">reasoning</span>=<span style=\"color: #800080; text-decoration-color: #800080; font-style: italic\">None</span><span style=\"font-weight: bold\">)</span>, <span style=\"color: #808000; text-decoration-color: #808000\">native_finish_reason</span>=<span style=\"color: #008000; text-decoration-color: #008000\">'stop'</span><span style=\"font-weight: bold\">)]</span>, \n",
       "<span style=\"color: #808000; text-decoration-color: #808000\">created</span>=<span style=\"color: #008080; text-decoration-color: #008080; font-weight: bold\">1750629472</span>, <span style=\"color: #808000; text-decoration-color: #808000\">model</span>=<span style=\"color: #008000; text-decoration-color: #008000\">'meta-llama/llama-3.1-8b-instruct'</span>, <span style=\"color: #808000; text-decoration-color: #808000\">object</span>=<span style=\"color: #008000; text-decoration-color: #008000\">'chat.completion'</span>, <span style=\"color: #808000; text-decoration-color: #808000\">service_tier</span>=<span style=\"color: #800080; text-decoration-color: #800080; font-style: italic\">None</span>, \n",
       "<span style=\"color: #808000; text-decoration-color: #808000\">system_fingerprint</span>=<span style=\"color: #008000; text-decoration-color: #008000\">'fp_510c177af0'</span>, <span style=\"color: #808000; text-decoration-color: #808000\">usage</span>=<span style=\"color: #800080; text-decoration-color: #800080; font-weight: bold\">CompletionUsage</span><span style=\"font-weight: bold\">(</span><span style=\"color: #808000; text-decoration-color: #808000\">completion_tokens</span>=<span style=\"color: #008080; text-decoration-color: #008080; font-weight: bold\">136</span>, <span style=\"color: #808000; text-decoration-color: #808000\">prompt_tokens</span>=<span style=\"color: #008080; text-decoration-color: #008080; font-weight: bold\">67</span>, \n",
       "<span style=\"color: #808000; text-decoration-color: #808000\">total_tokens</span>=<span style=\"color: #008080; text-decoration-color: #008080; font-weight: bold\">203</span>, <span style=\"color: #808000; text-decoration-color: #808000\">completion_tokens_details</span>=<span style=\"color: #800080; text-decoration-color: #800080; font-style: italic\">None</span>, <span style=\"color: #808000; text-decoration-color: #808000\">prompt_tokens_details</span>=<span style=\"color: #800080; text-decoration-color: #800080; font-style: italic\">None</span><span style=\"font-weight: bold\">)</span>, <span style=\"color: #808000; text-decoration-color: #808000\">provider</span>=<span style=\"color: #008000; text-decoration-color: #008000\">'Groq'</span><span style=\"font-weight: bold\">)</span>\n",
       "</pre>\n"
      ],
      "text/plain": [
       "Raw response: \u001b[1;35mChatCompletion\u001b[0m\u001b[1m(\u001b[0m\u001b[33mid\u001b[0m=\u001b[32m'gen-1750629472-n7j8VIqehJwBDHISojGX'\u001b[0m, \u001b[33mchoices\u001b[0m=\u001b[1m[\u001b[0m\u001b[1;35mChoice\u001b[0m\u001b[1m(\u001b[0m\u001b[33mfinish_reason\u001b[0m=\u001b[32m'stop'\u001b[0m, \n",
       "\u001b[33mindex\u001b[0m=\u001b[1;36m0\u001b[0m, \u001b[33mlogprobs\u001b[0m=\u001b[3;35mNone\u001b[0m, \u001b[33mmessage\u001b[0m=\u001b[1;35mChatCompletionMessage\u001b[0m\u001b[1m(\u001b[0m\u001b[33mcontent\u001b[0m=\u001b[32m\"\u001b[0m\u001b[32m<\u001b[0m\u001b[32msystem\u001b[0m\u001b[32m>\\n\\nHere are 3 sub-topics related to 'Types \u001b[0m\n",
       "\u001b[32mof animals':\\n\\n1. **Mammals**: This sub-topic includes animals that are warm-blooded, have hair or fur, and \u001b[0m\n",
       "\u001b[32mproduce milk to feed their young. Examples of mammals include lions, elephants, and humans.\\n\\n2. **Birds**: This \u001b[0m\n",
       "\u001b[32msub-topic includes animals that have feathers, wings, and lay eggs. Examples of birds include eagles, parrots, and \u001b[0m\n",
       "\u001b[32mrobins.\\n\\n3. **Reptiles**: This sub-topic includes animals that have scales, lay eggs, and are cold-blooded. \u001b[0m\n",
       "\u001b[32mExamples of reptiles include snakes, lizards, and turtles.\\n\\n</system\u001b[0m\u001b[32m>\u001b[0m\u001b[32m\"\u001b[0m, \u001b[33mrefusal\u001b[0m=\u001b[3;35mNone\u001b[0m, \u001b[33mrole\u001b[0m=\u001b[32m'assistant'\u001b[0m, \n",
       "\u001b[33mannotations\u001b[0m=\u001b[3;35mNone\u001b[0m, \u001b[33maudio\u001b[0m=\u001b[3;35mNone\u001b[0m, \u001b[33mfunction_call\u001b[0m=\u001b[3;35mNone\u001b[0m, \u001b[33mtool_calls\u001b[0m=\u001b[3;35mNone\u001b[0m, \u001b[33mreasoning\u001b[0m=\u001b[3;35mNone\u001b[0m\u001b[1m)\u001b[0m, \u001b[33mnative_finish_reason\u001b[0m=\u001b[32m'stop'\u001b[0m\u001b[1m)\u001b[0m\u001b[1m]\u001b[0m, \n",
       "\u001b[33mcreated\u001b[0m=\u001b[1;36m1750629472\u001b[0m, \u001b[33mmodel\u001b[0m=\u001b[32m'meta-llama/llama-3.1-8b-instruct'\u001b[0m, \u001b[33mobject\u001b[0m=\u001b[32m'chat.completion'\u001b[0m, \u001b[33mservice_tier\u001b[0m=\u001b[3;35mNone\u001b[0m, \n",
       "\u001b[33msystem_fingerprint\u001b[0m=\u001b[32m'fp_510c177af0'\u001b[0m, \u001b[33musage\u001b[0m=\u001b[1;35mCompletionUsage\u001b[0m\u001b[1m(\u001b[0m\u001b[33mcompletion_tokens\u001b[0m=\u001b[1;36m136\u001b[0m, \u001b[33mprompt_tokens\u001b[0m=\u001b[1;36m67\u001b[0m, \n",
       "\u001b[33mtotal_tokens\u001b[0m=\u001b[1;36m203\u001b[0m, \u001b[33mcompletion_tokens_details\u001b[0m=\u001b[3;35mNone\u001b[0m, \u001b[33mprompt_tokens_details\u001b[0m=\u001b[3;35mNone\u001b[0m\u001b[1m)\u001b[0m, \u001b[33mprovider\u001b[0m=\u001b[32m'Groq'\u001b[0m\u001b[1m)\u001b[0m\n"
      ]
     },
     "metadata": {},
     "output_type": "display_data"
    },
    {
     "data": {
      "text/html": [
       "<pre style=\"white-space:pre;overflow-x:auto;line-height:normal;font-family:Menlo,'DejaVu Sans Mono',consolas,'Courier New',monospace\">Response: <span style=\"font-weight: bold\">&lt;</span><span style=\"color: #ff00ff; text-decoration-color: #ff00ff; font-weight: bold\">system</span><span style=\"color: #000000; text-decoration-color: #000000\">&gt;</span>\n",
       "\n",
       "<span style=\"color: #000000; text-decoration-color: #000000\">Here are </span><span style=\"color: #008080; text-decoration-color: #008080; font-weight: bold\">3</span><span style=\"color: #000000; text-decoration-color: #000000\"> sub-topics related to </span><span style=\"color: #008000; text-decoration-color: #008000\">'Types of animals'</span><span style=\"color: #000000; text-decoration-color: #000000\">:</span>\n",
       "\n",
       "<span style=\"color: #008080; text-decoration-color: #008080; font-weight: bold\">1</span><span style=\"color: #000000; text-decoration-color: #000000\">. **Mammals**: This sub-topic includes animals that are warm-blooded, have hair or fur, and produce milk to feed </span>\n",
       "<span style=\"color: #000000; text-decoration-color: #000000\">their young. Examples of mammals include lions, elephants, and humans.</span>\n",
       "\n",
       "<span style=\"color: #008080; text-decoration-color: #008080; font-weight: bold\">2</span><span style=\"color: #000000; text-decoration-color: #000000\">. **Birds**: This sub-topic includes animals that have feathers, wings, and lay eggs. Examples of birds include </span>\n",
       "<span style=\"color: #000000; text-decoration-color: #000000\">eagles, parrots, and robins.</span>\n",
       "\n",
       "<span style=\"color: #008080; text-decoration-color: #008080; font-weight: bold\">3</span><span style=\"color: #000000; text-decoration-color: #000000\">. **Reptiles**: This sub-topic includes animals that have scales, lay eggs, and are cold-blooded. Examples of </span>\n",
       "<span style=\"color: #000000; text-decoration-color: #000000\">reptiles include snakes, lizards, and turtles.</span>\n",
       "\n",
       "<span style=\"color: #000000; text-decoration-color: #000000\">&lt;</span><span style=\"color: #800080; text-decoration-color: #800080\">/</span><span style=\"color: #ff00ff; text-decoration-color: #ff00ff\">system</span><span style=\"font-weight: bold\">&gt;</span>\n",
       "</pre>\n"
      ],
      "text/plain": [
       "Response: \u001b[1m<\u001b[0m\u001b[1;95msystem\u001b[0m\u001b[39m>\u001b[0m\n",
       "\n",
       "\u001b[39mHere are \u001b[0m\u001b[1;36m3\u001b[0m\u001b[39m sub-topics related to \u001b[0m\u001b[32m'Types of animals'\u001b[0m\u001b[39m:\u001b[0m\n",
       "\n",
       "\u001b[1;36m1\u001b[0m\u001b[39m. **Mammals**: This sub-topic includes animals that are warm-blooded, have hair or fur, and produce milk to feed \u001b[0m\n",
       "\u001b[39mtheir young. Examples of mammals include lions, elephants, and humans.\u001b[0m\n",
       "\n",
       "\u001b[1;36m2\u001b[0m\u001b[39m. **Birds**: This sub-topic includes animals that have feathers, wings, and lay eggs. Examples of birds include \u001b[0m\n",
       "\u001b[39meagles, parrots, and robins.\u001b[0m\n",
       "\n",
       "\u001b[1;36m3\u001b[0m\u001b[39m. **Reptiles**: This sub-topic includes animals that have scales, lay eggs, and are cold-blooded. Examples of \u001b[0m\n",
       "\u001b[39mreptiles include snakes, lizards, and turtles.\u001b[0m\n",
       "\n",
       "\u001b[39m<\u001b[0m\u001b[35m/\u001b[0m\u001b[95msystem\u001b[0m\u001b[1m>\u001b[0m\n"
      ]
     },
     "metadata": {},
     "output_type": "display_data"
    }
   ],
   "source": [
    "messages: list[dict[str, str]] = [\n",
    "    {\n",
    "        \"role\": \"system\",\n",
    "        \"content\": subject_prompt.format(topic=\"Types of animals\"),\n",
    "    }\n",
    "]\n",
    "\n",
    "(response, raw_response) = await llm.ainvoke(messages=messages)\n",
    "console.print(f\"Raw response: {raw_response}\")\n",
    "console.print(f\"Response: {response}\")"
   ]
  },
  {
   "cell_type": "markdown",
   "id": "5aa09db5",
   "metadata": {},
   "source": [
    "## Parallelizing Joke Generation\n",
    "\n",
    "- Define a graph that will:\n",
    "  - take a user input topic\n",
    "  - produce a list of joke topics fro it\n",
    "  - send each joke topic to the LLM\n",
    "- The state has a `jokes` key that will accumulate jokes from parallelized joke generations."
   ]
  },
  {
   "cell_type": "code",
   "execution_count": 10,
   "id": "9c1250a6",
   "metadata": {},
   "outputs": [],
   "source": [
    "from pydantic import BaseModel, Field\n",
    "\n",
    "\n",
    "class Subjects(BaseModel):\n",
    "    subjects: list[str] = Field(description=\"List of subjects related to the topic.\")\n",
    "\n",
    "\n",
    "class BestJoke(BaseModel):\n",
    "    id: int = Field(description=\"ID of the best joke selected from the list of jokes.\")\n",
    "\n",
    "\n",
    "class OverallState(TypedDict):\n",
    "    topic: str\n",
    "    subjects: list[str]\n",
    "    jokes: Annotated[list[str], add_messages]\n",
    "    best_selected_joke: str\n",
    "\n",
    "\n",
    "class JokeState(TypedDict):\n",
    "    subject: str\n",
    "\n",
    "\n",
    "class Joke(BaseModel):\n",
    "    joke: str"
   ]
  },
  {
   "cell_type": "markdown",
   "id": "273e25bd",
   "metadata": {},
   "source": [
    "#### Test The Code"
   ]
  },
  {
   "cell_type": "code",
   "execution_count": 11,
   "id": "56096246",
   "metadata": {},
   "outputs": [
    {
     "data": {
      "text/plain": [
       "\"\\n<system>\\n\\nGenerate a list of 3 sub-topics that are all \\nrelated to this overall topic:\\n\\n<topic>\\n'types of animals' \\n</topic>\\n\\n</system>\\n\""
      ]
     },
     "execution_count": 11,
     "metadata": {},
     "output_type": "execute_result"
    }
   ],
   "source": [
    "subject_prompt.format(topic=\"types of animals\")"
   ]
  },
  {
   "cell_type": "code",
   "execution_count": 12,
   "id": "810c534d",
   "metadata": {},
   "outputs": [
    {
     "data": {
      "text/html": [
       "<pre style=\"white-space:pre;overflow-x:auto;line-height:normal;font-family:Menlo,'DejaVu Sans Mono',consolas,'Courier New',monospace\"><span style=\"color: #800080; text-decoration-color: #800080; font-weight: bold\">ChatCompletion</span><span style=\"font-weight: bold\">(</span>\n",
       "    <span style=\"color: #808000; text-decoration-color: #808000\">id</span>=<span style=\"color: #008000; text-decoration-color: #008000\">'gen-1750629477-clIYx8YAx0rLYY1nf29w'</span>,\n",
       "    <span style=\"color: #808000; text-decoration-color: #808000\">choices</span>=<span style=\"font-weight: bold\">[</span>\n",
       "        <span style=\"color: #800080; text-decoration-color: #800080; font-weight: bold\">Choice</span><span style=\"font-weight: bold\">(</span>\n",
       "            <span style=\"color: #808000; text-decoration-color: #808000\">finish_reason</span>=<span style=\"color: #008000; text-decoration-color: #008000\">'stop'</span>,\n",
       "            <span style=\"color: #808000; text-decoration-color: #808000\">index</span>=<span style=\"color: #008080; text-decoration-color: #008080; font-weight: bold\">0</span>,\n",
       "            <span style=\"color: #808000; text-decoration-color: #808000\">logprobs</span>=<span style=\"color: #800080; text-decoration-color: #800080; font-style: italic\">None</span>,\n",
       "            <span style=\"color: #808000; text-decoration-color: #808000\">message</span>=<span style=\"color: #800080; text-decoration-color: #800080; font-weight: bold\">ChatCompletionMessage</span><span style=\"font-weight: bold\">(</span>\n",
       "                <span style=\"color: #808000; text-decoration-color: #808000\">content</span>=<span style=\"color: #008000; text-decoration-color: #008000\">'{\"subjects\": [\"mammals\", \"reptiles\", \"amphibians\"]}'</span>,\n",
       "                <span style=\"color: #808000; text-decoration-color: #808000\">refusal</span>=<span style=\"color: #800080; text-decoration-color: #800080; font-style: italic\">None</span>,\n",
       "                <span style=\"color: #808000; text-decoration-color: #808000\">role</span>=<span style=\"color: #008000; text-decoration-color: #008000\">'assistant'</span>,\n",
       "                <span style=\"color: #808000; text-decoration-color: #808000\">annotations</span>=<span style=\"color: #800080; text-decoration-color: #800080; font-style: italic\">None</span>,\n",
       "                <span style=\"color: #808000; text-decoration-color: #808000\">audio</span>=<span style=\"color: #800080; text-decoration-color: #800080; font-style: italic\">None</span>,\n",
       "                <span style=\"color: #808000; text-decoration-color: #808000\">function_call</span>=<span style=\"color: #800080; text-decoration-color: #800080; font-style: italic\">None</span>,\n",
       "                <span style=\"color: #808000; text-decoration-color: #808000\">tool_calls</span>=<span style=\"color: #800080; text-decoration-color: #800080; font-style: italic\">None</span>,\n",
       "                <span style=\"color: #808000; text-decoration-color: #808000\">reasoning</span>=<span style=\"color: #800080; text-decoration-color: #800080; font-style: italic\">None</span>\n",
       "            <span style=\"font-weight: bold\">)</span>,\n",
       "            <span style=\"color: #808000; text-decoration-color: #808000\">native_finish_reason</span>=<span style=\"color: #008000; text-decoration-color: #008000\">'stop'</span>\n",
       "        <span style=\"font-weight: bold\">)</span>\n",
       "    <span style=\"font-weight: bold\">]</span>,\n",
       "    <span style=\"color: #808000; text-decoration-color: #808000\">created</span>=<span style=\"color: #008080; text-decoration-color: #008080; font-weight: bold\">1750629477</span>,\n",
       "    <span style=\"color: #808000; text-decoration-color: #808000\">model</span>=<span style=\"color: #008000; text-decoration-color: #008000\">'meta-llama/llama-3.1-8b-instruct'</span>,\n",
       "    <span style=\"color: #808000; text-decoration-color: #808000\">object</span>=<span style=\"color: #008000; text-decoration-color: #008000\">'chat.completion'</span>,\n",
       "    <span style=\"color: #808000; text-decoration-color: #808000\">service_tier</span>=<span style=\"color: #800080; text-decoration-color: #800080; font-style: italic\">None</span>,\n",
       "    <span style=\"color: #808000; text-decoration-color: #808000\">system_fingerprint</span>=<span style=\"color: #800080; text-decoration-color: #800080; font-style: italic\">None</span>,\n",
       "    <span style=\"color: #808000; text-decoration-color: #808000\">usage</span>=<span style=\"color: #800080; text-decoration-color: #800080; font-weight: bold\">CompletionUsage</span><span style=\"font-weight: bold\">(</span>\n",
       "        <span style=\"color: #808000; text-decoration-color: #808000\">completion_tokens</span>=<span style=\"color: #008080; text-decoration-color: #008080; font-weight: bold\">20</span>,\n",
       "        <span style=\"color: #808000; text-decoration-color: #808000\">prompt_tokens</span>=<span style=\"color: #008080; text-decoration-color: #008080; font-weight: bold\">332</span>,\n",
       "        <span style=\"color: #808000; text-decoration-color: #808000\">total_tokens</span>=<span style=\"color: #008080; text-decoration-color: #008080; font-weight: bold\">352</span>,\n",
       "        <span style=\"color: #808000; text-decoration-color: #808000\">completion_tokens_details</span>=<span style=\"color: #800080; text-decoration-color: #800080; font-style: italic\">None</span>,\n",
       "        <span style=\"color: #808000; text-decoration-color: #808000\">prompt_tokens_details</span>=<span style=\"color: #800080; text-decoration-color: #800080; font-style: italic\">None</span>\n",
       "    <span style=\"font-weight: bold\">)</span>,\n",
       "    <span style=\"color: #808000; text-decoration-color: #808000\">provider</span>=<span style=\"color: #008000; text-decoration-color: #008000\">'Together'</span>\n",
       "<span style=\"font-weight: bold\">)</span>\n",
       "</pre>\n"
      ],
      "text/plain": [
       "\u001b[1;35mChatCompletion\u001b[0m\u001b[1m(\u001b[0m\n",
       "    \u001b[33mid\u001b[0m=\u001b[32m'gen-1750629477-clIYx8YAx0rLYY1nf29w'\u001b[0m,\n",
       "    \u001b[33mchoices\u001b[0m=\u001b[1m[\u001b[0m\n",
       "        \u001b[1;35mChoice\u001b[0m\u001b[1m(\u001b[0m\n",
       "            \u001b[33mfinish_reason\u001b[0m=\u001b[32m'stop'\u001b[0m,\n",
       "            \u001b[33mindex\u001b[0m=\u001b[1;36m0\u001b[0m,\n",
       "            \u001b[33mlogprobs\u001b[0m=\u001b[3;35mNone\u001b[0m,\n",
       "            \u001b[33mmessage\u001b[0m=\u001b[1;35mChatCompletionMessage\u001b[0m\u001b[1m(\u001b[0m\n",
       "                \u001b[33mcontent\u001b[0m=\u001b[32m'\u001b[0m\u001b[32m{\u001b[0m\u001b[32m\"subjects\": \u001b[0m\u001b[32m[\u001b[0m\u001b[32m\"mammals\", \"reptiles\", \"amphibians\"\u001b[0m\u001b[32m]\u001b[0m\u001b[32m}\u001b[0m\u001b[32m'\u001b[0m,\n",
       "                \u001b[33mrefusal\u001b[0m=\u001b[3;35mNone\u001b[0m,\n",
       "                \u001b[33mrole\u001b[0m=\u001b[32m'assistant'\u001b[0m,\n",
       "                \u001b[33mannotations\u001b[0m=\u001b[3;35mNone\u001b[0m,\n",
       "                \u001b[33maudio\u001b[0m=\u001b[3;35mNone\u001b[0m,\n",
       "                \u001b[33mfunction_call\u001b[0m=\u001b[3;35mNone\u001b[0m,\n",
       "                \u001b[33mtool_calls\u001b[0m=\u001b[3;35mNone\u001b[0m,\n",
       "                \u001b[33mreasoning\u001b[0m=\u001b[3;35mNone\u001b[0m\n",
       "            \u001b[1m)\u001b[0m,\n",
       "            \u001b[33mnative_finish_reason\u001b[0m=\u001b[32m'stop'\u001b[0m\n",
       "        \u001b[1m)\u001b[0m\n",
       "    \u001b[1m]\u001b[0m,\n",
       "    \u001b[33mcreated\u001b[0m=\u001b[1;36m1750629477\u001b[0m,\n",
       "    \u001b[33mmodel\u001b[0m=\u001b[32m'meta-llama/llama-3.1-8b-instruct'\u001b[0m,\n",
       "    \u001b[33mobject\u001b[0m=\u001b[32m'chat.completion'\u001b[0m,\n",
       "    \u001b[33mservice_tier\u001b[0m=\u001b[3;35mNone\u001b[0m,\n",
       "    \u001b[33msystem_fingerprint\u001b[0m=\u001b[3;35mNone\u001b[0m,\n",
       "    \u001b[33musage\u001b[0m=\u001b[1;35mCompletionUsage\u001b[0m\u001b[1m(\u001b[0m\n",
       "        \u001b[33mcompletion_tokens\u001b[0m=\u001b[1;36m20\u001b[0m,\n",
       "        \u001b[33mprompt_tokens\u001b[0m=\u001b[1;36m332\u001b[0m,\n",
       "        \u001b[33mtotal_tokens\u001b[0m=\u001b[1;36m352\u001b[0m,\n",
       "        \u001b[33mcompletion_tokens_details\u001b[0m=\u001b[3;35mNone\u001b[0m,\n",
       "        \u001b[33mprompt_tokens_details\u001b[0m=\u001b[3;35mNone\u001b[0m\n",
       "    \u001b[1m)\u001b[0m,\n",
       "    \u001b[33mprovider\u001b[0m=\u001b[32m'Together'\u001b[0m\n",
       "\u001b[1m)\u001b[0m\n"
      ]
     },
     "metadata": {},
     "output_type": "display_data"
    },
    {
     "name": "stdout",
     "output_type": "stream",
     "text": [
      "--------------------------------------------------------------------------------------------------------------------------------------------------------------------------------------------------------\n"
     ]
    },
    {
     "data": {
      "text/html": [
       "<pre style=\"white-space:pre;overflow-x:auto;line-height:normal;font-family:Menlo,'DejaVu Sans Mono',consolas,'Courier New',monospace\"><span style=\"color: #800080; text-decoration-color: #800080; font-weight: bold\">Subjects</span><span style=\"font-weight: bold\">(</span><span style=\"color: #808000; text-decoration-color: #808000\">subjects</span>=<span style=\"font-weight: bold\">[</span><span style=\"color: #008000; text-decoration-color: #008000\">'mammals'</span>, <span style=\"color: #008000; text-decoration-color: #008000\">'reptiles'</span>, <span style=\"color: #008000; text-decoration-color: #008000\">'amphibians'</span><span style=\"font-weight: bold\">])</span>\n",
       "</pre>\n"
      ],
      "text/plain": [
       "\u001b[1;35mSubjects\u001b[0m\u001b[1m(\u001b[0m\u001b[33msubjects\u001b[0m=\u001b[1m[\u001b[0m\u001b[32m'mammals'\u001b[0m, \u001b[32m'reptiles'\u001b[0m, \u001b[32m'amphibians'\u001b[0m\u001b[1m]\u001b[0m\u001b[1m)\u001b[0m\n"
      ]
     },
     "metadata": {},
     "output_type": "display_data"
    }
   ],
   "source": [
    "# Using a custom structured output model\n",
    "# console.print(structured_output)\n",
    "structured_output, raw_response = await llm.get_structured_response(\n",
    "    message=subject_prompt.format(topic=\"animals\"),\n",
    "    response_model=Subjects,\n",
    ")\n",
    "console.print(raw_response)\n",
    "print(\"----\" * 50)\n",
    "console.print(structured_output)"
   ]
  },
  {
   "cell_type": "code",
   "execution_count": null,
   "id": "08fbdb4e",
   "metadata": {},
   "outputs": [],
   "source": [
    "async def generate_topics(state: OverallState) -> dict[str, Any]:\n",
    "    \"\"\"Generate a list of subjects based on a given topic.\n",
    "\n",
    "    Parameters\n",
    "    ----------\n",
    "        state (OverallState): The current state containing the topic to generate subjects for.\n",
    "            Expected to have a 'topic' key with a string value.\n",
    "\n",
    "    Returns\n",
    "    -------\n",
    "        dict[str, Any]\n",
    "\n",
    "    \"\"\"\n",
    "    prompt: str = subject_prompt.format(topic=state[\"topic\"])\n",
    "\n",
    "    response, _ = await llm.get_structured_response(message=prompt, response_model=Subjects)\n",
    "    return {\"subjects\": response.subjects}"
   ]
  },
  {
   "cell_type": "code",
   "execution_count": 14,
   "id": "f4f24cc4",
   "metadata": {},
   "outputs": [
    {
     "data": {
      "text/plain": [
       "{'subjects': ['Mammals', 'Birds', 'Reptiles']}"
      ]
     },
     "execution_count": 14,
     "metadata": {},
     "output_type": "execute_result"
    }
   ],
   "source": [
    "await generate_topics({\"topic\": \"Types of animals\"})"
   ]
  },
  {
   "cell_type": "markdown",
   "id": "fc3a5799",
   "metadata": {},
   "source": [
    "### Send Function\n",
    "\n",
    "- In LangGraph, Nodes and Edges usually share a predefined state. However, for dynamic cases like map-reduce, LangGraph uses `Send` objects in conditional edges.\n",
    "- It can be used to parallelize tasks."
   ]
  },
  {
   "cell_type": "code",
   "execution_count": null,
   "id": "28261c4d",
   "metadata": {},
   "outputs": [],
   "source": [
    "from langgraph.constants import Send\n",
    "\n",
    "\n",
    "def continue_to_jokes(state: OverallState) -> list[Send]:\n",
    "    \"\"\"\n",
    "    Generate N number of jokes in parallel by sending them to the required nodes.\n",
    "\n",
    "    Parameters\n",
    "    ----------\n",
    "    state : OverallState\n",
    "        The current state containing subjects for joke generation.\n",
    "\n",
    "    Returns\n",
    "    -------\n",
    "    list[Send]\n",
    "    \"\"\"\n",
    "    return [Send(\"generate_joke\", {\"subject\": s}) for s in state[\"subjects\"]]\n",
    "\n",
    "\n",
    "async def generate_joke(state: JokeState) -> dict[str, Any]:\n",
    "    prompt: str = joke_prompt.format(subject=state[\"subject\"])\n",
    "    response, _ = await llm.get_structured_response(message=prompt, response_model=Joke)\n",
    "\n",
    "    return {\"jokes\": [response.joke]}\n",
    "\n",
    "\n",
    "async def select_best_joke(state: OverallState) -> dict[str, Any]:\n",
    "    \"\"\"\n",
    "    Select the best joke from a list of jokes based on a given topic.\n",
    "    This is a reduction step.\n",
    "\n",
    "    Parameters\n",
    "    ----------\n",
    "    state : OverallState\n",
    "        The current state containing jokes and topic for selection.\n",
    "        Expected keys:\n",
    "            - jokes: list[str | HumanMessage]\n",
    "            - topic: str\n",
    "\n",
    "    Returns\n",
    "    -------\n",
    "    dict[str, Any]\n",
    "        Dictionary containing the best selected joke.\n",
    "        Keys:\n",
    "            - best_selected_joke: str\n",
    "    \"\"\"\n",
    "    if isinstance(state[\"jokes\"][0], HumanMessage):\n",
    "        state[\"jokes\"] = [j.content for j in state[\"jokes\"]]\n",
    "    jokes: str = \"\\n\\n\".join(state[\"jokes\"])\n",
    "    prompt: str = best_joke_prompt.format(topic=state[\"topic\"], jokes=jokes)\n",
    "    response, _ = await llm.get_structured_response(message=prompt, response_model=BestJoke)\n",
    "\n",
    "    return {\"best_selected_joke\": state[\"jokes\"][response.id]}"
   ]
  },
  {
   "cell_type": "code",
   "execution_count": 16,
   "id": "5e13262e",
   "metadata": {},
   "outputs": [
    {
     "name": "stdout",
     "output_type": "stream",
     "text": [
      "==== Prompt for selecting the best joke: ====\n",
      "\n",
      "<system>\n",
      "Below are a bunch of jokes about:\n",
      "\n",
      "<topic>\n",
      "'types of animals'.\n",
      "</topic>\n",
      "\n",
      "Select the best one! Return the ID of the best one, starting 0 \n",
      "as the ID for the first joke. \n",
      "<jokes>\n",
      "Why do seagulls fly over the sea?\n",
      "\n",
      "Why dont mammals ever get locked out of their homes? Because they always carry their keys with them!\n",
      "\n",
      "Why dont reptiles ever forget? Because no one ever lizard them a thing!\n",
      "</jokes>\n",
      "\n",
      "<output>\n",
      "Return the ID of the best joke as an integer.\n",
      "</output>\n",
      "\n",
      "</system>\n",
      "\n",
      "==== Response for selecting the best joke: ====\n",
      "0\n",
      "==== Best joke selected: ====\n",
      "result = {'best_selected_joke': 'Why do seagulls fly over the sea?'}\n"
     ]
    }
   ],
   "source": [
    "_jokes: list[str] = [\n",
    "    \"Why do seagulls fly over the sea?\",\n",
    "    \"Why dont mammals ever get locked out of their homes? Because \"\n",
    "    \"they always carry their keys with them!\",\n",
    "    \"Why dont reptiles ever forget? Because no one ever lizard them a thing!\",\n",
    "]\n",
    "\n",
    "jokes: str = \"\\n\\n\".join(_jokes)\n",
    "prompt: str = best_joke_prompt.format(topic=\"types of animals\", jokes=jokes)\n",
    "print(\"==== Prompt for selecting the best joke: ====\")\n",
    "print(prompt)\n",
    "resp, _ = await llm.get_structured_response(message=prompt, response_model=BestJoke)\n",
    "print(\"==== Response for selecting the best joke: ====\")\n",
    "print(resp.id)\n",
    "result = {\"best_selected_joke\": _jokes[resp.id]}\n",
    "print(\"==== Best joke selected: ====\")\n",
    "print(f\"{result = }\")"
   ]
  },
  {
   "cell_type": "code",
   "execution_count": 17,
   "id": "c2b3fb9b",
   "metadata": {},
   "outputs": [
    {
     "data": {
      "image/png": "[encoded data removed]",
      "text/plain": [
       "<IPython.core.display.Image object>"
      ]
     },
     "metadata": {},
     "output_type": "display_data"
    }
   ],
   "source": [
    "graph_builder = StateGraph(OverallState)\n",
    "\n",
    "# Add nodes\n",
    "graph_builder.add_node(\"generate_topics\", generate_topics)\n",
    "graph_builder.add_node(\"generate_joke\", generate_joke)\n",
    "graph_builder.add_node(\"select_best_joke\", select_best_joke)\n",
    "\n",
    "# Add edges\n",
    "graph_builder.add_edge(START, \"generate_topics\")\n",
    "graph_builder.add_conditional_edges(\n",
    "    \"generate_topics\",\n",
    "    # Generate jokes in parallel by `Sending` the jokes the `generate_joke` node\n",
    "    continue_to_jokes,\n",
    "    [\"generate_joke\"],\n",
    ")\n",
    "graph_builder.add_edge(\"generate_joke\", \"select_best_joke\")\n",
    "graph_builder.add_edge(\"select_best_joke\", END)\n",
    "\n",
    "# Compile the graph\n",
    "graph = graph_builder.compile().with_config(run_name=\"Generate Jokes\")\n",
    "\n",
    "# Visualize the graph\n",
    "display(Image(graph.get_graph(xray=1).draw_mermaid_png()))"
   ]
  },
  {
   "cell_type": "markdown",
   "id": "115a4c18",
   "metadata": {},
   "source": [
    "<br>\n",
    "\n",
    "### Test The Graph"
   ]
  },
  {
   "cell_type": "code",
   "execution_count": 18,
   "id": "d437b4ba",
   "metadata": {},
   "outputs": [
    {
     "name": "stdout",
     "output_type": "stream",
     "text": [
      "{'generate_topics': {'subjects': ['Mammals', 'Birds', 'Reptiles']}}\n",
      "{'generate_joke': {'jokes': ['Why did the mammal go to the doctor? Because it had a wild time!']}}\n",
      "{'generate_joke': {'jokes': ['Why did the bird go to the doctor? Because it had a fowl cough!']}}\n",
      "{'generate_joke': {'jokes': ['Why did the reptile go to the party? Because he was a snappy dresser!']}}\n",
      "{'select_best_joke': {'best_selected_joke': 'Why did the mammal go to the doctor? Because it had a wild time!'}}\n"
     ]
    }
   ],
   "source": [
    "topic: str = \"types of animals\"\n",
    "\n",
    "async for s in graph.astream({\"topic\": topic}):\n",
    "    print(s)"
   ]
  },
  {
   "cell_type": "code",
   "execution_count": null,
   "id": "117a299a",
   "metadata": {},
   "outputs": [],
   "source": []
  },
  {
   "cell_type": "markdown",
   "id": "79d12cf0",
   "metadata": {},
   "source": [
    "<a id=\"short-term-vs-long-term-memory\"></a>\n",
    "# 2. Short Term vs Long Term Memory\n",
    "\n",
    "## Memory\n",
    "\n",
    "- Memory is a cognitive function that allows people to store, retrieve, and use information to understand their present and future.\n",
    "\n",
    "- There are various long-term memory types that can be used in AI applications.\n",
    "- We'll build a chatbot that uses both `short-term` (within-thread) and `long-term` (across-thread) memory.\n",
    "- We'll focus on long-term semantic memory, which will be facts about the user.\n",
    "- These long-term memories will be used to create a personalized chatbot that can remember facts about the user."
   ]
  },
  {
   "cell_type": "markdown",
   "id": "95b6c15a",
   "metadata": {},
   "source": [
    "<br>\n",
    "\n",
    "### LangGraph Store\n",
    "\n",
    "- The [LangGraph Memory Store](https://langchain-ai.github.io/langgraph/reference/store/#langgraph.store.base.BaseStore) provides a way to store and retrieve information across threads in LangGraph.\n",
    "- This is an open source base class for persistent key-value stores.\n",
    "\n",
    "- When storing objects (e.g., memories) in the Store, we provide:\n",
    "  - The `namespace` for the object, a tuple (similar to directories)\n",
    "  - the `object key` (similar to filenames)\n",
    "  - the `object value` (similar to file contents)\n",
    "  - We use the `put` method to save an object to the store by `namespace` and `key`."
   ]
  },
  {
   "cell_type": "code",
   "execution_count": 19,
   "id": "d9253bc1",
   "metadata": {},
   "outputs": [],
   "source": [
    "import uuid\n",
    "\n",
    "from langgraph.store.memory import InMemoryStore\n",
    "\n",
    "in_memory_store = InMemoryStore()\n",
    "\n",
    "# Create a namespace to store the data\n",
    "user_id: str = \"1\"\n",
    "prefix: str = \"memories\"\n",
    "namespace_for_memory: tuple[str, str] = (prefix, user_id)\n",
    "key: str = str(uuid.uuid4())\n",
    "\n",
    "# The value MUST be a dictionary\n",
    "value: dict[str, Any] = {\"food_preference\": \"I like pizza\"}\n",
    "\n",
    "# Save the data\n",
    "in_memory_store.put(namespace_for_memory, key, value)"
   ]
  },
  {
   "cell_type": "markdown",
   "id": "7db82591",
   "metadata": {},
   "source": [
    "#### Search"
   ]
  },
  {
   "cell_type": "code",
   "execution_count": 20,
   "id": "1da124c4",
   "metadata": {},
   "outputs": [
    {
     "data": {
      "text/html": [
       "<pre style=\"white-space:pre;overflow-x:auto;line-height:normal;font-family:Menlo,'DejaVu Sans Mono',consolas,'Courier New',monospace\"><span style=\"color: #7fbfbf; text-decoration-color: #7fbfbf\">[22:58:24] </span><span style=\"font-weight: bold\">[</span>                                                                                        <a href=\"file:///var/folders/ny/dl75sc_x2tb54lsymt5bh5p00000gn/T/ipykernel_40757/1831516903.py\" target=\"_blank\"><span style=\"color: #7f7f7f; text-decoration-color: #7f7f7f\">1831516903.py</span></a><span style=\"color: #7f7f7f; text-decoration-color: #7f7f7f\">:</span><a href=\"file:///var/folders/ny/dl75sc_x2tb54lsymt5bh5p00000gn/T/ipykernel_40757/1831516903.py#2\" target=\"_blank\"><span style=\"color: #7f7f7f; text-decoration-color: #7f7f7f\">2</span></a>\n",
       "<span style=\"color: #7fbfbf; text-decoration-color: #7fbfbf\">           </span>    <span style=\"color: #800080; text-decoration-color: #800080; font-weight: bold\">Item</span><span style=\"font-weight: bold\">(</span><span style=\"color: #808000; text-decoration-color: #808000\">namespace</span>=<span style=\"font-weight: bold\">[</span><span style=\"color: #008000; text-decoration-color: #008000\">'memories'</span>, <span style=\"color: #008000; text-decoration-color: #008000\">'1'</span><span style=\"font-weight: bold\">]</span>, <span style=\"color: #808000; text-decoration-color: #808000\">key</span>=<span style=\"color: #008000; text-decoration-color: #008000\">'9cad7428-12fa-4f65-baf4-f391f008669e'</span>,        <span style=\"color: #7f7f7f; text-decoration-color: #7f7f7f\">               </span>\n",
       "<span style=\"color: #7fbfbf; text-decoration-color: #7fbfbf\">           </span><span style=\"color: #808000; text-decoration-color: #808000\">value</span>=<span style=\"font-weight: bold\">{</span><span style=\"color: #008000; text-decoration-color: #008000\">'food_preference'</span>: <span style=\"color: #008000; text-decoration-color: #008000\">'I like pizza'</span><span style=\"font-weight: bold\">}</span>,                                               <span style=\"color: #7f7f7f; text-decoration-color: #7f7f7f\">               </span>\n",
       "<span style=\"color: #7fbfbf; text-decoration-color: #7fbfbf\">           </span><span style=\"color: #808000; text-decoration-color: #808000\">created_at</span>=<span style=\"color: #008000; text-decoration-color: #008000\">'2025-06-22T21:58:24.692778+00:00'</span>,                                           <span style=\"color: #7f7f7f; text-decoration-color: #7f7f7f\">               </span>\n",
       "<span style=\"color: #7fbfbf; text-decoration-color: #7fbfbf\">           </span><span style=\"color: #808000; text-decoration-color: #808000\">updated_at</span>=<span style=\"color: #008000; text-decoration-color: #008000\">'2025-06-22T21:58:24.692783+00:00'</span>, <span style=\"color: #808000; text-decoration-color: #808000\">score</span>=<span style=\"color: #800080; text-decoration-color: #800080; font-style: italic\">None</span><span style=\"font-weight: bold\">)</span>                               <span style=\"color: #7f7f7f; text-decoration-color: #7f7f7f\">               </span>\n",
       "<span style=\"color: #7fbfbf; text-decoration-color: #7fbfbf\">           </span><span style=\"font-weight: bold\">]</span>                                                                                        <span style=\"color: #7f7f7f; text-decoration-color: #7f7f7f\">               </span>\n",
       "</pre>\n"
      ],
      "text/plain": [
       "\u001b[2;36m[22:58:24]\u001b[0m\u001b[2;36m \u001b[0m\u001b[1m[\u001b[0m                                                                                        \u001b]8;id=955097;file:///var/folders/ny/dl75sc_x2tb54lsymt5bh5p00000gn/T/ipykernel_40757/1831516903.py\u001b\\\u001b[2m1831516903.py\u001b[0m\u001b]8;;\u001b\\\u001b[2m:\u001b[0m\u001b]8;id=495530;file:///var/folders/ny/dl75sc_x2tb54lsymt5bh5p00000gn/T/ipykernel_40757/1831516903.py#2\u001b\\\u001b[2m2\u001b[0m\u001b]8;;\u001b\\\n",
       "\u001b[2;36m           \u001b[0m    \u001b[1;35mItem\u001b[0m\u001b[1m(\u001b[0m\u001b[33mnamespace\u001b[0m=\u001b[1m[\u001b[0m\u001b[32m'memories'\u001b[0m, \u001b[32m'1'\u001b[0m\u001b[1m]\u001b[0m, \u001b[33mkey\u001b[0m=\u001b[32m'9cad7428-12fa-4f65-baf4-f391f008669e'\u001b[0m,        \u001b[2m               \u001b[0m\n",
       "\u001b[2;36m           \u001b[0m\u001b[33mvalue\u001b[0m=\u001b[1m{\u001b[0m\u001b[32m'food_preference'\u001b[0m: \u001b[32m'I like pizza'\u001b[0m\u001b[1m}\u001b[0m,                                               \u001b[2m               \u001b[0m\n",
       "\u001b[2;36m           \u001b[0m\u001b[33mcreated_at\u001b[0m=\u001b[32m'2025-06-22T21:58:24.692778+00:00'\u001b[0m,                                           \u001b[2m               \u001b[0m\n",
       "\u001b[2;36m           \u001b[0m\u001b[33mupdated_at\u001b[0m=\u001b[32m'2025-06-22T21:58:24.692783+00:00'\u001b[0m, \u001b[33mscore\u001b[0m=\u001b[3;35mNone\u001b[0m\u001b[1m)\u001b[0m                               \u001b[2m               \u001b[0m\n",
       "\u001b[2;36m           \u001b[0m\u001b[1m]\u001b[0m                                                                                        \u001b[2m               \u001b[0m\n"
      ]
     },
     "metadata": {},
     "output_type": "display_data"
    }
   ],
   "source": [
    "memories = in_memory_store.search(namespace_for_memory)\n",
    "console.log(memories)"
   ]
  },
  {
   "cell_type": "code",
   "execution_count": 21,
   "id": "fb37c017",
   "metadata": {},
   "outputs": [
    {
     "data": {
      "text/plain": [
       "{'namespace': ['memories', '1'],\n",
       " 'key': '9cad7428-12fa-4f65-baf4-f391f008669e',\n",
       " 'value': {'food_preference': 'I like pizza'},\n",
       " 'created_at': '2025-06-22T21:58:24.692778+00:00',\n",
       " 'updated_at': '2025-06-22T21:58:24.692783+00:00',\n",
       " 'score': None}"
      ]
     },
     "execution_count": 21,
     "metadata": {},
     "output_type": "execute_result"
    }
   ],
   "source": [
    "memories[0].dict()"
   ]
  },
  {
   "cell_type": "markdown",
   "id": "913d3072",
   "metadata": {},
   "source": [
    "#### Get"
   ]
  },
  {
   "cell_type": "code",
   "execution_count": 22,
   "id": "21f3b8e8",
   "metadata": {},
   "outputs": [
    {
     "data": {
      "text/plain": [
       "{'namespace': ['memories', '1'],\n",
       " 'key': '9cad7428-12fa-4f65-baf4-f391f008669e',\n",
       " 'value': {'food_preference': 'I like pizza'},\n",
       " 'created_at': '2025-06-22T21:58:24.692778+00:00',\n",
       " 'updated_at': '2025-06-22T21:58:24.692783+00:00'}"
      ]
     },
     "execution_count": 22,
     "metadata": {},
     "output_type": "execute_result"
    }
   ],
   "source": [
    "memories = in_memory_store.get(namespace_for_memory, key)\n",
    "memories.dict()"
   ]
  },
  {
   "cell_type": "markdown",
   "id": "1288f834",
   "metadata": {},
   "source": [
    "<br><br>\n",
    "\n",
    "### Chatbot With Long Term Memory\n",
    "\n",
    "- We want a chatbot that has two types of memory:\n",
    "  - **Short-term (within-thread) memory**: Chatbot can persist conversational history and / or allow interruptions in a chat session.\n",
    "  - **Long-term (cross-thread) memory**: Chatbot can remember information about a specific user across all chat sessions."
   ]
  },
  {
   "cell_type": "code",
   "execution_count": 23,
   "id": "6a74c656",
   "metadata": {},
   "outputs": [],
   "source": [
    "from langchain_core.runnables.config import RunnableConfig\n",
    "from langgraph.store.base import BaseStore"
   ]
  },
  {
   "cell_type": "code",
   "execution_count": 24,
   "id": "aa874d67",
   "metadata": {},
   "outputs": [],
   "source": [
    "class MessageState(TypedDict):\n",
    "    messages: Annotated[list[AnyMessage], add_messages]\n",
    "\n",
    "\n",
    "class MessageStateValidator(BaseModel):\n",
    "    messages: Annotated[list[AnyMessage], add_messages]"
   ]
  },
  {
   "cell_type": "code",
   "execution_count": 25,
   "id": "a8ad8c59",
   "metadata": {},
   "outputs": [],
   "source": [
    "# Chatbot instruction\n",
    "MODEL_SYSTEM_MESSAGE: str = \"\"\"\n",
    "<system>\n",
    "\n",
    "<role>\n",
    "You are a helpful assistant with memory that provides information about the user.\n",
    "If you have memory for this user, use it to personalize your responses.\n",
    "</role>\n",
    "\n",
    "<memory>\n",
    "{memory}\n",
    "</memory>\n",
    "\n",
    "<quality_standards>\n",
    "- **ALWAYS** use the information in memory.\n",
    "</quality_standards>\n",
    "\n",
    "</system>\n",
    "\"\"\"\n",
    "\n",
    "# Create new memory from the chat history and any existing memory\n",
    "CREATE_MEMORY_INSTRUCTION: str = \"\"\"\"\n",
    "<system>\n",
    "\n",
    "<role>\n",
    "You are collecting information about the user to personalize your responses.\n",
    "</role>\n",
    "\n",
    "<current_user_info>\n",
    "{memory}\n",
    "</current_user_info>\n",
    "\n",
    "<instruction>\n",
    "1. Review the chat history below carefully\n",
    "2. Identify new information about the user, such as:\n",
    "   - Personal details (name, location)\n",
    "   - Preferences (likes, dislikes)\n",
    "   - Interests and hobbies\n",
    "   - Past experiences\n",
    "   - Goals or future plans\n",
    "3. Merge any new information with existing memory\n",
    "4. Format the memory as a clear, bulleted list\n",
    "5. If new information conflicts with existing memory, keep the most recent version\n",
    "Remember: Only include factual information directly stated by the user. Do not make assumptions or inferences.\n",
    "</instruction>\n",
    "\n",
    "Based on the chat history below, please update the user information:\n",
    "\n",
    "<system>\n",
    "\"\"\""
   ]
  },
  {
   "cell_type": "markdown",
   "id": "075ff588",
   "metadata": {},
   "source": [
    "### Initialize the LLM"
   ]
  },
  {
   "cell_type": "code",
   "execution_count": 26,
   "id": "47a2af1d",
   "metadata": {},
   "outputs": [
    {
     "data": {
      "text/html": [
       "<pre style=\"white-space:pre;overflow-x:auto;line-height:normal;font-family:Menlo,'DejaVu Sans Mono',consolas,'Courier New',monospace\"><span style=\"color: #800080; text-decoration-color: #800080; font-weight: bold\">LLMResponse</span><span style=\"font-weight: bold\">(</span>\n",
       "    <span style=\"color: #808000; text-decoration-color: #808000\">api_key</span>=<span style=\"color: #800080; text-decoration-color: #800080; font-weight: bold\">SecretStr</span><span style=\"font-weight: bold\">(</span><span style=\"color: #008000; text-decoration-color: #008000\">'**********'</span><span style=\"font-weight: bold\">)</span>,\n",
       "    <span style=\"color: #808000; text-decoration-color: #808000\">base_url</span>=<span style=\"color: #008000; text-decoration-color: #008000\">'https://openrouter.ai/api/v1'</span>,\n",
       "    <span style=\"color: #808000; text-decoration-color: #808000\">model</span>=<span style=\"color: #008000; text-decoration-color: #008000\">'meta-llama/llama-3.1-8b-instruct'</span>\n",
       "<span style=\"font-weight: bold\">)</span>\n",
       "</pre>\n"
      ],
      "text/plain": [
       "\u001b[1;35mLLMResponse\u001b[0m\u001b[1m(\u001b[0m\n",
       "    \u001b[33mapi_key\u001b[0m=\u001b[1;35mSecretStr\u001b[0m\u001b[1m(\u001b[0m\u001b[32m'**********'\u001b[0m\u001b[1m)\u001b[0m,\n",
       "    \u001b[33mbase_url\u001b[0m=\u001b[32m'https://openrouter.ai/api/v1'\u001b[0m,\n",
       "    \u001b[33mmodel\u001b[0m=\u001b[32m'meta-llama/llama-3.1-8b-instruct'\u001b[0m\n",
       "\u001b[1m)\u001b[0m\n"
      ]
     },
     "metadata": {},
     "output_type": "display_data"
    }
   ],
   "source": [
    "llm = LLMResponse(\n",
    "    api_key=settings.OPENROUTER_API_KEY,\n",
    "    base_url=settings.OPENROUTER_URL,\n",
    "    model=ModelEnum.LLAMA_3p1_8B_INSTRUCT_REMOTE.value,\n",
    ")\n",
    "console.print(llm)"
   ]
  },
  {
   "cell_type": "code",
   "execution_count": null,
   "id": "ca64e2e6",
   "metadata": {},
   "outputs": [],
   "source": [
    "async def call_llm(state: MessageState, config: RunnableConfig, store: BaseStore) -> dict[str, Any]:\n",
    "    # Get the user id\n",
    "    user_id = config[\"configurable\"][\"user_id\"]\n",
    "\n",
    "    # Get the memory for the user\n",
    "    prefix: str = \"memory\"\n",
    "    key = \"user_memory\"\n",
    "    namespace = (prefix, user_id)\n",
    "    existing_memory = store.get(namespace, key)\n",
    "    # existing_memory = await store.aget(namespace, key)\n",
    "\n",
    "    if existing_memory:\n",
    "        existing_memory_content = existing_memory.value.get(prefix)\n",
    "    else:\n",
    "        existing_memory_content = \"No existing memory found\"\n",
    "\n",
    "    system_message: str = MODEL_SYSTEM_MESSAGE.format(memory=existing_memory_content)\n",
    "    # Respond using memory + chat history\n",
    "    formatted_messages = convert_to_openai_messages(\n",
    "        [SystemMessage(content=system_message)] + state[\"messages\"]\n",
    "    )\n",
    "    response, _ = await llm.ainvoke(messages=formatted_messages)\n",
    "\n",
    "    return {\"messages\": [AIMessage(content=response)]}\n",
    "\n",
    "\n",
    "async def write_memory(state: MessageState, config: RunnableConfig, store: BaseStore) -> None:\n",
    "    user_id = config[\"configurable\"][\"user_id\"]\n",
    "    prefix: str = \"memory\"\n",
    "    key = \"user_memory\"\n",
    "    namespace = (prefix, user_id)\n",
    "    existing_memory = store.get(namespace, key)\n",
    "    # existing_memory = await store.aget(namespace, key)\n",
    "\n",
    "    if existing_memory:\n",
    "        existing_memory_content = existing_memory.value.get(prefix)\n",
    "    else:\n",
    "        existing_memory_content = \"No existing memory found\"\n",
    "\n",
    "    system_message: str = CREATE_MEMORY_INSTRUCTION.format(memory=existing_memory_content)\n",
    "    messages = convert_to_openai_messages(\n",
    "        [SystemMessage(content=system_message)] + state[\"messages\"]\n",
    "    )\n",
    "    # Respond using memory + chat history\n",
    "    new_memory, _ = await llm.ainvoke(messages=messages)\n",
    "\n",
    "    # Update existing memory\n",
    "    # await store.aput(namespace, key, {prefix: new_memory.content})\n",
    "    store.put(namespace, key, {prefix: new_memory})"
   ]
  },
  {
   "cell_type": "code",
   "execution_count": 28,
   "id": "f1f8e7dd",
   "metadata": {},
   "outputs": [
    {
     "data": {
      "text/plain": [
       "{'messages': [AIMessage(content=\"I don't have any information about you in my memory. This is our first conversation, and I don't have any prior knowledge about you. If you'd like to share your name with me, I'd be happy to learn it and remember it for future conversations.\", additional_kwargs={}, response_metadata={})]}"
      ]
     },
     "execution_count": 28,
     "metadata": {},
     "output_type": "execute_result"
    }
   ],
   "source": [
    "await call_llm(\n",
    "    state={\"messages\": [HumanMessage(content=\"What is my name?\")]},\n",
    "    config={\"configurable\": {\"thread_id\": \"1\", \"user_id\": \"1\"}},\n",
    "    store=in_memory_store,\n",
    ")"
   ]
  },
  {
   "cell_type": "code",
   "execution_count": 29,
   "id": "7bfae459",
   "metadata": {},
   "outputs": [
    {
     "data": {
      "image/png": "[encoded data removed]",
      "text/plain": [
       "<IPython.core.display.Image object>"
      ]
     },
     "metadata": {},
     "output_type": "display_data"
    }
   ],
   "source": [
    "# Graph\n",
    "graph_builder = StateGraph(MessageState)\n",
    "\n",
    "# Add nodes\n",
    "graph_builder.add_node(\"call_llm\", call_llm)\n",
    "graph_builder.add_node(\"write_memory\", write_memory)\n",
    "\n",
    "# Add edges\n",
    "graph_builder.add_edge(START, \"call_llm\")\n",
    "graph_builder.add_edge(\"call_llm\", \"write_memory\")\n",
    "graph_builder.add_edge(\"write_memory\", END)\n",
    "\n",
    "# Long-term-memory store (across threads)\n",
    "across_thread_memory = InMemoryStore()\n",
    "# Short-term-memory store (within a thread) checkpointer\n",
    "within_thread_memory = MemorySaver()\n",
    "\n",
    "# Compile\n",
    "graph = graph_builder.compile(\n",
    "    checkpointer=within_thread_memory, store=across_thread_memory\n",
    ").with_config(run_name=\"chatbot-with-memory\")\n",
    "\n",
    "# Visualize\n",
    "display(Image(graph.get_graph(xray=1).draw_mermaid_png()))"
   ]
  },
  {
   "cell_type": "code",
   "execution_count": 30,
   "id": "bbc2cfff",
   "metadata": {},
   "outputs": [
    {
     "name": "stdout",
     "output_type": "stream",
     "text": [
      "================================\u001b[1m Human Message \u001b[0m=================================\n",
      "\n",
      "Hello, my name is Neidu\n",
      "================================\u001b[1m Human Message \u001b[0m=================================\n",
      "\n",
      "Hello, my name is Neidu\n",
      "==================================\u001b[1m Ai Message \u001b[0m==================================\n",
      "\n",
      "Hello Neidu. It's nice to meet you. I'm a helpful assistant, and I'll do my best to provide you with the information you need. I don't have any existing memory of our previous conversations, so this is the start of our interaction. How can I assist you today?\n"
     ]
    }
   ],
   "source": [
    "config: dict[str, Any] = {\"configurable\": {\"thread_id\": \"1\", \"user_id\": \"1\"}}\n",
    "msgs = [\"Hello, my name is Neidu\"]\n",
    "input_state = MessageState(messages=[HumanMessage(content=msg) for msg in msgs])\n",
    "\n",
    "async for event in graph.astream(input_state, config=config, stream_mode=\"values\"):\n",
    "    for msg in event[\"messages\"]:\n",
    "        msg.pretty_print()"
   ]
  },
  {
   "cell_type": "code",
   "execution_count": null,
   "id": "c24c62c0",
   "metadata": {},
   "outputs": [
    {
     "name": "stdout",
     "output_type": "stream",
     "text": [
      "================================\u001b[1m Human Message \u001b[0m=================================\n",
      "\n",
      "Hello, my name is Neidu\n",
      "==================================\u001b[1m Ai Message \u001b[0m==================================\n",
      "\n",
      "Hello Neidu. It's nice to meet you. I'm a helpful assistant, and I'll do my best to provide you with the information you need. I don't have any existing memory of our previous conversations, so this is the start of our interaction. How can I assist you today?\n",
      "================================\u001b[1m Human Message \u001b[0m=================================\n",
      "\n",
      "I'm an AI Engineer whos's currently working on NLP related things\n",
      "================================\u001b[1m Human Message \u001b[0m=================================\n",
      "\n",
      "Hello, my name is Neidu\n",
      "==================================\u001b[1m Ai Message \u001b[0m==================================\n",
      "\n",
      "Hello Neidu. It's nice to meet you. I'm a helpful assistant, and I'll do my best to provide you with the information you need. I don't have any existing memory of our previous conversations, so this is the start of our interaction. How can I assist you today?\n",
      "================================\u001b[1m Human Message \u001b[0m=================================\n",
      "\n",
      "I'm an AI Engineer whos's currently working on NLP related things\n",
      "==================================\u001b[1m Ai Message \u001b[0m==================================\n",
      "\n",
      "As an AI Engineer working on NLP (Natural Language Processing) related projects, you must be dealing with some fascinating topics. I'd like to recall that I have no prior memory of our conversation, but I can still provide general information and insights related to NLP.\n",
      "\n",
      "However, I'd like to store some information about you in my memory for future reference. So, I'll make a note that you're Neidu, an AI Engineer with a focus on NLP. This will help me provide more personalized responses in our future conversations.\n",
      "\n",
      "What specific aspects of NLP are you currently working on, such as text classification, sentiment analysis, or perhaps something more advanced like conversational AI?\n"
     ]
    }
   ],
   "source": [
    "msgs = [\"I'm an AI Engineer who's currently working on NLP related things\"]\n",
    "input_state = MessageState(messages=[HumanMessage(content=msg) for msg in msgs])\n",
    "\n",
    "async for event in graph.astream(input_state, config=config, stream_mode=\"values\"):\n",
    "    for msg in event[\"messages\"]:\n",
    "        msg.pretty_print()"
   ]
  },
  {
   "cell_type": "code",
   "execution_count": 32,
   "id": "31de1497",
   "metadata": {},
   "outputs": [
    {
     "name": "stdout",
     "output_type": "stream",
     "text": [
      "================================\u001b[1m Human Message \u001b[0m=================================\n",
      "\n",
      "Hello, my name is Neidu\n",
      "==================================\u001b[1m Ai Message \u001b[0m==================================\n",
      "\n",
      "Hello Neidu. It's nice to meet you. I'm a helpful assistant, and I'll do my best to provide you with the information you need. I don't have any existing memory of our previous conversations, so this is the start of our interaction. How can I assist you today?\n",
      "================================\u001b[1m Human Message \u001b[0m=================================\n",
      "\n",
      "I'm an AI Engineer whos's currently working on NLP related things\n",
      "==================================\u001b[1m Ai Message \u001b[0m==================================\n",
      "\n",
      "As an AI Engineer working on NLP (Natural Language Processing) related projects, you must be dealing with some fascinating topics. I'd like to recall that I have no prior memory of our conversation, but I can still provide general information and insights related to NLP.\n",
      "\n",
      "However, I'd like to store some information about you in my memory for future reference. So, I'll make a note that you're Neidu, an AI Engineer with a focus on NLP. This will help me provide more personalized responses in our future conversations.\n",
      "\n",
      "What specific aspects of NLP are you currently working on, such as text classification, sentiment analysis, or perhaps something more advanced like conversational AI?\n",
      "================================\u001b[1m Human Message \u001b[0m=================================\n",
      "\n",
      "What do you know about me so far?\n",
      "================================\u001b[1m Human Message \u001b[0m=================================\n",
      "\n",
      "Hello, my name is Neidu\n",
      "==================================\u001b[1m Ai Message \u001b[0m==================================\n",
      "\n",
      "Hello Neidu. It's nice to meet you. I'm a helpful assistant, and I'll do my best to provide you with the information you need. I don't have any existing memory of our previous conversations, so this is the start of our interaction. How can I assist you today?\n",
      "================================\u001b[1m Human Message \u001b[0m=================================\n",
      "\n",
      "I'm an AI Engineer whos's currently working on NLP related things\n",
      "==================================\u001b[1m Ai Message \u001b[0m==================================\n",
      "\n",
      "As an AI Engineer working on NLP (Natural Language Processing) related projects, you must be dealing with some fascinating topics. I'd like to recall that I have no prior memory of our conversation, but I can still provide general information and insights related to NLP.\n",
      "\n",
      "However, I'd like to store some information about you in my memory for future reference. So, I'll make a note that you're Neidu, an AI Engineer with a focus on NLP. This will help me provide more personalized responses in our future conversations.\n",
      "\n",
      "What specific aspects of NLP are you currently working on, such as text classification, sentiment analysis, or perhaps something more advanced like conversational AI?\n",
      "================================\u001b[1m Human Message \u001b[0m=================================\n",
      "\n",
      "What do you know about me so far?\n",
      "==================================\u001b[1m Ai Message \u001b[0m==================================\n",
      "\n",
      "I've made a note about you in my memory. Here's what I know so far:\n",
      "\n",
      "* Your name is Neidu.\n",
      "* You're an AI Engineer.\n",
      "* You're currently working on projects related to NLP (Natural Language Processing).\n",
      "\n",
      "That's the extent of my knowledge about you so far. I'm happy to learn more and update my memory as we continue our conversation!\n"
     ]
    }
   ],
   "source": [
    "msgs = [\"What do you know about me so far?\"]\n",
    "input_state = MessageState(messages=[HumanMessage(content=msg) for msg in msgs])\n",
    "\n",
    "async for event in graph.astream(input_state, config=config, stream_mode=\"values\"):\n",
    "    for msg in event[\"messages\"]:\n",
    "        msg.pretty_print()"
   ]
  },
  {
   "cell_type": "code",
   "execution_count": 33,
   "id": "39fe859a",
   "metadata": {},
   "outputs": [
    {
     "name": "stdout",
     "output_type": "stream",
     "text": [
      "================================\u001b[1m Human Message \u001b[0m=================================\n",
      "\n",
      "Hello, my name is Neidu\n",
      "==================================\u001b[1m Ai Message \u001b[0m==================================\n",
      "\n",
      "Hello Neidu. It's nice to meet you. I'm a helpful assistant, and I'll do my best to provide you with the information you need. I don't have any existing memory of our previous conversations, so this is the start of our interaction. How can I assist you today?\n",
      "================================\u001b[1m Human Message \u001b[0m=================================\n",
      "\n",
      "I'm an AI Engineer whos's currently working on NLP related things\n",
      "==================================\u001b[1m Ai Message \u001b[0m==================================\n",
      "\n",
      "As an AI Engineer working on NLP (Natural Language Processing) related projects, you must be dealing with some fascinating topics. I'd like to recall that I have no prior memory of our conversation, but I can still provide general information and insights related to NLP.\n",
      "\n",
      "However, I'd like to store some information about you in my memory for future reference. So, I'll make a note that you're Neidu, an AI Engineer with a focus on NLP. This will help me provide more personalized responses in our future conversations.\n",
      "\n",
      "What specific aspects of NLP are you currently working on, such as text classification, sentiment analysis, or perhaps something more advanced like conversational AI?\n",
      "================================\u001b[1m Human Message \u001b[0m=================================\n",
      "\n",
      "What do you know about me so far?\n",
      "==================================\u001b[1m Ai Message \u001b[0m==================================\n",
      "\n",
      "I've made a note about you in my memory. Here's what I know so far:\n",
      "\n",
      "* Your name is Neidu.\n",
      "* You're an AI Engineer.\n",
      "* You're currently working on projects related to NLP (Natural Language Processing).\n",
      "\n",
      "That's the extent of my knowledge about you so far. I'm happy to learn more and update my memory as we continue our conversation!\n"
     ]
    }
   ],
   "source": [
    "# Chat history\n",
    "state = graph.get_state(config=config).values\n",
    "\n",
    "for m in state[\"messages\"]:\n",
    "    m.pretty_print()"
   ]
  },
  {
   "cell_type": "code",
   "execution_count": 34,
   "id": "11cb69f6",
   "metadata": {},
   "outputs": [
    {
     "data": {
      "text/html": [
       "<pre style=\"white-space:pre;overflow-x:auto;line-height:normal;font-family:Menlo,'DejaVu Sans Mono',consolas,'Courier New',monospace\"><span style=\"font-weight: bold\">{</span>\n",
       "    <span style=\"color: #008000; text-decoration-color: #008000\">'namespace'</span>: <span style=\"font-weight: bold\">[</span><span style=\"color: #008000; text-decoration-color: #008000\">'memory'</span>, <span style=\"color: #008000; text-decoration-color: #008000\">'1'</span><span style=\"font-weight: bold\">]</span>,\n",
       "    <span style=\"color: #008000; text-decoration-color: #008000\">'key'</span>: <span style=\"color: #008000; text-decoration-color: #008000\">'user_memory'</span>,\n",
       "    <span style=\"color: #008000; text-decoration-color: #008000\">'value'</span>: <span style=\"font-weight: bold\">{</span><span style=\"color: #008000; text-decoration-color: #008000\">'memory'</span>: <span style=\"color: #008000; text-decoration-color: #008000\">''</span><span style=\"font-weight: bold\">}</span>,\n",
       "    <span style=\"color: #008000; text-decoration-color: #008000\">'created_at'</span>: <span style=\"color: #008000; text-decoration-color: #008000\">'2025-06-22T21:58:33.899738+00:00'</span>,\n",
       "    <span style=\"color: #008000; text-decoration-color: #008000\">'updated_at'</span>: <span style=\"color: #008000; text-decoration-color: #008000\">'2025-06-22T21:58:33.899742+00:00'</span>\n",
       "<span style=\"font-weight: bold\">}</span>\n",
       "</pre>\n"
      ],
      "text/plain": [
       "\u001b[1m{\u001b[0m\n",
       "    \u001b[32m'namespace'\u001b[0m: \u001b[1m[\u001b[0m\u001b[32m'memory'\u001b[0m, \u001b[32m'1'\u001b[0m\u001b[1m]\u001b[0m,\n",
       "    \u001b[32m'key'\u001b[0m: \u001b[32m'user_memory'\u001b[0m,\n",
       "    \u001b[32m'value'\u001b[0m: \u001b[1m{\u001b[0m\u001b[32m'memory'\u001b[0m: \u001b[32m''\u001b[0m\u001b[1m}\u001b[0m,\n",
       "    \u001b[32m'created_at'\u001b[0m: \u001b[32m'2025-06-22T21:58:33.899738+00:00'\u001b[0m,\n",
       "    \u001b[32m'updated_at'\u001b[0m: \u001b[32m'2025-06-22T21:58:33.899742+00:00'\u001b[0m\n",
       "\u001b[1m}\u001b[0m\n"
      ]
     },
     "metadata": {},
     "output_type": "display_data"
    }
   ],
   "source": [
    "# namespace for the memory to save\n",
    "user_id: str = \"1\"\n",
    "prefix: str = \"memory\"\n",
    "key = \"user_memory\"\n",
    "namespace = (prefix, user_id)\n",
    "existing_memory = across_thread_memory.get(namespace, key)\n",
    "console.print(existing_memory.dict())"
   ]
  },
  {
   "cell_type": "markdown",
   "id": "f84ae042",
   "metadata": {},
   "source": [
    "#### Use Another Thread\n",
    "\n",
    "- The chatbot is now in a different thread and has no context of the previous conversation.\n"
   ]
  },
  {
   "cell_type": "code",
   "execution_count": 35,
   "metadata": {},
   "outputs": [
    {
     "name": "stdout",
     "output_type": "stream",
     "text": [
      "================================\u001b[1m Human Message \u001b[0m=================================\n",
      "\n",
      "What do you know about me so far?\n",
      "================================\u001b[1m Human Message \u001b[0m=================================\n",
      "\n",
      "What do you know about me so far?\n",
      "==================================\u001b[1m Ai Message \u001b[0m==================================\n",
      "\n",
      "I don't have any information about you in my memory yet. This is our first conversation, and I'm starting from a blank slate. I'm ready to learn more about you and tailor my responses to your interests and needs. What would you like to talk about?\n"
     ]
    }
   ],
   "source": [
    "config_2: dict[str, Any] = {\"configurable\": {\"thread_id\": \"2\", \"user_id\": \"1\"}}\n",
    "msgs = [\"What do you know about me so far?\"]\n",
    "input_state = MessageState(messages=[HumanMessage(content=msg) for msg in msgs])\n",
    "\n",
    "async for event in graph.astream(input_state, config=config_2, stream_mode=\"values\"):\n",
    "    for msg in event[\"messages\"]:\n",
    "        msg.pretty_print()"
   ]
  },
  {
   "cell_type": "code",
   "execution_count": null,
   "id": "e9627b30",
   "metadata": {},
   "outputs": [],
   "source": []
  },
  {
   "cell_type": "markdown",
   "id": "7a5d07a4",
   "metadata": {},
   "source": [
    "<a id=\"chatbot-with-profile-schema\"></a>\n",
    "\n",
    "# Chatbot with Profile Schema\n",
    "\n",
    "- We introduced the LangGraph Memory Store as a way to save and retrieve long-term memories.\n",
    "- We built a simple chatbot that uses both short-term (within-thread) and long-term (across-thread) memory.\n",
    "- It saved long-term semantic memory (facts about the user) \"in the hot path\", as the user is chatting with it.\n",
    "- Our chatbot saved memories as a string. In practice, we often want memories to have a structure.\n",
    "\n",
    "\n",
    "## Profiles\n",
    "\n",
    "- For example, memories can be a single, continuously updated schema.\n",
    "- In our case, we want this to be a single user profile.\n",
    "\n",
    "- We'll extend our chatbot to save semantic memories to a single user profile.\n",
    "\n",
    "- We'll also introduce a library, `Trustcall`, to update this schema with new information.\n",
    "\n",
    "### [Go to top](#top)"
   ]
  },
  {
   "cell_type": "code",
   "execution_count": 36,
   "id": "b13a51ab",
   "metadata": {},
   "outputs": [
    {
     "data": {
      "text/plain": [
       "UserProfile(user_name='Neidu', interests=['AI', 'NLP', 'Spiritual Growth'])"
      ]
     },
     "execution_count": 36,
     "metadata": {},
     "output_type": "execute_result"
    }
   ],
   "source": [
    "class UserProfile(BaseModel):\n",
    "    user_name: str = Field(description=\"User's preferred name\")\n",
    "    interests: list[str] = Field(default_factory=list, description=\"List of user's interests\")\n",
    "\n",
    "\n",
    "# Save a schema to the store\n",
    "user_profile = UserProfile(user_name=\"Neidu\", interests=[\"AI\", \"NLP\", \"Spiritual Growth\"])\n",
    "user_profile"
   ]
  },
  {
   "cell_type": "code",
   "execution_count": 37,
   "id": "0d86d9d8",
   "metadata": {},
   "outputs": [],
   "source": [
    "# Create a store\n",
    "in_memory_store = InMemoryStore()\n",
    "\n",
    "user_id: str = \"1\"\n",
    "prefix: str = \"memory\"\n",
    "key = \"user_profile\"\n",
    "namespace = (prefix, user_id)\n",
    "across_thread_memory.put(namespace, key, user_profile)\n",
    "\n",
    "in_memory_store.put(namespace, key, user_profile)"
   ]
  },
  {
   "cell_type": "code",
   "execution_count": 38,
   "metadata": {},
   "outputs": [
    {
     "data": {
      "text/html": [
       "<pre style=\"white-space:pre;overflow-x:auto;line-height:normal;font-family:Menlo,'DejaVu Sans Mono',consolas,'Courier New',monospace\"><span style=\"font-weight: bold\">{</span>\n",
       "    <span style=\"color: #008000; text-decoration-color: #008000\">'namespace'</span>: <span style=\"font-weight: bold\">[</span><span style=\"color: #008000; text-decoration-color: #008000\">'memory'</span>, <span style=\"color: #008000; text-decoration-color: #008000\">'1'</span><span style=\"font-weight: bold\">]</span>,\n",
       "    <span style=\"color: #008000; text-decoration-color: #008000\">'key'</span>: <span style=\"color: #008000; text-decoration-color: #008000\">'user_profile'</span>,\n",
       "    <span style=\"color: #008000; text-decoration-color: #008000\">'value'</span>: <span style=\"color: #800080; text-decoration-color: #800080; font-weight: bold\">UserProfile</span><span style=\"font-weight: bold\">(</span><span style=\"color: #808000; text-decoration-color: #808000\">user_name</span>=<span style=\"color: #008000; text-decoration-color: #008000\">'Neidu'</span>, <span style=\"color: #808000; text-decoration-color: #808000\">interests</span>=<span style=\"font-weight: bold\">[</span><span style=\"color: #008000; text-decoration-color: #008000\">'AI'</span>, <span style=\"color: #008000; text-decoration-color: #008000\">'NLP'</span>, <span style=\"color: #008000; text-decoration-color: #008000\">'Spiritual Growth'</span><span style=\"font-weight: bold\">])</span>,\n",
       "    <span style=\"color: #008000; text-decoration-color: #008000\">'created_at'</span>: <span style=\"color: #008000; text-decoration-color: #008000\">'2025-06-22T21:58:38.700302+00:00'</span>,\n",
       "    <span style=\"color: #008000; text-decoration-color: #008000\">'updated_at'</span>: <span style=\"color: #008000; text-decoration-color: #008000\">'2025-06-22T21:58:38.700303+00:00'</span>,\n",
       "    <span style=\"color: #008000; text-decoration-color: #008000\">'score'</span>: <span style=\"color: #800080; text-decoration-color: #800080; font-style: italic\">None</span>\n",
       "<span style=\"font-weight: bold\">}</span>\n",
       "</pre>\n"
      ],
      "text/plain": [
       "\u001b[1m{\u001b[0m\n",
       "    \u001b[32m'namespace'\u001b[0m: \u001b[1m[\u001b[0m\u001b[32m'memory'\u001b[0m, \u001b[32m'1'\u001b[0m\u001b[1m]\u001b[0m,\n",
       "    \u001b[32m'key'\u001b[0m: \u001b[32m'user_profile'\u001b[0m,\n",
       "    \u001b[32m'value'\u001b[0m: \u001b[1;35mUserProfile\u001b[0m\u001b[1m(\u001b[0m\u001b[33muser_name\u001b[0m=\u001b[32m'Neidu'\u001b[0m, \u001b[33minterests\u001b[0m=\u001b[1m[\u001b[0m\u001b[32m'AI'\u001b[0m, \u001b[32m'NLP'\u001b[0m, \u001b[32m'Spiritual Growth'\u001b[0m\u001b[1m]\u001b[0m\u001b[1m)\u001b[0m,\n",
       "    \u001b[32m'created_at'\u001b[0m: \u001b[32m'2025-06-22T21:58:38.700302+00:00'\u001b[0m,\n",
       "    \u001b[32m'updated_at'\u001b[0m: \u001b[32m'2025-06-22T21:58:38.700303+00:00'\u001b[0m,\n",
       "    \u001b[32m'score'\u001b[0m: \u001b[3;35mNone\u001b[0m\n",
       "\u001b[1m}\u001b[0m\n"
      ]
     },
     "metadata": {},
     "output_type": "display_data"
    }
   ],
   "source": [
    "# Retrieve the data\n",
    "\n",
    "for data in in_memory_store.search(namespace):\n",
    "    console.print(data.dict())"
   ]
  },
  {
   "cell_type": "markdown",
   "id": "f8c2fbcc",
   "metadata": {},
   "source": [
    "## Chatbot With Profile Schema"
   ]
  },
  {
   "cell_type": "code",
   "execution_count": 39,
   "id": "44d09c3d",
   "metadata": {},
   "outputs": [
    {
     "data": {
      "text/html": [
       "<pre style=\"white-space:pre;overflow-x:auto;line-height:normal;font-family:Menlo,'DejaVu Sans Mono',consolas,'Courier New',monospace\"><span style=\"color: #7fbfbf; text-decoration-color: #7fbfbf\">[22:58:40] </span><span style=\"color: #800080; text-decoration-color: #800080; font-weight: bold\">UserProfile</span><span style=\"font-weight: bold\">(</span><span style=\"color: #808000; text-decoration-color: #808000\">user_name</span>=<span style=\"color: #008000; text-decoration-color: #008000\">'Neidu'</span>, <span style=\"color: #808000; text-decoration-color: #808000\">interests</span>=<span style=\"font-weight: bold\">[</span><span style=\"color: #008000; text-decoration-color: #008000\">'AI'</span>, <span style=\"color: #008000; text-decoration-color: #008000\">'NLP'</span>, <span style=\"color: #008000; text-decoration-color: #008000\">'spiritual growth'</span><span style=\"font-weight: bold\">])</span>             <a href=\"file:///var/folders/ny/dl75sc_x2tb54lsymt5bh5p00000gn/T/ipykernel_40757/3874973300.py\" target=\"_blank\"><span style=\"color: #7f7f7f; text-decoration-color: #7f7f7f\">3874973300.py</span></a><span style=\"color: #7f7f7f; text-decoration-color: #7f7f7f\">:</span><a href=\"file:///var/folders/ny/dl75sc_x2tb54lsymt5bh5p00000gn/T/ipykernel_40757/3874973300.py#10\" target=\"_blank\"><span style=\"color: #7f7f7f; text-decoration-color: #7f7f7f\">10</span></a>\n",
       "</pre>\n"
      ],
      "text/plain": [
       "\u001b[2;36m[22:58:40]\u001b[0m\u001b[2;36m \u001b[0m\u001b[1;35mUserProfile\u001b[0m\u001b[1m(\u001b[0m\u001b[33muser_name\u001b[0m=\u001b[32m'Neidu'\u001b[0m, \u001b[33minterests\u001b[0m=\u001b[1m[\u001b[0m\u001b[32m'AI'\u001b[0m, \u001b[32m'NLP'\u001b[0m, \u001b[32m'spiritual growth'\u001b[0m\u001b[1m]\u001b[0m\u001b[1m)\u001b[0m             \u001b]8;id=374492;file:///var/folders/ny/dl75sc_x2tb54lsymt5bh5p00000gn/T/ipykernel_40757/3874973300.py\u001b\\\u001b[2m3874973300.py\u001b[0m\u001b]8;;\u001b\\\u001b[2m:\u001b[0m\u001b]8;id=575393;file:///var/folders/ny/dl75sc_x2tb54lsymt5bh5p00000gn/T/ipykernel_40757/3874973300.py#10\u001b\\\u001b[2m10\u001b[0m\u001b]8;;\u001b\\\n"
      ]
     },
     "metadata": {},
     "output_type": "display_data"
    }
   ],
   "source": [
    "# Let's test the user profile with structured outputs\n",
    "message: str = (\n",
    "    \"I'm Neidu and I'm a AI Engineer. I love working on AI and NLP \"\n",
    "    \"related projects. I'm also looking for spiritual growth.\"\n",
    ")\n",
    "\n",
    "response, _ = await llm.get_structured_response(message=message, response_model=UserProfile)\n",
    "console.log(response)"
   ]
  },
  {
   "cell_type": "code",
   "execution_count": 40,
   "id": "d0108baf",
   "metadata": {},
   "outputs": [
    {
     "data": {
      "text/html": [
       "<pre style=\"white-space:pre;overflow-x:auto;line-height:normal;font-family:Menlo,'DejaVu Sans Mono',consolas,'Courier New',monospace\"><span style=\"color: #7fbfbf; text-decoration-color: #7fbfbf\">           </span><span style=\"color: #800080; text-decoration-color: #800080; font-weight: bold\">ChatCompletion</span><span style=\"font-weight: bold\">(</span>                                                                          <a href=\"file:///var/folders/ny/dl75sc_x2tb54lsymt5bh5p00000gn/T/ipykernel_40757/1812234214.py\" target=\"_blank\"><span style=\"color: #7f7f7f; text-decoration-color: #7f7f7f\">1812234214.py</span></a><span style=\"color: #7f7f7f; text-decoration-color: #7f7f7f\">:</span><a href=\"file:///var/folders/ny/dl75sc_x2tb54lsymt5bh5p00000gn/T/ipykernel_40757/1812234214.py#1\" target=\"_blank\"><span style=\"color: #7f7f7f; text-decoration-color: #7f7f7f\">1</span></a>\n",
       "<span style=\"color: #7fbfbf; text-decoration-color: #7fbfbf\">           </span>    <span style=\"color: #808000; text-decoration-color: #808000\">id</span>=<span style=\"color: #008000; text-decoration-color: #008000\">'gen-1750629519-8gqP7rNNAyrGdwjntZ6G'</span>,                                            <span style=\"color: #7f7f7f; text-decoration-color: #7f7f7f\">               </span>\n",
       "<span style=\"color: #7fbfbf; text-decoration-color: #7fbfbf\">           </span>    <span style=\"color: #808000; text-decoration-color: #808000\">choices</span>=<span style=\"font-weight: bold\">[</span>                                                                            <span style=\"color: #7f7f7f; text-decoration-color: #7f7f7f\">               </span>\n",
       "<span style=\"color: #7fbfbf; text-decoration-color: #7fbfbf\">           </span>        <span style=\"color: #800080; text-decoration-color: #800080; font-weight: bold\">Choice</span><span style=\"font-weight: bold\">(</span>                                                                          <span style=\"color: #7f7f7f; text-decoration-color: #7f7f7f\">               </span>\n",
       "<span style=\"color: #7fbfbf; text-decoration-color: #7fbfbf\">           </span>            <span style=\"color: #808000; text-decoration-color: #808000\">finish_reason</span>=<span style=\"color: #008000; text-decoration-color: #008000\">'stop'</span>,                                                        <span style=\"color: #7f7f7f; text-decoration-color: #7f7f7f\">               </span>\n",
       "<span style=\"color: #7fbfbf; text-decoration-color: #7fbfbf\">           </span>            <span style=\"color: #808000; text-decoration-color: #808000\">index</span>=<span style=\"color: #008080; text-decoration-color: #008080; font-weight: bold\">0</span>,                                                                     <span style=\"color: #7f7f7f; text-decoration-color: #7f7f7f\">               </span>\n",
       "<span style=\"color: #7fbfbf; text-decoration-color: #7fbfbf\">           </span>            <span style=\"color: #808000; text-decoration-color: #808000\">logprobs</span>=<span style=\"color: #800080; text-decoration-color: #800080; font-style: italic\">None</span>,                                                               <span style=\"color: #7f7f7f; text-decoration-color: #7f7f7f\">               </span>\n",
       "<span style=\"color: #7fbfbf; text-decoration-color: #7fbfbf\">           </span>            <span style=\"color: #808000; text-decoration-color: #808000\">message</span>=<span style=\"color: #800080; text-decoration-color: #800080; font-weight: bold\">ChatCompletionMessage</span><span style=\"font-weight: bold\">(</span>                                               <span style=\"color: #7f7f7f; text-decoration-color: #7f7f7f\">               </span>\n",
       "<span style=\"color: #7fbfbf; text-decoration-color: #7fbfbf\">           </span>                <span style=\"color: #808000; text-decoration-color: #808000\">content</span>=<span style=\"color: #008000; text-decoration-color: #008000\">'{\"user_name\": \"Neidu\", \"interests\": [\"AI\", \"NLP\", \"spiritual </span>   <span style=\"color: #7f7f7f; text-decoration-color: #7f7f7f\">               </span>\n",
       "<span style=\"color: #7fbfbf; text-decoration-color: #7fbfbf\">           </span><span style=\"color: #008000; text-decoration-color: #008000\">growth\"]}'</span>,                                                                              <span style=\"color: #7f7f7f; text-decoration-color: #7f7f7f\">               </span>\n",
       "<span style=\"color: #7fbfbf; text-decoration-color: #7fbfbf\">           </span>                <span style=\"color: #808000; text-decoration-color: #808000\">refusal</span>=<span style=\"color: #800080; text-decoration-color: #800080; font-style: italic\">None</span>,                                                            <span style=\"color: #7f7f7f; text-decoration-color: #7f7f7f\">               </span>\n",
       "<span style=\"color: #7fbfbf; text-decoration-color: #7fbfbf\">           </span>                <span style=\"color: #808000; text-decoration-color: #808000\">role</span>=<span style=\"color: #008000; text-decoration-color: #008000\">'assistant'</span>,                                                        <span style=\"color: #7f7f7f; text-decoration-color: #7f7f7f\">               </span>\n",
       "<span style=\"color: #7fbfbf; text-decoration-color: #7fbfbf\">           </span>                <span style=\"color: #808000; text-decoration-color: #808000\">annotations</span>=<span style=\"color: #800080; text-decoration-color: #800080; font-style: italic\">None</span>,                                                        <span style=\"color: #7f7f7f; text-decoration-color: #7f7f7f\">               </span>\n",
       "<span style=\"color: #7fbfbf; text-decoration-color: #7fbfbf\">           </span>                <span style=\"color: #808000; text-decoration-color: #808000\">audio</span>=<span style=\"color: #800080; text-decoration-color: #800080; font-style: italic\">None</span>,                                                              <span style=\"color: #7f7f7f; text-decoration-color: #7f7f7f\">               </span>\n",
       "<span style=\"color: #7fbfbf; text-decoration-color: #7fbfbf\">           </span>                <span style=\"color: #808000; text-decoration-color: #808000\">function_call</span>=<span style=\"color: #800080; text-decoration-color: #800080; font-style: italic\">None</span>,                                                      <span style=\"color: #7f7f7f; text-decoration-color: #7f7f7f\">               </span>\n",
       "<span style=\"color: #7fbfbf; text-decoration-color: #7fbfbf\">           </span>                <span style=\"color: #808000; text-decoration-color: #808000\">tool_calls</span>=<span style=\"color: #800080; text-decoration-color: #800080; font-style: italic\">None</span>,                                                         <span style=\"color: #7f7f7f; text-decoration-color: #7f7f7f\">               </span>\n",
       "<span style=\"color: #7fbfbf; text-decoration-color: #7fbfbf\">           </span>                <span style=\"color: #808000; text-decoration-color: #808000\">reasoning</span>=<span style=\"color: #800080; text-decoration-color: #800080; font-style: italic\">None</span>                                                           <span style=\"color: #7f7f7f; text-decoration-color: #7f7f7f\">               </span>\n",
       "<span style=\"color: #7fbfbf; text-decoration-color: #7fbfbf\">           </span>            <span style=\"font-weight: bold\">)</span>,                                                                           <span style=\"color: #7f7f7f; text-decoration-color: #7f7f7f\">               </span>\n",
       "<span style=\"color: #7fbfbf; text-decoration-color: #7fbfbf\">           </span>            <span style=\"color: #808000; text-decoration-color: #808000\">native_finish_reason</span>=<span style=\"color: #008000; text-decoration-color: #008000\">'stop'</span>                                                  <span style=\"color: #7f7f7f; text-decoration-color: #7f7f7f\">               </span>\n",
       "<span style=\"color: #7fbfbf; text-decoration-color: #7fbfbf\">           </span>        <span style=\"font-weight: bold\">)</span>                                                                                <span style=\"color: #7f7f7f; text-decoration-color: #7f7f7f\">               </span>\n",
       "<span style=\"color: #7fbfbf; text-decoration-color: #7fbfbf\">           </span>    <span style=\"font-weight: bold\">]</span>,                                                                                   <span style=\"color: #7f7f7f; text-decoration-color: #7f7f7f\">               </span>\n",
       "<span style=\"color: #7fbfbf; text-decoration-color: #7fbfbf\">           </span>    <span style=\"color: #808000; text-decoration-color: #808000\">created</span>=<span style=\"color: #008080; text-decoration-color: #008080; font-weight: bold\">1750629519</span>,                                                                  <span style=\"color: #7f7f7f; text-decoration-color: #7f7f7f\">               </span>\n",
       "<span style=\"color: #7fbfbf; text-decoration-color: #7fbfbf\">           </span>    <span style=\"color: #808000; text-decoration-color: #808000\">model</span>=<span style=\"color: #008000; text-decoration-color: #008000\">'meta-llama/llama-3.1-8b-instruct'</span>,                                            <span style=\"color: #7f7f7f; text-decoration-color: #7f7f7f\">               </span>\n",
       "<span style=\"color: #7fbfbf; text-decoration-color: #7fbfbf\">           </span>    <span style=\"color: #808000; text-decoration-color: #808000\">object</span>=<span style=\"color: #008000; text-decoration-color: #008000\">'chat.completion'</span>,                                                            <span style=\"color: #7f7f7f; text-decoration-color: #7f7f7f\">               </span>\n",
       "<span style=\"color: #7fbfbf; text-decoration-color: #7fbfbf\">           </span>    <span style=\"color: #808000; text-decoration-color: #808000\">service_tier</span>=<span style=\"color: #800080; text-decoration-color: #800080; font-style: italic\">None</span>,                                                                   <span style=\"color: #7f7f7f; text-decoration-color: #7f7f7f\">               </span>\n",
       "<span style=\"color: #7fbfbf; text-decoration-color: #7fbfbf\">           </span>    <span style=\"color: #808000; text-decoration-color: #808000\">system_fingerprint</span>=<span style=\"color: #800080; text-decoration-color: #800080; font-style: italic\">None</span>,                                                             <span style=\"color: #7f7f7f; text-decoration-color: #7f7f7f\">               </span>\n",
       "<span style=\"color: #7fbfbf; text-decoration-color: #7fbfbf\">           </span>    <span style=\"color: #808000; text-decoration-color: #808000\">usage</span>=<span style=\"color: #800080; text-decoration-color: #800080; font-weight: bold\">CompletionUsage</span><span style=\"font-weight: bold\">(</span>                                                               <span style=\"color: #7f7f7f; text-decoration-color: #7f7f7f\">               </span>\n",
       "<span style=\"color: #7fbfbf; text-decoration-color: #7fbfbf\">           </span>        <span style=\"color: #808000; text-decoration-color: #808000\">completion_tokens</span>=<span style=\"color: #008080; text-decoration-color: #008080; font-weight: bold\">26</span>,                                                            <span style=\"color: #7f7f7f; text-decoration-color: #7f7f7f\">               </span>\n",
       "<span style=\"color: #7fbfbf; text-decoration-color: #7fbfbf\">           </span>        <span style=\"color: #808000; text-decoration-color: #808000\">prompt_tokens</span>=<span style=\"color: #008080; text-decoration-color: #008080; font-weight: bold\">355</span>,                                                               <span style=\"color: #7f7f7f; text-decoration-color: #7f7f7f\">               </span>\n",
       "<span style=\"color: #7fbfbf; text-decoration-color: #7fbfbf\">           </span>        <span style=\"color: #808000; text-decoration-color: #808000\">total_tokens</span>=<span style=\"color: #008080; text-decoration-color: #008080; font-weight: bold\">381</span>,                                                                <span style=\"color: #7f7f7f; text-decoration-color: #7f7f7f\">               </span>\n",
       "<span style=\"color: #7fbfbf; text-decoration-color: #7fbfbf\">           </span>        <span style=\"color: #808000; text-decoration-color: #808000\">completion_tokens_details</span>=<span style=\"color: #800080; text-decoration-color: #800080; font-style: italic\">None</span>,                                                  <span style=\"color: #7f7f7f; text-decoration-color: #7f7f7f\">               </span>\n",
       "<span style=\"color: #7fbfbf; text-decoration-color: #7fbfbf\">           </span>        <span style=\"color: #808000; text-decoration-color: #808000\">prompt_tokens_details</span>=<span style=\"color: #800080; text-decoration-color: #800080; font-style: italic\">None</span>                                                       <span style=\"color: #7f7f7f; text-decoration-color: #7f7f7f\">               </span>\n",
       "<span style=\"color: #7fbfbf; text-decoration-color: #7fbfbf\">           </span>    <span style=\"font-weight: bold\">)</span>,                                                                                   <span style=\"color: #7f7f7f; text-decoration-color: #7f7f7f\">               </span>\n",
       "<span style=\"color: #7fbfbf; text-decoration-color: #7fbfbf\">           </span>    <span style=\"color: #808000; text-decoration-color: #808000\">provider</span>=<span style=\"color: #008000; text-decoration-color: #008000\">'Together'</span>                                                                  <span style=\"color: #7f7f7f; text-decoration-color: #7f7f7f\">               </span>\n",
       "<span style=\"color: #7fbfbf; text-decoration-color: #7fbfbf\">           </span><span style=\"font-weight: bold\">)</span>                                                                                        <span style=\"color: #7f7f7f; text-decoration-color: #7f7f7f\">               </span>\n",
       "</pre>\n"
      ],
      "text/plain": [
       "\u001b[2;36m          \u001b[0m\u001b[2;36m \u001b[0m\u001b[1;35mChatCompletion\u001b[0m\u001b[1m(\u001b[0m                                                                          \u001b]8;id=510594;file:///var/folders/ny/dl75sc_x2tb54lsymt5bh5p00000gn/T/ipykernel_40757/1812234214.py\u001b\\\u001b[2m1812234214.py\u001b[0m\u001b]8;;\u001b\\\u001b[2m:\u001b[0m\u001b]8;id=744710;file:///var/folders/ny/dl75sc_x2tb54lsymt5bh5p00000gn/T/ipykernel_40757/1812234214.py#1\u001b\\\u001b[2m1\u001b[0m\u001b]8;;\u001b\\\n",
       "\u001b[2;36m           \u001b[0m    \u001b[33mid\u001b[0m=\u001b[32m'gen-1750629519-8gqP7rNNAyrGdwjntZ6G'\u001b[0m,                                            \u001b[2m               \u001b[0m\n",
       "\u001b[2;36m           \u001b[0m    \u001b[33mchoices\u001b[0m=\u001b[1m[\u001b[0m                                                                            \u001b[2m               \u001b[0m\n",
       "\u001b[2;36m           \u001b[0m        \u001b[1;35mChoice\u001b[0m\u001b[1m(\u001b[0m                                                                          \u001b[2m               \u001b[0m\n",
       "\u001b[2;36m           \u001b[0m            \u001b[33mfinish_reason\u001b[0m=\u001b[32m'stop'\u001b[0m,                                                        \u001b[2m               \u001b[0m\n",
       "\u001b[2;36m           \u001b[0m            \u001b[33mindex\u001b[0m=\u001b[1;36m0\u001b[0m,                                                                     \u001b[2m               \u001b[0m\n",
       "\u001b[2;36m           \u001b[0m            \u001b[33mlogprobs\u001b[0m=\u001b[3;35mNone\u001b[0m,                                                               \u001b[2m               \u001b[0m\n",
       "\u001b[2;36m           \u001b[0m            \u001b[33mmessage\u001b[0m=\u001b[1;35mChatCompletionMessage\u001b[0m\u001b[1m(\u001b[0m                                               \u001b[2m               \u001b[0m\n",
       "\u001b[2;36m           \u001b[0m                \u001b[33mcontent\u001b[0m=\u001b[32m'\u001b[0m\u001b[32m{\u001b[0m\u001b[32m\"user_name\": \"Neidu\", \"interests\": \u001b[0m\u001b[32m[\u001b[0m\u001b[32m\"AI\", \"NLP\", \"spiritual \u001b[0m   \u001b[2m               \u001b[0m\n",
       "\u001b[2;36m           \u001b[0m\u001b[32mgrowth\"\u001b[0m\u001b[32m]\u001b[0m\u001b[32m}\u001b[0m\u001b[32m'\u001b[0m,                                                                              \u001b[2m               \u001b[0m\n",
       "\u001b[2;36m           \u001b[0m                \u001b[33mrefusal\u001b[0m=\u001b[3;35mNone\u001b[0m,                                                            \u001b[2m               \u001b[0m\n",
       "\u001b[2;36m           \u001b[0m                \u001b[33mrole\u001b[0m=\u001b[32m'assistant'\u001b[0m,                                                        \u001b[2m               \u001b[0m\n",
       "\u001b[2;36m           \u001b[0m                \u001b[33mannotations\u001b[0m=\u001b[3;35mNone\u001b[0m,                                                        \u001b[2m               \u001b[0m\n",
       "\u001b[2;36m           \u001b[0m                \u001b[33maudio\u001b[0m=\u001b[3;35mNone\u001b[0m,                                                              \u001b[2m               \u001b[0m\n",
       "\u001b[2;36m           \u001b[0m                \u001b[33mfunction_call\u001b[0m=\u001b[3;35mNone\u001b[0m,                                                      \u001b[2m               \u001b[0m\n",
       "\u001b[2;36m           \u001b[0m                \u001b[33mtool_calls\u001b[0m=\u001b[3;35mNone\u001b[0m,                                                         \u001b[2m               \u001b[0m\n",
       "\u001b[2;36m           \u001b[0m                \u001b[33mreasoning\u001b[0m=\u001b[3;35mNone\u001b[0m                                                           \u001b[2m               \u001b[0m\n",
       "\u001b[2;36m           \u001b[0m            \u001b[1m)\u001b[0m,                                                                           \u001b[2m               \u001b[0m\n",
       "\u001b[2;36m           \u001b[0m            \u001b[33mnative_finish_reason\u001b[0m=\u001b[32m'stop'\u001b[0m                                                  \u001b[2m               \u001b[0m\n",
       "\u001b[2;36m           \u001b[0m        \u001b[1m)\u001b[0m                                                                                \u001b[2m               \u001b[0m\n",
       "\u001b[2;36m           \u001b[0m    \u001b[1m]\u001b[0m,                                                                                   \u001b[2m               \u001b[0m\n",
       "\u001b[2;36m           \u001b[0m    \u001b[33mcreated\u001b[0m=\u001b[1;36m1750629519\u001b[0m,                                                                  \u001b[2m               \u001b[0m\n",
       "\u001b[2;36m           \u001b[0m    \u001b[33mmodel\u001b[0m=\u001b[32m'meta-llama/llama-3.1-8b-instruct'\u001b[0m,                                            \u001b[2m               \u001b[0m\n",
       "\u001b[2;36m           \u001b[0m    \u001b[33mobject\u001b[0m=\u001b[32m'chat.completion'\u001b[0m,                                                            \u001b[2m               \u001b[0m\n",
       "\u001b[2;36m           \u001b[0m    \u001b[33mservice_tier\u001b[0m=\u001b[3;35mNone\u001b[0m,                                                                   \u001b[2m               \u001b[0m\n",
       "\u001b[2;36m           \u001b[0m    \u001b[33msystem_fingerprint\u001b[0m=\u001b[3;35mNone\u001b[0m,                                                             \u001b[2m               \u001b[0m\n",
       "\u001b[2;36m           \u001b[0m    \u001b[33musage\u001b[0m=\u001b[1;35mCompletionUsage\u001b[0m\u001b[1m(\u001b[0m                                                               \u001b[2m               \u001b[0m\n",
       "\u001b[2;36m           \u001b[0m        \u001b[33mcompletion_tokens\u001b[0m=\u001b[1;36m26\u001b[0m,                                                            \u001b[2m               \u001b[0m\n",
       "\u001b[2;36m           \u001b[0m        \u001b[33mprompt_tokens\u001b[0m=\u001b[1;36m355\u001b[0m,                                                               \u001b[2m               \u001b[0m\n",
       "\u001b[2;36m           \u001b[0m        \u001b[33mtotal_tokens\u001b[0m=\u001b[1;36m381\u001b[0m,                                                                \u001b[2m               \u001b[0m\n",
       "\u001b[2;36m           \u001b[0m        \u001b[33mcompletion_tokens_details\u001b[0m=\u001b[3;35mNone\u001b[0m,                                                  \u001b[2m               \u001b[0m\n",
       "\u001b[2;36m           \u001b[0m        \u001b[33mprompt_tokens_details\u001b[0m=\u001b[3;35mNone\u001b[0m                                                       \u001b[2m               \u001b[0m\n",
       "\u001b[2;36m           \u001b[0m    \u001b[1m)\u001b[0m,                                                                                   \u001b[2m               \u001b[0m\n",
       "\u001b[2;36m           \u001b[0m    \u001b[33mprovider\u001b[0m=\u001b[32m'Together'\u001b[0m                                                                  \u001b[2m               \u001b[0m\n",
       "\u001b[2;36m           \u001b[0m\u001b[1m)\u001b[0m                                                                                        \u001b[2m               \u001b[0m\n"
      ]
     },
     "metadata": {},
     "output_type": "display_data"
    }
   ],
   "source": [
    "console.log(_)"
   ]
  },
  {
   "cell_type": "code",
   "execution_count": 41,
   "id": "34b7da2d",
   "metadata": {},
   "outputs": [],
   "source": [
    "# Chatbot instruction\n",
    "MODEL_SYSTEM_MESSAGE: str = \"\"\"\n",
    "<system>\n",
    "\n",
    "<role>\n",
    "You are a helpful assistant with memory that provides information about the user.\n",
    "If you have memory for this user, use it to personalize your responses.\n",
    "</role>\n",
    "\n",
    "<memory>\n",
    "{memory}\n",
    "</memory>\n",
    "\n",
    "<quality_standards>\n",
    "- **ALWAYS** use the information in memory.\n",
    "</quality_standards>\n",
    "\n",
    "</system>\n",
    "\"\"\"\n",
    "\n",
    "# Create new memory from the chat history and any existing memory\n",
    "CREATE_MEMORY_INSTRUCTION: str = \"\"\"\"\n",
    "<system>\n",
    "\n",
    "<role>\n",
    "You are collecting information about the user to personalize your responses.\n",
    "</role>\n",
    "\n",
    "<current_user_info>\n",
    "{memory}\n",
    "</current_user_info>\n",
    "\n",
    "<instruction>\n",
    "1. If there's exisiting memory, simply update it.\n",
    "2. If new information conflicts with existing memory, keep the most recent version.\n",
    "\n",
    "Remember: Only include factual information directly stated by the user. Do not make assumptions.\n",
    "</instruction>\n",
    "\n",
    "Based on the chat history below, please update the user information:\n",
    "\n",
    "<system>\n",
    "\"\"\""
   ]
  },
  {
   "cell_type": "code",
   "execution_count": null,
   "metadata": {},
   "outputs": [],
   "source": [
    "from typing import Any\n",
    "\n",
    "\n",
    "async def call_llm(state: MessageState, config: RunnableConfig, store: BaseStore) -> dict[str, Any]:\n",
    "    # Get the user id\n",
    "    user_id = config[\"configurable\"][\"user_id\"]\n",
    "\n",
    "    # Get the memory for the user\n",
    "    prefix: str = \"memory\"\n",
    "    key = \"user_memory\"\n",
    "    namespace = (prefix, user_id)\n",
    "    existing_memory = store.get(namespace, key)\n",
    "    # existing_memory = await store.aget(namespace, key)\n",
    "\n",
    "    if existing_memory and existing_memory.value:\n",
    "        memory_dict = existing_memory.value\n",
    "        formatted_memory = (\n",
    "            f\"Name: {memory_dict.get('user_name', 'Unknown')}\\n\"\n",
    "            f\"Interests: {', '.join(memory_dict.get('interests', []))}\\n\"\n",
    "        )\n",
    "    else:\n",
    "        formatted_memory = None\n",
    "\n",
    "    system_message: str = MODEL_SYSTEM_MESSAGE.format(memory=formatted_memory)\n",
    "    # Respond using memory + chat history\n",
    "    formatted_messages = convert_to_openai_messages(\n",
    "        [SystemMessage(content=system_message)] + state[\"messages\"]\n",
    "    )\n",
    "    response, _ = await llm.ainvoke(messages=formatted_messages)\n",
    "\n",
    "    return {\"messages\": [AIMessage(content=response)]}\n",
    "\n",
    "\n",
    "async def write_memory(state: MessageState, config: RunnableConfig, store: BaseStore) -> None:\n",
    "    user_id = config[\"configurable\"][\"user_id\"]\n",
    "    prefix: str = \"memory\"\n",
    "    key = \"user_memory\"\n",
    "    namespace = (prefix, user_id)\n",
    "    existing_memory = store.get(namespace, key)\n",
    "    # existing_memory = await store.aget(namespace, key)\n",
    "\n",
    "    if existing_memory and existing_memory.value:\n",
    "        memory_dict = existing_memory.value\n",
    "        formatted_memory = (\n",
    "            f\"Name: {memory_dict.get('user_name', 'Unknown')}\\n\"\n",
    "            f\"Interests: {', '.join(memory_dict.get('interests', []))}\\n\"\n",
    "        )\n",
    "    else:\n",
    "        formatted_memory = None\n",
    "\n",
    "    system_message: str = CREATE_MEMORY_INSTRUCTION.format(memory=formatted_memory)\n",
    "    # Respond using memory + chat history\n",
    "    messages: list[dict[str, Any]] = convert_to_openai_messages(\n",
    "        [SystemMessage(content=system_message)] + state[\"messages\"]\n",
    "    )\n",
    "    string_messages = convert_openai_messages_to_string(messages)\n",
    "    new_memory, _ = await llm.get_structured_response(\n",
    "        message=string_messages, response_model=UserProfile\n",
    "    )\n",
    "\n",
    "    # Update existing memory\n",
    "    # await store.aput(namespace, key, {prefix: new_memory.content})\n",
    "    store.put(namespace, key, {prefix: new_memory.model_dump()})"
   ]
  },
  {
   "cell_type": "code",
   "execution_count": 43,
   "metadata": {},
   "outputs": [
    {
     "data": {
      "image/png": "[encoded data removed]",
      "text/plain": [
       "<IPython.core.display.Image object>"
      ]
     },
     "metadata": {},
     "output_type": "display_data"
    }
   ],
   "source": [
    "# Graph\n",
    "graph_builder = StateGraph(MessageState)\n",
    "\n",
    "# Add nodes\n",
    "graph_builder.add_node(\"call_llm\", call_llm)\n",
    "graph_builder.add_node(\"write_memory\", write_memory)\n",
    "\n",
    "# Add edges\n",
    "graph_builder.add_edge(START, \"call_llm\")\n",
    "graph_builder.add_edge(\"call_llm\", \"write_memory\")\n",
    "graph_builder.add_edge(\"write_memory\", END)\n",
    "\n",
    "# Long-term-memory store (across threads)\n",
    "across_thread_memory = InMemoryStore()\n",
    "# Short-term-memory store (within a thread) checkpointer\n",
    "within_thread_memory = MemorySaver()\n",
    "\n",
    "# Compile\n",
    "graph = graph_builder.compile(\n",
    "    checkpointer=within_thread_memory, store=across_thread_memory\n",
    ").with_config(run_name=\"chatbot-with-structured-memory\")\n",
    "\n",
    "# Visualize\n",
    "display(Image(graph.get_graph(xray=1).draw_mermaid_png()))"
   ]
  },
  {
   "cell_type": "code",
   "execution_count": 44,
   "id": "722fe344",
   "metadata": {},
   "outputs": [
    {
     "name": "stdout",
     "output_type": "stream",
     "text": [
      "================================\u001b[1m Human Message \u001b[0m=================================\n",
      "\n",
      "Hello, my name is Neidu\n",
      "================================\u001b[1m Human Message \u001b[0m=================================\n",
      "\n",
      "Hello, my name is Neidu\n",
      "==================================\u001b[1m Ai Message \u001b[0m==================================\n",
      "\n",
      "Hello Neidu. It's nice to meet you. I'm a helpful assistant, and I'll do my best to provide you with information and assistance. I don't have any information about you in my memory yet, so this is the start of our conversation. How can I help you today?\n"
     ]
    }
   ],
   "source": [
    "config: dict[str, Any] = {\"configurable\": {\"thread_id\": \"1\", \"user_id\": \"1\"}}\n",
    "msgs = [\"Hello, my name is Neidu\"]\n",
    "input_state = MessageState(messages=[HumanMessage(content=msg) for msg in msgs])\n",
    "\n",
    "async for event in graph.astream(input_state, config=config, stream_mode=\"values\"):\n",
    "    for msg in event[\"messages\"]:\n",
    "        msg.pretty_print()"
   ]
  },
  {
   "cell_type": "code",
   "execution_count": null,
   "metadata": {},
   "outputs": [
    {
     "name": "stdout",
     "output_type": "stream",
     "text": [
      "================================\u001b[1m Human Message \u001b[0m=================================\n",
      "\n",
      "Hello, my name is Neidu\n",
      "==================================\u001b[1m Ai Message \u001b[0m==================================\n",
      "\n",
      "Hello Neidu. It's nice to meet you. I'm a helpful assistant, and I'll do my best to provide you with information and assistance. I don't have any information about you in my memory yet, so this is the start of our conversation. How can I help you today?\n",
      "================================\u001b[1m Human Message \u001b[0m=================================\n",
      "\n",
      "I'm an AI Engineer whos's currently working on NLP related things\n",
      "================================\u001b[1m Human Message \u001b[0m=================================\n",
      "\n",
      "Hello, my name is Neidu\n",
      "==================================\u001b[1m Ai Message \u001b[0m==================================\n",
      "\n",
      "Hello Neidu. It's nice to meet you. I'm a helpful assistant, and I'll do my best to provide you with information and assistance. I don't have any information about you in my memory yet, so this is the start of our conversation. How can I help you today?\n",
      "================================\u001b[1m Human Message \u001b[0m=================================\n",
      "\n",
      "I'm an AI Engineer whos's currently working on NLP related things\n",
      "==================================\u001b[1m Ai Message \u001b[0m==================================\n",
      "\n",
      "As an AI Engineer working on NLP, I'm sure you're familiar with the challenges and opportunities in this field. I've got some information that might be relevant to you. I've been trained on a wide range of topics, including NLP, machine learning, and natural language processing.\n",
      "\n",
      "If you're working on NLP-related projects, I'd be happy to help with any questions or topics you'd like to discuss. What specific area of NLP are you currently focusing on? Are you working on text classification, sentiment analysis, language modeling, or something else?\n"
     ]
    }
   ],
   "source": [
    "msgs = [\"I'm an AI Engineer who's currently working on NLP related things\"]\n",
    "input_state = MessageState(messages=[HumanMessage(content=msg) for msg in msgs])\n",
    "\n",
    "async for event in graph.astream(input_state, config=config, stream_mode=\"values\"):\n",
    "    for msg in event[\"messages\"]:\n",
    "        msg.pretty_print()"
   ]
  },
  {
   "cell_type": "code",
   "execution_count": 46,
   "id": "e975b96f",
   "metadata": {},
   "outputs": [
    {
     "data": {
      "text/html": [
       "<pre style=\"white-space:pre;overflow-x:auto;line-height:normal;font-family:Menlo,'DejaVu Sans Mono',consolas,'Courier New',monospace\"><span style=\"color: #7fbfbf; text-decoration-color: #7fbfbf\">[22:58:48] </span><span style=\"font-weight: bold\">{</span>                                                                                        <a href=\"file:///var/folders/ny/dl75sc_x2tb54lsymt5bh5p00000gn/T/ipykernel_40757/1135760118.py\" target=\"_blank\"><span style=\"color: #7f7f7f; text-decoration-color: #7f7f7f\">1135760118.py</span></a><span style=\"color: #7f7f7f; text-decoration-color: #7f7f7f\">:</span><a href=\"file:///var/folders/ny/dl75sc_x2tb54lsymt5bh5p00000gn/T/ipykernel_40757/1135760118.py#7\" target=\"_blank\"><span style=\"color: #7f7f7f; text-decoration-color: #7f7f7f\">7</span></a>\n",
       "<span style=\"color: #7fbfbf; text-decoration-color: #7fbfbf\">           </span>    <span style=\"color: #008000; text-decoration-color: #008000\">'memory'</span>: <span style=\"font-weight: bold\">{</span>                                                                          <span style=\"color: #7f7f7f; text-decoration-color: #7f7f7f\">               </span>\n",
       "<span style=\"color: #7fbfbf; text-decoration-color: #7fbfbf\">           </span>        <span style=\"color: #008000; text-decoration-color: #008000\">'user_name'</span>: <span style=\"color: #008000; text-decoration-color: #008000\">'Neidu'</span>,                                                            <span style=\"color: #7f7f7f; text-decoration-color: #7f7f7f\">               </span>\n",
       "<span style=\"color: #7fbfbf; text-decoration-color: #7fbfbf\">           </span>        <span style=\"color: #008000; text-decoration-color: #008000\">'interests'</span>: <span style=\"font-weight: bold\">[</span><span style=\"color: #008000; text-decoration-color: #008000\">'NLP'</span>, <span style=\"color: #008000; text-decoration-color: #008000\">'machine learning'</span>, <span style=\"color: #008000; text-decoration-color: #008000\">'natural language processing'</span><span style=\"font-weight: bold\">]</span>          <span style=\"color: #7f7f7f; text-decoration-color: #7f7f7f\">               </span>\n",
       "<span style=\"color: #7fbfbf; text-decoration-color: #7fbfbf\">           </span>    <span style=\"font-weight: bold\">}</span>                                                                                    <span style=\"color: #7f7f7f; text-decoration-color: #7f7f7f\">               </span>\n",
       "<span style=\"color: #7fbfbf; text-decoration-color: #7fbfbf\">           </span><span style=\"font-weight: bold\">}</span>                                                                                        <span style=\"color: #7f7f7f; text-decoration-color: #7f7f7f\">               </span>\n",
       "</pre>\n"
      ],
      "text/plain": [
       "\u001b[2;36m[22:58:48]\u001b[0m\u001b[2;36m \u001b[0m\u001b[1m{\u001b[0m                                                                                        \u001b]8;id=482410;file:///var/folders/ny/dl75sc_x2tb54lsymt5bh5p00000gn/T/ipykernel_40757/1135760118.py\u001b\\\u001b[2m1135760118.py\u001b[0m\u001b]8;;\u001b\\\u001b[2m:\u001b[0m\u001b]8;id=224934;file:///var/folders/ny/dl75sc_x2tb54lsymt5bh5p00000gn/T/ipykernel_40757/1135760118.py#7\u001b\\\u001b[2m7\u001b[0m\u001b]8;;\u001b\\\n",
       "\u001b[2;36m           \u001b[0m    \u001b[32m'memory'\u001b[0m: \u001b[1m{\u001b[0m                                                                          \u001b[2m               \u001b[0m\n",
       "\u001b[2;36m           \u001b[0m        \u001b[32m'user_name'\u001b[0m: \u001b[32m'Neidu'\u001b[0m,                                                            \u001b[2m               \u001b[0m\n",
       "\u001b[2;36m           \u001b[0m        \u001b[32m'interests'\u001b[0m: \u001b[1m[\u001b[0m\u001b[32m'NLP'\u001b[0m, \u001b[32m'machine learning'\u001b[0m, \u001b[32m'natural language processing'\u001b[0m\u001b[1m]\u001b[0m          \u001b[2m               \u001b[0m\n",
       "\u001b[2;36m           \u001b[0m    \u001b[1m}\u001b[0m                                                                                    \u001b[2m               \u001b[0m\n",
       "\u001b[2;36m           \u001b[0m\u001b[1m}\u001b[0m                                                                                        \u001b[2m               \u001b[0m\n"
      ]
     },
     "metadata": {},
     "output_type": "display_data"
    }
   ],
   "source": [
    "user_id = \"1\"\n",
    "prefix: str = \"memory\"\n",
    "key = \"user_memory\"\n",
    "namespace = (prefix, user_id)\n",
    "existing_memory = across_thread_memory.get(namespace, key)\n",
    "\n",
    "console.log(existing_memory.value)"
   ]
  },
  {
   "cell_type": "code",
   "execution_count": null,
   "id": "73038184",
   "metadata": {},
   "outputs": [
    {
     "data": {
      "text/plain": [
       "[HumanMessage(content=\"Hi, I'm Neidu.\", additional_kwargs={}, response_metadata={}),\n",
       " AIMessage(content='Nice to meet you, Neidu.', additional_kwargs={}, response_metadata={}),\n",
       " HumanMessage(content=\"I'm an AI Engineer whos's currently working on NLP related things\", additional_kwargs={}, response_metadata={})]"
      ]
     },
     "execution_count": 47,
     "metadata": {},
     "output_type": "execute_result"
    }
   ],
   "source": [
    "# Conversation\n",
    "conversation = [\n",
    "    HumanMessage(content=\"Hi, I'm Neidu.\"),\n",
    "    AIMessage(content=\"Nice to meet you, Neidu.\"),\n",
    "    HumanMessage(content=\"I'm an AI Engineer who's currently working on NLP related things\"),\n",
    "]\n",
    "\n",
    "conversation"
   ]
  },
  {
   "cell_type": "code",
   "execution_count": null,
   "id": "4d14dbfc",
   "metadata": {},
   "outputs": [
    {
     "data": {
      "text/html": [
       "<pre style=\"white-space:pre;overflow-x:auto;line-height:normal;font-family:Menlo,'DejaVu Sans Mono',consolas,'Courier New',monospace\"><span style=\"color: #800080; text-decoration-color: #800080; font-weight: bold\">LLMResponse</span><span style=\"font-weight: bold\">(</span>\n",
       "    <span style=\"color: #808000; text-decoration-color: #808000\">api_key</span>=<span style=\"color: #800080; text-decoration-color: #800080; font-weight: bold\">SecretStr</span><span style=\"font-weight: bold\">(</span><span style=\"color: #008000; text-decoration-color: #008000\">'**********'</span><span style=\"font-weight: bold\">)</span>,\n",
       "    <span style=\"color: #808000; text-decoration-color: #808000\">base_url</span>=<span style=\"color: #008000; text-decoration-color: #008000\">'https://openrouter.ai/api/v1'</span>,\n",
       "    <span style=\"color: #808000; text-decoration-color: #808000\">model</span>=<span style=\"font-weight: bold\">&lt;</span><span style=\"color: #ff00ff; text-decoration-color: #ff00ff; font-weight: bold\">ModelEnum.LLAMA_3p1_8B_INSTRUCT_REMOTE:</span><span style=\"color: #000000; text-decoration-color: #000000\"> </span><span style=\"color: #008000; text-decoration-color: #008000\">'meta-llama/llama-3.1-8b-instruct'</span><span style=\"font-weight: bold\">&gt;</span>\n",
       "<span style=\"font-weight: bold\">)</span>\n",
       "</pre>\n"
      ],
      "text/plain": [
       "\u001b[1;35mLLMResponse\u001b[0m\u001b[1m(\u001b[0m\n",
       "    \u001b[33mapi_key\u001b[0m=\u001b[1;35mSecretStr\u001b[0m\u001b[1m(\u001b[0m\u001b[32m'**********'\u001b[0m\u001b[1m)\u001b[0m,\n",
       "    \u001b[33mbase_url\u001b[0m=\u001b[32m'https://openrouter.ai/api/v1'\u001b[0m,\n",
       "    \u001b[33mmodel\u001b[0m=\u001b[1m<\u001b[0m\u001b[1;95mModelEnum.LLAMA_3p1_8B_INSTRUCT_REMOTE:\u001b[0m\u001b[39m \u001b[0m\u001b[32m'meta-llama/llama-3.1-8b-instruct'\u001b[0m\u001b[1m>\u001b[0m\n",
       "\u001b[1m)\u001b[0m\n"
      ]
     },
     "metadata": {},
     "output_type": "display_data"
    }
   ],
   "source": [
    "llm = LLMResponse(\n",
    "    api_key=settings.OPENROUTER_API_KEY,\n",
    "    base_url=settings.OPENROUTER_URL,\n",
    "    model=ModelEnum.LLAMA_3p1_8B_INSTRUCT_REMOTE,\n",
    ")\n",
    "console.print(llm)\n",
    "\n",
    "# Conversation\n",
    "conversation = [\n",
    "    HumanMessage(content=\"Hi, I'm Neidu.\"),\n",
    "    AIMessage(content=\"Nice to meet you, Neidu.\"),\n",
    "    HumanMessage(content=\"I'm an AI Engineer who's currently working on NLP related things\"),\n",
    "]"
   ]
  },
  {
   "cell_type": "code",
   "execution_count": 49,
   "id": "61b51671",
   "metadata": {},
   "outputs": [
    {
     "data": {
      "text/html": [
       "<pre style=\"white-space:pre;overflow-x:auto;line-height:normal;font-family:Menlo,'DejaVu Sans Mono',consolas,'Courier New',monospace\"><span style=\"color: #800080; text-decoration-color: #800080; font-weight: bold\">UserProfile</span><span style=\"font-weight: bold\">(</span><span style=\"color: #808000; text-decoration-color: #808000\">user_name</span>=<span style=\"color: #008000; text-decoration-color: #008000\">'Neidu'</span>, <span style=\"color: #808000; text-decoration-color: #808000\">interests</span>=<span style=\"font-weight: bold\">[</span><span style=\"color: #008000; text-decoration-color: #008000\">'AI'</span>, <span style=\"color: #008000; text-decoration-color: #008000\">'NLP'</span>, <span style=\"color: #008000; text-decoration-color: #008000\">'Engineering'</span><span style=\"font-weight: bold\">])</span>\n",
       "</pre>\n"
      ],
      "text/plain": [
       "\u001b[1;35mUserProfile\u001b[0m\u001b[1m(\u001b[0m\u001b[33muser_name\u001b[0m=\u001b[32m'Neidu'\u001b[0m, \u001b[33minterests\u001b[0m=\u001b[1m[\u001b[0m\u001b[32m'AI'\u001b[0m, \u001b[32m'NLP'\u001b[0m, \u001b[32m'Engineering'\u001b[0m\u001b[1m]\u001b[0m\u001b[1m)\u001b[0m\n"
      ]
     },
     "metadata": {},
     "output_type": "display_data"
    }
   ],
   "source": [
    "system_message = \"\"\"\n",
    "<system>\n",
    "Update the memory (JSON doc) to incorporate new information from the following conversation\n",
    "without losing any existing information.\n",
    "</system>\n",
    "\"\"\"\n",
    "\n",
    "messages = convert_to_openai_messages([SystemMessage(content=system_message)] + conversation)\n",
    "string_messages = convert_openai_messages_to_string(messages)\n",
    "result_1, _ = await llm.get_structured_response(message=string_messages, response_model=UserProfile)\n",
    "\n",
    "console.print(result_1)"
   ]
  },
  {
   "cell_type": "markdown",
   "id": "ff59b201",
   "metadata": {},
   "source": [
    "#### Update Conversations\n",
    "\n",
    "- Todo: Update the memory (JSON doc) to incorporate new information from the following conversation"
   ]
  },
  {
   "cell_type": "code",
   "execution_count": null,
   "metadata": {},
   "outputs": [
    {
     "data": {
      "text/html": [
       "<pre style=\"white-space:pre;overflow-x:auto;line-height:normal;font-family:Menlo,'DejaVu Sans Mono',consolas,'Courier New',monospace\"><span style=\"color: #800080; text-decoration-color: #800080; font-weight: bold\">UserProfile</span><span style=\"font-weight: bold\">(</span>\n",
       "    <span style=\"color: #808000; text-decoration-color: #808000\">user_name</span>=<span style=\"color: #008000; text-decoration-color: #008000\">'Neidu'</span>,\n",
       "    <span style=\"color: #808000; text-decoration-color: #808000\">interests</span>=<span style=\"font-weight: bold\">[</span><span style=\"color: #008000; text-decoration-color: #008000\">'AI Engineer'</span>, <span style=\"color: #008000; text-decoration-color: #008000\">'NLP'</span>, <span style=\"color: #008000; text-decoration-color: #008000\">'AI Advancements'</span>, <span style=\"color: #008000; text-decoration-color: #008000\">'Real-World Applications'</span>, <span style=\"color: #008000; text-decoration-color: #008000\">'Agentic AI Workflow'</span><span style=\"font-weight: bold\">]</span>\n",
       "<span style=\"font-weight: bold\">)</span>\n",
       "</pre>\n"
      ],
      "text/plain": [
       "\u001b[1;35mUserProfile\u001b[0m\u001b[1m(\u001b[0m\n",
       "    \u001b[33muser_name\u001b[0m=\u001b[32m'Neidu'\u001b[0m,\n",
       "    \u001b[33minterests\u001b[0m=\u001b[1m[\u001b[0m\u001b[32m'AI Engineer'\u001b[0m, \u001b[32m'NLP'\u001b[0m, \u001b[32m'AI Advancements'\u001b[0m, \u001b[32m'Real-World Applications'\u001b[0m, \u001b[32m'Agentic AI Workflow'\u001b[0m\u001b[1m]\u001b[0m\n",
       "\u001b[1m)\u001b[0m\n"
      ]
     },
     "metadata": {},
     "output_type": "display_data"
    }
   ],
   "source": [
    "updated_conversation = [\n",
    "    HumanMessage(content=\"Hi, I'm Neidu.\"),\n",
    "    AIMessage(content=\"Nice to meet you, Neidu.\"),\n",
    "    HumanMessage(content=\"I'm an AI Engineer who's currently working on NLP related things\"),\n",
    "    AIMessage(\n",
    "        content=\"That sounds fascinating! NLP is a really exciting and impactful field in AI. \"\n",
    "        \"What will you like to know about AI?\"\n",
    "    ),\n",
    "    HumanMessage(\n",
    "        content=\"Thanks! I'm curious about the latest advancements in AI and how \"\n",
    "        \"they're being applied in real-world applications. I'm also interested in \"\n",
    "        \"agentic AI workflow\"\n",
    "    ),\n",
    "]\n",
    "\n",
    "messages = convert_to_openai_messages(\n",
    "    [SystemMessage(content=system_message)] + updated_conversation\n",
    ")\n",
    "string_messages = convert_openai_messages_to_string(messages)\n",
    "result_2, _ = await llm.get_structured_response(message=string_messages, response_model=UserProfile)\n",
    "\n",
    "console.print(result_2)"
   ]
  },
  {
   "cell_type": "code",
   "execution_count": 51,
   "id": "862ed816",
   "metadata": {},
   "outputs": [
    {
     "data": {
      "text/plain": [
       "UserProfile(user_name='Neidu', interests=['AI', 'NLP', 'Engineering'])"
      ]
     },
     "execution_count": 51,
     "metadata": {},
     "output_type": "execute_result"
    }
   ],
   "source": [
    "# Previous memory (user profile)\n",
    "result_1"
   ]
  },
  {
   "cell_type": "markdown",
   "id": "2db1a567",
   "metadata": {},
   "source": [
    "## Chatbot With Profile Schema Updating"
   ]
  },
  {
   "cell_type": "code",
   "execution_count": 52,
   "id": "57caead3",
   "metadata": {},
   "outputs": [
    {
     "data": {
      "text/html": [
       "<pre style=\"white-space:pre;overflow-x:auto;line-height:normal;font-family:Menlo,'DejaVu Sans Mono',consolas,'Courier New',monospace\"><span style=\"color: #800080; text-decoration-color: #800080; font-weight: bold\">LLMResponse</span><span style=\"font-weight: bold\">(</span>\n",
       "    <span style=\"color: #808000; text-decoration-color: #808000\">api_key</span>=<span style=\"color: #800080; text-decoration-color: #800080; font-weight: bold\">SecretStr</span><span style=\"font-weight: bold\">(</span><span style=\"color: #008000; text-decoration-color: #008000\">'**********'</span><span style=\"font-weight: bold\">)</span>,\n",
       "    <span style=\"color: #808000; text-decoration-color: #808000\">base_url</span>=<span style=\"color: #008000; text-decoration-color: #008000\">'https://openrouter.ai/api/v1'</span>,\n",
       "    <span style=\"color: #808000; text-decoration-color: #808000\">model</span>=<span style=\"font-weight: bold\">&lt;</span><span style=\"color: #ff00ff; text-decoration-color: #ff00ff; font-weight: bold\">ModelEnum.LLAMA_3p1_8B_INSTRUCT_REMOTE:</span><span style=\"color: #000000; text-decoration-color: #000000\"> </span><span style=\"color: #008000; text-decoration-color: #008000\">'meta-llama/llama-3.1-8b-instruct'</span><span style=\"font-weight: bold\">&gt;</span>\n",
       "<span style=\"font-weight: bold\">)</span>\n",
       "</pre>\n"
      ],
      "text/plain": [
       "\u001b[1;35mLLMResponse\u001b[0m\u001b[1m(\u001b[0m\n",
       "    \u001b[33mapi_key\u001b[0m=\u001b[1;35mSecretStr\u001b[0m\u001b[1m(\u001b[0m\u001b[32m'**********'\u001b[0m\u001b[1m)\u001b[0m,\n",
       "    \u001b[33mbase_url\u001b[0m=\u001b[32m'https://openrouter.ai/api/v1'\u001b[0m,\n",
       "    \u001b[33mmodel\u001b[0m=\u001b[1m<\u001b[0m\u001b[1;95mModelEnum.LLAMA_3p1_8B_INSTRUCT_REMOTE:\u001b[0m\u001b[39m \u001b[0m\u001b[32m'meta-llama/llama-3.1-8b-instruct'\u001b[0m\u001b[1m>\u001b[0m\n",
       "\u001b[1m)\u001b[0m\n"
      ]
     },
     "metadata": {},
     "output_type": "display_data"
    }
   ],
   "source": [
    "llm = LLMResponse(\n",
    "    api_key=settings.OPENROUTER_API_KEY,\n",
    "    base_url=settings.OPENROUTER_URL,\n",
    "    model=ModelEnum.LLAMA_3p1_8B_INSTRUCT_REMOTE,\n",
    ")\n",
    "console.print(llm)\n",
    "\n",
    "\n",
    "class UserProfileSchema(BaseModel):\n",
    "    \"\"\"A schema for storing user profile information.\"\"\"\n",
    "\n",
    "    user_name: str = Field(description=\"User's preferred name\")\n",
    "    user_location: str = Field(description=\"User's location\")\n",
    "    interests: list[str] = Field(default_factory=list, description=\"List of user's interests\")\n",
    "\n",
    "\n",
    "MODEL_SYSTEM_MESSAGE: str = \"\"\"\n",
    "<system>\n",
    "\n",
    "<role>\n",
    "You are a helpful assistant with memory that responds to the user in a conversational way. \n",
    "If you have memory for this user, use it to personalize your responses.\n",
    "</role>\n",
    "\n",
    "<memory>\n",
    "{memory}\n",
    "</memory>\n",
    "\n",
    "</system>\n",
    "\"\"\"\n",
    "\n",
    "# Extraction instruction\n",
    "USER_MEMORY_INSTRUCTION: str = \"\"\"\n",
    "<system>\n",
    "Update the memory (JSON doc) to incorporate new information from the following conversation\n",
    "without losing any existing information.\n",
    "\n",
    "<validation>\n",
    "Rsponse must on only contain:\n",
    "- information about the user\n",
    "- in the format of a JSON object.\n",
    "</validation>\n",
    "\n",
    "</system>\n",
    "\"\"\""
   ]
  },
  {
   "cell_type": "code",
   "execution_count": null,
   "id": "6c6915a9",
   "metadata": {},
   "outputs": [],
   "source": [
    "async def call_llm(state: MessageState, config: RunnableConfig, store: BaseStore) -> dict[str, Any]:\n",
    "    user_id: str = config[\"configurable\"][\"user_id\"]\n",
    "\n",
    "    prefix: str = \"memory\"\n",
    "    key: str = \"user_memory\"\n",
    "    namespace = (prefix, user_id)\n",
    "    existing_memory = store.get(namespace, key)\n",
    "\n",
    "    if existing_memory and existing_memory.value:\n",
    "        memory_dict = existing_memory.value\n",
    "        formatted_memory = (\n",
    "            f\"Name: {memory_dict.get('user_name', 'Unknown')}\\n\"\n",
    "            f\"Location: {memory_dict.get('user_location', 'Unknown')}\\n\"\n",
    "            f\"Interests: {', '.join(memory_dict.get('interests', []))}\"\n",
    "        )\n",
    "    else:\n",
    "        formatted_memory = None\n",
    "\n",
    "    system_message: str = MODEL_SYSTEM_MESSAGE.format(memory=formatted_memory)\n",
    "    # Respond using memory + chat history\n",
    "    formatted_messages = convert_to_openai_messages(\n",
    "        [SystemMessage(content=system_message)] + state[\"messages\"]\n",
    "    )\n",
    "    response, _ = await llm.ainvoke(messages=formatted_messages)\n",
    "\n",
    "    return {\"messages\": [AIMessage(content=response)]}\n",
    "\n",
    "\n",
    "async def write_memory(state: MessageState, config: RunnableConfig, store: BaseStore) -> None:\n",
    "    user_id: str = config[\"configurable\"][\"user_id\"]\n",
    "\n",
    "    prefix: str = \"memory\"\n",
    "    key: str = \"user_memory\"\n",
    "    namespace = (prefix, user_id)\n",
    "    existing_memory = store.get(namespace, key)\n",
    "\n",
    "    # Get the profile and convert to JSON doc\n",
    "    existing_profile = existing_memory.value if existing_memory else None\n",
    "    # Invoke the extractor\n",
    "    messages = convert_to_openai_messages(\n",
    "        [SystemMessage(content=USER_MEMORY_INSTRUCTION)]\n",
    "        + [AIMessage(content=f\"\\nUserProfile: {json.dumps(existing_profile)}\\n\\n\\nChat History:\")]\n",
    "        + state[\"messages\"]\n",
    "    )\n",
    "    string_messages = convert_openai_messages_to_string(messages)\n",
    "    structured_output, _ = await llm.get_structured_response(\n",
    "        message=string_messages, response_model=UserProfileSchema\n",
    "    )\n",
    "    # Get the updated profile as a JSON object\n",
    "    updated_profile = (\n",
    "        structured_output.model_dump()\n",
    "        if structured_output is not None\n",
    "        else UserProfileSchema(\n",
    "            user_name=\"Unknown\", user_location=\"Unknown\", interests=[]\n",
    "        ).model_dump()\n",
    "    )\n",
    "    # Save the updated profile\n",
    "    store.put(namespace, key, updated_profile)"
   ]
  },
  {
   "cell_type": "code",
   "execution_count": null,
   "id": "ba61a4cd",
   "metadata": {},
   "outputs": [
    {
     "data": {
      "text/plain": [
       "{'user_name': 'Neidu',\n",
       " 'user_location': 'Nigeria',\n",
       " 'interests': ['AI', 'NLP', 'Spiritual Growth']}"
      ]
     },
     "execution_count": 54,
     "metadata": {},
     "output_type": "execute_result"
    }
   ],
   "source": [
    "updated_conversation = [\n",
    "    HumanMessage(content=\"Hi, I'm Neidu.\"),\n",
    "    AIMessage(content=\"Nice to meet you, Neidu.\"),\n",
    "    HumanMessage(content=\"I'm an AI Engineer who's currently working on NLP related things\"),\n",
    "    AIMessage(\n",
    "        content=\"That sounds fascinating! NLP is a really exciting and impactful field in AI. \"\n",
    "        \"What will you like to know about AI?\"\n",
    "    ),\n",
    "    HumanMessage(\n",
    "        content=\"Thanks! I'm curious about the latest advancements in AI and how \"\n",
    "        \"they're being applied in real-world applications. I'm also interested in \"\n",
    "        \"agentic AI workflow\"\n",
    "    ),\n",
    "    AIMessage(\n",
    "        content=\"Latest AI advancements include Generative AI (like LLMs for content and customer \"\n",
    "        \"service), Computer Vision (for autonomous tech and healthcare), Reinforcement Learning \"\n",
    "        \"(for robotics and optimization), and Edge AI (for on-device processing). Agentic AI \"\n",
    "        \"workflows involve autonomous AI agents that plan, execute, and iterate to achieve \"\n",
    "        \"complex goals with minimal human input.\"\n",
    "    ),\n",
    "    HumanMessage(\n",
    "        content=\"That's great! What do you know about about Sports? Specifically football (soccer)\"\n",
    "    ),\n",
    "]\n",
    "res = UserProfileSchema(\n",
    "    user_name=\"Neidu\",\n",
    "    user_location=\"Nigeria\",\n",
    "    interests=[\"AI\", \"NLP\", \"Spiritual Growth\"],\n",
    ")\n",
    "res.model_dump()"
   ]
  },
  {
   "cell_type": "code",
   "execution_count": 55,
   "id": "7491c783",
   "metadata": {},
   "outputs": [
    {
     "data": {
      "text/html": [
       "<pre style=\"white-space:pre;overflow-x:auto;line-height:normal;font-family:Menlo,'DejaVu Sans Mono',consolas,'Courier New',monospace\">\n",
       "Role: system\n",
       "Content: \n",
       "<span style=\"font-weight: bold\">&lt;</span><span style=\"color: #ff00ff; text-decoration-color: #ff00ff; font-weight: bold\">system</span><span style=\"color: #000000; text-decoration-color: #000000\">&gt;</span>\n",
       "<span style=\"color: #000000; text-decoration-color: #000000\">Update the memory </span><span style=\"color: #000000; text-decoration-color: #000000; font-weight: bold\">(</span><span style=\"color: #000000; text-decoration-color: #000000\">JSON doc</span><span style=\"color: #000000; text-decoration-color: #000000; font-weight: bold\">)</span><span style=\"color: #000000; text-decoration-color: #000000\"> to incorporate new information from the following conversation</span>\n",
       "<span style=\"color: #000000; text-decoration-color: #000000\">without losing any existing information.</span>\n",
       "\n",
       "<span style=\"color: #000000; text-decoration-color: #000000\">&lt;validation&gt;</span>\n",
       "<span style=\"color: #000000; text-decoration-color: #000000\">Rsponse must on only contain:</span>\n",
       "<span style=\"color: #000000; text-decoration-color: #000000\">- information about the user</span>\n",
       "<span style=\"color: #000000; text-decoration-color: #000000\">- in the format of a JSON object.</span>\n",
       "<span style=\"color: #000000; text-decoration-color: #000000\">&lt;</span><span style=\"color: #800080; text-decoration-color: #800080\">/</span><span style=\"color: #ff00ff; text-decoration-color: #ff00ff\">validation</span><span style=\"color: #000000; text-decoration-color: #000000\">&gt;</span>\n",
       "\n",
       "<span style=\"color: #000000; text-decoration-color: #000000\">&lt;</span><span style=\"color: #800080; text-decoration-color: #800080\">/</span><span style=\"color: #ff00ff; text-decoration-color: #ff00ff\">system</span><span style=\"font-weight: bold\">&gt;</span>\n",
       "\n",
       "\n",
       "Role: assistant\n",
       "Content: \n",
       "UserProfile: <span style=\"font-weight: bold\">{</span><span style=\"color: #008000; text-decoration-color: #008000\">\"user_name\"</span>:<span style=\"color: #008000; text-decoration-color: #008000\">\"Neidu\"</span>,<span style=\"color: #008000; text-decoration-color: #008000\">\"user_location\"</span>:<span style=\"color: #008000; text-decoration-color: #008000\">\"Nigeria\"</span>,<span style=\"color: #008000; text-decoration-color: #008000\">\"interests\"</span>:<span style=\"font-weight: bold\">[</span><span style=\"color: #008000; text-decoration-color: #008000\">\"AI\"</span>,<span style=\"color: #008000; text-decoration-color: #008000\">\"NLP\"</span>,<span style=\"color: #008000; text-decoration-color: #008000\">\"Spiritual Growth\"</span><span style=\"font-weight: bold\">]}</span>\n",
       "\n",
       "\n",
       "Chat History:\n",
       "\n",
       "Role: user\n",
       "Content: Hi, I'm Neidu.\n",
       "\n",
       "Role: assistant\n",
       "Content: Nice to meet you, Neidu.\n",
       "\n",
       "Role: user\n",
       "Content: I'm an AI Engineer whos's currently working on NLP related things\n",
       "\n",
       "Role: assistant\n",
       "Content: That sounds fascinating! NLP is a really exciting and impactful field in AI. What will you like to know \n",
       "about AI?\n",
       "\n",
       "Role: user\n",
       "Content: Thanks! I'm curious about the latest advancements in AI and how they're being applied in real-world \n",
       "applications. I'm also interested in agentic AI workflow\n",
       "\n",
       "Role: assistant\n",
       "Content: Latest AI advancements include Generative AI <span style=\"font-weight: bold\">(</span>like LLMs for content and customer service<span style=\"font-weight: bold\">)</span>, Computer Vision\n",
       "<span style=\"font-weight: bold\">(</span>for autonomous tech and healthcare<span style=\"font-weight: bold\">)</span>, Reinforcement Learning <span style=\"font-weight: bold\">(</span>for robotics and optimization<span style=\"font-weight: bold\">)</span>, and Edge AI <span style=\"font-weight: bold\">(</span>for \n",
       "on-device processing<span style=\"font-weight: bold\">)</span>. Agentic AI workflows involve autonomous AI agents that plan, execute, and iterate to achieve\n",
       "complex goals with minimal human input.\n",
       "\n",
       "Role: user\n",
       "Content: That's great! What do you know about about Sports? Specifically football <span style=\"font-weight: bold\">(</span>soccer<span style=\"font-weight: bold\">)</span>\n",
       "</pre>\n"
      ],
      "text/plain": [
       "\n",
       "Role: system\n",
       "Content: \n",
       "\u001b[1m<\u001b[0m\u001b[1;95msystem\u001b[0m\u001b[39m>\u001b[0m\n",
       "\u001b[39mUpdate the memory \u001b[0m\u001b[1;39m(\u001b[0m\u001b[39mJSON doc\u001b[0m\u001b[1;39m)\u001b[0m\u001b[39m to incorporate new information from the following conversation\u001b[0m\n",
       "\u001b[39mwithout losing any existing information.\u001b[0m\n",
       "\n",
       "\u001b[39m<validation>\u001b[0m\n",
       "\u001b[39mRsponse must on only contain:\u001b[0m\n",
       "\u001b[39m- information about the user\u001b[0m\n",
       "\u001b[39m- in the format of a JSON object.\u001b[0m\n",
       "\u001b[39m<\u001b[0m\u001b[35m/\u001b[0m\u001b[95mvalidation\u001b[0m\u001b[39m>\u001b[0m\n",
       "\n",
       "\u001b[39m<\u001b[0m\u001b[35m/\u001b[0m\u001b[95msystem\u001b[0m\u001b[1m>\u001b[0m\n",
       "\n",
       "\n",
       "Role: assistant\n",
       "Content: \n",
       "UserProfile: \u001b[1m{\u001b[0m\u001b[32m\"user_name\"\u001b[0m:\u001b[32m\"Neidu\"\u001b[0m,\u001b[32m\"user_location\"\u001b[0m:\u001b[32m\"Nigeria\"\u001b[0m,\u001b[32m\"interests\"\u001b[0m:\u001b[1m[\u001b[0m\u001b[32m\"AI\"\u001b[0m,\u001b[32m\"NLP\"\u001b[0m,\u001b[32m\"Spiritual Growth\"\u001b[0m\u001b[1m]\u001b[0m\u001b[1m}\u001b[0m\n",
       "\n",
       "\n",
       "Chat History:\n",
       "\n",
       "Role: user\n",
       "Content: Hi, I'm Neidu.\n",
       "\n",
       "Role: assistant\n",
       "Content: Nice to meet you, Neidu.\n",
       "\n",
       "Role: user\n",
       "Content: I'm an AI Engineer whos's currently working on NLP related things\n",
       "\n",
       "Role: assistant\n",
       "Content: That sounds fascinating! NLP is a really exciting and impactful field in AI. What will you like to know \n",
       "about AI?\n",
       "\n",
       "Role: user\n",
       "Content: Thanks! I'm curious about the latest advancements in AI and how they're being applied in real-world \n",
       "applications. I'm also interested in agentic AI workflow\n",
       "\n",
       "Role: assistant\n",
       "Content: Latest AI advancements include Generative AI \u001b[1m(\u001b[0mlike LLMs for content and customer service\u001b[1m)\u001b[0m, Computer Vision\n",
       "\u001b[1m(\u001b[0mfor autonomous tech and healthcare\u001b[1m)\u001b[0m, Reinforcement Learning \u001b[1m(\u001b[0mfor robotics and optimization\u001b[1m)\u001b[0m, and Edge AI \u001b[1m(\u001b[0mfor \n",
       "on-device processing\u001b[1m)\u001b[0m. Agentic AI workflows involve autonomous AI agents that plan, execute, and iterate to achieve\n",
       "complex goals with minimal human input.\n",
       "\n",
       "Role: user\n",
       "Content: That's great! What do you know about about Sports? Specifically football \u001b[1m(\u001b[0msoccer\u001b[1m)\u001b[0m\n"
      ]
     },
     "metadata": {},
     "output_type": "display_data"
    },
    {
     "name": "stdout",
     "output_type": "stream",
     "text": [
      "==== Structured Output ====\n"
     ]
    },
    {
     "data": {
      "text/html": [
       "<pre style=\"white-space:pre;overflow-x:auto;line-height:normal;font-family:Menlo,'DejaVu Sans Mono',consolas,'Courier New',monospace\"><span style=\"color: #800080; text-decoration-color: #800080; font-weight: bold\">UserProfileSchema</span><span style=\"font-weight: bold\">(</span><span style=\"color: #808000; text-decoration-color: #808000\">user_name</span>=<span style=\"color: #008000; text-decoration-color: #008000\">'Neidu'</span>, <span style=\"color: #808000; text-decoration-color: #808000\">user_location</span>=<span style=\"color: #008000; text-decoration-color: #008000\">'Nigeria'</span>, <span style=\"color: #808000; text-decoration-color: #808000\">interests</span>=<span style=\"font-weight: bold\">[</span><span style=\"color: #008000; text-decoration-color: #008000\">'AI'</span>, <span style=\"color: #008000; text-decoration-color: #008000\">'NLP'</span>, <span style=\"color: #008000; text-decoration-color: #008000\">'Spiritual Growth'</span><span style=\"font-weight: bold\">])</span>\n",
       "</pre>\n"
      ],
      "text/plain": [
       "\u001b[1;35mUserProfileSchema\u001b[0m\u001b[1m(\u001b[0m\u001b[33muser_name\u001b[0m=\u001b[32m'Neidu'\u001b[0m, \u001b[33muser_location\u001b[0m=\u001b[32m'Nigeria'\u001b[0m, \u001b[33minterests\u001b[0m=\u001b[1m[\u001b[0m\u001b[32m'AI'\u001b[0m, \u001b[32m'NLP'\u001b[0m, \u001b[32m'Spiritual Growth'\u001b[0m\u001b[1m]\u001b[0m\u001b[1m)\u001b[0m\n"
      ]
     },
     "metadata": {},
     "output_type": "display_data"
    }
   ],
   "source": [
    "messages = convert_to_openai_messages(\n",
    "    [SystemMessage(content=USER_MEMORY_INSTRUCTION)]\n",
    "    + [AIMessage(content=f\"\\nUserProfile: {(res.model_dump_json())}\\n\\n\\nChat History:\")]\n",
    "    + updated_conversation\n",
    ")\n",
    "\n",
    "string_messages = convert_openai_messages_to_string(messages)\n",
    "console.print(string_messages)\n",
    "structured_output, _ = await llm.get_structured_response(\n",
    "    message=string_messages, response_model=UserProfileSchema\n",
    ")\n",
    "print(\"==== Structured Output ====\")\n",
    "console.print(structured_output)"
   ]
  },
  {
   "cell_type": "code",
   "execution_count": 56,
   "id": "92a15ed8",
   "metadata": {},
   "outputs": [
    {
     "data": {
      "image/png": "[encoded data removed]",
      "text/plain": [
       "<IPython.core.display.Image object>"
      ]
     },
     "metadata": {},
     "output_type": "display_data"
    }
   ],
   "source": [
    "graph_builder = StateGraph(MessageState)\n",
    "\n",
    "# Add nodes\n",
    "graph_builder.add_node(\"call_llm\", call_llm)\n",
    "graph_builder.add_node(\"write_memory\", write_memory)\n",
    "\n",
    "# Add edges\n",
    "graph_builder.add_edge(START, \"call_llm\")\n",
    "graph_builder.add_edge(\"call_llm\", \"write_memory\")\n",
    "graph_builder.add_edge(\"write_memory\", END)\n",
    "\n",
    "# Long-term-memory store (across threads)\n",
    "across_thread_memory = InMemoryStore()\n",
    "# Short-term-memory store (within a thread) checkpointer\n",
    "within_thread_memory = MemorySaver()\n",
    "\n",
    "# Compile the graph\n",
    "graph = graph_builder.compile(\n",
    "    checkpointer=within_thread_memory, store=across_thread_memory\n",
    ").with_config(run_name=\"Chatbot-with-user-profile\")\n",
    "\n",
    "\n",
    "# Visualize the graph\n",
    "display(Image(graph.get_graph(xray=1).draw_mermaid_png()))"
   ]
  },
  {
   "cell_type": "code",
   "execution_count": 57,
   "id": "11660760",
   "metadata": {},
   "outputs": [
    {
     "name": "stdout",
     "output_type": "stream",
     "text": [
      "================================\u001b[1m Human Message \u001b[0m=================================\n",
      "\n",
      "Hello, my name is Chinedu. I live in Lagos, Nigeria.\n",
      "================================\u001b[1m Human Message \u001b[0m=================================\n",
      "\n",
      "Hello, my name is Chinedu. I live in Lagos, Nigeria.\n",
      "==================================\u001b[1m Ai Message \u001b[0m==================================\n",
      "\n",
      "Nice to meet you, Chinedu. Lagos is a vibrant city, isn't it? I'm glad you're here. I don't have any prior knowledge about you, so I'll start fresh. How's your day going so far?\n"
     ]
    }
   ],
   "source": [
    "config: dict[str, Any] = {\"configurable\": {\"thread_id\": \"1\", \"user_id\": \"1\"}}\n",
    "msgs = [\"Hello, my name is Chinedu. I live in Lagos, Nigeria.\"]\n",
    "\n",
    "input_state = MessageState(messages=[HumanMessage(content=msg) for msg in msgs])\n",
    "\n",
    "async for event in graph.astream(input_state, config=config, stream_mode=\"values\"):\n",
    "    for msg in event[\"messages\"]:\n",
    "        msg.pretty_print()"
   ]
  },
  {
   "cell_type": "code",
   "execution_count": 58,
   "id": "4ee8b40a",
   "metadata": {},
   "outputs": [
    {
     "data": {
      "text/plain": [
       "Item(namespace=['memory', '1'], key='user_memory', value={'user_name': 'Chinedu', 'user_location': 'Lagos, Nigeria', 'interests': ['null']}, created_at='2025-06-22T21:58:58.087436+00:00', updated_at='2025-06-22T21:58:58.087441+00:00')"
      ]
     },
     "execution_count": 58,
     "metadata": {},
     "output_type": "execute_result"
    }
   ],
   "source": [
    "across_thread_memory.get((\"memory\", \"1\"), \"user_memory\")"
   ]
  },
  {
   "cell_type": "code",
   "execution_count": null,
   "id": "c7fac538",
   "metadata": {},
   "outputs": [
    {
     "name": "stdout",
     "output_type": "stream",
     "text": [
      "================================\u001b[1m Human Message \u001b[0m=================================\n",
      "\n",
      "Hello, my name is Chinedu. I live in Lagos, Nigeria.\n",
      "==================================\u001b[1m Ai Message \u001b[0m==================================\n",
      "\n",
      "Nice to meet you, Chinedu. Lagos is a vibrant city, isn't it? I'm glad you're here. I don't have any prior knowledge about you, so I'll start fresh. How's your day going so far?\n",
      "================================\u001b[1m Human Message \u001b[0m=================================\n",
      "\n",
      "I'm an AI Engineer whos's currently working on NLP related things\n",
      "================================\u001b[1m Human Message \u001b[0m=================================\n",
      "\n",
      "Hello, my name is Chinedu. I live in Lagos, Nigeria.\n",
      "==================================\u001b[1m Ai Message \u001b[0m==================================\n",
      "\n",
      "Nice to meet you, Chinedu. Lagos is a vibrant city, isn't it? I'm glad you're here. I don't have any prior knowledge about you, so I'll start fresh. How's your day going so far?\n",
      "================================\u001b[1m Human Message \u001b[0m=================================\n",
      "\n",
      "I'm an AI Engineer whos's currently working on NLP related things\n",
      "==================================\u001b[1m Ai Message \u001b[0m==================================\n",
      "\n",
      "That's fascinating, Chinedu. As an AI Engineer working on NLP, you must be dealing with some really interesting projects. I'm a conversational AI myself, so I have a bit of a soft spot for NLP. What specific areas of NLP are you currently exploring or working on? Are you into natural language processing, text generation, or something else?\n"
     ]
    }
   ],
   "source": [
    "msgs = [\"I'm an AI Engineer who's currently working on NLP related things\"]\n",
    "input_state = MessageState(messages=[HumanMessage(content=msg) for msg in msgs])\n",
    "\n",
    "async for event in graph.astream(input_state, config=config, stream_mode=\"values\"):\n",
    "    for msg in event[\"messages\"]:\n",
    "        msg.pretty_print()"
   ]
  },
  {
   "cell_type": "code",
   "execution_count": 60,
   "id": "ce068647",
   "metadata": {},
   "outputs": [
    {
     "data": {
      "text/plain": [
       "{'namespace': ['memory', '1'],\n",
       " 'key': 'user_memory',\n",
       " 'value': {'user_name': 'Chinedu',\n",
       "  'user_location': 'Lagos, Nigeria',\n",
       "  'interests': ['null']},\n",
       " 'created_at': '2025-06-22T21:59:08.906892+00:00',\n",
       " 'updated_at': '2025-06-22T21:59:08.906897+00:00'}"
      ]
     },
     "execution_count": 60,
     "metadata": {},
     "output_type": "execute_result"
    }
   ],
   "source": [
    "# namespace for the memory to save\n",
    "user_id: str = \"1\"\n",
    "prefix: str = \"memory\"\n",
    "key = \"user_memory\"\n",
    "namespace = (prefix, user_id)\n",
    "existing_memory = across_thread_memory.get(namespace, key)\n",
    "existing_memory.dict()"
   ]
  },
  {
   "cell_type": "code",
   "execution_count": 61,
   "id": "7add07f3",
   "metadata": {},
   "outputs": [
    {
     "name": "stdout",
     "output_type": "stream",
     "text": [
      "================================\u001b[1m Human Message \u001b[0m=================================\n",
      "\n",
      "Hello, my name is Chinedu. I live in Lagos, Nigeria.\n",
      "==================================\u001b[1m Ai Message \u001b[0m==================================\n",
      "\n",
      "Nice to meet you, Chinedu. Lagos is a vibrant city, isn't it? I'm glad you're here. I don't have any prior knowledge about you, so I'll start fresh. How's your day going so far?\n",
      "================================\u001b[1m Human Message \u001b[0m=================================\n",
      "\n",
      "I'm an AI Engineer whos's currently working on NLP related things\n",
      "==================================\u001b[1m Ai Message \u001b[0m==================================\n",
      "\n",
      "That's fascinating, Chinedu. As an AI Engineer working on NLP, you must be dealing with some really interesting projects. I'm a conversational AI myself, so I have a bit of a soft spot for NLP. What specific areas of NLP are you currently exploring or working on? Are you into natural language processing, text generation, or something else?\n"
     ]
    }
   ],
   "source": [
    "# Chat history\n",
    "state = graph.get_state(config=config).values\n",
    "\n",
    "for m in state[\"messages\"]:\n",
    "    m.pretty_print()"
   ]
  },
  {
   "cell_type": "code",
   "execution_count": null,
   "id": "f012a073",
   "metadata": {},
   "outputs": [],
   "source": []
  },
  {
   "cell_type": "markdown",
   "id": "02ebd08e",
   "metadata": {},
   "source": [
    "<br>\n",
    "\n",
    "## [TOP](#top)\n",
    "\n",
    "<br>\n",
    "\n",
    "<a id=\"chatbot-with-profile-collection\"></a>\n",
    "## Chatbot with Profile Collection\n",
    "\n",
    "- Sometimes we want to save memories to a `collection` rather than single profile.\n",
    "- We'll update our chatbot to save memories to a collection.\n"
   ]
  },
  {
   "cell_type": "code",
   "execution_count": null,
   "metadata": {},
   "outputs": [],
   "source": [
    "class Memory(BaseModel):\n",
    "    content: str = Field(description=\"The important content of the memory.\")\n",
    "\n",
    "\n",
    "class MemoryCollection(BaseModel):\n",
    "    memories: list[Memory] = Field(default_factory=[], description=\"A list of memories.\")"
   ]
  },
  {
   "cell_type": "code",
   "execution_count": 108,
   "id": "0c54a7f4",
   "metadata": {},
   "outputs": [
    {
     "data": {
      "text/html": [
       "<pre style=\"white-space:pre;overflow-x:auto;line-height:normal;font-family:Menlo,'DejaVu Sans Mono',consolas,'Courier New',monospace\"><span style=\"color: #800080; text-decoration-color: #800080; font-weight: bold\">LLMResponse</span><span style=\"font-weight: bold\">(</span>\n",
       "    <span style=\"color: #808000; text-decoration-color: #808000\">api_key</span>=<span style=\"color: #800080; text-decoration-color: #800080; font-weight: bold\">SecretStr</span><span style=\"font-weight: bold\">(</span><span style=\"color: #008000; text-decoration-color: #008000\">'**********'</span><span style=\"font-weight: bold\">)</span>,\n",
       "    <span style=\"color: #808000; text-decoration-color: #808000\">base_url</span>=<span style=\"color: #008000; text-decoration-color: #008000\">'https://openrouter.ai/api/v1'</span>,\n",
       "    <span style=\"color: #808000; text-decoration-color: #808000\">model</span>=<span style=\"font-weight: bold\">&lt;</span><span style=\"color: #ff00ff; text-decoration-color: #ff00ff; font-weight: bold\">ModelEnum.LLAMA_3p1_8B_INSTRUCT_REMOTE:</span><span style=\"color: #000000; text-decoration-color: #000000\"> </span><span style=\"color: #008000; text-decoration-color: #008000\">'meta-llama/llama-3.1-8b-instruct'</span><span style=\"font-weight: bold\">&gt;</span>\n",
       "<span style=\"font-weight: bold\">)</span>\n",
       "</pre>\n"
      ],
      "text/plain": [
       "\u001b[1;35mLLMResponse\u001b[0m\u001b[1m(\u001b[0m\n",
       "    \u001b[33mapi_key\u001b[0m=\u001b[1;35mSecretStr\u001b[0m\u001b[1m(\u001b[0m\u001b[32m'**********'\u001b[0m\u001b[1m)\u001b[0m,\n",
       "    \u001b[33mbase_url\u001b[0m=\u001b[32m'https://openrouter.ai/api/v1'\u001b[0m,\n",
       "    \u001b[33mmodel\u001b[0m=\u001b[1m<\u001b[0m\u001b[1;95mModelEnum.LLAMA_3p1_8B_INSTRUCT_REMOTE:\u001b[0m\u001b[39m \u001b[0m\u001b[32m'meta-llama/llama-3.1-8b-instruct'\u001b[0m\u001b[1m>\u001b[0m\n",
       "\u001b[1m)\u001b[0m\n"
      ]
     },
     "metadata": {},
     "output_type": "display_data"
    },
    {
     "data": {
      "text/html": [
       "<pre style=\"white-space:pre;overflow-x:auto;line-height:normal;font-family:Menlo,'DejaVu Sans Mono',consolas,'Courier New',monospace\"><span style=\"color: #800080; text-decoration-color: #800080; font-weight: bold\">MemoryCollection</span><span style=\"font-weight: bold\">(</span><span style=\"color: #808000; text-decoration-color: #808000\">memories</span>=<span style=\"font-weight: bold\">[</span><span style=\"color: #800080; text-decoration-color: #800080; font-weight: bold\">Memory</span><span style=\"font-weight: bold\">(</span><span style=\"color: #808000; text-decoration-color: #808000\">content</span>=<span style=\"color: #008000; text-decoration-color: #008000\">'My name is Neidu.'</span><span style=\"font-weight: bold\">)</span>, <span style=\"color: #800080; text-decoration-color: #800080; font-weight: bold\">Memory</span><span style=\"font-weight: bold\">(</span><span style=\"color: #808000; text-decoration-color: #808000\">content</span>=<span style=\"color: #008000; text-decoration-color: #008000\">'I love reading books.'</span><span style=\"font-weight: bold\">)])</span>\n",
       "</pre>\n"
      ],
      "text/plain": [
       "\u001b[1;35mMemoryCollection\u001b[0m\u001b[1m(\u001b[0m\u001b[33mmemories\u001b[0m=\u001b[1m[\u001b[0m\u001b[1;35mMemory\u001b[0m\u001b[1m(\u001b[0m\u001b[33mcontent\u001b[0m=\u001b[32m'My name is Neidu.'\u001b[0m\u001b[1m)\u001b[0m, \u001b[1;35mMemory\u001b[0m\u001b[1m(\u001b[0m\u001b[33mcontent\u001b[0m=\u001b[32m'I love reading books.'\u001b[0m\u001b[1m)\u001b[0m\u001b[1m]\u001b[0m\u001b[1m)\u001b[0m\n"
      ]
     },
     "metadata": {},
     "output_type": "display_data"
    }
   ],
   "source": [
    "llm = LLMResponse(\n",
    "    api_key=settings.OPENROUTER_API_KEY,\n",
    "    base_url=settings.OPENROUTER_URL,\n",
    "    model=ModelEnum.LLAMA_3p1_8B_INSTRUCT_REMOTE,\n",
    ")\n",
    "console.print(llm)\n",
    "\n",
    "structured_output, _ = await llm.get_structured_response(\n",
    "    message=\"My name is Neidu. I love reading books.\", response_model=MemoryCollection\n",
    ")\n",
    "\n",
    "console.print(structured_output)"
   ]
  },
  {
   "cell_type": "code",
   "execution_count": 109,
   "metadata": {},
   "outputs": [],
   "source": [
    "# Initialize the in-memory store\n",
    "in_memory_store = InMemoryStore()\n",
    "\n",
    "# Create a namespace to store the data\n",
    "user_id: str = \"1\"\n",
    "prefix: str = \"memories\"\n",
    "namespace_for_memory: tuple[str, str] = (prefix, user_id)\n",
    "key: str = str(uuid.uuid4())\n",
    "\n",
    "# Save the data\n",
    "in_memory_store.put(namespace_for_memory, key, structured_output.model_dump())"
   ]
  },
  {
   "cell_type": "code",
   "execution_count": 110,
   "metadata": {},
   "outputs": [
    {
     "data": {
      "text/html": [
       "<pre style=\"white-space:pre;overflow-x:auto;line-height:normal;font-family:Menlo,'DejaVu Sans Mono',consolas,'Courier New',monospace\"><span style=\"font-weight: bold\">{</span>\n",
       "    <span style=\"color: #008000; text-decoration-color: #008000\">'namespace'</span>: <span style=\"font-weight: bold\">[</span><span style=\"color: #008000; text-decoration-color: #008000\">'memories'</span>, <span style=\"color: #008000; text-decoration-color: #008000\">'1'</span><span style=\"font-weight: bold\">]</span>,\n",
       "    <span style=\"color: #008000; text-decoration-color: #008000\">'key'</span>: <span style=\"color: #008000; text-decoration-color: #008000\">'b2793a7f-2a6d-4953-808a-3e5e9d32d834'</span>,\n",
       "    <span style=\"color: #008000; text-decoration-color: #008000\">'value'</span>: <span style=\"font-weight: bold\">{</span><span style=\"color: #008000; text-decoration-color: #008000\">'memories'</span>: <span style=\"font-weight: bold\">[{</span><span style=\"color: #008000; text-decoration-color: #008000\">'content'</span>: <span style=\"color: #008000; text-decoration-color: #008000\">'My name is Neidu.'</span><span style=\"font-weight: bold\">}</span>, <span style=\"font-weight: bold\">{</span><span style=\"color: #008000; text-decoration-color: #008000\">'content'</span>: <span style=\"color: #008000; text-decoration-color: #008000\">'I love reading books.'</span><span style=\"font-weight: bold\">}]}</span>,\n",
       "    <span style=\"color: #008000; text-decoration-color: #008000\">'created_at'</span>: <span style=\"color: #008000; text-decoration-color: #008000\">'2025-06-22T22:36:29.894299+00:00'</span>,\n",
       "    <span style=\"color: #008000; text-decoration-color: #008000\">'updated_at'</span>: <span style=\"color: #008000; text-decoration-color: #008000\">'2025-06-22T22:36:29.894305+00:00'</span>,\n",
       "    <span style=\"color: #008000; text-decoration-color: #008000\">'score'</span>: <span style=\"color: #800080; text-decoration-color: #800080; font-style: italic\">None</span>\n",
       "<span style=\"font-weight: bold\">}</span>\n",
       "</pre>\n"
      ],
      "text/plain": [
       "\u001b[1m{\u001b[0m\n",
       "    \u001b[32m'namespace'\u001b[0m: \u001b[1m[\u001b[0m\u001b[32m'memories'\u001b[0m, \u001b[32m'1'\u001b[0m\u001b[1m]\u001b[0m,\n",
       "    \u001b[32m'key'\u001b[0m: \u001b[32m'b2793a7f-2a6d-4953-808a-3e5e9d32d834'\u001b[0m,\n",
       "    \u001b[32m'value'\u001b[0m: \u001b[1m{\u001b[0m\u001b[32m'memories'\u001b[0m: \u001b[1m[\u001b[0m\u001b[1m{\u001b[0m\u001b[32m'content'\u001b[0m: \u001b[32m'My name is Neidu.'\u001b[0m\u001b[1m}\u001b[0m, \u001b[1m{\u001b[0m\u001b[32m'content'\u001b[0m: \u001b[32m'I love reading books.'\u001b[0m\u001b[1m}\u001b[0m\u001b[1m]\u001b[0m\u001b[1m}\u001b[0m,\n",
       "    \u001b[32m'created_at'\u001b[0m: \u001b[32m'2025-06-22T22:36:29.894299+00:00'\u001b[0m,\n",
       "    \u001b[32m'updated_at'\u001b[0m: \u001b[32m'2025-06-22T22:36:29.894305+00:00'\u001b[0m,\n",
       "    \u001b[32m'score'\u001b[0m: \u001b[3;35mNone\u001b[0m\n",
       "\u001b[1m}\u001b[0m\n"
      ]
     },
     "metadata": {},
     "output_type": "display_data"
    }
   ],
   "source": [
    "# Search\n",
    "for m in in_memory_store.search(namespace_for_memory):\n",
    "    console.print(m.dict())"
   ]
  },
  {
   "cell_type": "markdown",
   "id": "d2a3e48c",
   "metadata": {},
   "source": [
    "### Updating collection schema\n"
   ]
  },
  {
   "cell_type": "code",
   "execution_count": null,
   "metadata": {},
   "outputs": [
    {
     "data": {
      "text/html": [
       "<pre style=\"white-space:pre;overflow-x:auto;line-height:normal;font-family:Menlo,'DejaVu Sans Mono',consolas,'Courier New',monospace\"><span style=\"color: #800080; text-decoration-color: #800080; font-weight: bold\">MemoryCollection</span><span style=\"font-weight: bold\">(</span>\n",
       "    <span style=\"color: #808000; text-decoration-color: #808000\">memories</span>=<span style=\"font-weight: bold\">[</span>\n",
       "        <span style=\"color: #800080; text-decoration-color: #800080; font-weight: bold\">Memory</span><span style=\"font-weight: bold\">(</span><span style=\"color: #808000; text-decoration-color: #808000\">content</span>=<span style=\"color: #008000; text-decoration-color: #008000\">'Nice to meet you, Neidu.'</span><span style=\"font-weight: bold\">)</span>,\n",
       "        <span style=\"color: #800080; text-decoration-color: #800080; font-weight: bold\">Memory</span><span style=\"font-weight: bold\">(</span><span style=\"color: #808000; text-decoration-color: #808000\">content</span>=<span style=\"color: #008000; text-decoration-color: #008000\">\"I'm an AI Engineer whos's currently working on NLP related things\"</span><span style=\"font-weight: bold\">)</span>\n",
       "    <span style=\"font-weight: bold\">]</span>\n",
       "<span style=\"font-weight: bold\">)</span>\n",
       "</pre>\n"
      ],
      "text/plain": [
       "\u001b[1;35mMemoryCollection\u001b[0m\u001b[1m(\u001b[0m\n",
       "    \u001b[33mmemories\u001b[0m=\u001b[1m[\u001b[0m\n",
       "        \u001b[1;35mMemory\u001b[0m\u001b[1m(\u001b[0m\u001b[33mcontent\u001b[0m=\u001b[32m'Nice to meet you, Neidu.'\u001b[0m\u001b[1m)\u001b[0m,\n",
       "        \u001b[1;35mMemory\u001b[0m\u001b[1m(\u001b[0m\u001b[33mcontent\u001b[0m=\u001b[32m\"I\u001b[0m\u001b[32m'm an AI Engineer whos's currently working on NLP related things\"\u001b[0m\u001b[1m)\u001b[0m\n",
       "    \u001b[1m]\u001b[0m\n",
       "\u001b[1m)\u001b[0m\n"
      ]
     },
     "metadata": {},
     "output_type": "display_data"
    }
   ],
   "source": [
    "# Conversation\n",
    "conversation = [\n",
    "    HumanMessage(content=\"Hi, I'm Neidu.\"),\n",
    "    AIMessage(content=\"Nice to meet you, Neidu.\"),\n",
    "    HumanMessage(content=\"I'm an AI Engineer who's currently working on NLP related things\"),\n",
    "]\n",
    "string_messages = convert_openai_messages_to_string(convert_to_openai_messages(conversation))\n",
    "structured_output, _ = await llm.get_structured_response(\n",
    "    message=string_messages,\n",
    "    response_model=MemoryCollection,\n",
    ")\n",
    "\n",
    "console.print(structured_output)"
   ]
  },
  {
   "cell_type": "code",
   "execution_count": null,
   "id": "8e72ad4e",
   "metadata": {},
   "outputs": [
    {
     "data": {
      "text/html": [
       "<pre style=\"white-space:pre;overflow-x:auto;line-height:normal;font-family:Menlo,'DejaVu Sans Mono',consolas,'Courier New',monospace\"><span style=\"color: #800080; text-decoration-color: #800080; font-weight: bold\">MemoryCollection</span><span style=\"font-weight: bold\">(</span>\n",
       "    <span style=\"color: #808000; text-decoration-color: #808000\">memories</span>=<span style=\"font-weight: bold\">[</span>\n",
       "        <span style=\"color: #800080; text-decoration-color: #800080; font-weight: bold\">Memory</span><span style=\"font-weight: bold\">(</span><span style=\"color: #808000; text-decoration-color: #808000\">content</span>=<span style=\"color: #008000; text-decoration-color: #008000\">'User introduced themselves as Neidu, an AI Engineer working on NLP related things.'</span><span style=\"font-weight: bold\">)</span>,\n",
       "        <span style=\"color: #800080; text-decoration-color: #800080; font-weight: bold\">Memory</span><span style=\"font-weight: bold\">(</span>\n",
       "            <span style=\"color: #808000; text-decoration-color: #808000\">content</span>=<span style=\"color: #008000; text-decoration-color: #008000\">'User expressed interest in the latest advancements in AI and its real-world applications, </span>\n",
       "<span style=\"color: #008000; text-decoration-color: #008000\">particularly agentic AI workflow.'</span>\n",
       "        <span style=\"font-weight: bold\">)</span>,\n",
       "        <span style=\"color: #800080; text-decoration-color: #800080; font-weight: bold\">Memory</span><span style=\"font-weight: bold\">(</span><span style=\"color: #808000; text-decoration-color: #808000\">content</span>=<span style=\"color: #008000; text-decoration-color: #008000\">'User asked about sports, specifically football (soccer).'</span><span style=\"font-weight: bold\">)</span>\n",
       "    <span style=\"font-weight: bold\">]</span>\n",
       "<span style=\"font-weight: bold\">)</span>\n",
       "</pre>\n"
      ],
      "text/plain": [
       "\u001b[1;35mMemoryCollection\u001b[0m\u001b[1m(\u001b[0m\n",
       "    \u001b[33mmemories\u001b[0m=\u001b[1m[\u001b[0m\n",
       "        \u001b[1;35mMemory\u001b[0m\u001b[1m(\u001b[0m\u001b[33mcontent\u001b[0m=\u001b[32m'User introduced themselves as Neidu, an AI Engineer working on NLP related things.'\u001b[0m\u001b[1m)\u001b[0m,\n",
       "        \u001b[1;35mMemory\u001b[0m\u001b[1m(\u001b[0m\n",
       "            \u001b[33mcontent\u001b[0m=\u001b[32m'User expressed interest in the latest advancements in AI and its real-world applications, \u001b[0m\n",
       "\u001b[32mparticularly agentic AI workflow.'\u001b[0m\n",
       "        \u001b[1m)\u001b[0m,\n",
       "        \u001b[1;35mMemory\u001b[0m\u001b[1m(\u001b[0m\u001b[33mcontent\u001b[0m=\u001b[32m'User asked about sports, specifically football \u001b[0m\u001b[32m(\u001b[0m\u001b[32msoccer\u001b[0m\u001b[32m)\u001b[0m\u001b[32m.'\u001b[0m\u001b[1m)\u001b[0m\n",
       "    \u001b[1m]\u001b[0m\n",
       "\u001b[1m)\u001b[0m\n"
      ]
     },
     "metadata": {},
     "output_type": "display_data"
    }
   ],
   "source": [
    "updated_conversation = [\n",
    "    HumanMessage(content=\"Hi, I'm Neidu.\"),\n",
    "    AIMessage(content=\"Nice to meet you, Neidu.\"),\n",
    "    HumanMessage(content=\"I'm an AI Engineer who's currently working on NLP related things\"),\n",
    "    AIMessage(\n",
    "        content=\"That sounds fascinating! NLP is a really exciting and impactful field in AI. \"\n",
    "        \"What will you like to know about AI?\"\n",
    "    ),\n",
    "    HumanMessage(\n",
    "        content=\"Thanks! I'm curious about the latest advancements in AI and how \"\n",
    "        \"they're being applied in real-world applications. I'm also interested in \"\n",
    "        \"agentic AI workflow\"\n",
    "    ),\n",
    "    AIMessage(\n",
    "        content=\"Latest AI advancements include Generative AI (like LLMs for content and customer \"\n",
    "        \"service), Computer Vision (for autonomous tech and healthcare), Reinforcement Learning \"\n",
    "        \"(for robotics and optimization), and Edge AI (for on-device processing). Agentic AI \"\n",
    "        \"workflows involve autonomous AI agents that plan, execute, and iterate to achieve \"\n",
    "        \"complex goals with minimal human input.\"\n",
    "    ),\n",
    "    HumanMessage(\n",
    "        content=\"That's great! What do you know about about Sports? Specifically football (soccer)\"\n",
    "    ),\n",
    "]\n",
    "\n",
    "\n",
    "# Update the instruction\n",
    "system_msg: str = \"\"\"\n",
    "<system>\n",
    "Update existing memories and create new ones based on the following conversation.\n",
    "\n",
    "<guidelines>\n",
    "- Extract and summarize key information about the user from their messages only\n",
    "- Focus on factual details provided by the user\n",
    "- Combine related information into coherent, concise memory entries\n",
    "- Avoid redundancy - merge similar or overlapping information\n",
    "- Ignore conversational pleasantries and focus on substantive content\n",
    "- Create memories that would be useful for future conversations with this user\n",
    "- Each memory should be a complete, standalone summary (not fragments)\n",
    "</guidelines>\n",
    "\n",
    "<output_format>\n",
    "- Return a memory with concise, non-redundant summaries that capture the \n",
    "essential user information.\n",
    "</output_format>\n",
    "\n",
    "</system>\n",
    "\"\"\"\n",
    "string_messages = convert_openai_messages_to_string(\n",
    "    messages=convert_to_openai_messages(updated_conversation)\n",
    ")\n",
    "structured_output_2, _ = await llm.get_structured_response(\n",
    "    message=system_msg + string_messages,\n",
    "    response_model=MemoryCollection,\n",
    ")\n",
    "\n",
    "console.print(structured_output_2)"
   ]
  },
  {
   "cell_type": "markdown",
   "id": "dfcaa05b",
   "metadata": {},
   "source": [
    "<br>\n",
    "\n",
    "### Chatbot With Collection Schema Updating\n",
    "\n",
    "- Let's update our chatbot to create and update a memory collection."
   ]
  },
  {
   "cell_type": "code",
   "execution_count": 186,
   "metadata": {},
   "outputs": [],
   "source": [
    "MODEL_SYSTEM_MESSAGE: str = \"\"\"\n",
    "<system>\n",
    "You are a helpful AI assistant designed to be a companion to users. You maintain continuity \n",
    "across conversations through your long-term memory system, which allows you to build meaningful \n",
    "relationships and provide increasingly personalized assistance over time.\n",
    "\n",
    "<memory>\n",
    "Your long-term memory tracks important information about the user, including:\n",
    "- Personal preferences and interests\n",
    "- Goals and aspirations they've shared\n",
    "- Important life events and context\n",
    "- Communication style preferences\n",
    "- Previous conversations and topics discussed\n",
    "- Skills, expertise, and background information\n",
    "- Current projects or challenges they're working on\n",
    "\n",
    "Current Memory (may include updated memories from this conversation):\n",
    "{memory}\n",
    "</memory>\n",
    "\n",
    "<guidelines>\n",
    "- Use your memory to provide personalized, contextual responses\n",
    "- Reference relevant past conversations naturally when appropriate\n",
    "- Adapt your communication style to match their preferences\n",
    "- Maintain continuity by building on previous interactions\n",
    "- Keep responses concise and avoid unnecessary repetition\n",
    "</guidelines>\n",
    "\n",
    "</system>\n",
    "\"\"\"\n",
    "\n",
    "USER_MEMORY_INSTRUCTION: str = \"\"\"\n",
    "<system>\n",
    "Update existing memories and create new ones based on the following conversation.\n",
    "\n",
    "<guidelines>\n",
    "- Extract and summarize key information about the user from their messages only\n",
    "- Focus on factual details provided by the user\n",
    "- Avoid redundancy and combine related information into coherent, concise memory entries\n",
    "- Do not assume or infer information not explicitly stated by the user\n",
    "- Ignore conversational pleasantries and focus on substantive content\n",
    "- Create memories that would be useful for future conversations with this user\n",
    "- Each memory should be a complete, standalone summary (not fragments)\n",
    "</guidelines>\n",
    "\n",
    "<output_format>\n",
    "- Return a memory with concise, non-redundant summaries that capture the \n",
    "essential user information.\n",
    "</output_format>\n",
    "\n",
    "</system>\n",
    "\"\"\""
   ]
  },
  {
   "cell_type": "code",
   "execution_count": 187,
   "id": "f10c7e96",
   "metadata": {},
   "outputs": [
    {
     "data": {
      "text/plain": [
       "{'memories': [{'content': 'Nice to meet you, Neidu.'},\n",
       "  {'content': \"I'm an AI Engineer whos's currently working on NLP related things\"}]}"
      ]
     },
     "execution_count": 187,
     "metadata": {},
     "output_type": "execute_result"
    }
   ],
   "source": [
    "structured_output.model_dump()"
   ]
  },
  {
   "cell_type": "code",
   "execution_count": null,
   "metadata": {},
   "outputs": [],
   "source": [
    "async def call_llm(state: MessageState, config: RunnableConfig, store: BaseStore) -> dict[str, Any]:\n",
    "    user_id: str = config[\"configurable\"][\"user_id\"]\n",
    "\n",
    "    prefix: str = \"memories\"\n",
    "    namespace = (prefix, user_id)\n",
    "    existing_memory = store.search(namespace)\n",
    "    # Format the memory\n",
    "    try:\n",
    "        formatted_memory = \"\\n\".join([f\"- {memory.content}\" for memory in existing_memory])\n",
    "    except Exception:\n",
    "        formatted_memory = \"No existing memory found\"\n",
    "\n",
    "    system_message: str = MODEL_SYSTEM_MESSAGE.format(memory=formatted_memory)\n",
    "\n",
    "    # Respond using memory + chat history\n",
    "    formatted_messages = convert_to_openai_messages(\n",
    "        [SystemMessage(content=system_message)] + state[\"messages\"]\n",
    "    )\n",
    "    response, _ = await llm.ainvoke(messages=formatted_messages)\n",
    "\n",
    "    return {\"messages\": [AIMessage(content=response)]}\n",
    "\n",
    "\n",
    "async def write_memory(state: MessageState, config: RunnableConfig, store: BaseStore) -> None:\n",
    "    user_id: str = config[\"configurable\"][\"user_id\"]\n",
    "\n",
    "    prefix: str = \"memories\"\n",
    "    namespace = (prefix, user_id)\n",
    "    existing_memory = store.search(namespace)\n",
    "\n",
    "    # Get the profile and convert to JSON doc\n",
    "    existing_profile = [m.value for m in existing_memory] if len(existing_memory) > 0 else None\n",
    "\n",
    "    # Invoke the extractor\n",
    "    messages = convert_to_openai_messages(\n",
    "        [SystemMessage(content=USER_MEMORY_INSTRUCTION)]\n",
    "        + [\n",
    "            AIMessage(\n",
    "                content=f\"\\nMemoryCollection: {json.dumps(existing_profile)}\\n\\n\\nChat History:\"\n",
    "            )\n",
    "        ]\n",
    "        + state[\"messages\"]\n",
    "    )\n",
    "    string_messages = convert_openai_messages_to_string(messages)\n",
    "    structured_output, _ = await llm.get_structured_response(\n",
    "        message=string_messages, response_model=MemoryCollection\n",
    "    )\n",
    "    # Get the updated profile as a JSON object\n",
    "    updated_profile = (\n",
    "        structured_output.model_dump()\n",
    "        if structured_output is not None\n",
    "        else MemoryCollection(memories=[]).model_dump()\n",
    "    )\n",
    "    # Save the updated profile\n",
    "    store.put(namespace, key, updated_profile)"
   ]
  },
  {
   "cell_type": "code",
   "execution_count": 203,
   "id": "90ae9c04",
   "metadata": {},
   "outputs": [
    {
     "data": {
      "image/png": "[encoded data removed]",
      "text/plain": [
       "<IPython.core.display.Image object>"
      ]
     },
     "metadata": {},
     "output_type": "display_data"
    }
   ],
   "source": [
    "graph_builder = StateGraph(MessageState)\n",
    "\n",
    "# Add nodes\n",
    "graph_builder.add_node(\"call_llm\", call_llm)\n",
    "graph_builder.add_node(\"write_memory\", write_memory)\n",
    "\n",
    "# Add edges\n",
    "graph_builder.add_edge(START, \"call_llm\")\n",
    "graph_builder.add_edge(\"call_llm\", \"write_memory\")\n",
    "graph_builder.add_edge(\"write_memory\", END)\n",
    "\n",
    "# Long-term-memory store (across threads)\n",
    "across_thread_memory = InMemoryStore()\n",
    "# Short-term-memory store (within a thread) checkpointer\n",
    "within_thread_memory = MemorySaver()\n",
    "\n",
    "# Compile the graph\n",
    "graph = graph_builder.compile(\n",
    "    checkpointer=within_thread_memory, store=across_thread_memory\n",
    ").with_config(run_name=\"Chatbot-with-user-profile\")\n",
    "\n",
    "\n",
    "# Visualize the graph\n",
    "display(Image(graph.get_graph(xray=1).draw_mermaid_png()))"
   ]
  },
  {
   "cell_type": "code",
   "execution_count": 204,
   "metadata": {},
   "outputs": [
    {
     "name": "stdout",
     "output_type": "stream",
     "text": [
      "================================\u001b[1m Human Message \u001b[0m=================================\n",
      "\n",
      "Hello, my name is Chinedu. I live in Lagos, Nigeria.\n",
      "================================\u001b[1m Human Message \u001b[0m=================================\n",
      "\n",
      "Hello, my name is Chinedu. I live in Lagos, Nigeria.\n",
      "==================================\u001b[1m Ai Message \u001b[0m==================================\n",
      "\n",
      "Nice to meet you, Chinedu. Lagos is a vibrant city, isn't it? I've been keeping track of our conversation history, but this is our first interaction, so I don't have much to draw from just yet. I'm excited to get to know you better and learn more about your interests and preferences.\n",
      "\n",
      "Since you live in Lagos, I'm curious - what do you like to do in your free time? Are you interested in exploring the city, trying new foods, or perhaps pursuing a hobby?\n"
     ]
    }
   ],
   "source": [
    "config: dict[str, Any] = {\"configurable\": {\"thread_id\": \"1\", \"user_id\": \"1\"}}\n",
    "msgs = [\"Hello, my name is Chinedu. I live in Lagos, Nigeria.\"]\n",
    "\n",
    "input_state = MessageState(messages=[HumanMessage(content=msg) for msg in msgs])\n",
    "\n",
    "async for event in graph.astream(input_state, config=config, stream_mode=\"values\"):\n",
    "    for msg in event[\"messages\"]:\n",
    "        msg.pretty_print()"
   ]
  },
  {
   "cell_type": "code",
   "execution_count": 205,
   "metadata": {},
   "outputs": [
    {
     "data": {
      "text/html": [
       "<pre style=\"white-space:pre;overflow-x:auto;line-height:normal;font-family:Menlo,'DejaVu Sans Mono',consolas,'Courier New',monospace\"><span style=\"font-weight: bold\">{</span>\n",
       "    <span style=\"color: #008000; text-decoration-color: #008000\">'namespace'</span>: <span style=\"font-weight: bold\">[</span><span style=\"color: #008000; text-decoration-color: #008000\">'memories'</span>, <span style=\"color: #008000; text-decoration-color: #008000\">'1'</span><span style=\"font-weight: bold\">]</span>,\n",
       "    <span style=\"color: #008000; text-decoration-color: #008000\">'key'</span>: <span style=\"color: #008000; text-decoration-color: #008000\">'b2793a7f-2a6d-4953-808a-3e5e9d32d834'</span>,\n",
       "    <span style=\"color: #008000; text-decoration-color: #008000\">'value'</span>: <span style=\"font-weight: bold\">{</span><span style=\"color: #008000; text-decoration-color: #008000\">'memories'</span>: <span style=\"font-weight: bold\">[{</span><span style=\"color: #008000; text-decoration-color: #008000\">'content'</span>: <span style=\"color: #008000; text-decoration-color: #008000\">'User lives in Lagos, Nigeria.'</span><span style=\"font-weight: bold\">}]}</span>,\n",
       "    <span style=\"color: #008000; text-decoration-color: #008000\">'created_at'</span>: <span style=\"color: #008000; text-decoration-color: #008000\">'2025-06-23T00:33:47.480810+00:00'</span>,\n",
       "    <span style=\"color: #008000; text-decoration-color: #008000\">'updated_at'</span>: <span style=\"color: #008000; text-decoration-color: #008000\">'2025-06-23T00:33:47.480815+00:00'</span>,\n",
       "    <span style=\"color: #008000; text-decoration-color: #008000\">'score'</span>: <span style=\"color: #800080; text-decoration-color: #800080; font-style: italic\">None</span>\n",
       "<span style=\"font-weight: bold\">}</span>\n",
       "</pre>\n"
      ],
      "text/plain": [
       "\u001b[1m{\u001b[0m\n",
       "    \u001b[32m'namespace'\u001b[0m: \u001b[1m[\u001b[0m\u001b[32m'memories'\u001b[0m, \u001b[32m'1'\u001b[0m\u001b[1m]\u001b[0m,\n",
       "    \u001b[32m'key'\u001b[0m: \u001b[32m'b2793a7f-2a6d-4953-808a-3e5e9d32d834'\u001b[0m,\n",
       "    \u001b[32m'value'\u001b[0m: \u001b[1m{\u001b[0m\u001b[32m'memories'\u001b[0m: \u001b[1m[\u001b[0m\u001b[1m{\u001b[0m\u001b[32m'content'\u001b[0m: \u001b[32m'User lives in Lagos, Nigeria.'\u001b[0m\u001b[1m}\u001b[0m\u001b[1m]\u001b[0m\u001b[1m}\u001b[0m,\n",
       "    \u001b[32m'created_at'\u001b[0m: \u001b[32m'2025-06-23T00:33:47.480810+00:00'\u001b[0m,\n",
       "    \u001b[32m'updated_at'\u001b[0m: \u001b[32m'2025-06-23T00:33:47.480815+00:00'\u001b[0m,\n",
       "    \u001b[32m'score'\u001b[0m: \u001b[3;35mNone\u001b[0m\n",
       "\u001b[1m}\u001b[0m\n"
      ]
     },
     "metadata": {},
     "output_type": "display_data"
    }
   ],
   "source": [
    "for m in across_thread_memory.search((\"memories\", \"1\")):\n",
    "    console.print(m.dict())"
   ]
  },
  {
   "cell_type": "code",
   "execution_count": 206,
   "id": "3a5aef10",
   "metadata": {},
   "outputs": [
    {
     "name": "stdout",
     "output_type": "stream",
     "text": [
      "================================\u001b[1m Human Message \u001b[0m=================================\n",
      "\n",
      "Hello, my name is Chinedu. I live in Lagos, Nigeria.\n",
      "==================================\u001b[1m Ai Message \u001b[0m==================================\n",
      "\n",
      "Nice to meet you, Chinedu. Lagos is a vibrant city, isn't it? I've been keeping track of our conversation history, but this is our first interaction, so I don't have much to draw from just yet. I'm excited to get to know you better and learn more about your interests and preferences.\n",
      "\n",
      "Since you live in Lagos, I'm curious - what do you like to do in your free time? Are you interested in exploring the city, trying new foods, or perhaps pursuing a hobby?\n",
      "================================\u001b[1m Human Message \u001b[0m=================================\n",
      "\n",
      "I'm an AI Engineer who's currently working on NLP related things\n",
      "================================\u001b[1m Human Message \u001b[0m=================================\n",
      "\n",
      "Hello, my name is Chinedu. I live in Lagos, Nigeria.\n",
      "==================================\u001b[1m Ai Message \u001b[0m==================================\n",
      "\n",
      "Nice to meet you, Chinedu. Lagos is a vibrant city, isn't it? I've been keeping track of our conversation history, but this is our first interaction, so I don't have much to draw from just yet. I'm excited to get to know you better and learn more about your interests and preferences.\n",
      "\n",
      "Since you live in Lagos, I'm curious - what do you like to do in your free time? Are you interested in exploring the city, trying new foods, or perhaps pursuing a hobby?\n",
      "================================\u001b[1m Human Message \u001b[0m=================================\n",
      "\n",
      "I'm an AI Engineer who's currently working on NLP related things\n",
      "==================================\u001b[1m Ai Message \u001b[0m==================================\n",
      "\n",
      "That's fascinating, Chinedu. As an AI Engineer working on NLP, you must be passionate about the intersection of artificial intelligence and human language. I'd love to learn more about your current projects and challenges.\n",
      "\n",
      "In Lagos, there's a growing interest in AI and NLP, with many startups and research institutions exploring its applications. Have you been involved in any local initiatives or collaborations that you'd like to share?\n",
      "\n",
      "Also, I'm curious - what specific areas of NLP are you currently focusing on? Are you working on natural language processing, machine learning, or perhaps developing conversational AI systems like myself?\n"
     ]
    }
   ],
   "source": [
    "msgs = [\"I'm an AI Engineer who's currently working on NLP related things\"]\n",
    "input_state = MessageState(messages=[HumanMessage(content=msg) for msg in msgs])\n",
    "\n",
    "async for event in graph.astream(input_state, config=config, stream_mode=\"values\"):\n",
    "    for msg in event[\"messages\"]:\n",
    "        msg.pretty_print()"
   ]
  },
  {
   "cell_type": "code",
   "execution_count": 207,
   "id": "64312558",
   "metadata": {},
   "outputs": [
    {
     "data": {
      "text/html": [
       "<pre style=\"white-space:pre;overflow-x:auto;line-height:normal;font-family:Menlo,'DejaVu Sans Mono',consolas,'Courier New',monospace\"><span style=\"font-weight: bold\">{</span>\n",
       "    <span style=\"color: #008000; text-decoration-color: #008000\">'memories'</span>: <span style=\"font-weight: bold\">[</span>\n",
       "        <span style=\"font-weight: bold\">{</span><span style=\"color: #008000; text-decoration-color: #008000\">'content'</span>: <span style=\"color: #008000; text-decoration-color: #008000\">'User lives in Lagos, Nigeria.'</span><span style=\"font-weight: bold\">}</span>,\n",
       "        <span style=\"font-weight: bold\">{</span><span style=\"color: #008000; text-decoration-color: #008000\">'content'</span>: <span style=\"color: #008000; text-decoration-color: #008000\">'User is an AI Engineer working on NLP related things.'</span><span style=\"font-weight: bold\">}</span>\n",
       "    <span style=\"font-weight: bold\">]</span>\n",
       "<span style=\"font-weight: bold\">}</span>\n",
       "</pre>\n"
      ],
      "text/plain": [
       "\u001b[1m{\u001b[0m\n",
       "    \u001b[32m'memories'\u001b[0m: \u001b[1m[\u001b[0m\n",
       "        \u001b[1m{\u001b[0m\u001b[32m'content'\u001b[0m: \u001b[32m'User lives in Lagos, Nigeria.'\u001b[0m\u001b[1m}\u001b[0m,\n",
       "        \u001b[1m{\u001b[0m\u001b[32m'content'\u001b[0m: \u001b[32m'User is an AI Engineer working on NLP related things.'\u001b[0m\u001b[1m}\u001b[0m\n",
       "    \u001b[1m]\u001b[0m\n",
       "\u001b[1m}\u001b[0m\n"
      ]
     },
     "metadata": {},
     "output_type": "display_data"
    }
   ],
   "source": [
    "for m in across_thread_memory.search((\"memories\", \"1\")):\n",
    "    console.print(m.value)"
   ]
  },
  {
   "cell_type": "code",
   "execution_count": 208,
   "id": "1821a8d0",
   "metadata": {},
   "outputs": [
    {
     "name": "stdout",
     "output_type": "stream",
     "text": [
      "================================\u001b[1m Human Message \u001b[0m=================================\n",
      "\n",
      "Hello, my name is Chinedu. I live in Lagos, Nigeria.\n",
      "==================================\u001b[1m Ai Message \u001b[0m==================================\n",
      "\n",
      "Nice to meet you, Chinedu. Lagos is a vibrant city, isn't it? I've been keeping track of our conversation history, but this is our first interaction, so I don't have much to draw from just yet. I'm excited to get to know you better and learn more about your interests and preferences.\n",
      "\n",
      "Since you live in Lagos, I'm curious - what do you like to do in your free time? Are you interested in exploring the city, trying new foods, or perhaps pursuing a hobby?\n",
      "================================\u001b[1m Human Message \u001b[0m=================================\n",
      "\n",
      "I'm an AI Engineer who's currently working on NLP related things\n",
      "==================================\u001b[1m Ai Message \u001b[0m==================================\n",
      "\n",
      "That's fascinating, Chinedu. As an AI Engineer working on NLP, you must be passionate about the intersection of artificial intelligence and human language. I'd love to learn more about your current projects and challenges.\n",
      "\n",
      "In Lagos, there's a growing interest in AI and NLP, with many startups and research institutions exploring its applications. Have you been involved in any local initiatives or collaborations that you'd like to share?\n",
      "\n",
      "Also, I'm curious - what specific areas of NLP are you currently focusing on? Are you working on natural language processing, machine learning, or perhaps developing conversational AI systems like myself?\n"
     ]
    }
   ],
   "source": [
    "# Chat history\n",
    "state = graph.get_state(config=config).values\n",
    "\n",
    "for m in state[\"messages\"]:\n",
    "    m.pretty_print()"
   ]
  },
  {
   "cell_type": "code",
   "execution_count": 209,
   "id": "8fb7672d",
   "metadata": {},
   "outputs": [
    {
     "name": "stdout",
     "output_type": "stream",
     "text": [
      "================================\u001b[1m Human Message \u001b[0m=================================\n",
      "\n",
      "Hello, my name is Chinedu. I live in Lagos, Nigeria.\n",
      "==================================\u001b[1m Ai Message \u001b[0m==================================\n",
      "\n",
      "Nice to meet you, Chinedu. Lagos is a vibrant city, isn't it? I've been keeping track of our conversation history, but this is our first interaction, so I don't have much to draw from just yet. I'm excited to get to know you better and learn more about your interests and preferences.\n",
      "\n",
      "Since you live in Lagos, I'm curious - what do you like to do in your free time? Are you interested in exploring the city, trying new foods, or perhaps pursuing a hobby?\n",
      "================================\u001b[1m Human Message \u001b[0m=================================\n",
      "\n",
      "I'm an AI Engineer who's currently working on NLP related things\n",
      "==================================\u001b[1m Ai Message \u001b[0m==================================\n",
      "\n",
      "That's fascinating, Chinedu. As an AI Engineer working on NLP, you must be passionate about the intersection of artificial intelligence and human language. I'd love to learn more about your current projects and challenges.\n",
      "\n",
      "In Lagos, there's a growing interest in AI and NLP, with many startups and research institutions exploring its applications. Have you been involved in any local initiatives or collaborations that you'd like to share?\n",
      "\n",
      "Also, I'm curious - what specific areas of NLP are you currently focusing on? Are you working on natural language processing, machine learning, or perhaps developing conversational AI systems like myself?\n",
      "================================\u001b[1m Human Message \u001b[0m=================================\n",
      "\n",
      "I'm looking to integrate AI in the Financial Services Industry\n",
      "================================\u001b[1m Human Message \u001b[0m=================================\n",
      "\n",
      "Hello, my name is Chinedu. I live in Lagos, Nigeria.\n",
      "==================================\u001b[1m Ai Message \u001b[0m==================================\n",
      "\n",
      "Nice to meet you, Chinedu. Lagos is a vibrant city, isn't it? I've been keeping track of our conversation history, but this is our first interaction, so I don't have much to draw from just yet. I'm excited to get to know you better and learn more about your interests and preferences.\n",
      "\n",
      "Since you live in Lagos, I'm curious - what do you like to do in your free time? Are you interested in exploring the city, trying new foods, or perhaps pursuing a hobby?\n",
      "================================\u001b[1m Human Message \u001b[0m=================================\n",
      "\n",
      "I'm an AI Engineer who's currently working on NLP related things\n",
      "==================================\u001b[1m Ai Message \u001b[0m==================================\n",
      "\n",
      "That's fascinating, Chinedu. As an AI Engineer working on NLP, you must be passionate about the intersection of artificial intelligence and human language. I'd love to learn more about your current projects and challenges.\n",
      "\n",
      "In Lagos, there's a growing interest in AI and NLP, with many startups and research institutions exploring its applications. Have you been involved in any local initiatives or collaborations that you'd like to share?\n",
      "\n",
      "Also, I'm curious - what specific areas of NLP are you currently focusing on? Are you working on natural language processing, machine learning, or perhaps developing conversational AI systems like myself?\n",
      "================================\u001b[1m Human Message \u001b[0m=================================\n",
      "\n",
      "I'm looking to integrate AI in the Financial Services Industry\n",
      "==================================\u001b[1m Ai Message \u001b[0m==================================\n",
      "\n",
      "That's a great area of focus, Chinedu. Integrating AI in the Financial Services Industry can bring about significant improvements in efficiency, accuracy, and customer experience. There are many potential applications, such as risk management, credit scoring, portfolio optimization, and chatbots for customer support.\n",
      "\n",
      "In Nigeria, the financial services industry is rapidly evolving, with the rise of fintech and digital banking. I'm sure you're aware of the challenges and opportunities that come with this growth.\n",
      "\n",
      "Have you considered the regulatory landscape in Nigeria, particularly with regards to AI adoption in the financial services sector? The Central Bank of Nigeria (CBN) has been actively promoting the use of technology in banking, but there are also concerns around data protection and cybersecurity.\n",
      "\n",
      "Also, I'd love to know - what specific AI technologies or techniques are you exploring for integration in the financial services industry? Are you looking at machine learning, deep learning, or perhaps natural language processing for text analysis?\n"
     ]
    }
   ],
   "source": [
    "msgs = [\"I'm looking to integrate AI in the Financial Services Industry\"]\n",
    "input_state = MessageState(messages=[HumanMessage(content=msg) for msg in msgs])\n",
    "\n",
    "async for event in graph.astream(input_state, config=config, stream_mode=\"values\"):\n",
    "    for msg in event[\"messages\"]:\n",
    "        msg.pretty_print()"
   ]
  },
  {
   "cell_type": "code",
   "execution_count": 210,
   "id": "8cedf980",
   "metadata": {},
   "outputs": [
    {
     "name": "stdout",
     "output_type": "stream",
     "text": [
      "================================\u001b[1m Human Message \u001b[0m=================================\n",
      "\n",
      "Hello, my name is Chinedu. I live in Lagos, Nigeria.\n",
      "==================================\u001b[1m Ai Message \u001b[0m==================================\n",
      "\n",
      "Nice to meet you, Chinedu. Lagos is a vibrant city, isn't it? I've been keeping track of our conversation history, but this is our first interaction, so I don't have much to draw from just yet. I'm excited to get to know you better and learn more about your interests and preferences.\n",
      "\n",
      "Since you live in Lagos, I'm curious - what do you like to do in your free time? Are you interested in exploring the city, trying new foods, or perhaps pursuing a hobby?\n",
      "================================\u001b[1m Human Message \u001b[0m=================================\n",
      "\n",
      "I'm an AI Engineer who's currently working on NLP related things\n",
      "==================================\u001b[1m Ai Message \u001b[0m==================================\n",
      "\n",
      "That's fascinating, Chinedu. As an AI Engineer working on NLP, you must be passionate about the intersection of artificial intelligence and human language. I'd love to learn more about your current projects and challenges.\n",
      "\n",
      "In Lagos, there's a growing interest in AI and NLP, with many startups and research institutions exploring its applications. Have you been involved in any local initiatives or collaborations that you'd like to share?\n",
      "\n",
      "Also, I'm curious - what specific areas of NLP are you currently focusing on? Are you working on natural language processing, machine learning, or perhaps developing conversational AI systems like myself?\n",
      "================================\u001b[1m Human Message \u001b[0m=================================\n",
      "\n",
      "I'm looking to integrate AI in the Financial Services Industry\n",
      "==================================\u001b[1m Ai Message \u001b[0m==================================\n",
      "\n",
      "That's a great area of focus, Chinedu. Integrating AI in the Financial Services Industry can bring about significant improvements in efficiency, accuracy, and customer experience. There are many potential applications, such as risk management, credit scoring, portfolio optimization, and chatbots for customer support.\n",
      "\n",
      "In Nigeria, the financial services industry is rapidly evolving, with the rise of fintech and digital banking. I'm sure you're aware of the challenges and opportunities that come with this growth.\n",
      "\n",
      "Have you considered the regulatory landscape in Nigeria, particularly with regards to AI adoption in the financial services sector? The Central Bank of Nigeria (CBN) has been actively promoting the use of technology in banking, but there are also concerns around data protection and cybersecurity.\n",
      "\n",
      "Also, I'd love to know - what specific AI technologies or techniques are you exploring for integration in the financial services industry? Are you looking at machine learning, deep learning, or perhaps natural language processing for text analysis?\n",
      "================================\u001b[1m Human Message \u001b[0m=================================\n",
      "\n",
      "Risk management and credit scoring are my main focus areas\n",
      "================================\u001b[1m Human Message \u001b[0m=================================\n",
      "\n",
      "Hello, my name is Chinedu. I live in Lagos, Nigeria.\n",
      "==================================\u001b[1m Ai Message \u001b[0m==================================\n",
      "\n",
      "Nice to meet you, Chinedu. Lagos is a vibrant city, isn't it? I've been keeping track of our conversation history, but this is our first interaction, so I don't have much to draw from just yet. I'm excited to get to know you better and learn more about your interests and preferences.\n",
      "\n",
      "Since you live in Lagos, I'm curious - what do you like to do in your free time? Are you interested in exploring the city, trying new foods, or perhaps pursuing a hobby?\n",
      "================================\u001b[1m Human Message \u001b[0m=================================\n",
      "\n",
      "I'm an AI Engineer who's currently working on NLP related things\n",
      "==================================\u001b[1m Ai Message \u001b[0m==================================\n",
      "\n",
      "That's fascinating, Chinedu. As an AI Engineer working on NLP, you must be passionate about the intersection of artificial intelligence and human language. I'd love to learn more about your current projects and challenges.\n",
      "\n",
      "In Lagos, there's a growing interest in AI and NLP, with many startups and research institutions exploring its applications. Have you been involved in any local initiatives or collaborations that you'd like to share?\n",
      "\n",
      "Also, I'm curious - what specific areas of NLP are you currently focusing on? Are you working on natural language processing, machine learning, or perhaps developing conversational AI systems like myself?\n",
      "================================\u001b[1m Human Message \u001b[0m=================================\n",
      "\n",
      "I'm looking to integrate AI in the Financial Services Industry\n",
      "==================================\u001b[1m Ai Message \u001b[0m==================================\n",
      "\n",
      "That's a great area of focus, Chinedu. Integrating AI in the Financial Services Industry can bring about significant improvements in efficiency, accuracy, and customer experience. There are many potential applications, such as risk management, credit scoring, portfolio optimization, and chatbots for customer support.\n",
      "\n",
      "In Nigeria, the financial services industry is rapidly evolving, with the rise of fintech and digital banking. I'm sure you're aware of the challenges and opportunities that come with this growth.\n",
      "\n",
      "Have you considered the regulatory landscape in Nigeria, particularly with regards to AI adoption in the financial services sector? The Central Bank of Nigeria (CBN) has been actively promoting the use of technology in banking, but there are also concerns around data protection and cybersecurity.\n",
      "\n",
      "Also, I'd love to know - what specific AI technologies or techniques are you exploring for integration in the financial services industry? Are you looking at machine learning, deep learning, or perhaps natural language processing for text analysis?\n",
      "================================\u001b[1m Human Message \u001b[0m=================================\n",
      "\n",
      "Risk management and credit scoring are my main focus areas\n",
      "==================================\u001b[1m Ai Message \u001b[0m==================================\n",
      "\n",
      "Risk management and credit scoring are critical components of the financial services industry, and AI can bring significant improvements in accuracy and efficiency.\n",
      "\n",
      "In risk management, AI can help identify potential risks and anomalies in financial data, enabling early detection and mitigation of potential losses. This can be achieved through techniques such as anomaly detection, predictive modeling, and decision tree analysis.\n",
      "\n",
      "For credit scoring, AI can help analyze vast amounts of data, including credit history, income, employment, and other factors, to provide more accurate and personalized credit scores. This can lead to better lending decisions, reduced defaults, and improved customer experience.\n",
      "\n",
      "In Nigeria, there's a growing need for more robust credit scoring systems, given the country's large informal economy and limited access to credit for many individuals and businesses. I'm sure you're aware of the challenges and opportunities in this space.\n",
      "\n",
      "Have you explored any specific AI models or techniques for risk management and credit scoring, such as logistic regression, random forests, or neural networks? Additionally, are you working with any local financial institutions or fintech companies to develop and implement these solutions?\n"
     ]
    }
   ],
   "source": [
    "msgs = [\"Risk management and credit scoring are my main focus areas\"]\n",
    "input_state = MessageState(messages=[HumanMessage(content=msg) for msg in msgs])\n",
    "\n",
    "async for event in graph.astream(input_state, config=config, stream_mode=\"values\"):\n",
    "    for msg in event[\"messages\"]:\n",
    "        msg.pretty_print()"
   ]
  },
  {
   "cell_type": "code",
   "execution_count": 212,
   "id": "860f3fd6",
   "metadata": {},
   "outputs": [
    {
     "data": {
      "text/html": [
       "<pre style=\"white-space:pre;overflow-x:auto;line-height:normal;font-family:Menlo,'DejaVu Sans Mono',consolas,'Courier New',monospace\"><span style=\"font-weight: bold\">{</span>\n",
       "    <span style=\"color: #008000; text-decoration-color: #008000\">'memories'</span>: <span style=\"font-weight: bold\">[</span>\n",
       "        <span style=\"font-weight: bold\">{</span><span style=\"color: #008000; text-decoration-color: #008000\">'content'</span>: <span style=\"color: #008000; text-decoration-color: #008000\">\"User's name is Chinedu.\"</span><span style=\"font-weight: bold\">}</span>,\n",
       "        <span style=\"font-weight: bold\">{</span><span style=\"color: #008000; text-decoration-color: #008000\">'content'</span>: <span style=\"color: #008000; text-decoration-color: #008000\">'User lives in Lagos, Nigeria.'</span><span style=\"font-weight: bold\">}</span>,\n",
       "        <span style=\"font-weight: bold\">{</span><span style=\"color: #008000; text-decoration-color: #008000\">'content'</span>: <span style=\"color: #008000; text-decoration-color: #008000\">'User is an AI Engineer working on NLP related things.'</span><span style=\"font-weight: bold\">}</span>,\n",
       "        <span style=\"font-weight: bold\">{</span><span style=\"color: #008000; text-decoration-color: #008000\">'content'</span>: <span style=\"color: #008000; text-decoration-color: #008000\">'User is interested in integrating AI in the Financial Services Industry.'</span><span style=\"font-weight: bold\">}</span>,\n",
       "        <span style=\"font-weight: bold\">{</span><span style=\"color: #008000; text-decoration-color: #008000\">'content'</span>: <span style=\"color: #008000; text-decoration-color: #008000\">'User is exploring AI technologies for integration in the Financial Services Industry.'</span><span style=\"font-weight: bold\">}</span>,\n",
       "        <span style=\"font-weight: bold\">{</span><span style=\"color: #008000; text-decoration-color: #008000\">'content'</span>: <span style=\"color: #008000; text-decoration-color: #008000\">'User is looking to integrate AI in the Financial Services Industry.'</span><span style=\"font-weight: bold\">}</span>,\n",
       "        <span style=\"font-weight: bold\">{</span><span style=\"color: #008000; text-decoration-color: #008000\">'content'</span>: <span style=\"color: #008000; text-decoration-color: #008000\">\"User's main focus areas are risk management and credit scoring.\"</span><span style=\"font-weight: bold\">}</span>,\n",
       "        <span style=\"font-weight: bold\">{</span><span style=\"color: #008000; text-decoration-color: #008000\">'content'</span>: <span style=\"color: #008000; text-decoration-color: #008000\">'User is currently working on NLP related projects.'</span><span style=\"font-weight: bold\">}</span>\n",
       "    <span style=\"font-weight: bold\">]</span>\n",
       "<span style=\"font-weight: bold\">}</span>\n",
       "</pre>\n"
      ],
      "text/plain": [
       "\u001b[1m{\u001b[0m\n",
       "    \u001b[32m'memories'\u001b[0m: \u001b[1m[\u001b[0m\n",
       "        \u001b[1m{\u001b[0m\u001b[32m'content'\u001b[0m: \u001b[32m\"User's name is Chinedu.\"\u001b[0m\u001b[1m}\u001b[0m,\n",
       "        \u001b[1m{\u001b[0m\u001b[32m'content'\u001b[0m: \u001b[32m'User lives in Lagos, Nigeria.'\u001b[0m\u001b[1m}\u001b[0m,\n",
       "        \u001b[1m{\u001b[0m\u001b[32m'content'\u001b[0m: \u001b[32m'User is an AI Engineer working on NLP related things.'\u001b[0m\u001b[1m}\u001b[0m,\n",
       "        \u001b[1m{\u001b[0m\u001b[32m'content'\u001b[0m: \u001b[32m'User is interested in integrating AI in the Financial Services Industry.'\u001b[0m\u001b[1m}\u001b[0m,\n",
       "        \u001b[1m{\u001b[0m\u001b[32m'content'\u001b[0m: \u001b[32m'User is exploring AI technologies for integration in the Financial Services Industry.'\u001b[0m\u001b[1m}\u001b[0m,\n",
       "        \u001b[1m{\u001b[0m\u001b[32m'content'\u001b[0m: \u001b[32m'User is looking to integrate AI in the Financial Services Industry.'\u001b[0m\u001b[1m}\u001b[0m,\n",
       "        \u001b[1m{\u001b[0m\u001b[32m'content'\u001b[0m: \u001b[32m\"User's main focus areas are risk management and credit scoring.\"\u001b[0m\u001b[1m}\u001b[0m,\n",
       "        \u001b[1m{\u001b[0m\u001b[32m'content'\u001b[0m: \u001b[32m'User is currently working on NLP related projects.'\u001b[0m\u001b[1m}\u001b[0m\n",
       "    \u001b[1m]\u001b[0m\n",
       "\u001b[1m}\u001b[0m\n"
      ]
     },
     "metadata": {},
     "output_type": "display_data"
    }
   ],
   "source": [
    "for m in across_thread_memory.search((\"memories\", \"1\")):\n",
    "    console.print(m.value)"
   ]
  },
  {
   "cell_type": "code",
   "execution_count": null,
   "id": "54d0dc9e",
   "metadata": {},
   "outputs": [],
   "source": [
    "import json\n",
    "import re\n",
    "from dataclasses import dataclass\n",
    "from typing import Any, Type, TypeVar\n",
    "\n",
    "from openai import AsyncOpenAI  # type: ignore\n",
    "from pydantic import BaseModel, SecretStr, validate_call\n",
    "\n",
    "T = TypeVar(\"T\", bound=BaseModel)\n",
    "SYSTEM_MESSAGE: str = \"\"\"\n",
    "<system>\n",
    "/no_think\n",
    "\n",
    "<role>\n",
    "You are a data extraction expert. Extract information from the provided text and return ONLY a \n",
    "valid JSON object that matches this exact schema:\n",
    "\n",
    "<schema>\n",
    "{json_schema}\n",
    "</schema>\n",
    "</role>\n",
    "\n",
    "<guidelines>\n",
    "- Return only valid JSON - no explanations, markdown, or additional text\n",
    "- Extract data precisely as it appears in the source text\n",
    "- Do not include fields not present in the schema\n",
    "- For missing required fields, use these defaults:\n",
    "  * Numbers: 0\n",
    "  * Strings: null\n",
    "  * Booleans: false\n",
    "  * Arrays: []\n",
    "  * Objects: {{}}\n",
    "- Preserve original data types and formatting where possible\n",
    "- If text contains ambiguous information, choose the most likely interpretation\n",
    "</guidelines>\n",
    "\n",
    "<validation>\n",
    "Rsponse must:\n",
    "- Be parseable by json.loads\n",
    "- Contain only fields defined in the schema\n",
    "- Use correct data types for each field\n",
    "- Have no trailing commas or syntax errors\n",
    "</validation>\n",
    "\n",
    "</system>\n",
    "\"\"\"\n",
    "\n",
    "SYSTEM_MESSAGE_VLLM: str = \"\"\"\n",
    "<system>\n",
    "/no_think\n",
    "\n",
    "<role>\n",
    "You're an AI assistant that helps people extract relevant information.\n",
    "</role>\n",
    "\n",
    "</system>\n",
    "\"\"\"\n",
    "\n",
    "\n",
    "def _clean_response_text_single_regex(text: str) -> str:\n",
    "    \"\"\"\n",
    "    Clean response text by removing XML-like tags and backticks using regex pattern.\n",
    "\n",
    "    Parameters\n",
    "    ----------\n",
    "    text : str\n",
    "        Input text containing XML-like tags and backticks to be cleaned.\n",
    "\n",
    "    Returns\n",
    "    -------\n",
    "    str\n",
    "        Cleaned text with XML-like tags and backticks removed.\n",
    "    \"\"\"\n",
    "    pattern: str = r\"<think>.*?</think>|`+json|`+\"\n",
    "    cleaned_text: str = re.sub(pattern, \"\", text, flags=re.DOTALL)\n",
    "\n",
    "    return cleaned_text.strip()\n",
    "\n",
    "\n",
    "@dataclass\n",
    "class LLMResponse:\n",
    "    \"\"\"Class for handling LLM API responses.\n",
    "\n",
    "    Parameters\n",
    "    ----------\n",
    "    api_key : SecretStr\n",
    "        The API key for authentication.\n",
    "    base_url : str\n",
    "        The base URL for the API endpoint.\n",
    "    model : str\n",
    "        The name of the LLM model to use.\n",
    "    \"\"\"\n",
    "\n",
    "    api_key: SecretStr\n",
    "    base_url: str\n",
    "    model: str\n",
    "    use_vllm: bool = False\n",
    "\n",
    "    def _get_client(self) -> AsyncOpenAI:\n",
    "        \"\"\"Get an instance of the OpenAI client.\"\"\"\n",
    "        return AsyncOpenAI(\n",
    "            api_key=self.api_key.get_secret_value(),\n",
    "            base_url=self.base_url,\n",
    "            max_retries=3,\n",
    "            timeout=180,  # type: ignore\n",
    "        )\n",
    "\n",
    "    @validate_call\n",
    "    async def ainvoke(\n",
    "        self, messages: list[dict[str, str]]\n",
    "    ) -> tuple[str, Type[T]] | tuple[None, dict[str, str]]:\n",
    "        \"\"\"Asynchronously invoke the LLM API with the given messages.\n",
    "\n",
    "        Parameters\n",
    "        ----------\n",
    "        messages : list[dict[str, str]]\n",
    "            List of message dictionaries containing role and content.\n",
    "\n",
    "        Returns\n",
    "        -------\n",
    "        tuple[str, Type[T]] | tuple[None, dict[str, str]]\n",
    "            A tuple containing either:\n",
    "            - (content, raw_response)\n",
    "            - (None, error_info)\n",
    "\n",
    "        \"\"\"\n",
    "        try:\n",
    "            aclient: AsyncOpenAI = self._get_client()\n",
    "\n",
    "            raw_response = await aclient.chat.completions.create(  # type: ignore\n",
    "                model=self.model,\n",
    "                messages=messages,  # type: ignore\n",
    "                temperature=0,\n",
    "                seed=42,\n",
    "            )\n",
    "\n",
    "            content = _clean_response_text_single_regex(raw_response.choices[0].message.content)  # type: ignore\n",
    "            return (content, raw_response)  # type: ignore\n",
    "\n",
    "        except Exception as e:\n",
    "            return (None, {\"status\": \"error\", \"error\": str(e)})  # type: ignore\n",
    "\n",
    "    @validate_call\n",
    "    async def get_structured_response(\n",
    "        self, message: str, response_model: Type[T]\n",
    "    ) -> tuple[Type[T], Type[T]] | tuple[None, dict[str, str]]:\n",
    "        \"\"\"Get structured response from OpenAI API.\n",
    "\n",
    "        Parameters\n",
    "        ----------\n",
    "            message : str\n",
    "                The user message to send to the API.\n",
    "            response_model : Type[T]\n",
    "                The Pydantic model class to validate the response.\n",
    "\n",
    "        Returns\n",
    "        -------\n",
    "        A tuple containing either:\n",
    "        - (structured_output, raw_response)\n",
    "        - (None, error_info)\n",
    "        \"\"\"\n",
    "        try:\n",
    "            aclient: AsyncOpenAI = self._get_client()\n",
    "            json_schema: dict[str, str] = response_model.model_json_schema()\n",
    "            if not self.use_vllm:\n",
    "                raw_response: Type[T] = await aclient.chat.completions.create(  # type: ignore\n",
    "                    model=self.model,\n",
    "                    messages=[\n",
    "                        {\n",
    "                            \"role\": \"system\",\n",
    "                            \"content\": SYSTEM_MESSAGE.format(json_schema=json_schema),\n",
    "                        },\n",
    "                        {\"role\": \"user\", \"content\": message},\n",
    "                    ],\n",
    "                    response_format={\"type\": \"json_schema\", \"schema\": json_schema, \"strict\": True},\n",
    "                    temperature=0,\n",
    "                    seed=42,\n",
    "                )\n",
    "\n",
    "                _value = _clean_response_text_single_regex(raw_response.choices[0].message.content)  # type: ignore\n",
    "                structured_output: Type[T] = response_model.model_validate(json.loads(_value))  # type: ignore\n",
    "                return (structured_output, raw_response)  # type: ignore\n",
    "\n",
    "            raw_response = await aclient.chat.completions.create(  # type: ignore\n",
    "                model=self.model,\n",
    "                messages=[\n",
    "                    {\"role\": \"system\", \"content\": SYSTEM_MESSAGE_VLLM},\n",
    "                    {\"role\": \"user\", \"content\": message},\n",
    "                ],\n",
    "                extra_body={\"enable_thinking\": False, \"guided_json\": json_schema},\n",
    "                temperature=0,\n",
    "                seed=42,\n",
    "            )\n",
    "\n",
    "            _value = _clean_response_text_single_regex(raw_response.choices[0].message.content)  # type: ignore\n",
    "            structured_output = response_model.model_validate(json.loads(_value))  # type: ignore\n",
    "            return (structured_output, raw_response)  # type: ignore\n",
    "\n",
    "        except Exception as e:\n",
    "            return (\n",
    "                None,\n",
    "                {\"status\": \"error\", \"error\": str(e)},\n",
    "            )\n",
    "\n",
    "\n",
    "@validate_call\n",
    "def convert_openai_messages_to_string(messages: list[dict[str, Any]]) -> str:\n",
    "    \"\"\"\n",
    "    Convert a list of OpenAI messages to a formatted string representation.\n",
    "\n",
    "    Parameters\n",
    "    ----------\n",
    "    messages : list[dict[str, Any]]\n",
    "        List of OpenAI message dictionaries containing 'role' and 'content' keys.\n",
    "\n",
    "    Returns\n",
    "    -------\n",
    "    str\n",
    "        A formatted string with each message's role and content on separate lines.\n",
    "    \"\"\"\n",
    "    msgs: list[str] = [f\"\\nRole: {msg['role']}\\nContent: {msg['content']}\" for msg in messages]\n",
    "    return \"\\n\".join(msgs)\n"
   ]
  },
  {
   "cell_type": "code",
   "execution_count": null,
   "id": "da8b176a",
   "metadata": {},
   "outputs": [],
   "source": []
  }
 ],
 "metadata": {
  "kernelspec": {
   "display_name": ".venv",
   "language": "python",
   "name": "python3"
  },
  "language_info": {
   "codemirror_mode": {
    "name": "ipython",
    "version": 3
   },
   "file_extension": ".py",
   "mimetype": "text/x-python",
   "name": "python",
   "nbconvert_exporter": "python",
   "pygments_lexer": "ipython3",
   "version": "3.12.7"
  }
 },
 "nbformat": 4,
 "nbformat_minor": 5
}
