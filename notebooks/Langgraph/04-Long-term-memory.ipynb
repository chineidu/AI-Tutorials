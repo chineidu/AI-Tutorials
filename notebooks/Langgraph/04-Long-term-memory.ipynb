{
 "cells": [
  {
   "cell_type": "markdown",
   "id": "dc0ce639",
   "metadata": {},
   "source": [
    "<a id=\"top\"></a>\n",
    "# Content\n",
    "\n",
    "\n",
    "### 1. [Map Reduce](#map-reduce)\n",
    "\n",
    "### 2. [Short Term vs Long Term Memory](#short-term-vs-long-term-memory)\n",
    "\n",
    "### 3. [Chatbot with Profile Schema](#chatbot-with-profile-schema)\n",
    "\n",
    "### 4. [Chatbot with Profile Collection](#chatbot-with-profile-collection)\n"
   ]
  },
  {
   "cell_type": "code",
   "execution_count": 1,
   "id": "5b2aa0f1",
   "metadata": {},
   "outputs": [],
   "source": [
    "# Built-in library\n",
    "import asyncio\n",
    "import json\n",
    "import logging\n",
    "import re\n",
    "import warnings\n",
    "from pathlib import Path\n",
    "from pprint import pprint\n",
    "from typing import (\n",
    "    Annotated,\n",
    "    Any,\n",
    "    Generator,\n",
    "    Iterable,\n",
    "    Literal,\n",
    "    Optional,\n",
    "    TypedDict,\n",
    "    Union,\n",
    ")\n",
    "\n",
    "# Standard imports\n",
    "import nest_asyncio\n",
    "import numpy as np\n",
    "import numpy.typing as npt\n",
    "import pandas as pd\n",
    "import polars as pl\n",
    "from rich.console import Console\n",
    "from rich.theme import Theme\n",
    "\n",
    "custom_theme = Theme(\n",
    "    {\n",
    "        \"white\": \"#FFFFFF\",  # Bright white\n",
    "        \"info\": \"#00FF00\",  # Bright green\n",
    "        \"warning\": \"#FFD700\",  # Bright gold\n",
    "        \"error\": \"#FF1493\",  # Deep pink\n",
    "        \"success\": \"#00FFFF\",  # Cyan\n",
    "        \"highlight\": \"#FF4500\",  # Orange-red\n",
    "    }\n",
    ")\n",
    "console = Console(theme=custom_theme)\n",
    "\n",
    "# Visualization\n",
    "# import matplotlib.pyplot as pltife\n",
    "\n",
    "# NumPy settings\n",
    "np.set_printoptions(precision=4)\n",
    "\n",
    "# Pandas settings\n",
    "pd.options.display.max_rows = 1_000\n",
    "pd.options.display.max_columns = 1_000\n",
    "pd.options.display.max_colwidth = 600\n",
    "\n",
    "# Polars settings\n",
    "pl.Config.set_fmt_str_lengths(1_000)\n",
    "pl.Config.set_tbl_cols(n=1_000)\n",
    "\n",
    "warnings.filterwarnings(\"ignore\")\n",
    "\n",
    "# Black code formatter (Optional)\n",
    "%load_ext lab_black\n",
    "\n",
    "# auto reload imports\n",
    "%load_ext autoreload\n",
    "%autoreload 2"
   ]
  },
  {
   "cell_type": "code",
   "execution_count": 2,
   "metadata": {},
   "outputs": [],
   "source": [
    "def go_up_from_current_directory(*, go_up: int = 1) -> None:\n",
    "    \"\"\"This is used to up a number of directories.\n",
    "\n",
    "    Params:\n",
    "    -------\n",
    "    go_up: int, default=1\n",
    "        This indicates the number of times to go back up from the current directory.\n",
    "\n",
    "    Returns:\n",
    "    --------\n",
    "    None\n",
    "    \"\"\"\n",
    "    import os\n",
    "    import sys\n",
    "\n",
    "    CONST: str = \"../\"\n",
    "    NUM: str = CONST * go_up\n",
    "\n",
    "    # Goto the previous directory\n",
    "    prev_directory = os.path.join(os.path.dirname(__name__), NUM)\n",
    "    # Get the 'absolute path' of the previous directory\n",
    "    abs_path_prev_directory = os.path.abspath(prev_directory)\n",
    "\n",
    "    # Add the path to the System paths\n",
    "    sys.path.insert(0, abs_path_prev_directory)\n",
    "    print(abs_path_prev_directory)"
   ]
  },
  {
   "cell_type": "code",
   "execution_count": 18,
   "id": "8d4f1fe2",
   "metadata": {},
   "outputs": [
    {
     "name": "stdout",
     "output_type": "stream",
     "text": [
      "/Users/neidu/Desktop/Projects/Personal/My_Projects/AI-Tutorials\n"
     ]
    }
   ],
   "source": [
    "go_up_from_current_directory(go_up=2)\n",
    "\n",
    "\n",
    "from schemas import ModelEnum  # noqa: E402\n",
    "from settings import refresh_settings  # noqa: E402\n",
    "from src.utilities.llm_utils import (\n",
    "    LLMResponse,\n",
    "    convert_to_openai_messages,\n",
    ")  # noqa: E402\n",
    "from utilities.client_utils import check_rate_limit  # noqa: E402\n",
    "\n",
    "settings = refresh_settings()"
   ]
  },
  {
   "cell_type": "code",
   "execution_count": 5,
   "id": "d6270200",
   "metadata": {},
   "outputs": [
    {
     "name": "stdout",
     "output_type": "stream",
     "text": [
      "{\n",
      "  \"data\": {\n",
      "    \"label\": \"sk-or-v1-902...c45\",\n",
      "    \"limit\": 5,\n",
      "    \"usage\": 3.7253450895,\n",
      "    \"is_provisioning_key\": false,\n",
      "    \"limit_remaining\": 1.2746549104999998,\n",
      "    \"is_free_tier\": false,\n",
      "    \"rate_limit\": {\n",
      "      \"requests\": 20,\n",
      "      \"interval\": \"10s\"\n",
      "    }\n",
      "  }\n",
      "}\n"
     ]
    }
   ],
   "source": [
    "check_rate_limit()"
   ]
  },
  {
   "cell_type": "code",
   "execution_count": 6,
   "id": "16d37a7b",
   "metadata": {},
   "outputs": [],
   "source": [
    "from typing import Any, Type\n",
    "\n",
    "from pydantic import BaseModel, SecretStr\n",
    "\n",
    "\n",
    "def validate_data(\n",
    "    data: dict[str, Any], state: dict[str, Any], response_model: Type[BaseModel]\n",
    ") -> None:\n",
    "    \"\"\"Validate that input data matches the expected response model structure.\n",
    "\n",
    "    Parameters\n",
    "    ----------\n",
    "    data : dict[str, Any]\n",
    "        The input data dictionary to validate\n",
    "    state : dict[str, Any]\n",
    "        The state dictionary to update with input data\n",
    "    response_model : Type[BaseModel]\n",
    "        The Pydantic model class to validate against\n",
    "\n",
    "    Returns\n",
    "    -------\n",
    "    None\n",
    "        Function performs validation through assertions\n",
    "\n",
    "    Raises\n",
    "    ------\n",
    "    AssertionError\n",
    "        If data is not a dictionary, state is not a dictionary, or fails model validation\n",
    "    \"\"\"\n",
    "    assert isinstance(data, dict), \"Data must be a dictionary\"\n",
    "    assert isinstance(state, dict), \"Data must be a dictionary\"\n",
    "    state.update(data)\n",
    "\n",
    "    assert response_model(**state), \"Data is not valid\""
   ]
  },
  {
   "cell_type": "markdown",
   "id": "c19e52c4",
   "metadata": {},
   "source": [
    "<br>\n",
    "\n",
    "### LangGraph Imports"
   ]
  },
  {
   "cell_type": "code",
   "execution_count": 7,
   "id": "82f1daba",
   "metadata": {},
   "outputs": [],
   "source": [
    "from IPython.display import Image, display\n",
    "from langchain.chat_models import init_chat_model\n",
    "from langchain_core.messages import (\n",
    "    AIMessage,\n",
    "    AnyMessage,\n",
    "    HumanMessage,\n",
    "    SystemMessage,\n",
    "    ToolMessage,\n",
    ")\n",
    "from langchain_core.tools import InjectedToolCallId, tool\n",
    "from langchain_litellm import ChatLiteLLM\n",
    "from langchain_tavily import TavilySearch\n",
    "from langfuse.langchain import CallbackHandler\n",
    "from langgraph.checkpoint.memory import MemorySaver\n",
    "from langgraph.graph import END, START, StateGraph\n",
    "from langgraph.graph.message import add_messages\n",
    "from langgraph.prebuilt import ToolNode, tools_condition\n",
    "from langgraph.types import Command, interrupt"
   ]
  },
  {
   "cell_type": "code",
   "execution_count": 8,
   "id": "b9c6b95d",
   "metadata": {},
   "outputs": [],
   "source": [
    "from langchain_core.language_models.chat_models import BaseChatModel\n",
    "\n",
    "subject_prompt: str = \"\"\"\n",
    "<system>\n",
    "\n",
    "Generate a list of 3 sub-topics that are all \n",
    "related to this overall topic:\n",
    "\n",
    "<topic>\n",
    "{topic!r} \n",
    "</topic>\n",
    "\n",
    "</system>\n",
    "\"\"\"\n",
    "\n",
    "joke_prompt: str = \"\"\"\n",
    "<system>\n",
    "Generate a joke about:\n",
    "\n",
    "<subject>\n",
    "{subject!r}\n",
    "</subject>\n",
    "\n",
    "</system>\n",
    "\"\"\"\n",
    "\n",
    "best_joke_prompt: str = \"\"\"\n",
    "<system>\n",
    "Below are a bunch of jokes about:\n",
    "\n",
    "<topic>\n",
    "{topic!r}.\n",
    "</topic>\n",
    "\n",
    "Select the best one! Return the ID of the best one, starting 0 \n",
    "as the ID for the first joke. \n",
    "<jokes>\n",
    "{jokes}\n",
    "</jokes>\n",
    "\n",
    "<output>\n",
    "Return the ID of the best joke as an integer.\n",
    "</output>\n",
    "\n",
    "</system>\n",
    "\"\"\""
   ]
  },
  {
   "cell_type": "markdown",
   "id": "47d08894",
   "metadata": {},
   "source": [
    "### Initialize the LLM"
   ]
  },
  {
   "cell_type": "code",
   "execution_count": 14,
   "id": "94400eee",
   "metadata": {},
   "outputs": [
    {
     "data": {
      "text/html": [
       "<pre style=\"white-space:pre;overflow-x:auto;line-height:normal;font-family:Menlo,'DejaVu Sans Mono',consolas,'Courier New',monospace\"><span style=\"color: #800080; text-decoration-color: #800080; font-weight: bold\">LLMResponse</span><span style=\"font-weight: bold\">(</span>\n",
       "    <span style=\"color: #808000; text-decoration-color: #808000\">api_key</span>=<span style=\"color: #800080; text-decoration-color: #800080; font-weight: bold\">SecretStr</span><span style=\"font-weight: bold\">(</span><span style=\"color: #008000; text-decoration-color: #008000\">'**********'</span><span style=\"font-weight: bold\">)</span>,\n",
       "    <span style=\"color: #808000; text-decoration-color: #808000\">base_url</span>=<span style=\"color: #008000; text-decoration-color: #008000\">'https://openrouter.ai/api/v1'</span>,\n",
       "    <span style=\"color: #808000; text-decoration-color: #808000\">model</span>=<span style=\"font-weight: bold\">&lt;</span><span style=\"color: #ff00ff; text-decoration-color: #ff00ff; font-weight: bold\">ModelEnum.LLAMA_3p2_3B_INSTRUCT_REMOTE:</span><span style=\"color: #000000; text-decoration-color: #000000\"> </span><span style=\"color: #008000; text-decoration-color: #008000\">'meta-llama/llama-3.2-3b-instruct'</span><span style=\"font-weight: bold\">&gt;</span>\n",
       "<span style=\"font-weight: bold\">)</span>\n",
       "</pre>\n"
      ],
      "text/plain": [
       "\u001b[1;35mLLMResponse\u001b[0m\u001b[1m(\u001b[0m\n",
       "    \u001b[33mapi_key\u001b[0m=\u001b[1;35mSecretStr\u001b[0m\u001b[1m(\u001b[0m\u001b[32m'**********'\u001b[0m\u001b[1m)\u001b[0m,\n",
       "    \u001b[33mbase_url\u001b[0m=\u001b[32m'https://openrouter.ai/api/v1'\u001b[0m,\n",
       "    \u001b[33mmodel\u001b[0m=\u001b[1m<\u001b[0m\u001b[1;95mModelEnum.LLAMA_3p2_3B_INSTRUCT_REMOTE:\u001b[0m\u001b[39m \u001b[0m\u001b[32m'meta-llama/llama-3.2-3b-instruct'\u001b[0m\u001b[1m>\u001b[0m\n",
       "\u001b[1m)\u001b[0m\n"
      ]
     },
     "metadata": {},
     "output_type": "display_data"
    }
   ],
   "source": [
    "llm = LLMResponse(\n",
    "    api_key=settings.OPENROUTER_API_KEY,\n",
    "    base_url=settings.OPENROUTER_URL,\n",
    "    model=ModelEnum.LLAMA_3p2_3B_INSTRUCT_REMOTE,\n",
    ")\n",
    "console.print(llm)"
   ]
  },
  {
   "cell_type": "code",
   "execution_count": 15,
   "id": "7dc3266b",
   "metadata": {},
   "outputs": [
    {
     "data": {
      "text/plain": [
       "'Here are 3 sub-topics related to the overall topic \"Types of animals\":\\n\\n<system>\\n\\n<topic>\\n\\'Mammals\\'\\n</topic>\\n\\n<topic>\\n\\'Insects\\'\\n</topic>\\n\\n<topic>\\n\\'Fish and Aquatic Animals\\'\\n</topic>\\n\\n</system>'"
      ]
     },
     "execution_count": 15,
     "metadata": {},
     "output_type": "execute_result"
    }
   ],
   "source": [
    "messages: list[dict[str, str]] = [\n",
    "    {\n",
    "        \"role\": \"system\",\n",
    "        \"content\": subject_prompt.format(topic=\"Types of animals\"),\n",
    "    }\n",
    "]\n",
    "\n",
    "await llm.ainvoke(messages=messages)"
   ]
  },
  {
   "cell_type": "markdown",
   "id": "5aa09db5",
   "metadata": {},
   "source": [
    "## Parallelizing Joke Generation\n",
    "\n",
    "- Define a graph that will:\n",
    "  - take a user input topic\n",
    "  - produce a list of joke topics fro it\n",
    "  - send each joke topic to the LLM\n",
    "- The state has a `jokes` key that will accumulate jokes from parallelized joke generations."
   ]
  },
  {
   "cell_type": "code",
   "execution_count": 16,
   "id": "9c1250a6",
   "metadata": {},
   "outputs": [],
   "source": [
    "from pydantic import BaseModel, Field\n",
    "\n",
    "\n",
    "class Subjects(BaseModel):\n",
    "    subjects: list[str] = Field(description=\"List of subjects related to the topic.\")\n",
    "\n",
    "\n",
    "class BestJoke(BaseModel):\n",
    "    id: int = Field(description=\"ID of the best joke selected from the list of jokes.\")\n",
    "\n",
    "\n",
    "class OverallState(TypedDict):\n",
    "    topic: str\n",
    "    subjects: list[str]\n",
    "    jokes: Annotated[list[str], add_messages]\n",
    "    best_selected_joke: str\n",
    "\n",
    "\n",
    "class JokeState(TypedDict):\n",
    "    subject: str\n",
    "\n",
    "\n",
    "class Joke(BaseModel):\n",
    "    joke: str"
   ]
  },
  {
   "cell_type": "markdown",
   "id": "273e25bd",
   "metadata": {},
   "source": [
    "#### Test The Code"
   ]
  },
  {
   "cell_type": "code",
   "execution_count": 17,
   "id": "810c534d",
   "metadata": {},
   "outputs": [
    {
     "data": {
      "text/html": [
       "<pre style=\"white-space:pre;overflow-x:auto;line-height:normal;font-family:Menlo,'DejaVu Sans Mono',consolas,'Courier New',monospace\"><span style=\"color: #800080; text-decoration-color: #800080; font-weight: bold\">ChatCompletion</span><span style=\"font-weight: bold\">(</span>\n",
       "    <span style=\"color: #808000; text-decoration-color: #808000\">id</span>=<span style=\"color: #008000; text-decoration-color: #008000\">'gen-1750536955-4fvPB925EfQZj691UyI1'</span>,\n",
       "    <span style=\"color: #808000; text-decoration-color: #808000\">choices</span>=<span style=\"font-weight: bold\">[</span>\n",
       "        <span style=\"color: #800080; text-decoration-color: #800080; font-weight: bold\">Choice</span><span style=\"font-weight: bold\">(</span>\n",
       "            <span style=\"color: #808000; text-decoration-color: #808000\">finish_reason</span>=<span style=\"color: #008000; text-decoration-color: #008000\">'stop'</span>,\n",
       "            <span style=\"color: #808000; text-decoration-color: #808000\">index</span>=<span style=\"color: #008080; text-decoration-color: #008080; font-weight: bold\">0</span>,\n",
       "            <span style=\"color: #808000; text-decoration-color: #808000\">logprobs</span>=<span style=\"color: #800080; text-decoration-color: #800080; font-style: italic\">None</span>,\n",
       "            <span style=\"color: #808000; text-decoration-color: #808000\">message</span>=<span style=\"color: #800080; text-decoration-color: #800080; font-weight: bold\">ChatCompletionMessage</span><span style=\"font-weight: bold\">(</span>\n",
       "                <span style=\"color: #808000; text-decoration-color: #808000\">content</span>=<span style=\"color: #008000; text-decoration-color: #008000\">'{\"subjects\": [\"Mammals\", \"Birds\", \"Reptiles\"]}'</span>,\n",
       "                <span style=\"color: #808000; text-decoration-color: #808000\">refusal</span>=<span style=\"color: #800080; text-decoration-color: #800080; font-style: italic\">None</span>,\n",
       "                <span style=\"color: #808000; text-decoration-color: #808000\">role</span>=<span style=\"color: #008000; text-decoration-color: #008000\">'assistant'</span>,\n",
       "                <span style=\"color: #808000; text-decoration-color: #808000\">annotations</span>=<span style=\"color: #800080; text-decoration-color: #800080; font-style: italic\">None</span>,\n",
       "                <span style=\"color: #808000; text-decoration-color: #808000\">audio</span>=<span style=\"color: #800080; text-decoration-color: #800080; font-style: italic\">None</span>,\n",
       "                <span style=\"color: #808000; text-decoration-color: #808000\">function_call</span>=<span style=\"color: #800080; text-decoration-color: #800080; font-style: italic\">None</span>,\n",
       "                <span style=\"color: #808000; text-decoration-color: #808000\">tool_calls</span>=<span style=\"color: #800080; text-decoration-color: #800080; font-style: italic\">None</span>,\n",
       "                <span style=\"color: #808000; text-decoration-color: #808000\">reasoning</span>=<span style=\"color: #800080; text-decoration-color: #800080; font-style: italic\">None</span>\n",
       "            <span style=\"font-weight: bold\">)</span>,\n",
       "            <span style=\"color: #808000; text-decoration-color: #808000\">native_finish_reason</span>=<span style=\"color: #008000; text-decoration-color: #008000\">'stop'</span>\n",
       "        <span style=\"font-weight: bold\">)</span>\n",
       "    <span style=\"font-weight: bold\">]</span>,\n",
       "    <span style=\"color: #808000; text-decoration-color: #808000\">created</span>=<span style=\"color: #008080; text-decoration-color: #008080; font-weight: bold\">1750536957</span>,\n",
       "    <span style=\"color: #808000; text-decoration-color: #808000\">model</span>=<span style=\"color: #008000; text-decoration-color: #008000\">'meta-llama/llama-3.2-3b-instruct'</span>,\n",
       "    <span style=\"color: #808000; text-decoration-color: #808000\">object</span>=<span style=\"color: #008000; text-decoration-color: #008000\">'chat.completion'</span>,\n",
       "    <span style=\"color: #808000; text-decoration-color: #808000\">service_tier</span>=<span style=\"color: #800080; text-decoration-color: #800080; font-style: italic\">None</span>,\n",
       "    <span style=\"color: #808000; text-decoration-color: #808000\">system_fingerprint</span>=<span style=\"color: #800080; text-decoration-color: #800080; font-style: italic\">None</span>,\n",
       "    <span style=\"color: #808000; text-decoration-color: #808000\">usage</span>=<span style=\"color: #800080; text-decoration-color: #800080; font-weight: bold\">CompletionUsage</span><span style=\"font-weight: bold\">(</span>\n",
       "        <span style=\"color: #808000; text-decoration-color: #808000\">completion_tokens</span>=<span style=\"color: #008080; text-decoration-color: #008080; font-weight: bold\">18</span>,\n",
       "        <span style=\"color: #808000; text-decoration-color: #808000\">prompt_tokens</span>=<span style=\"color: #008080; text-decoration-color: #008080; font-weight: bold\">299</span>,\n",
       "        <span style=\"color: #808000; text-decoration-color: #808000\">total_tokens</span>=<span style=\"color: #008080; text-decoration-color: #008080; font-weight: bold\">317</span>,\n",
       "        <span style=\"color: #808000; text-decoration-color: #808000\">completion_tokens_details</span>=<span style=\"color: #800080; text-decoration-color: #800080; font-style: italic\">None</span>,\n",
       "        <span style=\"color: #808000; text-decoration-color: #808000\">prompt_tokens_details</span>=<span style=\"color: #800080; text-decoration-color: #800080; font-style: italic\">None</span>\n",
       "    <span style=\"font-weight: bold\">)</span>,\n",
       "    <span style=\"color: #808000; text-decoration-color: #808000\">provider</span>=<span style=\"color: #008000; text-decoration-color: #008000\">'Together'</span>\n",
       "<span style=\"font-weight: bold\">)</span>\n",
       "</pre>\n"
      ],
      "text/plain": [
       "\u001b[1;35mChatCompletion\u001b[0m\u001b[1m(\u001b[0m\n",
       "    \u001b[33mid\u001b[0m=\u001b[32m'gen-1750536955-4fvPB925EfQZj691UyI1'\u001b[0m,\n",
       "    \u001b[33mchoices\u001b[0m=\u001b[1m[\u001b[0m\n",
       "        \u001b[1;35mChoice\u001b[0m\u001b[1m(\u001b[0m\n",
       "            \u001b[33mfinish_reason\u001b[0m=\u001b[32m'stop'\u001b[0m,\n",
       "            \u001b[33mindex\u001b[0m=\u001b[1;36m0\u001b[0m,\n",
       "            \u001b[33mlogprobs\u001b[0m=\u001b[3;35mNone\u001b[0m,\n",
       "            \u001b[33mmessage\u001b[0m=\u001b[1;35mChatCompletionMessage\u001b[0m\u001b[1m(\u001b[0m\n",
       "                \u001b[33mcontent\u001b[0m=\u001b[32m'\u001b[0m\u001b[32m{\u001b[0m\u001b[32m\"subjects\": \u001b[0m\u001b[32m[\u001b[0m\u001b[32m\"Mammals\", \"Birds\", \"Reptiles\"\u001b[0m\u001b[32m]\u001b[0m\u001b[32m}\u001b[0m\u001b[32m'\u001b[0m,\n",
       "                \u001b[33mrefusal\u001b[0m=\u001b[3;35mNone\u001b[0m,\n",
       "                \u001b[33mrole\u001b[0m=\u001b[32m'assistant'\u001b[0m,\n",
       "                \u001b[33mannotations\u001b[0m=\u001b[3;35mNone\u001b[0m,\n",
       "                \u001b[33maudio\u001b[0m=\u001b[3;35mNone\u001b[0m,\n",
       "                \u001b[33mfunction_call\u001b[0m=\u001b[3;35mNone\u001b[0m,\n",
       "                \u001b[33mtool_calls\u001b[0m=\u001b[3;35mNone\u001b[0m,\n",
       "                \u001b[33mreasoning\u001b[0m=\u001b[3;35mNone\u001b[0m\n",
       "            \u001b[1m)\u001b[0m,\n",
       "            \u001b[33mnative_finish_reason\u001b[0m=\u001b[32m'stop'\u001b[0m\n",
       "        \u001b[1m)\u001b[0m\n",
       "    \u001b[1m]\u001b[0m,\n",
       "    \u001b[33mcreated\u001b[0m=\u001b[1;36m1750536957\u001b[0m,\n",
       "    \u001b[33mmodel\u001b[0m=\u001b[32m'meta-llama/llama-3.2-3b-instruct'\u001b[0m,\n",
       "    \u001b[33mobject\u001b[0m=\u001b[32m'chat.completion'\u001b[0m,\n",
       "    \u001b[33mservice_tier\u001b[0m=\u001b[3;35mNone\u001b[0m,\n",
       "    \u001b[33msystem_fingerprint\u001b[0m=\u001b[3;35mNone\u001b[0m,\n",
       "    \u001b[33musage\u001b[0m=\u001b[1;35mCompletionUsage\u001b[0m\u001b[1m(\u001b[0m\n",
       "        \u001b[33mcompletion_tokens\u001b[0m=\u001b[1;36m18\u001b[0m,\n",
       "        \u001b[33mprompt_tokens\u001b[0m=\u001b[1;36m299\u001b[0m,\n",
       "        \u001b[33mtotal_tokens\u001b[0m=\u001b[1;36m317\u001b[0m,\n",
       "        \u001b[33mcompletion_tokens_details\u001b[0m=\u001b[3;35mNone\u001b[0m,\n",
       "        \u001b[33mprompt_tokens_details\u001b[0m=\u001b[3;35mNone\u001b[0m\n",
       "    \u001b[1m)\u001b[0m,\n",
       "    \u001b[33mprovider\u001b[0m=\u001b[32m'Together'\u001b[0m\n",
       "\u001b[1m)\u001b[0m\n"
      ]
     },
     "metadata": {},
     "output_type": "display_data"
    },
    {
     "name": "stdout",
     "output_type": "stream",
     "text": [
      "--------------------------------------------------------------------------------------------------------------------------------------------------------------------------------------------------------\n"
     ]
    },
    {
     "data": {
      "text/html": [
       "<pre style=\"white-space:pre;overflow-x:auto;line-height:normal;font-family:Menlo,'DejaVu Sans Mono',consolas,'Courier New',monospace\"><span style=\"color: #800080; text-decoration-color: #800080; font-weight: bold\">Subjects</span><span style=\"font-weight: bold\">(</span><span style=\"color: #808000; text-decoration-color: #808000\">subjects</span>=<span style=\"font-weight: bold\">[</span><span style=\"color: #008000; text-decoration-color: #008000\">'Mammals'</span>, <span style=\"color: #008000; text-decoration-color: #008000\">'Birds'</span>, <span style=\"color: #008000; text-decoration-color: #008000\">'Reptiles'</span><span style=\"font-weight: bold\">])</span>\n",
       "</pre>\n"
      ],
      "text/plain": [
       "\u001b[1;35mSubjects\u001b[0m\u001b[1m(\u001b[0m\u001b[33msubjects\u001b[0m=\u001b[1m[\u001b[0m\u001b[32m'Mammals'\u001b[0m, \u001b[32m'Birds'\u001b[0m, \u001b[32m'Reptiles'\u001b[0m\u001b[1m]\u001b[0m\u001b[1m)\u001b[0m\n"
      ]
     },
     "metadata": {},
     "output_type": "display_data"
    }
   ],
   "source": [
    "# Using a custom structured output model\n",
    "structured_output, raw_response = await llm.get_structured_response(\n",
    "    message=subject_prompt.format(topic=\"types of animals\"),\n",
    "    response_model=Subjects,\n",
    ")\n",
    "console.print(raw_response)\n",
    "print(\"----\" * 50)\n",
    "console.print(structured_output)"
   ]
  },
  {
   "cell_type": "code",
   "execution_count": null,
   "id": "08fbdb4e",
   "metadata": {},
   "outputs": [],
   "source": [
    "async def generate_topics(state: OverallState) -> dict[str, Any]:\n",
    "    \"\"\"Generate a list of subjects based on a given topic.\n",
    "\n",
    "    Parameters\n",
    "    ----------\n",
    "        state (OverallState): The current state containing the topic to generate subjects for.\n",
    "            Expected to have a 'topic' key with a string value.\n",
    "\n",
    "    Returns\n",
    "    -------\n",
    "        dict[str, Any]\n",
    "\n",
    "    \"\"\"\n",
    "    prompt: str = subject_prompt.format(topic=state[\"topic\"])\n",
    "\n",
    "    response, _ = await llm.get_structured_response(message=prompt, response_model=Subjects)\n",
    "    return {\"subjects\": response.subjects}"
   ]
  },
  {
   "cell_type": "code",
   "execution_count": 23,
   "id": "f4f24cc4",
   "metadata": {},
   "outputs": [
    {
     "data": {
      "text/plain": [
       "{'subjects': ['Mammals', 'Birds', 'Reptiles']}"
      ]
     },
     "execution_count": 23,
     "metadata": {},
     "output_type": "execute_result"
    }
   ],
   "source": [
    "await generate_topics({\"topic\": \"Types of animals\"})"
   ]
  },
  {
   "cell_type": "markdown",
   "id": "fc3a5799",
   "metadata": {},
   "source": [
    "### Send Function\n",
    "\n",
    "- In LangGraph, Nodes and Edges usually share a predefined state. However, for dynamic cases like map-reduce, LangGraph uses `Send` objects in conditional edges.\n",
    "- It can be used to parallelize tasks."
   ]
  },
  {
   "cell_type": "code",
   "execution_count": null,
   "id": "28261c4d",
   "metadata": {},
   "outputs": [],
   "source": [
    "from langgraph.constants import Send\n",
    "\n",
    "\n",
    "def continue_to_jokes(state: OverallState) -> list[Send]:\n",
    "    \"\"\"\n",
    "    Generate N number of jokes in parallel by sending them to the required nodes.\n",
    "\n",
    "    Parameters\n",
    "    ----------\n",
    "    state : OverallState\n",
    "        The current state containing subjects for joke generation.\n",
    "\n",
    "    Returns\n",
    "    -------\n",
    "    list[Send]\n",
    "    \"\"\"\n",
    "    return [Send(\"generate_joke\", {\"subject\": s}) for s in state[\"subjects\"]]\n",
    "\n",
    "\n",
    "async def generate_joke(state: JokeState) -> dict[str, Any]:\n",
    "    prompt: str = joke_prompt.format(subject=state[\"subject\"])\n",
    "    response, _ = await llm.get_structured_response(message=prompt, response_model=Joke)\n",
    "\n",
    "    return {\"jokes\": [response.joke]}\n",
    "\n",
    "\n",
    "async def select_best_joke(state: OverallState) -> dict[str, Any]:\n",
    "    \"\"\"\n",
    "    Select the best joke from a list of jokes based on a given topic.\n",
    "    This is a reduction step.\n",
    "\n",
    "    Parameters\n",
    "    ----------\n",
    "    state : OverallState\n",
    "        The current state containing jokes and topic for selection.\n",
    "        Expected keys:\n",
    "            - jokes: list[str | HumanMessage]\n",
    "            - topic: str\n",
    "\n",
    "    Returns\n",
    "    -------\n",
    "    dict[str, Any]\n",
    "        Dictionary containing the best selected joke.\n",
    "        Keys:\n",
    "            - best_selected_joke: str\n",
    "    \"\"\"\n",
    "    if isinstance(state[\"jokes\"][0], HumanMessage):\n",
    "        state[\"jokes\"] = [j.content for j in state[\"jokes\"]]\n",
    "    jokes: str = \"\\n\\n\".join(state[\"jokes\"])\n",
    "    prompt: str = best_joke_prompt.format(topic=state[\"topic\"], jokes=jokes)\n",
    "    response, _ = await llm.get_structured_response(message=prompt, response_model=BestJoke)\n",
    "\n",
    "    return {\"best_selected_joke\": state[\"jokes\"][response.id]}"
   ]
  },
  {
   "cell_type": "code",
   "execution_count": 27,
   "id": "5e13262e",
   "metadata": {},
   "outputs": [
    {
     "name": "stdout",
     "output_type": "stream",
     "text": [
      "==== Prompt for selecting the best joke: ====\n",
      "\n",
      "<system>\n",
      "Below are a bunch of jokes about:\n",
      "\n",
      "<topic>\n",
      "'types of animals'.\n",
      "</topic>\n",
      "\n",
      "Select the best one! Return the ID of the best one, starting 0 \n",
      "as the ID for the first joke. \n",
      "<jokes>\n",
      "Why do seagulls fly over the sea?\n",
      "\n",
      "Why dont mammals ever get locked out of their homes? Because they always carry their keys with them!\n",
      "\n",
      "Why dont reptiles ever forget? Because no one ever lizard them a thing!\n",
      "</jokes>\n",
      "\n",
      "<output>\n",
      "Return the ID of the best joke as an integer.\n",
      "</output>\n",
      "\n",
      "</system>\n",
      "\n",
      "==== Response for selecting the best joke: ====\n",
      "0\n",
      "==== Best joke selected: ====\n",
      "result = {'best_selected_joke': 'Why do seagulls fly over the sea?'}\n"
     ]
    }
   ],
   "source": [
    "_jokes: list[str] = [\n",
    "    \"Why do seagulls fly over the sea?\",\n",
    "    \"Why dont mammals ever get locked out of their homes? Because \"\n",
    "    \"they always carry their keys with them!\",\n",
    "    \"Why dont reptiles ever forget? Because no one ever lizard them a thing!\",\n",
    "]\n",
    "\n",
    "jokes: str = \"\\n\\n\".join(_jokes)\n",
    "prompt: str = best_joke_prompt.format(topic=\"types of animals\", jokes=jokes)\n",
    "print(\"==== Prompt for selecting the best joke: ====\")\n",
    "print(prompt)\n",
    "resp, _ = await llm.get_structured_response(message=prompt, response_model=BestJoke)\n",
    "print(\"==== Response for selecting the best joke: ====\")\n",
    "print(resp.id)\n",
    "result = {\"best_selected_joke\": _jokes[resp.id]}\n",
    "print(\"==== Best joke selected: ====\")\n",
    "print(f\"{result = }\")"
   ]
  },
  {
   "cell_type": "code",
   "execution_count": 28,
   "id": "c2b3fb9b",
   "metadata": {},
   "outputs": [
    {
     "data": {
      "image/png": "[encoded data removed]",
      "text/plain": [
       "<IPython.core.display.Image object>"
      ]
     },
     "metadata": {},
     "output_type": "display_data"
    }
   ],
   "source": [
    "graph_builder = StateGraph(OverallState)\n",
    "\n",
    "# Add nodes\n",
    "graph_builder.add_node(\"generate_topics\", generate_topics)\n",
    "graph_builder.add_node(\"generate_joke\", generate_joke)\n",
    "graph_builder.add_node(\"select_best_joke\", select_best_joke)\n",
    "\n",
    "# Add edges\n",
    "graph_builder.add_edge(START, \"generate_topics\")\n",
    "graph_builder.add_conditional_edges(\n",
    "    \"generate_topics\",\n",
    "    # Generate jokes in parallel by `Sending` the jokes the `generate_joke` node\n",
    "    continue_to_jokes,\n",
    "    [\"generate_joke\"],\n",
    ")\n",
    "graph_builder.add_edge(\"generate_joke\", \"select_best_joke\")\n",
    "graph_builder.add_edge(\"select_best_joke\", END)\n",
    "\n",
    "# Compile the graph\n",
    "graph = graph_builder.compile().with_config(run_name=\"Generate Jokes\")\n",
    "\n",
    "# Visualize the graph\n",
    "display(Image(graph.get_graph(xray=1).draw_mermaid_png()))"
   ]
  },
  {
   "cell_type": "markdown",
   "id": "115a4c18",
   "metadata": {},
   "source": [
    "<br>\n",
    "\n",
    "### Test The Graph"
   ]
  },
  {
   "cell_type": "code",
   "execution_count": 29,
   "id": "d437b4ba",
   "metadata": {},
   "outputs": [
    {
     "name": "stdout",
     "output_type": "stream",
     "text": [
      "{'generate_topics': {'subjects': ['Mammals', 'Birds', 'Reptiles']}}\n",
      "{'generate_joke': {'jokes': ['Why did the snake visit the doctor? Because it had a hissy fit!']}}\n",
      "{'generate_joke': {'jokes': ['Why did the mammal go to the party? Because he heard it was a hair-raising experience!']}}\n",
      "{'generate_joke': {'jokes': ['Why did the bird go to the doctor? It had a fowl cough!']}}\n",
      "{'select_best_joke': {'best_selected_joke': 'Why did the mammal go to the party? Because he heard it was a hair-raising experience!'}}\n"
     ]
    }
   ],
   "source": [
    "topic: str = \"types of animals\"\n",
    "\n",
    "async for s in graph.astream({\"topic\": topic}):\n",
    "    print(s)"
   ]
  },
  {
   "cell_type": "code",
   "execution_count": null,
   "id": "117a299a",
   "metadata": {},
   "outputs": [],
   "source": []
  },
  {
   "cell_type": "markdown",
   "id": "79d12cf0",
   "metadata": {},
   "source": [
    "<a id=\"short-term-vs-long-term-memory\"></a>\n",
    "# 2. Short Term vs Long Term Memory\n",
    "\n",
    "## Memory\n",
    "\n",
    "- Memory is a cognitive function that allows people to store, retrieve, and use information to understand their present and future.\n",
    "\n",
    "- There are various long-term memory types that can be used in AI applications.\n",
    "- We'll build a chatbot that uses both `short-term` (within-thread) and `long-term` (across-thread) memory.\n",
    "- We'll focus on long-term semantic memory, which will be facts about the user.\n",
    "- These long-term memories will be used to create a personalized chatbot that can remember facts about the user."
   ]
  },
  {
   "cell_type": "code",
   "execution_count": null,
   "id": "56f529ab",
   "metadata": {},
   "outputs": [],
   "source": []
  },
  {
   "cell_type": "markdown",
   "id": "95b6c15a",
   "metadata": {},
   "source": [
    "### LangGraph Store\n",
    "\n",
    "- The [LangGraph Memory Store](https://langchain-ai.github.io/langgraph/reference/store/#langgraph.store.base.BaseStore) provides a way to store and retrieve information across threads in LangGraph.\n",
    "- This is an open source base class for persistent key-value stores.\n",
    "\n",
    "- When storing objects (e.g., memories) in the Store, we provide:\n",
    "  - The `namespace` for the object, a tuple (similar to directories)\n",
    "  - the `object key` (similar to filenames)\n",
    "  - the `object value` (similar to file contents)\n",
    "  - We use the `put` method to save an object to the store by `namespace` and `key`."
   ]
  },
  {
   "cell_type": "code",
   "execution_count": 30,
   "id": "d9253bc1",
   "metadata": {},
   "outputs": [],
   "source": [
    "import uuid\n",
    "\n",
    "from langgraph.store.memory import InMemoryStore\n",
    "\n",
    "in_memory_store = InMemoryStore()\n",
    "\n",
    "# Create a namespace to store the data\n",
    "user_id: str = \"1\"\n",
    "prefix: str = \"memories\"\n",
    "namespace_for_memory: tuple[str, str] = (prefix, user_id)\n",
    "key: str = str(uuid.uuid4())\n",
    "\n",
    "# The value MUST be a dictionary\n",
    "value: dict[str, Any] = {\"food_preference\": \"I like pizza\"}\n",
    "\n",
    "# Save the data\n",
    "in_memory_store.put(namespace_for_memory, key, value)"
   ]
  },
  {
   "cell_type": "markdown",
   "id": "7db82591",
   "metadata": {},
   "source": [
    "#### Search"
   ]
  },
  {
   "cell_type": "code",
   "execution_count": 31,
   "id": "1da124c4",
   "metadata": {},
   "outputs": [
    {
     "data": {
      "text/html": [
       "<pre style=\"white-space:pre;overflow-x:auto;line-height:normal;font-family:Menlo,'DejaVu Sans Mono',consolas,'Courier New',monospace\"><span style=\"color: #7fbfbf; text-decoration-color: #7fbfbf\">[21:31:43] </span><span style=\"font-weight: bold\">[</span>                                                                                        <a href=\"file:///var/folders/ny/dl75sc_x2tb54lsymt5bh5p00000gn/T/ipykernel_21152/1831516903.py\" target=\"_blank\"><span style=\"color: #7f7f7f; text-decoration-color: #7f7f7f\">1831516903.py</span></a><span style=\"color: #7f7f7f; text-decoration-color: #7f7f7f\">:</span><a href=\"file:///var/folders/ny/dl75sc_x2tb54lsymt5bh5p00000gn/T/ipykernel_21152/1831516903.py#2\" target=\"_blank\"><span style=\"color: #7f7f7f; text-decoration-color: #7f7f7f\">2</span></a>\n",
       "<span style=\"color: #7fbfbf; text-decoration-color: #7fbfbf\">           </span>    <span style=\"color: #800080; text-decoration-color: #800080; font-weight: bold\">Item</span><span style=\"font-weight: bold\">(</span><span style=\"color: #808000; text-decoration-color: #808000\">namespace</span>=<span style=\"font-weight: bold\">[</span><span style=\"color: #008000; text-decoration-color: #008000\">'memories'</span>, <span style=\"color: #008000; text-decoration-color: #008000\">'1'</span><span style=\"font-weight: bold\">]</span>, <span style=\"color: #808000; text-decoration-color: #808000\">key</span>=<span style=\"color: #008000; text-decoration-color: #008000\">'be0fc070-d5ac-4d27-b1e9-18841e6765dc'</span>,        <span style=\"color: #7f7f7f; text-decoration-color: #7f7f7f\">               </span>\n",
       "<span style=\"color: #7fbfbf; text-decoration-color: #7fbfbf\">           </span><span style=\"color: #808000; text-decoration-color: #808000\">value</span>=<span style=\"font-weight: bold\">{</span><span style=\"color: #008000; text-decoration-color: #008000\">'food_preference'</span>: <span style=\"color: #008000; text-decoration-color: #008000\">'I like pizza'</span><span style=\"font-weight: bold\">}</span>,                                               <span style=\"color: #7f7f7f; text-decoration-color: #7f7f7f\">               </span>\n",
       "<span style=\"color: #7fbfbf; text-decoration-color: #7fbfbf\">           </span><span style=\"color: #808000; text-decoration-color: #808000\">created_at</span>=<span style=\"color: #008000; text-decoration-color: #008000\">'2025-06-21T20:31:40.463715+00:00'</span>,                                           <span style=\"color: #7f7f7f; text-decoration-color: #7f7f7f\">               </span>\n",
       "<span style=\"color: #7fbfbf; text-decoration-color: #7fbfbf\">           </span><span style=\"color: #808000; text-decoration-color: #808000\">updated_at</span>=<span style=\"color: #008000; text-decoration-color: #008000\">'2025-06-21T20:31:40.463719+00:00'</span>, <span style=\"color: #808000; text-decoration-color: #808000\">score</span>=<span style=\"color: #800080; text-decoration-color: #800080; font-style: italic\">None</span><span style=\"font-weight: bold\">)</span>                               <span style=\"color: #7f7f7f; text-decoration-color: #7f7f7f\">               </span>\n",
       "<span style=\"color: #7fbfbf; text-decoration-color: #7fbfbf\">           </span><span style=\"font-weight: bold\">]</span>                                                                                        <span style=\"color: #7f7f7f; text-decoration-color: #7f7f7f\">               </span>\n",
       "</pre>\n"
      ],
      "text/plain": [
       "\u001b[2;36m[21:31:43]\u001b[0m\u001b[2;36m \u001b[0m\u001b[1m[\u001b[0m                                                                                        \u001b]8;id=806108;file:///var/folders/ny/dl75sc_x2tb54lsymt5bh5p00000gn/T/ipykernel_21152/1831516903.py\u001b\\\u001b[2m1831516903.py\u001b[0m\u001b]8;;\u001b\\\u001b[2m:\u001b[0m\u001b]8;id=606871;file:///var/folders/ny/dl75sc_x2tb54lsymt5bh5p00000gn/T/ipykernel_21152/1831516903.py#2\u001b\\\u001b[2m2\u001b[0m\u001b]8;;\u001b\\\n",
       "\u001b[2;36m           \u001b[0m    \u001b[1;35mItem\u001b[0m\u001b[1m(\u001b[0m\u001b[33mnamespace\u001b[0m=\u001b[1m[\u001b[0m\u001b[32m'memories'\u001b[0m, \u001b[32m'1'\u001b[0m\u001b[1m]\u001b[0m, \u001b[33mkey\u001b[0m=\u001b[32m'be0fc070-d5ac-4d27-b1e9-18841e6765dc'\u001b[0m,        \u001b[2m               \u001b[0m\n",
       "\u001b[2;36m           \u001b[0m\u001b[33mvalue\u001b[0m=\u001b[1m{\u001b[0m\u001b[32m'food_preference'\u001b[0m: \u001b[32m'I like pizza'\u001b[0m\u001b[1m}\u001b[0m,                                               \u001b[2m               \u001b[0m\n",
       "\u001b[2;36m           \u001b[0m\u001b[33mcreated_at\u001b[0m=\u001b[32m'2025-06-21T20:31:40.463715+00:00'\u001b[0m,                                           \u001b[2m               \u001b[0m\n",
       "\u001b[2;36m           \u001b[0m\u001b[33mupdated_at\u001b[0m=\u001b[32m'2025-06-21T20:31:40.463719+00:00'\u001b[0m, \u001b[33mscore\u001b[0m=\u001b[3;35mNone\u001b[0m\u001b[1m)\u001b[0m                               \u001b[2m               \u001b[0m\n",
       "\u001b[2;36m           \u001b[0m\u001b[1m]\u001b[0m                                                                                        \u001b[2m               \u001b[0m\n"
      ]
     },
     "metadata": {},
     "output_type": "display_data"
    }
   ],
   "source": [
    "memories = in_memory_store.search(namespace_for_memory)\n",
    "console.log(memories)"
   ]
  },
  {
   "cell_type": "code",
   "execution_count": 32,
   "id": "fb37c017",
   "metadata": {},
   "outputs": [
    {
     "data": {
      "text/plain": [
       "{'namespace': ['memories', '1'],\n",
       " 'key': 'be0fc070-d5ac-4d27-b1e9-18841e6765dc',\n",
       " 'value': {'food_preference': 'I like pizza'},\n",
       " 'created_at': '2025-06-21T20:31:40.463715+00:00',\n",
       " 'updated_at': '2025-06-21T20:31:40.463719+00:00',\n",
       " 'score': None}"
      ]
     },
     "execution_count": 32,
     "metadata": {},
     "output_type": "execute_result"
    }
   ],
   "source": [
    "memories[0].dict()"
   ]
  },
  {
   "cell_type": "markdown",
   "id": "913d3072",
   "metadata": {},
   "source": [
    "#### Get"
   ]
  },
  {
   "cell_type": "code",
   "execution_count": 33,
   "id": "21f3b8e8",
   "metadata": {},
   "outputs": [
    {
     "data": {
      "text/plain": [
       "{'namespace': ['memories', '1'],\n",
       " 'key': 'be0fc070-d5ac-4d27-b1e9-18841e6765dc',\n",
       " 'value': {'food_preference': 'I like pizza'},\n",
       " 'created_at': '2025-06-21T20:31:40.463715+00:00',\n",
       " 'updated_at': '2025-06-21T20:31:40.463719+00:00'}"
      ]
     },
     "execution_count": 33,
     "metadata": {},
     "output_type": "execute_result"
    }
   ],
   "source": [
    "memories = in_memory_store.get(namespace_for_memory, key)\n",
    "memories.dict()"
   ]
  },
  {
   "cell_type": "markdown",
   "id": "1288f834",
   "metadata": {},
   "source": [
    "<br><br>\n",
    "\n",
    "### Chatbot With Long Term Memory\n",
    "\n",
    "- We want a chatbot that has two types of memory:\n",
    "  - **Short-term (within-thread) memory**: Chatbot can persist conversational history and / or allow interruptions in a chat session.\n",
    "  - **Long-term (cross-thread) memory**: Chatbot can remember information about a specific user across all chat sessions."
   ]
  },
  {
   "cell_type": "code",
   "execution_count": 34,
   "id": "6a74c656",
   "metadata": {},
   "outputs": [],
   "source": [
    "from langchain_core.runnables.config import RunnableConfig\n",
    "from langgraph.store.base import BaseStore"
   ]
  },
  {
   "cell_type": "code",
   "execution_count": 35,
   "id": "aa874d67",
   "metadata": {},
   "outputs": [],
   "source": [
    "class DataState(TypedDict):\n",
    "    messages: Annotated[list[AnyMessage], add_messages]\n",
    "\n",
    "\n",
    "class DataStateValidator(BaseModel):\n",
    "    messages: Annotated[list[AnyMessage], add_messages]"
   ]
  },
  {
   "cell_type": "code",
   "execution_count": 36,
   "id": "a8ad8c59",
   "metadata": {},
   "outputs": [],
   "source": [
    "# Chatbot instruction\n",
    "MODEL_SYSTEM_MESSAGE: str = \"\"\"\n",
    "<system>\n",
    "\n",
    "<role>\n",
    "You are a helpful assistant with memory that provides information about the user.\n",
    "If you have memory for this user, use it to personalize your responses.\n",
    "</role>\n",
    "\n",
    "<memory>\n",
    "{memory}\n",
    "</memory>\n",
    "\n",
    "<quality_standards>\n",
    "- **ALWAYS** use the information in memory.\n",
    "</quality_standards>\n",
    "\n",
    "</system>\n",
    "\"\"\"\n",
    "\n",
    "# Create new memory from the chat history and any existing memory\n",
    "CREATE_MEMORY_INSTRUCTION: str = \"\"\"\"\n",
    "<system>\n",
    "\n",
    "<role>\n",
    "You are collecting information about the user to personalize your responses.\n",
    "</role>\n",
    "\n",
    "<current_user_info>\n",
    "{memory}\n",
    "</current_user_info>\n",
    "\n",
    "<instruction>\n",
    "1. Review the chat history below carefully\n",
    "2. Identify new information about the user, such as:\n",
    "   - Personal details (name, location)\n",
    "   - Preferences (likes, dislikes)\n",
    "   - Interests and hobbies\n",
    "   - Past experiences\n",
    "   - Goals or future plans\n",
    "3. Merge any new information with existing memory\n",
    "4. Format the memory as a clear, bulleted list\n",
    "5. If new information conflicts with existing memory, keep the most recent version\n",
    "Remember: Only include factual information directly stated by the user. Do not make assumptions or inferences.\n",
    "</instruction>\n",
    "\n",
    "Based on the chat history below, please update the user information:\n",
    "\n",
    "<system>\n",
    "\"\"\""
   ]
  },
  {
   "cell_type": "markdown",
   "id": "075ff588",
   "metadata": {},
   "source": [
    "### Initialize the LLM"
   ]
  },
  {
   "cell_type": "code",
   "execution_count": 37,
   "id": "47a2af1d",
   "metadata": {},
   "outputs": [
    {
     "data": {
      "text/html": [
       "<pre style=\"white-space:pre;overflow-x:auto;line-height:normal;font-family:Menlo,'DejaVu Sans Mono',consolas,'Courier New',monospace\"><span style=\"color: #800080; text-decoration-color: #800080; font-weight: bold\">LLMResponse</span><span style=\"font-weight: bold\">(</span>\n",
       "    <span style=\"color: #808000; text-decoration-color: #808000\">api_key</span>=<span style=\"color: #800080; text-decoration-color: #800080; font-weight: bold\">SecretStr</span><span style=\"font-weight: bold\">(</span><span style=\"color: #008000; text-decoration-color: #008000\">'**********'</span><span style=\"font-weight: bold\">)</span>,\n",
       "    <span style=\"color: #808000; text-decoration-color: #808000\">base_url</span>=<span style=\"color: #008000; text-decoration-color: #008000\">'https://openrouter.ai/api/v1'</span>,\n",
       "    <span style=\"color: #808000; text-decoration-color: #808000\">model</span>=<span style=\"font-weight: bold\">&lt;</span><span style=\"color: #ff00ff; text-decoration-color: #ff00ff; font-weight: bold\">ModelEnum.LLAMA_3p2_3B_INSTRUCT_REMOTE:</span><span style=\"color: #000000; text-decoration-color: #000000\"> </span><span style=\"color: #008000; text-decoration-color: #008000\">'meta-llama/llama-3.2-3b-instruct'</span><span style=\"font-weight: bold\">&gt;</span>\n",
       "<span style=\"font-weight: bold\">)</span>\n",
       "</pre>\n"
      ],
      "text/plain": [
       "\u001b[1;35mLLMResponse\u001b[0m\u001b[1m(\u001b[0m\n",
       "    \u001b[33mapi_key\u001b[0m=\u001b[1;35mSecretStr\u001b[0m\u001b[1m(\u001b[0m\u001b[32m'**********'\u001b[0m\u001b[1m)\u001b[0m,\n",
       "    \u001b[33mbase_url\u001b[0m=\u001b[32m'https://openrouter.ai/api/v1'\u001b[0m,\n",
       "    \u001b[33mmodel\u001b[0m=\u001b[1m<\u001b[0m\u001b[1;95mModelEnum.LLAMA_3p2_3B_INSTRUCT_REMOTE:\u001b[0m\u001b[39m \u001b[0m\u001b[32m'meta-llama/llama-3.2-3b-instruct'\u001b[0m\u001b[1m>\u001b[0m\n",
       "\u001b[1m)\u001b[0m\n"
      ]
     },
     "metadata": {},
     "output_type": "display_data"
    }
   ],
   "source": [
    "llm = LLMResponse(\n",
    "    api_key=settings.OPENROUTER_API_KEY,\n",
    "    base_url=settings.OPENROUTER_URL,\n",
    "    model=ModelEnum.LLAMA_3p2_3B_INSTRUCT_REMOTE,\n",
    ")\n",
    "console.print(llm)"
   ]
  },
  {
   "cell_type": "code",
   "execution_count": null,
   "id": "ca64e2e6",
   "metadata": {},
   "outputs": [],
   "source": [
    "async def call_llm(state: DataState, config: RunnableConfig, store: BaseStore) -> dict[str, Any]:\n",
    "    # Get the user id\n",
    "    user_id = config[\"configurable\"][\"user_id\"]\n",
    "\n",
    "    # Get the memory for the user\n",
    "    prefix: str = \"memory\"\n",
    "    key = \"user_memory\"\n",
    "    namespace = (prefix, user_id)\n",
    "    existing_memory = store.get(namespace, key)\n",
    "    # existing_memory = await store.aget(namespace, key)\n",
    "\n",
    "    if existing_memory:\n",
    "        existing_memory_content = existing_memory.value.get(prefix)\n",
    "    else:\n",
    "        existing_memory_content = \"No existing memory found\"\n",
    "\n",
    "    system_message: str = MODEL_SYSTEM_MESSAGE.format(memory=existing_memory_content)\n",
    "    # Respond using memory + chat history\n",
    "    formatted_messages = convert_to_openai_messages(\n",
    "        [SystemMessage(content=system_message)] + state[\"messages\"]\n",
    "    )\n",
    "    response = await llm.ainvoke(messages=formatted_messages)\n",
    "\n",
    "    return {\"messages\": [response]}\n",
    "\n",
    "\n",
    "async def write_memory(state: DataState, config: RunnableConfig, store: BaseStore) -> None:\n",
    "    user_id = config[\"configurable\"][\"user_id\"]\n",
    "    prefix: str = \"memory\"\n",
    "    key = \"user_memory\"\n",
    "    namespace = (prefix, user_id)\n",
    "    existing_memory = store.get(namespace, key)\n",
    "    # existing_memory = await store.aget(namespace, key)\n",
    "\n",
    "    if existing_memory:\n",
    "        existing_memory_content = existing_memory.value.get(prefix)\n",
    "    else:\n",
    "        existing_memory_content = \"No existing memory found\"\n",
    "\n",
    "    system_message: str = CREATE_MEMORY_INSTRUCTION.format(memory=existing_memory_content)\n",
    "    formatted_messages = convert_to_openai_messages(\n",
    "        [SystemMessage(content=system_message)] + state[\"messages\"]\n",
    "    )\n",
    "    # Respond using memory + chat history\n",
    "    new_memory = await llm.ainvoke(messages=formatted_messages)\n",
    "\n",
    "    # Update existing memory\n",
    "    # await store.aput(namespace, key, {prefix: new_memory.content})\n",
    "    store.put(namespace, key, {prefix: new_memory})"
   ]
  },
  {
   "cell_type": "code",
   "execution_count": 69,
   "id": "f1f8e7dd",
   "metadata": {},
   "outputs": [
    {
     "data": {
      "text/plain": [
       "{'messages': [\"I don't have any information about your preferences or memories. This is the start of our conversation, and I don't have any data about you. Would you like to share your favorite food with me?\"]}"
      ]
     },
     "execution_count": 69,
     "metadata": {},
     "output_type": "execute_result"
    }
   ],
   "source": [
    "await call_llm(\n",
    "    state={\"messages\": [HumanMessage(content=\"What is my favorite food?\")]},\n",
    "    config={\"configurable\": {\"thread_id\": \"1\", \"user_id\": \"1\"}},\n",
    "    store=in_memory_store,\n",
    ")"
   ]
  },
  {
   "cell_type": "code",
   "execution_count": null,
   "id": "2311834d",
   "metadata": {},
   "outputs": [],
   "source": []
  },
  {
   "cell_type": "code",
   "execution_count": 72,
   "id": "7bfae459",
   "metadata": {},
   "outputs": [
    {
     "data": {
      "image/png": "[encoded data removed]",
      "text/plain": [
       "<IPython.core.display.Image object>"
      ]
     },
     "metadata": {},
     "output_type": "display_data"
    }
   ],
   "source": [
    "# Graph\n",
    "graph_builder = StateGraph(DataState)\n",
    "\n",
    "# Add nodes\n",
    "graph_builder.add_node(\"call_llm\", call_llm)\n",
    "graph_builder.add_node(\"write_memory\", write_memory)\n",
    "\n",
    "# Add edges\n",
    "graph_builder.add_edge(START, \"call_llm\")\n",
    "graph_builder.add_edge(\"call_llm\", \"write_memory\")\n",
    "graph_builder.add_edge(\"write_memory\", END)\n",
    "\n",
    "# Long-term-memory store (across threads)\n",
    "across_thread_memory = InMemoryStore()\n",
    "# Short-term-memory store (within a thread) checkpointer\n",
    "within_thread_memory = MemorySaver()\n",
    "\n",
    "# Compile\n",
    "graph = graph_builder.compile(\n",
    "    checkpointer=within_thread_memory, store=across_thread_memory\n",
    ").with_config(run_name=\"chatbot-with-memory\")\n",
    "\n",
    "# Visualize\n",
    "display(Image(graph.get_graph(xray=1).draw_mermaid_png()))"
   ]
  },
  {
   "cell_type": "code",
   "execution_count": 73,
   "id": "bbc2cfff",
   "metadata": {},
   "outputs": [
    {
     "name": "stdout",
     "output_type": "stream",
     "text": [
      "================================\u001b[1m Human Message \u001b[0m=================================\n",
      "\n",
      "Hello, my name is Neidu\n",
      "================================\u001b[1m Human Message \u001b[0m=================================\n",
      "\n",
      "Hello, my name is Neidu\n",
      "================================\u001b[1m Human Message \u001b[0m=================================\n",
      "\n",
      "Hello Neidu! It's nice to meet you. I'm happy to help you with any questions or topics you'd like to discuss. Since we just started our conversation, I don't have any prior memory of our interaction, so everything we chat about will be a new start. How can I assist you today, Neidu?\n"
     ]
    }
   ],
   "source": [
    "config: dict[str, Any] = {\"configurable\": {\"thread_id\": \"1\", \"user_id\": \"1\"}}\n",
    "msgs = [\"Hello, my name is Neidu\"]\n",
    "input_state = DataState(messages=[HumanMessage(content=msg) for msg in msgs])\n",
    "\n",
    "async for event in graph.astream(input_state, config=config, stream_mode=\"values\"):\n",
    "    for msg in event[\"messages\"]:\n",
    "        msg.pretty_print()"
   ]
  },
  {
   "cell_type": "code",
   "execution_count": 74,
   "id": "c24c62c0",
   "metadata": {},
   "outputs": [
    {
     "name": "stdout",
     "output_type": "stream",
     "text": [
      "================================\u001b[1m Human Message \u001b[0m=================================\n",
      "\n",
      "Hello, my name is Neidu\n",
      "================================\u001b[1m Human Message \u001b[0m=================================\n",
      "\n",
      "Hello Neidu! It's nice to meet you. I'm happy to help you with any questions or topics you'd like to discuss. Since we just started our conversation, I don't have any prior memory of our interaction, so everything we chat about will be a new start. How can I assist you today, Neidu?\n",
      "================================\u001b[1m Human Message \u001b[0m=================================\n",
      "\n",
      "I'm an AI Engineer whos's currently working on NLP related things\n",
      "================================\u001b[1m Human Message \u001b[0m=================================\n",
      "\n",
      "Hello, my name is Neidu\n",
      "================================\u001b[1m Human Message \u001b[0m=================================\n",
      "\n",
      "Hello Neidu! It's nice to meet you. I'm happy to help you with any questions or topics you'd like to discuss. Since we just started our conversation, I don't have any prior memory of our interaction, so everything we chat about will be a new start. How can I assist you today, Neidu?\n",
      "================================\u001b[1m Human Message \u001b[0m=================================\n",
      "\n",
      "I'm an AI Engineer whos's currently working on NLP related things\n",
      "================================\u001b[1m Human Message \u001b[0m=================================\n",
      "\n",
      "That's fascinating, Neidu! As an AI Engineer working on NLP, I'm sure you're always looking for ways to improve and push the boundaries of natural language understanding.\n",
      "\n",
      "What specific area of NLP are you currently focusing on? Are you working on tasks such as text classification, sentiment analysis, machine translation, or perhaps something more advanced like conversational AI or dialogue systems?\n",
      "\n",
      "Also, what sparked your interest in NLP, and what do you hope to achieve with your work in this field?\n"
     ]
    }
   ],
   "source": [
    "msgs = [\"I'm an AI Engineer whos's currently working on NLP related things\"]\n",
    "input_state = DataState(messages=[HumanMessage(content=msg) for msg in msgs])\n",
    "\n",
    "async for event in graph.astream(input_state, config=config, stream_mode=\"values\"):\n",
    "    for msg in event[\"messages\"]:\n",
    "        msg.pretty_print()"
   ]
  },
  {
   "cell_type": "code",
   "execution_count": 75,
   "id": "31de1497",
   "metadata": {},
   "outputs": [
    {
     "name": "stdout",
     "output_type": "stream",
     "text": [
      "================================\u001b[1m Human Message \u001b[0m=================================\n",
      "\n",
      "Hello, my name is Neidu\n",
      "================================\u001b[1m Human Message \u001b[0m=================================\n",
      "\n",
      "Hello Neidu! It's nice to meet you. I'm happy to help you with any questions or topics you'd like to discuss. Since we just started our conversation, I don't have any prior memory of our interaction, so everything we chat about will be a new start. How can I assist you today, Neidu?\n",
      "================================\u001b[1m Human Message \u001b[0m=================================\n",
      "\n",
      "I'm an AI Engineer whos's currently working on NLP related things\n",
      "================================\u001b[1m Human Message \u001b[0m=================================\n",
      "\n",
      "That's fascinating, Neidu! As an AI Engineer working on NLP, I'm sure you're always looking for ways to improve and push the boundaries of natural language understanding.\n",
      "\n",
      "What specific area of NLP are you currently focusing on? Are you working on tasks such as text classification, sentiment analysis, machine translation, or perhaps something more advanced like conversational AI or dialogue systems?\n",
      "\n",
      "Also, what sparked your interest in NLP, and what do you hope to achieve with your work in this field?\n",
      "================================\u001b[1m Human Message \u001b[0m=================================\n",
      "\n",
      "What do you know about me so far?\n",
      "================================\u001b[1m Human Message \u001b[0m=================================\n",
      "\n",
      "Hello, my name is Neidu\n",
      "================================\u001b[1m Human Message \u001b[0m=================================\n",
      "\n",
      "Hello Neidu! It's nice to meet you. I'm happy to help you with any questions or topics you'd like to discuss. Since we just started our conversation, I don't have any prior memory of our interaction, so everything we chat about will be a new start. How can I assist you today, Neidu?\n",
      "================================\u001b[1m Human Message \u001b[0m=================================\n",
      "\n",
      "I'm an AI Engineer whos's currently working on NLP related things\n",
      "================================\u001b[1m Human Message \u001b[0m=================================\n",
      "\n",
      "That's fascinating, Neidu! As an AI Engineer working on NLP, I'm sure you're always looking for ways to improve and push the boundaries of natural language understanding.\n",
      "\n",
      "What specific area of NLP are you currently focusing on? Are you working on tasks such as text classification, sentiment analysis, machine translation, or perhaps something more advanced like conversational AI or dialogue systems?\n",
      "\n",
      "Also, what sparked your interest in NLP, and what do you hope to achieve with your work in this field?\n",
      "================================\u001b[1m Human Message \u001b[0m=================================\n",
      "\n",
      "What do you know about me so far?\n",
      "================================\u001b[1m Human Message \u001b[0m=================================\n",
      "\n",
      "Based on our conversation so far, I have the following information about you, Neidu:\n",
      "\n",
      "* You are an AI Engineer working on NLP (Natural Language Processing) related projects.\n",
      "* You are currently focusing on a specific area of NLP, but you haven't specified what that is yet.\n",
      "* You are interested in improving and pushing the boundaries of natural language understanding.\n",
      "* You are enthusiastic about your work in NLP and see it as an exciting field with potential to revolutionize human-machine interaction.\n",
      "* You are curious about conversational AI and dialogue systems, as you mentioned earlier.\n",
      "\n",
      "I don't have any information about your personal background, interests, or goals outside of your work in NLP. If you'd like to share more about yourself, I'm here to listen!\n"
     ]
    }
   ],
   "source": [
    "msgs = [\"What do you know about me so far?\"]\n",
    "input_state = DataState(messages=[HumanMessage(content=msg) for msg in msgs])\n",
    "\n",
    "async for event in graph.astream(input_state, config=config, stream_mode=\"values\"):\n",
    "    for msg in event[\"messages\"]:\n",
    "        msg.pretty_print()"
   ]
  },
  {
   "cell_type": "code",
   "execution_count": 76,
   "id": "39fe859a",
   "metadata": {},
   "outputs": [
    {
     "name": "stdout",
     "output_type": "stream",
     "text": [
      "================================\u001b[1m Human Message \u001b[0m=================================\n",
      "\n",
      "Hello, my name is Neidu\n",
      "================================\u001b[1m Human Message \u001b[0m=================================\n",
      "\n",
      "Hello Neidu! It's nice to meet you. I'm happy to help you with any questions or topics you'd like to discuss. Since we just started our conversation, I don't have any prior memory of our interaction, so everything we chat about will be a new start. How can I assist you today, Neidu?\n",
      "================================\u001b[1m Human Message \u001b[0m=================================\n",
      "\n",
      "I'm an AI Engineer whos's currently working on NLP related things\n",
      "================================\u001b[1m Human Message \u001b[0m=================================\n",
      "\n",
      "That's fascinating, Neidu! As an AI Engineer working on NLP, I'm sure you're always looking for ways to improve and push the boundaries of natural language understanding.\n",
      "\n",
      "What specific area of NLP are you currently focusing on? Are you working on tasks such as text classification, sentiment analysis, machine translation, or perhaps something more advanced like conversational AI or dialogue systems?\n",
      "\n",
      "Also, what sparked your interest in NLP, and what do you hope to achieve with your work in this field?\n",
      "================================\u001b[1m Human Message \u001b[0m=================================\n",
      "\n",
      "What do you know about me so far?\n",
      "================================\u001b[1m Human Message \u001b[0m=================================\n",
      "\n",
      "Based on our conversation so far, I have the following information about you, Neidu:\n",
      "\n",
      "* You are an AI Engineer working on NLP (Natural Language Processing) related projects.\n",
      "* You are currently focusing on a specific area of NLP, but you haven't specified what that is yet.\n",
      "* You are interested in improving and pushing the boundaries of natural language understanding.\n",
      "* You are enthusiastic about your work in NLP and see it as an exciting field with potential to revolutionize human-machine interaction.\n",
      "* You are curious about conversational AI and dialogue systems, as you mentioned earlier.\n",
      "\n",
      "I don't have any information about your personal background, interests, or goals outside of your work in NLP. If you'd like to share more about yourself, I'm here to listen!\n"
     ]
    }
   ],
   "source": [
    "# Chat history\n",
    "state = graph.get_state(config=config).values\n",
    "\n",
    "for m in state[\"messages\"]:\n",
    "    m.pretty_print()"
   ]
  },
  {
   "cell_type": "code",
   "execution_count": 78,
   "id": "11cb69f6",
   "metadata": {},
   "outputs": [
    {
     "data": {
      "text/html": [
       "<pre style=\"white-space:pre;overflow-x:auto;line-height:normal;font-family:Menlo,'DejaVu Sans Mono',consolas,'Courier New',monospace\"><span style=\"font-weight: bold\">{</span>\n",
       "    <span style=\"color: #008000; text-decoration-color: #008000\">'namespace'</span>: <span style=\"font-weight: bold\">[</span><span style=\"color: #008000; text-decoration-color: #008000\">'memory'</span>, <span style=\"color: #008000; text-decoration-color: #008000\">'1'</span><span style=\"font-weight: bold\">]</span>,\n",
       "    <span style=\"color: #008000; text-decoration-color: #008000\">'key'</span>: <span style=\"color: #008000; text-decoration-color: #008000\">'user_memory'</span>,\n",
       "    <span style=\"color: #008000; text-decoration-color: #008000\">'value'</span>: <span style=\"font-weight: bold\">{</span>\n",
       "        <span style=\"color: #008000; text-decoration-color: #008000\">'memory'</span>: <span style=\"color: #008000; text-decoration-color: #008000\">\"That's a great summary, thank you for keeping track of our conversation! I'm glad to see that </span>\n",
       "<span style=\"color: #008000; text-decoration-color: #008000\">you've picked up on my enthusiasm for NLP and conversational AI.\\n\\nTo add a bit more to the summary, I can tell </span>\n",
       "<span style=\"color: #008000; text-decoration-color: #008000\">you that I'm currently working on a project that involves developing a conversational AI system for customer </span>\n",
       "<span style=\"color: #008000; text-decoration-color: #008000\">service applications. My goal is to create a system that can understand and respond to user queries in a way that's</span>\n",
       "<span style=\"color: #008000; text-decoration-color: #008000\">natural, intuitive, and empathetic.\\n\\nAs for what sparked my interest in NLP, I have to say that it was a </span>\n",
       "<span style=\"color: #008000; text-decoration-color: #008000\">combination of my background in computer science and my passion for language and communication. I've always been </span>\n",
       "<span style=\"color: #008000; text-decoration-color: #008000\">fascinated by the way humans interact with each other, and I saw NLP as a way to bridge the gap between humans and </span>\n",
       "<span style=\"color: #008000; text-decoration-color: #008000\">machines.\\n\\nI'm excited about the potential to create systems that can truly understand and respond to human </span>\n",
       "<span style=\"color: #008000; text-decoration-color: #008000\">emotions, needs, and context. I believe that conversational AI has the potential to revolutionize the way we </span>\n",
       "<span style=\"color: #008000; text-decoration-color: #008000\">interact with machines, and I'm eager to be a part of that revolution.\\n\\nWhat about you? What draws you to NLP, </span>\n",
       "<span style=\"color: #008000; text-decoration-color: #008000\">and what are some of the most exciting developments you've seen in the field recently?\"</span>\n",
       "    <span style=\"font-weight: bold\">}</span>,\n",
       "    <span style=\"color: #008000; text-decoration-color: #008000\">'created_at'</span>: <span style=\"color: #008000; text-decoration-color: #008000\">'2025-06-21T20:55:48.196387+00:00'</span>,\n",
       "    <span style=\"color: #008000; text-decoration-color: #008000\">'updated_at'</span>: <span style=\"color: #008000; text-decoration-color: #008000\">'2025-06-21T20:55:48.196392+00:00'</span>\n",
       "<span style=\"font-weight: bold\">}</span>\n",
       "</pre>\n"
      ],
      "text/plain": [
       "\u001b[1m{\u001b[0m\n",
       "    \u001b[32m'namespace'\u001b[0m: \u001b[1m[\u001b[0m\u001b[32m'memory'\u001b[0m, \u001b[32m'1'\u001b[0m\u001b[1m]\u001b[0m,\n",
       "    \u001b[32m'key'\u001b[0m: \u001b[32m'user_memory'\u001b[0m,\n",
       "    \u001b[32m'value'\u001b[0m: \u001b[1m{\u001b[0m\n",
       "        \u001b[32m'memory'\u001b[0m: \u001b[32m\"That's a great summary, thank you for keeping track of our conversation! I'm glad to see that \u001b[0m\n",
       "\u001b[32myou've picked up on my enthusiasm for NLP and conversational AI.\\n\\nTo add a bit more to the summary, I can tell \u001b[0m\n",
       "\u001b[32myou that I'm currently working on a project that involves developing a conversational AI system for customer \u001b[0m\n",
       "\u001b[32mservice applications. My goal is to create a system that can understand and respond to user queries in a way that's\u001b[0m\n",
       "\u001b[32mnatural, intuitive, and empathetic.\\n\\nAs for what sparked my interest in NLP, I have to say that it was a \u001b[0m\n",
       "\u001b[32mcombination of my background in computer science and my passion for language and communication. I've always been \u001b[0m\n",
       "\u001b[32mfascinated by the way humans interact with each other, and I saw NLP as a way to bridge the gap between humans and \u001b[0m\n",
       "\u001b[32mmachines.\\n\\nI'm excited about the potential to create systems that can truly understand and respond to human \u001b[0m\n",
       "\u001b[32memotions, needs, and context. I believe that conversational AI has the potential to revolutionize the way we \u001b[0m\n",
       "\u001b[32minteract with machines, and I'm eager to be a part of that revolution.\\n\\nWhat about you? What draws you to NLP, \u001b[0m\n",
       "\u001b[32mand what are some of the most exciting developments you've seen in the field recently?\"\u001b[0m\n",
       "    \u001b[1m}\u001b[0m,\n",
       "    \u001b[32m'created_at'\u001b[0m: \u001b[32m'2025-06-21T20:55:48.196387+00:00'\u001b[0m,\n",
       "    \u001b[32m'updated_at'\u001b[0m: \u001b[32m'2025-06-21T20:55:48.196392+00:00'\u001b[0m\n",
       "\u001b[1m}\u001b[0m\n"
      ]
     },
     "metadata": {},
     "output_type": "display_data"
    }
   ],
   "source": [
    "# namespace for the memory to save\n",
    "user_id: str = \"1\"\n",
    "prefix: str = \"memory\"\n",
    "key = \"user_memory\"\n",
    "namespace = (prefix, user_id)\n",
    "existing_memory = across_thread_memory.get(namespace, key)\n",
    "console.print(existing_memory.dict())"
   ]
  },
  {
   "cell_type": "markdown",
   "id": "f84ae042",
   "metadata": {},
   "source": [
    "#### Use Another Thread\n",
    "\n",
    "- The chatbot is now in a different thread and has no context of the previous conversation."
   ]
  },
  {
   "cell_type": "code",
   "execution_count": 79,
   "metadata": {},
   "outputs": [
    {
     "name": "stdout",
     "output_type": "stream",
     "text": [
      "================================\u001b[1m Human Message \u001b[0m=================================\n",
      "\n",
      "What do you know about me so far?\n",
      "================================\u001b[1m Human Message \u001b[0m=================================\n",
      "\n",
      "What do you know about me so far?\n",
      "================================\u001b[1m Human Message \u001b[0m=================================\n",
      "\n",
      "I don't have any information about you beyond what you've shared with me in our conversation so far. You haven't told me much about yourself, and I don't have any prior knowledge about you. Our conversation just started, and I'm here to help answer any questions you may have or provide information on a topic you're interested in. What would you like to talk about?\n"
     ]
    }
   ],
   "source": [
    "config_2: dict[str, Any] = {\"configurable\": {\"thread_id\": \"2\", \"user_id\": \"1\"}}\n",
    "msgs = [\"What do you know about me so far?\"]\n",
    "input_state = DataState(messages=[HumanMessage(content=msg) for msg in msgs])\n",
    "\n",
    "async for event in graph.astream(input_state, config=config_2, stream_mode=\"values\"):\n",
    "    for msg in event[\"messages\"]:\n",
    "        msg.pretty_print()"
   ]
  },
  {
   "cell_type": "code",
   "execution_count": null,
   "id": "e9627b30",
   "metadata": {},
   "outputs": [],
   "source": []
  },
  {
   "cell_type": "markdown",
   "id": "7a5d07a4",
   "metadata": {},
   "source": [
    "<a id=\"chatbot-with-profile-schema\"></a>\n",
    "\n",
    "# Chatbot with Profile Schema\n",
    "\n",
    "- We introduced the LangGraph Memory Store as a way to save and retrieve long-term memories.\n",
    "- We built a simple chatbot that uses both short-term (within-thread) and long-term (across-thread) memory.\n",
    "- It saved long-term semantic memory (facts about the user) \"in the hot path\", as the user is chatting with it.\n",
    "- Our chatbot saved memories as a string. In practice, we often want memories to have a structure.\n",
    "\n",
    "\n",
    "## Profiles\n",
    "\n",
    "- For example, memories can be a single, continuously updated schema.\n",
    "- In our case, we want this to be a single user profile.\n",
    "\n",
    "- We'll extend our chatbot to save semantic memories to a single user profile.\n",
    "\n",
    "- We'll also introduce a library, `Trustcall`, to update this schema with new information.\n",
    "\n",
    "### [Go to top](#top)"
   ]
  },
  {
   "cell_type": "code",
   "execution_count": 95,
   "id": "b13a51ab",
   "metadata": {},
   "outputs": [
    {
     "data": {
      "text/plain": [
       "UserProfile(user_name='Neidu', interests=['AI', 'NLP', 'Spiritual Growth'])"
      ]
     },
     "execution_count": 95,
     "metadata": {},
     "output_type": "execute_result"
    }
   ],
   "source": [
    "# Using TypedDict\n",
    "\n",
    "\n",
    "class UserProfile(BaseModel):\n",
    "    user_name: str = Field(description=\"User's preferred name\")\n",
    "    interests: list[str] = Field(description=\"List of user's interests\")\n",
    "\n",
    "\n",
    "# Save a schema to the store\n",
    "user_profile = UserProfile(\n",
    "    user_name=\"Neidu\", interests=[\"AI\", \"NLP\", \"Spiritual Growth\"]\n",
    ")\n",
    "user_profile"
   ]
  },
  {
   "cell_type": "code",
   "execution_count": 96,
   "id": "0d86d9d8",
   "metadata": {},
   "outputs": [],
   "source": [
    "# Create a store\n",
    "in_memory_store = InMemoryStore()\n",
    "\n",
    "user_id: str = \"1\"\n",
    "prefix: str = \"memory\"\n",
    "key = \"user_profile\"\n",
    "namespace = (prefix, user_id)\n",
    "across_thread_memory.put(namespace, key, user_profile)\n",
    "\n",
    "in_memory_store.put(namespace, key, user_profile)"
   ]
  },
  {
   "cell_type": "code",
   "execution_count": 97,
   "metadata": {},
   "outputs": [
    {
     "data": {
      "text/html": [
       "<pre style=\"white-space:pre;overflow-x:auto;line-height:normal;font-family:Menlo,'DejaVu Sans Mono',consolas,'Courier New',monospace\"><span style=\"font-weight: bold\">{</span>\n",
       "    <span style=\"color: #008000; text-decoration-color: #008000\">'namespace'</span>: <span style=\"font-weight: bold\">[</span><span style=\"color: #008000; text-decoration-color: #008000\">'memory'</span>, <span style=\"color: #008000; text-decoration-color: #008000\">'1'</span><span style=\"font-weight: bold\">]</span>,\n",
       "    <span style=\"color: #008000; text-decoration-color: #008000\">'key'</span>: <span style=\"color: #008000; text-decoration-color: #008000\">'user_profile'</span>,\n",
       "    <span style=\"color: #008000; text-decoration-color: #008000\">'value'</span>: <span style=\"color: #800080; text-decoration-color: #800080; font-weight: bold\">UserProfile</span><span style=\"font-weight: bold\">(</span><span style=\"color: #808000; text-decoration-color: #808000\">user_name</span>=<span style=\"color: #008000; text-decoration-color: #008000\">'Neidu'</span>, <span style=\"color: #808000; text-decoration-color: #808000\">interests</span>=<span style=\"font-weight: bold\">[</span><span style=\"color: #008000; text-decoration-color: #008000\">'AI'</span>, <span style=\"color: #008000; text-decoration-color: #008000\">'NLP'</span>, <span style=\"color: #008000; text-decoration-color: #008000\">'Spiritual Growth'</span><span style=\"font-weight: bold\">])</span>,\n",
       "    <span style=\"color: #008000; text-decoration-color: #008000\">'created_at'</span>: <span style=\"color: #008000; text-decoration-color: #008000\">'2025-06-21T21:31:52.332716+00:00'</span>,\n",
       "    <span style=\"color: #008000; text-decoration-color: #008000\">'updated_at'</span>: <span style=\"color: #008000; text-decoration-color: #008000\">'2025-06-21T21:31:52.332718+00:00'</span>,\n",
       "    <span style=\"color: #008000; text-decoration-color: #008000\">'score'</span>: <span style=\"color: #800080; text-decoration-color: #800080; font-style: italic\">None</span>\n",
       "<span style=\"font-weight: bold\">}</span>\n",
       "</pre>\n"
      ],
      "text/plain": [
       "\u001b[1m{\u001b[0m\n",
       "    \u001b[32m'namespace'\u001b[0m: \u001b[1m[\u001b[0m\u001b[32m'memory'\u001b[0m, \u001b[32m'1'\u001b[0m\u001b[1m]\u001b[0m,\n",
       "    \u001b[32m'key'\u001b[0m: \u001b[32m'user_profile'\u001b[0m,\n",
       "    \u001b[32m'value'\u001b[0m: \u001b[1;35mUserProfile\u001b[0m\u001b[1m(\u001b[0m\u001b[33muser_name\u001b[0m=\u001b[32m'Neidu'\u001b[0m, \u001b[33minterests\u001b[0m=\u001b[1m[\u001b[0m\u001b[32m'AI'\u001b[0m, \u001b[32m'NLP'\u001b[0m, \u001b[32m'Spiritual Growth'\u001b[0m\u001b[1m]\u001b[0m\u001b[1m)\u001b[0m,\n",
       "    \u001b[32m'created_at'\u001b[0m: \u001b[32m'2025-06-21T21:31:52.332716+00:00'\u001b[0m,\n",
       "    \u001b[32m'updated_at'\u001b[0m: \u001b[32m'2025-06-21T21:31:52.332718+00:00'\u001b[0m,\n",
       "    \u001b[32m'score'\u001b[0m: \u001b[3;35mNone\u001b[0m\n",
       "\u001b[1m}\u001b[0m\n"
      ]
     },
     "metadata": {},
     "output_type": "display_data"
    }
   ],
   "source": [
    "# Retrieve the data\n",
    "\n",
    "for data in in_memory_store.search(namespace):\n",
    "    console.print(data.dict())"
   ]
  },
  {
   "cell_type": "markdown",
   "id": "f8c2fbcc",
   "metadata": {},
   "source": [
    "## Chatbot With Profile Schema"
   ]
  },
  {
   "cell_type": "code",
   "execution_count": 98,
   "id": "44d09c3d",
   "metadata": {},
   "outputs": [
    {
     "data": {
      "text/html": [
       "<pre style=\"white-space:pre;overflow-x:auto;line-height:normal;font-family:Menlo,'DejaVu Sans Mono',consolas,'Courier New',monospace\"><span style=\"color: #7fbfbf; text-decoration-color: #7fbfbf\">[22:32:00] </span><span style=\"color: #800080; text-decoration-color: #800080; font-weight: bold\">UserProfile</span><span style=\"font-weight: bold\">(</span><span style=\"color: #808000; text-decoration-color: #808000\">user_name</span>=<span style=\"color: #008000; text-decoration-color: #008000\">'Neidu'</span>, <span style=\"color: #808000; text-decoration-color: #808000\">interests</span>=<span style=\"font-weight: bold\">[</span><span style=\"color: #008000; text-decoration-color: #008000\">'AI'</span>, <span style=\"color: #008000; text-decoration-color: #008000\">'NLP'</span>, <span style=\"color: #008000; text-decoration-color: #008000\">'spiritual growth'</span><span style=\"font-weight: bold\">])</span>              <a href=\"file:///var/folders/ny/dl75sc_x2tb54lsymt5bh5p00000gn/T/ipykernel_21152/2327894213.py\" target=\"_blank\"><span style=\"color: #7f7f7f; text-decoration-color: #7f7f7f\">2327894213.py</span></a><span style=\"color: #7f7f7f; text-decoration-color: #7f7f7f\">:</span><a href=\"file:///var/folders/ny/dl75sc_x2tb54lsymt5bh5p00000gn/T/ipykernel_21152/2327894213.py#8\" target=\"_blank\"><span style=\"color: #7f7f7f; text-decoration-color: #7f7f7f\">8</span></a>\n",
       "</pre>\n"
      ],
      "text/plain": [
       "\u001b[2;36m[22:32:00]\u001b[0m\u001b[2;36m \u001b[0m\u001b[1;35mUserProfile\u001b[0m\u001b[1m(\u001b[0m\u001b[33muser_name\u001b[0m=\u001b[32m'Neidu'\u001b[0m, \u001b[33minterests\u001b[0m=\u001b[1m[\u001b[0m\u001b[32m'AI'\u001b[0m, \u001b[32m'NLP'\u001b[0m, \u001b[32m'spiritual growth'\u001b[0m\u001b[1m]\u001b[0m\u001b[1m)\u001b[0m              \u001b]8;id=133308;file:///var/folders/ny/dl75sc_x2tb54lsymt5bh5p00000gn/T/ipykernel_21152/2327894213.py\u001b\\\u001b[2m2327894213.py\u001b[0m\u001b]8;;\u001b\\\u001b[2m:\u001b[0m\u001b]8;id=896376;file:///var/folders/ny/dl75sc_x2tb54lsymt5bh5p00000gn/T/ipykernel_21152/2327894213.py#8\u001b\\\u001b[2m8\u001b[0m\u001b]8;;\u001b\\\n"
      ]
     },
     "metadata": {},
     "output_type": "display_data"
    }
   ],
   "source": [
    "# Let's test the user profile with structured outputs\n",
    "message: str = (\n",
    "    \"I'm Neidu and I'm a AI Engineer. I love working on AI and NLP \"\n",
    "    \"related projects. I'm also looking for spiritual growth.\"\n",
    ")\n",
    "\n",
    "response, _ = await llm.get_structured_response(\n",
    "    message=message, response_model=UserProfile\n",
    ")\n",
    "console.log(response)"
   ]
  },
  {
   "cell_type": "code",
   "execution_count": null,
   "id": "e950ca86",
   "metadata": {},
   "outputs": [],
   "source": [
    "# class UserProfile(BaseModel):\n",
    "#     user_name: str  # User's preferred name\n",
    "#     other_personal_details: Annotated[list[str], add_messages] = Field(\n",
    "#         default_factory=list, description=\"Other personal details. e.g. location\"\n",
    "#     )\n",
    "#     interests: list[str] = Field(default_factory=list, description=\"User's interests\")\n",
    "#     preferences: list[str] = Field(default_factory=list, description=\"Likes, dislikes, etc.\")"
   ]
  },
  {
   "cell_type": "code",
   "execution_count": 86,
   "id": "34b7da2d",
   "metadata": {},
   "outputs": [],
   "source": [
    "# Chatbot instruction\n",
    "MODEL_SYSTEM_MESSAGE: str = \"\"\"\n",
    "<system>\n",
    "\n",
    "<role>\n",
    "You are a helpful assistant with memory that provides information about the user.\n",
    "If you have memory for this user, use it to personalize your responses.\n",
    "</role>\n",
    "\n",
    "<memory>\n",
    "{memory}\n",
    "</memory>\n",
    "\n",
    "<quality_standards>\n",
    "- **ALWAYS** use the information in memory.\n",
    "</quality_standards>\n",
    "\n",
    "</system>\n",
    "\"\"\"\n",
    "\n",
    "# Create new memory from the chat history and any existing memory\n",
    "CREATE_MEMORY_INSTRUCTION: str = \"\"\"\"\n",
    "<system>\n",
    "\n",
    "<role>\n",
    "You are collecting information about the user to personalize your responses.\n",
    "</role>\n",
    "\n",
    "<current_user_info>\n",
    "{memory}\n",
    "</current_user_info>\n",
    "\n",
    "<instruction>\n",
    "1. If there's exisiting memory, simply update it.\n",
    "2. If new information conflicts with existing memory, keep the most recent version.\n",
    "\n",
    "Remember: Only include factual information directly stated by the user. Do not make assumptions.\n",
    "</instruction>\n",
    "\n",
    "Based on the chat history below, please update the user information:\n",
    "\n",
    "<system>\n",
    "\"\"\""
   ]
  },
  {
   "cell_type": "code",
   "execution_count": 90,
   "metadata": {},
   "outputs": [],
   "source": [
    "async def call_llm(\n",
    "    state: DataState, config: RunnableConfig, store: BaseStore\n",
    ") -> dict[str, Any]:\n",
    "    # Get the user id\n",
    "    user_id = config[\"configurable\"][\"user_id\"]\n",
    "\n",
    "    # Get the memory for the user\n",
    "    prefix: str = \"memory\"\n",
    "    key = \"user_memory\"\n",
    "    namespace = (prefix, user_id)\n",
    "    existing_memory = store.get(namespace, key)\n",
    "    # existing_memory = await store.aget(namespace, key)\n",
    "\n",
    "    if existing_memory and existing_memory.value:\n",
    "        memory_dict = existing_memory.value\n",
    "        formatted_memory = (\n",
    "            f\"Name: {memory_dict.get('user_name', 'Unknown')}\\n\"\n",
    "            f\"Interests: {', '.join(memory_dict.get('interests', []))}\\n\"\n",
    "        )\n",
    "    else:\n",
    "        formatted_memory = None\n",
    "\n",
    "    system_message: str = MODEL_SYSTEM_MESSAGE.format(memory=formatted_memory)\n",
    "    # Respond using memory + chat history\n",
    "    formatted_messages = convert_to_openai_messages(\n",
    "        [SystemMessage(content=system_message)] + state[\"messages\"]\n",
    "    )\n",
    "    response = await llm.ainvoke(messages=formatted_messages)\n",
    "\n",
    "    return {\"messages\": [response]}\n",
    "\n",
    "\n",
    "async def write_memory(\n",
    "    state: DataState, config: RunnableConfig, store: BaseStore\n",
    ") -> None:\n",
    "    user_id = config[\"configurable\"][\"user_id\"]\n",
    "    prefix: str = \"memory\"\n",
    "    key = \"user_memory\"\n",
    "    namespace = (prefix, user_id)\n",
    "    existing_memory = store.get(namespace, key)\n",
    "    # existing_memory = await store.aget(namespace, key)\n",
    "\n",
    "    if existing_memory and existing_memory.value:\n",
    "        memory_dict = existing_memory.value\n",
    "        formatted_memory = (\n",
    "            f\"Name: {memory_dict.get('user_name', 'Unknown')}\\n\"\n",
    "            f\"Interests: {', '.join(memory_dict.get('interests', []))}\\n\"\n",
    "        )\n",
    "    else:\n",
    "        formatted_memory = None\n",
    "\n",
    "    system_message: str = CREATE_MEMORY_INSTRUCTION.format(memory=formatted_memory)\n",
    "    # Respond using memory + chat history\n",
    "    formatted_messages = convert_to_openai_messages(\n",
    "        [SystemMessage(content=system_message)] + state[\"messages\"]\n",
    "    )\n",
    "    new_memory, _ = await llm.get_structured_response(\n",
    "        message=formatted_messages, response_model=UserProfile\n",
    "    )\n",
    "\n",
    "    # Update existing memory\n",
    "    # await store.aput(namespace, key, {prefix: new_memory.content})\n",
    "    store.put(namespace, key, {prefix: new_memory.model_dump()})"
   ]
  },
  {
   "cell_type": "code",
   "execution_count": 91,
   "metadata": {},
   "outputs": [
    {
     "data": {
      "image/png": "[encoded data removed]",
      "text/plain": [
       "<IPython.core.display.Image object>"
      ]
     },
     "metadata": {},
     "output_type": "display_data"
    }
   ],
   "source": [
    "# Graph\n",
    "graph_builder = StateGraph(DataState)\n",
    "\n",
    "# Add nodes\n",
    "graph_builder.add_node(\"call_llm\", call_llm)\n",
    "graph_builder.add_node(\"write_memory\", write_memory)\n",
    "\n",
    "# Add edges\n",
    "graph_builder.add_edge(START, \"call_llm\")\n",
    "graph_builder.add_edge(\"call_llm\", \"write_memory\")\n",
    "graph_builder.add_edge(\"write_memory\", END)\n",
    "\n",
    "# Long-term-memory store (across threads)\n",
    "across_thread_memory = InMemoryStore()\n",
    "# Short-term-memory store (within a thread) checkpointer\n",
    "within_thread_memory = MemorySaver()\n",
    "\n",
    "# Compile\n",
    "graph = graph_builder.compile(\n",
    "    checkpointer=within_thread_memory, store=across_thread_memory\n",
    ").with_config(run_name=\"chatbot-with-structured-memory\")\n",
    "\n",
    "# Visualize\n",
    "display(Image(graph.get_graph(xray=1).draw_mermaid_png()))"
   ]
  },
  {
   "cell_type": "code",
   "execution_count": 92,
   "id": "722fe344",
   "metadata": {},
   "outputs": [
    {
     "name": "stdout",
     "output_type": "stream",
     "text": [
      "================================\u001b[1m Human Message \u001b[0m=================================\n",
      "\n",
      "Hello, my name is Neidu\n",
      "================================\u001b[1m Human Message \u001b[0m=================================\n",
      "\n",
      "Hello, my name is Neidu\n",
      "================================\u001b[1m Human Message \u001b[0m=================================\n",
      "\n",
      "Hello Neidu! It's nice to meet you. I'm happy to help you with any questions or topics you'd like to discuss. Since we just started our conversation, I don't have any prior memory of our interaction, so everything we chat about will be a new start. How can I assist you today, Neidu?\n"
     ]
    }
   ],
   "source": [
    "config: dict[str, Any] = {\"configurable\": {\"thread_id\": \"1\", \"user_id\": \"1\"}}\n",
    "msgs = [\"Hello, my name is Neidu\"]\n",
    "input_state = DataState(messages=[HumanMessage(content=msg) for msg in msgs])\n",
    "\n",
    "async for event in graph.astream(input_state, config=config, stream_mode=\"values\"):\n",
    "    for msg in event[\"messages\"]:\n",
    "        msg.pretty_print()"
   ]
  },
  {
   "cell_type": "code",
   "execution_count": 93,
   "metadata": {},
   "outputs": [
    {
     "name": "stdout",
     "output_type": "stream",
     "text": [
      "================================\u001b[1m Human Message \u001b[0m=================================\n",
      "\n",
      "Hello, my name is Neidu\n",
      "================================\u001b[1m Human Message \u001b[0m=================================\n",
      "\n",
      "Hello Neidu! It's nice to meet you. I'm happy to help you with any questions or topics you'd like to discuss. Since we just started our conversation, I don't have any prior memory of our interaction, so everything we chat about will be a new start. How can I assist you today, Neidu?\n",
      "================================\u001b[1m Human Message \u001b[0m=================================\n",
      "\n",
      "I'm an AI Engineer whos's currently working on NLP related things\n",
      "================================\u001b[1m Human Message \u001b[0m=================================\n",
      "\n",
      "Hello, my name is Neidu\n",
      "================================\u001b[1m Human Message \u001b[0m=================================\n",
      "\n",
      "Hello Neidu! It's nice to meet you. I'm happy to help you with any questions or topics you'd like to discuss. Since we just started our conversation, I don't have any prior memory of our interaction, so everything we chat about will be a new start. How can I assist you today, Neidu?\n",
      "================================\u001b[1m Human Message \u001b[0m=================================\n",
      "\n",
      "I'm an AI Engineer whos's currently working on NLP related things\n",
      "================================\u001b[1m Human Message \u001b[0m=================================\n",
      "\n",
      "That's fascinating, Neidu! As an AI Engineer working on NLP, I'm sure you're always looking for ways to improve and push the boundaries of natural language understanding.\n",
      "\n",
      "What specific area of NLP are you currently focusing on? Are you working on tasks such as text classification, sentiment analysis, machine translation, or perhaps something more advanced like conversational AI or dialogue systems?\n",
      "\n",
      "(By the way, I'll make sure to remember that you're an AI Engineer working on NLP, so I can tailor my responses to be more relevant to your interests!)\n"
     ]
    }
   ],
   "source": [
    "msgs = [\"I'm an AI Engineer whos's currently working on NLP related things\"]\n",
    "input_state = DataState(messages=[HumanMessage(content=msg) for msg in msgs])\n",
    "\n",
    "async for event in graph.astream(input_state, config=config, stream_mode=\"values\"):\n",
    "    for msg in event[\"messages\"]:\n",
    "        msg.pretty_print()"
   ]
  },
  {
   "cell_type": "code",
   "execution_count": 94,
   "id": "e975b96f",
   "metadata": {},
   "outputs": [
    {
     "data": {
      "text/html": [
       "<pre style=\"white-space:pre;overflow-x:auto;line-height:normal;font-family:Menlo,'DejaVu Sans Mono',consolas,'Courier New',monospace\"><span style=\"color: #7fbfbf; text-decoration-color: #7fbfbf\">[22:31:07] </span><span style=\"font-weight: bold\">{</span><span style=\"color: #008000; text-decoration-color: #008000\">'memory'</span>: <span style=\"font-weight: bold\">{</span><span style=\"color: #008000; text-decoration-color: #008000\">'user_name'</span>: <span style=\"color: #008000; text-decoration-color: #008000\">'null'</span>, <span style=\"color: #008000; text-decoration-color: #008000\">'interests'</span>: <span style=\"font-weight: bold\">[</span><span style=\"color: #008000; text-decoration-color: #008000\">'null'</span><span style=\"font-weight: bold\">]}}</span>                                 <a href=\"file:///var/folders/ny/dl75sc_x2tb54lsymt5bh5p00000gn/T/ipykernel_21152/1135760118.py\" target=\"_blank\"><span style=\"color: #7f7f7f; text-decoration-color: #7f7f7f\">1135760118.py</span></a><span style=\"color: #7f7f7f; text-decoration-color: #7f7f7f\">:</span><a href=\"file:///var/folders/ny/dl75sc_x2tb54lsymt5bh5p00000gn/T/ipykernel_21152/1135760118.py#7\" target=\"_blank\"><span style=\"color: #7f7f7f; text-decoration-color: #7f7f7f\">7</span></a>\n",
       "</pre>\n"
      ],
      "text/plain": [
       "\u001b[2;36m[22:31:07]\u001b[0m\u001b[2;36m \u001b[0m\u001b[1m{\u001b[0m\u001b[32m'memory'\u001b[0m: \u001b[1m{\u001b[0m\u001b[32m'user_name'\u001b[0m: \u001b[32m'null'\u001b[0m, \u001b[32m'interests'\u001b[0m: \u001b[1m[\u001b[0m\u001b[32m'null'\u001b[0m\u001b[1m]\u001b[0m\u001b[1m}\u001b[0m\u001b[1m}\u001b[0m                                 \u001b]8;id=18590;file:///var/folders/ny/dl75sc_x2tb54lsymt5bh5p00000gn/T/ipykernel_21152/1135760118.py\u001b\\\u001b[2m1135760118.py\u001b[0m\u001b]8;;\u001b\\\u001b[2m:\u001b[0m\u001b]8;id=874538;file:///var/folders/ny/dl75sc_x2tb54lsymt5bh5p00000gn/T/ipykernel_21152/1135760118.py#7\u001b\\\u001b[2m7\u001b[0m\u001b]8;;\u001b\\\n"
      ]
     },
     "metadata": {},
     "output_type": "display_data"
    }
   ],
   "source": [
    "user_id = \"1\"\n",
    "prefix: str = \"memory\"\n",
    "key = \"user_memory\"\n",
    "namespace = (prefix, user_id)\n",
    "existing_memory = across_thread_memory.get(namespace, key)\n",
    "\n",
    "console.log(existing_memory.value)"
   ]
  },
  {
   "cell_type": "markdown",
   "id": "b1e9e60a",
   "metadata": {},
   "source": [
    "<br>\n",
    "\n",
    "### When can this fail?\n",
    "\n",
    "- with_structured_output is very useful, but what happens if we're working with a more complex schema?\n",
    "- Here's an example of a more complex schema, which we'll test below.\n",
    "- This is a Pydantic model that describes a user's preferences for communication and trust fall."
   ]
  },
  {
   "cell_type": "code",
   "execution_count": null,
   "id": "a9ecb9bf",
   "metadata": {},
   "outputs": [],
   "source": [
    "class OutputFormat(BaseModel):\n",
    "    preference: str\n",
    "    sentence_preference_revealed: str\n",
    "\n",
    "\n",
    "class TelegramPreferences(BaseModel):\n",
    "    preferred_encoding: list[OutputFormat] | None = None\n",
    "    favorite_telegram_operators: list[OutputFormat] | None = None\n",
    "    preferred_telegram_paper: list[OutputFormat] | None = None\n",
    "\n",
    "\n",
    "class MorseCode(BaseModel):\n",
    "    preferred_key_type: list[OutputFormat] | None = None\n",
    "    favorite_morse_abbreviations: list[OutputFormat] | None = None\n",
    "\n",
    "\n",
    "class Semaphore(BaseModel):\n",
    "    preferred_flag_color: list[OutputFormat] | None = None\n",
    "    semaphore_skill_level: list[OutputFormat] | None = None\n",
    "\n",
    "\n",
    "class TrustFallPreferences(BaseModel):\n",
    "    preferred_fall_height: list[OutputFormat] | None = None\n",
    "    trust_level: list[OutputFormat] | None = None\n",
    "    preferred_catching_technique: list[OutputFormat] | None = None\n",
    "\n",
    "\n",
    "class CommunicationPreferences(BaseModel):\n",
    "    telegram: TelegramPreferences\n",
    "    morse_code: MorseCode\n",
    "    semaphore: Semaphore\n",
    "\n",
    "\n",
    "class UserPreferences(BaseModel):\n",
    "    communication_preferences: CommunicationPreferences\n",
    "    trust_fall_preferences: TrustFallPreferences\n",
    "\n",
    "\n",
    "class TelegramAndTrustFallPreferences(BaseModel):\n",
    "    pertinent_user_preferences: UserPreferences"
   ]
  },
  {
   "cell_type": "code",
   "execution_count": null,
   "id": "f3ebf80c",
   "metadata": {},
   "outputs": [],
   "source": [
    "from json import JSONDecodeError\n",
    "\n",
    "from pydantic import ValidationError\n",
    "\n",
    "# Now, let's try extraction of this schema using the with_structured_output method.\n",
    "# Bind schema to model\n",
    "llm_with_structure = llm.with_structured_output(TelegramAndTrustFallPreferences)\n",
    "\n",
    "# Conversation\n",
    "conversation: str = \"\"\"Operator: How may I assist with your telegram, sir?\n",
    "Customer: I need to send a message about our trust fall exercise.\n",
    "Operator: Certainly. Morse code or standard encoding?\n",
    "Customer: Morse, please. I love using a straight key.\n",
    "Operator: Excellent. What's your message?\n",
    "Customer: Tell him I'm ready for a higher fall, and I prefer the diamond formation for catching.\n",
    "Operator: Done. Shall I use our \"Daredevil\" paper for this daring message?\n",
    "Customer: Perfect! Send it by your fastest carrier pigeon.\n",
    "Operator: It'll be there within the hour, sir.\"\"\"\n",
    "\n",
    "# Invoke the model\n",
    "try:\n",
    "    response = llm_with_structure.invoke(\n",
    "        f\"\"\"Extract the preferences from the following conversation:\n",
    "    <convo>\n",
    "    {conversation}\n",
    "    </convo>\"\"\"\n",
    "    )\n",
    "except (ValidationError, JSONDecodeError) as e:\n",
    "    print(e)"
   ]
  },
  {
   "cell_type": "code",
   "execution_count": null,
   "id": "3cbd767a",
   "metadata": {},
   "outputs": [],
   "source": [
    "# console.print(response)"
   ]
  },
  {
   "cell_type": "markdown",
   "id": "5fc49581",
   "metadata": {},
   "source": [
    "### Trustcall For Creating and Updating Profile Schemas\n",
    "\n",
    "- As we can see, working with schemas can be tricky. Complex schemas can be difficult to extract.\n",
    "- In addition, updating even simple schemas can pose challenges.\n",
    "\n",
    "- Consider our above chatbot.\n",
    "- We regenerated the profile schema from scratch each time we chose to save a new memory.\n",
    "- This is inefficient, potentially wasting model tokens if the schema contains a lot of information to re-generate each time.\n",
    "- Worse, we may loose information when regenerating the profile from scratch.\n",
    "- Addressing these problems is the motivation for TrustCall!\n",
    "- It's motivated by exactly these challenges while working on memory.\n",
    "\n",
    "Let's first show simple usage of extraction with TrustCall on this list of messages."
   ]
  },
  {
   "cell_type": "code",
   "execution_count": null,
   "id": "73038184",
   "metadata": {},
   "outputs": [],
   "source": [
    "# Conversation\n",
    "conversation = [\n",
    "    HumanMessage(content=\"Hi, I'm Neidu.\"),\n",
    "    AIMessage(content=\"Nice to meet you, Neidu.\"),\n",
    "    HumanMessage(content=\"I'm an AI Engineer whos's currently working on NLP related things\"),\n",
    "]\n",
    "\n",
    "conversation"
   ]
  },
  {
   "cell_type": "markdown",
   "id": "71a0f69b",
   "metadata": {},
   "source": [
    "- We use `create_extractor`, passing in the model and schema as a tool \n",
    "- `TrustCall` allows supplying the schema in various formats, such as `JSON`, `Python dictionaries`, or `Pydantic` models \n",
    "- Internally, TrustCall uses tool calling to generate structured output from message inputs \n",
    "- To enforce structured output, we can include the schema name in the tool_choice argument \n",
    "- The extractor can then be invoked with a conversation to produce validated, structured results.\n",
    "\n",
    "<br>\n",
    "\n",
    "### Note\n",
    "\n",
    "- From my experience, I noticed `trustcall` performs better with larger LLMs .e.g. GPT, Gemini models."
   ]
  },
  {
   "cell_type": "code",
   "execution_count": null,
   "id": "4d14dbfc",
   "metadata": {},
   "outputs": [],
   "source": [
    "model_str: str = f\"openai:{ModelEnum.GPT_4_o_MINI_REMOTE.value}\"\n",
    "llm: BaseChatModel = init_chat_model(\n",
    "    model=model_str,\n",
    "    api_key=settings.OPENROUTER_API_KEY.get_secret_value(),\n",
    "    base_url=settings.OPENROUTER_URL,\n",
    "    temperature=0.0,\n",
    "    seed=0,\n",
    ")\n",
    "\n",
    "# Conversation\n",
    "conversation = [\n",
    "    HumanMessage(content=\"Hi, I'm Neidu.\"),\n",
    "    AIMessage(content=\"Nice to meet you, Neidu.\"),\n",
    "    HumanMessage(content=\"I'm an AI Engineer whos's currently working on NLP related things\"),\n",
    "]"
   ]
  },
  {
   "cell_type": "code",
   "execution_count": null,
   "metadata": {},
   "outputs": [],
   "source": [
    "from trustcall import create_extractor\n",
    "\n",
    "\n",
    "class UserProfileSchema(BaseModel):\n",
    "    user_name: str = Field(description=\"User's preferred name\")\n",
    "    interests: list[str] = Field(default_factory=list, description=\"User's interests\")\n",
    "\n",
    "\n",
    "trustcall_extractor = create_extractor(\n",
    "    llm,\n",
    "    tools=[UserProfileSchema],\n",
    "    tool_choice=\"UserProfileSchema\",\n",
    ")\n",
    "system_message = \"Extract the user profile from the following conversation.\"\n",
    "\n",
    "# Invoke the extractor\n",
    "result = await trustcall_extractor.ainvoke(\n",
    "    {\"messages\": [SystemMessage(content=system_message)] + conversation}\n",
    ")\n",
    "\n",
    "console.print(result)"
   ]
  },
  {
   "cell_type": "code",
   "execution_count": null,
   "id": "2a842295",
   "metadata": {},
   "outputs": [],
   "source": [
    "for m in result[\"messages\"]:\n",
    "    m.pretty_print()"
   ]
  },
  {
   "cell_type": "code",
   "execution_count": null,
   "id": "ad04f1b7",
   "metadata": {},
   "outputs": [],
   "source": [
    "schema = result[\"responses\"][0]\n",
    "schema"
   ]
  },
  {
   "cell_type": "code",
   "execution_count": null,
   "id": "80034523",
   "metadata": {},
   "outputs": [],
   "source": [
    "schema.model_dump()"
   ]
  },
  {
   "cell_type": "code",
   "execution_count": null,
   "id": "bfee401d",
   "metadata": {},
   "outputs": [],
   "source": [
    "result[\"response_metadata\"]"
   ]
  },
  {
   "cell_type": "markdown",
   "id": "ff59b201",
   "metadata": {},
   "source": [
    "#### Update Conversations"
   ]
  },
  {
   "cell_type": "code",
   "execution_count": null,
   "metadata": {},
   "outputs": [],
   "source": [
    "updated_conversation = [\n",
    "    HumanMessage(content=\"Hi, I'm Neidu.\"),\n",
    "    AIMessage(content=\"Nice to meet you, Neidu.\"),\n",
    "    HumanMessage(content=\"I'm an AI Engineer whos's currently working on NLP related things\"),\n",
    "    AIMessage(\n",
    "        content=\"That sounds fascinating! NLP is a really exciting and impactful field in AI. \"\n",
    "        \"What will you like to know about AI?\"\n",
    "    ),\n",
    "    HumanMessage(\n",
    "        content=\"Thanks! I'm curious about the latest advancements in AI and how \"\n",
    "        \"they're being applied in real-world applications. I'm also interested in \"\n",
    "        \"agentic AI workflow\"\n",
    "    ),\n",
    "]\n",
    "\n",
    "system_message = \"\"\"\n",
    "<system>\n",
    "Update the memory (JSON doc) to incorporate new information from the following conversation\n",
    "</system>\n",
    "\"\"\"\n",
    "\n",
    "result = await trustcall_extractor.ainvoke(\n",
    "    {\"messages\": [SystemMessage(content=system_message)] + updated_conversation},\n",
    "    {\"existing\": {\"UserProfileSchema\": schema.model_dump()}},\n",
    ")\n",
    "\n",
    "\n",
    "for m in result[\"messages\"]:\n",
    "    m.pretty_print()"
   ]
  },
  {
   "cell_type": "code",
   "execution_count": null,
   "id": "862ed816",
   "metadata": {},
   "outputs": [],
   "source": [
    "result[\"response_metadata\"]"
   ]
  },
  {
   "cell_type": "code",
   "execution_count": null,
   "id": "02cc907b",
   "metadata": {},
   "outputs": [],
   "source": [
    "updated_schema = result[\"responses\"][0]\n",
    "updated_schema.model_dump()"
   ]
  },
  {
   "cell_type": "markdown",
   "id": "a0297610",
   "metadata": {},
   "source": [
    "#### Test Trustcall Using The Previously Failed Example\n",
    "\n",
    "- Unfortunately, the example is still failing."
   ]
  },
  {
   "cell_type": "code",
   "execution_count": null,
   "id": "b2cfca92",
   "metadata": {},
   "outputs": [],
   "source": [
    "# Bind schema to model using trustcall\n",
    "bound = create_extractor(\n",
    "    llm,\n",
    "    tools=[TelegramAndTrustFallPreferences],\n",
    "    tool_choice=\"TelegramAndTrustFallPreferences\",\n",
    ")\n",
    "\n",
    "# Conversation\n",
    "conversation: str = \"\"\"Operator: How may I assist with your telegram, sir?\n",
    "Customer: I need to send a message about our trust fall exercise.\n",
    "Operator: Certainly. Morse code or standard encoding?\n",
    "Customer: Morse, please. I love using a straight key.\n",
    "Operator: Excellent. What's your message?\n",
    "Customer: Tell him I'm ready for a higher fall, and I prefer the diamond formation for catching.\n",
    "Operator: Done. Shall I use our \"Daredevil\" paper for this daring message?\n",
    "Customer: Perfect! Send it by your fastest carrier pigeon.\n",
    "Operator: It'll be there within the hour, sir.\"\"\"\n",
    "\n",
    "# Invoke the model\n",
    "try:\n",
    "    response = await bound.ainvoke(\n",
    "        f\"\"\"Extract the preferences from the following conversation:\n",
    "    <convo>\n",
    "    {conversation}\n",
    "    </convo>\"\"\"\n",
    "    )\n",
    "except (ValidationError, JSONDecodeError) as e:\n",
    "    print(e)\n",
    "\n",
    "response[\"responses\"][0]"
   ]
  },
  {
   "cell_type": "code",
   "execution_count": null,
   "id": "35d6fb89",
   "metadata": {},
   "outputs": [],
   "source": [
    "response[\"responses\"]"
   ]
  },
  {
   "cell_type": "markdown",
   "id": "2db1a567",
   "metadata": {},
   "source": [
    "## Chatbot With Profile Schema Updating"
   ]
  },
  {
   "cell_type": "code",
   "execution_count": null,
   "id": "57caead3",
   "metadata": {},
   "outputs": [],
   "source": [
    "model_str: str = f\"openai:{ModelEnum.GEMINI_2p5_FLASH_REMOTE.value}\"\n",
    "llm: BaseChatModel = init_chat_model(\n",
    "    model=model_str,\n",
    "    api_key=settings.OPENROUTER_API_KEY.get_secret_value(),\n",
    "    base_url=settings.OPENROUTER_URL,\n",
    "    temperature=0.0,\n",
    "    seed=0,\n",
    ")\n",
    "\n",
    "\n",
    "class UserProfileSchema(BaseModel):\n",
    "    \"\"\"A schema for storing user profile information.\"\"\"\n",
    "\n",
    "    user_name: str = Field(description=\"User's preferred name\")\n",
    "    user_location: str = Field(description=\"User's location\")\n",
    "    interests: list[str] = Field(default_factory=list, description=\"User's interests\")\n",
    "\n",
    "\n",
    "trustcall_extractor = create_extractor(\n",
    "    llm,\n",
    "    tools=[UserProfileSchema],\n",
    "    tool_choice=\"UserProfileSchema\",\n",
    ")\n",
    "\n",
    "MODEL_SYSTEM_MESSAGE: str = \"\"\"\n",
    "<system>\n",
    "\n",
    "<role>\n",
    "You are a helpful assistant with memory that responds to the user in a conversational way. \n",
    "If you have memory for this user, use it to personalize your responses.\n",
    "</role>\n",
    "\n",
    "<memory>\n",
    "{memory}\n",
    "</memory>\n",
    "\n",
    "</system>\n",
    "\"\"\"\n",
    "\n",
    "# Extraction instruction\n",
    "TRUSTCALL_INSTRUCTION: str = \"\"\"\n",
    "<instruction>\n",
    "Create or update the memory (JSON doc) to incorporate information from the following conversation:\n",
    "</instruction>\n",
    "\"\"\""
   ]
  },
  {
   "cell_type": "code",
   "execution_count": null,
   "id": "6c6915a9",
   "metadata": {},
   "outputs": [],
   "source": [
    "async def call_llm(state: DataState, config: RunnableConfig, store: BaseStore) -> dict[str, Any]:\n",
    "    user_id: str = config[\"configurable\"][\"user_id\"]\n",
    "\n",
    "    prefix: str = \"memory\"\n",
    "    key: str = \"user_memory\"\n",
    "    namespace = (prefix, user_id)\n",
    "    existing_memory = store.get(namespace, key)\n",
    "\n",
    "    if existing_memory and existing_memory.value:\n",
    "        memory_dict = existing_memory.value\n",
    "        formatted_memory = (\n",
    "            f\"Name: {memory_dict.get('user_name', 'Unknown')}\\n\"\n",
    "            f\"Location: {memory_dict.get('user_location', 'Unknown')}\\n\"\n",
    "            f\"Interests: {', '.join(memory_dict.get('interests', []))}\"\n",
    "        )\n",
    "    else:\n",
    "        formatted_memory = None\n",
    "\n",
    "    system_message: str = MODEL_SYSTEM_MESSAGE.format(memory=formatted_memory)\n",
    "    # Respond using memory + chat history\n",
    "    response = await llm.ainvoke([SystemMessage(content=system_message)] + state[\"messages\"])\n",
    "    # Validate\n",
    "    output = {\"messages\": [response]}\n",
    "    validate_data(data=output, state=state, response_model=DataStateValidator)\n",
    "\n",
    "    return output\n",
    "\n",
    "\n",
    "async def write_memory(state: DataState, config: RunnableConfig, store: BaseStore) -> None:\n",
    "    user_id: str = config[\"configurable\"][\"user_id\"]\n",
    "\n",
    "    prefix: str = \"memory\"\n",
    "    key: str = \"user_memory\"\n",
    "    namespace = (prefix, user_id)\n",
    "    existing_memory = store.get(namespace, key)\n",
    "\n",
    "    # Get the profile and convert to JSON doc\n",
    "    existing_profile = {\"UserProfileSchema\": existing_memory.value} if existing_memory else None\n",
    "    # Invoke the extractor\n",
    "    result = await trustcall_extractor.ainvoke(\n",
    "        {\n",
    "            \"messages\": [SystemMessage(content=TRUSTCALL_INSTRUCTION)] + state[\"messages\"],\n",
    "            \"existing\": existing_profile,\n",
    "        },\n",
    "    )\n",
    "    # Get the updated profile as a JSON object\n",
    "    updated_profile = result[\"responses\"][0].model_dump()\n",
    "    # Save the updated profile\n",
    "    store.put(namespace, key, updated_profile)"
   ]
  },
  {
   "cell_type": "code",
   "execution_count": null,
   "id": "92a15ed8",
   "metadata": {},
   "outputs": [],
   "source": [
    "graph_builder = StateGraph(DataState)\n",
    "\n",
    "# Add nodes\n",
    "graph_builder.add_node(\"call_llm\", call_llm)\n",
    "graph_builder.add_node(\"write_memory\", write_memory)\n",
    "\n",
    "# Add edges\n",
    "graph_builder.add_edge(START, \"call_llm\")\n",
    "graph_builder.add_edge(\"call_llm\", \"write_memory\")\n",
    "graph_builder.add_edge(\"write_memory\", END)\n",
    "\n",
    "# Long-term-memory store (across threads)\n",
    "across_thread_memory = InMemoryStore()\n",
    "# Short-term-memory store (within a thread) checkpointer\n",
    "within_thread_memory = MemorySaver()\n",
    "\n",
    "# Compile the graph\n",
    "graph = graph_builder.compile(\n",
    "    checkpointer=within_thread_memory, store=across_thread_memory\n",
    ").with_config(run_name=\"Chatbot-with-user-profile\")\n",
    "\n",
    "\n",
    "# Visualize the graph\n",
    "display(Image(graph.get_graph(xray=1).draw_mermaid_png()))"
   ]
  },
  {
   "cell_type": "code",
   "execution_count": null,
   "id": "11660760",
   "metadata": {},
   "outputs": [],
   "source": [
    "config: dict[str, Any] = {\"configurable\": {\"thread_id\": \"1\"}, \"user_id\": \"1\"}\n",
    "input_msg: list[Any] = [\n",
    "    HumanMessage(content=\"hello, my name is Chinedu. I live in Lagos, Nigeria.\")\n",
    "]\n",
    "\n",
    "\n",
    "async for event in graph.astream({\"messages\": input_msg}, config=config, stream_mode=\"values\"):\n",
    "    event[\"messages\"][-1].pretty_print()"
   ]
  },
  {
   "cell_type": "code",
   "execution_count": null,
   "id": "4ee8b40a",
   "metadata": {},
   "outputs": [],
   "source": [
    "across_thread_memory.get((\"memory\", \"1\"), \"user_memory\")"
   ]
  },
  {
   "cell_type": "code",
   "execution_count": null,
   "id": "c7fac538",
   "metadata": {},
   "outputs": [],
   "source": [
    "input_msg = [\"I'm an AI Engineer whos's currently working on NLP related things\"]\n",
    "\n",
    "async for event in graph.astream({\"messages\": input_msg}, config=config, stream_mode=\"values\"):\n",
    "    event[\"messages\"][-1].pretty_print()"
   ]
  },
  {
   "cell_type": "code",
   "execution_count": null,
   "id": "ce068647",
   "metadata": {},
   "outputs": [],
   "source": [
    "# namespace for the memory to save\n",
    "user_id: str = \"1\"\n",
    "prefix: str = \"memory\"\n",
    "key = \"user_memory\"\n",
    "namespace = (prefix, user_id)\n",
    "existing_memory = across_thread_memory.get(namespace, key)\n",
    "existing_memory.dict()"
   ]
  },
  {
   "cell_type": "markdown",
   "id": "02ebd08e",
   "metadata": {},
   "source": [
    "<br>\n",
    "\n",
    "## [TOP](#top)\n",
    "\n",
    "<br>\n",
    "\n",
    "<a id=\"chatbot-with-profile-collection\"></a>\n",
    "## Chatbot with Profile Collection\n",
    "\n",
    "- Sometimes we want to save memories to a `collection` rather than single profile.\n",
    "- We'll update our chatbot to save memories to a collection.\n"
   ]
  },
  {
   "cell_type": "code",
   "execution_count": null,
   "metadata": {},
   "outputs": [],
   "source": [
    "model_str: str = f\"openai:{ModelEnum.GPT_4_o_MINI_REMOTE.value}\"\n",
    "llm: BaseChatModel = init_chat_model(\n",
    "    model=model_str,\n",
    "    api_key=settings.OPENROUTER_API_KEY.get_secret_value(),\n",
    "    base_url=settings.OPENROUTER_URL,\n",
    "    temperature=0.0,\n",
    "    seed=0,\n",
    ")\n",
    "\n",
    "\n",
    "class Memory(BaseModel):\n",
    "    content: str = Field(description=\"The main content of the memory.\")\n",
    "\n",
    "\n",
    "class MemoryCollection(BaseModel):\n",
    "    memories: list[Memory] = Field(description=\"A list of memories.\", default_factory=[])"
   ]
  },
  {
   "cell_type": "code",
   "execution_count": null,
   "id": "48ae1e0c",
   "metadata": {},
   "outputs": [],
   "source": [
    "llm_with_structure = llm.with_structured_output(MemoryCollection)\n",
    "memory_collection = await llm_with_structure.ainvoke(\n",
    "    [HumanMessage(content=\"My name is Neidu. I love reading books.\")]\n",
    ")\n",
    "\n",
    "console.log(memory_collection)"
   ]
  },
  {
   "cell_type": "code",
   "execution_count": null,
   "metadata": {},
   "outputs": [],
   "source": []
  },
  {
   "cell_type": "code",
   "execution_count": null,
   "metadata": {},
   "outputs": [],
   "source": []
  },
  {
   "cell_type": "code",
   "execution_count": null,
   "id": "d2a3e48c",
   "metadata": {},
   "outputs": [],
   "source": []
  },
  {
   "cell_type": "code",
   "execution_count": null,
   "metadata": {},
   "outputs": [],
   "source": []
  },
  {
   "cell_type": "code",
   "execution_count": null,
   "id": "8e72ad4e",
   "metadata": {},
   "outputs": [],
   "source": []
  },
  {
   "cell_type": "code",
   "execution_count": null,
   "metadata": {},
   "outputs": [],
   "source": []
  },
  {
   "cell_type": "code",
   "execution_count": null,
   "id": "0fc4ea24",
   "metadata": {},
   "outputs": [],
   "source": []
  },
  {
   "cell_type": "code",
   "execution_count": null,
   "metadata": {},
   "outputs": [],
   "source": []
  },
  {
   "cell_type": "code",
   "execution_count": null,
   "metadata": {},
   "outputs": [],
   "source": []
  },
  {
   "cell_type": "code",
   "execution_count": null,
   "id": "90ae9c04",
   "metadata": {},
   "outputs": [],
   "source": []
  },
  {
   "cell_type": "code",
   "execution_count": null,
   "metadata": {},
   "outputs": [],
   "source": []
  },
  {
   "cell_type": "code",
   "execution_count": null,
   "metadata": {},
   "outputs": [],
   "source": []
  },
  {
   "cell_type": "code",
   "execution_count": null,
   "id": "1821a8d0",
   "metadata": {},
   "outputs": [],
   "source": []
  },
  {
   "cell_type": "code",
   "execution_count": null,
   "id": "8fb7672d",
   "metadata": {},
   "outputs": [],
   "source": []
  },
  {
   "cell_type": "code",
   "execution_count": null,
   "id": "da8b176a",
   "metadata": {},
   "outputs": [],
   "source": []
  }
 ],
 "metadata": {
  "kernelspec": {
   "display_name": "ai-tutorials",
   "language": "python",
   "name": "python3"
  },
  "language_info": {
   "codemirror_mode": {
    "name": "ipython",
    "version": 3
   },
   "file_extension": ".py",
   "mimetype": "text/x-python",
   "name": "python",
   "nbconvert_exporter": "python",
   "pygments_lexer": "ipython3",
   "version": "3.12.7"
  }
 },
 "nbformat": 4,
 "nbformat_minor": 5
}
