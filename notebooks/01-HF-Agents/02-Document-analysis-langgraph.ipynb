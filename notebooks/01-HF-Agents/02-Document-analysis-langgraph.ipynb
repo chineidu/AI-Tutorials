{
 "cells": [
  {
   "cell_type": "markdown",
   "id": "2aba8be1",
   "metadata": {},
   "source": [
    "# Document Analysis Using Vision LLMs"
   ]
  },
  {
   "cell_type": "code",
   "execution_count": 1,
   "id": "0e958c70",
   "metadata": {},
   "outputs": [],
   "source": [
    "# Built-in library\n",
    "import json\n",
    "import logging\n",
    "import re\n",
    "import warnings\n",
    "from pathlib import Path\n",
    "from pprint import pprint\n",
    "from typing import Any, Literal, Optional, Union\n",
    "\n",
    "# Standard imports\n",
    "import numpy as np\n",
    "import numpy.typing as npt\n",
    "import pandas as pd\n",
    "import polars as pl\n",
    "from rich.console import Console\n",
    "from rich.theme import Theme\n",
    "\n",
    "custom_theme = Theme(\n",
    "    {\n",
    "        \"white\": \"#FFFFFF\",  # Bright white\n",
    "        \"info\": \"#00FF00\",  # Bright green\n",
    "        \"warning\": \"#FFD700\",  # Bright gold\n",
    "        \"error\": \"#FF1493\",  # Deep pink\n",
    "        \"success\": \"#00FFFF\",  # Cyan\n",
    "        \"highlight\": \"#FF4500\",  # Orange-red\n",
    "    }\n",
    ")\n",
    "console = Console(theme=custom_theme)\n",
    "\n",
    "# Visualization\n",
    "# import matplotlib.pyplot as pltife\n",
    "\n",
    "# NumPy settings\n",
    "np.set_printoptions(precision=4)\n",
    "\n",
    "# Pandas settings\n",
    "pd.options.display.max_rows = 1_000\n",
    "pd.options.display.max_columns = 1_000\n",
    "pd.options.display.max_colwidth = 600\n",
    "\n",
    "# Polars settings\n",
    "pl.Config.set_fmt_str_lengths(1_000)\n",
    "pl.Config.set_tbl_cols(n=1_000)\n",
    "\n",
    "warnings.filterwarnings(\"ignore\")\n",
    "\n",
    "# Black code formatter (Optional)\n",
    "%load_ext lab_black\n",
    "\n",
    "# auto reload imports\n",
    "%load_ext autoreload\n",
    "%autoreload 2"
   ]
  },
  {
   "cell_type": "code",
   "execution_count": 2,
   "metadata": {},
   "outputs": [],
   "source": [
    "def go_up_from_current_directory(*, go_up: int = 1) -> None:\n",
    "    \"\"\"This is used to up a number of directories.\n",
    "\n",
    "    Params:\n",
    "    -------\n",
    "    go_up: int, default=1\n",
    "        This indicates the number of times to go back up from the current directory.\n",
    "\n",
    "    Returns:\n",
    "    --------\n",
    "    None\n",
    "    \"\"\"\n",
    "    import os\n",
    "    import sys\n",
    "\n",
    "    CONST: str = \"../\"\n",
    "    NUM: str = CONST * go_up\n",
    "\n",
    "    # Goto the previous directory\n",
    "    prev_directory = os.path.join(os.path.dirname(__name__), NUM)\n",
    "    # Get the 'absolute path' of the previous directory\n",
    "    abs_path_prev_directory = os.path.abspath(prev_directory)\n",
    "\n",
    "    # Add the path to the System paths\n",
    "    sys.path.insert(0, abs_path_prev_directory)\n",
    "    print(abs_path_prev_directory)"
   ]
  },
  {
   "cell_type": "code",
   "execution_count": 3,
   "metadata": {},
   "outputs": [
    {
     "name": "stdout",
     "output_type": "stream",
     "text": [
      "/Users/neidu/Desktop/Projects/Personal/My_Projects/AI-Tutorials\n"
     ]
    }
   ],
   "source": [
    "go_up_from_current_directory(go_up=2)\n",
    "from settings import refresh_settings  # noqa: E402\n",
    "\n",
    "settings = refresh_settings()"
   ]
  },
  {
   "cell_type": "code",
   "execution_count": 4,
   "metadata": {},
   "outputs": [
    {
     "data": {
      "text/plain": [
       "<spacy.lang.en.English at 0x1194a2ea0>"
      ]
     },
     "execution_count": 4,
     "metadata": {},
     "output_type": "execute_result"
    }
   ],
   "source": [
    "import spacy\n",
    "\n",
    "nlp = spacy.load(\"en_core_web_sm\")\n",
    "nlp"
   ]
  },
  {
   "cell_type": "code",
   "execution_count": 5,
   "metadata": {},
   "outputs": [
    {
     "data": {
      "text/html": [
       "<pre style=\"white-space:pre;overflow-x:auto;line-height:normal;font-family:Menlo,'DejaVu Sans Mono',consolas,'Courier New',monospace\"><span style=\"color: #7fbfbf; text-decoration-color: #7fbfbf\">[17:11:06] </span><span style=\"font-weight: bold\">[</span>                                                                                        <a href=\"file:///var/folders/ny/dl75sc_x2tb54lsymt5bh5p00000gn/T/ipykernel_74270/714236457.py\" target=\"_blank\"><span style=\"color: #7f7f7f; text-decoration-color: #7f7f7f\">714236457.py</span></a><span style=\"color: #7f7f7f; text-decoration-color: #7f7f7f\">:</span><a href=\"file:///var/folders/ny/dl75sc_x2tb54lsymt5bh5p00000gn/T/ipykernel_74270/714236457.py#17\" target=\"_blank\"><span style=\"color: #7f7f7f; text-decoration-color: #7f7f7f\">17</span></a>\n",
       "<span style=\"color: #7fbfbf; text-decoration-color: #7fbfbf\">           </span>    <span style=\"color: #008000; text-decoration-color: #008000\">'Thanks for letting me know that uv add pip fixed the issue!'</span>,                       <span style=\"color: #7f7f7f; text-decoration-color: #7f7f7f\">               </span>\n",
       "<span style=\"color: #7fbfbf; text-decoration-color: #7fbfbf\">           </span>    <span style=\"color: #008000; text-decoration-color: #008000\">'That makes sense.'</span>,                                                                 <span style=\"color: #7f7f7f; text-decoration-color: #7f7f7f\">               </span>\n",
       "<span style=\"color: #7fbfbf; text-decoration-color: #7fbfbf\">           </span>    <span style=\"color: #008000; text-decoration-color: #008000\">'It indicates you were likely using uv (a fast Python package installer and </span>         <span style=\"color: #7f7f7f; text-decoration-color: #7f7f7f\">               </span>\n",
       "<span style=\"color: #7fbfbf; text-decoration-color: #7fbfbf\">           </span><span style=\"color: #008000; text-decoration-color: #008000\">resolver) to manage your environment.'</span>,                                                  <span style=\"color: #7f7f7f; text-decoration-color: #7f7f7f\">               </span>\n",
       "<span style=\"color: #7fbfbf; text-decoration-color: #7fbfbf\">           </span>    <span style=\"color: #008000; text-decoration-color: #008000\">'While uv often replaces pip for package installation, it seems your setup or </span>       <span style=\"color: #7f7f7f; text-decoration-color: #7f7f7f\">               </span>\n",
       "<span style=\"color: #7fbfbf; text-decoration-color: #7fbfbf\">           </span><span style=\"color: #008000; text-decoration-color: #008000\">workflow required pip to be explicitly added to the environment managed by uv.'</span>          <span style=\"color: #7f7f7f; text-decoration-color: #7f7f7f\">               </span>\n",
       "<span style=\"color: #7fbfbf; text-decoration-color: #7fbfbf\">           </span><span style=\"font-weight: bold\">]</span>                                                                                        <span style=\"color: #7f7f7f; text-decoration-color: #7f7f7f\">               </span>\n",
       "</pre>\n"
      ],
      "text/plain": [
       "\u001b[2;36m[17:11:06]\u001b[0m\u001b[2;36m \u001b[0m\u001b[1m[\u001b[0m                                                                                        \u001b]8;id=731788;file:///var/folders/ny/dl75sc_x2tb54lsymt5bh5p00000gn/T/ipykernel_74270/714236457.py\u001b\\\u001b[2m714236457.py\u001b[0m\u001b]8;;\u001b\\\u001b[2m:\u001b[0m\u001b]8;id=942608;file:///var/folders/ny/dl75sc_x2tb54lsymt5bh5p00000gn/T/ipykernel_74270/714236457.py#17\u001b\\\u001b[2m17\u001b[0m\u001b]8;;\u001b\\\n",
       "\u001b[2;36m           \u001b[0m    \u001b[32m'Thanks for letting me know that uv add pip fixed the issue!'\u001b[0m,                       \u001b[2m               \u001b[0m\n",
       "\u001b[2;36m           \u001b[0m    \u001b[32m'That makes sense.'\u001b[0m,                                                                 \u001b[2m               \u001b[0m\n",
       "\u001b[2;36m           \u001b[0m    \u001b[32m'It indicates you were likely using uv \u001b[0m\u001b[32m(\u001b[0m\u001b[32ma fast Python package installer and \u001b[0m         \u001b[2m               \u001b[0m\n",
       "\u001b[2;36m           \u001b[0m\u001b[32mresolver\u001b[0m\u001b[32m)\u001b[0m\u001b[32m to manage your environment.'\u001b[0m,                                                  \u001b[2m               \u001b[0m\n",
       "\u001b[2;36m           \u001b[0m    \u001b[32m'While uv often replaces pip for package installation, it seems your setup or \u001b[0m       \u001b[2m               \u001b[0m\n",
       "\u001b[2;36m           \u001b[0m\u001b[32mworkflow required pip to be explicitly added to the environment managed by uv.'\u001b[0m          \u001b[2m               \u001b[0m\n",
       "\u001b[2;36m           \u001b[0m\u001b[1m]\u001b[0m                                                                                        \u001b[2m               \u001b[0m\n"
      ]
     },
     "metadata": {},
     "output_type": "display_data"
    }
   ],
   "source": [
    "text: str = (\n",
    "    \"Thanks for letting me know that uv add pip fixed the issue! That makes sense. It \"\n",
    "    \"indicates you were likely using uv (a fast Python package installer and resolver) \"\n",
    "    \"to manage your environment. While uv often replaces pip for package installation, \"\n",
    "    \"it seems your setup or workflow required pip to be explicitly added to the \"\n",
    "    \"environment managed by uv.\"\n",
    ")\n",
    "\n",
    "\n",
    "docs = nlp(text)\n",
    "\n",
    "# for idx, row in enumerate(docs.sents):\n",
    "# print(f\"Sentence {idx}:\\n{row}\")\n",
    "# print()\n",
    "\n",
    "sentences: list[str] = [sent.text for sent in docs.sents]\n",
    "console.log(sentences)"
   ]
  },
  {
   "cell_type": "raw",
   "metadata": {
    "vscode": {
     "languageId": "raw"
    }
   },
   "source": [
    "- chunk a document into smaller chunks based on the number of sentences.\n",
    "- the max number of tokens within a chunk is M\n",
    "- the maximum number of chunks is N\n",
    "- if the number of chunks is more than N, then increase the number of sentences within a chunk without exceeding M"
   ]
  },
  {
   "cell_type": "code",
   "execution_count": 6,
   "metadata": {},
   "outputs": [],
   "source": [
    "from typing import Generator, Iterable\n",
    "\n",
    "\n",
    "def create_batches(\n",
    "    data: list[Iterable[Any]], batch_size: int\n",
    ") -> Generator[list[Any], None, None]:\n",
    "    \"\"\"\n",
    "    Create batches from a list of data.\n",
    "\n",
    "    Parameters\n",
    "    ----------\n",
    "    data : list[Iterable[Any]]\n",
    "        The input list of iterables to be batched.\n",
    "    batch_size : int\n",
    "        The size of each batch.\n",
    "\n",
    "    Returns\n",
    "    -------\n",
    "    Generator[list[Any], None, None]\n",
    "        A generator yielding batches of the input data.\n",
    "\n",
    "    Examples\n",
    "    --------\n",
    "    >>> data = [1, 2, 3, 4, 5]\n",
    "    >>> list(create_batches(data, 2))\n",
    "    [[1, 2], [3, 4], [5]]\n",
    "    \"\"\"\n",
    "    for i in range(0, len(data), batch_size):\n",
    "        yield data[i : i + batch_size]\n",
    "\n",
    "\n",
    "def calculate_chunk_size(total_sentences: int, max_allowed_chunks: int) -> int:\n",
    "    \"\"\"\n",
    "    Calculate the optimal size for each chunk based on the total sentences and maximum allowed chunks.\n",
    "\n",
    "    Parameters\n",
    "    ----------\n",
    "    total_sentences : int\n",
    "        Total number of sentences to be processed.\n",
    "    max_allowed_chunks : int\n",
    "        Maximum number of chunks allowed.\n",
    "\n",
    "    Returns\n",
    "    -------\n",
    "    int\n",
    "        Optimal chunk size to ensure total chunks doesn't exceed max_allowed_chunks.\n",
    "    \"\"\"\n",
    "    return int(np.ceil(total_sentences / max_allowed_chunks))\n",
    "\n",
    "\n",
    "def create_overlapping_chunks(\n",
    "    sentences: list[str], chunk_size: int, overlap_size: int = 2\n",
    ") -> list[list[str]]:\n",
    "    \"\"\"\n",
    "    Create chunks of sentences with specified overlap between adjacent chunks.\n",
    "\n",
    "    Parameters\n",
    "    ----------\n",
    "    sentences : list[str]\n",
    "        List of sentences to be divided into chunks.\n",
    "    chunk_size : int\n",
    "        Number of sentences in each chunk.\n",
    "    overlap_size : int, optional\n",
    "        Number of sentences to overlap between adjacent chunks, by default 2.\n",
    "\n",
    "    Returns\n",
    "    -------\n",
    "    list[list[str]]\n",
    "        List of sentence chunks with specified overlap between adjacent chunks.\n",
    "\n",
    "    Notes\n",
    "    -----\n",
    "    If the initial chunking produces more than MAX_ALLOWED_CHUNKS (5), the function\n",
    "    recalculates the chunk size to ensure the total chunks stays within the limit.\n",
    "    \"\"\"\n",
    "    MAX_ALLOWED_CHUNKS: int = 5\n",
    "    initial_chunks = list(create_batches(sentences, batch_size=chunk_size))\n",
    "\n",
    "    # Adjust chunk size if we exceed the maximum allowed chunks\n",
    "    if len(initial_chunks) > MAX_ALLOWED_CHUNKS:\n",
    "        adjusted_chunk_size = calculate_chunk_size(len(sentences), MAX_ALLOWED_CHUNKS)\n",
    "        initial_chunks = list(create_batches(sentences, batch_size=adjusted_chunk_size))\n",
    "\n",
    "    overlapping_chunks: list[list[Any]] = []\n",
    "\n",
    "    for i in range(len(initial_chunks)):\n",
    "        try:\n",
    "            if i < len(initial_chunks) - 1:\n",
    "                # Combine current chunk with overlap from next chunk\n",
    "                combined_chunk = np.hstack(\n",
    "                    (initial_chunks[i], initial_chunks[i + 1][:overlap_size])\n",
    "                )\n",
    "                overlapping_chunks.append(combined_chunk)\n",
    "            else:\n",
    "                # For the last chunk, just add it as is\n",
    "                overlapping_chunks.append(np.array(initial_chunks[i]))\n",
    "        except IndexError:\n",
    "            overlapping_chunks.append(np.array(initial_chunks[i]))\n",
    "\n",
    "    return overlapping_chunks"
   ]
  },
  {
   "cell_type": "code",
   "execution_count": 7,
   "id": "41c2c2b6",
   "metadata": {},
   "outputs": [
    {
     "data": {
      "text/html": [
       "<pre style=\"white-space:pre;overflow-x:auto;line-height:normal;font-family:Menlo,'DejaVu Sans Mono',consolas,'Courier New',monospace\"><span style=\"color: #7fbfbf; text-decoration-color: #7fbfbf\">           </span><span style=\"color: #ffd700; text-decoration-color: #ffd700; font-weight: bold\">[</span><span style=\"color: #ffd700; text-decoration-color: #ffd700\">                                                                                      </span> <a href=\"file:///var/folders/ny/dl75sc_x2tb54lsymt5bh5p00000gn/T/ipykernel_74270/3678445438.py\" target=\"_blank\"><span style=\"color: #7f7f7f; text-decoration-color: #7f7f7f\">3678445438.py</span></a><span style=\"color: #7f7f7f; text-decoration-color: #7f7f7f\">:</span><a href=\"file:///var/folders/ny/dl75sc_x2tb54lsymt5bh5p00000gn/T/ipykernel_74270/3678445438.py#12\" target=\"_blank\"><span style=\"color: #7f7f7f; text-decoration-color: #7f7f7f\">12</span></a>\n",
       "<span style=\"color: #7fbfbf; text-decoration-color: #7fbfbf\">           </span><span style=\"color: #ffd700; text-decoration-color: #ffd700\">    </span><span style=\"color: #ffd700; text-decoration-color: #ffd700; font-weight: bold\">[</span><span style=\"color: #008000; text-decoration-color: #008000\">'My name is Jon Doe.'</span><span style=\"color: #ffd700; text-decoration-color: #ffd700\">, </span><span style=\"color: #008000; text-decoration-color: #008000\">'I live in SF.'</span><span style=\"color: #ffd700; text-decoration-color: #ffd700; font-weight: bold\">]</span><span style=\"color: #ffd700; text-decoration-color: #ffd700\">,                                          </span> <span style=\"color: #7f7f7f; text-decoration-color: #7f7f7f\">                </span>\n",
       "<span style=\"color: #7fbfbf; text-decoration-color: #7fbfbf\">           </span><span style=\"color: #ffd700; text-decoration-color: #ffd700\">    </span><span style=\"color: #ffd700; text-decoration-color: #ffd700; font-weight: bold\">[</span><span style=\"color: #ffd700; text-decoration-color: #ffd700\">                                                                                  </span> <span style=\"color: #7f7f7f; text-decoration-color: #7f7f7f\">                </span>\n",
       "<span style=\"color: #7fbfbf; text-decoration-color: #7fbfbf\">           </span><span style=\"color: #ffd700; text-decoration-color: #ffd700\">        </span><span style=\"color: #008000; text-decoration-color: #008000\">'I have a 1 year old daughter.'</span><span style=\"color: #ffd700; text-decoration-color: #ffd700\">,                                               </span> <span style=\"color: #7f7f7f; text-decoration-color: #7f7f7f\">                </span>\n",
       "<span style=\"color: #7fbfbf; text-decoration-color: #7fbfbf\">           </span><span style=\"color: #ffd700; text-decoration-color: #ffd700\">        </span><span style=\"color: #008000; text-decoration-color: #008000\">'Thanks for letting me know that uv add pip fixed the issue!'</span><span style=\"color: #ffd700; text-decoration-color: #ffd700\">                  </span> <span style=\"color: #7f7f7f; text-decoration-color: #7f7f7f\">                </span>\n",
       "<span style=\"color: #7fbfbf; text-decoration-color: #7fbfbf\">           </span><span style=\"color: #ffd700; text-decoration-color: #ffd700\">    </span><span style=\"color: #ffd700; text-decoration-color: #ffd700; font-weight: bold\">]</span><span style=\"color: #ffd700; text-decoration-color: #ffd700\">,                                                                                 </span> <span style=\"color: #7f7f7f; text-decoration-color: #7f7f7f\">                </span>\n",
       "<span style=\"color: #7fbfbf; text-decoration-color: #7fbfbf\">           </span><span style=\"color: #ffd700; text-decoration-color: #ffd700\">    </span><span style=\"color: #ffd700; text-decoration-color: #ffd700; font-weight: bold\">[</span><span style=\"color: #ffd700; text-decoration-color: #ffd700\">                                                                                  </span> <span style=\"color: #7f7f7f; text-decoration-color: #7f7f7f\">                </span>\n",
       "<span style=\"color: #7fbfbf; text-decoration-color: #7fbfbf\">           </span><span style=\"color: #ffd700; text-decoration-color: #ffd700\">        </span><span style=\"color: #008000; text-decoration-color: #008000\">'That makes sense.'</span><span style=\"color: #ffd700; text-decoration-color: #ffd700\">,                                                           </span> <span style=\"color: #7f7f7f; text-decoration-color: #7f7f7f\">                </span>\n",
       "<span style=\"color: #7fbfbf; text-decoration-color: #7fbfbf\">           </span><span style=\"color: #ffd700; text-decoration-color: #ffd700\">        </span><span style=\"color: #008000; text-decoration-color: #008000\">'It indicates you were likely using uv (a fast Python package installer and </span><span style=\"color: #ffd700; text-decoration-color: #ffd700\">   </span> <span style=\"color: #7f7f7f; text-decoration-color: #7f7f7f\">                </span>\n",
       "<span style=\"color: #7fbfbf; text-decoration-color: #7fbfbf\">           </span><span style=\"color: #008000; text-decoration-color: #008000\">resolver) to manage your environment.'</span><span style=\"color: #ffd700; text-decoration-color: #ffd700\">                                                 </span> <span style=\"color: #7f7f7f; text-decoration-color: #7f7f7f\">                </span>\n",
       "<span style=\"color: #7fbfbf; text-decoration-color: #7fbfbf\">           </span><span style=\"color: #ffd700; text-decoration-color: #ffd700\">    </span><span style=\"color: #ffd700; text-decoration-color: #ffd700; font-weight: bold\">]</span><span style=\"color: #ffd700; text-decoration-color: #ffd700\">,                                                                                 </span> <span style=\"color: #7f7f7f; text-decoration-color: #7f7f7f\">                </span>\n",
       "<span style=\"color: #7fbfbf; text-decoration-color: #7fbfbf\">           </span><span style=\"color: #ffd700; text-decoration-color: #ffd700\">    </span><span style=\"color: #ffd700; text-decoration-color: #ffd700; font-weight: bold\">[</span><span style=\"color: #008000; text-decoration-color: #008000\">'God is love.'</span><span style=\"color: #ffd700; text-decoration-color: #ffd700\">, </span><span style=\"color: #008000; text-decoration-color: #008000\">'G.O.A.T.'</span><span style=\"color: #ffd700; text-decoration-color: #ffd700; font-weight: bold\">]</span><span style=\"color: #ffd700; text-decoration-color: #ffd700\">,                                                      </span> <span style=\"color: #7f7f7f; text-decoration-color: #7f7f7f\">                </span>\n",
       "<span style=\"color: #7fbfbf; text-decoration-color: #7fbfbf\">           </span><span style=\"color: #ffd700; text-decoration-color: #ffd700\">    </span><span style=\"color: #ffd700; text-decoration-color: #ffd700; font-weight: bold\">[</span><span style=\"color: #008000; text-decoration-color: #008000\">'That guy is a legend!'</span><span style=\"color: #ffd700; text-decoration-color: #ffd700; font-weight: bold\">]</span><span style=\"color: #ffd700; text-decoration-color: #ffd700\">                                                          </span> <span style=\"color: #7f7f7f; text-decoration-color: #7f7f7f\">                </span>\n",
       "<span style=\"color: #7fbfbf; text-decoration-color: #7fbfbf\">           </span><span style=\"color: #ffd700; text-decoration-color: #ffd700; font-weight: bold\">]</span><span style=\"color: #ffd700; text-decoration-color: #ffd700\">                                                                                      </span> <span style=\"color: #7f7f7f; text-decoration-color: #7f7f7f\">                </span>\n",
       "</pre>\n"
      ],
      "text/plain": [
       "\u001b[2;36m          \u001b[0m\u001b[2;36m \u001b[0m\u001b[1;38;2;255;215;0m[\u001b[0m\u001b[38;2;255;215;0m                                                                                      \u001b[0m \u001b]8;id=67613;file:///var/folders/ny/dl75sc_x2tb54lsymt5bh5p00000gn/T/ipykernel_74270/3678445438.py\u001b\\\u001b[2m3678445438.py\u001b[0m\u001b]8;;\u001b\\\u001b[2m:\u001b[0m\u001b]8;id=696834;file:///var/folders/ny/dl75sc_x2tb54lsymt5bh5p00000gn/T/ipykernel_74270/3678445438.py#12\u001b\\\u001b[2m12\u001b[0m\u001b]8;;\u001b\\\n",
       "\u001b[2;36m           \u001b[0m\u001b[38;2;255;215;0m    \u001b[0m\u001b[1;38;2;255;215;0m[\u001b[0m\u001b[32m'My name is Jon Doe.'\u001b[0m\u001b[38;2;255;215;0m, \u001b[0m\u001b[32m'I live in SF.'\u001b[0m\u001b[1;38;2;255;215;0m]\u001b[0m\u001b[38;2;255;215;0m,                                          \u001b[0m \u001b[2m                \u001b[0m\n",
       "\u001b[2;36m           \u001b[0m\u001b[38;2;255;215;0m    \u001b[0m\u001b[1;38;2;255;215;0m[\u001b[0m\u001b[38;2;255;215;0m                                                                                  \u001b[0m \u001b[2m                \u001b[0m\n",
       "\u001b[2;36m           \u001b[0m\u001b[38;2;255;215;0m        \u001b[0m\u001b[32m'I have a 1 year old daughter.'\u001b[0m\u001b[38;2;255;215;0m,                                               \u001b[0m \u001b[2m                \u001b[0m\n",
       "\u001b[2;36m           \u001b[0m\u001b[38;2;255;215;0m        \u001b[0m\u001b[32m'Thanks for letting me know that uv add pip fixed the issue!'\u001b[0m\u001b[38;2;255;215;0m                  \u001b[0m \u001b[2m                \u001b[0m\n",
       "\u001b[2;36m           \u001b[0m\u001b[38;2;255;215;0m    \u001b[0m\u001b[1;38;2;255;215;0m]\u001b[0m\u001b[38;2;255;215;0m,                                                                                 \u001b[0m \u001b[2m                \u001b[0m\n",
       "\u001b[2;36m           \u001b[0m\u001b[38;2;255;215;0m    \u001b[0m\u001b[1;38;2;255;215;0m[\u001b[0m\u001b[38;2;255;215;0m                                                                                  \u001b[0m \u001b[2m                \u001b[0m\n",
       "\u001b[2;36m           \u001b[0m\u001b[38;2;255;215;0m        \u001b[0m\u001b[32m'That makes sense.'\u001b[0m\u001b[38;2;255;215;0m,                                                           \u001b[0m \u001b[2m                \u001b[0m\n",
       "\u001b[2;36m           \u001b[0m\u001b[38;2;255;215;0m        \u001b[0m\u001b[32m'It indicates you were likely using uv \u001b[0m\u001b[32m(\u001b[0m\u001b[32ma fast Python package installer and \u001b[0m\u001b[38;2;255;215;0m   \u001b[0m \u001b[2m                \u001b[0m\n",
       "\u001b[2;36m           \u001b[0m\u001b[32mresolver\u001b[0m\u001b[32m)\u001b[0m\u001b[32m to manage your environment.'\u001b[0m\u001b[38;2;255;215;0m                                                 \u001b[0m \u001b[2m                \u001b[0m\n",
       "\u001b[2;36m           \u001b[0m\u001b[38;2;255;215;0m    \u001b[0m\u001b[1;38;2;255;215;0m]\u001b[0m\u001b[38;2;255;215;0m,                                                                                 \u001b[0m \u001b[2m                \u001b[0m\n",
       "\u001b[2;36m           \u001b[0m\u001b[38;2;255;215;0m    \u001b[0m\u001b[1;38;2;255;215;0m[\u001b[0m\u001b[32m'God is love.'\u001b[0m\u001b[38;2;255;215;0m, \u001b[0m\u001b[32m'G.O.A.T.'\u001b[0m\u001b[1;38;2;255;215;0m]\u001b[0m\u001b[38;2;255;215;0m,                                                      \u001b[0m \u001b[2m                \u001b[0m\n",
       "\u001b[2;36m           \u001b[0m\u001b[38;2;255;215;0m    \u001b[0m\u001b[1;38;2;255;215;0m[\u001b[0m\u001b[32m'That guy is a legend!'\u001b[0m\u001b[1;38;2;255;215;0m]\u001b[0m\u001b[38;2;255;215;0m                                                          \u001b[0m \u001b[2m                \u001b[0m\n",
       "\u001b[2;36m           \u001b[0m\u001b[1;38;2;255;215;0m]\u001b[0m\u001b[38;2;255;215;0m                                                                                      \u001b[0m \u001b[2m                \u001b[0m\n"
      ]
     },
     "metadata": {},
     "output_type": "display_data"
    },
    {
     "data": {
      "text/html": [
       "<pre style=\"white-space:pre;overflow-x:auto;line-height:normal;font-family:Menlo,'DejaVu Sans Mono',consolas,'Courier New',monospace\"><span style=\"color: #7fbfbf; text-decoration-color: #7fbfbf\">           </span><span style=\"font-weight: bold\">[</span>                                                                                       <a href=\"file:///var/folders/ny/dl75sc_x2tb54lsymt5bh5p00000gn/T/ipykernel_74270/3678445438.py\" target=\"_blank\"><span style=\"color: #7f7f7f; text-decoration-color: #7f7f7f\">3678445438.py</span></a><span style=\"color: #7f7f7f; text-decoration-color: #7f7f7f\">:</span><a href=\"file:///var/folders/ny/dl75sc_x2tb54lsymt5bh5p00000gn/T/ipykernel_74270/3678445438.py#13\" target=\"_blank\"><span style=\"color: #7f7f7f; text-decoration-color: #7f7f7f\">13</span></a>\n",
       "<span style=\"color: #7fbfbf; text-decoration-color: #7fbfbf\">           </span>    <span style=\"color: #800080; text-decoration-color: #800080; font-weight: bold\">array</span><span style=\"font-weight: bold\">([</span><span style=\"color: #008000; text-decoration-color: #008000\">'My name is Jon Doe.'</span>, <span style=\"color: #008000; text-decoration-color: #008000\">'I live in SF.'</span>,                                      <span style=\"color: #7f7f7f; text-decoration-color: #7f7f7f\">                </span>\n",
       "<span style=\"color: #7fbfbf; text-decoration-color: #7fbfbf\">           </span>       <span style=\"color: #008000; text-decoration-color: #008000\">'I have a 1 year old daughter.'</span>,                                                 <span style=\"color: #7f7f7f; text-decoration-color: #7f7f7f\">                </span>\n",
       "<span style=\"color: #7fbfbf; text-decoration-color: #7fbfbf\">           </span>       <span style=\"color: #008000; text-decoration-color: #008000\">'Thanks for letting me know that uv add pip fixed the issue!'</span><span style=\"font-weight: bold\">]</span>,                  <span style=\"color: #7f7f7f; text-decoration-color: #7f7f7f\">                </span>\n",
       "<span style=\"color: #7fbfbf; text-decoration-color: #7fbfbf\">           </span>      <span style=\"color: #808000; text-decoration-color: #808000\">dtype</span>=<span style=\"color: #008000; text-decoration-color: #008000\">'&lt;U59'</span><span style=\"font-weight: bold\">)</span>,                                                                    <span style=\"color: #7f7f7f; text-decoration-color: #7f7f7f\">                </span>\n",
       "<span style=\"color: #7fbfbf; text-decoration-color: #7fbfbf\">           </span>    <span style=\"color: #800080; text-decoration-color: #800080; font-weight: bold\">array</span><span style=\"font-weight: bold\">([</span><span style=\"color: #008000; text-decoration-color: #008000\">'I have a 1 year old daughter.'</span>,                                             <span style=\"color: #7f7f7f; text-decoration-color: #7f7f7f\">                </span>\n",
       "<span style=\"color: #7fbfbf; text-decoration-color: #7fbfbf\">           </span>       <span style=\"color: #008000; text-decoration-color: #008000\">'Thanks for letting me know that uv add pip fixed the issue!'</span>,                   <span style=\"color: #7f7f7f; text-decoration-color: #7f7f7f\">                </span>\n",
       "<span style=\"color: #7fbfbf; text-decoration-color: #7fbfbf\">           </span>       <span style=\"color: #008000; text-decoration-color: #008000\">'That makes sense.'</span>,                                                             <span style=\"color: #7f7f7f; text-decoration-color: #7f7f7f\">                </span>\n",
       "<span style=\"color: #7fbfbf; text-decoration-color: #7fbfbf\">           </span>       <span style=\"color: #008000; text-decoration-color: #008000\">'It indicates you were likely using uv (a fast Python package installer and </span>     <span style=\"color: #7f7f7f; text-decoration-color: #7f7f7f\">                </span>\n",
       "<span style=\"color: #7fbfbf; text-decoration-color: #7fbfbf\">           </span><span style=\"color: #008000; text-decoration-color: #008000\">resolver) to manage your environment.'</span><span style=\"font-weight: bold\">]</span>,                                                <span style=\"color: #7f7f7f; text-decoration-color: #7f7f7f\">                </span>\n",
       "<span style=\"color: #7fbfbf; text-decoration-color: #7fbfbf\">           </span>      <span style=\"color: #808000; text-decoration-color: #808000\">dtype</span>=<span style=\"color: #008000; text-decoration-color: #008000\">'&lt;U112'</span><span style=\"font-weight: bold\">)</span>,                                                                   <span style=\"color: #7f7f7f; text-decoration-color: #7f7f7f\">                </span>\n",
       "<span style=\"color: #7fbfbf; text-decoration-color: #7fbfbf\">           </span>    <span style=\"color: #800080; text-decoration-color: #800080; font-weight: bold\">array</span><span style=\"font-weight: bold\">([</span><span style=\"color: #008000; text-decoration-color: #008000\">'That makes sense.'</span>,                                                         <span style=\"color: #7f7f7f; text-decoration-color: #7f7f7f\">                </span>\n",
       "<span style=\"color: #7fbfbf; text-decoration-color: #7fbfbf\">           </span>       <span style=\"color: #008000; text-decoration-color: #008000\">'It indicates you were likely using uv (a fast Python package installer and </span>     <span style=\"color: #7f7f7f; text-decoration-color: #7f7f7f\">                </span>\n",
       "<span style=\"color: #7fbfbf; text-decoration-color: #7fbfbf\">           </span><span style=\"color: #008000; text-decoration-color: #008000\">resolver) to manage your environment.'</span>,                                                 <span style=\"color: #7f7f7f; text-decoration-color: #7f7f7f\">                </span>\n",
       "<span style=\"color: #7fbfbf; text-decoration-color: #7fbfbf\">           </span>       <span style=\"color: #008000; text-decoration-color: #008000\">'God is love.'</span>, <span style=\"color: #008000; text-decoration-color: #008000\">'G.O.A.T.'</span><span style=\"font-weight: bold\">]</span>, <span style=\"color: #808000; text-decoration-color: #808000\">dtype</span>=<span style=\"color: #008000; text-decoration-color: #008000\">'&lt;U112'</span><span style=\"font-weight: bold\">)</span>,                                     <span style=\"color: #7f7f7f; text-decoration-color: #7f7f7f\">                </span>\n",
       "<span style=\"color: #7fbfbf; text-decoration-color: #7fbfbf\">           </span>    <span style=\"color: #800080; text-decoration-color: #800080; font-weight: bold\">array</span><span style=\"font-weight: bold\">([</span><span style=\"color: #008000; text-decoration-color: #008000\">'God is love.'</span>, <span style=\"color: #008000; text-decoration-color: #008000\">'G.O.A.T.'</span>, <span style=\"color: #008000; text-decoration-color: #008000\">'That guy is a legend!'</span><span style=\"font-weight: bold\">]</span>, <span style=\"color: #808000; text-decoration-color: #808000\">dtype</span>=<span style=\"color: #008000; text-decoration-color: #008000\">'&lt;U21'</span><span style=\"font-weight: bold\">)</span>,         <span style=\"color: #7f7f7f; text-decoration-color: #7f7f7f\">                </span>\n",
       "<span style=\"color: #7fbfbf; text-decoration-color: #7fbfbf\">           </span>    <span style=\"color: #800080; text-decoration-color: #800080; font-weight: bold\">array</span><span style=\"font-weight: bold\">([</span><span style=\"color: #008000; text-decoration-color: #008000\">'That guy is a legend!'</span><span style=\"font-weight: bold\">]</span>, <span style=\"color: #808000; text-decoration-color: #808000\">dtype</span>=<span style=\"color: #008000; text-decoration-color: #008000\">'&lt;U21'</span><span style=\"font-weight: bold\">)</span>                                      <span style=\"color: #7f7f7f; text-decoration-color: #7f7f7f\">                </span>\n",
       "<span style=\"color: #7fbfbf; text-decoration-color: #7fbfbf\">           </span><span style=\"font-weight: bold\">]</span>                                                                                       <span style=\"color: #7f7f7f; text-decoration-color: #7f7f7f\">                </span>\n",
       "</pre>\n"
      ],
      "text/plain": [
       "\u001b[2;36m          \u001b[0m\u001b[2;36m \u001b[0m\u001b[1m[\u001b[0m                                                                                       \u001b]8;id=933642;file:///var/folders/ny/dl75sc_x2tb54lsymt5bh5p00000gn/T/ipykernel_74270/3678445438.py\u001b\\\u001b[2m3678445438.py\u001b[0m\u001b]8;;\u001b\\\u001b[2m:\u001b[0m\u001b]8;id=467461;file:///var/folders/ny/dl75sc_x2tb54lsymt5bh5p00000gn/T/ipykernel_74270/3678445438.py#13\u001b\\\u001b[2m13\u001b[0m\u001b]8;;\u001b\\\n",
       "\u001b[2;36m           \u001b[0m    \u001b[1;35marray\u001b[0m\u001b[1m(\u001b[0m\u001b[1m[\u001b[0m\u001b[32m'My name is Jon Doe.'\u001b[0m, \u001b[32m'I live in SF.'\u001b[0m,                                      \u001b[2m                \u001b[0m\n",
       "\u001b[2;36m           \u001b[0m       \u001b[32m'I have a 1 year old daughter.'\u001b[0m,                                                 \u001b[2m                \u001b[0m\n",
       "\u001b[2;36m           \u001b[0m       \u001b[32m'Thanks for letting me know that uv add pip fixed the issue!'\u001b[0m\u001b[1m]\u001b[0m,                  \u001b[2m                \u001b[0m\n",
       "\u001b[2;36m           \u001b[0m      \u001b[33mdtype\u001b[0m=\u001b[32m'<U59'\u001b[0m\u001b[1m)\u001b[0m,                                                                    \u001b[2m                \u001b[0m\n",
       "\u001b[2;36m           \u001b[0m    \u001b[1;35marray\u001b[0m\u001b[1m(\u001b[0m\u001b[1m[\u001b[0m\u001b[32m'I have a 1 year old daughter.'\u001b[0m,                                             \u001b[2m                \u001b[0m\n",
       "\u001b[2;36m           \u001b[0m       \u001b[32m'Thanks for letting me know that uv add pip fixed the issue!'\u001b[0m,                   \u001b[2m                \u001b[0m\n",
       "\u001b[2;36m           \u001b[0m       \u001b[32m'That makes sense.'\u001b[0m,                                                             \u001b[2m                \u001b[0m\n",
       "\u001b[2;36m           \u001b[0m       \u001b[32m'It indicates you were likely using uv \u001b[0m\u001b[32m(\u001b[0m\u001b[32ma fast Python package installer and \u001b[0m     \u001b[2m                \u001b[0m\n",
       "\u001b[2;36m           \u001b[0m\u001b[32mresolver\u001b[0m\u001b[32m)\u001b[0m\u001b[32m to manage your environment.'\u001b[0m\u001b[1m]\u001b[0m,                                                \u001b[2m                \u001b[0m\n",
       "\u001b[2;36m           \u001b[0m      \u001b[33mdtype\u001b[0m=\u001b[32m'<U112'\u001b[0m\u001b[1m)\u001b[0m,                                                                   \u001b[2m                \u001b[0m\n",
       "\u001b[2;36m           \u001b[0m    \u001b[1;35marray\u001b[0m\u001b[1m(\u001b[0m\u001b[1m[\u001b[0m\u001b[32m'That makes sense.'\u001b[0m,                                                         \u001b[2m                \u001b[0m\n",
       "\u001b[2;36m           \u001b[0m       \u001b[32m'It indicates you were likely using uv \u001b[0m\u001b[32m(\u001b[0m\u001b[32ma fast Python package installer and \u001b[0m     \u001b[2m                \u001b[0m\n",
       "\u001b[2;36m           \u001b[0m\u001b[32mresolver\u001b[0m\u001b[32m)\u001b[0m\u001b[32m to manage your environment.'\u001b[0m,                                                 \u001b[2m                \u001b[0m\n",
       "\u001b[2;36m           \u001b[0m       \u001b[32m'God is love.'\u001b[0m, \u001b[32m'G.O.A.T.'\u001b[0m\u001b[1m]\u001b[0m, \u001b[33mdtype\u001b[0m=\u001b[32m'<U112'\u001b[0m\u001b[1m)\u001b[0m,                                     \u001b[2m                \u001b[0m\n",
       "\u001b[2;36m           \u001b[0m    \u001b[1;35marray\u001b[0m\u001b[1m(\u001b[0m\u001b[1m[\u001b[0m\u001b[32m'God is love.'\u001b[0m, \u001b[32m'G.O.A.T.'\u001b[0m, \u001b[32m'That guy is a legend!'\u001b[0m\u001b[1m]\u001b[0m, \u001b[33mdtype\u001b[0m=\u001b[32m'<U21'\u001b[0m\u001b[1m)\u001b[0m,         \u001b[2m                \u001b[0m\n",
       "\u001b[2;36m           \u001b[0m    \u001b[1;35marray\u001b[0m\u001b[1m(\u001b[0m\u001b[1m[\u001b[0m\u001b[32m'That guy is a legend!'\u001b[0m\u001b[1m]\u001b[0m, \u001b[33mdtype\u001b[0m=\u001b[32m'<U21'\u001b[0m\u001b[1m)\u001b[0m                                      \u001b[2m                \u001b[0m\n",
       "\u001b[2;36m           \u001b[0m\u001b[1m]\u001b[0m                                                                                       \u001b[2m                \u001b[0m\n"
      ]
     },
     "metadata": {},
     "output_type": "display_data"
    }
   ],
   "source": [
    "text: str = (\n",
    "    \"My name is Jon Doe. \"\n",
    "    \"I live in SF. \"\n",
    "    \"I have a 1 year old daughter. \"\n",
    "    \"Thanks for letting me know that uv add pip fixed the issue! That makes sense. It \"\n",
    "    \"indicates you were likely using uv (a fast Python package installer and resolver) \"\n",
    "    \"to manage your environment. \"\n",
    "    \"God is love. \"\n",
    "    \"G.O.A.T. That guy is a legend!\"\n",
    ")\n",
    "sentences: list[str] = [sent.text for sent in nlp(text).sents]\n",
    "console.log(list(create_batches(sentences, batch_size=2)), style=\"warning\")\n",
    "console.log(create_overlapping_chunks(sentences, chunk_size=2, overlap_size=2))"
   ]
  },
  {
   "cell_type": "code",
   "execution_count": 8,
   "metadata": {},
   "outputs": [
    {
     "name": "stdout",
     "output_type": "stream",
     "text": [
      "Created 2 chunks:\n",
      "Chunk 1: 7 sentences, 65 tokens\n",
      "  This is sentence one with several tokens.\n",
      "  Here is another sentence that is quite long and has many tokens for demonstration.\n",
      "  This is a short one.\n",
      "  The algorithm needs to handle varying sentence lengths effectively.\n",
      "  Some sentences might have a lot of tokens and be very informative requiring significant processing.\n",
      "  Others might be brief.\n",
      "  We need to ensure that no chunk exceeds the token limit.\n",
      "\n",
      "Chunk 2: 3 sentences, 28 tokens\n",
      "  At the same time, we want to maintain context between chunks using overlaps.\n",
      "  Overlapping sentences help maintain context between chunks.\n",
      "  This is the last sentence of our example.\n",
      "\n"
     ]
    }
   ],
   "source": [
    "from typing import Callable, List\n",
    "\n",
    "\n",
    "def chunk_document(\n",
    "    sentences: List[str],\n",
    "    max_tokens_per_chunk: int,\n",
    "    overlap_size: int = 2,\n",
    "    get_token_count: Callable[[str], int] = lambda text: len(\n",
    "        text.split()\n",
    "    ),  # Simple token counter\n",
    ") -> List[List[str]]:\n",
    "    \"\"\"\n",
    "    Chunk a document into smaller chunks based on sentence boundaries while respecting\n",
    "    maximum tokens per chunk constraint.\n",
    "\n",
    "    Parameters\n",
    "    ----------\n",
    "    sentences : List[str]\n",
    "        List of sentences from the document\n",
    "    max_tokens_per_chunk : int\n",
    "        Maximum number of tokens allowed in a chunk\n",
    "    overlap_size : int, optional\n",
    "        Number of sentences to overlap between adjacent chunks, default 2\n",
    "    get_token_count : callable, optional\n",
    "        Function to count tokens in text, defaults to simple word splitting\n",
    "\n",
    "    Returns\n",
    "    -------\n",
    "    List[List[str]]\n",
    "        List of chunks, where each chunk is a list of sentences\n",
    "    \"\"\"\n",
    "    if not sentences:\n",
    "        return []\n",
    "\n",
    "    # Calculate token count for each sentence\n",
    "    sentence_token_counts = [get_token_count(sentence) for sentence in sentences]\n",
    "\n",
    "    # Check if any individual sentence exceeds the token limit\n",
    "    max_sentence_tokens = max(sentence_token_counts)\n",
    "    if max_sentence_tokens > max_tokens_per_chunk:\n",
    "        print(\n",
    "            f\"Warning: Some sentences exceed the token limit ({max_sentence_tokens} > {max_tokens_per_chunk})\"\n",
    "        )\n",
    "        print(\n",
    "            \"These sentences will be placed in their own chunks, exceeding the token limit.\"\n",
    "        )\n",
    "\n",
    "    # Create chunks based solely on token limit\n",
    "    chunks = []\n",
    "    current_chunk = []\n",
    "    current_token_count = 0\n",
    "\n",
    "    for sentence, token_count in zip(sentences, sentence_token_counts):\n",
    "        # If adding this sentence would exceed the limit and we already have sentences in the chunk,\n",
    "        # finalize the current chunk and start a new one\n",
    "        if current_token_count + token_count > max_tokens_per_chunk and current_chunk:\n",
    "            chunks.append(current_chunk)\n",
    "            current_chunk = []\n",
    "            current_token_count = 0\n",
    "\n",
    "        # Add the sentence to the current chunk\n",
    "        current_chunk.append(sentence)\n",
    "        current_token_count += token_count\n",
    "\n",
    "    # Add the last chunk if not empty\n",
    "    if current_chunk:\n",
    "        chunks.append(current_chunk)\n",
    "\n",
    "    # Create overlapping chunks\n",
    "    overlapping_chunks = []\n",
    "\n",
    "    for i in range(len(chunks)):\n",
    "        if i < len(chunks) - 1:\n",
    "            # Get overlap from next chunk\n",
    "            next_chunk_overlap = chunks[i + 1][: min(overlap_size, len(chunks[i + 1]))]\n",
    "\n",
    "            # Calculate token count with overlap\n",
    "            current_with_overlap = chunks[i] + next_chunk_overlap\n",
    "            total_tokens_with_overlap = sum(\n",
    "                get_token_count(s) for s in current_with_overlap\n",
    "            )\n",
    "\n",
    "            # Check if adding overlap exceeds token limit\n",
    "            if total_tokens_with_overlap <= max_tokens_per_chunk:\n",
    "                overlapping_chunks.append(current_with_overlap)\n",
    "            else:\n",
    "                # If too large, don't add overlap or add partial overlap if possible\n",
    "                partial_overlap = []\n",
    "                remaining_tokens = max_tokens_per_chunk - sum(\n",
    "                    get_token_count(s) for s in chunks[i]\n",
    "                )\n",
    "\n",
    "                for overlap_sentence in next_chunk_overlap:\n",
    "                    overlap_tokens = get_token_count(overlap_sentence)\n",
    "                    if remaining_tokens >= overlap_tokens:\n",
    "                        partial_overlap.append(overlap_sentence)\n",
    "                        remaining_tokens -= overlap_tokens\n",
    "                    else:\n",
    "                        break\n",
    "\n",
    "                if partial_overlap:\n",
    "                    overlapping_chunks.append(chunks[i] + partial_overlap)\n",
    "                else:\n",
    "                    overlapping_chunks.append(chunks[i])\n",
    "        else:\n",
    "            # Last chunk, no overlap to add\n",
    "            overlapping_chunks.append(chunks[i])\n",
    "\n",
    "    return overlapping_chunks\n",
    "\n",
    "\n",
    "# Example usage:\n",
    "if __name__ == \"__main__\":\n",
    "    # Example document (list of sentences)\n",
    "    sample_sentences = [\n",
    "        \"This is sentence one with several tokens.\",\n",
    "        \"Here is another sentence that is quite long and has many tokens for demonstration.\",\n",
    "        \"This is a short one.\",\n",
    "        \"The algorithm needs to handle varying sentence lengths effectively.\",\n",
    "        \"Some sentences might have a lot of tokens and be very informative requiring significant processing.\",\n",
    "        \"Others might be brief.\",\n",
    "        \"We need to ensure that no chunk exceeds the token limit.\",\n",
    "        \"At the same time, we want to maintain context between chunks using overlaps.\",\n",
    "        \"Overlapping sentences help maintain context between chunks.\",\n",
    "        \"This is the last sentence of our example.\",\n",
    "    ]\n",
    "\n",
    "    # Example constraint\n",
    "    MAX_TOKENS = 77  # Max tokens per chunk\n",
    "\n",
    "    # Get chunks\n",
    "    chunks = chunk_document(sentences=sample_sentences, max_tokens_per_chunk=MAX_TOKENS)\n",
    "\n",
    "    # Print results\n",
    "    print(f\"Created {len(chunks)} chunks:\")\n",
    "    for i, chunk in enumerate(chunks):\n",
    "        token_count = sum(len(s.split()) for s in chunk)\n",
    "        print(f\"Chunk {i + 1}: {len(chunk)} sentences, {token_count} tokens\")\n",
    "        print(\"  \" + \"\\n  \".join(chunk))\n",
    "        print()"
   ]
  },
  {
   "cell_type": "code",
   "execution_count": 9,
   "metadata": {},
   "outputs": [
    {
     "name": "stdout",
     "output_type": "stream",
     "text": [
      "Warning: Some sentences exceed the token limit (33 > 20)\n",
      "These sentences will be placed in their own chunks, exceeding the token limit.\n",
      "Created 3 chunks:\n",
      "Chunk 1: 3 sentences, 16 tokens\n",
      "  My name is Jon Doe. \n",
      "  I live in SF. \n",
      "  I have a 1 year old daughter. \n",
      "\n",
      "Chunk 2: 1 sentences, 33 tokens\n",
      "  Thanks for letting me know that uv add pip fixed the issue! That makes sense. It indicates you were likely using uv (a fast Python package installer and resolver) to manage your environment. \n",
      "\n",
      "Chunk 3: 2 sentences, 9 tokens\n",
      "  God is love. \n",
      "  G.O.A.T. That guy is a legend!\n",
      "\n"
     ]
    }
   ],
   "source": [
    "sample_sentences: list[str] = [\n",
    "    \"My name is Jon Doe. \",\n",
    "    \"I live in SF. \",\n",
    "    \"I have a 1 year old daughter. \",\n",
    "    \"Thanks for letting me know that uv add pip fixed the issue! That makes sense. It \"\n",
    "    \"indicates you were likely using uv (a fast Python package installer and resolver) \"\n",
    "    \"to manage your environment. \",\n",
    "    \"God is love. \",\n",
    "    \"G.O.A.T. That guy is a legend!\",\n",
    "]\n",
    "\n",
    "# Example constraints\n",
    "MAX_TOKENS = 20  # Max tokens per chunk\n",
    "\n",
    "# Get chunks\n",
    "chunks = chunk_document(\n",
    "    sentences=sample_sentences,\n",
    "    max_tokens_per_chunk=MAX_TOKENS,\n",
    "    overlap_size=3,\n",
    ")\n",
    "\n",
    "# Print results\n",
    "print(f\"Created {len(chunks)} chunks:\")\n",
    "for i, chunk in enumerate(chunks):\n",
    "    token_count = sum(len(s.split()) for s in chunk)\n",
    "    print(f\"Chunk {i + 1}: {len(chunk)} sentences, {token_count} tokens\")\n",
    "    print(\"  \" + \"\\n  \".join(chunk))\n",
    "    print()"
   ]
  },
  {
   "cell_type": "code",
   "execution_count": 10,
   "id": "d7d36425",
   "metadata": {},
   "outputs": [],
   "source": [
    "from instructor import AsyncInstructor\n",
    "\n",
    "from schemas import GeneralResponse, ModelEnum\n",
    "from utilities.client_utils import get_client"
   ]
  },
  {
   "cell_type": "code",
   "execution_count": 11,
   "metadata": {},
   "outputs": [
    {
     "name": "stdout",
     "output_type": "stream",
     "text": [
      "Using Ollama\n",
      "Using Remote\n"
     ]
    }
   ],
   "source": [
    "local_client: AsyncInstructor = get_client(is_remote=False)\n",
    "remote_client: AsyncInstructor = get_client(is_remote=True)"
   ]
  },
  {
   "cell_type": "code",
   "execution_count": 12,
   "metadata": {},
   "outputs": [
    {
     "data": {
      "text/html": [
       "<pre style=\"white-space:pre;overflow-x:auto;line-height:normal;font-family:Menlo,'DejaVu Sans Mono',consolas,'Courier New',monospace\"><span style=\"color: #7fbfbf; text-decoration-color: #7fbfbf\">[17:12:01] </span>San Francisco is a city in California, known for its unique cultural diversity,         <a href=\"file:///var/folders/ny/dl75sc_x2tb54lsymt5bh5p00000gn/T/ipykernel_74270/3187914690.py\" target=\"_blank\"><span style=\"color: #7f7f7f; text-decoration-color: #7f7f7f\">3187914690.py</span></a><span style=\"color: #7f7f7f; text-decoration-color: #7f7f7f\">:</span><a href=\"file:///var/folders/ny/dl75sc_x2tb54lsymt5bh5p00000gn/T/ipykernel_74270/3187914690.py#12\" target=\"_blank\"><span style=\"color: #7f7f7f; text-decoration-color: #7f7f7f\">12</span></a>\n",
       "<span style=\"color: #7fbfbf; text-decoration-color: #7fbfbf\">           </span>historic neighborhoods like Alamo Square, and the iconic Golden Gate Bridge.            <span style=\"color: #7f7f7f; text-decoration-color: #7f7f7f\">                </span>\n",
       "</pre>\n"
      ],
      "text/plain": [
       "\u001b[2;36m[17:12:01]\u001b[0m\u001b[2;36m \u001b[0mSan Francisco is a city in California, known for its unique cultural diversity,         \u001b]8;id=259138;file:///var/folders/ny/dl75sc_x2tb54lsymt5bh5p00000gn/T/ipykernel_74270/3187914690.py\u001b\\\u001b[2m3187914690.py\u001b[0m\u001b]8;;\u001b\\\u001b[2m:\u001b[0m\u001b]8;id=5139;file:///var/folders/ny/dl75sc_x2tb54lsymt5bh5p00000gn/T/ipykernel_74270/3187914690.py#12\u001b\\\u001b[2m12\u001b[0m\u001b]8;;\u001b\\\n",
       "\u001b[2;36m           \u001b[0mhistoric neighborhoods like Alamo Square, and the iconic Golden Gate Bridge.            \u001b[2m                \u001b[0m\n"
      ]
     },
     "metadata": {},
     "output_type": "display_data"
    }
   ],
   "source": [
    "response: GeneralResponse = await local_client.chat.completions.create(\n",
    "    messages=[\n",
    "        {\n",
    "            \"role\": \"user\",\n",
    "            \"content\": \"/no_think Tell me briefly something unique about SF. \",\n",
    "        }\n",
    "    ],\n",
    "    response_model=GeneralResponse,\n",
    "    model=ModelEnum.BASE_MODEL_LOCAL_2.value,\n",
    "    max_tokens=500,\n",
    ")\n",
    "console.log(response.content)"
   ]
  },
  {
   "cell_type": "code",
   "execution_count": 13,
   "metadata": {},
   "outputs": [
    {
     "data": {
      "text/html": [
       "<pre style=\"white-space:pre;overflow-x:auto;line-height:normal;font-family:Menlo,'DejaVu Sans Mono',consolas,'Courier New',monospace\"><span style=\"color: #7fbfbf; text-decoration-color: #7fbfbf\">[17:12:15] </span>San Francisco is known for its steep hills and fog, but one unique aspect is its        <a href=\"file:///var/folders/ny/dl75sc_x2tb54lsymt5bh5p00000gn/T/ipykernel_74270/3681432084.py\" target=\"_blank\"><span style=\"color: #7f7f7f; text-decoration-color: #7f7f7f\">3681432084.py</span></a><span style=\"color: #7f7f7f; text-decoration-color: #7f7f7f\">:</span><a href=\"file:///var/folders/ny/dl75sc_x2tb54lsymt5bh5p00000gn/T/ipykernel_74270/3681432084.py#13\" target=\"_blank\"><span style=\"color: #7f7f7f; text-decoration-color: #7f7f7f\">13</span></a>\n",
       "<span style=\"color: #7fbfbf; text-decoration-color: #7fbfbf\">           </span>diverse and vibrant tech culture, home to companies like Google, Apple, and countless   <span style=\"color: #7f7f7f; text-decoration-color: #7f7f7f\">                </span>\n",
       "<span style=\"color: #7fbfbf; text-decoration-color: #7fbfbf\">           </span>startups, making it a global hub for innovation and entrepreneurship.                   <span style=\"color: #7f7f7f; text-decoration-color: #7f7f7f\">                </span>\n",
       "</pre>\n"
      ],
      "text/plain": [
       "\u001b[2;36m[17:12:15]\u001b[0m\u001b[2;36m \u001b[0mSan Francisco is known for its steep hills and fog, but one unique aspect is its        \u001b]8;id=542783;file:///var/folders/ny/dl75sc_x2tb54lsymt5bh5p00000gn/T/ipykernel_74270/3681432084.py\u001b\\\u001b[2m3681432084.py\u001b[0m\u001b]8;;\u001b\\\u001b[2m:\u001b[0m\u001b]8;id=197651;file:///var/folders/ny/dl75sc_x2tb54lsymt5bh5p00000gn/T/ipykernel_74270/3681432084.py#13\u001b\\\u001b[2m13\u001b[0m\u001b]8;;\u001b\\\n",
       "\u001b[2;36m           \u001b[0mdiverse and vibrant tech culture, home to companies like Google, Apple, and countless   \u001b[2m                \u001b[0m\n",
       "\u001b[2;36m           \u001b[0mstartups, making it a global hub for innovation and entrepreneurship.                   \u001b[2m                \u001b[0m\n"
      ]
     },
     "metadata": {},
     "output_type": "display_data"
    }
   ],
   "source": [
    "response: GeneralResponse = await remote_client.chat.completions.create(\n",
    "    messages=[\n",
    "        {\n",
    "            \"role\": \"user\",\n",
    "            \"content\": \"/no_think Tell me briefly something unique about SF. \",\n",
    "        }\n",
    "    ],\n",
    "    response_model=GeneralResponse,\n",
    "    model=ModelEnum.BASE_REMOTE_MODEL_1_7B.value,\n",
    "    max_tokens=700,\n",
    "    max_retries=3,\n",
    ")\n",
    "console.log(response.content)"
   ]
  },
  {
   "cell_type": "code",
   "execution_count": 19,
   "id": "eec8763b",
   "metadata": {},
   "outputs": [
    {
     "data": {
      "text/html": [
       "<pre style=\"white-space:pre;overflow-x:auto;line-height:normal;font-family:Menlo,'DejaVu Sans Mono',consolas,'Courier New',monospace\"><span style=\"color: #7fbfbf; text-decoration-color: #7fbfbf\">[17:15:16] </span>San Francisco is known for its iconic Golden Gate Bridge, which is painted a            <a href=\"file:///var/folders/ny/dl75sc_x2tb54lsymt5bh5p00000gn/T/ipykernel_74270/2952509232.py\" target=\"_blank\"><span style=\"color: #7f7f7f; text-decoration-color: #7f7f7f\">2952509232.py</span></a><span style=\"color: #7f7f7f; text-decoration-color: #7f7f7f\">:</span><a href=\"file:///var/folders/ny/dl75sc_x2tb54lsymt5bh5p00000gn/T/ipykernel_74270/2952509232.py#13\" target=\"_blank\"><span style=\"color: #7f7f7f; text-decoration-color: #7f7f7f\">13</span></a>\n",
       "<span style=\"color: #7fbfbf; text-decoration-color: #7fbfbf\">           </span>distinctive orange color known as International Orange. This vibrant hue was            <span style=\"color: #7f7f7f; text-decoration-color: #7f7f7f\">                </span>\n",
       "<span style=\"color: #7fbfbf; text-decoration-color: #7fbfbf\">           </span>specifically chosen to make the bridge more visible in the city's foggy conditions.     <span style=\"color: #7f7f7f; text-decoration-color: #7f7f7f\">                </span>\n",
       "</pre>\n"
      ],
      "text/plain": [
       "\u001b[2;36m[17:15:16]\u001b[0m\u001b[2;36m \u001b[0mSan Francisco is known for its iconic Golden Gate Bridge, which is painted a            \u001b]8;id=881146;file:///var/folders/ny/dl75sc_x2tb54lsymt5bh5p00000gn/T/ipykernel_74270/2952509232.py\u001b\\\u001b[2m2952509232.py\u001b[0m\u001b]8;;\u001b\\\u001b[2m:\u001b[0m\u001b]8;id=854076;file:///var/folders/ny/dl75sc_x2tb54lsymt5bh5p00000gn/T/ipykernel_74270/2952509232.py#13\u001b\\\u001b[2m13\u001b[0m\u001b]8;;\u001b\\\n",
       "\u001b[2;36m           \u001b[0mdistinctive orange color known as International Orange. This vibrant hue was            \u001b[2m                \u001b[0m\n",
       "\u001b[2;36m           \u001b[0mspecifically chosen to make the bridge more visible in the city's foggy conditions.     \u001b[2m                \u001b[0m\n"
      ]
     },
     "metadata": {},
     "output_type": "display_data"
    }
   ],
   "source": [
    "response: GeneralResponse = await remote_client.chat.completions.create(\n",
    "    messages=[\n",
    "        {\n",
    "            \"role\": \"user\",\n",
    "            \"content\": \"/no_think Tell me briefly something unique about SF. \",\n",
    "        }\n",
    "    ],\n",
    "    response_model=GeneralResponse,\n",
    "    model=ModelEnum.BASE_REMOTE_MODEL_2_8B.value,\n",
    "    max_tokens=700,\n",
    "    max_retries=3,\n",
    ")\n",
    "console.log(response.content)"
   ]
  },
  {
   "cell_type": "code",
   "execution_count": null,
   "metadata": {},
   "outputs": [],
   "source": []
  },
  {
   "cell_type": "code",
   "execution_count": null,
   "id": "8c595484",
   "metadata": {},
   "outputs": [],
   "source": []
  },
  {
   "cell_type": "code",
   "execution_count": null,
   "id": "605cc193",
   "metadata": {},
   "outputs": [],
   "source": []
  },
  {
   "cell_type": "code",
   "execution_count": null,
   "id": "b0aef63a",
   "metadata": {},
   "outputs": [],
   "source": []
  },
  {
   "cell_type": "code",
   "execution_count": null,
   "metadata": {},
   "outputs": [],
   "source": []
  },
  {
   "cell_type": "code",
   "execution_count": null,
   "metadata": {},
   "outputs": [],
   "source": []
  },
  {
   "cell_type": "code",
   "execution_count": null,
   "metadata": {},
   "outputs": [],
   "source": []
  },
  {
   "cell_type": "code",
   "execution_count": null,
   "id": "780ae25b",
   "metadata": {},
   "outputs": [],
   "source": []
  },
  {
   "cell_type": "code",
   "execution_count": null,
   "id": "82498b23",
   "metadata": {},
   "outputs": [],
   "source": []
  },
  {
   "cell_type": "code",
   "execution_count": null,
   "id": "316cb462",
   "metadata": {},
   "outputs": [],
   "source": []
  },
  {
   "cell_type": "code",
   "execution_count": null,
   "id": "5e455a5c",
   "metadata": {},
   "outputs": [],
   "source": []
  }
 ],
 "metadata": {
  "kernelspec": {
   "display_name": "ai-tutorials",
   "language": "python",
   "name": "python3"
  },
  "language_info": {
   "codemirror_mode": {
    "name": "ipython",
    "version": 3
   },
   "file_extension": ".py",
   "mimetype": "text/x-python",
   "name": "python",
   "nbconvert_exporter": "python",
   "pygments_lexer": "ipython3",
   "version": "3.12.7"
  }
 },
 "nbformat": 4,
 "nbformat_minor": 5
}
