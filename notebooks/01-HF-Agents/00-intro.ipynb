{
 "cells": [
  {
   "cell_type": "code",
   "execution_count": null,
   "id": "94dbb7d7",
   "metadata": {},
   "outputs": [],
   "source": [
    "# Built-in library\n",
    "import json\n",
    "import logging\n",
    "import re\n",
    "import warnings\n",
    "from pathlib import Path\n",
    "from pprint import pprint\n",
    "from typing import Any, Optional, Union\n",
    "\n",
    "# Standard imports\n",
    "import numpy as np\n",
    "import numpy.typing as npt\n",
    "import pandas as pd\n",
    "import polars as pl\n",
    "from rich.console import Console\n",
    "from rich.theme import Theme\n",
    "\n",
    "custom_theme = Theme(\n",
    "    {\n",
    "        \"white\": \"#FFFFFF\",  # Bright white\n",
    "        \"info\": \"#00FF00\",  # Bright green\n",
    "        \"warning\": \"#FFD700\",  # Bright gold\n",
    "        \"error\": \"#FF1493\",  # Deep pink\n",
    "        \"success\": \"#00FFFF\",  # Cyan\n",
    "        \"highlight\": \"#FF4500\",  # Orange-red\n",
    "    }\n",
    ")\n",
    "console = Console(theme=custom_theme)\n",
    "\n",
    "# Visualization\n",
    "# import matplotlib.pyplot as plt\n",
    "\n",
    "# NumPy settings\n",
    "np.set_printoptions(precision=4)\n",
    "\n",
    "# Pandas settings\n",
    "pd.options.display.max_rows = 1_000\n",
    "pd.options.display.max_columns = 1_000\n",
    "pd.options.display.max_colwidth = 600\n",
    "\n",
    "# Polars settings\n",
    "pl.Config.set_fmt_str_lengths(1_000)\n",
    "pl.Config.set_tbl_cols(n=1_000)\n",
    "\n",
    "warnings.filterwarnings(\"ignore\")\n",
    "\n",
    "# Black code formatter (Optional)\n",
    "%load_ext lab_black\n",
    "\n",
    "# auto reload imports\n",
    "%load_ext autoreload\n",
    "%autoreload 2"
   ]
  },
  {
   "cell_type": "markdown",
   "id": "e0943608",
   "metadata": {},
   "source": [
    "## Tools\n",
    "\n",
    "- A tool is a function given to the LLM which fulls a specific task.\n",
    "- It should contain:\n",
    "  - a text description\n",
    "  - a callable function\n",
    "  - a function signature (i.e. the arguments it takes)\n",
    "  - a return type"
   ]
  },
  {
   "cell_type": "code",
   "execution_count": null,
   "id": "ddb9a690",
   "metadata": {},
   "outputs": [],
   "source": [
    "from dataclasses import dataclass\n",
    "import inspect\n",
    "from typing import Callable\n",
    "\n",
    "\n",
    "@dataclass\n",
    "class Tool:\n",
    "    name: str\n",
    "    description: str\n",
    "    func: Callable\n",
    "    arguments: list[tuple[str, str]]\n",
    "    outputs: str\n",
    "\n",
    "    def to_string(self) -> str:\n",
    "        \"\"\"Convert the Tool object to a string representation.\"\"\"\n",
    "        args_str = \", \".join([f\"{name}: {_type}\" for name, _type in self.arguments])\n",
    "        return (\n",
    "            f\"Tool Name: {self.name},\"\n",
    "            f\"Description: {self.description},\"\n",
    "            f\"Arguments: {args_str}\",\n",
    "            f\"Outputs: {self.outputs}\\n\",\n",
    "        )\n",
    "\n",
    "    def __call__(self, *args, **kwargs) -> Any:\n",
    "        \"\"\"Call the function with the provided arguments.\"\"\"\n",
    "        return self.func(*args, **kwargs)\n",
    "    \n",
    "def tool(func: Callable) -> Tool:\n",
    "    \"\"\"\n",
    "    Decorator to create a Tool object from a function.\n",
    "    \"\"\"\n",
    "    signature = inspect.signature(func)"
   ]
  },
  {
   "cell_type": "code",
   "execution_count": null,
   "id": "33466be8",
   "metadata": {},
   "outputs": [],
   "source": [
    "# Create a simple tool\n",
    "def add(a: int, b: int) -> int:\n",
    "    \"\"\"Add two numbers.\"\"\"\n",
    "    return a + b"
   ]
  },
  {
   "cell_type": "code",
   "execution_count": null,
   "id": "21b08ac1",
   "metadata": {},
   "outputs": [],
   "source": []
  },
  {
   "cell_type": "code",
   "execution_count": null,
   "id": "51734937",
   "metadata": {},
   "outputs": [],
   "source": []
  },
  {
   "cell_type": "code",
   "execution_count": null,
   "metadata": {},
   "outputs": [],
   "source": []
  },
  {
   "cell_type": "code",
   "execution_count": null,
   "id": "3fc20cb8",
   "metadata": {},
   "outputs": [],
   "source": []
  },
  {
   "cell_type": "code",
   "execution_count": null,
   "id": "9372e722",
   "metadata": {},
   "outputs": [],
   "source": []
  },
  {
   "cell_type": "code",
   "execution_count": null,
   "id": "d80eeca2",
   "metadata": {},
   "outputs": [],
   "source": []
  },
  {
   "cell_type": "code",
   "execution_count": null,
   "id": "f9be9e82",
   "metadata": {},
   "outputs": [],
   "source": []
  },
  {
   "cell_type": "code",
   "execution_count": null,
   "id": "f56d77b7",
   "metadata": {},
   "outputs": [],
   "source": []
  }
 ],
 "metadata": {
  "kernelspec": {
   "display_name": ".venv",
   "language": "python",
   "name": "python3"
  },
  "language_info": {
   "codemirror_mode": {
    "name": "ipython",
    "version": 3
   },
   "file_extension": ".py",
   "mimetype": "text/x-python",
   "name": "python",
   "nbconvert_exporter": "python",
   "pygments_lexer": "ipython3",
   "version": "3.12.7"
  }
 },
 "nbformat": 4,
 "nbformat_minor": 5
}
