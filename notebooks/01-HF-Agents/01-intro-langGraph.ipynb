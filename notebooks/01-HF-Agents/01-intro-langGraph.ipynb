{
 "cells": [
  {
   "cell_type": "code",
   "execution_count": 1,
   "id": "94dbb7d7",
   "metadata": {},
   "outputs": [],
   "source": [
    "# Built-in library\n",
    "import json\n",
    "import logging\n",
    "import re\n",
    "import warnings\n",
    "from pathlib import Path\n",
    "from pprint import pprint\n",
    "from typing import Any, Literal, Optional, Union\n",
    "\n",
    "# Standard imports\n",
    "import numpy as np\n",
    "import numpy.typing as npt\n",
    "import pandas as pd\n",
    "import polars as pl\n",
    "from rich.console import Console\n",
    "from rich.theme import Theme\n",
    "\n",
    "custom_theme = Theme(\n",
    "    {\n",
    "        \"white\": \"#FFFFFF\",  # Bright white\n",
    "        \"info\": \"#00FF00\",  # Bright green\n",
    "        \"warning\": \"#FFD700\",  # Bright gold\n",
    "        \"error\": \"#FF1493\",  # Deep pink\n",
    "        \"success\": \"#00FFFF\",  # Cyan\n",
    "        \"highlight\": \"#FF4500\",  # Orange-red\n",
    "    }\n",
    ")\n",
    "console = Console(theme=custom_theme)\n",
    "\n",
    "# Visualization\n",
    "# import matplotlib.pyplot as pltife\n",
    "\n",
    "# NumPy settings\n",
    "np.set_printoptions(precision=4)\n",
    "\n",
    "# Pandas settings\n",
    "pd.options.display.max_rows = 1_000\n",
    "pd.options.display.max_columns = 1_000\n",
    "pd.options.display.max_colwidth = 600\n",
    "\n",
    "# Polars settings\n",
    "pl.Config.set_fmt_str_lengths(1_000)\n",
    "pl.Config.set_tbl_cols(n=1_000)\n",
    "\n",
    "warnings.filterwarnings(\"ignore\")\n",
    "\n",
    "# Black code formatter (Optional)\n",
    "%load_ext lab_black\n",
    "\n",
    "# auto reload imports\n",
    "%load_ext autoreload\n",
    "%autoreload 2"
   ]
  },
  {
   "cell_type": "code",
   "execution_count": 2,
   "id": "cb944871",
   "metadata": {},
   "outputs": [],
   "source": [
    "def go_up_from_current_directory(*, go_up: int = 1) -> None:\n",
    "    \"\"\"This is used to up a number of directories.\n",
    "\n",
    "    Params:\n",
    "    -------\n",
    "    go_up: int, default=1\n",
    "        This indicates the number of times to go back up from the current directory.\n",
    "\n",
    "    Returns:\n",
    "    --------\n",
    "    None\n",
    "    \"\"\"\n",
    "    import os\n",
    "    import sys\n",
    "\n",
    "    CONST: str = \"../\"\n",
    "    NUM: str = CONST * go_up\n",
    "\n",
    "    # Goto the previous directory\n",
    "    prev_directory = os.path.join(os.path.dirname(__name__), NUM)\n",
    "    # Get the 'absolute path' of the previous directory\n",
    "    abs_path_prev_directory = os.path.abspath(prev_directory)\n",
    "\n",
    "    # Add the path to the System paths\n",
    "    sys.path.insert(0, abs_path_prev_directory)\n",
    "    print(abs_path_prev_directory)"
   ]
  },
  {
   "cell_type": "code",
   "execution_count": 3,
   "id": "a89ced05",
   "metadata": {},
   "outputs": [
    {
     "name": "stdout",
     "output_type": "stream",
     "text": [
      "/Users/neidu/Desktop/Projects/Personal/My_Projects/AI-Tutorials\n"
     ]
    }
   ],
   "source": [
    "go_up_from_current_directory(go_up=2)\n",
    "\n",
    "\n",
    "from schemas import ModelEnum, GeneralResponse  # noqa: E402, I001\n",
    "from settings import refresh_settings  # noqa: E402\n",
    "\n",
    "from utilities.client_utils import get_aclient  # noqa: E402\n",
    "\n",
    "settings = refresh_settings()"
   ]
  },
  {
   "cell_type": "code",
   "execution_count": 4,
   "id": "e9db5bf1",
   "metadata": {},
   "outputs": [
    {
     "name": "stdout",
     "output_type": "stream",
     "text": [
      "Using litellm\n"
     ]
    },
    {
     "data": {
      "text/html": [
       "<pre style=\"white-space:pre;overflow-x:auto;line-height:normal;font-family:Menlo,'DejaVu Sans Mono',consolas,'Courier New',monospace\"><span style=\"color: #7fbfbf; text-decoration-color: #7fbfbf\">[18:45:34] </span><span style=\"color: #800080; text-decoration-color: #800080; font-weight: bold\">ModelResponse</span><span style=\"font-weight: bold\">(</span>                                                                          <a href=\"file:///var/folders/ny/dl75sc_x2tb54lsymt5bh5p00000gn/T/ipykernel_50315/1422284114.py\" target=\"_blank\"><span style=\"color: #7f7f7f; text-decoration-color: #7f7f7f\">1422284114.py</span></a><span style=\"color: #7f7f7f; text-decoration-color: #7f7f7f\">:</span><a href=\"file:///var/folders/ny/dl75sc_x2tb54lsymt5bh5p00000gn/T/ipykernel_50315/1422284114.py#15\" target=\"_blank\"><span style=\"color: #7f7f7f; text-decoration-color: #7f7f7f\">15</span></a>\n",
       "<span style=\"color: #7fbfbf; text-decoration-color: #7fbfbf\">           </span>    <span style=\"color: #808000; text-decoration-color: #808000\">id</span>=<span style=\"color: #008000; text-decoration-color: #008000\">'ea61a3efad7f43a38b253176fb1a5c8e'</span>,                                              <span style=\"color: #7f7f7f; text-decoration-color: #7f7f7f\">                </span>\n",
       "<span style=\"color: #7fbfbf; text-decoration-color: #7fbfbf\">           </span>    <span style=\"color: #808000; text-decoration-color: #808000\">created</span>=<span style=\"color: #008080; text-decoration-color: #008080; font-weight: bold\">1747503933</span>,                                                                 <span style=\"color: #7f7f7f; text-decoration-color: #7f7f7f\">                </span>\n",
       "<span style=\"color: #7fbfbf; text-decoration-color: #7fbfbf\">           </span>    <span style=\"color: #808000; text-decoration-color: #808000\">model</span>=<span style=\"color: #008000; text-decoration-color: #008000\">'mistral/ministral-8b-latest'</span>,                                                <span style=\"color: #7f7f7f; text-decoration-color: #7f7f7f\">                </span>\n",
       "<span style=\"color: #7fbfbf; text-decoration-color: #7fbfbf\">           </span>    <span style=\"color: #808000; text-decoration-color: #808000\">object</span>=<span style=\"color: #008000; text-decoration-color: #008000\">'chat.completion'</span>,                                                           <span style=\"color: #7f7f7f; text-decoration-color: #7f7f7f\">                </span>\n",
       "<span style=\"color: #7fbfbf; text-decoration-color: #7fbfbf\">           </span>    <span style=\"color: #808000; text-decoration-color: #808000\">system_fingerprint</span>=<span style=\"color: #800080; text-decoration-color: #800080; font-style: italic\">None</span>,                                                            <span style=\"color: #7f7f7f; text-decoration-color: #7f7f7f\">                </span>\n",
       "<span style=\"color: #7fbfbf; text-decoration-color: #7fbfbf\">           </span>    <span style=\"color: #808000; text-decoration-color: #808000\">choices</span>=<span style=\"font-weight: bold\">[</span>                                                                           <span style=\"color: #7f7f7f; text-decoration-color: #7f7f7f\">                </span>\n",
       "<span style=\"color: #7fbfbf; text-decoration-color: #7fbfbf\">           </span>        <span style=\"color: #800080; text-decoration-color: #800080; font-weight: bold\">Choices</span><span style=\"font-weight: bold\">(</span>                                                                        <span style=\"color: #7f7f7f; text-decoration-color: #7f7f7f\">                </span>\n",
       "<span style=\"color: #7fbfbf; text-decoration-color: #7fbfbf\">           </span>            <span style=\"color: #808000; text-decoration-color: #808000\">finish_reason</span>=<span style=\"color: #008000; text-decoration-color: #008000\">'stop'</span>,                                                       <span style=\"color: #7f7f7f; text-decoration-color: #7f7f7f\">                </span>\n",
       "<span style=\"color: #7fbfbf; text-decoration-color: #7fbfbf\">           </span>            <span style=\"color: #808000; text-decoration-color: #808000\">index</span>=<span style=\"color: #008080; text-decoration-color: #008080; font-weight: bold\">0</span>,                                                                    <span style=\"color: #7f7f7f; text-decoration-color: #7f7f7f\">                </span>\n",
       "<span style=\"color: #7fbfbf; text-decoration-color: #7fbfbf\">           </span>            <span style=\"color: #808000; text-decoration-color: #808000\">message</span>=<span style=\"color: #800080; text-decoration-color: #800080; font-weight: bold\">Message</span><span style=\"font-weight: bold\">(</span>                                                            <span style=\"color: #7f7f7f; text-decoration-color: #7f7f7f\">                </span>\n",
       "<span style=\"color: #7fbfbf; text-decoration-color: #7fbfbf\">           </span>                <span style=\"color: #808000; text-decoration-color: #808000\">content</span>=<span style=\"color: #008000; text-decoration-color: #008000\">'{\"content\": \"The capital of France is Paris.\"}'</span>,               <span style=\"color: #7f7f7f; text-decoration-color: #7f7f7f\">                </span>\n",
       "<span style=\"color: #7fbfbf; text-decoration-color: #7fbfbf\">           </span>                <span style=\"color: #808000; text-decoration-color: #808000\">role</span>=<span style=\"color: #008000; text-decoration-color: #008000\">'assistant'</span>,                                                       <span style=\"color: #7f7f7f; text-decoration-color: #7f7f7f\">                </span>\n",
       "<span style=\"color: #7fbfbf; text-decoration-color: #7fbfbf\">           </span>                <span style=\"color: #808000; text-decoration-color: #808000\">tool_calls</span>=<span style=\"color: #800080; text-decoration-color: #800080; font-style: italic\">None</span>,                                                        <span style=\"color: #7f7f7f; text-decoration-color: #7f7f7f\">                </span>\n",
       "<span style=\"color: #7fbfbf; text-decoration-color: #7fbfbf\">           </span>                <span style=\"color: #808000; text-decoration-color: #808000\">function_call</span>=<span style=\"color: #800080; text-decoration-color: #800080; font-style: italic\">None</span>,                                                     <span style=\"color: #7f7f7f; text-decoration-color: #7f7f7f\">                </span>\n",
       "<span style=\"color: #7fbfbf; text-decoration-color: #7fbfbf\">           </span>                <span style=\"color: #808000; text-decoration-color: #808000\">provider_specific_fields</span>=<span style=\"font-weight: bold\">{</span><span style=\"color: #008000; text-decoration-color: #008000\">'refusal'</span>: <span style=\"color: #800080; text-decoration-color: #800080; font-style: italic\">None</span><span style=\"font-weight: bold\">}</span>                              <span style=\"color: #7f7f7f; text-decoration-color: #7f7f7f\">                </span>\n",
       "<span style=\"color: #7fbfbf; text-decoration-color: #7fbfbf\">           </span>            <span style=\"font-weight: bold\">)</span>                                                                           <span style=\"color: #7f7f7f; text-decoration-color: #7f7f7f\">                </span>\n",
       "<span style=\"color: #7fbfbf; text-decoration-color: #7fbfbf\">           </span>        <span style=\"font-weight: bold\">)</span>                                                                               <span style=\"color: #7f7f7f; text-decoration-color: #7f7f7f\">                </span>\n",
       "<span style=\"color: #7fbfbf; text-decoration-color: #7fbfbf\">           </span>    <span style=\"font-weight: bold\">]</span>,                                                                                  <span style=\"color: #7f7f7f; text-decoration-color: #7f7f7f\">                </span>\n",
       "<span style=\"color: #7fbfbf; text-decoration-color: #7fbfbf\">           </span>    <span style=\"color: #808000; text-decoration-color: #808000\">usage</span>=<span style=\"color: #800080; text-decoration-color: #800080; font-weight: bold\">Usage</span><span style=\"font-weight: bold\">(</span>                                                                        <span style=\"color: #7f7f7f; text-decoration-color: #7f7f7f\">                </span>\n",
       "<span style=\"color: #7fbfbf; text-decoration-color: #7fbfbf\">           </span>        <span style=\"color: #808000; text-decoration-color: #808000\">completion_tokens</span>=<span style=\"color: #008080; text-decoration-color: #008080; font-weight: bold\">13</span>,                                                           <span style=\"color: #7f7f7f; text-decoration-color: #7f7f7f\">                </span>\n",
       "<span style=\"color: #7fbfbf; text-decoration-color: #7fbfbf\">           </span>        <span style=\"color: #808000; text-decoration-color: #808000\">prompt_tokens</span>=<span style=\"color: #008080; text-decoration-color: #008080; font-weight: bold\">8</span>,                                                                <span style=\"color: #7f7f7f; text-decoration-color: #7f7f7f\">                </span>\n",
       "<span style=\"color: #7fbfbf; text-decoration-color: #7fbfbf\">           </span>        <span style=\"color: #808000; text-decoration-color: #808000\">total_tokens</span>=<span style=\"color: #008080; text-decoration-color: #008080; font-weight: bold\">21</span>,                                                                <span style=\"color: #7f7f7f; text-decoration-color: #7f7f7f\">                </span>\n",
       "<span style=\"color: #7fbfbf; text-decoration-color: #7fbfbf\">           </span>        <span style=\"color: #808000; text-decoration-color: #808000\">completion_tokens_details</span>=<span style=\"color: #800080; text-decoration-color: #800080; font-style: italic\">None</span>,                                                 <span style=\"color: #7f7f7f; text-decoration-color: #7f7f7f\">                </span>\n",
       "<span style=\"color: #7fbfbf; text-decoration-color: #7fbfbf\">           </span>        <span style=\"color: #808000; text-decoration-color: #808000\">prompt_tokens_details</span>=<span style=\"color: #800080; text-decoration-color: #800080; font-style: italic\">None</span>                                                      <span style=\"color: #7f7f7f; text-decoration-color: #7f7f7f\">                </span>\n",
       "<span style=\"color: #7fbfbf; text-decoration-color: #7fbfbf\">           </span>    <span style=\"font-weight: bold\">)</span>,                                                                                  <span style=\"color: #7f7f7f; text-decoration-color: #7f7f7f\">                </span>\n",
       "<span style=\"color: #7fbfbf; text-decoration-color: #7fbfbf\">           </span>    <span style=\"color: #808000; text-decoration-color: #808000\">service_tier</span>=<span style=\"color: #800080; text-decoration-color: #800080; font-style: italic\">None</span>                                                                   <span style=\"color: #7f7f7f; text-decoration-color: #7f7f7f\">                </span>\n",
       "<span style=\"color: #7fbfbf; text-decoration-color: #7fbfbf\">           </span><span style=\"font-weight: bold\">)</span>                                                                                       <span style=\"color: #7f7f7f; text-decoration-color: #7f7f7f\">                </span>\n",
       "</pre>\n"
      ],
      "text/plain": [
       "\u001b[2;36m[18:45:34]\u001b[0m\u001b[2;36m \u001b[0m\u001b[1;35mModelResponse\u001b[0m\u001b[1m(\u001b[0m                                                                          \u001b]8;id=359266;file:///var/folders/ny/dl75sc_x2tb54lsymt5bh5p00000gn/T/ipykernel_50315/1422284114.py\u001b\\\u001b[2m1422284114.py\u001b[0m\u001b]8;;\u001b\\\u001b[2m:\u001b[0m\u001b]8;id=256308;file:///var/folders/ny/dl75sc_x2tb54lsymt5bh5p00000gn/T/ipykernel_50315/1422284114.py#15\u001b\\\u001b[2m15\u001b[0m\u001b]8;;\u001b\\\n",
       "\u001b[2;36m           \u001b[0m    \u001b[33mid\u001b[0m=\u001b[32m'ea61a3efad7f43a38b253176fb1a5c8e'\u001b[0m,                                              \u001b[2m                \u001b[0m\n",
       "\u001b[2;36m           \u001b[0m    \u001b[33mcreated\u001b[0m=\u001b[1;36m1747503933\u001b[0m,                                                                 \u001b[2m                \u001b[0m\n",
       "\u001b[2;36m           \u001b[0m    \u001b[33mmodel\u001b[0m=\u001b[32m'mistral/ministral-8b-latest'\u001b[0m,                                                \u001b[2m                \u001b[0m\n",
       "\u001b[2;36m           \u001b[0m    \u001b[33mobject\u001b[0m=\u001b[32m'chat.completion'\u001b[0m,                                                           \u001b[2m                \u001b[0m\n",
       "\u001b[2;36m           \u001b[0m    \u001b[33msystem_fingerprint\u001b[0m=\u001b[3;35mNone\u001b[0m,                                                            \u001b[2m                \u001b[0m\n",
       "\u001b[2;36m           \u001b[0m    \u001b[33mchoices\u001b[0m=\u001b[1m[\u001b[0m                                                                           \u001b[2m                \u001b[0m\n",
       "\u001b[2;36m           \u001b[0m        \u001b[1;35mChoices\u001b[0m\u001b[1m(\u001b[0m                                                                        \u001b[2m                \u001b[0m\n",
       "\u001b[2;36m           \u001b[0m            \u001b[33mfinish_reason\u001b[0m=\u001b[32m'stop'\u001b[0m,                                                       \u001b[2m                \u001b[0m\n",
       "\u001b[2;36m           \u001b[0m            \u001b[33mindex\u001b[0m=\u001b[1;36m0\u001b[0m,                                                                    \u001b[2m                \u001b[0m\n",
       "\u001b[2;36m           \u001b[0m            \u001b[33mmessage\u001b[0m=\u001b[1;35mMessage\u001b[0m\u001b[1m(\u001b[0m                                                            \u001b[2m                \u001b[0m\n",
       "\u001b[2;36m           \u001b[0m                \u001b[33mcontent\u001b[0m=\u001b[32m'\u001b[0m\u001b[32m{\u001b[0m\u001b[32m\"content\": \"The capital of France is Paris.\"\u001b[0m\u001b[32m}\u001b[0m\u001b[32m'\u001b[0m,               \u001b[2m                \u001b[0m\n",
       "\u001b[2;36m           \u001b[0m                \u001b[33mrole\u001b[0m=\u001b[32m'assistant'\u001b[0m,                                                       \u001b[2m                \u001b[0m\n",
       "\u001b[2;36m           \u001b[0m                \u001b[33mtool_calls\u001b[0m=\u001b[3;35mNone\u001b[0m,                                                        \u001b[2m                \u001b[0m\n",
       "\u001b[2;36m           \u001b[0m                \u001b[33mfunction_call\u001b[0m=\u001b[3;35mNone\u001b[0m,                                                     \u001b[2m                \u001b[0m\n",
       "\u001b[2;36m           \u001b[0m                \u001b[33mprovider_specific_fields\u001b[0m=\u001b[1m{\u001b[0m\u001b[32m'refusal'\u001b[0m: \u001b[3;35mNone\u001b[0m\u001b[1m}\u001b[0m                              \u001b[2m                \u001b[0m\n",
       "\u001b[2;36m           \u001b[0m            \u001b[1m)\u001b[0m                                                                           \u001b[2m                \u001b[0m\n",
       "\u001b[2;36m           \u001b[0m        \u001b[1m)\u001b[0m                                                                               \u001b[2m                \u001b[0m\n",
       "\u001b[2;36m           \u001b[0m    \u001b[1m]\u001b[0m,                                                                                  \u001b[2m                \u001b[0m\n",
       "\u001b[2;36m           \u001b[0m    \u001b[33musage\u001b[0m=\u001b[1;35mUsage\u001b[0m\u001b[1m(\u001b[0m                                                                        \u001b[2m                \u001b[0m\n",
       "\u001b[2;36m           \u001b[0m        \u001b[33mcompletion_tokens\u001b[0m=\u001b[1;36m13\u001b[0m,                                                           \u001b[2m                \u001b[0m\n",
       "\u001b[2;36m           \u001b[0m        \u001b[33mprompt_tokens\u001b[0m=\u001b[1;36m8\u001b[0m,                                                                \u001b[2m                \u001b[0m\n",
       "\u001b[2;36m           \u001b[0m        \u001b[33mtotal_tokens\u001b[0m=\u001b[1;36m21\u001b[0m,                                                                \u001b[2m                \u001b[0m\n",
       "\u001b[2;36m           \u001b[0m        \u001b[33mcompletion_tokens_details\u001b[0m=\u001b[3;35mNone\u001b[0m,                                                 \u001b[2m                \u001b[0m\n",
       "\u001b[2;36m           \u001b[0m        \u001b[33mprompt_tokens_details\u001b[0m=\u001b[3;35mNone\u001b[0m                                                      \u001b[2m                \u001b[0m\n",
       "\u001b[2;36m           \u001b[0m    \u001b[1m)\u001b[0m,                                                                                  \u001b[2m                \u001b[0m\n",
       "\u001b[2;36m           \u001b[0m    \u001b[33mservice_tier\u001b[0m=\u001b[3;35mNone\u001b[0m                                                                   \u001b[2m                \u001b[0m\n",
       "\u001b[2;36m           \u001b[0m\u001b[1m)\u001b[0m                                                                                       \u001b[2m                \u001b[0m\n"
      ]
     },
     "metadata": {},
     "output_type": "display_data"
    }
   ],
   "source": [
    "lite_llm_aclient = get_aclient(return_type=\"litellm\")\n",
    "\n",
    "# Using MISTRAL API\n",
    "model: str = ModelEnum.BASE_REMOTE_MODEL_8B_MISTRAL_API.value\n",
    "\n",
    "\n",
    "response = await lite_llm_aclient(\n",
    "    model=model,\n",
    "    response_format=GeneralResponse,\n",
    "    messages=[{\"role\": \"user\", \"content\": \"What is the capital of France?\"}],\n",
    "    temperature=0.1,\n",
    "    seed=0,\n",
    "    max_tokens=200,\n",
    ")\n",
    "console.log(response)"
   ]
  },
  {
   "cell_type": "code",
   "execution_count": 5,
   "id": "388e8ea0",
   "metadata": {},
   "outputs": [
    {
     "data": {
      "text/html": [
       "<pre style=\"white-space:pre;overflow-x:auto;line-height:normal;font-family:Menlo,'DejaVu Sans Mono',consolas,'Courier New',monospace\"><span style=\"color: #7fbfbf; text-decoration-color: #7fbfbf\">[18:45:41] </span><span style=\"color: #800080; text-decoration-color: #800080; font-weight: bold\">GeneralResponse</span><span style=\"font-weight: bold\">(</span><span style=\"color: #808000; text-decoration-color: #808000\">content</span>=<span style=\"color: #008000; text-decoration-color: #008000\">'The capital of France is Paris.'</span><span style=\"font-weight: bold\">)</span>                               <a href=\"file:///var/folders/ny/dl75sc_x2tb54lsymt5bh5p00000gn/T/ipykernel_50315/1400563594.py\" target=\"_blank\"><span style=\"color: #7f7f7f; text-decoration-color: #7f7f7f\">1400563594.py</span></a><span style=\"color: #7f7f7f; text-decoration-color: #7f7f7f\">:</span><a href=\"file:///var/folders/ny/dl75sc_x2tb54lsymt5bh5p00000gn/T/ipykernel_50315/1400563594.py#1\" target=\"_blank\"><span style=\"color: #7f7f7f; text-decoration-color: #7f7f7f\">1</span></a>\n",
       "</pre>\n"
      ],
      "text/plain": [
       "\u001b[2;36m[18:45:41]\u001b[0m\u001b[2;36m \u001b[0m\u001b[1;35mGeneralResponse\u001b[0m\u001b[1m(\u001b[0m\u001b[33mcontent\u001b[0m=\u001b[32m'The capital of France is Paris.'\u001b[0m\u001b[1m)\u001b[0m                               \u001b]8;id=657090;file:///var/folders/ny/dl75sc_x2tb54lsymt5bh5p00000gn/T/ipykernel_50315/1400563594.py\u001b\\\u001b[2m1400563594.py\u001b[0m\u001b]8;;\u001b\\\u001b[2m:\u001b[0m\u001b]8;id=688083;file:///var/folders/ny/dl75sc_x2tb54lsymt5bh5p00000gn/T/ipykernel_50315/1400563594.py#1\u001b\\\u001b[2m1\u001b[0m\u001b]8;;\u001b\\\n"
      ]
     },
     "metadata": {},
     "output_type": "display_data"
    }
   ],
   "source": [
    "console.log(GeneralResponse.model_validate_json(response.choices[0].message.content))"
   ]
  },
  {
   "cell_type": "markdown",
   "id": "251078f0",
   "metadata": {},
   "source": [
    "### Check if the model support structured output\n",
    "\n",
    "- Even though `response_format`  is supported, it doesn't always guarantee the model will return the structured output especially for smaller or older models.\n",
    "- To increases the likelihood of getting the structured output, we can use `Instructor`\n",
    "- Without `instructor`, the `Mistral` model failed to always return the structured output."
   ]
  },
  {
   "cell_type": "code",
   "execution_count": 6,
   "id": "303b1f20",
   "metadata": {},
   "outputs": [
    {
     "name": "stdout",
     "output_type": "stream",
     "text": [
      "['stream',\n",
      " 'temperature',\n",
      " 'top_p',\n",
      " 'max_tokens',\n",
      " 'max_completion_tokens',\n",
      " 'tools',\n",
      " 'tool_choice',\n",
      " 'seed',\n",
      " 'stop',\n",
      " 'response_format']\n"
     ]
    }
   ],
   "source": [
    "from litellm import get_supported_openai_params\n",
    "\n",
    "params = get_supported_openai_params(model=model)\n",
    "pprint(params)\n",
    "\n",
    "assert \"response_format\" in params"
   ]
  },
  {
   "cell_type": "code",
   "execution_count": 7,
   "id": "4f380a31",
   "metadata": {},
   "outputs": [
    {
     "name": "stdout",
     "output_type": "stream",
     "text": [
      "Using instructor\n"
     ]
    },
    {
     "data": {
      "text/html": [
       "<pre style=\"white-space:pre;overflow-x:auto;line-height:normal;font-family:Menlo,'DejaVu Sans Mono',consolas,'Courier New',monospace\"><span style=\"color: #7fbfbf; text-decoration-color: #7fbfbf\">[18:45:49] </span><span style=\"color: #800080; text-decoration-color: #800080; font-weight: bold\">GeneralResponse</span><span style=\"font-weight: bold\">(</span><span style=\"color: #808000; text-decoration-color: #808000\">content</span>=<span style=\"color: #008000; text-decoration-color: #008000\">'The capital of France is Paris.'</span><span style=\"font-weight: bold\">)</span>                              <a href=\"file:///var/folders/ny/dl75sc_x2tb54lsymt5bh5p00000gn/T/ipykernel_50315/2300216207.py\" target=\"_blank\"><span style=\"color: #7f7f7f; text-decoration-color: #7f7f7f\">2300216207.py</span></a><span style=\"color: #7f7f7f; text-decoration-color: #7f7f7f\">:</span><a href=\"file:///var/folders/ny/dl75sc_x2tb54lsymt5bh5p00000gn/T/ipykernel_50315/2300216207.py#15\" target=\"_blank\"><span style=\"color: #7f7f7f; text-decoration-color: #7f7f7f\">15</span></a>\n",
       "</pre>\n"
      ],
      "text/plain": [
       "\u001b[2;36m[18:45:49]\u001b[0m\u001b[2;36m \u001b[0m\u001b[1;35mGeneralResponse\u001b[0m\u001b[1m(\u001b[0m\u001b[33mcontent\u001b[0m=\u001b[32m'The capital of France is Paris.'\u001b[0m\u001b[1m)\u001b[0m                              \u001b]8;id=443544;file:///var/folders/ny/dl75sc_x2tb54lsymt5bh5p00000gn/T/ipykernel_50315/2300216207.py\u001b\\\u001b[2m2300216207.py\u001b[0m\u001b]8;;\u001b\\\u001b[2m:\u001b[0m\u001b]8;id=700105;file:///var/folders/ny/dl75sc_x2tb54lsymt5bh5p00000gn/T/ipykernel_50315/2300216207.py#15\u001b\\\u001b[2m15\u001b[0m\u001b]8;;\u001b\\\n"
      ]
     },
     "metadata": {},
     "output_type": "display_data"
    }
   ],
   "source": [
    "structured_aclient = get_aclient(return_type=\"instructor\")\n",
    "\n",
    "# Using MISTRAL API\n",
    "model: str = ModelEnum.BASE_REMOTE_MODEL_8B_MISTRAL_API.value\n",
    "\n",
    "\n",
    "response = await structured_aclient.chat.completions.create(\n",
    "    model=model,\n",
    "    response_model=GeneralResponse,\n",
    "    messages=[{\"role\": \"user\", \"content\": \"What is the capital of France?\"}],\n",
    "    temperature=0.1,\n",
    "    seed=0,\n",
    "    max_tokens=200,\n",
    ")\n",
    "console.log(response)"
   ]
  },
  {
   "cell_type": "code",
   "execution_count": 8,
   "id": "21b08ac1",
   "metadata": {},
   "outputs": [],
   "source": [
    "from typing import TypedDict\n",
    "\n",
    "from langchain_openai import ChatOpenAI, OpenAI\n",
    "from langgraph.graph import END, START, StateGraph"
   ]
  },
  {
   "cell_type": "markdown",
   "id": "4ff9303b",
   "metadata": {},
   "source": [
    "## 1.) State\n",
    "\n",
    "- This is the central concept in Langgraph. It represents all the information that flows thru the application."
   ]
  },
  {
   "cell_type": "code",
   "execution_count": 9,
   "id": "51734937",
   "metadata": {},
   "outputs": [],
   "source": [
    "from enum import Enum\n",
    "\n",
    "from pydantic import BaseModel, Field\n",
    "\n",
    "\n",
    "class Categories(str, Enum):\n",
    "    INQUIRY = \"inquiry\"\n",
    "    COMPLAINT = \"complaint\"\n",
    "    THANK_YOU = \"thank you\"\n",
    "    REQUEST = \"request\"\n",
    "    INFORMATION = \"information\"\n",
    "    OTHER = \"other\"\n",
    "\n",
    "\n",
    "### Define State\n",
    "class EmailState(TypedDict):\n",
    "    email: dict[str, Any]  # contains subject, sender, body, etc.\n",
    "\n",
    "    # analysis and decision\n",
    "    is_spam: bool | None\n",
    "\n",
    "    # confidence in marking as spam\n",
    "    spam_confidence: float | None\n",
    "\n",
    "    # reason for the marking as spam\n",
    "    spam_reason: str | None\n",
    "\n",
    "    # category of the email (inquiry, complaint, etc.)\n",
    "    email_category: str | None\n",
    "\n",
    "    # response generation\n",
    "    email_draft: str | None\n",
    "\n",
    "    # processing metadata\n",
    "    message: list[dict[str, Any]]  # for tracking conversation with LLM\n",
    "\n",
    "\n",
    "class EmailStateResponse(BaseModel):\n",
    "    email: dict[str, Any] = Field(default_factory=dict, description=\"The email body.\")\n",
    "    is_spam: bool | None = Field(\n",
    "        default=None, description=\"Whether the email is spam or not.\"\n",
    "    )\n",
    "    spam_confidence: float | None = Field(\n",
    "        default=None,\n",
    "        ge=0,\n",
    "        le=1,\n",
    "        description=\"The confidence in marking the email as spam.\",\n",
    "    )\n",
    "    spam_reason: str | None = Field(\n",
    "        default=None, description=\"The reason for marking the email as spam.\"\n",
    "    )\n",
    "    email_category: Categories | None = Field(\n",
    "        default=None, description=\"The category of the email.\"\n",
    "    )\n",
    "    email_draft: str | None = Field(\n",
    "        default=None, description=\"The draft response to the email.\"\n",
    "    )\n",
    "    message: list[dict[str, Any]] = Field(\n",
    "        default_factory=list, description=\"The history of the conversation.\"\n",
    "    )"
   ]
  },
  {
   "cell_type": "code",
   "execution_count": 10,
   "id": "2ad84167",
   "metadata": {},
   "outputs": [],
   "source": [
    "import asyncio\n",
    "from enum import Enum\n",
    "from typing import Iterable\n",
    "\n",
    "import instructor\n",
    "import nest_asyncio\n",
    "import ollama\n",
    "from groq import AsyncGroq, Groq\n",
    "from openai import AsyncOpenAI, OpenAI"
   ]
  },
  {
   "cell_type": "code",
   "execution_count": 17,
   "id": "f0097ff1",
   "metadata": {},
   "outputs": [
    {
     "name": "stdout",
     "output_type": "stream",
     "text": [
      "Using model: 'mistral/ministral-8b-latest'\n"
     ]
    },
    {
     "data": {
      "text/html": [
       "<pre style=\"white-space:pre;overflow-x:auto;line-height:normal;font-family:Menlo,'DejaVu Sans Mono',consolas,'Courier New',monospace\"><span style=\"color: #7fbfbf; text-decoration-color: #7fbfbf\">[18:47:28] </span><span style=\"color: #800080; text-decoration-color: #800080; font-weight: bold\">GeneralResponse</span><span style=\"font-weight: bold\">(</span>                                                                        <a href=\"file:///var/folders/ny/dl75sc_x2tb54lsymt5bh5p00000gn/T/ipykernel_50315/2779246185.py\" target=\"_blank\"><span style=\"color: #7f7f7f; text-decoration-color: #7f7f7f\">2779246185.py</span></a><span style=\"color: #7f7f7f; text-decoration-color: #7f7f7f\">:</span><a href=\"file:///var/folders/ny/dl75sc_x2tb54lsymt5bh5p00000gn/T/ipykernel_50315/2779246185.py#54\" target=\"_blank\"><span style=\"color: #7f7f7f; text-decoration-color: #7f7f7f\">54</span></a>\n",
       "<span style=\"color: #7fbfbf; text-decoration-color: #7fbfbf\">           </span>    <span style=\"color: #808000; text-decoration-color: #808000\">content</span>=<span style=\"color: #008000; text-decoration-color: #008000\">\"Why don't prisoners play cards in the shower? Because they're afraid of </span>   <span style=\"color: #7f7f7f; text-decoration-color: #7f7f7f\">                </span>\n",
       "<span style=\"color: #7fbfbf; text-decoration-color: #7fbfbf\">           </span><span style=\"color: #008000; text-decoration-color: #008000\">getting caught in the flush!\"</span>                                                           <span style=\"color: #7f7f7f; text-decoration-color: #7f7f7f\">                </span>\n",
       "<span style=\"color: #7fbfbf; text-decoration-color: #7fbfbf\">           </span><span style=\"font-weight: bold\">)</span>                                                                                       <span style=\"color: #7f7f7f; text-decoration-color: #7f7f7f\">                </span>\n",
       "</pre>\n"
      ],
      "text/plain": [
       "\u001b[2;36m[18:47:28]\u001b[0m\u001b[2;36m \u001b[0m\u001b[1;35mGeneralResponse\u001b[0m\u001b[1m(\u001b[0m                                                                        \u001b]8;id=46907;file:///var/folders/ny/dl75sc_x2tb54lsymt5bh5p00000gn/T/ipykernel_50315/2779246185.py\u001b\\\u001b[2m2779246185.py\u001b[0m\u001b]8;;\u001b\\\u001b[2m:\u001b[0m\u001b]8;id=276291;file:///var/folders/ny/dl75sc_x2tb54lsymt5bh5p00000gn/T/ipykernel_50315/2779246185.py#54\u001b\\\u001b[2m54\u001b[0m\u001b]8;;\u001b\\\n",
       "\u001b[2;36m           \u001b[0m    \u001b[33mcontent\u001b[0m=\u001b[32m\"Why\u001b[0m\u001b[32m don't prisoners play cards in the shower? Because they're afraid of \u001b[0m   \u001b[2m                \u001b[0m\n",
       "\u001b[2;36m           \u001b[0m\u001b[32mgetting caught in the flush!\"\u001b[0m                                                           \u001b[2m                \u001b[0m\n",
       "\u001b[2;36m           \u001b[0m\u001b[1m)\u001b[0m                                                                                       \u001b[2m                \u001b[0m\n"
      ]
     },
     "metadata": {},
     "output_type": "display_data"
    }
   ],
   "source": [
    "nest_asyncio.apply()\n",
    "\n",
    "SYSTEM_PROMPT: dict[str, str] = {\n",
    "    \"role\": \"assistant\",\n",
    "    \"content\": \"<inst>no_thinkYou're a AI assistant, Alfred the butler!</inst>\",\n",
    "}\n",
    "\n",
    "\n",
    "async def chat_completion(\n",
    "    message: dict[str, Any],\n",
    "    client: Any = structured_aclient,\n",
    "    model: str = model,\n",
    "    response_model: GeneralResponse | EmailStateResponse = GeneralResponse,\n",
    ") -> GeneralResponse | EmailStateResponse:\n",
    "    \"\"\"Returns a response from the LLM given a message.\"\"\"\n",
    "    assert isinstance(message, dict), \"message must be a dictionary\"\n",
    "    print(f\"Using model: {model!r}\")\n",
    "\n",
    "    messages = [SYSTEM_PROMPT, message]\n",
    "\n",
    "    if isinstance(client, instructor.AsyncInstructor):\n",
    "        response: Any = await client.chat.completions.create(\n",
    "            response_model=response_model,\n",
    "            model=model,\n",
    "            messages=messages,\n",
    "            max_retries=5,\n",
    "            temperature=0.0,\n",
    "            seed=2,\n",
    "        )\n",
    "        return response\n",
    "\n",
    "    response: Any = await client(\n",
    "        response_format=response_model,\n",
    "        model=model,\n",
    "        messages=messages,\n",
    "        max_retries=3,\n",
    "        temperature=0,\n",
    "        seed=2,\n",
    "    )\n",
    "\n",
    "    formatted_response: str = response_model.model_validate_json(\n",
    "        response.choices[0].message.content\n",
    "    )\n",
    "\n",
    "    return formatted_response\n",
    "\n",
    "\n",
    "message: dict[str, Any] = {\n",
    "    \"role\": \"user\",\n",
    "    \"content\": \"<user>Tell me a short funny joke about Prison Break TV series.</user>\",\n",
    "}\n",
    "\n",
    "result = asyncio.run(chat_completion(message=message))\n",
    "console.log(result)"
   ]
  },
  {
   "cell_type": "code",
   "execution_count": null,
   "id": "b8908766",
   "metadata": {},
   "outputs": [],
   "source": []
  },
  {
   "cell_type": "markdown",
   "id": "d311824c",
   "metadata": {},
   "source": [
    "### 2.) Nodes\n",
    "\n",
    "- These are Python functions that represent the main logic of the application. \n",
    "- Each node: \n",
    "  - takes the state as input.\n",
    "  - performs some operation.\n",
    "  - returns pdates to the state."
   ]
  },
  {
   "cell_type": "code",
   "execution_count": 12,
   "id": "8d4512fa",
   "metadata": {},
   "outputs": [],
   "source": [
    "nest_asyncio.apply()\n",
    "\n",
    "\n",
    "async def read_email(state: EmailState) -> dict[str, Any]:\n",
    "    \"\"\"Alfred reads and logs the incoming email.\"\"\"\n",
    "    email: dict[str, Any] = state[\"email\"]\n",
    "\n",
    "    # Some preprocessing steps\n",
    "    print(\n",
    "        f\"Alfred is processing an email from {email['sender']!r} with \"\n",
    "        f\"subject {email['subject']!r}.\\n\\n\"\n",
    "    )\n",
    "\n",
    "    # No state changes neede here\n",
    "    return {}\n",
    "\n",
    "\n",
    "async def classify_email(state: EmailState) -> dict[str, Any]:\n",
    "    \"\"\"Alfred uses an LLM to classify the email as spam or not.\"\"\"\n",
    "    email: dict[str, Any] = state[\"email\"]\n",
    "\n",
    "    # Prepare the prompt\n",
    "    prompt: str = f\"\"\"\n",
    "    <prompt>\n",
    "        As Alfred the butler, analyze this email and determine if it's spam\n",
    "        <is_spam> **True** or **False** </is_spam> or not.\n",
    "\n",
    "        <email>\n",
    "            From: {email[\"sender\"]}\n",
    "            Subject: {email[\"subject\"]}\n",
    "            Body: {email[\"body\"]}\n",
    "        </email>\n",
    "\n",
    "        <inst>\n",
    "            1. Determine the spam confidence. If it's greater than 0.5, classify it as spam.\n",
    "            2. If it's spam, explain why.\n",
    "            3. If it's ham, categorize it as one of these: <categories> {list(Categories)} </categories>.\n",
    "        </inst>\n",
    "    </prompt>\n",
    "    \"\"\"\n",
    "\n",
    "    # Call the LLM\n",
    "    response: EmailStateResponse = await chat_completion(\n",
    "        message={\"role\": \"user\", \"content\": prompt}, response_model=EmailStateResponse\n",
    "    )\n",
    "    # print(f\"Response: {response}\")  # for debugging\n",
    "\n",
    "    response_text: dict[str, Any] = response.model_dump()\n",
    "\n",
    "    # Update messages for tracking\n",
    "    new_messages: list[dict[str, str]] = state.get(\"messages\", []) + [\n",
    "        {\"role\": \"user\", \"content\": prompt},\n",
    "        {\"role\": \"assistant\", \"content\": response},\n",
    "    ]\n",
    "\n",
    "    # Return state updates\n",
    "    return {\n",
    "        \"is_spam\": response_text[\"is_spam\"],\n",
    "        \"spam_confidence\": response_text[\"spam_confidence\"],\n",
    "        \"spam_reason\": response_text[\"spam_reason\"],\n",
    "        \"email_category\": response_text[\"email_category\"],\n",
    "        \"messages\": new_messages,\n",
    "    }\n",
    "\n",
    "\n",
    "async def handle_spam(state: EmailState) -> dict[str, Any]:\n",
    "    \"\"\"Alfred discards spam emails.\"\"\"\n",
    "    print(\n",
    "        f\"Alfred has marked the email as spam. \\nReason: {state['spam_reason']}. \\n\"\n",
    "        \"The email has been moved to the spam folder.\"\n",
    "    )\n",
    "\n",
    "    # No state changes needed here\n",
    "    return {}\n",
    "\n",
    "\n",
    "async def draft_response(state: EmailState) -> dict[str, Any]:\n",
    "    \"\"\"Alfred drafts a response to the email.\"\"\"\n",
    "    # print(f\"{state = }\")\n",
    "    email: dict[str, Any] = state[\"email\"]\n",
    "\n",
    "    # Prepare the prompt\n",
    "    prompt: str = f\"\"\"\n",
    "    <prompt>\n",
    "        <inst>\n",
    "            As Alfred the butler, draft a response to this email below:\n",
    "        </inst>\n",
    "\n",
    "        <email>\n",
    "            From: {email[\"sender\"]}\n",
    "            Subject: {email[\"subject\"]}\n",
    "            Body: {email[\"body\"]}\n",
    "        </email>\n",
    "\n",
    "        This email has been categorized as **{state[\"email_category\"]}**.\n",
    "\n",
    "        <inst>\n",
    "            Draft a brief response that Mr. Neidu can review and personalize before sending.\n",
    "        </inst>\n",
    "\n",
    "    </prompt>\n",
    "    \"\"\"\n",
    "\n",
    "    # Call the LLM\n",
    "    response: GeneralResponse = await chat_completion(\n",
    "        message={\"role\": \"user\", \"content\": prompt}, response_model=GeneralResponse\n",
    "    )\n",
    "\n",
    "    # Update messages for tracking\n",
    "    new_message: list[dict[str, Any]] = state.get(\"messages\", []) + [\n",
    "        {\"role\": \"user\", \"content\": prompt},\n",
    "        {\"role\": \"assistant\", \"content\": response.model_dump()},\n",
    "    ]\n",
    "\n",
    "    # Return state updates\n",
    "    return {\n",
    "        \"email_draft\": response.model_dump(),\n",
    "        \"messages\": new_message,\n",
    "    }\n",
    "\n",
    "\n",
    "async def notify_user(state: EmailState) -> dict[str, Any]:\n",
    "    \"\"\"Alfred sends a notification to the user.\"\"\"\n",
    "    # print(f\"{state = }\")  # for debugging\n",
    "\n",
    "    email: dict[str, Any] = state[\"email\"]\n",
    "\n",
    "    # Prints a separator line of 50 equal signs to visually distinguish sections of output\n",
    "    print(\"\\n\" + \"=\" * 80)\n",
    "    print(f\"Sir, you've received an email from {email['sender']}.\")\n",
    "    print(f\"Subject: {email['subject']}\")\n",
    "    print(f\"Category: {state['email_category']}\")\n",
    "    print(\"\\nI've drafted a response for your review.\")\n",
    "    print(\"-\" * 80)\n",
    "    print(state[\"email_draft\"])\n",
    "    print(\"=\" * 80 + \"\\n\")\n",
    "\n",
    "    return {}"
   ]
  },
  {
   "cell_type": "markdown",
   "id": "9d3d62ed",
   "metadata": {},
   "source": [
    "### 3.) Define Routing Logic"
   ]
  },
  {
   "cell_type": "code",
   "execution_count": 13,
   "id": "53826b15",
   "metadata": {},
   "outputs": [],
   "source": [
    "def route_email(stete: EmailState) -> str:\n",
    "    \"\"\"Determine the next step to take.\"\"\"\n",
    "    if stete[\"is_spam\"]:\n",
    "        return \"spam\"\n",
    "\n",
    "    return \"ham\""
   ]
  },
  {
   "cell_type": "markdown",
   "id": "1e3789e7",
   "metadata": {},
   "source": [
    "### 4.) Create StateGraph and Define Edges\n",
    "\n",
    "- Edges: These are connections between nodes. They represent the possible paths thru the graph.\n",
    "\n",
    "- StateGraph: This is a container that holds the entire agent workflow."
   ]
  },
  {
   "cell_type": "code",
   "execution_count": 14,
   "id": "5b9309b1",
   "metadata": {},
   "outputs": [],
   "source": [
    "# Create the graph\n",
    "email_graph = StateGraph(EmailState)\n",
    "\n",
    "# Add nodes\n",
    "email_graph.add_node(\"read_email\", read_email)\n",
    "email_graph.add_node(\"classify_email\", classify_email)\n",
    "email_graph.add_node(\"handle_spam\", handle_spam)\n",
    "email_graph.add_node(\"draft_response\", draft_response)\n",
    "email_graph.add_node(\"notify_user\", notify_user)\n",
    "\n",
    "# Start the edges\n",
    "email_graph.add_edge(START, \"read_email\")\n",
    "email_graph.add_edge(\"read_email\", \"classify_email\")\n",
    "\n",
    "# Add conditional branches\n",
    "email_graph.add_conditional_edges(\n",
    "    \"classify_email\", route_email, {\"spam\": \"handle_spam\", \"ham\": \"draft_response\"}\n",
    ")\n",
    "\n",
    "# Add the fnal edges\n",
    "email_graph.add_edge(\"handle_spam\", END)\n",
    "email_graph.add_edge(\"draft_response\", \"notify_user\")\n",
    "email_graph.add_edge(\"notify_user\", END)\n",
    "\n",
    "# Compile the graph\n",
    "compiled_graph = email_graph.compile()"
   ]
  },
  {
   "cell_type": "markdown",
   "id": "60b5b02d",
   "metadata": {},
   "source": [
    "### Run The Application"
   ]
  },
  {
   "cell_type": "code",
   "execution_count": 19,
   "id": "43c44f2c",
   "metadata": {},
   "outputs": [
    {
     "name": "stdout",
     "output_type": "stream",
     "text": [
      "\n",
      "Processing ham email...\n",
      "Alfred is processing an email from 'john.smith@example.com' with subject 'Following Up: Quick Idea on Improving Workflow Efficiency'.\n",
      "\n",
      "\n",
      "Using model: 'mistral/ministral-8b-latest'\n",
      "Using model: 'mistral/ministral-8b-latest'\n",
      "\n",
      "================================================================================\n",
      "Sir, you've received an email from john.smith@example.com.\n",
      "Subject: Following Up: Quick Idea on Improving Workflow Efficiency\n",
      "Category: Categories.REQUEST\n",
      "\n",
      "I've drafted a response for your review.\n",
      "--------------------------------------------------------------------------------\n",
      "{'content': 'Dear John, Thank you for reaching out and for your interest in our workflow automation platform. I appreciate the opportunity to explore how it might benefit our operations team. I am available for a call next week. Please let me know a suitable time for you. Best regards, Mr. Neidu'}\n",
      "================================================================================\n",
      "\n"
     ]
    }
   ],
   "source": [
    "# Example ham email\n",
    "ham_email: dict[str, Any] = {\n",
    "    \"sender\": \"john.smith@example.com\",\n",
    "    \"subject\": \"Meeting Request\",\n",
    "    \"body\": \"Dear Mr. Neidu, I hope this email meets you well. We have a demo next week, \"\n",
    "    \"and would like to inform you about the services we offer. Can we schedule a \"\n",
    "    \"meeting to discuss the details? Thank you for your time.\"\n",
    "    \"Best regards, John Smith\",\n",
    "}\n",
    "\n",
    "ham_email_2: dict[str, Any] = {\n",
    "    \"sender\": \"john.smith@example.com\",\n",
    "    \"subject\": \"Following Up: Quick Idea on Improving Workflow Efficiency\",\n",
    "    \"body\": \"Dear Mr. Neidu, My name is John Smith, and I'm with Innovate Solutions Inc. \"\n",
    "    \"I'm reaching out because I believe our solution could offer significant value in \"\n",
    "    \"streamlining your operational workflows. We are conducting brief demos next week, \"\n",
    "    \"and I would welcome the opportunity to show you how our workflow automation platform works \"\n",
    "    \"and discuss how it might specifically benefit your operations team.\"\n",
    "    \"Would you be available for a quick, no-obligation introductory call sometime \"\n",
    "    \"next week to explore this further? Please let me know what time works best for you.\"\n",
    "    \"Thank you for your time and consideration. \\n\"\n",
    "    \"Yours sincerely, John Smith\",\n",
    "}\n",
    "\n",
    "# Example spam email\n",
    "spam_email: dict[str, Any] = {\n",
    "    \"sender\": \"winner@lottery-intl.com\",\n",
    "    \"subject\": \"YOU HAVE WON $5,000,000!!!\",\n",
    "    \"body\": \"CONGRATULATIONS! You have been selected as the winner of our international \"\n",
    "    \"lottery! To claim your $5,000,000 prize, please send us your bank details and a \"\n",
    "    \"processing fee of $100.\",\n",
    "}\n",
    "\n",
    "# Process the ham email\n",
    "print(\"\\nProcessing ham email...\")\n",
    "try:\n",
    "    ham_result = await compiled_graph.ainvoke(\n",
    "        {\n",
    "            \"email\": ham_email_2,\n",
    "            \"is_spam\": None,\n",
    "            \"spam_reason\": None,\n",
    "            \"email_category\": None,\n",
    "            \"email_draft\": None,\n",
    "            \"messages\": [],\n",
    "        }\n",
    "    )\n",
    "except Exception as e:\n",
    "    print(f\"Error: {e}\\n{type(e)}\")"
   ]
  },
  {
   "cell_type": "code",
   "execution_count": 21,
   "id": "33049409",
   "metadata": {},
   "outputs": [
    {
     "data": {
      "text/html": [
       "<pre style=\"white-space:pre;overflow-x:auto;line-height:normal;font-family:Menlo,'DejaVu Sans Mono',consolas,'Courier New',monospace\"><span style=\"color: #7fbfbf; text-decoration-color: #7fbfbf\">[18:49:03] </span><span style=\"font-weight: bold\">{</span>                                                                                        <a href=\"file:///var/folders/ny/dl75sc_x2tb54lsymt5bh5p00000gn/T/ipykernel_50315/3114795956.py\" target=\"_blank\"><span style=\"color: #7f7f7f; text-decoration-color: #7f7f7f\">3114795956.py</span></a><span style=\"color: #7f7f7f; text-decoration-color: #7f7f7f\">:</span><a href=\"file:///var/folders/ny/dl75sc_x2tb54lsymt5bh5p00000gn/T/ipykernel_50315/3114795956.py#1\" target=\"_blank\"><span style=\"color: #7f7f7f; text-decoration-color: #7f7f7f\">1</span></a>\n",
       "<span style=\"color: #7fbfbf; text-decoration-color: #7fbfbf\">           </span>    <span style=\"color: #008000; text-decoration-color: #008000\">'email'</span>: <span style=\"font-weight: bold\">{</span>                                                                           <span style=\"color: #7f7f7f; text-decoration-color: #7f7f7f\">               </span>\n",
       "<span style=\"color: #7fbfbf; text-decoration-color: #7fbfbf\">           </span>        <span style=\"color: #008000; text-decoration-color: #008000\">'sender'</span>: <span style=\"color: #008000; text-decoration-color: #008000\">'john.smith@example.com'</span>,                                              <span style=\"color: #7f7f7f; text-decoration-color: #7f7f7f\">               </span>\n",
       "<span style=\"color: #7fbfbf; text-decoration-color: #7fbfbf\">           </span>        <span style=\"color: #008000; text-decoration-color: #008000\">'subject'</span>: <span style=\"color: #008000; text-decoration-color: #008000\">'Following Up: Quick Idea on Improving Workflow Efficiency'</span>,          <span style=\"color: #7f7f7f; text-decoration-color: #7f7f7f\">               </span>\n",
       "<span style=\"color: #7fbfbf; text-decoration-color: #7fbfbf\">           </span>        <span style=\"color: #008000; text-decoration-color: #008000\">'body'</span>: <span style=\"color: #008000; text-decoration-color: #008000\">\"Dear Mr. Neidu, My name is John Smith, and I'm with Innovate Solutions </span> <span style=\"color: #7f7f7f; text-decoration-color: #7f7f7f\">               </span>\n",
       "<span style=\"color: #7fbfbf; text-decoration-color: #7fbfbf\">           </span><span style=\"color: #008000; text-decoration-color: #008000\">Inc. I'm reaching out because I believe our solution could offer significant value in </span>   <span style=\"color: #7f7f7f; text-decoration-color: #7f7f7f\">               </span>\n",
       "<span style=\"color: #7fbfbf; text-decoration-color: #7fbfbf\">           </span><span style=\"color: #008000; text-decoration-color: #008000\">streamlining your operational workflows. We are conducting brief demos next week, and I </span> <span style=\"color: #7f7f7f; text-decoration-color: #7f7f7f\">               </span>\n",
       "<span style=\"color: #7fbfbf; text-decoration-color: #7fbfbf\">           </span><span style=\"color: #008000; text-decoration-color: #008000\">would welcome the opportunity to show you how our workflow automation platform works and</span> <span style=\"color: #7f7f7f; text-decoration-color: #7f7f7f\">               </span>\n",
       "<span style=\"color: #7fbfbf; text-decoration-color: #7fbfbf\">           </span><span style=\"color: #008000; text-decoration-color: #008000\">discuss how it might specifically benefit your operations team.Would you be available </span>   <span style=\"color: #7f7f7f; text-decoration-color: #7f7f7f\">               </span>\n",
       "<span style=\"color: #7fbfbf; text-decoration-color: #7fbfbf\">           </span><span style=\"color: #008000; text-decoration-color: #008000\">for a quick, no-obligation introductory call sometime next week to explore this further?</span> <span style=\"color: #7f7f7f; text-decoration-color: #7f7f7f\">               </span>\n",
       "<span style=\"color: #7fbfbf; text-decoration-color: #7fbfbf\">           </span><span style=\"color: #008000; text-decoration-color: #008000\">Please let me know what time works best for you.Thank you for your time and </span>             <span style=\"color: #7f7f7f; text-decoration-color: #7f7f7f\">               </span>\n",
       "<span style=\"color: #7fbfbf; text-decoration-color: #7fbfbf\">           </span><span style=\"color: #008000; text-decoration-color: #008000\">consideration. \\nYours sincerely, John Smith\"</span>                                            <span style=\"color: #7f7f7f; text-decoration-color: #7f7f7f\">               </span>\n",
       "<span style=\"color: #7fbfbf; text-decoration-color: #7fbfbf\">           </span>    <span style=\"font-weight: bold\">}</span>,                                                                                   <span style=\"color: #7f7f7f; text-decoration-color: #7f7f7f\">               </span>\n",
       "<span style=\"color: #7fbfbf; text-decoration-color: #7fbfbf\">           </span>    <span style=\"color: #008000; text-decoration-color: #008000\">'is_spam'</span>: <span style=\"color: #ff0000; text-decoration-color: #ff0000; font-style: italic\">False</span>,                                                                    <span style=\"color: #7f7f7f; text-decoration-color: #7f7f7f\">               </span>\n",
       "<span style=\"color: #7fbfbf; text-decoration-color: #7fbfbf\">           </span>    <span style=\"color: #008000; text-decoration-color: #008000\">'spam_confidence'</span>: <span style=\"color: #008080; text-decoration-color: #008080; font-weight: bold\">0.2</span>,                                                              <span style=\"color: #7f7f7f; text-decoration-color: #7f7f7f\">               </span>\n",
       "<span style=\"color: #7fbfbf; text-decoration-color: #7fbfbf\">           </span>    <span style=\"color: #008000; text-decoration-color: #008000\">'spam_reason'</span>: <span style=\"color: #800080; text-decoration-color: #800080; font-style: italic\">None</span>,                                                                 <span style=\"color: #7f7f7f; text-decoration-color: #7f7f7f\">               </span>\n",
       "<span style=\"color: #7fbfbf; text-decoration-color: #7fbfbf\">           </span>    <span style=\"color: #008000; text-decoration-color: #008000\">'email_category'</span>: <span style=\"font-weight: bold\">&lt;</span><span style=\"color: #ff00ff; text-decoration-color: #ff00ff; font-weight: bold\">Categories.REQUEST:</span><span style=\"color: #000000; text-decoration-color: #000000\"> </span><span style=\"color: #008000; text-decoration-color: #008000\">'request'</span><span style=\"font-weight: bold\">&gt;</span>,                                   <span style=\"color: #7f7f7f; text-decoration-color: #7f7f7f\">               </span>\n",
       "<span style=\"color: #7fbfbf; text-decoration-color: #7fbfbf\">           </span>    <span style=\"color: #008000; text-decoration-color: #008000\">'email_draft'</span>: <span style=\"font-weight: bold\">{</span>                                                                     <span style=\"color: #7f7f7f; text-decoration-color: #7f7f7f\">               </span>\n",
       "<span style=\"color: #7fbfbf; text-decoration-color: #7fbfbf\">           </span>        <span style=\"color: #008000; text-decoration-color: #008000\">'content'</span>: <span style=\"color: #008000; text-decoration-color: #008000\">'Dear John, Thank you for reaching out and for your interest in our </span>  <span style=\"color: #7f7f7f; text-decoration-color: #7f7f7f\">               </span>\n",
       "<span style=\"color: #7fbfbf; text-decoration-color: #7fbfbf\">           </span><span style=\"color: #008000; text-decoration-color: #008000\">workflow automation platform. I appreciate the opportunity to explore how it might </span>      <span style=\"color: #7f7f7f; text-decoration-color: #7f7f7f\">               </span>\n",
       "<span style=\"color: #7fbfbf; text-decoration-color: #7fbfbf\">           </span><span style=\"color: #008000; text-decoration-color: #008000\">benefit our operations team. I am available for a call next week. Please let me know a </span>  <span style=\"color: #7f7f7f; text-decoration-color: #7f7f7f\">               </span>\n",
       "<span style=\"color: #7fbfbf; text-decoration-color: #7fbfbf\">           </span><span style=\"color: #008000; text-decoration-color: #008000\">suitable time for you. Best regards, Mr. Neidu'</span>                                          <span style=\"color: #7f7f7f; text-decoration-color: #7f7f7f\">               </span>\n",
       "<span style=\"color: #7fbfbf; text-decoration-color: #7fbfbf\">           </span>    <span style=\"font-weight: bold\">}</span>                                                                                    <span style=\"color: #7f7f7f; text-decoration-color: #7f7f7f\">               </span>\n",
       "<span style=\"color: #7fbfbf; text-decoration-color: #7fbfbf\">           </span><span style=\"font-weight: bold\">}</span>                                                                                        <span style=\"color: #7f7f7f; text-decoration-color: #7f7f7f\">               </span>\n",
       "</pre>\n"
      ],
      "text/plain": [
       "\u001b[2;36m[18:49:03]\u001b[0m\u001b[2;36m \u001b[0m\u001b[1m{\u001b[0m                                                                                        \u001b]8;id=901086;file:///var/folders/ny/dl75sc_x2tb54lsymt5bh5p00000gn/T/ipykernel_50315/3114795956.py\u001b\\\u001b[2m3114795956.py\u001b[0m\u001b]8;;\u001b\\\u001b[2m:\u001b[0m\u001b]8;id=683580;file:///var/folders/ny/dl75sc_x2tb54lsymt5bh5p00000gn/T/ipykernel_50315/3114795956.py#1\u001b\\\u001b[2m1\u001b[0m\u001b]8;;\u001b\\\n",
       "\u001b[2;36m           \u001b[0m    \u001b[32m'email'\u001b[0m: \u001b[1m{\u001b[0m                                                                           \u001b[2m               \u001b[0m\n",
       "\u001b[2;36m           \u001b[0m        \u001b[32m'sender'\u001b[0m: \u001b[32m'john.smith@example.com'\u001b[0m,                                              \u001b[2m               \u001b[0m\n",
       "\u001b[2;36m           \u001b[0m        \u001b[32m'subject'\u001b[0m: \u001b[32m'Following Up: Quick Idea on Improving Workflow Efficiency'\u001b[0m,          \u001b[2m               \u001b[0m\n",
       "\u001b[2;36m           \u001b[0m        \u001b[32m'body'\u001b[0m: \u001b[32m\"Dear Mr. Neidu, My name is John Smith, and I'm with Innovate Solutions \u001b[0m \u001b[2m               \u001b[0m\n",
       "\u001b[2;36m           \u001b[0m\u001b[32mInc. I'm reaching out because I believe our solution could offer significant value in \u001b[0m   \u001b[2m               \u001b[0m\n",
       "\u001b[2;36m           \u001b[0m\u001b[32mstreamlining your operational workflows. We are conducting brief demos next week, and I \u001b[0m \u001b[2m               \u001b[0m\n",
       "\u001b[2;36m           \u001b[0m\u001b[32mwould welcome the opportunity to show you how our workflow automation platform works and\u001b[0m \u001b[2m               \u001b[0m\n",
       "\u001b[2;36m           \u001b[0m\u001b[32mdiscuss how it might specifically benefit your operations team.Would you be available \u001b[0m   \u001b[2m               \u001b[0m\n",
       "\u001b[2;36m           \u001b[0m\u001b[32mfor a quick, no-obligation introductory call sometime next week to explore this further?\u001b[0m \u001b[2m               \u001b[0m\n",
       "\u001b[2;36m           \u001b[0m\u001b[32mPlease let me know what time works best for you.Thank you for your time and \u001b[0m             \u001b[2m               \u001b[0m\n",
       "\u001b[2;36m           \u001b[0m\u001b[32mconsideration. \\nYours sincerely, John Smith\"\u001b[0m                                            \u001b[2m               \u001b[0m\n",
       "\u001b[2;36m           \u001b[0m    \u001b[1m}\u001b[0m,                                                                                   \u001b[2m               \u001b[0m\n",
       "\u001b[2;36m           \u001b[0m    \u001b[32m'is_spam'\u001b[0m: \u001b[3;91mFalse\u001b[0m,                                                                    \u001b[2m               \u001b[0m\n",
       "\u001b[2;36m           \u001b[0m    \u001b[32m'spam_confidence'\u001b[0m: \u001b[1;36m0.2\u001b[0m,                                                              \u001b[2m               \u001b[0m\n",
       "\u001b[2;36m           \u001b[0m    \u001b[32m'spam_reason'\u001b[0m: \u001b[3;35mNone\u001b[0m,                                                                 \u001b[2m               \u001b[0m\n",
       "\u001b[2;36m           \u001b[0m    \u001b[32m'email_category'\u001b[0m: \u001b[1m<\u001b[0m\u001b[1;95mCategories.REQUEST:\u001b[0m\u001b[39m \u001b[0m\u001b[32m'request'\u001b[0m\u001b[1m>\u001b[0m,                                   \u001b[2m               \u001b[0m\n",
       "\u001b[2;36m           \u001b[0m    \u001b[32m'email_draft'\u001b[0m: \u001b[1m{\u001b[0m                                                                     \u001b[2m               \u001b[0m\n",
       "\u001b[2;36m           \u001b[0m        \u001b[32m'content'\u001b[0m: \u001b[32m'Dear John, Thank you for reaching out and for your interest in our \u001b[0m  \u001b[2m               \u001b[0m\n",
       "\u001b[2;36m           \u001b[0m\u001b[32mworkflow automation platform. I appreciate the opportunity to explore how it might \u001b[0m      \u001b[2m               \u001b[0m\n",
       "\u001b[2;36m           \u001b[0m\u001b[32mbenefit our operations team. I am available for a call next week. Please let me know a \u001b[0m  \u001b[2m               \u001b[0m\n",
       "\u001b[2;36m           \u001b[0m\u001b[32msuitable time for you. Best regards, Mr. Neidu'\u001b[0m                                          \u001b[2m               \u001b[0m\n",
       "\u001b[2;36m           \u001b[0m    \u001b[1m}\u001b[0m                                                                                    \u001b[2m               \u001b[0m\n",
       "\u001b[2;36m           \u001b[0m\u001b[1m}\u001b[0m                                                                                        \u001b[2m               \u001b[0m\n"
      ]
     },
     "metadata": {},
     "output_type": "display_data"
    }
   ],
   "source": [
    "console.log(ham_result)\n",
    "# console.log(ham_result[\"email_draft\"][\"content\"])"
   ]
  },
  {
   "cell_type": "code",
   "execution_count": 22,
   "id": "17c0153d",
   "metadata": {},
   "outputs": [
    {
     "name": "stdout",
     "output_type": "stream",
     "text": [
      "\n",
      "Processing spam email...\n",
      "Alfred is processing an email from 'winner@lottery-intl.com' with subject 'YOU HAVE WON $5,000,000!!!'.\n",
      "\n",
      "\n",
      "Using model: 'mistral/ministral-8b-latest'\n",
      "Alfred has marked the email as spam. \n",
      "Reason: The email contains a prize notification with a request for personal and financial information, which is a common tactic used in phishing scams.. \n",
      "The email has been moved to the spam folder.\n"
     ]
    }
   ],
   "source": [
    "# Process the spam email\n",
    "print(\"\\nProcessing spam email...\")\n",
    "try:\n",
    "    spam_result = await compiled_graph.ainvoke(\n",
    "        {\n",
    "            \"email\": spam_email,\n",
    "            \"is_spam\": None,\n",
    "            \"spam_confidence\": None,\n",
    "            \"spam_reason\": None,\n",
    "            \"email_category\": None,\n",
    "            \"email_draft\": None,\n",
    "            \"messages\": [],\n",
    "        }\n",
    "    )\n",
    "except Exception as e:\n",
    "    print(f\"Error: {e}\")"
   ]
  },
  {
   "cell_type": "code",
   "execution_count": 23,
   "id": "70881d84",
   "metadata": {},
   "outputs": [
    {
     "data": {
      "text/html": [
       "<pre style=\"white-space:pre;overflow-x:auto;line-height:normal;font-family:Menlo,'DejaVu Sans Mono',consolas,'Courier New',monospace\"><span style=\"color: #7fbfbf; text-decoration-color: #7fbfbf\">[18:49:21] </span><span style=\"color: #ffd700; text-decoration-color: #ffd700; font-weight: bold\">{</span><span style=\"color: #ffd700; text-decoration-color: #ffd700\">                                                                                       </span> <a href=\"file:///var/folders/ny/dl75sc_x2tb54lsymt5bh5p00000gn/T/ipykernel_50315/4245628018.py\" target=\"_blank\"><span style=\"color: #7f7f7f; text-decoration-color: #7f7f7f\">4245628018.py</span></a><span style=\"color: #7f7f7f; text-decoration-color: #7f7f7f\">:</span><a href=\"file:///var/folders/ny/dl75sc_x2tb54lsymt5bh5p00000gn/T/ipykernel_50315/4245628018.py#1\" target=\"_blank\"><span style=\"color: #7f7f7f; text-decoration-color: #7f7f7f\">1</span></a>\n",
       "<span style=\"color: #7fbfbf; text-decoration-color: #7fbfbf\">           </span><span style=\"color: #ffd700; text-decoration-color: #ffd700\">    </span><span style=\"color: #008000; text-decoration-color: #008000\">'email'</span><span style=\"color: #ffd700; text-decoration-color: #ffd700\">: </span><span style=\"color: #ffd700; text-decoration-color: #ffd700; font-weight: bold\">{</span><span style=\"color: #ffd700; text-decoration-color: #ffd700\">                                                                          </span> <span style=\"color: #7f7f7f; text-decoration-color: #7f7f7f\">               </span>\n",
       "<span style=\"color: #7fbfbf; text-decoration-color: #7fbfbf\">           </span><span style=\"color: #ffd700; text-decoration-color: #ffd700\">        </span><span style=\"color: #008000; text-decoration-color: #008000\">'sender'</span><span style=\"color: #ffd700; text-decoration-color: #ffd700\">: </span><span style=\"color: #008000; text-decoration-color: #008000\">'winner@lottery-intl.com'</span><span style=\"color: #ffd700; text-decoration-color: #ffd700\">,                                            </span> <span style=\"color: #7f7f7f; text-decoration-color: #7f7f7f\">               </span>\n",
       "<span style=\"color: #7fbfbf; text-decoration-color: #7fbfbf\">           </span><span style=\"color: #ffd700; text-decoration-color: #ffd700\">        </span><span style=\"color: #008000; text-decoration-color: #008000\">'subject'</span><span style=\"color: #ffd700; text-decoration-color: #ffd700\">: </span><span style=\"color: #008000; text-decoration-color: #008000\">'YOU HAVE WON $5,000,000!!!'</span><span style=\"color: #ffd700; text-decoration-color: #ffd700\">,                                        </span> <span style=\"color: #7f7f7f; text-decoration-color: #7f7f7f\">               </span>\n",
       "<span style=\"color: #7fbfbf; text-decoration-color: #7fbfbf\">           </span><span style=\"color: #ffd700; text-decoration-color: #ffd700\">        </span><span style=\"color: #008000; text-decoration-color: #008000\">'body'</span><span style=\"color: #ffd700; text-decoration-color: #ffd700\">: </span><span style=\"color: #008000; text-decoration-color: #008000\">'CONGRATULATIONS! You have been selected as the winner of our </span><span style=\"color: #ffd700; text-decoration-color: #ffd700\">          </span> <span style=\"color: #7f7f7f; text-decoration-color: #7f7f7f\">               </span>\n",
       "<span style=\"color: #7fbfbf; text-decoration-color: #7fbfbf\">           </span><span style=\"color: #008000; text-decoration-color: #008000\">international lottery! To claim your $5,000,000 prize, please send us your bank details </span> <span style=\"color: #7f7f7f; text-decoration-color: #7f7f7f\">               </span>\n",
       "<span style=\"color: #7fbfbf; text-decoration-color: #7fbfbf\">           </span><span style=\"color: #008000; text-decoration-color: #008000\">and a processing fee of $100.'</span><span style=\"color: #ffd700; text-decoration-color: #ffd700\">                                                          </span> <span style=\"color: #7f7f7f; text-decoration-color: #7f7f7f\">               </span>\n",
       "<span style=\"color: #7fbfbf; text-decoration-color: #7fbfbf\">           </span><span style=\"color: #ffd700; text-decoration-color: #ffd700\">    </span><span style=\"color: #ffd700; text-decoration-color: #ffd700; font-weight: bold\">}</span><span style=\"color: #ffd700; text-decoration-color: #ffd700\">,                                                                                  </span> <span style=\"color: #7f7f7f; text-decoration-color: #7f7f7f\">               </span>\n",
       "<span style=\"color: #7fbfbf; text-decoration-color: #7fbfbf\">           </span><span style=\"color: #ffd700; text-decoration-color: #ffd700\">    </span><span style=\"color: #008000; text-decoration-color: #008000\">'is_spam'</span><span style=\"color: #ffd700; text-decoration-color: #ffd700\">: </span><span style=\"color: #00ff00; text-decoration-color: #00ff00; font-style: italic\">True</span><span style=\"color: #ffd700; text-decoration-color: #ffd700\">,                                                                    </span> <span style=\"color: #7f7f7f; text-decoration-color: #7f7f7f\">               </span>\n",
       "<span style=\"color: #7fbfbf; text-decoration-color: #7fbfbf\">           </span><span style=\"color: #ffd700; text-decoration-color: #ffd700\">    </span><span style=\"color: #008000; text-decoration-color: #008000\">'spam_confidence'</span><span style=\"color: #ffd700; text-decoration-color: #ffd700\">: </span><span style=\"color: #008080; text-decoration-color: #008080; font-weight: bold\">1.0</span><span style=\"color: #ffd700; text-decoration-color: #ffd700\">,                                                             </span> <span style=\"color: #7f7f7f; text-decoration-color: #7f7f7f\">               </span>\n",
       "<span style=\"color: #7fbfbf; text-decoration-color: #7fbfbf\">           </span><span style=\"color: #ffd700; text-decoration-color: #ffd700\">    </span><span style=\"color: #008000; text-decoration-color: #008000\">'spam_reason'</span><span style=\"color: #ffd700; text-decoration-color: #ffd700\">: </span><span style=\"color: #008000; text-decoration-color: #008000\">'The email contains a prize notification with a request for personal </span> <span style=\"color: #7f7f7f; text-decoration-color: #7f7f7f\">               </span>\n",
       "<span style=\"color: #7fbfbf; text-decoration-color: #7fbfbf\">           </span><span style=\"color: #008000; text-decoration-color: #008000\">and financial information, which is a common tactic used in phishing scams.'</span><span style=\"color: #ffd700; text-decoration-color: #ffd700\">,           </span> <span style=\"color: #7f7f7f; text-decoration-color: #7f7f7f\">               </span>\n",
       "<span style=\"color: #7fbfbf; text-decoration-color: #7fbfbf\">           </span><span style=\"color: #ffd700; text-decoration-color: #ffd700\">    </span><span style=\"color: #008000; text-decoration-color: #008000\">'email_category'</span><span style=\"color: #ffd700; text-decoration-color: #ffd700\">: </span><span style=\"color: #ffd700; text-decoration-color: #ffd700; font-weight: bold\">&lt;</span><span style=\"color: #ff00ff; text-decoration-color: #ff00ff; font-weight: bold\">Categories.OTHER:</span><span style=\"color: #000000; text-decoration-color: #000000\"> </span><span style=\"color: #008000; text-decoration-color: #008000\">'other'</span><span style=\"color: #ffd700; text-decoration-color: #ffd700; font-weight: bold\">&gt;</span><span style=\"color: #ffd700; text-decoration-color: #ffd700\">,                                      </span> <span style=\"color: #7f7f7f; text-decoration-color: #7f7f7f\">               </span>\n",
       "<span style=\"color: #7fbfbf; text-decoration-color: #7fbfbf\">           </span><span style=\"color: #ffd700; text-decoration-color: #ffd700\">    </span><span style=\"color: #008000; text-decoration-color: #008000\">'email_draft'</span><span style=\"color: #ffd700; text-decoration-color: #ffd700\">: </span><span style=\"color: #800080; text-decoration-color: #800080; font-style: italic\">None</span><span style=\"color: #ffd700; text-decoration-color: #ffd700\">                                                                 </span> <span style=\"color: #7f7f7f; text-decoration-color: #7f7f7f\">               </span>\n",
       "<span style=\"color: #7fbfbf; text-decoration-color: #7fbfbf\">           </span><span style=\"color: #ffd700; text-decoration-color: #ffd700; font-weight: bold\">}</span><span style=\"color: #ffd700; text-decoration-color: #ffd700\">                                                                                       </span> <span style=\"color: #7f7f7f; text-decoration-color: #7f7f7f\">               </span>\n",
       "</pre>\n"
      ],
      "text/plain": [
       "\u001b[2;36m[18:49:21]\u001b[0m\u001b[2;36m \u001b[0m\u001b[1;38;2;255;215;0m{\u001b[0m\u001b[38;2;255;215;0m                                                                                       \u001b[0m \u001b]8;id=346160;file:///var/folders/ny/dl75sc_x2tb54lsymt5bh5p00000gn/T/ipykernel_50315/4245628018.py\u001b\\\u001b[2m4245628018.py\u001b[0m\u001b]8;;\u001b\\\u001b[2m:\u001b[0m\u001b]8;id=706274;file:///var/folders/ny/dl75sc_x2tb54lsymt5bh5p00000gn/T/ipykernel_50315/4245628018.py#1\u001b\\\u001b[2m1\u001b[0m\u001b]8;;\u001b\\\n",
       "\u001b[2;36m           \u001b[0m\u001b[38;2;255;215;0m    \u001b[0m\u001b[32m'email'\u001b[0m\u001b[38;2;255;215;0m: \u001b[0m\u001b[1;38;2;255;215;0m{\u001b[0m\u001b[38;2;255;215;0m                                                                          \u001b[0m \u001b[2m               \u001b[0m\n",
       "\u001b[2;36m           \u001b[0m\u001b[38;2;255;215;0m        \u001b[0m\u001b[32m'sender'\u001b[0m\u001b[38;2;255;215;0m: \u001b[0m\u001b[32m'winner@lottery-intl.com'\u001b[0m\u001b[38;2;255;215;0m,                                            \u001b[0m \u001b[2m               \u001b[0m\n",
       "\u001b[2;36m           \u001b[0m\u001b[38;2;255;215;0m        \u001b[0m\u001b[32m'subject'\u001b[0m\u001b[38;2;255;215;0m: \u001b[0m\u001b[32m'YOU HAVE WON $5,000,000!!!'\u001b[0m\u001b[38;2;255;215;0m,                                        \u001b[0m \u001b[2m               \u001b[0m\n",
       "\u001b[2;36m           \u001b[0m\u001b[38;2;255;215;0m        \u001b[0m\u001b[32m'body'\u001b[0m\u001b[38;2;255;215;0m: \u001b[0m\u001b[32m'CONGRATULATIONS! You have been selected as the winner of our \u001b[0m\u001b[38;2;255;215;0m          \u001b[0m \u001b[2m               \u001b[0m\n",
       "\u001b[2;36m           \u001b[0m\u001b[32minternational lottery! To claim your $5,000,000 prize, please send us your bank details \u001b[0m \u001b[2m               \u001b[0m\n",
       "\u001b[2;36m           \u001b[0m\u001b[32mand a processing fee of $100.'\u001b[0m\u001b[38;2;255;215;0m                                                          \u001b[0m \u001b[2m               \u001b[0m\n",
       "\u001b[2;36m           \u001b[0m\u001b[38;2;255;215;0m    \u001b[0m\u001b[1;38;2;255;215;0m}\u001b[0m\u001b[38;2;255;215;0m,                                                                                  \u001b[0m \u001b[2m               \u001b[0m\n",
       "\u001b[2;36m           \u001b[0m\u001b[38;2;255;215;0m    \u001b[0m\u001b[32m'is_spam'\u001b[0m\u001b[38;2;255;215;0m: \u001b[0m\u001b[3;92mTrue\u001b[0m\u001b[38;2;255;215;0m,                                                                    \u001b[0m \u001b[2m               \u001b[0m\n",
       "\u001b[2;36m           \u001b[0m\u001b[38;2;255;215;0m    \u001b[0m\u001b[32m'spam_confidence'\u001b[0m\u001b[38;2;255;215;0m: \u001b[0m\u001b[1;36m1.0\u001b[0m\u001b[38;2;255;215;0m,                                                             \u001b[0m \u001b[2m               \u001b[0m\n",
       "\u001b[2;36m           \u001b[0m\u001b[38;2;255;215;0m    \u001b[0m\u001b[32m'spam_reason'\u001b[0m\u001b[38;2;255;215;0m: \u001b[0m\u001b[32m'The email contains a prize notification with a request for personal \u001b[0m \u001b[2m               \u001b[0m\n",
       "\u001b[2;36m           \u001b[0m\u001b[32mand financial information, which is a common tactic used in phishing scams.'\u001b[0m\u001b[38;2;255;215;0m,           \u001b[0m \u001b[2m               \u001b[0m\n",
       "\u001b[2;36m           \u001b[0m\u001b[38;2;255;215;0m    \u001b[0m\u001b[32m'email_category'\u001b[0m\u001b[38;2;255;215;0m: \u001b[0m\u001b[1;38;2;255;215;0m<\u001b[0m\u001b[1;95mCategories.OTHER:\u001b[0m\u001b[39m \u001b[0m\u001b[32m'other'\u001b[0m\u001b[1;38;2;255;215;0m>\u001b[0m\u001b[38;2;255;215;0m,                                      \u001b[0m \u001b[2m               \u001b[0m\n",
       "\u001b[2;36m           \u001b[0m\u001b[38;2;255;215;0m    \u001b[0m\u001b[32m'email_draft'\u001b[0m\u001b[38;2;255;215;0m: \u001b[0m\u001b[3;35mNone\u001b[0m\u001b[38;2;255;215;0m                                                                 \u001b[0m \u001b[2m               \u001b[0m\n",
       "\u001b[2;36m           \u001b[0m\u001b[1;38;2;255;215;0m}\u001b[0m\u001b[38;2;255;215;0m                                                                                       \u001b[0m \u001b[2m               \u001b[0m\n"
      ]
     },
     "metadata": {},
     "output_type": "display_data"
    }
   ],
   "source": [
    "console.log(spam_result, style=\"warning\")"
   ]
  },
  {
   "cell_type": "code",
   "execution_count": null,
   "id": "06f9e5d4",
   "metadata": {},
   "outputs": [],
   "source": []
  },
  {
   "cell_type": "markdown",
   "id": "5d7c0e1b",
   "metadata": {},
   "source": [
    "## Visualize Graph"
   ]
  },
  {
   "cell_type": "code",
   "execution_count": 24,
   "id": "cc04c957",
   "metadata": {},
   "outputs": [
    {
     "data": {
      "image/png": "[encoded data removed]",
      "text/plain": [
       "<IPython.core.display.Image object>"
      ]
     },
     "execution_count": 24,
     "metadata": {},
     "output_type": "execute_result"
    }
   ],
   "source": [
    "# uv add pygraphviz or pip install pygraphviz\n",
    "from IPython.display import Image\n",
    "\n",
    "Image(compiled_graph.get_graph().draw_png())"
   ]
  },
  {
   "cell_type": "code",
   "execution_count": null,
   "id": "06266f5e",
   "metadata": {},
   "outputs": [],
   "source": []
  },
  {
   "cell_type": "markdown",
   "id": "e288a96b",
   "metadata": {},
   "source": [
    "## Observability\n",
    "\n",
    "- Using [LangFuse](https://github.com/langfuse/langfuse)"
   ]
  },
  {
   "cell_type": "code",
   "execution_count": 25,
   "id": "7c693961",
   "metadata": {},
   "outputs": [
    {
     "name": "stdout",
     "output_type": "stream",
     "text": [
      "Alfred is processing an email from 'john.smith@example.com' with subject 'Following Up: Quick Idea on Improving Workflow Efficiency'.\n",
      "\n",
      "\n",
      "Using model: 'mistral/ministral-8b-latest'\n",
      "Using model: 'mistral/ministral-8b-latest'\n",
      "\n",
      "================================================================================\n",
      "Sir, you've received an email from john.smith@example.com.\n",
      "Subject: Following Up: Quick Idea on Improving Workflow Efficiency\n",
      "Category: Categories.REQUEST\n",
      "\n",
      "I've drafted a response for your review.\n",
      "--------------------------------------------------------------------------------\n",
      "{'content': 'Dear John, Thank you for reaching out and for your interest in our workflow automation platform. I appreciate the opportunity to explore how it might benefit our operations team. I am available for a call next week. Please let me know a suitable time for you. Best regards, Mr. Neidu'}\n",
      "================================================================================\n",
      "\n"
     ]
    }
   ],
   "source": [
    "from langfuse.callback import CallbackHandler\n",
    "\n",
    "langfuse_handler = CallbackHandler()\n",
    "\n",
    "\n",
    "# Process a legitimate email\n",
    "ham_email_result = await compiled_graph.ainvoke(\n",
    "    input={\n",
    "        \"email\": ham_email_2,\n",
    "        \"is_spam\": None,\n",
    "        \"spam_confidence\": None,\n",
    "        \"spam_reason\": None,\n",
    "        \"email_category\": None,\n",
    "        \"email_draft\": None,\n",
    "        \"messages\": [],\n",
    "    },\n",
    "    config={\"callbacks\": [langfuse_handler]},\n",
    ")"
   ]
  },
  {
   "cell_type": "code",
   "execution_count": 26,
   "id": "68b0ed0b",
   "metadata": {},
   "outputs": [
    {
     "data": {
      "text/html": [
       "<pre style=\"white-space:pre;overflow-x:auto;line-height:normal;font-family:Menlo,'DejaVu Sans Mono',consolas,'Courier New',monospace\"><span style=\"color: #7fbfbf; text-decoration-color: #7fbfbf\">[18:59:35] </span><span style=\"font-weight: bold\">{</span>                                                                                        <a href=\"file:///var/folders/ny/dl75sc_x2tb54lsymt5bh5p00000gn/T/ipykernel_50315/1006431097.py\" target=\"_blank\"><span style=\"color: #7f7f7f; text-decoration-color: #7f7f7f\">1006431097.py</span></a><span style=\"color: #7f7f7f; text-decoration-color: #7f7f7f\">:</span><a href=\"file:///var/folders/ny/dl75sc_x2tb54lsymt5bh5p00000gn/T/ipykernel_50315/1006431097.py#1\" target=\"_blank\"><span style=\"color: #7f7f7f; text-decoration-color: #7f7f7f\">1</span></a>\n",
       "<span style=\"color: #7fbfbf; text-decoration-color: #7fbfbf\">           </span>    <span style=\"color: #008000; text-decoration-color: #008000\">'email'</span>: <span style=\"font-weight: bold\">{</span>                                                                           <span style=\"color: #7f7f7f; text-decoration-color: #7f7f7f\">               </span>\n",
       "<span style=\"color: #7fbfbf; text-decoration-color: #7fbfbf\">           </span>        <span style=\"color: #008000; text-decoration-color: #008000\">'sender'</span>: <span style=\"color: #008000; text-decoration-color: #008000\">'john.smith@example.com'</span>,                                              <span style=\"color: #7f7f7f; text-decoration-color: #7f7f7f\">               </span>\n",
       "<span style=\"color: #7fbfbf; text-decoration-color: #7fbfbf\">           </span>        <span style=\"color: #008000; text-decoration-color: #008000\">'subject'</span>: <span style=\"color: #008000; text-decoration-color: #008000\">'Following Up: Quick Idea on Improving Workflow Efficiency'</span>,          <span style=\"color: #7f7f7f; text-decoration-color: #7f7f7f\">               </span>\n",
       "<span style=\"color: #7fbfbf; text-decoration-color: #7fbfbf\">           </span>        <span style=\"color: #008000; text-decoration-color: #008000\">'body'</span>: <span style=\"color: #008000; text-decoration-color: #008000\">\"Dear Mr. Neidu, My name is John Smith, and I'm with Innovate Solutions </span> <span style=\"color: #7f7f7f; text-decoration-color: #7f7f7f\">               </span>\n",
       "<span style=\"color: #7fbfbf; text-decoration-color: #7fbfbf\">           </span><span style=\"color: #008000; text-decoration-color: #008000\">Inc. I'm reaching out because I believe our solution could offer significant value in </span>   <span style=\"color: #7f7f7f; text-decoration-color: #7f7f7f\">               </span>\n",
       "<span style=\"color: #7fbfbf; text-decoration-color: #7fbfbf\">           </span><span style=\"color: #008000; text-decoration-color: #008000\">streamlining your operational workflows. We are conducting brief demos next week, and I </span> <span style=\"color: #7f7f7f; text-decoration-color: #7f7f7f\">               </span>\n",
       "<span style=\"color: #7fbfbf; text-decoration-color: #7fbfbf\">           </span><span style=\"color: #008000; text-decoration-color: #008000\">would welcome the opportunity to show you how our workflow automation platform works and</span> <span style=\"color: #7f7f7f; text-decoration-color: #7f7f7f\">               </span>\n",
       "<span style=\"color: #7fbfbf; text-decoration-color: #7fbfbf\">           </span><span style=\"color: #008000; text-decoration-color: #008000\">discuss how it might specifically benefit your operations team.Would you be available </span>   <span style=\"color: #7f7f7f; text-decoration-color: #7f7f7f\">               </span>\n",
       "<span style=\"color: #7fbfbf; text-decoration-color: #7fbfbf\">           </span><span style=\"color: #008000; text-decoration-color: #008000\">for a quick, no-obligation introductory call sometime next week to explore this further?</span> <span style=\"color: #7f7f7f; text-decoration-color: #7f7f7f\">               </span>\n",
       "<span style=\"color: #7fbfbf; text-decoration-color: #7fbfbf\">           </span><span style=\"color: #008000; text-decoration-color: #008000\">Please let me know what time works best for you.Thank you for your time and </span>             <span style=\"color: #7f7f7f; text-decoration-color: #7f7f7f\">               </span>\n",
       "<span style=\"color: #7fbfbf; text-decoration-color: #7fbfbf\">           </span><span style=\"color: #008000; text-decoration-color: #008000\">consideration. \\nYours sincerely, John Smith\"</span>                                            <span style=\"color: #7f7f7f; text-decoration-color: #7f7f7f\">               </span>\n",
       "<span style=\"color: #7fbfbf; text-decoration-color: #7fbfbf\">           </span>    <span style=\"font-weight: bold\">}</span>,                                                                                   <span style=\"color: #7f7f7f; text-decoration-color: #7f7f7f\">               </span>\n",
       "<span style=\"color: #7fbfbf; text-decoration-color: #7fbfbf\">           </span>    <span style=\"color: #008000; text-decoration-color: #008000\">'is_spam'</span>: <span style=\"color: #ff0000; text-decoration-color: #ff0000; font-style: italic\">False</span>,                                                                    <span style=\"color: #7f7f7f; text-decoration-color: #7f7f7f\">               </span>\n",
       "<span style=\"color: #7fbfbf; text-decoration-color: #7fbfbf\">           </span>    <span style=\"color: #008000; text-decoration-color: #008000\">'spam_confidence'</span>: <span style=\"color: #008080; text-decoration-color: #008080; font-weight: bold\">0.2</span>,                                                              <span style=\"color: #7f7f7f; text-decoration-color: #7f7f7f\">               </span>\n",
       "<span style=\"color: #7fbfbf; text-decoration-color: #7fbfbf\">           </span>    <span style=\"color: #008000; text-decoration-color: #008000\">'spam_reason'</span>: <span style=\"color: #800080; text-decoration-color: #800080; font-style: italic\">None</span>,                                                                 <span style=\"color: #7f7f7f; text-decoration-color: #7f7f7f\">               </span>\n",
       "<span style=\"color: #7fbfbf; text-decoration-color: #7fbfbf\">           </span>    <span style=\"color: #008000; text-decoration-color: #008000\">'email_category'</span>: <span style=\"font-weight: bold\">&lt;</span><span style=\"color: #ff00ff; text-decoration-color: #ff00ff; font-weight: bold\">Categories.REQUEST:</span><span style=\"color: #000000; text-decoration-color: #000000\"> </span><span style=\"color: #008000; text-decoration-color: #008000\">'request'</span><span style=\"font-weight: bold\">&gt;</span>,                                   <span style=\"color: #7f7f7f; text-decoration-color: #7f7f7f\">               </span>\n",
       "<span style=\"color: #7fbfbf; text-decoration-color: #7fbfbf\">           </span>    <span style=\"color: #008000; text-decoration-color: #008000\">'email_draft'</span>: <span style=\"font-weight: bold\">{</span>                                                                     <span style=\"color: #7f7f7f; text-decoration-color: #7f7f7f\">               </span>\n",
       "<span style=\"color: #7fbfbf; text-decoration-color: #7fbfbf\">           </span>        <span style=\"color: #008000; text-decoration-color: #008000\">'content'</span>: <span style=\"color: #008000; text-decoration-color: #008000\">'Dear John, Thank you for reaching out and for your interest in our </span>  <span style=\"color: #7f7f7f; text-decoration-color: #7f7f7f\">               </span>\n",
       "<span style=\"color: #7fbfbf; text-decoration-color: #7fbfbf\">           </span><span style=\"color: #008000; text-decoration-color: #008000\">workflow automation platform. I appreciate the opportunity to explore how it might </span>      <span style=\"color: #7f7f7f; text-decoration-color: #7f7f7f\">               </span>\n",
       "<span style=\"color: #7fbfbf; text-decoration-color: #7fbfbf\">           </span><span style=\"color: #008000; text-decoration-color: #008000\">benefit our operations team. I am available for a call next week. Please let me know a </span>  <span style=\"color: #7f7f7f; text-decoration-color: #7f7f7f\">               </span>\n",
       "<span style=\"color: #7fbfbf; text-decoration-color: #7fbfbf\">           </span><span style=\"color: #008000; text-decoration-color: #008000\">suitable time for you. Best regards, Mr. Neidu'</span>                                          <span style=\"color: #7f7f7f; text-decoration-color: #7f7f7f\">               </span>\n",
       "<span style=\"color: #7fbfbf; text-decoration-color: #7fbfbf\">           </span>    <span style=\"font-weight: bold\">}</span>                                                                                    <span style=\"color: #7f7f7f; text-decoration-color: #7f7f7f\">               </span>\n",
       "<span style=\"color: #7fbfbf; text-decoration-color: #7fbfbf\">           </span><span style=\"font-weight: bold\">}</span>                                                                                        <span style=\"color: #7f7f7f; text-decoration-color: #7f7f7f\">               </span>\n",
       "</pre>\n"
      ],
      "text/plain": [
       "\u001b[2;36m[18:59:35]\u001b[0m\u001b[2;36m \u001b[0m\u001b[1m{\u001b[0m                                                                                        \u001b]8;id=122722;file:///var/folders/ny/dl75sc_x2tb54lsymt5bh5p00000gn/T/ipykernel_50315/1006431097.py\u001b\\\u001b[2m1006431097.py\u001b[0m\u001b]8;;\u001b\\\u001b[2m:\u001b[0m\u001b]8;id=367366;file:///var/folders/ny/dl75sc_x2tb54lsymt5bh5p00000gn/T/ipykernel_50315/1006431097.py#1\u001b\\\u001b[2m1\u001b[0m\u001b]8;;\u001b\\\n",
       "\u001b[2;36m           \u001b[0m    \u001b[32m'email'\u001b[0m: \u001b[1m{\u001b[0m                                                                           \u001b[2m               \u001b[0m\n",
       "\u001b[2;36m           \u001b[0m        \u001b[32m'sender'\u001b[0m: \u001b[32m'john.smith@example.com'\u001b[0m,                                              \u001b[2m               \u001b[0m\n",
       "\u001b[2;36m           \u001b[0m        \u001b[32m'subject'\u001b[0m: \u001b[32m'Following Up: Quick Idea on Improving Workflow Efficiency'\u001b[0m,          \u001b[2m               \u001b[0m\n",
       "\u001b[2;36m           \u001b[0m        \u001b[32m'body'\u001b[0m: \u001b[32m\"Dear Mr. Neidu, My name is John Smith, and I'm with Innovate Solutions \u001b[0m \u001b[2m               \u001b[0m\n",
       "\u001b[2;36m           \u001b[0m\u001b[32mInc. I'm reaching out because I believe our solution could offer significant value in \u001b[0m   \u001b[2m               \u001b[0m\n",
       "\u001b[2;36m           \u001b[0m\u001b[32mstreamlining your operational workflows. We are conducting brief demos next week, and I \u001b[0m \u001b[2m               \u001b[0m\n",
       "\u001b[2;36m           \u001b[0m\u001b[32mwould welcome the opportunity to show you how our workflow automation platform works and\u001b[0m \u001b[2m               \u001b[0m\n",
       "\u001b[2;36m           \u001b[0m\u001b[32mdiscuss how it might specifically benefit your operations team.Would you be available \u001b[0m   \u001b[2m               \u001b[0m\n",
       "\u001b[2;36m           \u001b[0m\u001b[32mfor a quick, no-obligation introductory call sometime next week to explore this further?\u001b[0m \u001b[2m               \u001b[0m\n",
       "\u001b[2;36m           \u001b[0m\u001b[32mPlease let me know what time works best for you.Thank you for your time and \u001b[0m             \u001b[2m               \u001b[0m\n",
       "\u001b[2;36m           \u001b[0m\u001b[32mconsideration. \\nYours sincerely, John Smith\"\u001b[0m                                            \u001b[2m               \u001b[0m\n",
       "\u001b[2;36m           \u001b[0m    \u001b[1m}\u001b[0m,                                                                                   \u001b[2m               \u001b[0m\n",
       "\u001b[2;36m           \u001b[0m    \u001b[32m'is_spam'\u001b[0m: \u001b[3;91mFalse\u001b[0m,                                                                    \u001b[2m               \u001b[0m\n",
       "\u001b[2;36m           \u001b[0m    \u001b[32m'spam_confidence'\u001b[0m: \u001b[1;36m0.2\u001b[0m,                                                              \u001b[2m               \u001b[0m\n",
       "\u001b[2;36m           \u001b[0m    \u001b[32m'spam_reason'\u001b[0m: \u001b[3;35mNone\u001b[0m,                                                                 \u001b[2m               \u001b[0m\n",
       "\u001b[2;36m           \u001b[0m    \u001b[32m'email_category'\u001b[0m: \u001b[1m<\u001b[0m\u001b[1;95mCategories.REQUEST:\u001b[0m\u001b[39m \u001b[0m\u001b[32m'request'\u001b[0m\u001b[1m>\u001b[0m,                                   \u001b[2m               \u001b[0m\n",
       "\u001b[2;36m           \u001b[0m    \u001b[32m'email_draft'\u001b[0m: \u001b[1m{\u001b[0m                                                                     \u001b[2m               \u001b[0m\n",
       "\u001b[2;36m           \u001b[0m        \u001b[32m'content'\u001b[0m: \u001b[32m'Dear John, Thank you for reaching out and for your interest in our \u001b[0m  \u001b[2m               \u001b[0m\n",
       "\u001b[2;36m           \u001b[0m\u001b[32mworkflow automation platform. I appreciate the opportunity to explore how it might \u001b[0m      \u001b[2m               \u001b[0m\n",
       "\u001b[2;36m           \u001b[0m\u001b[32mbenefit our operations team. I am available for a call next week. Please let me know a \u001b[0m  \u001b[2m               \u001b[0m\n",
       "\u001b[2;36m           \u001b[0m\u001b[32msuitable time for you. Best regards, Mr. Neidu'\u001b[0m                                          \u001b[2m               \u001b[0m\n",
       "\u001b[2;36m           \u001b[0m    \u001b[1m}\u001b[0m                                                                                    \u001b[2m               \u001b[0m\n",
       "\u001b[2;36m           \u001b[0m\u001b[1m}\u001b[0m                                                                                        \u001b[2m               \u001b[0m\n"
      ]
     },
     "metadata": {},
     "output_type": "display_data"
    }
   ],
   "source": [
    "console.log(ham_email_result)"
   ]
  },
  {
   "cell_type": "code",
   "execution_count": null,
   "id": "c03cdb14",
   "metadata": {},
   "outputs": [],
   "source": []
  },
  {
   "cell_type": "code",
   "execution_count": null,
   "id": "3fc20cb8",
   "metadata": {},
   "outputs": [],
   "source": []
  },
  {
   "cell_type": "code",
   "execution_count": null,
   "id": "9372e722",
   "metadata": {},
   "outputs": [],
   "source": []
  },
  {
   "cell_type": "code",
   "execution_count": null,
   "id": "d80eeca2",
   "metadata": {},
   "outputs": [],
   "source": []
  },
  {
   "cell_type": "code",
   "execution_count": null,
   "id": "f9be9e82",
   "metadata": {},
   "outputs": [],
   "source": []
  },
  {
   "cell_type": "code",
   "execution_count": null,
   "id": "f56d77b7",
   "metadata": {},
   "outputs": [],
   "source": []
  }
 ],
 "metadata": {
  "kernelspec": {
   "display_name": "ai-tutorials",
   "language": "python",
   "name": "python3"
  },
  "language_info": {
   "codemirror_mode": {
    "name": "ipython",
    "version": 3
   },
   "file_extension": ".py",
   "mimetype": "text/x-python",
   "name": "python",
   "nbconvert_exporter": "python",
   "pygments_lexer": "ipython3",
   "version": "3.12.7"
  }
 },
 "nbformat": 4,
 "nbformat_minor": 5
}
